{
  "nbformat": 4,
  "nbformat_minor": 0,
  "metadata": {
    "colab": {
      "name": "nelagt.ipynb",
      "provenance": [],
      "collapsed_sections": [],
      "authorship_tag": "ABX9TyNBaRZP5yYQogH1i1Dv32qv"
    },
    "kernelspec": {
      "name": "python3",
      "display_name": "Python 3"
    }
  },
  "cells": [
    {
      "cell_type": "markdown",
      "metadata": {
        "id": "lMh5vSnCBX9g"
      },
      "source": [
        "# Import Libraries"
      ]
    },
    {
      "cell_type": "code",
      "metadata": {
        "id": "Xl8kA2Vvh-1v"
      },
      "source": [
        "import pandas as pd\r\n",
        "import numpy as np\r\n",
        "import seaborn as sb\r\n",
        "import nltk\r\n",
        "import re\r\n",
        "import matplotlib.pyplot as plt\r\n",
        "# Import word_tokenize and stopwords from nltk\r\n",
        "from nltk.corpus import stopwords\r\n",
        "from nltk.tokenize import word_tokenize\r\n",
        "from nltk.stem import WordNetLemmatizer\r\n",
        "\r\n",
        "from sklearn.feature_extraction.text import CountVectorizer\r\n",
        "from sklearn.feature_extraction.text import TfidfTransformer, TfidfVectorizer\r\n",
        "\r\n",
        "import nltk\r\n",
        "import nltk.corpus\r\n",
        "import string\r\n",
        "from gensim.models.word2vec import Word2Vec\r\n",
        "from sklearn.pipeline import Pipeline\r\n",
        "\r\n",
        "\r\n",
        "from sklearn.linear_model import LogisticRegression\r\n",
        "from sklearn.tree import DecisionTreeClassifier\r\n",
        "from sklearn.ensemble import RandomForestClassifier\r\n",
        "from sklearn.naive_bayes import MultinomialNB\r\n",
        "from sklearn import svm\r\n",
        "from sklearn.svm import LinearSVC\r\n",
        "from sklearn.model_selection import cross_validate\r\n",
        "\r\n",
        "from sklearn.metrics import confusion_matrix, f1_score, classification_report, accuracy_score"
      ],
      "execution_count": null,
      "outputs": []
    },
    {
      "cell_type": "code",
      "metadata": {
        "id": "F4XKMprejSpt"
      },
      "source": [
        "from keras.models import Model\r\n",
        "from keras.layers import LSTM, Activation, Dense, Dropout, Input, Embedding\r\n",
        "from keras.optimizers import RMSprop\r\n",
        "from keras.preprocessing.text import Tokenizer\r\n",
        "from keras.preprocessing import sequence\r\n",
        "from keras.utils import to_categorical\r\n",
        "from keras.callbacks import EarlyStopping\r\n",
        "from tensorflow.keras.models import Sequential"
      ],
      "execution_count": null,
      "outputs": []
    },
    {
      "cell_type": "code",
      "metadata": {
        "colab": {
          "base_uri": "https://localhost:8080/"
        },
        "id": "UWmwN3UYGXNf",
        "outputId": "0e2a9454-843d-49f3-e092-f30cde1f109d"
      },
      "source": [
        "import nltk\r\n",
        "\r\n",
        "nltk.download('stopwords')\r\n",
        "nltk.download('wordnet')\r\n",
        "nltk.download('punkt')\r\n",
        "nltk.download('averaged_perceptron_tagger')\r\n",
        "nltk.download('maxent_ne_chunker')\r\n",
        "nltk.download('words')"
      ],
      "execution_count": null,
      "outputs": [
        {
          "output_type": "stream",
          "text": [
            "[nltk_data] Downloading package stopwords to /root/nltk_data...\n",
            "[nltk_data]   Unzipping corpora/stopwords.zip.\n",
            "[nltk_data] Downloading package wordnet to /root/nltk_data...\n",
            "[nltk_data]   Unzipping corpora/wordnet.zip.\n",
            "[nltk_data] Downloading package punkt to /root/nltk_data...\n",
            "[nltk_data]   Unzipping tokenizers/punkt.zip.\n",
            "[nltk_data] Downloading package averaged_perceptron_tagger to\n",
            "[nltk_data]     /root/nltk_data...\n",
            "[nltk_data]   Unzipping taggers/averaged_perceptron_tagger.zip.\n",
            "[nltk_data] Downloading package maxent_ne_chunker to\n",
            "[nltk_data]     /root/nltk_data...\n",
            "[nltk_data]   Unzipping chunkers/maxent_ne_chunker.zip.\n",
            "[nltk_data] Downloading package words to /root/nltk_data...\n",
            "[nltk_data]   Unzipping corpora/words.zip.\n"
          ],
          "name": "stdout"
        },
        {
          "output_type": "execute_result",
          "data": {
            "text/plain": [
              "True"
            ]
          },
          "metadata": {
            "tags": []
          },
          "execution_count": 7
        }
      ]
    },
    {
      "cell_type": "markdown",
      "metadata": {
        "id": "khnSZuGcBSS6"
      },
      "source": [
        "# Import dataset"
      ]
    },
    {
      "cell_type": "code",
      "metadata": {
        "id": "EW7reDymjmrD",
        "colab": {
          "base_uri": "https://localhost:8080/"
        },
        "outputId": "5e148090-01ae-41d8-abd8-da645720de4f"
      },
      "source": [
        "from google.colab import drive\r\n",
        "drive.mount('/content/drive')"
      ],
      "execution_count": null,
      "outputs": [
        {
          "output_type": "stream",
          "text": [
            "Mounted at /content/drive\n"
          ],
          "name": "stdout"
        }
      ]
    },
    {
      "cell_type": "code",
      "metadata": {
        "id": "c65RmZE5jvzs"
      },
      "source": [
        "data = pd.read_csv(\"/content/drive/My Drive/nela10sample.csv\")\r\n",
        "data.content=data.content.astype(str)\r\n",
        "data.title=data.title.astype(str)"
      ],
      "execution_count": null,
      "outputs": []
    },
    {
      "cell_type": "code",
      "metadata": {
        "id": "_-F6Azogj4s0"
      },
      "source": [
        "data"
      ],
      "execution_count": null,
      "outputs": []
    },
    {
      "cell_type": "code",
      "metadata": {
        "id": "Trn0XIq1Ckf1"
      },
      "source": [
        "# Concetanate title and content\r\n",
        "data[\"content\"] = data[\"title\"] + \" \" + data[\"content\"]\r\n",
        "\r\n",
        "#Keep only content, Reliability as columns\r\n",
        "data = data.drop(['id','date','source','title','author','url','published','published_utc','collection_utc'],axis=1)"
      ],
      "execution_count": null,
      "outputs": []
    },
    {
      "cell_type": "code",
      "metadata": {
        "id": "P62lqJkMEG-r"
      },
      "source": [
        "data"
      ],
      "execution_count": null,
      "outputs": []
    },
    {
      "cell_type": "code",
      "metadata": {
        "colab": {
          "base_uri": "https://localhost:8080/"
        },
        "id": "E5XpTfViinGG",
        "outputId": "030f1a03-bec0-4d1f-90bf-f20f5d0b6bb0"
      },
      "source": [
        "print (data['Reliability'].value_counts())"
      ],
      "execution_count": null,
      "outputs": [
        {
          "output_type": "stream",
          "text": [
            "2    53276\n",
            "0    49278\n",
            "Name: Reliability, dtype: int64\n"
          ],
          "name": "stdout"
        }
      ]
    },
    {
      "cell_type": "code",
      "metadata": {
        "id": "yWOeu0HIELp5"
      },
      "source": [
        "print (data.content[0])"
      ],
      "execution_count": null,
      "outputs": []
    },
    {
      "cell_type": "code",
      "metadata": {
        "id": "kJdNNF6zXP8M"
      },
      "source": [
        "def rem_noise(text):\r\n",
        "  text = text.translate(str.maketrans('','',string.punctuation))\r\n",
        "\r\n",
        "  text =  re.sub('[0-9]+','',text)\r\n",
        "\r\n",
        "  text = re.sub('https?:\\S+','',text)\r\n",
        "\r\n",
        "  text =  re.sub('<.*?>',\" \",text)\r\n",
        "\r\n",
        "  return text\r\n",
        "\r\n"
      ],
      "execution_count": null,
      "outputs": []
    },
    {
      "cell_type": "code",
      "metadata": {
        "id": "DBz8mp7Yj-L9"
      },
      "source": [
        "stop = set(stopwords.words('english'))\r\n",
        "\r\n",
        "def rem_stopwords(text):\r\n",
        "    \r\n",
        "    words = [ch for ch in text if ch not in stop]\r\n",
        "    words= \"\".join(words).split()\r\n",
        "    words= [words.lower() for words in text.split()]\r\n",
        "    \r\n",
        "    return words      "
      ],
      "execution_count": null,
      "outputs": []
    },
    {
      "cell_type": "code",
      "metadata": {
        "id": "qC8-KMLeFZ4T"
      },
      "source": [
        "def tokenize_statements(text):\r\n",
        "    \r\n",
        "    # Tokenize the words\r\n",
        "    tokenized = word_tokenize(text)\r\n",
        "\r\n",
        "    # Remove the stop words\r\n",
        "    tokenized = [token for token in tokenized if token not in stopwords.words(\"english\")] \r\n",
        "\r\n",
        "    # Lemmatize the words, changing text to lowercase\r\n",
        "    lemmatizer = WordNetLemmatizer()\r\n",
        "    tokenized = [lemmatizer.lemmatize(token.lower(), pos='a') for token in tokenized]\r\n",
        "    \r\n",
        "    return tokenized"
      ],
      "execution_count": null,
      "outputs": []
    },
    {
      "cell_type": "code",
      "metadata": {
        "id": "G7WtV2hJgQbC"
      },
      "source": [
        "data.head"
      ],
      "execution_count": null,
      "outputs": []
    },
    {
      "cell_type": "code",
      "metadata": {
        "id": "vysJWpB5fuPT"
      },
      "source": [
        "df1 = data[:2500]\r\n",
        "df2 = data[-2500:]\r\n",
        "df3 = [df1,df2]\r\n",
        "smallerdf = pd.concat(df3)"
      ],
      "execution_count": null,
      "outputs": []
    },
    {
      "cell_type": "code",
      "metadata": {
        "colab": {
          "base_uri": "https://localhost:8080/"
        },
        "id": "0UNFzauziCoS",
        "outputId": "0cca6a11-4b9e-48da-913b-4fcaaf396346"
      },
      "source": [
        "smallerdf.shape"
      ],
      "execution_count": null,
      "outputs": [
        {
          "output_type": "execute_result",
          "data": {
            "text/plain": [
              "(5000, 2)"
            ]
          },
          "metadata": {
            "tags": []
          },
          "execution_count": 17
        }
      ]
    },
    {
      "cell_type": "code",
      "metadata": {
        "id": "3dnvzoxvgLgN"
      },
      "source": [
        "smallerdf.head"
      ],
      "execution_count": null,
      "outputs": []
    },
    {
      "cell_type": "code",
      "metadata": {
        "id": "93LgyHXxkFK9"
      },
      "source": [
        "preprocessed['content'] = smallerdf['content'].apply(rem_noise)"
      ],
      "execution_count": null,
      "outputs": []
    },
    {
      "cell_type": "code",
      "metadata": {
        "id": "CS5Gid2ukerO"
      },
      "source": [
        "preprocessed['content']"
      ],
      "execution_count": null,
      "outputs": []
    },
    {
      "cell_type": "code",
      "metadata": {
        "id": "jntCYgsQFfBG"
      },
      "source": [
        "# split the dataset into training and testing datasets \r\n",
        "\r\n",
        "from sklearn.model_selection import train_test_split\r\n",
        "X_train, X_test, y_train, y_test = train_test_split(preprocessed['content'], smallerdf['Reliability'], test_size=0.20)"
      ],
      "execution_count": null,
      "outputs": []
    },
    {
      "cell_type": "code",
      "metadata": {
        "id": "opktREAoQzwU"
      },
      "source": [
        "print (X_train)"
      ],
      "execution_count": null,
      "outputs": []
    },
    {
      "cell_type": "code",
      "metadata": {
        "id": "-XqtmntmFvAn"
      },
      "source": [
        "# Apply text pre-processing, then vectorize the text so the models can actually interpret it\r\n",
        "vectorizer = TfidfVectorizer(tokenize_statements)\r\n",
        "x_train_vectorized = vectorizer.fit_transform(X_train)\r\n",
        "x_test_vectorized = vectorizer.transform(X_test)"
      ],
      "execution_count": null,
      "outputs": []
    },
    {
      "cell_type": "code",
      "metadata": {
        "id": "Yize1dh2GGHJ"
      },
      "source": [
        "print (x_train_vectorized.shape)\r\n",
        "print (x_test_vectorized.shape)\r\n",
        "print (y_train.shape)\r\n",
        "print (y_test.shape)"
      ],
      "execution_count": null,
      "outputs": []
    },
    {
      "cell_type": "code",
      "metadata": {
        "id": "kI8Q-L5cZvS5"
      },
      "source": [
        "print(x_train_vectorized)"
      ],
      "execution_count": null,
      "outputs": []
    },
    {
      "cell_type": "markdown",
      "metadata": {
        "id": "GK_BDA0mcAbU"
      },
      "source": [
        "#Logistic Regression"
      ]
    },
    {
      "cell_type": "code",
      "metadata": {
        "colab": {
          "base_uri": "https://localhost:8080/"
        },
        "id": "GO89CU5rJAeh",
        "outputId": "92bde92b-cc04-41e8-808e-005030696ccd"
      },
      "source": [
        "log_reg = LogisticRegression()\r\n",
        "log_reg.fit(x_train_vectorized, y_train)\r\n",
        "logR_predicted = log_reg.predict(x_test_vectorized)\r\n",
        "print(f\"{log_reg.__class__.__name__} accuracy: {log_reg.score(x_test_vectorized, y_test)}\")"
      ],
      "execution_count": null,
      "outputs": [
        {
          "output_type": "stream",
          "text": [
            "LogisticRegression accuracy: 0.881\n"
          ],
          "name": "stdout"
        }
      ]
    },
    {
      "cell_type": "code",
      "metadata": {
        "id": "PA3iL3bKJEyO",
        "colab": {
          "base_uri": "https://localhost:8080/"
        },
        "outputId": "0cd1eaff-dddf-46f0-845d-054243803936"
      },
      "source": [
        "print(classification_report(y_test, logR_predicted))\r\n",
        "print('\\n')\r\n",
        "print(confusion_matrix(y_test, logR_predicted))"
      ],
      "execution_count": null,
      "outputs": [
        {
          "output_type": "stream",
          "text": [
            "              precision    recall  f1-score   support\n",
            "\n",
            "           0       0.83      0.93      0.88       493\n",
            "           2       0.92      0.82      0.87       507\n",
            "\n",
            "    accuracy                           0.87      1000\n",
            "   macro avg       0.88      0.87      0.87      1000\n",
            "weighted avg       0.88      0.87      0.87      1000\n",
            "\n",
            "\n",
            "\n",
            "[[458  35]\n",
            " [ 92 415]]\n"
          ],
          "name": "stdout"
        }
      ]
    },
    {
      "cell_type": "code",
      "metadata": {
        "colab": {
          "base_uri": "https://localhost:8080/"
        },
        "id": "QbBfagobcLDz",
        "outputId": "e790e311-a45a-4420-9b45-374ee7a91138"
      },
      "source": [
        "cv_results = cross_validate(log_reg, x_train_vectorized, y_train, cv=5)\r\n",
        "cv_results['test_score'].mean()"
      ],
      "execution_count": null,
      "outputs": [
        {
          "output_type": "execute_result",
          "data": {
            "text/plain": [
              "0.83525"
            ]
          },
          "metadata": {
            "tags": []
          },
          "execution_count": 73
        }
      ]
    },
    {
      "cell_type": "markdown",
      "metadata": {
        "id": "Jq7hZqcgb7M4"
      },
      "source": [
        "#Random Forest"
      ]
    },
    {
      "cell_type": "code",
      "metadata": {
        "id": "MMUvTjFah8aZ",
        "colab": {
          "base_uri": "https://localhost:8080/"
        },
        "outputId": "fea07e56-23c5-4808-a8e9-1a812b5c5eb6"
      },
      "source": [
        "random_forest = RandomForestClassifier(n_estimators=10, max_depth=100)\r\n",
        "random_forest.fit(x_train_vectorized, y_train)\r\n",
        "\r\n",
        "print(f\"{random_forest.__class__.__name__} accuracy: {random_forest.score(x_test_vectorized, y_test)}\")"
      ],
      "execution_count": null,
      "outputs": [
        {
          "output_type": "stream",
          "text": [
            "RandomForestClassifier accuracy: 0.784\n"
          ],
          "name": "stdout"
        }
      ]
    },
    {
      "cell_type": "code",
      "metadata": {
        "colab": {
          "base_uri": "https://localhost:8080/"
        },
        "id": "r9mKtOSBYSVo",
        "outputId": "dc1d772b-608e-46ac-a060-ade0a8511c5f"
      },
      "source": [
        "rForest_pred = random_forest.predict(x_test_vectorized)\r\n",
        "print(classification_report(y_test, rForest_pred))\r\n",
        "print('\\n')\r\n",
        "print(confusion_matrix(y_test, rForest_pred))"
      ],
      "execution_count": null,
      "outputs": [
        {
          "output_type": "stream",
          "text": [
            "              precision    recall  f1-score   support\n",
            "\n",
            "           0       0.79      0.78      0.78       504\n",
            "           2       0.78      0.79      0.78       496\n",
            "\n",
            "    accuracy                           0.78      1000\n",
            "   macro avg       0.78      0.78      0.78      1000\n",
            "weighted avg       0.78      0.78      0.78      1000\n",
            "\n",
            "\n",
            "\n",
            "[[393 111]\n",
            " [105 391]]\n"
          ],
          "name": "stdout"
        }
      ]
    },
    {
      "cell_type": "code",
      "metadata": {
        "colab": {
          "base_uri": "https://localhost:8080/"
        },
        "id": "A6KDgXXrYUKq",
        "outputId": "62103af2-2176-48cd-9017-958807c4bf74"
      },
      "source": [
        "cv_results = cross_validate(random_forest, x_train_vectorized, y_train, cv=5)\r\n",
        "cv_results['test_score'].mean()"
      ],
      "execution_count": null,
      "outputs": [
        {
          "output_type": "execute_result",
          "data": {
            "text/plain": [
              "0.784"
            ]
          },
          "metadata": {
            "tags": []
          },
          "execution_count": 49
        }
      ]
    },
    {
      "cell_type": "markdown",
      "metadata": {
        "id": "mU-6z2_xbxuo"
      },
      "source": [
        "# Multinomial Naive Bayes"
      ]
    },
    {
      "cell_type": "code",
      "metadata": {
        "colab": {
          "base_uri": "https://localhost:8080/"
        },
        "id": "riZRRCbAYWh3",
        "outputId": "fa92e1bd-193c-432c-93d3-ea969a7372b8"
      },
      "source": [
        "multi_nb = MultinomialNB()\r\n",
        "multi_nb.fit(x_train_vectorized, y_train)\r\n",
        "print(f\"{multi_nb.__class__.__name__} accuracy: {multi_nb.score(x_test_vectorized, y_test)}\")"
      ],
      "execution_count": null,
      "outputs": [
        {
          "output_type": "stream",
          "text": [
            "MultinomialNB accuracy: 0.807\n"
          ],
          "name": "stdout"
        }
      ]
    },
    {
      "cell_type": "code",
      "metadata": {
        "colab": {
          "base_uri": "https://localhost:8080/"
        },
        "id": "Bql6-8DcYa0M",
        "outputId": "55e91222-ba9b-4f5b-d5f9-7dce4a2c2599"
      },
      "source": [
        "NaiveB_pred = multi_nb.predict(x_test_vectorized)\r\n",
        "print(classification_report(y_test, NaiveB_pred))\r\n",
        "print('\\n')\r\n",
        "print(confusion_matrix(y_test, NaiveB_pred))"
      ],
      "execution_count": null,
      "outputs": [
        {
          "output_type": "stream",
          "text": [
            "              precision    recall  f1-score   support\n",
            "\n",
            "           0       0.82      0.80      0.81       504\n",
            "           2       0.80      0.82      0.81       496\n",
            "\n",
            "    accuracy                           0.81      1000\n",
            "   macro avg       0.81      0.81      0.81      1000\n",
            "weighted avg       0.81      0.81      0.81      1000\n",
            "\n",
            "\n",
            "\n",
            "[[402 102]\n",
            " [ 91 405]]\n"
          ],
          "name": "stdout"
        }
      ]
    },
    {
      "cell_type": "code",
      "metadata": {
        "colab": {
          "base_uri": "https://localhost:8080/"
        },
        "id": "VUKZkS9rYcfV",
        "outputId": "bb8f6f95-dd08-45ed-e81a-e4f24a9c5709"
      },
      "source": [
        "cv_results = cross_validate(multi_nb, x_train_vectorized, y_train, cv=5)\r\n",
        "cv_results['test_score'].mean()"
      ],
      "execution_count": null,
      "outputs": [
        {
          "output_type": "execute_result",
          "data": {
            "text/plain": [
              "0.79475"
            ]
          },
          "metadata": {
            "tags": []
          },
          "execution_count": 52
        }
      ]
    },
    {
      "cell_type": "markdown",
      "metadata": {
        "id": "m4bTKGMAbwNI"
      },
      "source": [
        "#SVM"
      ]
    },
    {
      "cell_type": "code",
      "metadata": {
        "colab": {
          "base_uri": "https://localhost:8080/"
        },
        "id": "npoBG8mwYd4M",
        "outputId": "6e46c572-47a2-4213-c0ad-60190cf3d08f"
      },
      "source": [
        "svm = svm.LinearSVC()\r\n",
        "svm.fit(x_train_vectorized, y_train)\r\n",
        "print(f\"{svm.__class__.__name__} accuracy: {svm.score(x_test_vectorized, y_test)}\")"
      ],
      "execution_count": null,
      "outputs": [
        {
          "output_type": "stream",
          "text": [
            "LinearSVC accuracy: 0.891\n"
          ],
          "name": "stdout"
        }
      ]
    },
    {
      "cell_type": "code",
      "metadata": {
        "colab": {
          "base_uri": "https://localhost:8080/"
        },
        "id": "qpaPORcYYgCW",
        "outputId": "8a80c0fd-db3f-456a-9cce-2a1029e316f2"
      },
      "source": [
        "svm_pred = svm.predict(x_test_vectorized)\r\n",
        "\r\n",
        "print(classification_report(y_test, svm_pred))\r\n",
        "print('\\n')\r\n",
        "print(confusion_matrix(y_test, svm_pred))"
      ],
      "execution_count": null,
      "outputs": [
        {
          "output_type": "stream",
          "text": [
            "              precision    recall  f1-score   support\n",
            "\n",
            "           0       0.87      0.92      0.89       504\n",
            "           2       0.91      0.86      0.89       496\n",
            "\n",
            "    accuracy                           0.89      1000\n",
            "   macro avg       0.89      0.89      0.89      1000\n",
            "weighted avg       0.89      0.89      0.89      1000\n",
            "\n",
            "\n",
            "\n",
            "[[462  42]\n",
            " [ 67 429]]\n"
          ],
          "name": "stdout"
        }
      ]
    },
    {
      "cell_type": "code",
      "metadata": {
        "colab": {
          "base_uri": "https://localhost:8080/"
        },
        "id": "kaPe5GBDYhkb",
        "outputId": "70f43147-edba-4fd0-881a-251b536d964c"
      },
      "source": [
        "cv_results = cross_validate(svm, x_train_vectorized, y_train, cv=5)\r\n",
        "cv_results['test_score'].mean()"
      ],
      "execution_count": null,
      "outputs": [
        {
          "output_type": "execute_result",
          "data": {
            "text/plain": [
              "0.867"
            ]
          },
          "metadata": {
            "tags": []
          },
          "execution_count": 55
        }
      ]
    },
    {
      "cell_type": "markdown",
      "metadata": {
        "id": "WeYRbd7gasXZ"
      },
      "source": [
        "# LSTM with GloVe embedding"
      ]
    },
    {
      "cell_type": "code",
      "metadata": {
        "id": "iCuLAOOORLHY"
      },
      "source": [
        "smallerdf"
      ],
      "execution_count": null,
      "outputs": []
    },
    {
      "cell_type": "code",
      "metadata": {
        "id": "wcUhxm7jVig_"
      },
      "source": [
        "glovedf = smallerdf.reset_index(drop=True)"
      ],
      "execution_count": null,
      "outputs": []
    },
    {
      "cell_type": "code",
      "metadata": {
        "id": "ny4Bqaaxax7M"
      },
      "source": [
        "cleantext = glovedf['content'].apply(rem_noise)\r\n",
        "cleantext = cleantext.apply(rem_stopwords)"
      ],
      "execution_count": null,
      "outputs": []
    },
    {
      "cell_type": "code",
      "metadata": {
        "colab": {
          "base_uri": "https://localhost:8080/"
        },
        "id": "Tped4F17VkJ-",
        "outputId": "d924f569-bcce-47c4-8323-1059d9b9e3db"
      },
      "source": [
        "cleantext"
      ],
      "execution_count": null,
      "outputs": [
        {
          "output_type": "execute_result",
          "data": {
            "text/plain": [
              "0       [students, could, take, sat, at, home, if, sch...\n",
              "1       [detroit, facing, fresh, fiscal, woes, with, c...\n",
              "2       [thousands, protest, michigan, governors, soci...\n",
              "3       [baltimore, police, defends, planned, aerial, ...\n",
              "4       [attorney, who, fought, for, civil, rights, in...\n",
              "                              ...                        \n",
              "4995    [north, korea, power, vacuum, brings, us, and,...\n",
              "4996    [twitter, suspends, account, of, biotech, comp...\n",
              "4997    [riots, have, started, in, venezuela, will, it...\n",
              "4998    [true, coronavirus, death, toll, likely, highe...\n",
              "4999    [who, mysteriously, deletes, tweet, about, rei...\n",
              "Name: content, Length: 5000, dtype: object"
            ]
          },
          "metadata": {
            "tags": []
          },
          "execution_count": 20
        }
      ]
    },
    {
      "cell_type": "code",
      "metadata": {
        "id": "cS5N-9xF2KG9"
      },
      "source": [
        "x = cleantext.values\r\n",
        "y = smallerdf['Reliability']"
      ],
      "execution_count": null,
      "outputs": []
    },
    {
      "cell_type": "code",
      "metadata": {
        "colab": {
          "base_uri": "https://localhost:8080/"
        },
        "id": "yo7cuV8FX0a5",
        "outputId": "6c31eb7f-f4d5-42b5-ce55-4ebd444d5b31"
      },
      "source": [
        "x"
      ],
      "execution_count": null,
      "outputs": [
        {
          "output_type": "execute_result",
          "data": {
            "text/plain": [
              "array([list(['students', 'could', 'take', 'sat', 'at', 'home', 'if', 'schools', 'remain', 'closed', 'a', 'home', 'version', 'of', 'the', 'sat', 'college', 'entrance', 'exam', 'is', 'being', 'prepared', 'in', 'case', 'schools', 'remain', 'closed', 'into', 'the', 'fall', 'college', 'board', 'officials', 'said', 'wednesday', 'as', 'they', 'announced', 'the', 'cancellation', 'of', 'june', 'testing', 'instead', 'of', 'a', 'paperandpencil', 'test', 'given', 'under', 'proctors', 'supervision', 'the', 'home', 'version', 'would', 'be', 'digital', 'and', 'rely', 'on', '“remote', 'proctoring”', 'that', 'could', 'include', 'using', 'the', 'computer’s', 'camera', 'and', 'microphone', 'to', 'monitor', 'movement', 'or', 'talking', 'college', 'board', 'president', 'jeremy', 'singer', 'said', 'on', 'a', 'conference', 'call', 'with', 'reporters', 'the', 'rival', 'act', 'also', 'will', 'launch', 'an', 'athome', 'option', 'in', 'late', 'fall', 'or', 'early', 'winter', 'the', 'exams', 'administrators', 'said', 'wednesday', '“we', 'would', 'much', 'prefer', 'that', 'schools', 'reopen', 'but', 'we', 'are', 'ready', 'to', 'innovate', 'and', 'deliver', 'in', 'the', 'unlikely', 'case', 'we', 'need', 'to”', 'college', 'board', 'chief', 'executive', 'david', 'coleman', 'said', 'coronavirusrelated', 'school', 'closures', 'forced', 'the', 'cancellation', 'of', 'spring', 'testing', 'for', 'about', 'million', 'firsttime', 'sat', 'testtakers', 'the', 'majority', 'of', 'them', 'high', 'school', 'juniors', 'planning', 'to', 'enter', 'college', 'in', 'college', 'board', 'officials', 'said', 'the', 'national', 'june', 'session', 'is', 'the', 'latest', 'to', 'be', 'canceled', '“we', 'would', 'much', 'prefer', 'that', 'schools', 'reopen', 'but', 'we', 'are', 'ready', 'to', 'innovate', 'and', 'deliver', 'in', 'the', 'unlikely', 'case', 'we', 'need', 'to”', 'college', 'board', 'chief', 'executive', 'david', 'coleman', 'said', 'the', 'threehour', 'multiple', 'choice', 'test', 'measures', 'math', 'and', 'english', 'language', 'arts', 'proficiency', 'the', 'act', 'also', 'has', 'a', 'science', 'component', 'most', 'colleges', 'require', 'sat', 'or', 'act', 'exam', 'scores', 'as', 'part', 'of', 'the', 'application', 'process', 'though', 'an', 'increasing', 'number', 'of', 'institutions', 'have', 'made', 'them', 'optional', 'in', 'recent', 'years', 'often', 'to', 'be', 'more', 'inclusive', 'of', 'students', 'without', 'access', 'to', 'private', 'testpreparation', 'available', 'to', 'wealthier', 'peers', 'in', 'response', 'to', 'the', 'coronavirus', 'californias', 'public', 'universities', 'and', 'several', 'other', 'institutions', 'around', 'the', 'country', 'have', 'made', 'the', 'tests', 'optional', 'only', 'for', 'applicants', 'if', 'it’s', 'safe', 'the', 'college', 'board', 'will', 'resume', 'and', 'expand', 'inperson', 'sat', 'testing', 'in', 'august', 'with', 'saturday', 'sessions', 'offered', 'once', 'a', 'month', 'through', 'december', 'officials', 'said', 'students', 'who', 'had', 'planned', 'to', 'take', 'the', 'sat', 'for', 'free', 'in', 'school', 'this', 'spring', 'can', 'instead', 'take', 'it', 'in', 'the', 'fall', 'the', 'notforprofit', 'college', 'board', 'earlier', 'announced', 'plans', 'to', 'offer', 'advanced', 'placement', 'final', 'exams', 'at', 'home', 'for', 'high', 'school', 'students', 'whose', 'schools', 'will', 'remain', 'closed', 'through', 'the', 'may', 'testing', 'dates', 'the', 'college', 'board', 'has', 'offered', 'to', 'help', 'students', 'and', 'schools', 'secure', 'devices', 'and', 'internet', 'access', 'if', 'needed']),\n",
              "       list(['detroit', 'facing', 'fresh', 'fiscal', 'woes', 'with', 'coronavirus', 'closures', 'detroit', 'barely', 'surviving', 'the', 'economic', 'meltdown', 'and', 'humbled', 'by', 'its', 'bankruptcy', 'detroit’s', 'fiscal', 'future', 'now', 'faces', 'another', 'daunting', 'foe', 'in', 'the', 'coronavirus', 'the', 'stateforced', 'shutdown', 'of', 'its', 'three', 'casinos', 'auto', 'plants', 'and', 'other', 'businesses', 'to', 'slow', 'the', 'spread', 'of', 'the', 'covid', 'virus', 'is', 'projected', 'to', 'cost', 'detroit', 'million', 'over', 'the', 'next', 'year', 'and', 'a', 'half', 'mayor', 'mike', 'duggan', 'warned', 'that', 'detroit', 'could', 'see', 'a', 'return', 'to', 'state', 'oversight', 'if', 'action', 'is', 'not', 'taken', 'quickly', 'as', 'he', 'announced', 'some', 'layoffs', 'pay', 'cuts', 'and', 'a', 'reduction', 'in', 'services', '“we', 'dont', 'get', 'to', 'just', 'solve', 'one', 'problem', 'at', 'a', 'time”', 'duggan', 'said', 'tuesday', 'in', 'a', 'televised', 'address', '“because', 'while', 'we', 'have', 'a', 'health', 'crisis', 'we', 'have', 'the', 'biggest', 'budget', 'crisis', 'this', 'citys', 'seen', 'in', 'seven', 'years', 'and', 'we', 'have', 'to', 'solve', 'it', 'at', 'the', 'same', 'time”', 'michigan', 'has', 'at', 'least', 'confirmed', 'cases', 'of', 'covid', 'and', 'deaths', '—', 'thirdmost', 'in', 'the', 'us', '—', 'and', 'its', 'largest', 'city', 'has', 'been', 'especially', 'hard', 'hit', 'while', 'the', 'state', 'remains', 'under', 'a', 'stayathome', 'order', 'from', 'the', 'governor', 'the', 'virus', 'has', 'sickened', 'at', 'least', 'people', 'in', 'detroit', 'and', 'killed', 'at', 'least', 'for', 'most', 'people', 'the', 'virus', 'cases', 'mild', 'or', 'moderate', 'symptoms', 'but', 'it', 'can', 'cause', 'more', 'severe', 'illness', 'and', 'death', 'in', 'some', 'especially', 'older', 'adults', 'and', 'people', 'with', 'existing', 'health', 'problems', 'with', 'people', 'out', 'of', 'work', 'and', 'nonessential', 'businesses', 'shuttered', 'the', 'city', 'faces', 'financial', 'losses', 'from', 'income', 'and', 'sales', 'taxes', 'and', 'fees', 'detroit', 'also', 'expects', 'to', 'lose', 'about', 'million', 'in', 'casino', 'wagering', 'taxes', 'the', 'city', 'will', 'make', 'up', 'of', 'the', 'shortfall', 'through', 'budget', 'surpluses', 'money', 'in', 'a', 'rainyday', 'fund', 'blight', 'removal', 'funds', 'and', 'cutbacks', 'to', 'capital', 'projects', 'that', 'would', 'leave', 'a', 'million', 'deficit', 'to', 'be', 'made', 'up', 'mostly', 'through', 'layoffs', 'and', 'pay', 'cuts', 'a', 'budget', 'deficit', 'could', 'mean', 'the', 'city', 'again', 'finds', 'itself', 'under', 'control', 'of', 'a', 'stateappointed', 'review', 'commission', 'that', 'oversaw', 'its', 'finances', 'from', 'until', 'as', 'part', 'of', 'its', 'exit', 'from', 'bankruptcy', 'detroit', 'was', 'released', 'from', 'that', 'oversight', 'only', 'after', 'delivering', 'three', 'years', 'of', 'balanced', 'budgets', '“if', 'the', 'review', 'commission', 'is', 'put', 'in', 'place', 'they', 'run', 'the', 'city', 'of', 'detroits', 'life”', 'duggan', 'said', '“they', 'approve', 'our', 'budgets', 'our', 'contracts', 'none', 'of', 'us', 'ever', 'want', 'to', 'lose', 'selfdetermination', 'again”', 'detroit', 'is', 'among', 'dozens', 'if', 'not', 'hundreds', 'of', 'cities', 'across', 'the', 'us', 'that', 'are', 'facing', 'financial', 'problems', 'according', 'to', 'doug', 'bernstein', 'director', 'of', 'business', 'law', 'at', 'the', 'bloomfield', 'hillsbased', 'plunkett', 'cooney', 'law', 'firm', '“i', 'don’t', 'necessarily', 'single', 'detroit', 'out', 'as', 'unique', 'other', 'than', 'the', 'fact', 'its', 'been', 'through', 'it', 'before”', 'bernstein', 'said', '“maybe', 'it', 'works', '—', 'in', 'a', 'perverse', 'kind', 'of', 'way', '—', 'to', 'the', 'city’s', 'advantage', 'because', 'they’ve', 'lived', 'through', 'it”', 'the', 'citys', 'bankruptcy', 'happened', 'after', 'the', 'state', 'installed', 'an', 'emergency', 'manager', 'at', 'the', 'time', 'detroit', 'had', 'billion', 'in', 'longterm', 'debt', 'a', 'million', 'budget', 'deficit', 'and', 'bills', 'piling', 'up', 'the', 'bankruptcy', 'allowed', 'the', 'city', 'to', 'wipe', 'out', 'or', 'restructure', 'about', 'billion', 'in', 'debt', 'millions', 'of', 'dollars', 'in', 'annual', 'pension', 'contributions', 'also', 'were', 'pushed', 'back', 'for', 'about', 'a', 'decade', 'those', 'are', 'to', 'resume', 'in', 'fiscal', 'year', 'in', 'recent', 'years', 'the', 'city', 'has', 'been', 'able', 'to', 'sock', 'away', 'funds', 'it', 'hoped', 'to', 'have', 'at', 'least', 'million', 'in', 'assets', 'available', 'before', 'the', 'pension', 'payments', 'began', 'to', 'kick', 'in', '“we', 'expected', 'a', 'downturn', 'and', 'we', 'prepared', 'for', 'it”', 'duggan', 'said', '“i', 'cant', 'tell', 'you', 'i', 'expected', 'it', 'to', 'be', 'this', 'sudden', 'and', 'this', 'dire', 'but', 'we', 'are', 'far', 'more', 'prepared', 'than', 'this', 'city', 'was', 'before”', 'the', 'creation', 'of', 'a', 'rainyday', 'fund', 'prompted', 'the', 'credit', 'rating', 'agency', 'moody’s', 'in', 'february', 'to', 'upgrade', 'detroits', 'debt', 'from', '“stable”', 'to', '“positive', 'that', 'rating', 'applies', 'to', 'million', 'of', 'general', 'obligation', 'debt', 'and', 'still', 'is', 'three', 'notches', 'below', 'investment', 'grade', 'but', 'the', 'severity', 'and', 'duration', 'of', 'the', 'coronavirus', 'pandemic', 'could', 'have', 'a', 'longerterm', 'impact', 'on', 'the', 'city’s', 'credit', '“detroit’s', 'revenue', 'structure', 'is', 'significantly', 'exposed', 'to', 'economic', 'downturns', 'because', 'gambling', 'and', 'income', 'taxes', 'comprise', 'two', 'of', 'the', 'two', 'largest', 'revenue', 'sources”', 'david', 'levett', 'moody’s', 'lead', 'analyst', 'for', 'detroit', 'said', 'last', 'week', '“that', 'said', 'the', 'city’s', 'fiscal', 'audit', 'which', 'was', 'released', 'in', 'december', 'showed', 'that', 'the', 'city', 'has', 'an', 'improved', 'capacity', 'to', 'respond', 'to', 'stresses”']),\n",
              "       list(['thousands', 'protest', 'michigan', 'governors', 'social', 'distance', 'order', 'lansing', 'mich', 'thousands', 'of', 'flagwaving', 'honking', 'protesters', 'drove', 'past', 'the', 'michigan', 'capitol', 'on', 'wednesday', 'to', 'show', 'their', 'displeasure', 'with', 'gov', 'gretchen', 'whitmer’s', 'orders', 'to', 'keep', 'people', 'at', 'home', 'and', 'businesses', 'locked', 'during', 'the', 'coronavirus', 'outbreak', 'as', 'snow', 'fell', 'others', 'got', 'out', 'of', 'their', 'vehicles', 'and', 'raised', 'signs', 'one', 'of', 'which', 'read', '“gov', 'whitmer', 'we', 'are', 'not', 'prisoners”', 'another', 'said', '“michigander', 'against', 'gretchens', 'abuses”', 'hours', 'later', 'whitmer', 'shot', 'back', 'telling', 'reporters', 'that', 'the', 'rally', 'put', 'health', 'at', 'risk', 'the', '“operation', 'gridlock”', 'protest', 'was', 'organized', 'by', 'the', 'michigan', 'conservative', 'coalition', 'the', 'ripples', 'were', 'widely', 'felt', 'traffic', 'was', 'barely', 'moving', 'for', 'miles', 'in', 'some', 'areas', 'of', 'lansing', '“this', 'arbitrary', 'blanket', 'spread', 'of', 'shutting', 'down', 'businesses', 'about', 'putting', 'all', 'of', 'these', 'workers', 'out', 'of', 'business', 'is', 'just', 'a', 'disaster', 'it’s', 'an', 'economic', 'disaster', 'for', 'michigan”', 'coalition', 'member', 'meshawn', 'maddock', 'said', '“and', 'people', 'are', 'sick', 'and', 'tired', 'of', 'it”', 'whitmer', 'a', 'democrat', 'extended', 'a', 'stayhome', 'order', 'through', 'april', 'and', 'has', 'shut', 'down', 'schools', 'and', 'businesses', 'deemed', 'nonessential', 'the', 'governor', 'acknowledged', 'the', 'pain', 'but', 'said', 'the', 'restrictions', 'were', 'necessary', 'to', 'stop', 'the', 'spread', 'of', 'the', 'coronavirus', 'which', 'causes', 'a', 'respiratory', 'illness', 'that', 'has', 'killed', 'more', 'than', 'michigan', 'residents', 'and', 'overwhelmed', 'hospitals', 'in', 'the', 'detroit', 'area', 'whitmer', 'said', 'she', 'was', '“really', 'disappointed”', 'to', 'see', 'protesters', 'close', 'together', 'without', 'masks', '“i', 'saw', 'someone', 'handing', 'out', 'candy', 'to', 'little', 'kids', 'barehanded”', 'the', 'governor', 'told', 'reporters', '“people', 'are', 'flying', 'the', 'confederate', 'flag', 'and', 'untold', 'numbers', 'who', 'gassed', 'up', 'on', 'the', 'way', 'here', 'or', 'grabbed', 'a', 'bite', 'on', 'the', 'way', 'home', 'we', 'know', 'that', 'this', 'rally', 'endangered', 'people', 'this', 'kind', 'of', 'activity', 'will', 'put', 'more', 'people', 'at', 'risk', 'and', 'sadly', 'it', 'could', 'prolong', 'the', 'amount', 'of', 'time', 'we', 'have', 'to', 'be', 'in', 'this', 'posture”', 'during', 'the', 'rally', 'republican', 'house', 'speaker', 'lee', 'chatfield', 'who', 'has', 'urged', 'whitmer', 'to', 'amend', 'her', 'orders', 'waved', 'an', 'american', 'flag', 'from', 'a', 'window', 'at', 'his', 'capitol', 'office', 'the', 'rally', 'drew', 'an', 'estimated', 'to', 'people', 'said', 'michigan', 'state', 'police', 'spokeswoman', 'shanon', 'banner', 'who', 'said', 'demonstrators', 'were', 'peaceful', 'there', 'was', 'an', 'arrest', 'when', 'one', 'protester', 'assaulted', 'another', 'police', 'did', 'ticket', 'anyone', 'for', 'violations', 'of', 'the', 'governors', 'orders', '“the', 'majority', 'of', 'demonstrators', 'remained', 'in', 'their', 'vehicles', 'and', 'most', 'of', 'those', 'who', 'were', 'on', 'foot', 'were', 'practicing', 'social', 'distancing”', 'banner', 'said', 'four', 'sheriffs', 'in', 'the', 'northwestern', 'lower', 'peninsula', 'called', 'whitmer’s', 'orders', 'a', '“vague', 'framework', 'of', 'emergency', 'laws”', 'that', 'are', 'frustrating', 'citizens', 'leelanau', 'county', 'sheriff', 'mike', 'borkovich', 'said', 'people', 'don’t', 'understand', 'why', 'they', 'can’t', 'take', 'a', 'child', 'fishing', 'in', 'a', 'motorboat', 'but', 'they', 'can', 'use', 'a', 'kayak', '“we’re', 'trying', 'to', 'keep', 'the', 'peace', 'with', 'people', 'the', 'economy', 'is', 'coming', 'apart', 'in', 'northern', 'michigan', 'people', 'are', 'upset”', 'borkovich', 'told', 'the', 'associated', 'press', '“people', 'are', 'frantic', 'to', 'get', 'back', 'to', 'work', 'they', 'have', 'been', 'very', 'edgy”', 'white', 'reported', 'from', 'detroit', 'associated', 'press', 'writer', 'david', 'eggert', 'in', 'lansing', 'contributed', 'to', 'this', 'report']),\n",
              "       ...,\n",
              "       list(['riots', 'have', 'started', 'in', 'venezuela', 'will', 'it', 'come', 'here', 'oh', 'yeah', 'since', 'we', 'are', 'not', 'corporate', 'or', 'government', 'owned', 'help', 'us', 'out', 'here', 'you', 'can', 'also', 'support', 'us', 'on']),\n",
              "       list(['true', 'coronavirus', 'death', 'toll', 'likely', 'higher', 'than', 'official', 'count', 'study', 'finds', 'as', 'experts', 'try', 'to', 'model', 'the', 'true', 'number', 'of', 'coronavirus', 'deaths', 'and', 'some', 'random', '‘surveillance’', 'studies', 'have', 'suggested', 'that', '–', 'at', 'least', 'in', 'some', 'badly', 'hit', 'areas', '–', 'the', 'number', 'of', 'confirmed', 'coronavirus', 'cases', 'might', 'be', 'many', 'multiples', 'of', 'the', 'official', 'count', 'the', 'financial', 'times', 'has', 'published', 'its', 'latest', 'study', 'trying', 'to', '‘model’', 'the', 'true', 'coronavirus', 'death', 'toll', 'the', 'ft', 'used', 'a', 'fairly', 'straightforward', 'methodology', 'the', 'paper', 'took', 'data', 'on', 'national', 'death', 'tolls', 'over', 'a', 'certain', 'stretch', 'of', 'time', 'going', 'back', 'five', 'years', 'calculated', 'the', 'mean', 'for', 'each', 'country', 'then', 'compared', 'that', 'figure', 'to', 'the', 'number', 'of', 'deaths', 'reported', 'during', 'the', 'same', 'time', 'period', 'in', 'the', 'difference', 'between', 'the', 'average', 'from', 'the', 'past', 'five', 'years', 'and', 'the', 'number', 'is', 'roughly', 'the', 'number', 'of', 'deaths', 'caused', 'by', 'the', 'coronavirus', 'by', 'far', 'the', 'biggest', 'differentiating', 'factor', 'across', 'countries', 'in', 'the', 'developed', 'world', 'the', 'ft', 'found', 'deaths', '‘in', 'excess’', 'of', 'normal', 'levels', 'that’s', 'compared', 'with', 'k', 'reported', 'coronavirus', 'deaths', 'if', 'the', 'ft’s', 'methodolgy', 'checks', 'out', 'that', 'would', 'mean', 'coronavirus', 'deaths', 'have', 'been', 'higher', 'than', 'official', 'statics', 'reflect', '–', 'at', 'least', 'in', 'the', 'developed', 'world', 'the', 'death', 'toll', 'from', 'coronavirus', 'may', 'be', 'almost', 'per', 'cent', 'higher', 'than', 'reported', 'in', 'official', 'counts', 'according', 'to', 'an', 'ft', 'analysis', 'of', 'overall', 'fatalities', 'during', 'the', 'pandemic', 'in', 'countries', 'mortality', 'statistics', 'show', 'deaths', 'in', 'excess', 'of', 'normal', 'levels', 'across', 'these', 'locations', 'considerably', 'higher', 'than', 'the', 'official', 'covid', 'deaths', 'reported', 'for', 'the', 'same', 'places', 'and', 'time', 'periods', 'if', 'the', 'same', 'level', 'of', 'underreporting', 'observed', 'in', 'these', 'countries', 'was', 'happening', 'worldwide', 'the', 'global', 'covid', 'death', 'toll', 'would', 'rise', 'from', 'the', 'current', 'official', 'total', 'of', 'to', 'as', 'high', 'as', 'the', 'only', 'country', 'that', 'showed', 'almost', 'now', 'deviation', 'between', '‘excess', 'deaths’', 'and', 'the', 'number', 'of', 'confirmed', 'coronavirus', 'cases', 'was', 'denmark', 'the', 'gulf', 'between', 'the', '‘official’', 'coronavirus', 'death', 'toll', 'and', 'the', '‘excess', 'mortality’', 'rate', 'tabulated', 'by', 'the', 'ft', 'was', 'widest', 'in', 'the', 'emerging', 'world', 'in', 'some', 'places', 'the', 'difference', 'was', 'x', 'that’s', 'x', 'not', 'officials', 'reported', 'roughly', 'deaths', 'due', 'to', 'the', 'virus', 'but', 'the', 'number', 'of', '‘excess’', 'deaths', 'was', 'in', 'ecuador’s', 'guayas', 'province', 'if', 'we', 'assume', 'that', 'every', 'single', '‘excess’', 'case', 'calculated', 'by', 'the', 'ft', 'is', 'representative', 'of', 'a', 'single', 'case', 'of', 'covid', 'not', 'exactly', 'a', 'scientific', 'assumption', 'but', 'fair', 'enough', 'for', 'an', 'estimate…', 'then', 'we', 'can', 'compare', 'which', 'provinces', 'states', 'and', 'countries', 'were', 'most', 'badly', 'impacted', 'according', 'to', 'the', 'ft', 'the', 'region', 'surrounding', 'the', 'italian', 'city', 'of', 'bergamo', 'suffered', 'a', 'much', 'more', 'severe', 'outbreak', 'than', 'new', 'york', 'state', 'in', 'the', 'northern', 'italian', 'region', 'of', 'lombardy', 'the', 'heart', 'of', 'europe’s', 'worst', 'outbreak', 'there', 'are', 'more', 'than', 'excess', 'deaths', 'in', 'the', 'official', 'statistics', 'for', 'the', 'nearly', 'municipalities', 'for', 'which', 'data', 'is', 'available', 'this', 'is', 'an', 'uptick', 'of', 'per', 'cent', 'on', 'the', 'historical', 'average', 'and', 'far', 'higher', 'than', 'the', 'reported', 'covid', 'deaths', 'in', 'the', 'region', 'the', 'region', 'surrounding', 'the', 'italian', 'city', 'of', 'bergamo', 'registered', 'the', 'worst', 'increase', 'internationally', 'with', 'a', 'per', 'cent', 'rise', 'in', 'deaths', 'above', 'normal', 'levels', 'followed', 'by', 'new', 'york', 'city', 'with', 'a', 'per', 'cent', 'increase', 'and', 'madrid', 'spain', 'with', 'a', 'per', 'cent', 'increase', 'the', 'ft', 'isn’t', 'the', 'only', 'financial', 'news', 'organization', 'to', 'try', 'and', 'determine', 'by', 'how', 'much', 'some', 'countries', 'are', 'underreporting', 'cases', 'and', 'deaths', 'linked', 'to', 'the', 'novel', 'coronavirus', 'bloomberg', 'on', 'sunday', 'reported', 'that', 'the', 'number', 'of', 'severe', 'respiratory', 'infections', 'reported', 'in', 'mexico', 'over', 'the', 'past', 'two', 'months', 'coinciding', 'with', 'the', 'end', 'of', 'flu', 'season', 'were', 'up', 'more', 'than', 'compared', 'with', 'last', 'year', 'experts', 'working', 'for', 'the', 'mexican', 'government', 'quietly', 'told', 'bloomberg', 'that', 'the', 'increase', 'is', 'likely', 'attributable', 'to', 'the', 'virus', 'severe', 'acute', 'respiratory', 'infections', 'in', 'mexico', 'spiked', 'this', 'season', 'compared', 'with', 'a', 'year', 'ago', 'almost', 'certainly', 'all', 'due', 'to', 'coronavirus', 'suggesting', 'that', 'government', 'figures', 'on', 'covid', 'cases', 'are', 'far', 'too', 'low', 'in', 'the', 'most', 'recent', 'week', 'health', 'ministry', 'data', 'show', 'mexico', 'registered', 'new', 'cases', 'of', 'such', 'respiratory', 'infections', 'versus', 'in', 'the', 'same', 'period', 'a', 'year', 'ago', '“of', 'course', 'that', 'jump', 'in', 'cases', 'is', 'covid', 'because', 'influenza', 'is', 'on', 'its', 'way', 'out', 'this', 'time', 'of', 'year”', 'said', 'alejandro', 'macías', 'the', 'former', 'national', 'commissioner', 'for', 'influenza', 'in', 'mexico', 'during', 'the', 'hn', 'outbreak', '“there’s', 'no', 'doubt”', 'to', 'be', 'sure', 'the', 'ft', 'doesn’t', 'question', 'the', 'general', 'trends', 'displayed', 'in', 'global', 'data', '–', 'well', 'at', 'least', 'not', 'in', 'developed', 'countries', 'like', 'the', 'us', 'and', 'italy', 'but', 'it’s', 'just', 'the', 'latest', 'reminder', 'that', 'armchair', 'experts', 'claiming', 'that', 'the', 'true', 'mortality', 'rate', 'for', 'the', 'virus', 'is', 'actually', 'a', 'small', 'fraction', 'of', 'a', 'percent', 'are', 'likely', 'also', 'gravely', 'underestimating', 'the', 'total', 'number', 'of', 'deaths', 'that', 'have', 'gone', 'underreported', 'this', 'just', 'means', 'that', 'the', 'grainy', 'videos', 'released', 'by', 'brave', 'citizens', 'of', 'wuhan', 'during', 'the', 'early', 'days', 'of', 'the', 'outbreak', 'remain', 'the', 'most', 'reliable', 'indicators', 'of', 'what', 'the', 'novel', 'coronavirus', 'is', 'capable', 'of', 'if', 'left', 'unchecked', 'though', 'they’ve', 'been', 'wiped', 'from', 'the', 'chinese', 'internet', 'millions', 'around', 'the', 'world', 'witnessed', 'the', 'videos', 'of', 'dead', 'bodies', 'of', 'the', 'elderly', 'in', 'the', 'streets', 'hospital', 'hallways', 'packed', 'with', 'the', 'doomed', 'pandemonium', 'chaos', 'the', 'virus', 'is', 'real']),\n",
              "       list(['who', 'mysteriously', 'deletes', 'tweet', 'about', 'reinfection', 'as', '‘immunity', 'passports’', 'being', 'debated', 'the', 'world', 'health', 'organization', 'who', 'on', 'sunday', 'deleted', 'an', 'alarming', 'tweet', 'for', 'unknown', 'reasons', 'suggesting', 'covid', 'infected', 'persons', 'could', 'catch', 'the', 'disease', 'a', 'second', 'time', 'the', 'tweet', 'was', 'live', 'long', 'enough', 'to', 'be', 'picked', 'up', 'in', 'the', 'media', '—', 'some', 'of', 'which', 'reported', 'the', 'information', 'as', '“misleading”', '—', 'before', 'its', 'quiet', 'deletion', 'later', 'in', 'the', 'day', 'the', 'tweet', 'garnered', 'well', 'over', 'ten', 'thousand', 'retweets', 'and', 'tens', 'of', 'thousands', 'of', '“likes”', 'before', 'it', 'disappeared', 'the', 'controversial', 'statement', 'said', '“there', 'is', 'currently', 'no', 'evidence', 'that', 'people', 'who', 'have', 'recovered', 'from', 'covid', 'and', 'have', 'antibodies', 'are', 'protected', 'from', 'a', 'second', 'infection”', 'health', 'experts', 'and', 'some', 'publications', 'immediately', 'took', 'issue', 'with', 'the', 'phraseology', 'pointing', 'out', 'that', '“no', 'evidence”', 'will', 'be', 'taken', 'broadly', 'taken', 'as', '‘confirmation’', 'that', 'people', 'are', 'not', 'protected', 'via', 'antibodies', 'most', 'epidemiologists', 'believe', 'covid', 'survivors', 'do', 'build', 'up', 'some', 'immunity', 'but', 'still', 'admit', 'the', 'virus', 'is', 'so', 'new', 'it', 'hasn’t', 'been', 'studied', 'enough', 'to', 'come', 'to', 'definitive', 'conclusions', 'as', 'reason', 'pointed', 'out', 'the', 'controversy', 'comes', 'as', 'the', 'idea', 'of', 'socalled', '“immunity', 'passports”', 'is', 'being', 'hotly', 'debated', 'on', 'friday', 'the', 'who', 'published', 'a', 'scientific', 'brief', 'on', '“immunity', 'passports”', '—', 'the', 'idea', 'that', 'governments', 'should', 'grant', 'special', 'documents', 'to', 'citizens', 'who', 'test', 'positive', 'for', 'covid', 'antibodies', 'allowing', 'them', 'to', 'move', 'about', 'freely', 'the', 'who', 'warned', 'that', 'this', 'is', 'premature', 'since', '“no', 'study', 'has', 'evaluated', 'whether', 'the', 'presence', 'of', 'antibodies', 'to', 'sarscov', 'confers', 'immunity', 'to', 'subsequent', 'infection', 'by', 'this', 'virus', 'in', 'humans”', 'the', 'who', 'is', 'correct', 'that', 'scientists', 'have', 'not', 'determined', 'the', 'degree', 'of', 'immunity', 'enjoyed', 'by', 'covid', 'survivors', 'one', 'critic', 'statistician', 'nate', 'silver', 'said', 'in', 'a', 'tweet', 'pushing', 'back', 'against', 'the', 'who’s', 'sunday', 'tweet', 'saying', 'it', 'appears', 'the', 'who', 'deleted', 'the', 'tweet', 'out', 'of', 'concern', 'that', 'it', 'could', 'be', 'misleading', 'to', 'the', 'general', 'public', 'however', 'it’s', 'ultimately', 'unclear', 'why', 'they', 'made', 'this', 'decision', 'instead', 'of', 'just', 'updating', 'it', 'with', 'more', 'nuanced', 'information'])],\n",
              "      dtype=object)"
            ]
          },
          "metadata": {
            "tags": []
          },
          "execution_count": 24
        }
      ]
    },
    {
      "cell_type": "code",
      "metadata": {
        "colab": {
          "base_uri": "https://localhost:8080/"
        },
        "id": "IAXI6DoxXynf",
        "outputId": "b15437d8-a4fc-4168-b35c-8cf63b91a815"
      },
      "source": [
        "y"
      ],
      "execution_count": null,
      "outputs": [
        {
          "output_type": "execute_result",
          "data": {
            "text/plain": [
              "0         0\n",
              "1         0\n",
              "2         0\n",
              "3         0\n",
              "4         0\n",
              "         ..\n",
              "102549    2\n",
              "102550    2\n",
              "102551    2\n",
              "102552    2\n",
              "102553    2\n",
              "Name: Reliability, Length: 5000, dtype: int64"
            ]
          },
          "metadata": {
            "tags": []
          },
          "execution_count": 25
        }
      ]
    },
    {
      "cell_type": "code",
      "metadata": {
        "id": "po4gH9OgsTLu"
      },
      "source": [
        "from keras.preprocessing import text, sequence"
      ],
      "execution_count": null,
      "outputs": []
    },
    {
      "cell_type": "code",
      "metadata": {
        "id": "wCUGlRVFr1LY"
      },
      "source": [
        "tokenizer = Tokenizer()\r\n",
        "tokenizer.fit_on_texts(x)\r\n",
        "word_to_index = tokenizer.word_index\r\n",
        "contentSequence = tokenizer.texts_to_sequences(x)"
      ],
      "execution_count": null,
      "outputs": []
    },
    {
      "cell_type": "code",
      "metadata": {
        "id": "VajOYfJayqfN"
      },
      "source": [
        "vocab_size =  len(word_to_index)\r\n",
        "oov_tok = \"<OOV>\"\r\n",
        "max_length = 250\r\n",
        "embedding_dim = 100"
      ],
      "execution_count": null,
      "outputs": []
    },
    {
      "cell_type": "code",
      "metadata": {
        "id": "q14CaM7NsCy4"
      },
      "source": [
        "from keras.preprocessing.sequence import pad_sequences\r\n",
        "\r\n",
        "contentSequence = pad_sequences(contentSequence, maxlen=max_length)"
      ],
      "execution_count": null,
      "outputs": []
    },
    {
      "cell_type": "code",
      "metadata": {
        "colab": {
          "base_uri": "https://localhost:8080/"
        },
        "id": "7N2ft-hGorR1",
        "outputId": "4abfa2bc-e4cf-45e8-b7f4-6ec83fe4954b"
      },
      "source": [
        "contentSequence"
      ],
      "execution_count": null,
      "outputs": [
        {
          "output_type": "execute_result",
          "data": {
            "text/plain": [
              "array([[10313,    12,  4759, ...,   627,    60,   610],\n",
              "       [    1,  1966,  2416, ...,  1222,     2, 42476],\n",
              "       [14630,     2,   342, ...,     2,    26,   184],\n",
              "       ...,\n",
              "       [    0,     0,     0, ...,   231,    40,    10],\n",
              "       [  680,   253,     8, ...,   114,     9,   498],\n",
              "       [ 9023,   157,    69, ...,    43, 38542,   334]], dtype=int32)"
            ]
          },
          "metadata": {
            "tags": []
          },
          "execution_count": 30
        }
      ]
    },
    {
      "cell_type": "markdown",
      "metadata": {
        "id": "z2BVYXHVbqck"
      },
      "source": [
        "#Glove Embedding"
      ]
    },
    {
      "cell_type": "code",
      "metadata": {
        "id": "oemJ8lXFbJQw"
      },
      "source": [
        "# Pre-trained embedding\r\n",
        "\r\n",
        "#EMBEDDING_FILE = (\"/content/drive/My Drive/glove.6B.100d.txt\")"
      ],
      "execution_count": null,
      "outputs": []
    },
    {
      "cell_type": "code",
      "metadata": {
        "id": "KMTwb4aMsyC6"
      },
      "source": [
        "# load the whole embedding into memory\r\n",
        "\r\n",
        "embeddings_index = {};\r\n",
        "with open('/content/drive/My Drive/glove.6B.100d.txt') as f:\r\n",
        "    for line in f:\r\n",
        "        values = line.split();\r\n",
        "        word = values[0];\r\n",
        "        coefs = np.asarray(values[1:], dtype='float32');\r\n",
        "        embeddings_index[word] = coefs;\r\n",
        "\r\n",
        "# create a weight matrix for words\r\n",
        "\r\n",
        "embeddings_matrix = np.zeros((vocab_size+1, embedding_dim));\r\n",
        "for word, i in word_to_index.items():\r\n",
        "    embedding_vector = embeddings_index.get(word);\r\n",
        "    if embedding_vector is not None:\r\n",
        "        embeddings_matrix[i] = embedding_vector;"
      ],
      "execution_count": null,
      "outputs": []
    },
    {
      "cell_type": "code",
      "metadata": {
        "id": "9k9W9hyHptvV",
        "colab": {
          "base_uri": "https://localhost:8080/"
        },
        "outputId": "e5ae94a5-db2d-403d-9c55-8218a5f6132f"
      },
      "source": [
        "embeddings_matrix"
      ],
      "execution_count": null,
      "outputs": [
        {
          "output_type": "execute_result",
          "data": {
            "text/plain": [
              "array([[ 0.        ,  0.        ,  0.        , ...,  0.        ,\n",
              "         0.        ,  0.        ],\n",
              "       [-0.038194  , -0.24487001,  0.72812003, ..., -0.1459    ,\n",
              "         0.82779998,  0.27061999],\n",
              "       [-0.18970001,  0.050024  ,  0.19084001, ..., -0.39804   ,\n",
              "         0.47646999, -0.15983   ],\n",
              "       ...,\n",
              "       [ 0.        ,  0.        ,  0.        , ...,  0.        ,\n",
              "         0.        ,  0.        ],\n",
              "       [ 0.14068   ,  0.087165  ,  0.32644001, ..., -0.30822   ,\n",
              "        -0.73694003,  0.27818999],\n",
              "       [ 0.        ,  0.        ,  0.        , ...,  0.        ,\n",
              "         0.        ,  0.        ]])"
            ]
          },
          "metadata": {
            "tags": []
          },
          "execution_count": 32
        }
      ]
    },
    {
      "cell_type": "code",
      "metadata": {
        "colab": {
          "base_uri": "https://localhost:8080/"
        },
        "id": "CzI5v9wf64_K",
        "outputId": "f34e27fc-bda2-474f-8d4a-d4fe3de6c3a7"
      },
      "source": [
        "# Change labels\r\n",
        "def change_labels(y):\r\n",
        "    if y == 0:\r\n",
        "        return 0\r\n",
        "    if y == 2:\r\n",
        "        return 1\r\n",
        "\r\n",
        "y[\"Label\"] = smallerdf.Reliability.apply(change_labels)\r\n",
        "\r\n",
        "print(y[\"Label\"])"
      ],
      "execution_count": null,
      "outputs": [
        {
          "output_type": "stream",
          "text": [
            "0         0\n",
            "1         0\n",
            "2         0\n",
            "3         0\n",
            "4         0\n",
            "         ..\n",
            "102549    1\n",
            "102550    1\n",
            "102551    1\n",
            "102552    1\n",
            "102553    1\n",
            "Name: Reliability, Length: 5000, dtype: int64\n"
          ],
          "name": "stdout"
        },
        {
          "output_type": "stream",
          "text": [
            "/usr/local/lib/python3.7/dist-packages/ipykernel_launcher.py:8: SettingWithCopyWarning: \n",
            "A value is trying to be set on a copy of a slice from a DataFrame\n",
            "\n",
            "See the caveats in the documentation: https://pandas.pydata.org/pandas-docs/stable/user_guide/indexing.html#returning-a-view-versus-a-copy\n",
            "  \n"
          ],
          "name": "stderr"
        }
      ]
    },
    {
      "cell_type": "code",
      "metadata": {
        "id": "5k-PvpHmzzsY"
      },
      "source": [
        "from sklearn.model_selection import train_test_split\r\n",
        "X_train,X_test,y_train,y_test = train_test_split(contentSequence,y[\"Label\"],test_size=0.20,random_state=1)"
      ],
      "execution_count": null,
      "outputs": []
    },
    {
      "cell_type": "code",
      "metadata": {
        "colab": {
          "base_uri": "https://localhost:8080/"
        },
        "id": "YBs3Ra9-3QmW",
        "outputId": "26f64db3-f862-4ea0-904e-1c95f30e3911"
      },
      "source": [
        "X_train.shape"
      ],
      "execution_count": null,
      "outputs": [
        {
          "output_type": "execute_result",
          "data": {
            "text/plain": [
              "(4000, 250)"
            ]
          },
          "metadata": {
            "tags": []
          },
          "execution_count": 35
        }
      ]
    },
    {
      "cell_type": "code",
      "metadata": {
        "colab": {
          "base_uri": "https://localhost:8080/"
        },
        "id": "cWjulZ653SCw",
        "outputId": "085dea33-cd36-4d2f-c9c0-d6485a27b33b"
      },
      "source": [
        "y_train.shape"
      ],
      "execution_count": null,
      "outputs": [
        {
          "output_type": "execute_result",
          "data": {
            "text/plain": [
              "(4000,)"
            ]
          },
          "metadata": {
            "tags": []
          },
          "execution_count": 74
        }
      ]
    },
    {
      "cell_type": "code",
      "metadata": {
        "id": "pIUXQcvt6-5_"
      },
      "source": [
        "y_train"
      ],
      "execution_count": null,
      "outputs": []
    },
    {
      "cell_type": "markdown",
      "metadata": {
        "id": "sgYVEAYsbUhF"
      },
      "source": [
        "# Defining Neural Network"
      ]
    },
    {
      "cell_type": "code",
      "metadata": {
        "id": "95usUgrZbWce"
      },
      "source": [
        "model = Sequential()\r\n",
        "#Non-trainable embeddidng layer\r\n",
        "model.add(Embedding(vocab_size+1, output_dim=embedding_dim, weights=[embeddings_matrix], input_length=max_length, trainable=False))\r\n",
        "#LSTM \r\n",
        "model.add(LSTM(units=128, dropout=0.2))\r\n",
        "model.add(Dense(1, activation='sigmoid'))\r\n",
        "model.compile(optimizer='adam', loss='binary_crossentropy', metrics=['accuracy'])\r\n",
        "\r\n",
        "#del embeddings_matrix\r\n"
      ],
      "execution_count": null,
      "outputs": []
    },
    {
      "cell_type": "code",
      "metadata": {
        "colab": {
          "base_uri": "https://localhost:8080/"
        },
        "id": "qeHh4f9LaDOJ",
        "outputId": "ff491375-0cfc-4a7e-d051-ca9d1fa8eb0a"
      },
      "source": [
        "model.summary()"
      ],
      "execution_count": null,
      "outputs": [
        {
          "output_type": "stream",
          "text": [
            "Model: \"sequential_3\"\n",
            "_________________________________________________________________\n",
            "Layer (type)                 Output Shape              Param #   \n",
            "=================================================================\n",
            "embedding_3 (Embedding)      (None, 250, 100)          7301800   \n",
            "_________________________________________________________________\n",
            "lstm_2 (LSTM)                (None, 128)               117248    \n",
            "_________________________________________________________________\n",
            "dense_2 (Dense)              (None, 1)                 129       \n",
            "=================================================================\n",
            "Total params: 7,419,177\n",
            "Trainable params: 117,377\n",
            "Non-trainable params: 7,301,800\n",
            "_________________________________________________________________\n"
          ],
          "name": "stdout"
        }
      ]
    },
    {
      "cell_type": "code",
      "metadata": {
        "colab": {
          "base_uri": "https://localhost:8080/"
        },
        "id": "6YekUaaJbZFU",
        "outputId": "dfeec9e0-bc0a-4154-980b-84f3e3443705"
      },
      "source": [
        "history = model.fit(X_train, y_train, validation_data = (X_test,y_test) , epochs=5)"
      ],
      "execution_count": null,
      "outputs": [
        {
          "output_type": "stream",
          "text": [
            "Epoch 1/5\n",
            "125/125 [==============================] - 24s 193ms/step - loss: 0.4344 - accuracy: 0.7847 - val_loss: 0.5030 - val_accuracy: 0.7480\n",
            "Epoch 2/5\n",
            "125/125 [==============================] - 24s 191ms/step - loss: 0.4224 - accuracy: 0.7872 - val_loss: 0.4937 - val_accuracy: 0.7520\n",
            "Epoch 3/5\n",
            "125/125 [==============================] - 24s 194ms/step - loss: 0.3805 - accuracy: 0.8250 - val_loss: 0.4593 - val_accuracy: 0.7820\n",
            "Epoch 4/5\n",
            "125/125 [==============================] - 24s 192ms/step - loss: 0.3348 - accuracy: 0.8522 - val_loss: 0.4737 - val_accuracy: 0.7760\n",
            "Epoch 5/5\n",
            "125/125 [==============================] - 24s 195ms/step - loss: 0.3114 - accuracy: 0.8590 - val_loss: 0.5029 - val_accuracy: 0.7780\n"
          ],
          "name": "stdout"
        }
      ]
    },
    {
      "cell_type": "code",
      "metadata": {
        "id": "JLrpC2W_bapv"
      },
      "source": [
        "y_pred_glove = (model.predict(X_test) > 0.5).astype(\"int\")"
      ],
      "execution_count": null,
      "outputs": []
    },
    {
      "cell_type": "code",
      "metadata": {
        "id": "XyxkHLz2bd0v",
        "colab": {
          "base_uri": "https://localhost:8080/"
        },
        "outputId": "cbd39e3e-e932-47f2-ad9a-8d6055c468d1"
      },
      "source": [
        "print(classification_report(y_test, y_pred_glove, zero_division = 1))"
      ],
      "execution_count": null,
      "outputs": [
        {
          "output_type": "stream",
          "text": [
            "              precision    recall  f1-score   support\n",
            "\n",
            "           0       0.71      0.83      0.76       506\n",
            "           1       0.79      0.65      0.71       494\n",
            "\n",
            "    accuracy                           0.74      1000\n",
            "   macro avg       0.75      0.74      0.74      1000\n",
            "weighted avg       0.75      0.74      0.74      1000\n",
            "\n"
          ],
          "name": "stdout"
        }
      ]
    },
    {
      "cell_type": "code",
      "metadata": {
        "id": "g7bz6GrQbfYD",
        "colab": {
          "base_uri": "https://localhost:8080/",
          "height": 541
        },
        "outputId": "5738f85a-0622-47b7-a688-99689b2c1386"
      },
      "source": [
        "#plot accuracy and loss\r\n",
        "def plot_graphs(history, string):\r\n",
        "  plt.plot(history.history[string])\r\n",
        "  plt.plot(history.history['val_'+string])\r\n",
        "  plt.xlabel(\"Epochs\")\r\n",
        "  plt.ylabel(string)\r\n",
        "  plt.legend([string, 'val_'+string])\r\n",
        "  plt.show()\r\n",
        "  \r\n",
        "plot_graphs(history, \"accuracy\")\r\n",
        "plot_graphs(history, \"loss\")"
      ],
      "execution_count": null,
      "outputs": [
        {
          "output_type": "display_data",
          "data": {
            "image/png": "[encoded data removed]",
            "text/plain": [
              "<Figure size 432x288 with 1 Axes>"
            ]
          },
          "metadata": {
            "tags": [],
            "needs_background": "light"
          }
        },
        {
          "output_type": "display_data",
          "data": {
            "image/png": "[encoded data removed]",
            "text/plain": [
              "<Figure size 432x288 with 1 Axes>"
            ]
          },
          "metadata": {
            "tags": [],
            "needs_background": "light"
          }
        }
      ]
    },
    {
      "cell_type": "code",
      "metadata": {
        "id": "2TlODaU-jrmH"
      },
      "source": [
        "model_noGlove = Sequential()\r\n",
        "#Non-trainable embeddidng layer\r\n",
        "model_noGlove.add(Embedding(vocab_size+1,50,input_length=max_length))\r\n",
        "#LSTM \r\n",
        "model_noGlove.add(LSTM(units=128))\r\n",
        "model_noGlove.add(Dense(1, activation='sigmoid'))\r\n",
        "model_noGlove.compile(optimizer='adam', loss='binary_crossentropy', metrics=['acc'])"
      ],
      "execution_count": null,
      "outputs": []
    },
    {
      "cell_type": "code",
      "metadata": {
        "colab": {
          "base_uri": "https://localhost:8080/"
        },
        "id": "5hgcYNze5XNh",
        "outputId": "bb3cdd0b-bdc9-4469-9eef-7f6af124a97a"
      },
      "source": [
        "history_noGlove = model_noGlove.fit(X_train, y_train, validation_data = (X_test,y_test) , epochs=5)"
      ],
      "execution_count": null,
      "outputs": [
        {
          "output_type": "stream",
          "text": [
            "125/125 [==============================] - 41s 327ms/step - loss: 0.0038 - acc: 0.9995 - val_loss: 0.8910 - val_acc: 0.8210\n",
            "Epoch 4/5\n",
            "125/125 [==============================] - 41s 325ms/step - loss: 0.0176 - acc: 0.9955 - val_loss: 0.8176 - val_acc: 0.7530\n",
            "Epoch 5/5\n",
            "125/125 [==============================] - 41s 329ms/step - loss: 0.0084 - acc: 0.9975 - val_loss: 0.8764 - val_acc: 0.8070\n"
          ],
          "name": "stdout"
        }
      ]
    }
  ]
}