{
  "nbformat": 4,
  "nbformat_minor": 0,
  "metadata": {
    "accelerator": "GPU",
    "colab": {
      "name": "nelasentiment.ipynb",
      "provenance": [],
      "collapsed_sections": [
        "2S2OOv17oOFF",
        "l9F13qL5llI2",
        "vMqgcw-MBO0a",
        "9czIQNROUWsM"
      ],
      "toc_visible": true,
      "machine_shape": "hm",
      "include_colab_link": true
    },
    "kernelspec": {
      "display_name": "Python 3",
      "language": "python",
      "name": "python3"
    },
    "language_info": {
      "codemirror_mode": {
        "name": "ipython",
        "version": 3
      },
      "file_extension": ".py",
      "mimetype": "text/x-python",
      "name": "python",
      "nbconvert_exporter": "python",
      "pygments_lexer": "ipython3",
      "version": "3.8.3"
    }
  },
  "cells": [
    {
      "cell_type": "markdown",
      "metadata": {
        "id": "view-in-github",
        "colab_type": "text"
      },
      "source": [
        "<a href=\"https://colab.research.google.com/github/vasvarym/FakeNewsProject/blob/main/nelasentiment.ipynb\" target=\"_parent\"><img src=\"https://colab.research.google.com/assets/colab-badge.svg\" alt=\"Open In Colab\"/></a>"
      ]
    },
    {
      "cell_type": "markdown",
      "metadata": {
        "id": "Ne_QT4ael6tW"
      },
      "source": [
        "#Import Libraries"
      ]
    },
    {
      "cell_type": "code",
      "metadata": {
        "id": "m5saGi6TllIz"
      },
      "source": [
        "import pandas as pd\n",
        "import numpy as np\n",
        "import seaborn as sb\n",
        "import nltk\n",
        "import re\n",
        "\n",
        "import matplotlib.pyplot as plt\n",
        "from nltk.corpus import stopwords\n",
        "from nltk.tokenize import word_tokenize\n",
        "from nltk.stem import WordNetLemmatizer\n",
        "\n",
        "from sklearn.feature_extraction.text import CountVectorizer\n",
        "from sklearn.feature_extraction.text import TfidfTransformer, TfidfVectorizer\n",
        "\n",
        "import nltk\n",
        "import nltk.corpus\n",
        "import string\n",
        "from gensim.models.word2vec import Word2Vec\n",
        "from sklearn.pipeline import Pipeline\n",
        "\n",
        "\n",
        "from sklearn.neural_network import MLPClassifier\n",
        "from sklearn.linear_model import LogisticRegression\n",
        "from sklearn.tree import DecisionTreeClassifier\n",
        "from sklearn.ensemble import RandomForestClassifier\n",
        "from sklearn.naive_bayes import MultinomialNB\n",
        "from sklearn import svm\n",
        "from sklearn.svm import LinearSVC\n",
        "from sklearn.model_selection import cross_validate, GridSearchCV\n",
        "\n",
        "from sklearn.metrics import confusion_matrix, f1_score, classification_report, accuracy_score"
      ],
      "execution_count": null,
      "outputs": []
    },
    {
      "cell_type": "code",
      "metadata": {
        "id": "i52kNr0pO0hk"
      },
      "source": [
        "from keras.models import Model\n",
        "from keras.layers import LSTM, Activation, Dense, Dropout, Input, Embedding,Bidirectional\n",
        "from keras.optimizers import RMSprop\n",
        "from keras.preprocessing.text import Tokenizer\n",
        "from keras.preprocessing import text, sequence\n",
        "from keras.utils import to_categorical\n",
        "from keras.callbacks import EarlyStopping\n",
        "from tensorflow.keras.models import Sequential\n",
        "from keras.preprocessing.sequence import pad_sequences"
      ],
      "execution_count": null,
      "outputs": []
    },
    {
      "cell_type": "code",
      "metadata": {
        "colab": {
          "base_uri": "https://localhost:8080/"
        },
        "id": "31G5OI-olynX",
        "outputId": "347b1ec6-ae10-4860-e6b9-7852d43144c6"
      },
      "source": [
        "import nltk\n",
        "\n",
        "nltk.download('stopwords')\n",
        "nltk.download('wordnet')\n",
        "nltk.download('punkt')\n",
        "nltk.download('averaged_perceptron_tagger')\n",
        "nltk.download('maxent_ne_chunker')\n",
        "nltk.download('words')"
      ],
      "execution_count": null,
      "outputs": [
        {
          "output_type": "stream",
          "text": [
            "[nltk_data] Downloading package stopwords to /root/nltk_data...\n",
            "[nltk_data]   Unzipping corpora/stopwords.zip.\n",
            "[nltk_data] Downloading package wordnet to /root/nltk_data...\n",
            "[nltk_data]   Unzipping corpora/wordnet.zip.\n",
            "[nltk_data] Downloading package punkt to /root/nltk_data...\n",
            "[nltk_data]   Unzipping tokenizers/punkt.zip.\n",
            "[nltk_data] Downloading package averaged_perceptron_tagger to\n",
            "[nltk_data]     /root/nltk_data...\n",
            "[nltk_data]   Unzipping taggers/averaged_perceptron_tagger.zip.\n",
            "[nltk_data] Downloading package maxent_ne_chunker to\n",
            "[nltk_data]     /root/nltk_data...\n",
            "[nltk_data]   Unzipping chunkers/maxent_ne_chunker.zip.\n",
            "[nltk_data] Downloading package words to /root/nltk_data...\n",
            "[nltk_data]   Unzipping corpora/words.zip.\n"
          ],
          "name": "stdout"
        },
        {
          "output_type": "execute_result",
          "data": {
            "text/plain": [
              "True"
            ]
          },
          "metadata": {
            "tags": []
          },
          "execution_count": 3
        }
      ]
    },
    {
      "cell_type": "markdown",
      "metadata": {
        "id": "83TgHaOql-jf"
      },
      "source": [
        "#Import Dataset"
      ]
    },
    {
      "cell_type": "code",
      "metadata": {
        "colab": {
          "base_uri": "https://localhost:8080/"
        },
        "id": "h68GBCvdmBT4",
        "outputId": "4f40a00e-4e2d-463e-f31a-314705bf0a73"
      },
      "source": [
        "from google.colab import drive\n",
        "drive.mount('/content/drive')"
      ],
      "execution_count": 173,
      "outputs": [
        {
          "output_type": "stream",
          "text": [
            "Drive already mounted at /content/drive; to attempt to forcibly remount, call drive.mount(\"/content/drive\", force_remount=True).\n"
          ],
          "name": "stdout"
        }
      ]
    },
    {
      "cell_type": "code",
      "metadata": {
        "id": "qfqd2FUt8XmI"
      },
      "source": [
        "#Raw Dataset Without sentiment\n",
        "#data = pd.read_csv(\"/content/drive/My Drive/nela10sample.csv\")\n",
        "#data.content=data.content.astype(str)\n",
        "#data.title=data.title.astype(str)"
      ],
      "execution_count": null,
      "outputs": []
    },
    {
      "cell_type": "code",
      "metadata": {
        "id": "uhQOufnElBhE"
      },
      "source": [
        "#Large sampled dataset without sentiment and emotion\n",
        "#data = pd.read_csv(\"/content/drive/My Drive/nela10sample.csv\")\n",
        "# Processed dataset with sentiment and emotion\n",
        "data = pd.read_csv(\"/content/drive/My Drive/nelasentemofinal.csv\")\n"
      ],
      "execution_count": 174,
      "outputs": []
    },
    {
      "cell_type": "code",
      "metadata": {
        "colab": {
          "base_uri": "https://localhost:8080/",
          "height": 831
        },
        "id": "SXuiDF4HoI6p",
        "outputId": "2dabc8f2-3606-4a98-aafe-dc5008125ea6"
      },
      "source": [
        "data"
      ],
      "execution_count": null,
      "outputs": [
        {
          "output_type": "execute_result",
          "data": {
            "text/html": [
              "<div>\n",
              "<style scoped>\n",
              "    .dataframe tbody tr th:only-of-type {\n",
              "        vertical-align: middle;\n",
              "    }\n",
              "\n",
              "    .dataframe tbody tr th {\n",
              "        vertical-align: top;\n",
              "    }\n",
              "\n",
              "    .dataframe thead th {\n",
              "        text-align: right;\n",
              "    }\n",
              "</style>\n",
              "<table border=\"1\" class=\"dataframe\">\n",
              "  <thead>\n",
              "    <tr style=\"text-align: right;\">\n",
              "      <th></th>\n",
              "      <th>content</th>\n",
              "      <th>Reliability</th>\n",
              "      <th>Polarity</th>\n",
              "      <th>Happy</th>\n",
              "      <th>Angry</th>\n",
              "      <th>Surprise</th>\n",
              "      <th>Sad</th>\n",
              "      <th>Fear</th>\n",
              "    </tr>\n",
              "  </thead>\n",
              "  <tbody>\n",
              "    <tr>\n",
              "      <th>0</th>\n",
              "      <td>Students could take SAT at home if schools rem...</td>\n",
              "      <td>0</td>\n",
              "      <td>0.079265</td>\n",
              "      <td>0.16</td>\n",
              "      <td>0.03</td>\n",
              "      <td>0.17</td>\n",
              "      <td>0.14</td>\n",
              "      <td>0.50</td>\n",
              "    </tr>\n",
              "    <tr>\n",
              "      <th>1</th>\n",
              "      <td>Detroit facing fresh fiscal woes with coronavi...</td>\n",
              "      <td>0</td>\n",
              "      <td>0.072199</td>\n",
              "      <td>0.07</td>\n",
              "      <td>0.09</td>\n",
              "      <td>0.18</td>\n",
              "      <td>0.20</td>\n",
              "      <td>0.46</td>\n",
              "    </tr>\n",
              "    <tr>\n",
              "      <th>2</th>\n",
              "      <td>Thousands protest Michigan governor's social d...</td>\n",
              "      <td>0</td>\n",
              "      <td>-0.072874</td>\n",
              "      <td>0.07</td>\n",
              "      <td>0.06</td>\n",
              "      <td>0.20</td>\n",
              "      <td>0.24</td>\n",
              "      <td>0.43</td>\n",
              "    </tr>\n",
              "    <tr>\n",
              "      <th>3</th>\n",
              "      <td>Baltimore Police defends planned aerial survei...</td>\n",
              "      <td>0</td>\n",
              "      <td>0.033147</td>\n",
              "      <td>0.12</td>\n",
              "      <td>0.00</td>\n",
              "      <td>0.12</td>\n",
              "      <td>0.17</td>\n",
              "      <td>0.57</td>\n",
              "    </tr>\n",
              "    <tr>\n",
              "      <th>4</th>\n",
              "      <td>Attorney who fought for civil rights in Louisi...</td>\n",
              "      <td>0</td>\n",
              "      <td>0.185473</td>\n",
              "      <td>0.09</td>\n",
              "      <td>0.03</td>\n",
              "      <td>0.24</td>\n",
              "      <td>0.14</td>\n",
              "      <td>0.49</td>\n",
              "    </tr>\n",
              "    <tr>\n",
              "      <th>...</th>\n",
              "      <td>...</td>\n",
              "      <td>...</td>\n",
              "      <td>...</td>\n",
              "      <td>...</td>\n",
              "      <td>...</td>\n",
              "      <td>...</td>\n",
              "      <td>...</td>\n",
              "      <td>...</td>\n",
              "    </tr>\n",
              "    <tr>\n",
              "      <th>19995</th>\n",
              "      <td>North Korea Power Vacuum Brings US And China T...</td>\n",
              "      <td>1</td>\n",
              "      <td>0.292932</td>\n",
              "      <td>0.12</td>\n",
              "      <td>0.12</td>\n",
              "      <td>0.12</td>\n",
              "      <td>0.38</td>\n",
              "      <td>0.25</td>\n",
              "    </tr>\n",
              "    <tr>\n",
              "      <th>19996</th>\n",
              "      <td>Twitter Suspends Account of Biotech Company Te...</td>\n",
              "      <td>1</td>\n",
              "      <td>0.094251</td>\n",
              "      <td>0.07</td>\n",
              "      <td>0.07</td>\n",
              "      <td>0.07</td>\n",
              "      <td>0.22</td>\n",
              "      <td>0.56</td>\n",
              "    </tr>\n",
              "    <tr>\n",
              "      <th>19997</th>\n",
              "      <td>Riots Have Started In Venezuela! Will It Come ...</td>\n",
              "      <td>1</td>\n",
              "      <td>0.000000</td>\n",
              "      <td>0.00</td>\n",
              "      <td>0.00</td>\n",
              "      <td>0.50</td>\n",
              "      <td>0.00</td>\n",
              "      <td>0.50</td>\n",
              "    </tr>\n",
              "    <tr>\n",
              "      <th>19998</th>\n",
              "      <td>True Coronavirus Death Toll Likely 60% Higher ...</td>\n",
              "      <td>1</td>\n",
              "      <td>0.065671</td>\n",
              "      <td>0.03</td>\n",
              "      <td>0.03</td>\n",
              "      <td>0.06</td>\n",
              "      <td>0.17</td>\n",
              "      <td>0.70</td>\n",
              "    </tr>\n",
              "    <tr>\n",
              "      <th>19999</th>\n",
              "      <td>WHO Mysteriously Deletes Tweet About Reinfecti...</td>\n",
              "      <td>1</td>\n",
              "      <td>0.117919</td>\n",
              "      <td>0.11</td>\n",
              "      <td>0.00</td>\n",
              "      <td>0.37</td>\n",
              "      <td>0.20</td>\n",
              "      <td>0.31</td>\n",
              "    </tr>\n",
              "  </tbody>\n",
              "</table>\n",
              "<p>20000 rows × 8 columns</p>\n",
              "</div>"
            ],
            "text/plain": [
              "                                                 content  ...  Fear\n",
              "0      Students could take SAT at home if schools rem...  ...  0.50\n",
              "1      Detroit facing fresh fiscal woes with coronavi...  ...  0.46\n",
              "2      Thousands protest Michigan governor's social d...  ...  0.43\n",
              "3      Baltimore Police defends planned aerial survei...  ...  0.57\n",
              "4      Attorney who fought for civil rights in Louisi...  ...  0.49\n",
              "...                                                  ...  ...   ...\n",
              "19995  North Korea Power Vacuum Brings US And China T...  ...  0.25\n",
              "19996  Twitter Suspends Account of Biotech Company Te...  ...  0.56\n",
              "19997  Riots Have Started In Venezuela! Will It Come ...  ...  0.50\n",
              "19998  True Coronavirus Death Toll Likely 60% Higher ...  ...  0.70\n",
              "19999  WHO Mysteriously Deletes Tweet About Reinfecti...  ...  0.31\n",
              "\n",
              "[20000 rows x 8 columns]"
            ]
          },
          "metadata": {
            "tags": []
          },
          "execution_count": 14
        }
      ]
    },
    {
      "cell_type": "code",
      "metadata": {
        "colab": {
          "base_uri": "https://localhost:8080/"
        },
        "id": "Anbyz6GgQaMj",
        "outputId": "981ddb49-79b0-44c9-c259-39103f15dad3"
      },
      "source": [
        "print (data.loc[19999,'content'])"
      ],
      "execution_count": null,
      "outputs": [
        {
          "output_type": "stream",
          "text": [
            "WHO Mysteriously Deletes Tweet About Reinfection as ‘Immunity Passports’ Being Debated The World Health Organization (WHO) on Sunday deleted an alarming tweet for unknown reasons suggesting COVID-19 infected persons could catch the disease a second time.\n",
            "\n",
            "The tweet was live long enough to be picked up in the media — some of which reported the information as “misleading” — before its quiet deletion later in the day.\n",
            "\n",
            "The tweet garnered well over ten thousand retweets and tens of thousands of “likes” before it disappeared.\n",
            "\n",
            "The controversial statement said: “There is currently no evidence that people who have recovered from #COVID19 and have antibodies are protected from a second infection.”\n",
            "\n",
            "Health experts and some publications immediately took issue with the phraseology, pointing out that “no evidence” will be taken broadly taken as ‘confirmation’ that people are not protected via antibodies.\n",
            "\n",
            "Most epidemiologists believe COVID-19 survivors do build up some immunity, but still admit the virus is so new it hasn’t been studied enough to come to definitive conclusions.\n",
            "\n",
            "As Reason pointed out, the controversy comes as the idea of so-called “immunity passports” is being hotly debated:\n",
            "\n",
            "On Friday, the WHO published a scientific brief on “immunity passports” — the idea that governments should grant special documents to citizens who test positive for COVID-19 antibodies, allowing them to move about freely. The WHO warned that this is premature, since “no study has evaluated whether the presence of antibodies to SARS-CoV-2 confers immunity to subsequent infection by this virus in humans.” The WHO is correct that scientists have not determined the degree of immunity enjoyed by COVID-19 survivors.\n",
            "\n",
            "One critic, statistician Nate Silver said in a tweet pushing back against the WHO’s Sunday Tweet, saying:\n",
            "\n",
            "It appears the WHO deleted the tweet out of concern that it could be misleading to the general public, however, it’s ultimately unclear why they made this decision, instead of just updating it with more nuanced information.\n"
          ],
          "name": "stdout"
        }
      ]
    },
    {
      "cell_type": "code",
      "metadata": {
        "colab": {
          "base_uri": "https://localhost:8080/",
          "height": 352
        },
        "id": "C_XLmTc9p8Ks",
        "outputId": "1a0e2679-2beb-4b35-a38d-be25eb62059f"
      },
      "source": [
        "data['word_count'] = [len(s.split()) for s in data['content']]\n",
        "sb.distplot(data['word_count'][(data['word_count'] < 10000)], kde=False, rug=False)\n"
      ],
      "execution_count": null,
      "outputs": [
        {
          "output_type": "stream",
          "text": [
            "/usr/local/lib/python3.7/dist-packages/seaborn/distributions.py:2557: FutureWarning: `distplot` is a deprecated function and will be removed in a future version. Please adapt your code to use either `displot` (a figure-level function with similar flexibility) or `histplot` (an axes-level function for histograms).\n",
            "  warnings.warn(msg, FutureWarning)\n"
          ],
          "name": "stderr"
        },
        {
          "output_type": "execute_result",
          "data": {
            "text/plain": [
              "<matplotlib.axes._subplots.AxesSubplot at 0x7f161725a510>"
            ]
          },
          "metadata": {
            "tags": []
          },
          "execution_count": 11
        },
        {
          "output_type": "display_data",
          "data": {
            "image/png": "[encoded data removed]",
            "text/plain": [
              "<Figure size 432x288 with 1 Axes>"
            ]
          },
          "metadata": {
            "tags": []
          }
        }
      ]
    },
    {
      "cell_type": "code",
      "metadata": {
        "colab": {
          "base_uri": "https://localhost:8080/"
        },
        "id": "7WVONVWpwwqG",
        "outputId": "c0866a27-5370-4dbf-bde6-7f32db469aa9"
      },
      "source": [
        "data.dtypes"
      ],
      "execution_count": null,
      "outputs": [
        {
          "output_type": "execute_result",
          "data": {
            "text/plain": [
              "content        object\n",
              "Reliability     int64\n",
              "dtype: object"
            ]
          },
          "metadata": {
            "tags": []
          },
          "execution_count": 41
        }
      ]
    },
    {
      "cell_type": "markdown",
      "metadata": {
        "id": "2S2OOv17oOFF"
      },
      "source": [
        "# Ignore this if pre-processed dataset is loaded"
      ]
    },
    {
      "cell_type": "code",
      "metadata": {
        "id": "ktjHy1IwtJIY"
      },
      "source": [
        "#dropping rows including null values\n",
        "data = data.dropna()"
      ],
      "execution_count": null,
      "outputs": []
    },
    {
      "cell_type": "code",
      "metadata": {
        "id": "4DWlB2RGadJl"
      },
      "source": [
        "# Change labels\n",
        "def change_labels(y):\n",
        "    if y == 0:\n",
        "        return 0\n",
        "    if y == 2:\n",
        "        return 1"
      ],
      "execution_count": null,
      "outputs": []
    },
    {
      "cell_type": "code",
      "metadata": {
        "colab": {
          "base_uri": "https://localhost:8080/"
        },
        "id": "crZiIRDtllI1",
        "outputId": "c48c13fc-822f-4a5c-903f-26305fbfe21b"
      },
      "source": [
        "# Shape of each set\n",
        "\n",
        "print(\"Shape of DATA: \", data.shape)"
      ],
      "execution_count": null,
      "outputs": [
        {
          "output_type": "stream",
          "text": [
            "Shape of DATA:  (102554, 3)\n"
          ],
          "name": "stdout"
        }
      ]
    },
    {
      "cell_type": "code",
      "metadata": {
        "id": "6T__whUu-q5R"
      },
      "source": [
        "# Concetanate title and content\n",
        "data[\"content\"] = data[\"title\"] + \" \" + data[\"content\"]\n",
        "\n",
        "#Keep only content, Reliability as columns\n",
        "data = data.drop(['id','date','source','title','author','url','published','published_utc','collection_utc'],axis=1)"
      ],
      "execution_count": null,
      "outputs": []
    },
    {
      "cell_type": "code",
      "metadata": {
        "id": "BcJMBp5pqzVW"
      },
      "source": [
        "#Change labels to 0 and 1.\n",
        "data[\"Reliability\"] = data.Reliability.apply(change_labels)\n",
        "\n",
        "print(data[\"Reliability\"])"
      ],
      "execution_count": null,
      "outputs": []
    },
    {
      "cell_type": "markdown",
      "metadata": {
        "id": "l9F13qL5llI2"
      },
      "source": [
        "# Sentiment Analysis (ignore if final dataset is loaded)\n",
        "\n",
        "Get polarity and subjectivity scores of the news with TextBlob"
      ]
    },
    {
      "cell_type": "code",
      "metadata": {
        "id": "Vn19yi-vllI2"
      },
      "source": [
        "# Import the TextBlob\n",
        "from textblob import TextBlob"
      ],
      "execution_count": null,
      "outputs": []
    },
    {
      "cell_type": "code",
      "metadata": {
        "colab": {
          "base_uri": "https://localhost:8080/",
          "height": 415
        },
        "id": "6X0qiFIixp1T",
        "outputId": "bf96a79a-916f-4511-de61-905e4d087421"
      },
      "source": [
        "data"
      ],
      "execution_count": null,
      "outputs": [
        {
          "output_type": "execute_result",
          "data": {
            "text/html": [
              "<div>\n",
              "<style scoped>\n",
              "    .dataframe tbody tr th:only-of-type {\n",
              "        vertical-align: middle;\n",
              "    }\n",
              "\n",
              "    .dataframe tbody tr th {\n",
              "        vertical-align: top;\n",
              "    }\n",
              "\n",
              "    .dataframe thead th {\n",
              "        text-align: right;\n",
              "    }\n",
              "</style>\n",
              "<table border=\"1\" class=\"dataframe\">\n",
              "  <thead>\n",
              "    <tr style=\"text-align: right;\">\n",
              "      <th></th>\n",
              "      <th>content</th>\n",
              "      <th>Reliability</th>\n",
              "    </tr>\n",
              "  </thead>\n",
              "  <tbody>\n",
              "    <tr>\n",
              "      <th>0</th>\n",
              "      <td>Students could take SAT at home if schools rem...</td>\n",
              "      <td>0</td>\n",
              "    </tr>\n",
              "    <tr>\n",
              "      <th>1</th>\n",
              "      <td>Detroit facing fresh fiscal woes with coronavi...</td>\n",
              "      <td>0</td>\n",
              "    </tr>\n",
              "    <tr>\n",
              "      <th>2</th>\n",
              "      <td>Thousands protest Michigan governor's social d...</td>\n",
              "      <td>0</td>\n",
              "    </tr>\n",
              "    <tr>\n",
              "      <th>3</th>\n",
              "      <td>Baltimore Police defends planned aerial survei...</td>\n",
              "      <td>0</td>\n",
              "    </tr>\n",
              "    <tr>\n",
              "      <th>4</th>\n",
              "      <td>Attorney who fought for civil rights in Louisi...</td>\n",
              "      <td>0</td>\n",
              "    </tr>\n",
              "    <tr>\n",
              "      <th>...</th>\n",
              "      <td>...</td>\n",
              "      <td>...</td>\n",
              "    </tr>\n",
              "    <tr>\n",
              "      <th>102549</th>\n",
              "      <td>North Korea Power Vacuum Brings US And China T...</td>\n",
              "      <td>1</td>\n",
              "    </tr>\n",
              "    <tr>\n",
              "      <th>102550</th>\n",
              "      <td>Twitter Suspends Account of Biotech Company Te...</td>\n",
              "      <td>1</td>\n",
              "    </tr>\n",
              "    <tr>\n",
              "      <th>102551</th>\n",
              "      <td>Riots Have Started In Venezuela! Will It Come ...</td>\n",
              "      <td>1</td>\n",
              "    </tr>\n",
              "    <tr>\n",
              "      <th>102552</th>\n",
              "      <td>True Coronavirus Death Toll Likely 60% Higher ...</td>\n",
              "      <td>1</td>\n",
              "    </tr>\n",
              "    <tr>\n",
              "      <th>102553</th>\n",
              "      <td>WHO Mysteriously Deletes Tweet About Reinfecti...</td>\n",
              "      <td>1</td>\n",
              "    </tr>\n",
              "  </tbody>\n",
              "</table>\n",
              "<p>102554 rows × 2 columns</p>\n",
              "</div>"
            ],
            "text/plain": [
              "                                                  content  Reliability\n",
              "0       Students could take SAT at home if schools rem...            0\n",
              "1       Detroit facing fresh fiscal woes with coronavi...            0\n",
              "2       Thousands protest Michigan governor's social d...            0\n",
              "3       Baltimore Police defends planned aerial survei...            0\n",
              "4       Attorney who fought for civil rights in Louisi...            0\n",
              "...                                                   ...          ...\n",
              "102549  North Korea Power Vacuum Brings US And China T...            1\n",
              "102550  Twitter Suspends Account of Biotech Company Te...            1\n",
              "102551  Riots Have Started In Venezuela! Will It Come ...            1\n",
              "102552  True Coronavirus Death Toll Likely 60% Higher ...            1\n",
              "102553  WHO Mysteriously Deletes Tweet About Reinfecti...            1\n",
              "\n",
              "[102554 rows x 2 columns]"
            ]
          },
          "metadata": {
            "tags": []
          },
          "execution_count": 55
        }
      ]
    },
    {
      "cell_type": "code",
      "metadata": {
        "id": "Bh8SKjV1llI3"
      },
      "source": [
        "# Add polarities and subjectivities into the DataFrame using TextBlob\n",
        "data['Polarity'] = data['content'].apply(lambda text: TextBlob(text).sentiment.polarity)\n",
        "\n",
        "# Display the Polarity and Subjectivity columns of train dataset\n",
        "display(data[[\"content\",\"Polarity\"]].head(10))"
      ],
      "execution_count": null,
      "outputs": []
    },
    {
      "cell_type": "code",
      "metadata": {
        "colab": {
          "base_uri": "https://localhost:8080/",
          "height": 355
        },
        "id": "ib1oXXwbllI3",
        "outputId": "8d00cf2b-388d-4585-c28e-7d27a34943dc"
      },
      "source": [
        "# Define a function to classify polarities\n",
        "def analyse_polarity(polarity):\n",
        "    if polarity > 0:\n",
        "        return \"Positive\"\n",
        "    if polarity == 0:\n",
        "        return \"Neutral\"\n",
        "    if polarity < 0:\n",
        "        return \"Negative\"\n",
        "\n",
        "# Apply the funtion on Polarity column and add the results into a new column\n",
        "data[\"SentLabel\"] = data[\"Polarity\"].apply(analyse_polarity)\n",
        "\n",
        "# Display the Polarity and Subjectivity Analysis\n",
        "display(data[[\"SentLabel\"]].head(10))"
      ],
      "execution_count": null,
      "outputs": [
        {
          "output_type": "display_data",
          "data": {
            "text/html": [
              "<div>\n",
              "<style scoped>\n",
              "    .dataframe tbody tr th:only-of-type {\n",
              "        vertical-align: middle;\n",
              "    }\n",
              "\n",
              "    .dataframe tbody tr th {\n",
              "        vertical-align: top;\n",
              "    }\n",
              "\n",
              "    .dataframe thead th {\n",
              "        text-align: right;\n",
              "    }\n",
              "</style>\n",
              "<table border=\"1\" class=\"dataframe\">\n",
              "  <thead>\n",
              "    <tr style=\"text-align: right;\">\n",
              "      <th></th>\n",
              "      <th>SentLabel</th>\n",
              "    </tr>\n",
              "  </thead>\n",
              "  <tbody>\n",
              "    <tr>\n",
              "      <th>0</th>\n",
              "      <td>Positive</td>\n",
              "    </tr>\n",
              "    <tr>\n",
              "      <th>1</th>\n",
              "      <td>Positive</td>\n",
              "    </tr>\n",
              "    <tr>\n",
              "      <th>2</th>\n",
              "      <td>Negative</td>\n",
              "    </tr>\n",
              "    <tr>\n",
              "      <th>3</th>\n",
              "      <td>Positive</td>\n",
              "    </tr>\n",
              "    <tr>\n",
              "      <th>4</th>\n",
              "      <td>Positive</td>\n",
              "    </tr>\n",
              "    <tr>\n",
              "      <th>5</th>\n",
              "      <td>Positive</td>\n",
              "    </tr>\n",
              "    <tr>\n",
              "      <th>6</th>\n",
              "      <td>Negative</td>\n",
              "    </tr>\n",
              "    <tr>\n",
              "      <th>7</th>\n",
              "      <td>Positive</td>\n",
              "    </tr>\n",
              "    <tr>\n",
              "      <th>8</th>\n",
              "      <td>Negative</td>\n",
              "    </tr>\n",
              "    <tr>\n",
              "      <th>9</th>\n",
              "      <td>Negative</td>\n",
              "    </tr>\n",
              "  </tbody>\n",
              "</table>\n",
              "</div>"
            ],
            "text/plain": [
              "  SentLabel\n",
              "0  Positive\n",
              "1  Positive\n",
              "2  Negative\n",
              "3  Positive\n",
              "4  Positive\n",
              "5  Positive\n",
              "6  Negative\n",
              "7  Positive\n",
              "8  Negative\n",
              "9  Negative"
            ]
          },
          "metadata": {
            "tags": []
          }
        }
      ]
    },
    {
      "cell_type": "code",
      "metadata": {
        "colab": {
          "base_uri": "https://localhost:8080/"
        },
        "id": "sa-9llswllI4",
        "outputId": "15fe940a-38bf-410f-8e47-ba1fa1740e37"
      },
      "source": [
        "# Print the value counts of the SentLabel column\n",
        "print(data[\"SentLabel\"].value_counts())"
      ],
      "execution_count": null,
      "outputs": [
        {
          "output_type": "stream",
          "text": [
            "Positive    16227\n",
            "Negative     3447\n",
            "Neutral       326\n",
            "Name: SentLabel, dtype: int64\n"
          ],
          "name": "stdout"
        }
      ]
    },
    {
      "cell_type": "code",
      "metadata": {
        "colab": {
          "base_uri": "https://localhost:8080/",
          "height": 350
        },
        "id": "UHW4_4WNllI4",
        "outputId": "fa9a2159-d75e-4f1a-915f-bac6ae9d7bdb"
      },
      "source": [
        "import matplotlib.pyplot as plt\n",
        "import seaborn as sns\n",
        "# Change the datatype as \"category\"\n",
        "data[\"SentLabel\"] = data[\"SentLabel\"].astype(\"category\")\n",
        "\n",
        "# Visualize the Label counts\n",
        "sns.countplot(data[\"SentLabel\"])\n",
        "plt.title(\"Label Counts\")\n",
        "plt.show()"
      ],
      "execution_count": null,
      "outputs": [
        {
          "output_type": "stream",
          "text": [
            "/usr/local/lib/python3.7/dist-packages/seaborn/_decorators.py:43: FutureWarning: Pass the following variable as a keyword arg: x. From version 0.12, the only valid positional argument will be `data`, and passing other arguments without an explicit keyword will result in an error or misinterpretation.\n",
            "  FutureWarning\n"
          ],
          "name": "stderr"
        },
        {
          "output_type": "display_data",
          "data": {
            "image/png": "[encoded data removed]",
            "text/plain": [
              "<Figure size 432x288 with 1 Axes>"
            ]
          },
          "metadata": {
            "tags": [],
            "needs_background": "light"
          }
        }
      ]
    },
    {
      "cell_type": "markdown",
      "metadata": {
        "id": "vMqgcw-MBO0a"
      },
      "source": [
        "# Emotion Analysis (ignore if final dataset is leaded)"
      ]
    },
    {
      "cell_type": "code",
      "metadata": {
        "colab": {
          "base_uri": "https://localhost:8080/"
        },
        "id": "yOlEa_qihbhV",
        "outputId": "7778ed42-db22-4ebb-e6cc-7e683a647214"
      },
      "source": [
        "#Install package using pip\n",
        "!pip install text2emotion"
      ],
      "execution_count": null,
      "outputs": [
        {
          "output_type": "stream",
          "text": [
            "Collecting text2emotion\n",
            "\u001b[?25l  Downloading https://files.pythonhosted.org/packages/fe/31/b190e37c1396ca68ab1b5c8ea1a23f2f7848df532ad69133e94853120aed/text2emotion-0.0.5-py3-none-any.whl (57kB)\n",
            "\u001b[K     |████████████████████████████████| 61kB 1.7MB/s \n",
            "\u001b[?25hRequirement already satisfied: nltk in /usr/local/lib/python3.7/dist-packages (from text2emotion) (3.2.5)\n",
            "Collecting emoji>=0.6.0\n",
            "\u001b[?25l  Downloading https://files.pythonhosted.org/packages/24/fa/b3368f41b95a286f8d300e323449ab4e86b85334c2e0b477e94422b8ed0f/emoji-1.2.0-py3-none-any.whl (131kB)\n",
            "\u001b[K     |████████████████████████████████| 133kB 3.6MB/s \n",
            "\u001b[?25hRequirement already satisfied: six in /usr/local/lib/python3.7/dist-packages (from nltk->text2emotion) (1.15.0)\n",
            "Installing collected packages: emoji, text2emotion\n",
            "Successfully installed emoji-1.2.0 text2emotion-0.0.5\n"
          ],
          "name": "stdout"
        }
      ]
    },
    {
      "cell_type": "code",
      "metadata": {
        "colab": {
          "base_uri": "https://localhost:8080/"
        },
        "id": "1gDaqS7whp8V",
        "outputId": "a8292843-a1c8-4d95-b63b-1b5bc72ed356"
      },
      "source": [
        "#Import the modules\n",
        "import text2emotion as te"
      ],
      "execution_count": null,
      "outputs": [
        {
          "output_type": "stream",
          "text": [
            "[nltk_data] Downloading package stopwords to /root/nltk_data...\n",
            "[nltk_data]   Package stopwords is already up-to-date!\n",
            "[nltk_data] Downloading package punkt to /root/nltk_data...\n",
            "[nltk_data]   Package punkt is already up-to-date!\n",
            "[nltk_data] Downloading package wordnet to /root/nltk_data...\n",
            "[nltk_data]   Package wordnet is already up-to-date!\n"
          ],
          "name": "stdout"
        }
      ]
    },
    {
      "cell_type": "code",
      "metadata": {
        "id": "8CO6PjBp3kYY"
      },
      "source": [
        "#Extracting emotions for each article in the dataset\n",
        "data['Emotions'] = data[\"content\"].apply(te.get_emotion)"
      ],
      "execution_count": null,
      "outputs": []
    },
    {
      "cell_type": "code",
      "metadata": {
        "id": "X3ti9y2u10_z"
      },
      "source": [
        "#saving the emotions in a separate dataframe\n",
        "nelasample_emotions = data['Emotions']"
      ],
      "execution_count": null,
      "outputs": []
    },
    {
      "cell_type": "code",
      "metadata": {
        "colab": {
          "base_uri": "https://localhost:8080/"
        },
        "id": "ee56ZAjrhwtN",
        "outputId": "6491b93d-250a-4904-8381-a99f2c01446e"
      },
      "source": [
        "data['Emotions'][0]['Happy']"
      ],
      "execution_count": null,
      "outputs": [
        {
          "output_type": "execute_result",
          "data": {
            "text/plain": [
              "0.16"
            ]
          },
          "metadata": {
            "tags": []
          },
          "execution_count": 31
        }
      ]
    },
    {
      "cell_type": "code",
      "metadata": {
        "id": "p37NvhZpQDCl"
      },
      "source": [
        "#extracting emotions froma  dictionary into new rows\n",
        "dataemo = pd.DataFrame(df_new['Emotions'].tolist())"
      ],
      "execution_count": null,
      "outputs": []
    },
    {
      "cell_type": "code",
      "metadata": {
        "colab": {
          "base_uri": "https://localhost:8080/",
          "height": 415
        },
        "id": "upLNbma_QH4S",
        "outputId": "3bbc9317-9f97-40c6-e22f-f6268f4f1a44"
      },
      "source": [
        "dataemo"
      ],
      "execution_count": null,
      "outputs": [
        {
          "output_type": "execute_result",
          "data": {
            "text/html": [
              "<div>\n",
              "<style scoped>\n",
              "    .dataframe tbody tr th:only-of-type {\n",
              "        vertical-align: middle;\n",
              "    }\n",
              "\n",
              "    .dataframe tbody tr th {\n",
              "        vertical-align: top;\n",
              "    }\n",
              "\n",
              "    .dataframe thead th {\n",
              "        text-align: right;\n",
              "    }\n",
              "</style>\n",
              "<table border=\"1\" class=\"dataframe\">\n",
              "  <thead>\n",
              "    <tr style=\"text-align: right;\">\n",
              "      <th></th>\n",
              "      <th>Happy</th>\n",
              "      <th>Angry</th>\n",
              "      <th>Surprise</th>\n",
              "      <th>Sad</th>\n",
              "      <th>Fear</th>\n",
              "    </tr>\n",
              "  </thead>\n",
              "  <tbody>\n",
              "    <tr>\n",
              "      <th>0</th>\n",
              "      <td>0.16</td>\n",
              "      <td>0.03</td>\n",
              "      <td>0.17</td>\n",
              "      <td>0.14</td>\n",
              "      <td>0.50</td>\n",
              "    </tr>\n",
              "    <tr>\n",
              "      <th>1</th>\n",
              "      <td>0.07</td>\n",
              "      <td>0.09</td>\n",
              "      <td>0.18</td>\n",
              "      <td>0.20</td>\n",
              "      <td>0.46</td>\n",
              "    </tr>\n",
              "    <tr>\n",
              "      <th>2</th>\n",
              "      <td>0.07</td>\n",
              "      <td>0.06</td>\n",
              "      <td>0.20</td>\n",
              "      <td>0.24</td>\n",
              "      <td>0.43</td>\n",
              "    </tr>\n",
              "    <tr>\n",
              "      <th>3</th>\n",
              "      <td>0.12</td>\n",
              "      <td>0.00</td>\n",
              "      <td>0.12</td>\n",
              "      <td>0.17</td>\n",
              "      <td>0.57</td>\n",
              "    </tr>\n",
              "    <tr>\n",
              "      <th>4</th>\n",
              "      <td>0.09</td>\n",
              "      <td>0.03</td>\n",
              "      <td>0.24</td>\n",
              "      <td>0.14</td>\n",
              "      <td>0.49</td>\n",
              "    </tr>\n",
              "    <tr>\n",
              "      <th>...</th>\n",
              "      <td>...</td>\n",
              "      <td>...</td>\n",
              "      <td>...</td>\n",
              "      <td>...</td>\n",
              "      <td>...</td>\n",
              "    </tr>\n",
              "    <tr>\n",
              "      <th>19995</th>\n",
              "      <td>0.12</td>\n",
              "      <td>0.12</td>\n",
              "      <td>0.12</td>\n",
              "      <td>0.38</td>\n",
              "      <td>0.25</td>\n",
              "    </tr>\n",
              "    <tr>\n",
              "      <th>19996</th>\n",
              "      <td>0.07</td>\n",
              "      <td>0.07</td>\n",
              "      <td>0.07</td>\n",
              "      <td>0.22</td>\n",
              "      <td>0.56</td>\n",
              "    </tr>\n",
              "    <tr>\n",
              "      <th>19997</th>\n",
              "      <td>0.00</td>\n",
              "      <td>0.00</td>\n",
              "      <td>0.50</td>\n",
              "      <td>0.00</td>\n",
              "      <td>0.50</td>\n",
              "    </tr>\n",
              "    <tr>\n",
              "      <th>19998</th>\n",
              "      <td>0.03</td>\n",
              "      <td>0.03</td>\n",
              "      <td>0.06</td>\n",
              "      <td>0.17</td>\n",
              "      <td>0.70</td>\n",
              "    </tr>\n",
              "    <tr>\n",
              "      <th>19999</th>\n",
              "      <td>0.11</td>\n",
              "      <td>0.00</td>\n",
              "      <td>0.37</td>\n",
              "      <td>0.20</td>\n",
              "      <td>0.31</td>\n",
              "    </tr>\n",
              "  </tbody>\n",
              "</table>\n",
              "<p>20000 rows × 5 columns</p>\n",
              "</div>"
            ],
            "text/plain": [
              "       Happy  Angry  Surprise   Sad  Fear\n",
              "0       0.16   0.03      0.17  0.14  0.50\n",
              "1       0.07   0.09      0.18  0.20  0.46\n",
              "2       0.07   0.06      0.20  0.24  0.43\n",
              "3       0.12   0.00      0.12  0.17  0.57\n",
              "4       0.09   0.03      0.24  0.14  0.49\n",
              "...      ...    ...       ...   ...   ...\n",
              "19995   0.12   0.12      0.12  0.38  0.25\n",
              "19996   0.07   0.07      0.07  0.22  0.56\n",
              "19997   0.00   0.00      0.50  0.00  0.50\n",
              "19998   0.03   0.03      0.06  0.17  0.70\n",
              "19999   0.11   0.00      0.37  0.20  0.31\n",
              "\n",
              "[20000 rows x 5 columns]"
            ]
          },
          "metadata": {
            "tags": []
          },
          "execution_count": 75
        }
      ]
    },
    {
      "cell_type": "code",
      "metadata": {
        "id": "mP_MZdMuj3yf"
      },
      "source": [
        "#attaching emotions back to the original dataset, now in separate rows\n",
        "data = pd.concat([data, dataemo], axis=1)"
      ],
      "execution_count": null,
      "outputs": []
    },
    {
      "cell_type": "code",
      "metadata": {
        "colab": {
          "base_uri": "https://localhost:8080/",
          "height": 415
        },
        "id": "_BHbPsdLDF21",
        "outputId": "96e86f06-18fd-46f1-d352-339f748f270f"
      },
      "source": [
        "data"
      ],
      "execution_count": null,
      "outputs": [
        {
          "output_type": "execute_result",
          "data": {
            "text/html": [
              "<div>\n",
              "<style scoped>\n",
              "    .dataframe tbody tr th:only-of-type {\n",
              "        vertical-align: middle;\n",
              "    }\n",
              "\n",
              "    .dataframe tbody tr th {\n",
              "        vertical-align: top;\n",
              "    }\n",
              "\n",
              "    .dataframe thead th {\n",
              "        text-align: right;\n",
              "    }\n",
              "</style>\n",
              "<table border=\"1\" class=\"dataframe\">\n",
              "  <thead>\n",
              "    <tr style=\"text-align: right;\">\n",
              "      <th></th>\n",
              "      <th>content</th>\n",
              "      <th>Reliability</th>\n",
              "      <th>Polarity</th>\n",
              "      <th>Happy</th>\n",
              "      <th>Angry</th>\n",
              "      <th>Surprise</th>\n",
              "      <th>Sad</th>\n",
              "      <th>Fear</th>\n",
              "    </tr>\n",
              "  </thead>\n",
              "  <tbody>\n",
              "    <tr>\n",
              "      <th>0</th>\n",
              "      <td>Students could take SAT at home if schools rem...</td>\n",
              "      <td>0</td>\n",
              "      <td>0.079265</td>\n",
              "      <td>0.16</td>\n",
              "      <td>0.03</td>\n",
              "      <td>0.17</td>\n",
              "      <td>0.14</td>\n",
              "      <td>0.50</td>\n",
              "    </tr>\n",
              "    <tr>\n",
              "      <th>1</th>\n",
              "      <td>Detroit facing fresh fiscal woes with coronavi...</td>\n",
              "      <td>0</td>\n",
              "      <td>0.072199</td>\n",
              "      <td>0.07</td>\n",
              "      <td>0.09</td>\n",
              "      <td>0.18</td>\n",
              "      <td>0.20</td>\n",
              "      <td>0.46</td>\n",
              "    </tr>\n",
              "    <tr>\n",
              "      <th>2</th>\n",
              "      <td>Thousands protest Michigan governor's social d...</td>\n",
              "      <td>0</td>\n",
              "      <td>-0.072874</td>\n",
              "      <td>0.07</td>\n",
              "      <td>0.06</td>\n",
              "      <td>0.20</td>\n",
              "      <td>0.24</td>\n",
              "      <td>0.43</td>\n",
              "    </tr>\n",
              "    <tr>\n",
              "      <th>3</th>\n",
              "      <td>Baltimore Police defends planned aerial survei...</td>\n",
              "      <td>0</td>\n",
              "      <td>0.033147</td>\n",
              "      <td>0.12</td>\n",
              "      <td>0.00</td>\n",
              "      <td>0.12</td>\n",
              "      <td>0.17</td>\n",
              "      <td>0.57</td>\n",
              "    </tr>\n",
              "    <tr>\n",
              "      <th>4</th>\n",
              "      <td>Attorney who fought for civil rights in Louisi...</td>\n",
              "      <td>0</td>\n",
              "      <td>0.185473</td>\n",
              "      <td>0.09</td>\n",
              "      <td>0.03</td>\n",
              "      <td>0.24</td>\n",
              "      <td>0.14</td>\n",
              "      <td>0.49</td>\n",
              "    </tr>\n",
              "    <tr>\n",
              "      <th>...</th>\n",
              "      <td>...</td>\n",
              "      <td>...</td>\n",
              "      <td>...</td>\n",
              "      <td>...</td>\n",
              "      <td>...</td>\n",
              "      <td>...</td>\n",
              "      <td>...</td>\n",
              "      <td>...</td>\n",
              "    </tr>\n",
              "    <tr>\n",
              "      <th>19995</th>\n",
              "      <td>North Korea Power Vacuum Brings US And China T...</td>\n",
              "      <td>1</td>\n",
              "      <td>0.292932</td>\n",
              "      <td>0.12</td>\n",
              "      <td>0.12</td>\n",
              "      <td>0.12</td>\n",
              "      <td>0.38</td>\n",
              "      <td>0.25</td>\n",
              "    </tr>\n",
              "    <tr>\n",
              "      <th>19996</th>\n",
              "      <td>Twitter Suspends Account of Biotech Company Te...</td>\n",
              "      <td>1</td>\n",
              "      <td>0.094251</td>\n",
              "      <td>0.07</td>\n",
              "      <td>0.07</td>\n",
              "      <td>0.07</td>\n",
              "      <td>0.22</td>\n",
              "      <td>0.56</td>\n",
              "    </tr>\n",
              "    <tr>\n",
              "      <th>19997</th>\n",
              "      <td>Riots Have Started In Venezuela! Will It Come ...</td>\n",
              "      <td>1</td>\n",
              "      <td>0.000000</td>\n",
              "      <td>0.00</td>\n",
              "      <td>0.00</td>\n",
              "      <td>0.50</td>\n",
              "      <td>0.00</td>\n",
              "      <td>0.50</td>\n",
              "    </tr>\n",
              "    <tr>\n",
              "      <th>19998</th>\n",
              "      <td>True Coronavirus Death Toll Likely 60% Higher ...</td>\n",
              "      <td>1</td>\n",
              "      <td>0.065671</td>\n",
              "      <td>0.03</td>\n",
              "      <td>0.03</td>\n",
              "      <td>0.06</td>\n",
              "      <td>0.17</td>\n",
              "      <td>0.70</td>\n",
              "    </tr>\n",
              "    <tr>\n",
              "      <th>19999</th>\n",
              "      <td>WHO Mysteriously Deletes Tweet About Reinfecti...</td>\n",
              "      <td>1</td>\n",
              "      <td>0.117919</td>\n",
              "      <td>0.11</td>\n",
              "      <td>0.00</td>\n",
              "      <td>0.37</td>\n",
              "      <td>0.20</td>\n",
              "      <td>0.31</td>\n",
              "    </tr>\n",
              "  </tbody>\n",
              "</table>\n",
              "<p>20000 rows × 8 columns</p>\n",
              "</div>"
            ],
            "text/plain": [
              "                                                 content  ...  Fear\n",
              "0      Students could take SAT at home if schools rem...  ...  0.50\n",
              "1      Detroit facing fresh fiscal woes with coronavi...  ...  0.46\n",
              "2      Thousands protest Michigan governor's social d...  ...  0.43\n",
              "3      Baltimore Police defends planned aerial survei...  ...  0.57\n",
              "4      Attorney who fought for civil rights in Louisi...  ...  0.49\n",
              "...                                                  ...  ...   ...\n",
              "19995  North Korea Power Vacuum Brings US And China T...  ...  0.25\n",
              "19996  Twitter Suspends Account of Biotech Company Te...  ...  0.56\n",
              "19997  Riots Have Started In Venezuela! Will It Come ...  ...  0.50\n",
              "19998  True Coronavirus Death Toll Likely 60% Higher ...  ...  0.70\n",
              "19999  WHO Mysteriously Deletes Tweet About Reinfecti...  ...  0.31\n",
              "\n",
              "[20000 rows x 8 columns]"
            ]
          },
          "metadata": {
            "tags": []
          },
          "execution_count": 114
        }
      ]
    },
    {
      "cell_type": "code",
      "metadata": {
        "id": "vUQTqW2tyQMA"
      },
      "source": [
        "#saving it onto google drive as a csv file\n",
        "data.to_csv(\"/content/drive/My Drive/nelasentemofinal.csv\", index=False)"
      ],
      "execution_count": null,
      "outputs": []
    },
    {
      "cell_type": "markdown",
      "metadata": {
        "id": "6MpUHIbyBC_c"
      },
      "source": [
        "# Text-PreProcessing"
      ]
    },
    {
      "cell_type": "code",
      "metadata": {
        "id": "ObQzHh4RO8Mf"
      },
      "source": [
        "#Removing noise from the text, such as special characters, numbers and hyperlinks\n",
        "def rem_noise(text):\n",
        "  text = text.translate(str.maketrans('','',string.punctuation))\n",
        "\n",
        "  text =  re.sub('[0-9]+','',text)\n",
        "\n",
        "  text = re.sub('https?:\\S+','',text)\n",
        "\n",
        "  text =  re.sub('<.*?>',\" \",text)\n",
        "\n",
        "  return text"
      ],
      "execution_count": 175,
      "outputs": []
    },
    {
      "cell_type": "code",
      "metadata": {
        "id": "Bmx4ohXcO9hW"
      },
      "source": [
        "#Removing stopwords(commonly used words such as \"are\" and \"us\" from text)\n",
        "stop = set(stopwords.words('english'))\n",
        "\n",
        "def rem_stopwords(text):\n",
        "    \n",
        "    words = [ch for ch in text if ch not in stop]\n",
        "    words = \"\".join(words).split()\n",
        "    words = [words.lower() for words in text.split()]\n",
        "    \n",
        "    return words"
      ],
      "execution_count": 176,
      "outputs": []
    },
    {
      "cell_type": "code",
      "metadata": {
        "id": "5UzEf3qdPOz0"
      },
      "source": [
        "#Assigning each word a number\n",
        "def tokenize_statements(text):\n",
        "    \n",
        "    # Tokenize the words\n",
        "    tokenized = word_tokenize(text)\n",
        "\n",
        "    # Remove the stop words\n",
        "    tokenized = [token for token in tokenized if token not in stopwords.words(\"english\")] \n",
        "\n",
        "    # Lemmatize the words, changing text to lowercase\n",
        "    lemmatizer = WordNetLemmatizer()\n",
        "    tokenized = [lemmatizer.lemmatize(token.lower(), pos='a') for token in tokenized]\n",
        "    \n",
        "    return tokenized"
      ],
      "execution_count": 177,
      "outputs": []
    },
    {
      "cell_type": "markdown",
      "metadata": {
        "id": "Dm_NGeteBJPh"
      },
      "source": [
        "#TF-IDF Vectorizer"
      ]
    },
    {
      "cell_type": "code",
      "metadata": {
        "id": "3e3v-_ztLAB9"
      },
      "source": [
        "#Keep only content, Polarity as columns\n",
        "y = data['Reliability']\n",
        "x = data.drop(['Reliability'], axis = 1)\n",
        "\n",
        "#y = data['Reliability']\n",
        "#x = data.drop(['Reliability'],axis=1)\n",
        "x['content'] = x['content'].apply(rem_noise)"
      ],
      "execution_count": 178,
      "outputs": []
    },
    {
      "cell_type": "code",
      "metadata": {
        "id": "vGa49OtRMfJV"
      },
      "source": [
        "y = y.astype('float64')"
      ],
      "execution_count": 179,
      "outputs": []
    },
    {
      "cell_type": "code",
      "metadata": {
        "colab": {
          "base_uri": "https://localhost:8080/"
        },
        "id": "EhL5_d3HXtw7",
        "outputId": "8e3f5f53-e72e-48e4-f41a-1e5784ee1349"
      },
      "source": [
        "x.shape"
      ],
      "execution_count": 180,
      "outputs": [
        {
          "output_type": "execute_result",
          "data": {
            "text/plain": [
              "(20000, 7)"
            ]
          },
          "metadata": {
            "tags": []
          },
          "execution_count": 180
        }
      ]
    },
    {
      "cell_type": "code",
      "metadata": {
        "id": "tPsxMu1FllI6"
      },
      "source": [
        "# split the dataset into training and testing datasets \n",
        "\n",
        "from sklearn.model_selection import train_test_split\n",
        "X_train, X_test, y_train, y_test = train_test_split(x, y, test_size=0.20)"
      ],
      "execution_count": 181,
      "outputs": []
    },
    {
      "cell_type": "code",
      "metadata": {
        "colab": {
          "base_uri": "https://localhost:8080/"
        },
        "id": "-qCdN9QZllI6",
        "outputId": "13d87ca6-30ff-4f8f-f75d-efa7d5a8d857"
      },
      "source": [
        "print(X_train.shape)\n",
        "print(y_train.shape)\n",
        "print(X_test.shape)\n",
        "print(y_test.shape)"
      ],
      "execution_count": 182,
      "outputs": [
        {
          "output_type": "stream",
          "text": [
            "(16000, 7)\n",
            "(16000,)\n",
            "(4000, 7)\n",
            "(4000,)\n"
          ],
          "name": "stdout"
        }
      ]
    },
    {
      "cell_type": "code",
      "metadata": {
        "colab": {
          "base_uri": "https://localhost:8080/",
          "height": 415
        },
        "id": "MzpXaM4zgRoq",
        "outputId": "943a60a3-95bb-4c4f-8c1d-2f669a13a1a0"
      },
      "source": [
        "X_train"
      ],
      "execution_count": 183,
      "outputs": [
        {
          "output_type": "execute_result",
          "data": {
            "text/html": [
              "<div>\n",
              "<style scoped>\n",
              "    .dataframe tbody tr th:only-of-type {\n",
              "        vertical-align: middle;\n",
              "    }\n",
              "\n",
              "    .dataframe tbody tr th {\n",
              "        vertical-align: top;\n",
              "    }\n",
              "\n",
              "    .dataframe thead th {\n",
              "        text-align: right;\n",
              "    }\n",
              "</style>\n",
              "<table border=\"1\" class=\"dataframe\">\n",
              "  <thead>\n",
              "    <tr style=\"text-align: right;\">\n",
              "      <th></th>\n",
              "      <th>content</th>\n",
              "      <th>Polarity</th>\n",
              "      <th>Happy</th>\n",
              "      <th>Angry</th>\n",
              "      <th>Surprise</th>\n",
              "      <th>Sad</th>\n",
              "      <th>Fear</th>\n",
              "    </tr>\n",
              "  </thead>\n",
              "  <tbody>\n",
              "    <tr>\n",
              "      <th>10867</th>\n",
              "      <td>Nicki Minaj’s Brother Sentenced to  Years to L...</td>\n",
              "      <td>0.123712</td>\n",
              "      <td>0.04</td>\n",
              "      <td>0.01</td>\n",
              "      <td>0.42</td>\n",
              "      <td>0.19</td>\n",
              "      <td>0.33</td>\n",
              "    </tr>\n",
              "    <tr>\n",
              "      <th>8285</th>\n",
              "      <td>EU sets up  million budget for humanitarian ai...</td>\n",
              "      <td>0.065278</td>\n",
              "      <td>0.00</td>\n",
              "      <td>0.08</td>\n",
              "      <td>0.23</td>\n",
              "      <td>0.19</td>\n",
              "      <td>0.50</td>\n",
              "    </tr>\n",
              "    <tr>\n",
              "      <th>13147</th>\n",
              "      <td>Theresa May’s Brexit negotiator Oliver Robbins...</td>\n",
              "      <td>0.087719</td>\n",
              "      <td>0.09</td>\n",
              "      <td>0.06</td>\n",
              "      <td>0.18</td>\n",
              "      <td>0.18</td>\n",
              "      <td>0.48</td>\n",
              "    </tr>\n",
              "    <tr>\n",
              "      <th>5984</th>\n",
              "      <td>Democratic candidates target Trump in New Hamp...</td>\n",
              "      <td>0.215341</td>\n",
              "      <td>0.00</td>\n",
              "      <td>0.00</td>\n",
              "      <td>0.50</td>\n",
              "      <td>0.00</td>\n",
              "      <td>0.50</td>\n",
              "    </tr>\n",
              "    <tr>\n",
              "      <th>9303</th>\n",
              "      <td>Metra tells customers to make sure they pay th...</td>\n",
              "      <td>0.284091</td>\n",
              "      <td>0.00</td>\n",
              "      <td>0.00</td>\n",
              "      <td>0.22</td>\n",
              "      <td>0.22</td>\n",
              "      <td>0.56</td>\n",
              "    </tr>\n",
              "    <tr>\n",
              "      <th>...</th>\n",
              "      <td>...</td>\n",
              "      <td>...</td>\n",
              "      <td>...</td>\n",
              "      <td>...</td>\n",
              "      <td>...</td>\n",
              "      <td>...</td>\n",
              "      <td>...</td>\n",
              "    </tr>\n",
              "    <tr>\n",
              "      <th>15153</th>\n",
              "      <td>Bride reads out cheating fiancé’s racy affair ...</td>\n",
              "      <td>0.086265</td>\n",
              "      <td>0.14</td>\n",
              "      <td>0.02</td>\n",
              "      <td>0.42</td>\n",
              "      <td>0.14</td>\n",
              "      <td>0.28</td>\n",
              "    </tr>\n",
              "    <tr>\n",
              "      <th>15212</th>\n",
              "      <td>Matt Chapman has an early fancy for the Champi...</td>\n",
              "      <td>0.093587</td>\n",
              "      <td>0.19</td>\n",
              "      <td>0.09</td>\n",
              "      <td>0.20</td>\n",
              "      <td>0.11</td>\n",
              "      <td>0.40</td>\n",
              "    </tr>\n",
              "    <tr>\n",
              "      <th>15433</th>\n",
              "      <td>As UK sails free from Brussels let’s hope Bori...</td>\n",
              "      <td>0.039904</td>\n",
              "      <td>0.10</td>\n",
              "      <td>0.03</td>\n",
              "      <td>0.22</td>\n",
              "      <td>0.28</td>\n",
              "      <td>0.37</td>\n",
              "    </tr>\n",
              "    <tr>\n",
              "      <th>13597</th>\n",
              "      <td>Evil stepdad  who tortured girlfriend’s son  t...</td>\n",
              "      <td>-0.209570</td>\n",
              "      <td>0.08</td>\n",
              "      <td>0.08</td>\n",
              "      <td>0.38</td>\n",
              "      <td>0.10</td>\n",
              "      <td>0.36</td>\n",
              "    </tr>\n",
              "    <tr>\n",
              "      <th>11438</th>\n",
              "      <td>‘Going Big’ White House Says COVID Relief Chec...</td>\n",
              "      <td>0.057736</td>\n",
              "      <td>0.09</td>\n",
              "      <td>0.02</td>\n",
              "      <td>0.39</td>\n",
              "      <td>0.12</td>\n",
              "      <td>0.38</td>\n",
              "    </tr>\n",
              "  </tbody>\n",
              "</table>\n",
              "<p>16000 rows × 7 columns</p>\n",
              "</div>"
            ],
            "text/plain": [
              "                                                 content  Polarity  ...   Sad  Fear\n",
              "10867  Nicki Minaj’s Brother Sentenced to  Years to L...  0.123712  ...  0.19  0.33\n",
              "8285   EU sets up  million budget for humanitarian ai...  0.065278  ...  0.19  0.50\n",
              "13147  Theresa May’s Brexit negotiator Oliver Robbins...  0.087719  ...  0.18  0.48\n",
              "5984   Democratic candidates target Trump in New Hamp...  0.215341  ...  0.00  0.50\n",
              "9303   Metra tells customers to make sure they pay th...  0.284091  ...  0.22  0.56\n",
              "...                                                  ...       ...  ...   ...   ...\n",
              "15153  Bride reads out cheating fiancé’s racy affair ...  0.086265  ...  0.14  0.28\n",
              "15212  Matt Chapman has an early fancy for the Champi...  0.093587  ...  0.11  0.40\n",
              "15433  As UK sails free from Brussels let’s hope Bori...  0.039904  ...  0.28  0.37\n",
              "13597  Evil stepdad  who tortured girlfriend’s son  t... -0.209570  ...  0.10  0.36\n",
              "11438  ‘Going Big’ White House Says COVID Relief Chec...  0.057736  ...  0.12  0.38\n",
              "\n",
              "[16000 rows x 7 columns]"
            ]
          },
          "metadata": {
            "tags": []
          },
          "execution_count": 183
        }
      ]
    },
    {
      "cell_type": "code",
      "metadata": {
        "id": "V2c9gy0AllI6"
      },
      "source": [
        "# Vectorize the text so the models can interpret it. max_features = 2000, so the vectors are not too large\n",
        "vectorizer = TfidfVectorizer(tokenize_statements, max_features = 20000)\n",
        "x_train_vectorized = vectorizer.fit_transform(X_train.content.values)\n",
        "x_test_vectorized = vectorizer.transform(X_test.content.values)"
      ],
      "execution_count": 184,
      "outputs": []
    },
    {
      "cell_type": "code",
      "metadata": {
        "colab": {
          "base_uri": "https://localhost:8080/"
        },
        "id": "uitwBQUdllI6",
        "outputId": "a3928667-93e3-4963-887e-508689869100"
      },
      "source": [
        "print (x_train_vectorized.shape)\n",
        "print (x_test_vectorized.shape)\n",
        "print (y_train.shape)\n",
        "print (y_test.shape)"
      ],
      "execution_count": 185,
      "outputs": [
        {
          "output_type": "stream",
          "text": [
            "(16000, 20000)\n",
            "(4000, 20000)\n",
            "(16000,)\n",
            "(4000,)\n"
          ],
          "name": "stdout"
        }
      ]
    },
    {
      "cell_type": "code",
      "metadata": {
        "colab": {
          "base_uri": "https://localhost:8080/",
          "height": 415
        },
        "id": "YCwikq_3tckb",
        "outputId": "2584475d-850d-4010-f368-d48ce6215a43"
      },
      "source": [
        "X_train"
      ],
      "execution_count": 186,
      "outputs": [
        {
          "output_type": "execute_result",
          "data": {
            "text/html": [
              "<div>\n",
              "<style scoped>\n",
              "    .dataframe tbody tr th:only-of-type {\n",
              "        vertical-align: middle;\n",
              "    }\n",
              "\n",
              "    .dataframe tbody tr th {\n",
              "        vertical-align: top;\n",
              "    }\n",
              "\n",
              "    .dataframe thead th {\n",
              "        text-align: right;\n",
              "    }\n",
              "</style>\n",
              "<table border=\"1\" class=\"dataframe\">\n",
              "  <thead>\n",
              "    <tr style=\"text-align: right;\">\n",
              "      <th></th>\n",
              "      <th>content</th>\n",
              "      <th>Polarity</th>\n",
              "      <th>Happy</th>\n",
              "      <th>Angry</th>\n",
              "      <th>Surprise</th>\n",
              "      <th>Sad</th>\n",
              "      <th>Fear</th>\n",
              "    </tr>\n",
              "  </thead>\n",
              "  <tbody>\n",
              "    <tr>\n",
              "      <th>10867</th>\n",
              "      <td>Nicki Minaj’s Brother Sentenced to  Years to L...</td>\n",
              "      <td>0.123712</td>\n",
              "      <td>0.04</td>\n",
              "      <td>0.01</td>\n",
              "      <td>0.42</td>\n",
              "      <td>0.19</td>\n",
              "      <td>0.33</td>\n",
              "    </tr>\n",
              "    <tr>\n",
              "      <th>8285</th>\n",
              "      <td>EU sets up  million budget for humanitarian ai...</td>\n",
              "      <td>0.065278</td>\n",
              "      <td>0.00</td>\n",
              "      <td>0.08</td>\n",
              "      <td>0.23</td>\n",
              "      <td>0.19</td>\n",
              "      <td>0.50</td>\n",
              "    </tr>\n",
              "    <tr>\n",
              "      <th>13147</th>\n",
              "      <td>Theresa May’s Brexit negotiator Oliver Robbins...</td>\n",
              "      <td>0.087719</td>\n",
              "      <td>0.09</td>\n",
              "      <td>0.06</td>\n",
              "      <td>0.18</td>\n",
              "      <td>0.18</td>\n",
              "      <td>0.48</td>\n",
              "    </tr>\n",
              "    <tr>\n",
              "      <th>5984</th>\n",
              "      <td>Democratic candidates target Trump in New Hamp...</td>\n",
              "      <td>0.215341</td>\n",
              "      <td>0.00</td>\n",
              "      <td>0.00</td>\n",
              "      <td>0.50</td>\n",
              "      <td>0.00</td>\n",
              "      <td>0.50</td>\n",
              "    </tr>\n",
              "    <tr>\n",
              "      <th>9303</th>\n",
              "      <td>Metra tells customers to make sure they pay th...</td>\n",
              "      <td>0.284091</td>\n",
              "      <td>0.00</td>\n",
              "      <td>0.00</td>\n",
              "      <td>0.22</td>\n",
              "      <td>0.22</td>\n",
              "      <td>0.56</td>\n",
              "    </tr>\n",
              "    <tr>\n",
              "      <th>...</th>\n",
              "      <td>...</td>\n",
              "      <td>...</td>\n",
              "      <td>...</td>\n",
              "      <td>...</td>\n",
              "      <td>...</td>\n",
              "      <td>...</td>\n",
              "      <td>...</td>\n",
              "    </tr>\n",
              "    <tr>\n",
              "      <th>15153</th>\n",
              "      <td>Bride reads out cheating fiancé’s racy affair ...</td>\n",
              "      <td>0.086265</td>\n",
              "      <td>0.14</td>\n",
              "      <td>0.02</td>\n",
              "      <td>0.42</td>\n",
              "      <td>0.14</td>\n",
              "      <td>0.28</td>\n",
              "    </tr>\n",
              "    <tr>\n",
              "      <th>15212</th>\n",
              "      <td>Matt Chapman has an early fancy for the Champi...</td>\n",
              "      <td>0.093587</td>\n",
              "      <td>0.19</td>\n",
              "      <td>0.09</td>\n",
              "      <td>0.20</td>\n",
              "      <td>0.11</td>\n",
              "      <td>0.40</td>\n",
              "    </tr>\n",
              "    <tr>\n",
              "      <th>15433</th>\n",
              "      <td>As UK sails free from Brussels let’s hope Bori...</td>\n",
              "      <td>0.039904</td>\n",
              "      <td>0.10</td>\n",
              "      <td>0.03</td>\n",
              "      <td>0.22</td>\n",
              "      <td>0.28</td>\n",
              "      <td>0.37</td>\n",
              "    </tr>\n",
              "    <tr>\n",
              "      <th>13597</th>\n",
              "      <td>Evil stepdad  who tortured girlfriend’s son  t...</td>\n",
              "      <td>-0.209570</td>\n",
              "      <td>0.08</td>\n",
              "      <td>0.08</td>\n",
              "      <td>0.38</td>\n",
              "      <td>0.10</td>\n",
              "      <td>0.36</td>\n",
              "    </tr>\n",
              "    <tr>\n",
              "      <th>11438</th>\n",
              "      <td>‘Going Big’ White House Says COVID Relief Chec...</td>\n",
              "      <td>0.057736</td>\n",
              "      <td>0.09</td>\n",
              "      <td>0.02</td>\n",
              "      <td>0.39</td>\n",
              "      <td>0.12</td>\n",
              "      <td>0.38</td>\n",
              "    </tr>\n",
              "  </tbody>\n",
              "</table>\n",
              "<p>16000 rows × 7 columns</p>\n",
              "</div>"
            ],
            "text/plain": [
              "                                                 content  Polarity  ...   Sad  Fear\n",
              "10867  Nicki Minaj’s Brother Sentenced to  Years to L...  0.123712  ...  0.19  0.33\n",
              "8285   EU sets up  million budget for humanitarian ai...  0.065278  ...  0.19  0.50\n",
              "13147  Theresa May’s Brexit negotiator Oliver Robbins...  0.087719  ...  0.18  0.48\n",
              "5984   Democratic candidates target Trump in New Hamp...  0.215341  ...  0.00  0.50\n",
              "9303   Metra tells customers to make sure they pay th...  0.284091  ...  0.22  0.56\n",
              "...                                                  ...       ...  ...   ...   ...\n",
              "15153  Bride reads out cheating fiancé’s racy affair ...  0.086265  ...  0.14  0.28\n",
              "15212  Matt Chapman has an early fancy for the Champi...  0.093587  ...  0.11  0.40\n",
              "15433  As UK sails free from Brussels let’s hope Bori...  0.039904  ...  0.28  0.37\n",
              "13597  Evil stepdad  who tortured girlfriend’s son  t... -0.209570  ...  0.10  0.36\n",
              "11438  ‘Going Big’ White House Says COVID Relief Chec...  0.057736  ...  0.12  0.38\n",
              "\n",
              "[16000 rows x 7 columns]"
            ]
          },
          "metadata": {
            "tags": []
          },
          "execution_count": 186
        }
      ]
    },
    {
      "cell_type": "code",
      "metadata": {
        "id": "sE8CtJciAgSe"
      },
      "source": [
        "#Saving TFIDF vectorizer\n",
        "import pickle\n",
        "with open('tfidf.pkl','wb') as f:\n",
        "    pickle.dump(vectorizer,f)"
      ],
      "execution_count": null,
      "outputs": []
    },
    {
      "cell_type": "code",
      "metadata": {
        "id": "Ux21uOnCn4Zq"
      },
      "source": [
        "df_x_train_tfidf =  pd.DataFrame.sparse.from_spmatrix(x_train_vectorized)\n",
        "df_x_train_tfidf['polarity'] = X_train['Polarity'].values\n",
        "df_x_train_tfidf['happy'] = X_train['Happy'].values\n",
        "df_x_train_tfidf['angry'] = X_train['Angry'].values\n",
        "df_x_train_tfidf['surprise'] = X_train['Surprise'].values\n",
        "df_x_train_tfidf['sad'] = X_train['Sad'].values\n",
        "df_x_train_tfidf['fear'] = X_train['Fear'].values\n",
        "\n",
        "df_x_test_tfidf =  pd.DataFrame.sparse.from_spmatrix(x_test_vectorized)\n",
        "df_x_test_tfidf['polarity'] = X_test['Polarity'].values\n",
        "df_x_test_tfidf['happy'] = X_test['Happy'].values\n",
        "df_x_test_tfidf['angry'] = X_test['Angry'].values\n",
        "df_x_test_tfidf['surprise'] = X_test['Surprise'].values\n",
        "df_x_test_tfidf['sad'] = X_test['Sad'].values\n",
        "df_x_test_tfidf['fear'] = X_test['Fear'].values\n",
        "\n",
        "df_x_train_tfidf_nopol = x_train_vectorized\n",
        "df_x_test_tfidf_nopol = x_test_vectorized"
      ],
      "execution_count": 187,
      "outputs": []
    },
    {
      "cell_type": "code",
      "metadata": {
        "colab": {
          "base_uri": "https://localhost:8080/"
        },
        "id": "FfySQpYkgY1U",
        "outputId": "8a4b4cf6-f24e-48bb-81aa-c526bb4005eb"
      },
      "source": [
        "x_train_vectorized.shape"
      ],
      "execution_count": null,
      "outputs": [
        {
          "output_type": "execute_result",
          "data": {
            "text/plain": [
              "(16000, 20000)"
            ]
          },
          "metadata": {
            "tags": []
          },
          "execution_count": 40
        }
      ]
    },
    {
      "cell_type": "markdown",
      "metadata": {
        "id": "H9Xb9NIdllI7"
      },
      "source": [
        "# Logistic Regression"
      ]
    },
    {
      "cell_type": "code",
      "metadata": {
        "id": "5udDbQjVllI7",
        "colab": {
          "base_uri": "https://localhost:8080/"
        },
        "outputId": "26f2201a-63b1-4e24-a07b-0340874e0f5d"
      },
      "source": [
        "log_reg = LogisticRegression()\n",
        "log_reg.fit(df_x_train_tfidf, y_train)\n",
        "logR_predicted = log_reg.predict(df_x_test_tfidf)\n",
        "print(f\"{log_reg.__class__.__name__} accuracy: {log_reg.score(df_x_test_tfidf, y_test)}\")"
      ],
      "execution_count": null,
      "outputs": [
        {
          "output_type": "stream",
          "text": [
            "LogisticRegression accuracy: 0.86875\n"
          ],
          "name": "stdout"
        }
      ]
    },
    {
      "cell_type": "code",
      "metadata": {
        "colab": {
          "base_uri": "https://localhost:8080/"
        },
        "id": "n8Ena88YH_g8",
        "outputId": "435345a0-bbdf-4b7c-996c-705bb4feb713"
      },
      "source": [
        "log_reg_nopol = LogisticRegression()\n",
        "log_reg_nopol.fit(df_x_train_tfidf_nopol, y_train)\n",
        "logR_predicted_nopol = log_reg_nopol.predict(df_x_test_tfidf_nopol)\n",
        "print(f\"{log_reg_nopol.__class__.__name__} accuracy: {log_reg_nopol.score(df_x_test_tfidf_nopol, y_test)}\")"
      ],
      "execution_count": null,
      "outputs": [
        {
          "output_type": "stream",
          "text": [
            "LogisticRegression accuracy: 0.86825\n"
          ],
          "name": "stdout"
        }
      ]
    },
    {
      "cell_type": "code",
      "metadata": {
        "colab": {
          "base_uri": "https://localhost:8080/"
        },
        "id": "ednafYscSx-t",
        "outputId": "38fb3a9e-6230-4c0f-f4be-fe4e923f6069"
      },
      "source": [
        "print(classification_report(y_test, logR_predicted_nopol))\n",
        "print('\\n')\n",
        "print(confusion_matrix(y_test, logR_predicted_nopol))"
      ],
      "execution_count": null,
      "outputs": [
        {
          "output_type": "stream",
          "text": [
            "              precision    recall  f1-score   support\n",
            "\n",
            "         0.0       0.85      0.89      0.87      1956\n",
            "         1.0       0.89      0.85      0.87      2044\n",
            "\n",
            "    accuracy                           0.87      4000\n",
            "   macro avg       0.87      0.87      0.87      4000\n",
            "weighted avg       0.87      0.87      0.87      4000\n",
            "\n",
            "\n",
            "\n",
            "[[1744  212]\n",
            " [ 315 1729]]\n"
          ],
          "name": "stdout"
        }
      ]
    },
    {
      "cell_type": "code",
      "metadata": {
        "colab": {
          "base_uri": "https://localhost:8080/"
        },
        "id": "FI1Whi9nTscg",
        "outputId": "298b59e4-faf7-46ce-c465-10942004be2f"
      },
      "source": [
        "cv_results = cross_validate(log_reg, df_x_train_tfidf, y_train, cv=2)\n",
        "cv_results['test_score'].mean()"
      ],
      "execution_count": null,
      "outputs": [
        {
          "output_type": "execute_result",
          "data": {
            "text/plain": [
              "0.8454999999999999"
            ]
          },
          "metadata": {
            "tags": []
          },
          "execution_count": 36
        }
      ]
    },
    {
      "cell_type": "markdown",
      "metadata": {
        "id": "9czIQNROUWsM"
      },
      "source": [
        "#Random Forest"
      ]
    },
    {
      "cell_type": "code",
      "metadata": {
        "colab": {
          "base_uri": "https://localhost:8080/"
        },
        "id": "ACCdIadnUTfW",
        "outputId": "942e676d-eacf-4362-a967-6a1d0a2e9cf9"
      },
      "source": [
        "random_forest = RandomForestClassifier(n_estimators=10, max_depth=100)\n",
        "random_forest.fit(df_x_train_tfidf, y_train)\n",
        "\n",
        "print(f\"{random_forest.__class__.__name__} accuracy: {random_forest.score(df_x_test_tfidf, y_test)}\")"
      ],
      "execution_count": null,
      "outputs": [
        {
          "output_type": "stream",
          "text": [
            "RandomForestClassifier accuracy: 0.8125\n"
          ],
          "name": "stdout"
        }
      ]
    },
    {
      "cell_type": "code",
      "metadata": {
        "colab": {
          "base_uri": "https://localhost:8080/"
        },
        "id": "Cy5DLmChUdUr",
        "outputId": "4d7c7610-0750-458f-f778-e5df8fa4da25"
      },
      "source": [
        "random_forest_nopol = RandomForestClassifier(n_estimators=10, max_depth=100)\n",
        "random_forest_nopol.fit(df_x_train_tfidf_nopol, y_train)\n",
        "\n",
        "print(f\"{random_forest_nopol.__class__.__name__} accuracy: {random_forest_nopol.score(df_x_test_tfidf_nopol, y_test)}\")"
      ],
      "execution_count": null,
      "outputs": [
        {
          "output_type": "stream",
          "text": [
            "RandomForestClassifier accuracy: 0.7925\n"
          ],
          "name": "stdout"
        }
      ]
    },
    {
      "cell_type": "code",
      "metadata": {
        "colab": {
          "base_uri": "https://localhost:8080/"
        },
        "id": "GVmpkWMgUZPS",
        "outputId": "230dc820-13ae-458c-a201-db7b02d850a0"
      },
      "source": [
        "rForest_pred = random_forest.predict(df_x_test_tfidf)\n",
        "print(classification_report(y_test, rForest_pred))\n",
        "print('\\n')\n",
        "print(confusion_matrix(y_test, rForest_pred))"
      ],
      "execution_count": null,
      "outputs": [
        {
          "output_type": "stream",
          "text": [
            "              precision    recall  f1-score   support\n",
            "\n",
            "           0       0.75      0.86      0.80       210\n",
            "           2       0.82      0.69      0.75       190\n",
            "\n",
            "    accuracy                           0.78       400\n",
            "   macro avg       0.79      0.78      0.78       400\n",
            "weighted avg       0.78      0.78      0.78       400\n",
            "\n",
            "\n",
            "\n",
            "[[181  29]\n",
            " [ 59 131]]\n"
          ],
          "name": "stdout"
        }
      ]
    },
    {
      "cell_type": "code",
      "metadata": {
        "id": "PM0VHbkBUage"
      },
      "source": [
        "cv_results = cross_validate(random_forest, df_x_train_tfidf, y_train, cv=5)\n",
        "cv_results['test_score'].mean()"
      ],
      "execution_count": null,
      "outputs": []
    },
    {
      "cell_type": "markdown",
      "metadata": {
        "id": "37FP16IYW6Lc"
      },
      "source": [
        "#SVM"
      ]
    },
    {
      "cell_type": "code",
      "metadata": {
        "colab": {
          "base_uri": "https://localhost:8080/"
        },
        "id": "1SqT_L4rW3tW",
        "outputId": "f4458d7e-085f-41a0-eb3c-f43d1d8cd6fe"
      },
      "source": [
        "svm = LinearSVC()\n",
        "svm.fit(df_x_train_tfidf, y_train)\n",
        "print(f\"{svm.__class__.__name__} accuracy: {svm.score(df_x_test_tfidf, y_test)}\")"
      ],
      "execution_count": null,
      "outputs": [
        {
          "output_type": "stream",
          "text": [
            "LinearSVC accuracy: 0.89075\n"
          ],
          "name": "stdout"
        }
      ]
    },
    {
      "cell_type": "code",
      "metadata": {
        "id": "U8o1M7gb1WId"
      },
      "source": [
        "# defining parameter range\n",
        "param_grid = {'C': [0.1, 1, 10, 100, 1000]}\n",
        "  \n",
        "grid = GridSearchCV(LinearSVC(), param_grid, refit = True, verbose = 3)\n",
        "  \n",
        "# fitting the model for grid search\n",
        "grid.fit(df_x_train_tfidf, y_train)"
      ],
      "execution_count": null,
      "outputs": []
    },
    {
      "cell_type": "code",
      "metadata": {
        "id": "EKbPbu_T1XFw"
      },
      "source": [
        "# print best parameter after tuning\n",
        "print(grid.best_params_)"
      ],
      "execution_count": null,
      "outputs": []
    },
    {
      "cell_type": "code",
      "metadata": {
        "id": "Ftw2HO791ak_"
      },
      "source": [
        "grid_predictions = grid.predict(df_x_test_tfidf)\n",
        "  \n",
        "# print classification report\n",
        "print(classification_report(y_test, grid_predictions))"
      ],
      "execution_count": null,
      "outputs": []
    },
    {
      "cell_type": "code",
      "metadata": {
        "colab": {
          "base_uri": "https://localhost:8080/"
        },
        "id": "vCevMobzXewE",
        "outputId": "c682672f-a975-4eca-b1ee-768a52912e1f"
      },
      "source": [
        "svm_nopol = LinearSVC()\n",
        "svm_nopol.fit(df_x_train_tfidf_nopol, y_train)\n",
        "print(f\"{svm_nopol.__class__.__name__} accuracy: {svm_nopol.score(df_x_test_tfidf_nopol, y_test)}\")"
      ],
      "execution_count": null,
      "outputs": [
        {
          "output_type": "stream",
          "text": [
            "LinearSVC accuracy: 0.88925\n"
          ],
          "name": "stdout"
        }
      ]
    },
    {
      "cell_type": "code",
      "metadata": {
        "colab": {
          "base_uri": "https://localhost:8080/"
        },
        "id": "GrDxnb8mZPtY",
        "outputId": "1d6ac88b-f188-4093-e48b-e4fa668bc4ea"
      },
      "source": [
        "svm_pred = svm.predict(df_x_test_tfidf)\n",
        "\n",
        "print(classification_report(y_test, svm_pred))\n",
        "print('\\n')\n",
        "print(confusion_matrix(y_test, svm_pred))"
      ],
      "execution_count": null,
      "outputs": [
        {
          "output_type": "stream",
          "text": [
            "              precision    recall  f1-score   support\n",
            "\n",
            "         0.0       0.88      0.90      0.89      1956\n",
            "         1.0       0.90      0.88      0.89      2044\n",
            "\n",
            "    accuracy                           0.89      4000\n",
            "   macro avg       0.89      0.89      0.89      4000\n",
            "weighted avg       0.89      0.89      0.89      4000\n",
            "\n",
            "\n",
            "\n",
            "[[1764  192]\n",
            " [ 245 1799]]\n"
          ],
          "name": "stdout"
        }
      ]
    },
    {
      "cell_type": "code",
      "metadata": {
        "colab": {
          "base_uri": "https://localhost:8080/"
        },
        "id": "kYTp_GwtZRsY",
        "outputId": "cad8812b-6aff-429e-8253-e17d7fd59e8d"
      },
      "source": [
        "cv_results = cross_validate(svm, df_x_train_tfidf_nopol, y_train, cv=5)\n",
        "cv_results['test_score'].mean()"
      ],
      "execution_count": null,
      "outputs": [
        {
          "output_type": "execute_result",
          "data": {
            "text/plain": [
              "0.8809374999999999"
            ]
          },
          "metadata": {
            "tags": []
          },
          "execution_count": 56
        }
      ]
    },
    {
      "cell_type": "code",
      "metadata": {
        "id": "qxYaAbRnoR_4"
      },
      "source": [
        "clf = GridSearchCV(svm.SVC(), {\n",
        "    'C': [1,10,20],\n",
        "    'kernel': ['rbf','linear']\n",
        "}, cv=2, return_train_score=False)\n",
        "clf.fit(df_x_train_tfidf, y_train)\n",
        "clf.cv_results_  "
      ],
      "execution_count": null,
      "outputs": []
    },
    {
      "cell_type": "code",
      "metadata": {
        "colab": {
          "base_uri": "https://localhost:8080/",
          "height": 128
        },
        "id": "yCjjegpatL68",
        "outputId": "0138f358-330f-46a7-8c5d-9fed30512a5a"
      },
      "source": [
        "df = pd.DataFrame(clf.cv_results_)\n",
        "df"
      ],
      "execution_count": null,
      "outputs": [
        {
          "output_type": "execute_result",
          "data": {
            "text/html": [
              "<div>\n",
              "<style scoped>\n",
              "    .dataframe tbody tr th:only-of-type {\n",
              "        vertical-align: middle;\n",
              "    }\n",
              "\n",
              "    .dataframe tbody tr th {\n",
              "        vertical-align: top;\n",
              "    }\n",
              "\n",
              "    .dataframe thead th {\n",
              "        text-align: right;\n",
              "    }\n",
              "</style>\n",
              "<table border=\"1\" class=\"dataframe\">\n",
              "  <thead>\n",
              "    <tr style=\"text-align: right;\">\n",
              "      <th></th>\n",
              "      <th>mean_fit_time</th>\n",
              "      <th>std_fit_time</th>\n",
              "      <th>mean_score_time</th>\n",
              "      <th>std_score_time</th>\n",
              "      <th>param_C</th>\n",
              "      <th>param_kernel</th>\n",
              "      <th>params</th>\n",
              "      <th>split0_test_score</th>\n",
              "      <th>split1_test_score</th>\n",
              "      <th>mean_test_score</th>\n",
              "      <th>std_test_score</th>\n",
              "      <th>rank_test_score</th>\n",
              "    </tr>\n",
              "  </thead>\n",
              "  <tbody>\n",
              "    <tr>\n",
              "      <th>0</th>\n",
              "      <td>40.174047</td>\n",
              "      <td>0.130484</td>\n",
              "      <td>28.985952</td>\n",
              "      <td>0.230865</td>\n",
              "      <td>1</td>\n",
              "      <td>linear</td>\n",
              "      <td>{'C': 1, 'kernel': 'linear'}</td>\n",
              "      <td>0.82500</td>\n",
              "      <td>0.82625</td>\n",
              "      <td>0.825625</td>\n",
              "      <td>0.000625</td>\n",
              "      <td>2</td>\n",
              "    </tr>\n",
              "    <tr>\n",
              "      <th>1</th>\n",
              "      <td>40.844855</td>\n",
              "      <td>0.289318</td>\n",
              "      <td>28.854964</td>\n",
              "      <td>0.343762</td>\n",
              "      <td>10</td>\n",
              "      <td>linear</td>\n",
              "      <td>{'C': 10, 'kernel': 'linear'}</td>\n",
              "      <td>0.83875</td>\n",
              "      <td>0.84625</td>\n",
              "      <td>0.842500</td>\n",
              "      <td>0.003750</td>\n",
              "      <td>1</td>\n",
              "    </tr>\n",
              "  </tbody>\n",
              "</table>\n",
              "</div>"
            ],
            "text/plain": [
              "   mean_fit_time  std_fit_time  ...  std_test_score  rank_test_score\n",
              "0      40.174047      0.130484  ...        0.000625                2\n",
              "1      40.844855      0.289318  ...        0.003750                1\n",
              "\n",
              "[2 rows x 12 columns]"
            ]
          },
          "metadata": {
            "tags": []
          },
          "execution_count": 196
        }
      ]
    },
    {
      "cell_type": "code",
      "metadata": {
        "colab": {
          "base_uri": "https://localhost:8080/",
          "height": 111
        },
        "id": "ybsrtRmttO5r",
        "outputId": "980460e6-9723-4af6-992c-244bc09b5d53"
      },
      "source": [
        "df[['param_C','param_kernel','mean_test_score']]"
      ],
      "execution_count": null,
      "outputs": [
        {
          "output_type": "execute_result",
          "data": {
            "text/html": [
              "<div>\n",
              "<style scoped>\n",
              "    .dataframe tbody tr th:only-of-type {\n",
              "        vertical-align: middle;\n",
              "    }\n",
              "\n",
              "    .dataframe tbody tr th {\n",
              "        vertical-align: top;\n",
              "    }\n",
              "\n",
              "    .dataframe thead th {\n",
              "        text-align: right;\n",
              "    }\n",
              "</style>\n",
              "<table border=\"1\" class=\"dataframe\">\n",
              "  <thead>\n",
              "    <tr style=\"text-align: right;\">\n",
              "      <th></th>\n",
              "      <th>param_C</th>\n",
              "      <th>param_kernel</th>\n",
              "      <th>mean_test_score</th>\n",
              "    </tr>\n",
              "  </thead>\n",
              "  <tbody>\n",
              "    <tr>\n",
              "      <th>0</th>\n",
              "      <td>1</td>\n",
              "      <td>linear</td>\n",
              "      <td>0.825625</td>\n",
              "    </tr>\n",
              "    <tr>\n",
              "      <th>1</th>\n",
              "      <td>10</td>\n",
              "      <td>linear</td>\n",
              "      <td>0.842500</td>\n",
              "    </tr>\n",
              "  </tbody>\n",
              "</table>\n",
              "</div>"
            ],
            "text/plain": [
              "  param_C param_kernel  mean_test_score\n",
              "0       1       linear         0.825625\n",
              "1      10       linear         0.842500"
            ]
          },
          "metadata": {
            "tags": []
          },
          "execution_count": 198
        }
      ]
    },
    {
      "cell_type": "code",
      "metadata": {
        "id": "MIDNwqJOEYDI"
      },
      "source": [
        "# saving model\n",
        "with open('svm.pkl','wb') as f:\n",
        "    pickle.dump(svm,f)"
      ],
      "execution_count": null,
      "outputs": []
    },
    {
      "cell_type": "markdown",
      "metadata": {
        "id": "-o47q0p9EkUM"
      },
      "source": [
        "#MLP"
      ]
    },
    {
      "cell_type": "code",
      "metadata": {
        "id": "4Lb5uEKoEln2"
      },
      "source": [
        "clf = MLPClassifier(hidden_layer_sizes=(64,64,64), random_state=1, max_iter=300).fit(df_x_train_tfidf, y_train)"
      ],
      "execution_count": 188,
      "outputs": []
    },
    {
      "cell_type": "code",
      "metadata": {
        "colab": {
          "base_uri": "https://localhost:8080/"
        },
        "id": "oTYFcgnjEsc7",
        "outputId": "cd0b62d0-cd30-4e81-94d1-a6c5a0613771"
      },
      "source": [
        "clf.score(df_x_test_tfidf, y_test)"
      ],
      "execution_count": 189,
      "outputs": [
        {
          "output_type": "execute_result",
          "data": {
            "text/plain": [
              "0.8765"
            ]
          },
          "metadata": {
            "tags": []
          },
          "execution_count": 189
        }
      ]
    },
    {
      "cell_type": "code",
      "metadata": {
        "id": "1SpPj8hcXJuu"
      },
      "source": [
        "mlp_pred = clf.predict(df_x_test_tfidf)"
      ],
      "execution_count": 190,
      "outputs": []
    },
    {
      "cell_type": "code",
      "metadata": {
        "colab": {
          "base_uri": "https://localhost:8080/"
        },
        "id": "l3ENlr28XLnP",
        "outputId": "57c806d9-1546-4987-c352-e9bd60bb9543"
      },
      "source": [
        "print(classification_report(y_test, mlp_pred, zero_division = 1))\n",
        "print(confusion_matrix(y_test, mlp_pred))"
      ],
      "execution_count": 191,
      "outputs": [
        {
          "output_type": "stream",
          "text": [
            "              precision    recall  f1-score   support\n",
            "\n",
            "         0.0       0.87      0.88      0.88      2003\n",
            "         1.0       0.88      0.87      0.88      1997\n",
            "\n",
            "    accuracy                           0.88      4000\n",
            "   macro avg       0.88      0.88      0.88      4000\n",
            "weighted avg       0.88      0.88      0.88      4000\n",
            "\n",
            "[[1771  232]\n",
            " [ 262 1735]]\n"
          ],
          "name": "stdout"
        }
      ]
    },
    {
      "cell_type": "markdown",
      "metadata": {
        "id": "6j7rRdJZmtpx"
      },
      "source": [
        "#Glove LSTM"
      ]
    },
    {
      "cell_type": "code",
      "metadata": {
        "id": "zRoeRU1BZavL"
      },
      "source": [
        "#glovedf = data.reset_index(drop=True)\n",
        "glovedf = data.reset_index(drop=True)\n",
        "contentglove = glovedf.drop(['Reliability'],axis=1)"
      ],
      "execution_count": null,
      "outputs": []
    },
    {
      "cell_type": "code",
      "metadata": {
        "colab": {
          "base_uri": "https://localhost:8080/",
          "height": 589
        },
        "id": "R9YCaGfxfvwe",
        "outputId": "f25ca15e-3d4c-4727-c302-d592eb539f4b"
      },
      "source": [
        "glovedf"
      ],
      "execution_count": null,
      "outputs": [
        {
          "output_type": "execute_result",
          "data": {
            "text/html": [
              "<div>\n",
              "<style scoped>\n",
              "    .dataframe tbody tr th:only-of-type {\n",
              "        vertical-align: middle;\n",
              "    }\n",
              "\n",
              "    .dataframe tbody tr th {\n",
              "        vertical-align: top;\n",
              "    }\n",
              "\n",
              "    .dataframe thead th {\n",
              "        text-align: right;\n",
              "    }\n",
              "</style>\n",
              "<table border=\"1\" class=\"dataframe\">\n",
              "  <thead>\n",
              "    <tr style=\"text-align: right;\">\n",
              "      <th></th>\n",
              "      <th>content</th>\n",
              "      <th>Reliability</th>\n",
              "      <th>Polarity</th>\n",
              "      <th>Happy</th>\n",
              "      <th>Angry</th>\n",
              "      <th>Surprise</th>\n",
              "      <th>Sad</th>\n",
              "      <th>Fear</th>\n",
              "      <th>SentLabel</th>\n",
              "    </tr>\n",
              "  </thead>\n",
              "  <tbody>\n",
              "    <tr>\n",
              "      <th>0</th>\n",
              "      <td>Students could take SAT at home if schools rem...</td>\n",
              "      <td>0</td>\n",
              "      <td>0.079265</td>\n",
              "      <td>0.16</td>\n",
              "      <td>0.03</td>\n",
              "      <td>0.17</td>\n",
              "      <td>0.14</td>\n",
              "      <td>0.50</td>\n",
              "      <td>Positive</td>\n",
              "    </tr>\n",
              "    <tr>\n",
              "      <th>1</th>\n",
              "      <td>Detroit facing fresh fiscal woes with coronavi...</td>\n",
              "      <td>0</td>\n",
              "      <td>0.072199</td>\n",
              "      <td>0.07</td>\n",
              "      <td>0.09</td>\n",
              "      <td>0.18</td>\n",
              "      <td>0.20</td>\n",
              "      <td>0.46</td>\n",
              "      <td>Positive</td>\n",
              "    </tr>\n",
              "    <tr>\n",
              "      <th>2</th>\n",
              "      <td>Thousands protest Michigan governor's social d...</td>\n",
              "      <td>0</td>\n",
              "      <td>-0.072874</td>\n",
              "      <td>0.07</td>\n",
              "      <td>0.06</td>\n",
              "      <td>0.20</td>\n",
              "      <td>0.24</td>\n",
              "      <td>0.43</td>\n",
              "      <td>Negative</td>\n",
              "    </tr>\n",
              "    <tr>\n",
              "      <th>3</th>\n",
              "      <td>Baltimore Police defends planned aerial survei...</td>\n",
              "      <td>0</td>\n",
              "      <td>0.033147</td>\n",
              "      <td>0.12</td>\n",
              "      <td>0.00</td>\n",
              "      <td>0.12</td>\n",
              "      <td>0.17</td>\n",
              "      <td>0.57</td>\n",
              "      <td>Positive</td>\n",
              "    </tr>\n",
              "    <tr>\n",
              "      <th>4</th>\n",
              "      <td>Attorney who fought for civil rights in Louisi...</td>\n",
              "      <td>0</td>\n",
              "      <td>0.185473</td>\n",
              "      <td>0.09</td>\n",
              "      <td>0.03</td>\n",
              "      <td>0.24</td>\n",
              "      <td>0.14</td>\n",
              "      <td>0.49</td>\n",
              "      <td>Positive</td>\n",
              "    </tr>\n",
              "    <tr>\n",
              "      <th>...</th>\n",
              "      <td>...</td>\n",
              "      <td>...</td>\n",
              "      <td>...</td>\n",
              "      <td>...</td>\n",
              "      <td>...</td>\n",
              "      <td>...</td>\n",
              "      <td>...</td>\n",
              "      <td>...</td>\n",
              "      <td>...</td>\n",
              "    </tr>\n",
              "    <tr>\n",
              "      <th>19995</th>\n",
              "      <td>North Korea Power Vacuum Brings US And China T...</td>\n",
              "      <td>1</td>\n",
              "      <td>0.292932</td>\n",
              "      <td>0.12</td>\n",
              "      <td>0.12</td>\n",
              "      <td>0.12</td>\n",
              "      <td>0.38</td>\n",
              "      <td>0.25</td>\n",
              "      <td>Positive</td>\n",
              "    </tr>\n",
              "    <tr>\n",
              "      <th>19996</th>\n",
              "      <td>Twitter Suspends Account of Biotech Company Te...</td>\n",
              "      <td>1</td>\n",
              "      <td>0.094251</td>\n",
              "      <td>0.07</td>\n",
              "      <td>0.07</td>\n",
              "      <td>0.07</td>\n",
              "      <td>0.22</td>\n",
              "      <td>0.56</td>\n",
              "      <td>Positive</td>\n",
              "    </tr>\n",
              "    <tr>\n",
              "      <th>19997</th>\n",
              "      <td>Riots Have Started In Venezuela! Will It Come ...</td>\n",
              "      <td>1</td>\n",
              "      <td>0.000000</td>\n",
              "      <td>0.00</td>\n",
              "      <td>0.00</td>\n",
              "      <td>0.50</td>\n",
              "      <td>0.00</td>\n",
              "      <td>0.50</td>\n",
              "      <td>Neutral</td>\n",
              "    </tr>\n",
              "    <tr>\n",
              "      <th>19998</th>\n",
              "      <td>True Coronavirus Death Toll Likely 60% Higher ...</td>\n",
              "      <td>1</td>\n",
              "      <td>0.065671</td>\n",
              "      <td>0.03</td>\n",
              "      <td>0.03</td>\n",
              "      <td>0.06</td>\n",
              "      <td>0.17</td>\n",
              "      <td>0.70</td>\n",
              "      <td>Positive</td>\n",
              "    </tr>\n",
              "    <tr>\n",
              "      <th>19999</th>\n",
              "      <td>WHO Mysteriously Deletes Tweet About Reinfecti...</td>\n",
              "      <td>1</td>\n",
              "      <td>0.117919</td>\n",
              "      <td>0.11</td>\n",
              "      <td>0.00</td>\n",
              "      <td>0.37</td>\n",
              "      <td>0.20</td>\n",
              "      <td>0.31</td>\n",
              "      <td>Positive</td>\n",
              "    </tr>\n",
              "  </tbody>\n",
              "</table>\n",
              "<p>20000 rows × 9 columns</p>\n",
              "</div>"
            ],
            "text/plain": [
              "                                                 content  ...  SentLabel\n",
              "0      Students could take SAT at home if schools rem...  ...   Positive\n",
              "1      Detroit facing fresh fiscal woes with coronavi...  ...   Positive\n",
              "2      Thousands protest Michigan governor's social d...  ...   Negative\n",
              "3      Baltimore Police defends planned aerial survei...  ...   Positive\n",
              "4      Attorney who fought for civil rights in Louisi...  ...   Positive\n",
              "...                                                  ...  ...        ...\n",
              "19995  North Korea Power Vacuum Brings US And China T...  ...   Positive\n",
              "19996  Twitter Suspends Account of Biotech Company Te...  ...   Positive\n",
              "19997  Riots Have Started In Venezuela! Will It Come ...  ...    Neutral\n",
              "19998  True Coronavirus Death Toll Likely 60% Higher ...  ...   Positive\n",
              "19999  WHO Mysteriously Deletes Tweet About Reinfecti...  ...   Positive\n",
              "\n",
              "[20000 rows x 9 columns]"
            ]
          },
          "metadata": {
            "tags": []
          },
          "execution_count": 68
        }
      ]
    },
    {
      "cell_type": "code",
      "metadata": {
        "id": "UkKpPmjJaMGJ"
      },
      "source": [
        "#Clean text\n",
        "cleantext = contentglove['content'].apply(rem_noise)\n",
        "cleantext = cleantext.apply(rem_stopwords)"
      ],
      "execution_count": null,
      "outputs": []
    },
    {
      "cell_type": "code",
      "metadata": {
        "id": "OWDnPrzJam0O"
      },
      "source": [
        "x = cleantext.values\n",
        "y = glovedf['Reliability']"
      ],
      "execution_count": null,
      "outputs": []
    },
    {
      "cell_type": "code",
      "metadata": {
        "colab": {
          "base_uri": "https://localhost:8080/"
        },
        "id": "nMiesJQ8Zklo",
        "outputId": "2cb20a12-4cb6-4783-8446-333addc8e1d2"
      },
      "source": [
        "y.shape"
      ],
      "execution_count": null,
      "outputs": [
        {
          "output_type": "execute_result",
          "data": {
            "text/plain": [
              "(20000,)"
            ]
          },
          "metadata": {
            "tags": []
          },
          "execution_count": 71
        }
      ]
    },
    {
      "cell_type": "code",
      "metadata": {
        "id": "NyLS_GB8a5V8"
      },
      "source": [
        "#Tokenize cleaned text using Keras tokenizer, then creating sequences for the model\n",
        "tokenizer = Tokenizer()\n",
        "tokenizer.fit_on_texts(x)\n",
        "word_to_index = tokenizer.word_index\n",
        "contentSequence = tokenizer.texts_to_sequences(x)"
      ],
      "execution_count": null,
      "outputs": []
    },
    {
      "cell_type": "code",
      "metadata": {
        "id": "2Hcqditfa7xO"
      },
      "source": [
        "vocab_size =  len(word_to_index) #Size of all the words in the corpus\n",
        "oov_tok = \"<OOV>\" #In case some articles are shorter than max_lenght, sequences are padded with this token\n",
        "max_length = 2000 #Length of sequence for each article\n",
        "embedding_dim = 100 #Max dimension of embedding matrix"
      ],
      "execution_count": null,
      "outputs": []
    },
    {
      "cell_type": "code",
      "metadata": {
        "colab": {
          "base_uri": "https://localhost:8080/"
        },
        "id": "DL5HHW7tTm-J",
        "outputId": "d023198d-e915-465d-c99a-4a2e1837f57e"
      },
      "source": [
        "print (vocab_size)"
      ],
      "execution_count": null,
      "outputs": [
        {
          "output_type": "stream",
          "text": [
            "137052\n"
          ],
          "name": "stdout"
        }
      ]
    },
    {
      "cell_type": "code",
      "metadata": {
        "id": "t8p2HTSTa98V"
      },
      "source": [
        "contentSequence = pad_sequences(contentSequence, maxlen=max_length) #Padding sequences"
      ],
      "execution_count": null,
      "outputs": []
    },
    {
      "cell_type": "code",
      "metadata": {
        "colab": {
          "base_uri": "https://localhost:8080/"
        },
        "id": "PuvYkX5jbGGN",
        "outputId": "fcb7d56f-dca5-4e24-b246-51222980f88f"
      },
      "source": [
        "contentSequence"
      ],
      "execution_count": null,
      "outputs": [
        {
          "output_type": "execute_result",
          "data": {
            "text/plain": [
              "array([[    0,     0,     0, ...,   718,    59,   662],\n",
              "       [    0,     0,     0, ...,  1344,     2, 60232],\n",
              "       [    0,     0,     0, ...,     2,    26,   246],\n",
              "       ...,\n",
              "       [    0,     0,     0, ...,   188,    45,     9],\n",
              "       [    0,     0,     0, ...,   152,    10,   436],\n",
              "       [    0,     0,     0, ...,    44, 35386,   327]], dtype=int32)"
            ]
          },
          "metadata": {
            "tags": []
          },
          "execution_count": 76
        }
      ]
    },
    {
      "cell_type": "markdown",
      "metadata": {
        "id": "JdctrxVZbOAX"
      },
      "source": [
        "#Glove Embedding"
      ]
    },
    {
      "cell_type": "code",
      "metadata": {
        "id": "AziXcZ9ybJK8"
      },
      "source": [
        "# load the whole embedding into memory\n",
        "\n",
        "embeddings_index = {};\n",
        "with open('/content/drive/My Drive/glove.6B.100d.txt') as f:\n",
        "    for line in f:\n",
        "        values = line.split();\n",
        "        word = values[0];\n",
        "        coefs = np.asarray(values[1:], dtype='float32');\n",
        "        embeddings_index[word] = coefs;\n",
        "\n",
        "# create a weight matrix for words\n",
        "\n",
        "embeddings_matrix = np.zeros((vocab_size+1, embedding_dim));\n",
        "for word, i in word_to_index.items():\n",
        "    embedding_vector = embeddings_index.get(word);\n",
        "    if embedding_vector is not None:\n",
        "        embeddings_matrix[i] = embedding_vector;"
      ],
      "execution_count": null,
      "outputs": []
    },
    {
      "cell_type": "code",
      "metadata": {
        "colab": {
          "base_uri": "https://localhost:8080/"
        },
        "id": "PGpHjufzbP53",
        "outputId": "652e87da-45ae-440c-d85c-08a5d60ac768"
      },
      "source": [
        "embeddings_matrix"
      ],
      "execution_count": null,
      "outputs": [
        {
          "output_type": "execute_result",
          "data": {
            "text/plain": [
              "array([[ 0.        ,  0.        ,  0.        , ...,  0.        ,\n",
              "         0.        ,  0.        ],\n",
              "       [-0.038194  , -0.24487001,  0.72812003, ..., -0.1459    ,\n",
              "         0.82779998,  0.27061999],\n",
              "       [-0.18970001,  0.050024  ,  0.19084001, ..., -0.39804   ,\n",
              "         0.47646999, -0.15983   ],\n",
              "       ...,\n",
              "       [ 0.        ,  0.        ,  0.        , ...,  0.        ,\n",
              "         0.        ,  0.        ],\n",
              "       [ 0.14068   ,  0.087165  ,  0.32644001, ..., -0.30822   ,\n",
              "        -0.73694003,  0.27818999],\n",
              "       [ 0.        ,  0.        ,  0.        , ...,  0.        ,\n",
              "         0.        ,  0.        ]])"
            ]
          },
          "metadata": {
            "tags": []
          },
          "execution_count": 83
        }
      ]
    },
    {
      "cell_type": "code",
      "metadata": {
        "colab": {
          "base_uri": "https://localhost:8080/"
        },
        "id": "KKdMbmDNlNhw",
        "outputId": "49699d20-2a69-4778-f6ce-14bba9cc0398"
      },
      "source": [
        "type (contentSequence)"
      ],
      "execution_count": null,
      "outputs": [
        {
          "output_type": "execute_result",
          "data": {
            "text/plain": [
              "numpy.ndarray"
            ]
          },
          "metadata": {
            "tags": []
          },
          "execution_count": 84
        }
      ]
    },
    {
      "cell_type": "code",
      "metadata": {
        "id": "2hyOPyUWkcW6"
      },
      "source": [
        "df_lstm =  pd.DataFrame(contentSequence)\n",
        "df_lstm['polarity'] = glovedf['Polarity'].values"
      ],
      "execution_count": null,
      "outputs": []
    },
    {
      "cell_type": "code",
      "metadata": {
        "colab": {
          "base_uri": "https://localhost:8080/"
        },
        "id": "3MGaM9v1kwwJ",
        "outputId": "7dd6de26-e3e9-4c21-e98e-d708b4de4dcb"
      },
      "source": [
        "df_lstm.shape"
      ],
      "execution_count": null,
      "outputs": [
        {
          "output_type": "execute_result",
          "data": {
            "text/plain": [
              "(20000, 2001)"
            ]
          },
          "metadata": {
            "tags": []
          },
          "execution_count": 86
        }
      ]
    },
    {
      "cell_type": "code",
      "metadata": {
        "id": "HC6TFkKMbS0Y"
      },
      "source": [
        "#Splitting dataset into train and test data\n",
        "from sklearn.model_selection import train_test_split\n",
        "X_train,X_test,y_train,y_test = train_test_split(df_lstm,y,test_size=0.20,random_state=1)"
      ],
      "execution_count": null,
      "outputs": []
    },
    {
      "cell_type": "code",
      "metadata": {
        "colab": {
          "base_uri": "https://localhost:8080/"
        },
        "id": "Saa2dW4Rjo0M",
        "outputId": "db64576a-2f88-4102-dc46-7bae65437467"
      },
      "source": [
        "X_train.columns"
      ],
      "execution_count": null,
      "outputs": [
        {
          "output_type": "execute_result",
          "data": {
            "text/plain": [
              "Index([         0,          1,          2,          3,          4,          5,\n",
              "                6,          7,          8,          9,\n",
              "       ...\n",
              "             1991,       1992,       1993,       1994,       1995,       1996,\n",
              "             1997,       1998,       1999, 'polarity'],\n",
              "      dtype='object', length=2001)"
            ]
          },
          "metadata": {
            "tags": []
          },
          "execution_count": 88
        }
      ]
    },
    {
      "cell_type": "code",
      "metadata": {
        "id": "kRyr7oFwbhAo"
      },
      "source": [
        "polarity_xtrain = X_train.polarity.values\n",
        "X_train = X_train.drop(['polarity'], axis=1)"
      ],
      "execution_count": null,
      "outputs": []
    },
    {
      "cell_type": "code",
      "metadata": {
        "id": "5S6AKnQoaBFy"
      },
      "source": [
        "polarity_xtest = X_test.polarity.values\n",
        "X_test = X_test.drop(['polarity'], axis=1)"
      ],
      "execution_count": null,
      "outputs": []
    },
    {
      "cell_type": "code",
      "metadata": {
        "colab": {
          "base_uri": "https://localhost:8080/"
        },
        "id": "0C7LtWDcbiA8",
        "outputId": "e05e0341-f15b-423d-9ba8-157788d013b6"
      },
      "source": [
        "X_train.shape"
      ],
      "execution_count": null,
      "outputs": [
        {
          "output_type": "execute_result",
          "data": {
            "text/plain": [
              "(16000, 2000)"
            ]
          },
          "metadata": {
            "tags": []
          },
          "execution_count": 91
        }
      ]
    },
    {
      "cell_type": "code",
      "metadata": {
        "id": "-jLK9eypMdEs"
      },
      "source": [
        "xtrain_glove = np.array(X_train)\n",
        "xtest_glove = np.array(X_test)"
      ],
      "execution_count": null,
      "outputs": []
    },
    {
      "cell_type": "code",
      "metadata": {
        "colab": {
          "base_uri": "https://localhost:8080/"
        },
        "id": "QRVyiyCdNInk",
        "outputId": "a637874b-8c47-4acc-9459-3b81f87852a1"
      },
      "source": [
        "xtest_glove"
      ],
      "execution_count": null,
      "outputs": [
        {
          "output_type": "execute_result",
          "data": {
            "text/plain": [
              "array([[     0,      0,      0, ...,    144,      2,     68],\n",
              "       [     0,      0,      0, ...,     92,      6,   1095],\n",
              "       [     0,      0,      0, ...,    997,      1,    778],\n",
              "       ...,\n",
              "       [     0,      0,      0, ...,   6550,   1653,   5624],\n",
              "       [     0,      0,      0, ..., 129096,     27, 129097],\n",
              "       [     0,      0,      0, ...,      2,     84,    868]], dtype=int32)"
            ]
          },
          "metadata": {
            "tags": []
          },
          "execution_count": 93
        }
      ]
    },
    {
      "cell_type": "markdown",
      "metadata": {
        "id": "Y2owNA5hbp3S"
      },
      "source": [
        "# Defining Neural Networks"
      ]
    },
    {
      "cell_type": "markdown",
      "metadata": {
        "id": "hj6HAE7sQzdt"
      },
      "source": [
        "#LSTM"
      ]
    },
    {
      "cell_type": "code",
      "metadata": {
        "id": "hxAiUEZtbm2L"
      },
      "source": [
        "#model = Sequential()\n",
        "#Non-trainable embeddidng layer\n",
        "#model.add(Embedding(vocab_size+1, output_dim=embedding_dim, weights=[embeddings_matrix], input_length=max_length, trainable=False))\n",
        "#LSTM \n",
        "#model.add(LSTM(units=128))\n",
        "#model.add(Dense(1, activation='sigmoid'))\n",
        "#model.compile(optimizer='adam', loss='binary_crossentropy', metrics=['accuracy'])\n"
      ],
      "execution_count": null,
      "outputs": []
    },
    {
      "cell_type": "code",
      "metadata": {
        "id": "r1WPc6LyxLTx"
      },
      "source": [
        "#Defining Neural Network\n",
        "model_glove = Sequential()\n",
        "#Non-trainable embeddidng layer\n",
        "model_glove.add(Embedding(vocab_size+1, output_dim=embedding_dim, weights=[embeddings_matrix], input_length=max_length, trainable=False))\n",
        "model_glove.add(Bidirectional(LSTM(units=64)))\n",
        "model_glove.add(Dropout(0.2))\n",
        "model_glove.add(Dense(units=32, name = 'last', activation='sigmoid'))\n",
        "model_glove.add(Dense(units=1, activation='sigmoid'))\n",
        "model_glove.compile(optimizer='adam', loss='binary_crossentropy', metrics=['accuracy'])"
      ],
      "execution_count": null,
      "outputs": []
    },
    {
      "cell_type": "code",
      "metadata": {
        "id": "RxOAk1XZebMe"
      },
      "source": [
        "#del (model)"
      ],
      "execution_count": null,
      "outputs": []
    },
    {
      "cell_type": "code",
      "metadata": {
        "id": "kqkvZ4SRYoPz"
      },
      "source": [
        "model_glove.summary()"
      ],
      "execution_count": null,
      "outputs": []
    },
    {
      "cell_type": "code",
      "metadata": {
        "colab": {
          "base_uri": "https://localhost:8080/"
        },
        "id": "PDHy9IZcXYX7",
        "outputId": "7feaf593-0229-49b5-8692-3be38ebcd58a"
      },
      "source": [
        "modeltrain = model_glove.fit(X_train, y_train, validation_data = (X_test,y_test) , epochs=10)"
      ],
      "execution_count": null,
      "outputs": [
        {
          "output_type": "stream",
          "text": [
            "Epoch 1/10\n",
            "500/500 [==============================] - 93s 187ms/step - loss: 0.1651 - accuracy: 0.9394 - val_loss: 0.3150 - val_accuracy: 0.8752\n",
            "Epoch 2/10\n",
            "500/500 [==============================] - 93s 187ms/step - loss: 0.1449 - accuracy: 0.9468 - val_loss: 0.2808 - val_accuracy: 0.8925\n",
            "Epoch 3/10\n",
            "500/500 [==============================] - 94s 187ms/step - loss: 0.1243 - accuracy: 0.9560 - val_loss: 0.3283 - val_accuracy: 0.8733\n",
            "Epoch 4/10\n",
            "500/500 [==============================] - 93s 187ms/step - loss: 0.1092 - accuracy: 0.9615 - val_loss: 0.3145 - val_accuracy: 0.8915\n",
            "Epoch 5/10\n",
            "500/500 [==============================] - 93s 186ms/step - loss: 0.0931 - accuracy: 0.9671 - val_loss: 0.3395 - val_accuracy: 0.8875\n",
            "Epoch 6/10\n",
            "500/500 [==============================] - 93s 186ms/step - loss: 0.0841 - accuracy: 0.9707 - val_loss: 0.3527 - val_accuracy: 0.8865\n",
            "Epoch 7/10\n",
            "500/500 [==============================] - 93s 187ms/step - loss: 0.0724 - accuracy: 0.9756 - val_loss: 0.3975 - val_accuracy: 0.8905\n",
            "Epoch 8/10\n",
            "500/500 [==============================] - 93s 187ms/step - loss: 0.0683 - accuracy: 0.9768 - val_loss: 0.3934 - val_accuracy: 0.8898\n",
            "Epoch 9/10\n",
            "500/500 [==============================] - 93s 186ms/step - loss: 0.0579 - accuracy: 0.9817 - val_loss: 0.3706 - val_accuracy: 0.8925\n",
            "Epoch 10/10\n",
            "500/500 [==============================] - 93s 187ms/step - loss: 0.0522 - accuracy: 0.9834 - val_loss: 0.3744 - val_accuracy: 0.8915\n"
          ],
          "name": "stdout"
        }
      ]
    },
    {
      "cell_type": "code",
      "metadata": {
        "id": "gsu9U9DzJYz0"
      },
      "source": [
        "temp_model =  Model(model_glove.inputs, model_glove.get_layer('last').output)"
      ],
      "execution_count": null,
      "outputs": []
    },
    {
      "cell_type": "code",
      "metadata": {
        "id": "958zA_cuRq48"
      },
      "source": [
        "historytrain = temp_model.predict(X_train)"
      ],
      "execution_count": null,
      "outputs": []
    },
    {
      "cell_type": "code",
      "metadata": {
        "id": "QPl0AQ8JZqMC"
      },
      "source": [
        "historytest = temp_model.predict(X_test)"
      ],
      "execution_count": null,
      "outputs": []
    },
    {
      "cell_type": "code",
      "metadata": {
        "id": "HakJypNQSGmH"
      },
      "source": [
        "temp_xtrain = pd.DataFrame(historytrain)"
      ],
      "execution_count": null,
      "outputs": []
    },
    {
      "cell_type": "code",
      "metadata": {
        "id": "on0cFdqYaH59"
      },
      "source": [
        "temp_xtest = pd.DataFrame(historytest)"
      ],
      "execution_count": null,
      "outputs": []
    },
    {
      "cell_type": "code",
      "metadata": {
        "id": "QZv7a51tUUdD"
      },
      "source": [
        "temp_xtrain['polarity'] = polarity_xtrain"
      ],
      "execution_count": null,
      "outputs": []
    },
    {
      "cell_type": "code",
      "metadata": {
        "id": "PKYfHJy2aSqo"
      },
      "source": [
        "temp_xtest['polarity'] = polarity_xtest"
      ],
      "execution_count": null,
      "outputs": []
    },
    {
      "cell_type": "code",
      "metadata": {
        "id": "akVcvOt5RU49"
      },
      "source": [
        "model_glove2 = Sequential()\n",
        "model_glove2.add(Input(shape = (33)))\n",
        "#LSTM\n",
        "model_glove2.add(Dense(units = 32 , activation = 'relu'))\n",
        "model_glove2.add(Dense(1, activation='sigmoid'))\n",
        "model_glove2.compile(optimizer='Adam', loss='binary_crossentropy', metrics=['accuracy'])"
      ],
      "execution_count": null,
      "outputs": []
    },
    {
      "cell_type": "code",
      "metadata": {
        "id": "xLSZc5bUlw8d",
        "colab": {
          "base_uri": "https://localhost:8080/"
        },
        "outputId": "d4357f28-8c75-4b27-ded3-6541b9513787"
      },
      "source": [
        "model_glove2.summary()"
      ],
      "execution_count": null,
      "outputs": [
        {
          "output_type": "stream",
          "text": [
            "Model: \"sequential_2\"\n",
            "_________________________________________________________________\n",
            "Layer (type)                 Output Shape              Param #   \n",
            "=================================================================\n",
            "dense_1 (Dense)              (None, 32)                1088      \n",
            "_________________________________________________________________\n",
            "dense_2 (Dense)              (None, 1)                 33        \n",
            "=================================================================\n",
            "Total params: 1,121\n",
            "Trainable params: 1,121\n",
            "Non-trainable params: 0\n",
            "_________________________________________________________________\n"
          ],
          "name": "stdout"
        }
      ]
    },
    {
      "cell_type": "code",
      "metadata": {
        "colab": {
          "base_uri": "https://localhost:8080/"
        },
        "id": "w-nH52rJJq8k",
        "outputId": "9c69afa7-c2e6-40d6-bfeb-0f077ea8e919"
      },
      "source": [
        "model2train = model_glove2.fit(temp_xtrain, y_train, validation_data = (temp_xtest,y_test) , epochs=20)"
      ],
      "execution_count": null,
      "outputs": [
        {
          "output_type": "stream",
          "text": [
            "Epoch 1/20\n",
            "500/500 [==============================] - 2s 3ms/step - loss: 0.3415 - accuracy: 0.8320 - val_loss: 0.3071 - val_accuracy: 0.8885\n",
            "Epoch 2/20\n",
            "500/500 [==============================] - 1s 2ms/step - loss: 0.1324 - accuracy: 0.9527 - val_loss: 0.3052 - val_accuracy: 0.8890\n",
            "Epoch 3/20\n",
            "500/500 [==============================] - 1s 2ms/step - loss: 0.1402 - accuracy: 0.9490 - val_loss: 0.3041 - val_accuracy: 0.8860\n",
            "Epoch 4/20\n",
            "500/500 [==============================] - 1s 2ms/step - loss: 0.1393 - accuracy: 0.9493 - val_loss: 0.3039 - val_accuracy: 0.8867\n",
            "Epoch 5/20\n",
            "500/500 [==============================] - 1s 2ms/step - loss: 0.1389 - accuracy: 0.9503 - val_loss: 0.3073 - val_accuracy: 0.8888\n",
            "Epoch 6/20\n",
            "500/500 [==============================] - 1s 2ms/step - loss: 0.1455 - accuracy: 0.9476 - val_loss: 0.3054 - val_accuracy: 0.8885\n",
            "Epoch 7/20\n",
            "500/500 [==============================] - 1s 2ms/step - loss: 0.1491 - accuracy: 0.9458 - val_loss: 0.3098 - val_accuracy: 0.8882\n",
            "Epoch 8/20\n",
            "500/500 [==============================] - 1s 2ms/step - loss: 0.1304 - accuracy: 0.9505 - val_loss: 0.3024 - val_accuracy: 0.8875\n",
            "Epoch 9/20\n",
            "500/500 [==============================] - 1s 2ms/step - loss: 0.1293 - accuracy: 0.9531 - val_loss: 0.2951 - val_accuracy: 0.8885\n",
            "Epoch 10/20\n",
            "500/500 [==============================] - 1s 2ms/step - loss: 0.1345 - accuracy: 0.9514 - val_loss: 0.3054 - val_accuracy: 0.8890\n",
            "Epoch 11/20\n",
            "500/500 [==============================] - 1s 2ms/step - loss: 0.1302 - accuracy: 0.9536 - val_loss: 0.3040 - val_accuracy: 0.8885\n",
            "Epoch 12/20\n",
            "500/500 [==============================] - 1s 2ms/step - loss: 0.1390 - accuracy: 0.9465 - val_loss: 0.2971 - val_accuracy: 0.8870\n",
            "Epoch 13/20\n",
            "500/500 [==============================] - 1s 2ms/step - loss: 0.1356 - accuracy: 0.9508 - val_loss: 0.2988 - val_accuracy: 0.8882\n",
            "Epoch 14/20\n",
            "500/500 [==============================] - 1s 2ms/step - loss: 0.1394 - accuracy: 0.9499 - val_loss: 0.3013 - val_accuracy: 0.8885\n",
            "Epoch 15/20\n",
            "500/500 [==============================] - 1s 2ms/step - loss: 0.1407 - accuracy: 0.9490 - val_loss: 0.3045 - val_accuracy: 0.8885\n",
            "Epoch 16/20\n",
            "500/500 [==============================] - 1s 2ms/step - loss: 0.1392 - accuracy: 0.9495 - val_loss: 0.2998 - val_accuracy: 0.8885\n",
            "Epoch 17/20\n",
            "500/500 [==============================] - 1s 2ms/step - loss: 0.1301 - accuracy: 0.9548 - val_loss: 0.3029 - val_accuracy: 0.8878\n",
            "Epoch 18/20\n",
            "500/500 [==============================] - 1s 2ms/step - loss: 0.1383 - accuracy: 0.9519 - val_loss: 0.3093 - val_accuracy: 0.8890\n",
            "Epoch 19/20\n",
            "500/500 [==============================] - 1s 2ms/step - loss: 0.1363 - accuracy: 0.9535 - val_loss: 0.3033 - val_accuracy: 0.8888\n",
            "Epoch 20/20\n",
            "500/500 [==============================] - 1s 2ms/step - loss: 0.1382 - accuracy: 0.9516 - val_loss: 0.3027 - val_accuracy: 0.8890\n"
          ],
          "name": "stdout"
        }
      ]
    },
    {
      "cell_type": "code",
      "metadata": {
        "id": "IIHRPaPUbueY"
      },
      "source": [
        "y_pred_glove_nopol = (model_glove2.predict(temp_xtest) > 0.5).astype(\"int\")"
      ],
      "execution_count": null,
      "outputs": []
    },
    {
      "cell_type": "code",
      "metadata": {
        "id": "VuTHniEbgU6a",
        "colab": {
          "base_uri": "https://localhost:8080/"
        },
        "outputId": "a155993f-004d-4270-fb3d-9d970d97c420"
      },
      "source": [
        "print(classification_report(y_test, y_pred_glove, zero_division = 1))\n",
        "print(confusion_matrix(y_test, y_pred_glove))"
      ],
      "execution_count": null,
      "outputs": [
        {
          "output_type": "stream",
          "text": [
            "              precision    recall  f1-score   support\n",
            "\n",
            "           0       0.89      0.89      0.89      2045\n",
            "           1       0.88      0.89      0.89      1955\n",
            "\n",
            "    accuracy                           0.89      4000\n",
            "   macro avg       0.89      0.89      0.89      4000\n",
            "weighted avg       0.89      0.89      0.89      4000\n",
            "\n",
            "[[1818  227]\n",
            " [ 217 1738]]\n"
          ],
          "name": "stdout"
        }
      ]
    },
    {
      "cell_type": "code",
      "metadata": {
        "colab": {
          "base_uri": "https://localhost:8080/",
          "height": 541
        },
        "id": "hiCBPLUXgWG2",
        "outputId": "34f3cb96-f690-48b8-d770-0d9d16c7312e"
      },
      "source": [
        "#plot accuracy and loss\n",
        "def plot_graphs(model2train, string):\n",
        "  plt.plot(modeltrain.history[string])\n",
        "  plt.plot(modeltrain.history['val_'+string])\n",
        "  plt.xlabel(\"Epochs\")\n",
        "  plt.ylabel(string)\n",
        "  plt.legend([string, 'val_'+string])\n",
        "  plt.show()\n",
        "  \n",
        "plot_graphs(modeltrain, \"accuracy\")\n",
        "plot_graphs(modeltrain, \"loss\")"
      ],
      "execution_count": null,
      "outputs": [
        {
          "output_type": "display_data",
          "data": {
            "image/png": "[encoded data removed]",
            "text/plain": [
              "<Figure size 432x288 with 1 Axes>"
            ]
          },
          "metadata": {
            "tags": [],
            "needs_background": "light"
          }
        },
        {
          "output_type": "display_data",
          "data": {
            "image/png": "[encoded data removed]",
            "text/plain": [
              "<Figure size 432x288 with 1 Axes>"
            ]
          },
          "metadata": {
            "tags": [],
            "needs_background": "light"
          }
        }
      ]
    },
    {
      "cell_type": "code",
      "metadata": {
        "id": "xnAcSLcVgbfg"
      },
      "source": [
        "model_noGlove = Sequential()\n",
        "#Non-trainable embeddidng layer\n",
        "model_noGlove.add(Embedding(vocab_size+1,50,input_length=max_length))\n",
        "#LSTM \n",
        "model_noGlove.add(LSTM(units=128))\n",
        "model_noGlove.add(Dense(1, activation='sigmoid'))\n",
        "model_noGlove.compile(optimizer='adam', loss='binary_crossentropy', metrics=['acc'])"
      ],
      "execution_count": null,
      "outputs": []
    },
    {
      "cell_type": "code",
      "metadata": {
        "id": "dYEKM0o4gdL5"
      },
      "source": [
        "history_noGlove = model_noGlove.fit(X_train, y_train, validation_data = (X_test,y_test) , epochs=5) "
      ],
      "execution_count": null,
      "outputs": []
    },
    {
      "cell_type": "code",
      "metadata": {
        "id": "BuYr-XhXgiTu"
      },
      "source": [
        "# Creating bidirectional lstm model\n",
        "model_bilstm=Sequential()\n",
        "model_bilstm.add(Embedding(vocab_size+1, output_dim=embedding_dim, weights=[embeddings_matrix], input_length=max_length, trainable=False))\n",
        "model_bilstm.add(Bidirectional(LSTM(units=64))) # Bidirectional LSTM layer\n",
        "model_bilstm.add(Dropout(0.5))\n",
        "model_bilstm.add(Dense(32,activation='relu'))\n",
        "model_bilstm.add(Dense(1,activation='sigmoid'))\n",
        "model_bilstm.compile(loss='binary_crossentropy',optimizer='adam',metrics=['accuracy'])"
      ],
      "execution_count": null,
      "outputs": []
    },
    {
      "cell_type": "code",
      "metadata": {
        "colab": {
          "base_uri": "https://localhost:8080/"
        },
        "id": "cWQddae_XlNc",
        "outputId": "6cc9bf95-9ea6-4294-bc41-ccfa22906c2e"
      },
      "source": [
        "model_bilstm.summary()"
      ],
      "execution_count": null,
      "outputs": [
        {
          "output_type": "stream",
          "text": [
            "Model: \"sequential_4\"\n",
            "_________________________________________________________________\n",
            "Layer (type)                 Output Shape              Param #   \n",
            "=================================================================\n",
            "embedding_2 (Embedding)      (None, 2000, 100)         13705300  \n",
            "_________________________________________________________________\n",
            "bidirectional_2 (Bidirection (None, 128)               84480     \n",
            "_________________________________________________________________\n",
            "dropout_3 (Dropout)          (None, 128)               0         \n",
            "_________________________________________________________________\n",
            "dense_5 (Dense)              (None, 32)                4128      \n",
            "_________________________________________________________________\n",
            "dense_6 (Dense)              (None, 1)                 33        \n",
            "=================================================================\n",
            "Total params: 13,793,941\n",
            "Trainable params: 88,641\n",
            "Non-trainable params: 13,705,300\n",
            "_________________________________________________________________\n"
          ],
          "name": "stdout"
        }
      ]
    },
    {
      "cell_type": "code",
      "metadata": {
        "id": "_iKUxXYiD6O7"
      },
      "source": [
        "#del (model_bilstm)"
      ],
      "execution_count": null,
      "outputs": []
    },
    {
      "cell_type": "code",
      "metadata": {
        "colab": {
          "base_uri": "https://localhost:8080/"
        },
        "id": "tNlJuD8zgycr",
        "outputId": "7dbf34d8-acf3-4d09-9166-f64219862fc6"
      },
      "source": [
        "# Fitting the model\n",
        "history_bilstm = model_bilstm.fit(X_train, y_train, validation_data = (X_test,y_test) , epochs=10, batch_size= 64)"
      ],
      "execution_count": null,
      "outputs": [
        {
          "output_type": "stream",
          "text": [
            "Epoch 1/10\n",
            "500/500 [==============================] - 92s 184ms/step - loss: 0.6020 - accuracy: 0.6723 - val_loss: 0.5563 - val_accuracy: 0.7168\n",
            "Epoch 2/10\n",
            "500/500 [==============================] - 93s 186ms/step - loss: 0.5700 - accuracy: 0.6933 - val_loss: 0.5627 - val_accuracy: 0.7168\n",
            "Epoch 3/10\n",
            "500/500 [==============================] - 93s 187ms/step - loss: 0.5142 - accuracy: 0.7419 - val_loss: 0.4977 - val_accuracy: 0.7542\n",
            "Epoch 4/10\n",
            "500/500 [==============================] - 93s 186ms/step - loss: 0.4733 - accuracy: 0.7651 - val_loss: 0.4695 - val_accuracy: 0.7788\n",
            "Epoch 5/10\n",
            "500/500 [==============================] - 93s 187ms/step - loss: 0.4358 - accuracy: 0.7871 - val_loss: 0.4494 - val_accuracy: 0.7837\n",
            "Epoch 6/10\n",
            "500/500 [==============================] - 93s 187ms/step - loss: 0.3997 - accuracy: 0.8116 - val_loss: 0.4193 - val_accuracy: 0.7947\n",
            "Epoch 7/10\n",
            "500/500 [==============================] - 94s 187ms/step - loss: 0.4401 - accuracy: 0.7774 - val_loss: 0.4336 - val_accuracy: 0.7895\n",
            "Epoch 8/10\n",
            "500/500 [==============================] - 93s 187ms/step - loss: 0.3905 - accuracy: 0.8159 - val_loss: 0.4059 - val_accuracy: 0.8125\n",
            "Epoch 9/10\n",
            "500/500 [==============================] - 93s 186ms/step - loss: 0.3657 - accuracy: 0.8331 - val_loss: 0.3983 - val_accuracy: 0.8142\n",
            "Epoch 10/10\n",
            "500/500 [==============================] - 93s 187ms/step - loss: 0.3345 - accuracy: 0.8521 - val_loss: 0.3882 - val_accuracy: 0.8295\n"
          ],
          "name": "stdout"
        }
      ]
    },
    {
      "cell_type": "code",
      "metadata": {
        "id": "Dv0TXwEd6TEY"
      },
      "source": [
        "y_pred_glove = (model_bilstm.predict(X_test) > 0.5).astype(\"int\")"
      ],
      "execution_count": null,
      "outputs": []
    },
    {
      "cell_type": "code",
      "metadata": {
        "colab": {
          "base_uri": "https://localhost:8080/"
        },
        "id": "ZlAe9IoTjU8J",
        "outputId": "bdcbfd4b-1f17-4b53-bfde-4d829d77f2e9"
      },
      "source": [
        "print(classification_report(y_test, y_pred_glove, zero_division = 1))\n",
        "print(confusion_matrix(y_test, y_pred_glove))"
      ],
      "execution_count": null,
      "outputs": [
        {
          "output_type": "stream",
          "text": [
            "              precision    recall  f1-score   support\n",
            "\n",
            "           0       0.84      0.89      0.87      2045\n",
            "           1       0.88      0.82      0.85      1955\n",
            "\n",
            "    accuracy                           0.86      4000\n",
            "   macro avg       0.86      0.86      0.86      4000\n",
            "weighted avg       0.86      0.86      0.86      4000\n",
            "\n",
            "[[1829  216]\n",
            " [ 351 1604]]\n"
          ],
          "name": "stdout"
        }
      ]
    },
    {
      "cell_type": "code",
      "metadata": {
        "colab": {
          "base_uri": "https://localhost:8080/",
          "height": 541
        },
        "id": "-CxHPVc3DWTk",
        "outputId": "7a0c1366-4f34-44c2-ef9f-575d8b11d586"
      },
      "source": [
        "#plot accuracy and loss\n",
        "def plot_graphs(history_bilstm, string):\n",
        "  plt.plot(history_bilstm.history[string])\n",
        "  plt.plot(history_bilstm.history['val_'+string])\n",
        "  plt.xlabel(\"Epochs\")\n",
        "  plt.ylabel(string)\n",
        "  plt.legend([string, 'val_'+string])\n",
        "  plt.show()\n",
        "  \n",
        "plot_graphs(history_bilstm, \"accuracy\")\n",
        "plot_graphs(history_bilstm, \"loss\")"
      ],
      "execution_count": null,
      "outputs": [
        {
          "output_type": "display_data",
          "data": {
            "image/png": "[encoded data removed]",
            "text/plain": [
              "<Figure size 432x288 with 1 Axes>"
            ]
          },
          "metadata": {
            "tags": [],
            "needs_background": "light"
          }
        },
        {
          "output_type": "display_data",
          "data": {
            "image/png": "[encoded data removed]",
            "text/plain": [
              "<Figure size 432x288 with 1 Axes>"
            ]
          },
          "metadata": {
            "tags": [],
            "needs_background": "light"
          }
        }
      ]
    },
    {
      "cell_type": "markdown",
      "metadata": {
        "id": "-08nwqIlTWk0"
      },
      "source": [
        "#DistilBert (basic)"
      ]
    },
    {
      "cell_type": "code",
      "metadata": {
        "id": "mG6ZTVPZThdl"
      },
      "source": [
        "!pip install ktrain"
      ],
      "execution_count": null,
      "outputs": []
    },
    {
      "cell_type": "code",
      "metadata": {
        "id": "bUwBZZXbUE_C"
      },
      "source": [
        "bertdf = smallerdf.reset_index(drop=True)\n",
        "contentbert = bertdf.drop(['Polarity'],axis=1)"
      ],
      "execution_count": null,
      "outputs": []
    },
    {
      "cell_type": "code",
      "metadata": {
        "id": "Bm5fDYM_UQ0w"
      },
      "source": [
        "cleantext = bertdf['content'].apply(rem_noise)"
      ],
      "execution_count": null,
      "outputs": []
    },
    {
      "cell_type": "code",
      "metadata": {
        "id": "ScveJOkrUS9t"
      },
      "source": [
        "x_bert = np.asarray(cleantext)\n",
        "y_bert = np.asarray(bertdf[\"Reliability\"])"
      ],
      "execution_count": null,
      "outputs": []
    },
    {
      "cell_type": "code",
      "metadata": {
        "id": "hDnysssbgJOM"
      },
      "source": [
        "y_bert"
      ],
      "execution_count": null,
      "outputs": []
    },
    {
      "cell_type": "code",
      "metadata": {
        "id": "UoU0e6RUT0Dj"
      },
      "source": [
        "from sklearn.model_selection import train_test_split\n",
        "X_train,X_test,y_train,y_test = train_test_split(x_bert,y_bert,test_size=0.20,random_state=1)"
      ],
      "execution_count": null,
      "outputs": []
    },
    {
      "cell_type": "code",
      "metadata": {
        "id": "NSnb8htOT6ie"
      },
      "source": [
        "y_train"
      ],
      "execution_count": null,
      "outputs": []
    },
    {
      "cell_type": "code",
      "metadata": {
        "id": "_YsLCMHBTXek"
      },
      "source": [
        "import ktrain\n",
        "from ktrain import text\n",
        "MODEL_NAME = 'distilbert-base-uncased'\n",
        "t = text.Transformer(MODEL_NAME, maxlen=500, class_names=[0, 1])\n",
        "trn = t.preprocess_train(X_train, y_train)\n",
        "val = t.preprocess_test(X_test, y_test)\n",
        "model = t.get_classifier()\n",
        "learner = ktrain.get_learner(model, train_data=trn, val_data=val, batch_size=6)"
      ],
      "execution_count": null,
      "outputs": []
    },
    {
      "cell_type": "code",
      "metadata": {
        "id": "RM1WU_k1TeUI"
      },
      "source": [
        "learner.fit_onecycle(5e-2, 3)"
      ],
      "execution_count": null,
      "outputs": []
    },
    {
      "cell_type": "code",
      "metadata": {
        "id": "uOmPfSFXV2Iw"
      },
      "source": [
        "learner.validate(class_names=[0, 1])"
      ],
      "execution_count": null,
      "outputs": []
    },
    {
      "cell_type": "code",
      "metadata": {
        "id": "ogqM5BP1V_AK"
      },
      "source": [
        "predictor = ktrain.get_predictor(learner.model, preproc=t)\n",
        "predictor.predict(X_test[20])"
      ],
      "execution_count": null,
      "outputs": []
    },
    {
      "cell_type": "markdown",
      "metadata": {
        "id": "tXPSGqPgBpL8"
      },
      "source": [
        "# SAVE PICKLED FILE TO DRIVE"
      ]
    },
    {
      "cell_type": "code",
      "metadata": {
        "colab": {
          "base_uri": "https://localhost:8080/",
          "height": 17
        },
        "id": "CtmC2JG7BtVf",
        "outputId": "c7cb5e9d-5296-49e6-8c55-30b31e8a2042"
      },
      "source": [
        "from google.colab import files\n",
        "files.download('tfidf.pkl')"
      ],
      "execution_count": null,
      "outputs": [
        {
          "output_type": "display_data",
          "data": {
            "application/javascript": [
              "\n",
              "    async function download(id, filename, size) {\n",
              "      if (!google.colab.kernel.accessAllowed) {\n",
              "        return;\n",
              "      }\n",
              "      const div = document.createElement('div');\n",
              "      const label = document.createElement('label');\n",
              "      label.textContent = `Downloading \"${filename}\": `;\n",
              "      div.appendChild(label);\n",
              "      const progress = document.createElement('progress');\n",
              "      progress.max = size;\n",
              "      div.appendChild(progress);\n",
              "      document.body.appendChild(div);\n",
              "\n",
              "      const buffers = [];\n",
              "      let downloaded = 0;\n",
              "\n",
              "      const channel = await google.colab.kernel.comms.open(id);\n",
              "      // Send a message to notify the kernel that we're ready.\n",
              "      channel.send({})\n",
              "\n",
              "      for await (const message of channel.messages) {\n",
              "        // Send a message to notify the kernel that we're ready.\n",
              "        channel.send({})\n",
              "        if (message.buffers) {\n",
              "          for (const buffer of message.buffers) {\n",
              "            buffers.push(buffer);\n",
              "            downloaded += buffer.byteLength;\n",
              "            progress.value = downloaded;\n",
              "          }\n",
              "        }\n",
              "      }\n",
              "      const blob = new Blob(buffers, {type: 'application/binary'});\n",
              "      const a = document.createElement('a');\n",
              "      a.href = window.URL.createObjectURL(blob);\n",
              "      a.download = filename;\n",
              "      div.appendChild(a);\n",
              "      a.click();\n",
              "      div.remove();\n",
              "    }\n",
              "  "
            ],
            "text/plain": [
              "<IPython.core.display.Javascript object>"
            ]
          },
          "metadata": {
            "tags": []
          }
        },
        {
          "output_type": "display_data",
          "data": {
            "application/javascript": [
              "download(\"download_e3249555-6582-4320-8a9f-5d272a98d6e6\", \"tfidf.pkl\", 6321403)"
            ],
            "text/plain": [
              "<IPython.core.display.Javascript object>"
            ]
          },
          "metadata": {
            "tags": []
          }
        }
      ]
    },
    {
      "cell_type": "code",
      "metadata": {
        "colab": {
          "base_uri": "https://localhost:8080/",
          "height": 17
        },
        "id": "aVvdsdLpEBKo",
        "outputId": "e051e26b-f3eb-4e06-c41f-e0cf1be352f1"
      },
      "source": [
        "from google.colab import files\n",
        "files.download('svm.pkl')"
      ],
      "execution_count": null,
      "outputs": [
        {
          "output_type": "display_data",
          "data": {
            "application/javascript": [
              "\n",
              "    async function download(id, filename, size) {\n",
              "      if (!google.colab.kernel.accessAllowed) {\n",
              "        return;\n",
              "      }\n",
              "      const div = document.createElement('div');\n",
              "      const label = document.createElement('label');\n",
              "      label.textContent = `Downloading \"${filename}\": `;\n",
              "      div.appendChild(label);\n",
              "      const progress = document.createElement('progress');\n",
              "      progress.max = size;\n",
              "      div.appendChild(progress);\n",
              "      document.body.appendChild(div);\n",
              "\n",
              "      const buffers = [];\n",
              "      let downloaded = 0;\n",
              "\n",
              "      const channel = await google.colab.kernel.comms.open(id);\n",
              "      // Send a message to notify the kernel that we're ready.\n",
              "      channel.send({})\n",
              "\n",
              "      for await (const message of channel.messages) {\n",
              "        // Send a message to notify the kernel that we're ready.\n",
              "        channel.send({})\n",
              "        if (message.buffers) {\n",
              "          for (const buffer of message.buffers) {\n",
              "            buffers.push(buffer);\n",
              "            downloaded += buffer.byteLength;\n",
              "            progress.value = downloaded;\n",
              "          }\n",
              "        }\n",
              "      }\n",
              "      const blob = new Blob(buffers, {type: 'application/binary'});\n",
              "      const a = document.createElement('a');\n",
              "      a.href = window.URL.createObjectURL(blob);\n",
              "      a.download = filename;\n",
              "      div.appendChild(a);\n",
              "      a.click();\n",
              "      div.remove();\n",
              "    }\n",
              "  "
            ],
            "text/plain": [
              "<IPython.core.display.Javascript object>"
            ]
          },
          "metadata": {
            "tags": []
          }
        },
        {
          "output_type": "display_data",
          "data": {
            "application/javascript": [
              "download(\"download_3898630f-344d-4c1f-9317-64ced0204f74\", \"svm.pkl\", 776485)"
            ],
            "text/plain": [
              "<IPython.core.display.Javascript object>"
            ]
          },
          "metadata": {
            "tags": []
          }
        }
      ]
    }
  ]
}