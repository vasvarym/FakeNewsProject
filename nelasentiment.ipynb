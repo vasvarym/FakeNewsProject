{
  "nbformat": 4,
  "nbformat_minor": 0,
  "metadata": {
    "kernelspec": {
      "display_name": "Python 3",
      "language": "python",
      "name": "python3"
    },
    "language_info": {
      "codemirror_mode": {
        "name": "ipython",
        "version": 3
      },
      "file_extension": ".py",
      "mimetype": "text/x-python",
      "name": "python",
      "nbconvert_exporter": "python",
      "pygments_lexer": "ipython3",
      "version": "3.8.3"
    },
    "colab": {
      "name": "nelasentiment.ipynb",
      "provenance": [],
      "collapsed_sections": [],
      "toc_visible": true,
      "include_colab_link": true
    },
    "widgets": {
      "application/vnd.jupyter.widget-state+json": {
        "5aa57b84fe8247598928ac43b56521fd": {
          "model_module": "@jupyter-widgets/controls",
          "model_name": "HBoxModel",
          "state": {
            "_view_name": "HBoxView",
            "_dom_classes": [],
            "_model_name": "HBoxModel",
            "_view_module": "@jupyter-widgets/controls",
            "_model_module_version": "1.5.0",
            "_view_count": null,
            "_view_module_version": "1.5.0",
            "box_style": "",
            "layout": "IPY_MODEL_b71fd43d493e4dc8843b6ef62ab73d1a",
            "_model_module": "@jupyter-widgets/controls",
            "children": [
              "IPY_MODEL_f53cd1d7e08442f9a6417aa587cae2d2",
              "IPY_MODEL_9c3c6bd9686d4ca1ba994448b42d63ec"
            ]
          }
        },
        "b71fd43d493e4dc8843b6ef62ab73d1a": {
          "model_module": "@jupyter-widgets/base",
          "model_name": "LayoutModel",
          "state": {
            "_view_name": "LayoutView",
            "grid_template_rows": null,
            "right": null,
            "justify_content": null,
            "_view_module": "@jupyter-widgets/base",
            "overflow": null,
            "_model_module_version": "1.2.0",
            "_view_count": null,
            "flex_flow": null,
            "width": null,
            "min_width": null,
            "border": null,
            "align_items": null,
            "bottom": null,
            "_model_module": "@jupyter-widgets/base",
            "top": null,
            "grid_column": null,
            "overflow_y": null,
            "overflow_x": null,
            "grid_auto_flow": null,
            "grid_area": null,
            "grid_template_columns": null,
            "flex": null,
            "_model_name": "LayoutModel",
            "justify_items": null,
            "grid_row": null,
            "max_height": null,
            "align_content": null,
            "visibility": null,
            "align_self": null,
            "height": null,
            "min_height": null,
            "padding": null,
            "grid_auto_rows": null,
            "grid_gap": null,
            "max_width": null,
            "order": null,
            "_view_module_version": "1.2.0",
            "grid_template_areas": null,
            "object_position": null,
            "object_fit": null,
            "grid_auto_columns": null,
            "margin": null,
            "display": null,
            "left": null
          }
        },
        "f53cd1d7e08442f9a6417aa587cae2d2": {
          "model_module": "@jupyter-widgets/controls",
          "model_name": "FloatProgressModel",
          "state": {
            "_view_name": "ProgressView",
            "style": "IPY_MODEL_7ce1cd89a6294d4bad142fb46346ceee",
            "_dom_classes": [],
            "description": "Downloading: 100%",
            "_model_name": "FloatProgressModel",
            "bar_style": "success",
            "max": 442,
            "_view_module": "@jupyter-widgets/controls",
            "_model_module_version": "1.5.0",
            "value": 442,
            "_view_count": null,
            "_view_module_version": "1.5.0",
            "orientation": "horizontal",
            "min": 0,
            "description_tooltip": null,
            "_model_module": "@jupyter-widgets/controls",
            "layout": "IPY_MODEL_4c323985662e435f8fbccf32460f8f5c"
          }
        },
        "9c3c6bd9686d4ca1ba994448b42d63ec": {
          "model_module": "@jupyter-widgets/controls",
          "model_name": "HTMLModel",
          "state": {
            "_view_name": "HTMLView",
            "style": "IPY_MODEL_941a12071d9543f8a0ad607268862018",
            "_dom_classes": [],
            "description": "",
            "_model_name": "HTMLModel",
            "placeholder": "​",
            "_view_module": "@jupyter-widgets/controls",
            "_model_module_version": "1.5.0",
            "value": " 442/442 [00:00&lt;00:00, 8.99kB/s]",
            "_view_count": null,
            "_view_module_version": "1.5.0",
            "description_tooltip": null,
            "_model_module": "@jupyter-widgets/controls",
            "layout": "IPY_MODEL_463ba26fa33f4ec88736eb35eed64001"
          }
        },
        "7ce1cd89a6294d4bad142fb46346ceee": {
          "model_module": "@jupyter-widgets/controls",
          "model_name": "ProgressStyleModel",
          "state": {
            "_view_name": "StyleView",
            "_model_name": "ProgressStyleModel",
            "description_width": "initial",
            "_view_module": "@jupyter-widgets/base",
            "_model_module_version": "1.5.0",
            "_view_count": null,
            "_view_module_version": "1.2.0",
            "bar_color": null,
            "_model_module": "@jupyter-widgets/controls"
          }
        },
        "4c323985662e435f8fbccf32460f8f5c": {
          "model_module": "@jupyter-widgets/base",
          "model_name": "LayoutModel",
          "state": {
            "_view_name": "LayoutView",
            "grid_template_rows": null,
            "right": null,
            "justify_content": null,
            "_view_module": "@jupyter-widgets/base",
            "overflow": null,
            "_model_module_version": "1.2.0",
            "_view_count": null,
            "flex_flow": null,
            "width": null,
            "min_width": null,
            "border": null,
            "align_items": null,
            "bottom": null,
            "_model_module": "@jupyter-widgets/base",
            "top": null,
            "grid_column": null,
            "overflow_y": null,
            "overflow_x": null,
            "grid_auto_flow": null,
            "grid_area": null,
            "grid_template_columns": null,
            "flex": null,
            "_model_name": "LayoutModel",
            "justify_items": null,
            "grid_row": null,
            "max_height": null,
            "align_content": null,
            "visibility": null,
            "align_self": null,
            "height": null,
            "min_height": null,
            "padding": null,
            "grid_auto_rows": null,
            "grid_gap": null,
            "max_width": null,
            "order": null,
            "_view_module_version": "1.2.0",
            "grid_template_areas": null,
            "object_position": null,
            "object_fit": null,
            "grid_auto_columns": null,
            "margin": null,
            "display": null,
            "left": null
          }
        },
        "941a12071d9543f8a0ad607268862018": {
          "model_module": "@jupyter-widgets/controls",
          "model_name": "DescriptionStyleModel",
          "state": {
            "_view_name": "StyleView",
            "_model_name": "DescriptionStyleModel",
            "description_width": "",
            "_view_module": "@jupyter-widgets/base",
            "_model_module_version": "1.5.0",
            "_view_count": null,
            "_view_module_version": "1.2.0",
            "_model_module": "@jupyter-widgets/controls"
          }
        },
        "463ba26fa33f4ec88736eb35eed64001": {
          "model_module": "@jupyter-widgets/base",
          "model_name": "LayoutModel",
          "state": {
            "_view_name": "LayoutView",
            "grid_template_rows": null,
            "right": null,
            "justify_content": null,
            "_view_module": "@jupyter-widgets/base",
            "overflow": null,
            "_model_module_version": "1.2.0",
            "_view_count": null,
            "flex_flow": null,
            "width": null,
            "min_width": null,
            "border": null,
            "align_items": null,
            "bottom": null,
            "_model_module": "@jupyter-widgets/base",
            "top": null,
            "grid_column": null,
            "overflow_y": null,
            "overflow_x": null,
            "grid_auto_flow": null,
            "grid_area": null,
            "grid_template_columns": null,
            "flex": null,
            "_model_name": "LayoutModel",
            "justify_items": null,
            "grid_row": null,
            "max_height": null,
            "align_content": null,
            "visibility": null,
            "align_self": null,
            "height": null,
            "min_height": null,
            "padding": null,
            "grid_auto_rows": null,
            "grid_gap": null,
            "max_width": null,
            "order": null,
            "_view_module_version": "1.2.0",
            "grid_template_areas": null,
            "object_position": null,
            "object_fit": null,
            "grid_auto_columns": null,
            "margin": null,
            "display": null,
            "left": null
          }
        },
        "79ed1a731d0347518db29b6533421f87": {
          "model_module": "@jupyter-widgets/controls",
          "model_name": "HBoxModel",
          "state": {
            "_view_name": "HBoxView",
            "_dom_classes": [],
            "_model_name": "HBoxModel",
            "_view_module": "@jupyter-widgets/controls",
            "_model_module_version": "1.5.0",
            "_view_count": null,
            "_view_module_version": "1.5.0",
            "box_style": "",
            "layout": "IPY_MODEL_2ff50c84086c455bae8fd670bbefbc39",
            "_model_module": "@jupyter-widgets/controls",
            "children": [
              "IPY_MODEL_864480beb2ac4a348ad44adfa7ec7198",
              "IPY_MODEL_e8b73e7fa1d749ecb108d713a6b2c0f5"
            ]
          }
        },
        "2ff50c84086c455bae8fd670bbefbc39": {
          "model_module": "@jupyter-widgets/base",
          "model_name": "LayoutModel",
          "state": {
            "_view_name": "LayoutView",
            "grid_template_rows": null,
            "right": null,
            "justify_content": null,
            "_view_module": "@jupyter-widgets/base",
            "overflow": null,
            "_model_module_version": "1.2.0",
            "_view_count": null,
            "flex_flow": null,
            "width": null,
            "min_width": null,
            "border": null,
            "align_items": null,
            "bottom": null,
            "_model_module": "@jupyter-widgets/base",
            "top": null,
            "grid_column": null,
            "overflow_y": null,
            "overflow_x": null,
            "grid_auto_flow": null,
            "grid_area": null,
            "grid_template_columns": null,
            "flex": null,
            "_model_name": "LayoutModel",
            "justify_items": null,
            "grid_row": null,
            "max_height": null,
            "align_content": null,
            "visibility": null,
            "align_self": null,
            "height": null,
            "min_height": null,
            "padding": null,
            "grid_auto_rows": null,
            "grid_gap": null,
            "max_width": null,
            "order": null,
            "_view_module_version": "1.2.0",
            "grid_template_areas": null,
            "object_position": null,
            "object_fit": null,
            "grid_auto_columns": null,
            "margin": null,
            "display": null,
            "left": null
          }
        },
        "864480beb2ac4a348ad44adfa7ec7198": {
          "model_module": "@jupyter-widgets/controls",
          "model_name": "FloatProgressModel",
          "state": {
            "_view_name": "ProgressView",
            "style": "IPY_MODEL_d7c44ca83ed74fe09bebd91f8595ee06",
            "_dom_classes": [],
            "description": "Downloading: 100%",
            "_model_name": "FloatProgressModel",
            "bar_style": "success",
            "max": 231508,
            "_view_module": "@jupyter-widgets/controls",
            "_model_module_version": "1.5.0",
            "value": 231508,
            "_view_count": null,
            "_view_module_version": "1.5.0",
            "orientation": "horizontal",
            "min": 0,
            "description_tooltip": null,
            "_model_module": "@jupyter-widgets/controls",
            "layout": "IPY_MODEL_5b638c61f452432fabf9a0bfcff7623d"
          }
        },
        "e8b73e7fa1d749ecb108d713a6b2c0f5": {
          "model_module": "@jupyter-widgets/controls",
          "model_name": "HTMLModel",
          "state": {
            "_view_name": "HTMLView",
            "style": "IPY_MODEL_372951d477c74c22aa250dd74d146b96",
            "_dom_classes": [],
            "description": "",
            "_model_name": "HTMLModel",
            "placeholder": "​",
            "_view_module": "@jupyter-widgets/controls",
            "_model_module_version": "1.5.0",
            "value": " 232k/232k [00:04&lt;00:00, 48.9kB/s]",
            "_view_count": null,
            "_view_module_version": "1.5.0",
            "description_tooltip": null,
            "_model_module": "@jupyter-widgets/controls",
            "layout": "IPY_MODEL_ff9dab7b93f245c9adc6988ceaeef049"
          }
        },
        "d7c44ca83ed74fe09bebd91f8595ee06": {
          "model_module": "@jupyter-widgets/controls",
          "model_name": "ProgressStyleModel",
          "state": {
            "_view_name": "StyleView",
            "_model_name": "ProgressStyleModel",
            "description_width": "initial",
            "_view_module": "@jupyter-widgets/base",
            "_model_module_version": "1.5.0",
            "_view_count": null,
            "_view_module_version": "1.2.0",
            "bar_color": null,
            "_model_module": "@jupyter-widgets/controls"
          }
        },
        "5b638c61f452432fabf9a0bfcff7623d": {
          "model_module": "@jupyter-widgets/base",
          "model_name": "LayoutModel",
          "state": {
            "_view_name": "LayoutView",
            "grid_template_rows": null,
            "right": null,
            "justify_content": null,
            "_view_module": "@jupyter-widgets/base",
            "overflow": null,
            "_model_module_version": "1.2.0",
            "_view_count": null,
            "flex_flow": null,
            "width": null,
            "min_width": null,
            "border": null,
            "align_items": null,
            "bottom": null,
            "_model_module": "@jupyter-widgets/base",
            "top": null,
            "grid_column": null,
            "overflow_y": null,
            "overflow_x": null,
            "grid_auto_flow": null,
            "grid_area": null,
            "grid_template_columns": null,
            "flex": null,
            "_model_name": "LayoutModel",
            "justify_items": null,
            "grid_row": null,
            "max_height": null,
            "align_content": null,
            "visibility": null,
            "align_self": null,
            "height": null,
            "min_height": null,
            "padding": null,
            "grid_auto_rows": null,
            "grid_gap": null,
            "max_width": null,
            "order": null,
            "_view_module_version": "1.2.0",
            "grid_template_areas": null,
            "object_position": null,
            "object_fit": null,
            "grid_auto_columns": null,
            "margin": null,
            "display": null,
            "left": null
          }
        },
        "372951d477c74c22aa250dd74d146b96": {
          "model_module": "@jupyter-widgets/controls",
          "model_name": "DescriptionStyleModel",
          "state": {
            "_view_name": "StyleView",
            "_model_name": "DescriptionStyleModel",
            "description_width": "",
            "_view_module": "@jupyter-widgets/base",
            "_model_module_version": "1.5.0",
            "_view_count": null,
            "_view_module_version": "1.2.0",
            "_model_module": "@jupyter-widgets/controls"
          }
        },
        "ff9dab7b93f245c9adc6988ceaeef049": {
          "model_module": "@jupyter-widgets/base",
          "model_name": "LayoutModel",
          "state": {
            "_view_name": "LayoutView",
            "grid_template_rows": null,
            "right": null,
            "justify_content": null,
            "_view_module": "@jupyter-widgets/base",
            "overflow": null,
            "_model_module_version": "1.2.0",
            "_view_count": null,
            "flex_flow": null,
            "width": null,
            "min_width": null,
            "border": null,
            "align_items": null,
            "bottom": null,
            "_model_module": "@jupyter-widgets/base",
            "top": null,
            "grid_column": null,
            "overflow_y": null,
            "overflow_x": null,
            "grid_auto_flow": null,
            "grid_area": null,
            "grid_template_columns": null,
            "flex": null,
            "_model_name": "LayoutModel",
            "justify_items": null,
            "grid_row": null,
            "max_height": null,
            "align_content": null,
            "visibility": null,
            "align_self": null,
            "height": null,
            "min_height": null,
            "padding": null,
            "grid_auto_rows": null,
            "grid_gap": null,
            "max_width": null,
            "order": null,
            "_view_module_version": "1.2.0",
            "grid_template_areas": null,
            "object_position": null,
            "object_fit": null,
            "grid_auto_columns": null,
            "margin": null,
            "display": null,
            "left": null
          }
        },
        "e9618bf90e5843e5910d56f5377df477": {
          "model_module": "@jupyter-widgets/controls",
          "model_name": "HBoxModel",
          "state": {
            "_view_name": "HBoxView",
            "_dom_classes": [],
            "_model_name": "HBoxModel",
            "_view_module": "@jupyter-widgets/controls",
            "_model_module_version": "1.5.0",
            "_view_count": null,
            "_view_module_version": "1.5.0",
            "box_style": "",
            "layout": "IPY_MODEL_152730016a564ed2b2fce26cd84cfa29",
            "_model_module": "@jupyter-widgets/controls",
            "children": [
              "IPY_MODEL_ef1918edeefd4ef6aae25fcbf4b390c0",
              "IPY_MODEL_2640acc2ca52432ba497f6ca9dbcf8a3"
            ]
          }
        },
        "152730016a564ed2b2fce26cd84cfa29": {
          "model_module": "@jupyter-widgets/base",
          "model_name": "LayoutModel",
          "state": {
            "_view_name": "LayoutView",
            "grid_template_rows": null,
            "right": null,
            "justify_content": null,
            "_view_module": "@jupyter-widgets/base",
            "overflow": null,
            "_model_module_version": "1.2.0",
            "_view_count": null,
            "flex_flow": null,
            "width": null,
            "min_width": null,
            "border": null,
            "align_items": null,
            "bottom": null,
            "_model_module": "@jupyter-widgets/base",
            "top": null,
            "grid_column": null,
            "overflow_y": null,
            "overflow_x": null,
            "grid_auto_flow": null,
            "grid_area": null,
            "grid_template_columns": null,
            "flex": null,
            "_model_name": "LayoutModel",
            "justify_items": null,
            "grid_row": null,
            "max_height": null,
            "align_content": null,
            "visibility": null,
            "align_self": null,
            "height": null,
            "min_height": null,
            "padding": null,
            "grid_auto_rows": null,
            "grid_gap": null,
            "max_width": null,
            "order": null,
            "_view_module_version": "1.2.0",
            "grid_template_areas": null,
            "object_position": null,
            "object_fit": null,
            "grid_auto_columns": null,
            "margin": null,
            "display": null,
            "left": null
          }
        },
        "ef1918edeefd4ef6aae25fcbf4b390c0": {
          "model_module": "@jupyter-widgets/controls",
          "model_name": "FloatProgressModel",
          "state": {
            "_view_name": "ProgressView",
            "style": "IPY_MODEL_89745361ff734e2dad6123af6cbf02c3",
            "_dom_classes": [],
            "description": "Downloading: 100%",
            "_model_name": "FloatProgressModel",
            "bar_style": "success",
            "max": 466062,
            "_view_module": "@jupyter-widgets/controls",
            "_model_module_version": "1.5.0",
            "value": 466062,
            "_view_count": null,
            "_view_module_version": "1.5.0",
            "orientation": "horizontal",
            "min": 0,
            "description_tooltip": null,
            "_model_module": "@jupyter-widgets/controls",
            "layout": "IPY_MODEL_50e59e22fc4d449ca25d006d3c5f70fc"
          }
        },
        "2640acc2ca52432ba497f6ca9dbcf8a3": {
          "model_module": "@jupyter-widgets/controls",
          "model_name": "HTMLModel",
          "state": {
            "_view_name": "HTMLView",
            "style": "IPY_MODEL_ba4860a65f014b7fb6022974959f4eeb",
            "_dom_classes": [],
            "description": "",
            "_model_name": "HTMLModel",
            "placeholder": "​",
            "_view_module": "@jupyter-widgets/controls",
            "_model_module_version": "1.5.0",
            "value": " 466k/466k [00:00&lt;00:00, 1.12MB/s]",
            "_view_count": null,
            "_view_module_version": "1.5.0",
            "description_tooltip": null,
            "_model_module": "@jupyter-widgets/controls",
            "layout": "IPY_MODEL_192323844aa646d9b6ce3a9cc45f1031"
          }
        },
        "89745361ff734e2dad6123af6cbf02c3": {
          "model_module": "@jupyter-widgets/controls",
          "model_name": "ProgressStyleModel",
          "state": {
            "_view_name": "StyleView",
            "_model_name": "ProgressStyleModel",
            "description_width": "initial",
            "_view_module": "@jupyter-widgets/base",
            "_model_module_version": "1.5.0",
            "_view_count": null,
            "_view_module_version": "1.2.0",
            "bar_color": null,
            "_model_module": "@jupyter-widgets/controls"
          }
        },
        "50e59e22fc4d449ca25d006d3c5f70fc": {
          "model_module": "@jupyter-widgets/base",
          "model_name": "LayoutModel",
          "state": {
            "_view_name": "LayoutView",
            "grid_template_rows": null,
            "right": null,
            "justify_content": null,
            "_view_module": "@jupyter-widgets/base",
            "overflow": null,
            "_model_module_version": "1.2.0",
            "_view_count": null,
            "flex_flow": null,
            "width": null,
            "min_width": null,
            "border": null,
            "align_items": null,
            "bottom": null,
            "_model_module": "@jupyter-widgets/base",
            "top": null,
            "grid_column": null,
            "overflow_y": null,
            "overflow_x": null,
            "grid_auto_flow": null,
            "grid_area": null,
            "grid_template_columns": null,
            "flex": null,
            "_model_name": "LayoutModel",
            "justify_items": null,
            "grid_row": null,
            "max_height": null,
            "align_content": null,
            "visibility": null,
            "align_self": null,
            "height": null,
            "min_height": null,
            "padding": null,
            "grid_auto_rows": null,
            "grid_gap": null,
            "max_width": null,
            "order": null,
            "_view_module_version": "1.2.0",
            "grid_template_areas": null,
            "object_position": null,
            "object_fit": null,
            "grid_auto_columns": null,
            "margin": null,
            "display": null,
            "left": null
          }
        },
        "ba4860a65f014b7fb6022974959f4eeb": {
          "model_module": "@jupyter-widgets/controls",
          "model_name": "DescriptionStyleModel",
          "state": {
            "_view_name": "StyleView",
            "_model_name": "DescriptionStyleModel",
            "description_width": "",
            "_view_module": "@jupyter-widgets/base",
            "_model_module_version": "1.5.0",
            "_view_count": null,
            "_view_module_version": "1.2.0",
            "_model_module": "@jupyter-widgets/controls"
          }
        },
        "192323844aa646d9b6ce3a9cc45f1031": {
          "model_module": "@jupyter-widgets/base",
          "model_name": "LayoutModel",
          "state": {
            "_view_name": "LayoutView",
            "grid_template_rows": null,
            "right": null,
            "justify_content": null,
            "_view_module": "@jupyter-widgets/base",
            "overflow": null,
            "_model_module_version": "1.2.0",
            "_view_count": null,
            "flex_flow": null,
            "width": null,
            "min_width": null,
            "border": null,
            "align_items": null,
            "bottom": null,
            "_model_module": "@jupyter-widgets/base",
            "top": null,
            "grid_column": null,
            "overflow_y": null,
            "overflow_x": null,
            "grid_auto_flow": null,
            "grid_area": null,
            "grid_template_columns": null,
            "flex": null,
            "_model_name": "LayoutModel",
            "justify_items": null,
            "grid_row": null,
            "max_height": null,
            "align_content": null,
            "visibility": null,
            "align_self": null,
            "height": null,
            "min_height": null,
            "padding": null,
            "grid_auto_rows": null,
            "grid_gap": null,
            "max_width": null,
            "order": null,
            "_view_module_version": "1.2.0",
            "grid_template_areas": null,
            "object_position": null,
            "object_fit": null,
            "grid_auto_columns": null,
            "margin": null,
            "display": null,
            "left": null
          }
        },
        "75380c91753e466eb074ed0fbb2ed54f": {
          "model_module": "@jupyter-widgets/controls",
          "model_name": "HBoxModel",
          "state": {
            "_view_name": "HBoxView",
            "_dom_classes": [],
            "_model_name": "HBoxModel",
            "_view_module": "@jupyter-widgets/controls",
            "_model_module_version": "1.5.0",
            "_view_count": null,
            "_view_module_version": "1.5.0",
            "box_style": "",
            "layout": "IPY_MODEL_1b2850d9c112442983b468f9cbf8ea15",
            "_model_module": "@jupyter-widgets/controls",
            "children": [
              "IPY_MODEL_4fe9c3b226204152ad58e825205aa773",
              "IPY_MODEL_f3fbdc4e087047bcae03d9dfc4b7828f"
            ]
          }
        },
        "1b2850d9c112442983b468f9cbf8ea15": {
          "model_module": "@jupyter-widgets/base",
          "model_name": "LayoutModel",
          "state": {
            "_view_name": "LayoutView",
            "grid_template_rows": null,
            "right": null,
            "justify_content": null,
            "_view_module": "@jupyter-widgets/base",
            "overflow": null,
            "_model_module_version": "1.2.0",
            "_view_count": null,
            "flex_flow": null,
            "width": null,
            "min_width": null,
            "border": null,
            "align_items": null,
            "bottom": null,
            "_model_module": "@jupyter-widgets/base",
            "top": null,
            "grid_column": null,
            "overflow_y": null,
            "overflow_x": null,
            "grid_auto_flow": null,
            "grid_area": null,
            "grid_template_columns": null,
            "flex": null,
            "_model_name": "LayoutModel",
            "justify_items": null,
            "grid_row": null,
            "max_height": null,
            "align_content": null,
            "visibility": null,
            "align_self": null,
            "height": null,
            "min_height": null,
            "padding": null,
            "grid_auto_rows": null,
            "grid_gap": null,
            "max_width": null,
            "order": null,
            "_view_module_version": "1.2.0",
            "grid_template_areas": null,
            "object_position": null,
            "object_fit": null,
            "grid_auto_columns": null,
            "margin": null,
            "display": null,
            "left": null
          }
        },
        "4fe9c3b226204152ad58e825205aa773": {
          "model_module": "@jupyter-widgets/controls",
          "model_name": "FloatProgressModel",
          "state": {
            "_view_name": "ProgressView",
            "style": "IPY_MODEL_82cd269e12de492b85b1627beaf3bf6e",
            "_dom_classes": [],
            "description": "Downloading: 100%",
            "_model_name": "FloatProgressModel",
            "bar_style": "success",
            "max": 363423424,
            "_view_module": "@jupyter-widgets/controls",
            "_model_module_version": "1.5.0",
            "value": 363423424,
            "_view_count": null,
            "_view_module_version": "1.5.0",
            "orientation": "horizontal",
            "min": 0,
            "description_tooltip": null,
            "_model_module": "@jupyter-widgets/controls",
            "layout": "IPY_MODEL_6193fefb1db54d2c8d238923fe75a380"
          }
        },
        "f3fbdc4e087047bcae03d9dfc4b7828f": {
          "model_module": "@jupyter-widgets/controls",
          "model_name": "HTMLModel",
          "state": {
            "_view_name": "HTMLView",
            "style": "IPY_MODEL_a5faec8314f24555a1ff8066374952c7",
            "_dom_classes": [],
            "description": "",
            "_model_name": "HTMLModel",
            "placeholder": "​",
            "_view_module": "@jupyter-widgets/controls",
            "_model_module_version": "1.5.0",
            "value": " 363M/363M [00:07&lt;00:00, 49.0MB/s]",
            "_view_count": null,
            "_view_module_version": "1.5.0",
            "description_tooltip": null,
            "_model_module": "@jupyter-widgets/controls",
            "layout": "IPY_MODEL_6bcf48e4ae024be4a07e671343bda173"
          }
        },
        "82cd269e12de492b85b1627beaf3bf6e": {
          "model_module": "@jupyter-widgets/controls",
          "model_name": "ProgressStyleModel",
          "state": {
            "_view_name": "StyleView",
            "_model_name": "ProgressStyleModel",
            "description_width": "initial",
            "_view_module": "@jupyter-widgets/base",
            "_model_module_version": "1.5.0",
            "_view_count": null,
            "_view_module_version": "1.2.0",
            "bar_color": null,
            "_model_module": "@jupyter-widgets/controls"
          }
        },
        "6193fefb1db54d2c8d238923fe75a380": {
          "model_module": "@jupyter-widgets/base",
          "model_name": "LayoutModel",
          "state": {
            "_view_name": "LayoutView",
            "grid_template_rows": null,
            "right": null,
            "justify_content": null,
            "_view_module": "@jupyter-widgets/base",
            "overflow": null,
            "_model_module_version": "1.2.0",
            "_view_count": null,
            "flex_flow": null,
            "width": null,
            "min_width": null,
            "border": null,
            "align_items": null,
            "bottom": null,
            "_model_module": "@jupyter-widgets/base",
            "top": null,
            "grid_column": null,
            "overflow_y": null,
            "overflow_x": null,
            "grid_auto_flow": null,
            "grid_area": null,
            "grid_template_columns": null,
            "flex": null,
            "_model_name": "LayoutModel",
            "justify_items": null,
            "grid_row": null,
            "max_height": null,
            "align_content": null,
            "visibility": null,
            "align_self": null,
            "height": null,
            "min_height": null,
            "padding": null,
            "grid_auto_rows": null,
            "grid_gap": null,
            "max_width": null,
            "order": null,
            "_view_module_version": "1.2.0",
            "grid_template_areas": null,
            "object_position": null,
            "object_fit": null,
            "grid_auto_columns": null,
            "margin": null,
            "display": null,
            "left": null
          }
        },
        "a5faec8314f24555a1ff8066374952c7": {
          "model_module": "@jupyter-widgets/controls",
          "model_name": "DescriptionStyleModel",
          "state": {
            "_view_name": "StyleView",
            "_model_name": "DescriptionStyleModel",
            "description_width": "",
            "_view_module": "@jupyter-widgets/base",
            "_model_module_version": "1.5.0",
            "_view_count": null,
            "_view_module_version": "1.2.0",
            "_model_module": "@jupyter-widgets/controls"
          }
        },
        "6bcf48e4ae024be4a07e671343bda173": {
          "model_module": "@jupyter-widgets/base",
          "model_name": "LayoutModel",
          "state": {
            "_view_name": "LayoutView",
            "grid_template_rows": null,
            "right": null,
            "justify_content": null,
            "_view_module": "@jupyter-widgets/base",
            "overflow": null,
            "_model_module_version": "1.2.0",
            "_view_count": null,
            "flex_flow": null,
            "width": null,
            "min_width": null,
            "border": null,
            "align_items": null,
            "bottom": null,
            "_model_module": "@jupyter-widgets/base",
            "top": null,
            "grid_column": null,
            "overflow_y": null,
            "overflow_x": null,
            "grid_auto_flow": null,
            "grid_area": null,
            "grid_template_columns": null,
            "flex": null,
            "_model_name": "LayoutModel",
            "justify_items": null,
            "grid_row": null,
            "max_height": null,
            "align_content": null,
            "visibility": null,
            "align_self": null,
            "height": null,
            "min_height": null,
            "padding": null,
            "grid_auto_rows": null,
            "grid_gap": null,
            "max_width": null,
            "order": null,
            "_view_module_version": "1.2.0",
            "grid_template_areas": null,
            "object_position": null,
            "object_fit": null,
            "grid_auto_columns": null,
            "margin": null,
            "display": null,
            "left": null
          }
        }
      }
    }
  },
  "cells": [
    {
      "cell_type": "markdown",
      "metadata": {
        "id": "view-in-github",
        "colab_type": "text"
      },
      "source": [
        "<a href=\"https://colab.research.google.com/github/vasvarym/FakeNewsProject/blob/main/nelasentiment.ipynb\" target=\"_parent\"><img src=\"https://colab.research.google.com/assets/colab-badge.svg\" alt=\"Open In Colab\"/></a>"
      ]
    },
    {
      "cell_type": "markdown",
      "metadata": {
        "id": "Ne_QT4ael6tW"
      },
      "source": [
        "#Import Libraries"
      ]
    },
    {
      "cell_type": "code",
      "metadata": {
        "id": "m5saGi6TllIz"
      },
      "source": [
        "import pandas as pd\n",
        "import numpy as np\n",
        "import seaborn as sb\n",
        "import nltk\n",
        "import re\n",
        "import matplotlib.pyplot as plt\n",
        "# Import word_tokenize and stopwords from nltk\n",
        "from nltk.corpus import stopwords\n",
        "from nltk.tokenize import word_tokenize\n",
        "from nltk.stem import WordNetLemmatizer\n",
        "\n",
        "from sklearn.feature_extraction.text import CountVectorizer\n",
        "from sklearn.feature_extraction.text import TfidfTransformer, TfidfVectorizer\n",
        "\n",
        "import nltk\n",
        "import nltk.corpus\n",
        "import string\n",
        "from gensim.models.word2vec import Word2Vec\n",
        "from sklearn.pipeline import Pipeline\n",
        "\n",
        "\n",
        "from sklearn.linear_model import LogisticRegression\n",
        "from sklearn.tree import DecisionTreeClassifier\n",
        "from sklearn.ensemble import RandomForestClassifier\n",
        "from sklearn.naive_bayes import MultinomialNB\n",
        "from sklearn import svm\n",
        "from sklearn.svm import LinearSVC\n",
        "from sklearn.model_selection import cross_validate, GridSearchCV\n",
        "\n",
        "from sklearn.metrics import confusion_matrix, f1_score, classification_report, accuracy_score"
      ],
      "execution_count": 39,
      "outputs": []
    },
    {
      "cell_type": "code",
      "metadata": {
        "id": "i52kNr0pO0hk"
      },
      "source": [
        "from keras.models import Model\r\n",
        "from keras.layers import LSTM, Activation, Dense, Dropout, Input, Embedding\r\n",
        "from keras.optimizers import RMSprop\r\n",
        "from keras.preprocessing.text import Tokenizer\r\n",
        "from keras.preprocessing import text, sequence\r\n",
        "from keras.utils import to_categorical\r\n",
        "from keras.callbacks import EarlyStopping\r\n",
        "from tensorflow.keras.models import Sequential\r\n",
        "from keras.preprocessing.sequence import pad_sequences"
      ],
      "execution_count": 40,
      "outputs": []
    },
    {
      "cell_type": "code",
      "metadata": {
        "colab": {
          "base_uri": "https://localhost:8080/"
        },
        "id": "31G5OI-olynX",
        "outputId": "60468d48-43f2-46f4-a936-f5d8556b9949"
      },
      "source": [
        "import nltk\r\n",
        "\r\n",
        "nltk.download('stopwords')\r\n",
        "nltk.download('wordnet')\r\n",
        "nltk.download('punkt')\r\n",
        "nltk.download('averaged_perceptron_tagger')\r\n",
        "nltk.download('maxent_ne_chunker')\r\n",
        "nltk.download('words')"
      ],
      "execution_count": 41,
      "outputs": [
        {
          "output_type": "stream",
          "text": [
            "[nltk_data] Downloading package stopwords to /root/nltk_data...\n",
            "[nltk_data]   Package stopwords is already up-to-date!\n",
            "[nltk_data] Downloading package wordnet to /root/nltk_data...\n",
            "[nltk_data]   Package wordnet is already up-to-date!\n",
            "[nltk_data] Downloading package punkt to /root/nltk_data...\n",
            "[nltk_data]   Package punkt is already up-to-date!\n",
            "[nltk_data] Downloading package averaged_perceptron_tagger to\n",
            "[nltk_data]     /root/nltk_data...\n",
            "[nltk_data]   Package averaged_perceptron_tagger is already up-to-\n",
            "[nltk_data]       date!\n",
            "[nltk_data] Downloading package maxent_ne_chunker to\n",
            "[nltk_data]     /root/nltk_data...\n",
            "[nltk_data]   Package maxent_ne_chunker is already up-to-date!\n",
            "[nltk_data] Downloading package words to /root/nltk_data...\n",
            "[nltk_data]   Package words is already up-to-date!\n"
          ],
          "name": "stdout"
        },
        {
          "output_type": "execute_result",
          "data": {
            "text/plain": [
              "True"
            ]
          },
          "metadata": {
            "tags": []
          },
          "execution_count": 41
        }
      ]
    },
    {
      "cell_type": "markdown",
      "metadata": {
        "id": "83TgHaOql-jf"
      },
      "source": [
        "#Import Dataset"
      ]
    },
    {
      "cell_type": "code",
      "metadata": {
        "colab": {
          "base_uri": "https://localhost:8080/"
        },
        "id": "h68GBCvdmBT4",
        "outputId": "3fa19fd0-7b6e-4cc8-e274-cc5134ef35d7"
      },
      "source": [
        "from google.colab import drive\r\n",
        "drive.mount('/content/drive')"
      ],
      "execution_count": 42,
      "outputs": [
        {
          "output_type": "stream",
          "text": [
            "Drive already mounted at /content/drive; to attempt to forcibly remount, call drive.mount(\"/content/drive\", force_remount=True).\n"
          ],
          "name": "stdout"
        }
      ]
    },
    {
      "cell_type": "code",
      "metadata": {
        "id": "qfqd2FUt8XmI"
      },
      "source": [
        "data = pd.read_csv(\"/content/drive/My Drive/nela10sample.csv\")\r\n",
        "data.content=data.content.astype(str)\r\n",
        "data.title=data.title.astype(str)"
      ],
      "execution_count": 43,
      "outputs": []
    },
    {
      "cell_type": "code",
      "metadata": {
        "id": "4DWlB2RGadJl"
      },
      "source": [
        "# Change labels\r\n",
        "def change_labels(y):\r\n",
        "    if y == 0:\r\n",
        "        return 0\r\n",
        "    if y == 2:\r\n",
        "        return 1"
      ],
      "execution_count": 44,
      "outputs": []
    },
    {
      "cell_type": "code",
      "metadata": {
        "id": "QXfyk0NhllI0"
      },
      "source": [
        "data"
      ],
      "execution_count": null,
      "outputs": []
    },
    {
      "cell_type": "code",
      "metadata": {
        "colab": {
          "base_uri": "https://localhost:8080/"
        },
        "id": "crZiIRDtllI1",
        "outputId": "904fa27c-d493-4d4f-d98d-8eefec760a76"
      },
      "source": [
        "# Shape of each set\n",
        "\n",
        "print(\"Shape of DATA: \", data.shape)"
      ],
      "execution_count": 45,
      "outputs": [
        {
          "output_type": "stream",
          "text": [
            "Shape of DATA:  (102554, 11)\n"
          ],
          "name": "stdout"
        }
      ]
    },
    {
      "cell_type": "code",
      "metadata": {
        "id": "6T__whUu-q5R"
      },
      "source": [
        "# Concetanate title and content\r\n",
        "data[\"content\"] = data[\"title\"] + \" \" + data[\"content\"]\r\n",
        "\r\n",
        "#Keep only content, Reliability as columns\r\n",
        "data = data.drop(['id','date','source','title','author','url','published','published_utc','collection_utc'],axis=1)"
      ],
      "execution_count": 46,
      "outputs": []
    },
    {
      "cell_type": "code",
      "metadata": {
        "id": "kQLjI7rn-6CI"
      },
      "source": [
        "data"
      ],
      "execution_count": null,
      "outputs": []
    },
    {
      "cell_type": "markdown",
      "metadata": {
        "id": "l9F13qL5llI2"
      },
      "source": [
        "# Sentiment Analysis\n",
        "\n",
        "Get polarity and subjectivity scores of the news with TextBlob"
      ]
    },
    {
      "cell_type": "code",
      "metadata": {
        "id": "Vn19yi-vllI2"
      },
      "source": [
        "# Import the TextBlob\n",
        "from textblob import TextBlob"
      ],
      "execution_count": 47,
      "outputs": []
    },
    {
      "cell_type": "code",
      "metadata": {
        "id": "N6nLd2d7Aakq"
      },
      "source": [
        "df1 = data[:1000]\r\n",
        "df2 = data[-1000:]\r\n",
        "df3 = [df1,df2]\r\n",
        "smallerdf = pd.concat(df3)"
      ],
      "execution_count": 48,
      "outputs": []
    },
    {
      "cell_type": "code",
      "metadata": {
        "colab": {
          "base_uri": "https://localhost:8080/"
        },
        "id": "_YmkMHafayzj",
        "outputId": "760f6178-d666-49c9-927b-729da3fac9dd"
      },
      "source": [
        "smallerdf[\"Reliability\"] = smallerdf.Reliability.apply(change_labels)\r\n",
        "\r\n",
        "print(smallerdf[\"Reliability\"])"
      ],
      "execution_count": 49,
      "outputs": [
        {
          "output_type": "stream",
          "text": [
            "0         0\n",
            "1         0\n",
            "2         0\n",
            "3         0\n",
            "4         0\n",
            "         ..\n",
            "102549    1\n",
            "102550    1\n",
            "102551    1\n",
            "102552    1\n",
            "102553    1\n",
            "Name: Reliability, Length: 2000, dtype: int64\n"
          ],
          "name": "stdout"
        }
      ]
    },
    {
      "cell_type": "code",
      "metadata": {
        "colab": {
          "base_uri": "https://localhost:8080/",
          "height": 355
        },
        "id": "Bh8SKjV1llI3",
        "outputId": "1866b8e8-3501-4a8b-d3b7-818605f0b0fc"
      },
      "source": [
        "# Add polarities and subkectivities into the DataFrame by using TextBlob\n",
        "smallerdf[\"Polarity\"] = smallerdf[\"content\"].apply(lambda word: TextBlob(word).sentiment.polarity)\n",
        "smallerdf[\"Subjectivity\"] = smallerdf[\"content\"].apply(lambda word: TextBlob(word).sentiment.subjectivity)\n",
        "\n",
        "# Display the Polarity and Subjectivity columns of train dataset\n",
        "display(smallerdf[[\"content\",\"Polarity\",\"Subjectivity\"]].head(10))"
      ],
      "execution_count": 50,
      "outputs": [
        {
          "output_type": "display_data",
          "data": {
            "text/html": [
              "<div>\n",
              "<style scoped>\n",
              "    .dataframe tbody tr th:only-of-type {\n",
              "        vertical-align: middle;\n",
              "    }\n",
              "\n",
              "    .dataframe tbody tr th {\n",
              "        vertical-align: top;\n",
              "    }\n",
              "\n",
              "    .dataframe thead th {\n",
              "        text-align: right;\n",
              "    }\n",
              "</style>\n",
              "<table border=\"1\" class=\"dataframe\">\n",
              "  <thead>\n",
              "    <tr style=\"text-align: right;\">\n",
              "      <th></th>\n",
              "      <th>content</th>\n",
              "      <th>Polarity</th>\n",
              "      <th>Subjectivity</th>\n",
              "    </tr>\n",
              "  </thead>\n",
              "  <tbody>\n",
              "    <tr>\n",
              "      <th>0</th>\n",
              "      <td>Students could take SAT at home if schools rem...</td>\n",
              "      <td>0.079265</td>\n",
              "      <td>0.395490</td>\n",
              "    </tr>\n",
              "    <tr>\n",
              "      <th>1</th>\n",
              "      <td>Detroit facing fresh fiscal woes with coronavi...</td>\n",
              "      <td>0.072199</td>\n",
              "      <td>0.433984</td>\n",
              "    </tr>\n",
              "    <tr>\n",
              "      <th>2</th>\n",
              "      <td>Thousands protest Michigan governor's social d...</td>\n",
              "      <td>-0.072874</td>\n",
              "      <td>0.411442</td>\n",
              "    </tr>\n",
              "    <tr>\n",
              "      <th>3</th>\n",
              "      <td>Baltimore Police defends planned aerial survei...</td>\n",
              "      <td>0.033147</td>\n",
              "      <td>0.602930</td>\n",
              "    </tr>\n",
              "    <tr>\n",
              "      <th>4</th>\n",
              "      <td>Attorney who fought for civil rights in Louisi...</td>\n",
              "      <td>0.185473</td>\n",
              "      <td>0.484764</td>\n",
              "    </tr>\n",
              "    <tr>\n",
              "      <th>5</th>\n",
              "      <td>California to give cash payments to immigrants...</td>\n",
              "      <td>0.096134</td>\n",
              "      <td>0.421376</td>\n",
              "    </tr>\n",
              "    <tr>\n",
              "      <th>6</th>\n",
              "      <td>Deputies: Florida doctors who took down Trump ...</td>\n",
              "      <td>-0.031313</td>\n",
              "      <td>0.246465</td>\n",
              "    </tr>\n",
              "    <tr>\n",
              "      <th>7</th>\n",
              "      <td>Evidence of virus' effect on US economy grows ...</td>\n",
              "      <td>0.110147</td>\n",
              "      <td>0.393699</td>\n",
              "    </tr>\n",
              "    <tr>\n",
              "      <th>8</th>\n",
              "      <td>Lawyer for Hanukkah stabbing suspect seeks to ...</td>\n",
              "      <td>-0.114876</td>\n",
              "      <td>0.404959</td>\n",
              "    </tr>\n",
              "    <tr>\n",
              "      <th>9</th>\n",
              "      <td>Explosion caught on video damages paper mill; ...</td>\n",
              "      <td>-0.034538</td>\n",
              "      <td>0.497237</td>\n",
              "    </tr>\n",
              "  </tbody>\n",
              "</table>\n",
              "</div>"
            ],
            "text/plain": [
              "                                             content  Polarity  Subjectivity\n",
              "0  Students could take SAT at home if schools rem...  0.079265      0.395490\n",
              "1  Detroit facing fresh fiscal woes with coronavi...  0.072199      0.433984\n",
              "2  Thousands protest Michigan governor's social d... -0.072874      0.411442\n",
              "3  Baltimore Police defends planned aerial survei...  0.033147      0.602930\n",
              "4  Attorney who fought for civil rights in Louisi...  0.185473      0.484764\n",
              "5  California to give cash payments to immigrants...  0.096134      0.421376\n",
              "6  Deputies: Florida doctors who took down Trump ... -0.031313      0.246465\n",
              "7  Evidence of virus' effect on US economy grows ...  0.110147      0.393699\n",
              "8  Lawyer for Hanukkah stabbing suspect seeks to ... -0.114876      0.404959\n",
              "9  Explosion caught on video damages paper mill; ... -0.034538      0.497237"
            ]
          },
          "metadata": {
            "tags": []
          }
        }
      ]
    },
    {
      "cell_type": "code",
      "metadata": {
        "colab": {
          "base_uri": "https://localhost:8080/",
          "height": 359
        },
        "id": "ib1oXXwbllI3",
        "outputId": "a85ce084-9ae3-4b8e-8385-a1fdb7bb8c30"
      },
      "source": [
        "# Define a function to classify polarities\n",
        "def analyse_polarity(polarity):\n",
        "    if polarity > 0:\n",
        "        return \"Positive\"\n",
        "    if polarity == 0:\n",
        "        return \"Neutral\"\n",
        "    if polarity < 0:\n",
        "        return \"Negative\"\n",
        "\n",
        "# Apply the funtion on Polarity column and add the results into a new column\n",
        "smallerdf[\"SentLabel\"] = smallerdf[\"Polarity\"].apply(analyse_polarity)\n",
        "\n",
        "# Display the Polarity and Subjectivity Analysis\n",
        "display(smallerdf[[\"SentLabel\"]].head(10))"
      ],
      "execution_count": null,
      "outputs": [
        {
          "output_type": "display_data",
          "data": {
            "text/html": [
              "<div>\n",
              "<style scoped>\n",
              "    .dataframe tbody tr th:only-of-type {\n",
              "        vertical-align: middle;\n",
              "    }\n",
              "\n",
              "    .dataframe tbody tr th {\n",
              "        vertical-align: top;\n",
              "    }\n",
              "\n",
              "    .dataframe thead th {\n",
              "        text-align: right;\n",
              "    }\n",
              "</style>\n",
              "<table border=\"1\" class=\"dataframe\">\n",
              "  <thead>\n",
              "    <tr style=\"text-align: right;\">\n",
              "      <th></th>\n",
              "      <th>SentLabel</th>\n",
              "    </tr>\n",
              "  </thead>\n",
              "  <tbody>\n",
              "    <tr>\n",
              "      <th>0</th>\n",
              "      <td>Positive</td>\n",
              "    </tr>\n",
              "    <tr>\n",
              "      <th>1</th>\n",
              "      <td>Positive</td>\n",
              "    </tr>\n",
              "    <tr>\n",
              "      <th>2</th>\n",
              "      <td>Negative</td>\n",
              "    </tr>\n",
              "    <tr>\n",
              "      <th>3</th>\n",
              "      <td>Positive</td>\n",
              "    </tr>\n",
              "    <tr>\n",
              "      <th>4</th>\n",
              "      <td>Positive</td>\n",
              "    </tr>\n",
              "    <tr>\n",
              "      <th>5</th>\n",
              "      <td>Positive</td>\n",
              "    </tr>\n",
              "    <tr>\n",
              "      <th>6</th>\n",
              "      <td>Negative</td>\n",
              "    </tr>\n",
              "    <tr>\n",
              "      <th>7</th>\n",
              "      <td>Positive</td>\n",
              "    </tr>\n",
              "    <tr>\n",
              "      <th>8</th>\n",
              "      <td>Negative</td>\n",
              "    </tr>\n",
              "    <tr>\n",
              "      <th>9</th>\n",
              "      <td>Negative</td>\n",
              "    </tr>\n",
              "  </tbody>\n",
              "</table>\n",
              "</div>"
            ],
            "text/plain": [
              "  SentLabel\n",
              "0  Positive\n",
              "1  Positive\n",
              "2  Negative\n",
              "3  Positive\n",
              "4  Positive\n",
              "5  Positive\n",
              "6  Negative\n",
              "7  Positive\n",
              "8  Negative\n",
              "9  Negative"
            ]
          },
          "metadata": {
            "tags": []
          }
        }
      ]
    },
    {
      "cell_type": "code",
      "metadata": {
        "colab": {
          "base_uri": "https://localhost:8080/"
        },
        "id": "sa-9llswllI4",
        "outputId": "2689752b-11c2-46f8-845b-e888ea01a918"
      },
      "source": [
        "# Print the value counts of the SentLabel column\n",
        "print(smallerdf[\"SentLabel\"].value_counts())"
      ],
      "execution_count": null,
      "outputs": [
        {
          "output_type": "stream",
          "text": [
            "Positive    1379\n",
            "Negative     584\n",
            "Neutral       37\n",
            "Name: SentLabel, dtype: int64\n"
          ],
          "name": "stdout"
        }
      ]
    },
    {
      "cell_type": "code",
      "metadata": {
        "id": "UHW4_4WNllI4",
        "colab": {
          "base_uri": "https://localhost:8080/",
          "height": 953
        },
        "outputId": "5f274628-34cd-4ab5-ac19-3e2d546d634f"
      },
      "source": [
        "import matplotlib.pyplot as plt\n",
        "import seaborn as sns\n",
        "# Change the datatype as \"category\"\n",
        "smallerdf[\"SentLabel\"] = smallerdf[\"SentLabel\"].astype(\"category\")\n",
        "\n",
        "# Visualize the Label counts\n",
        "sns.countplot(smallerdf[\"SentLabel\"])\n",
        "plt.title(\"Label Counts\")\n",
        "plt.show()\n",
        "\n",
        "# Visualize the Polarity scores\n",
        "plt.figure(figsize = (10, 10)) \n",
        "sns.scatterplot(x=\"Polarity\", y=\"Subjectivity\", hue=\"Reliability\", data=smallerdf)\n",
        "plt.title(\"Subjectivity vs Polarity\")\n",
        "plt.show()"
      ],
      "execution_count": null,
      "outputs": [
        {
          "output_type": "stream",
          "text": [
            "/usr/local/lib/python3.7/dist-packages/seaborn/_decorators.py:43: FutureWarning: Pass the following variable as a keyword arg: x. From version 0.12, the only valid positional argument will be `data`, and passing other arguments without an explicit keyword will result in an error or misinterpretation.\n",
            "  FutureWarning\n"
          ],
          "name": "stderr"
        },
        {
          "output_type": "display_data",
          "data": {
            "image/png": "[encoded data removed]",
            "text/plain": [
              "<Figure size 432x288 with 1 Axes>"
            ]
          },
          "metadata": {
            "tags": [],
            "needs_background": "light"
          }
        },
        {
          "output_type": "display_data",
          "data": {
            "image/png": "[encoded data removed]",
            "text/plain": [
              "<Figure size 720x720 with 1 Axes>"
            ]
          },
          "metadata": {
            "tags": [],
            "needs_background": "light"
          }
        }
      ]
    },
    {
      "cell_type": "markdown",
      "metadata": {
        "id": "vMqgcw-MBO0a"
      },
      "source": [
        "# Emotion Analysis"
      ]
    },
    {
      "cell_type": "code",
      "metadata": {
        "colab": {
          "base_uri": "https://localhost:8080/"
        },
        "id": "zJLOJQkXBR2K",
        "outputId": "7635a01b-cdbf-40de-aeaa-37acecdaf01d"
      },
      "source": [
        "#Install package using pip\r\n",
        "!pip install text2emotion"
      ],
      "execution_count": 51,
      "outputs": [
        {
          "output_type": "stream",
          "text": [
            "Requirement already satisfied: text2emotion in /usr/local/lib/python3.7/dist-packages (0.0.5)\n",
            "Requirement already satisfied: nltk in /usr/local/lib/python3.7/dist-packages (from text2emotion) (3.2.5)\n",
            "Requirement already satisfied: emoji>=0.6.0 in /usr/local/lib/python3.7/dist-packages (from text2emotion) (1.2.0)\n",
            "Requirement already satisfied: six in /usr/local/lib/python3.7/dist-packages (from nltk->text2emotion) (1.15.0)\n"
          ],
          "name": "stdout"
        }
      ]
    },
    {
      "cell_type": "code",
      "metadata": {
        "colab": {
          "base_uri": "https://localhost:8080/"
        },
        "id": "54-5ZqZGBVUd",
        "outputId": "73e5b9b5-cae3-4f38-a7a9-a55e4b67dc99"
      },
      "source": [
        "#Import the modules\r\n",
        "import text2emotion as te"
      ],
      "execution_count": 52,
      "outputs": [
        {
          "output_type": "stream",
          "text": [
            "[nltk_data] Downloading package stopwords to /root/nltk_data...\n",
            "[nltk_data]   Package stopwords is already up-to-date!\n",
            "[nltk_data] Downloading package punkt to /root/nltk_data...\n",
            "[nltk_data]   Package punkt is already up-to-date!\n",
            "[nltk_data] Downloading package wordnet to /root/nltk_data...\n",
            "[nltk_data]   Package wordnet is already up-to-date!\n"
          ],
          "name": "stdout"
        }
      ]
    },
    {
      "cell_type": "code",
      "metadata": {
        "id": "W7fEMrV-jcCD"
      },
      "source": [
        "emodf = data[:10]"
      ],
      "execution_count": 53,
      "outputs": []
    },
    {
      "cell_type": "code",
      "metadata": {
        "colab": {
          "base_uri": "https://localhost:8080/"
        },
        "id": "dJtqnH06BYmk",
        "outputId": "90b72285-3628-46f7-ac3d-37b96a2c662b"
      },
      "source": [
        "emodf['Emotions'] = emodf['content'].apply(te.get_emotion)"
      ],
      "execution_count": 79,
      "outputs": [
        {
          "output_type": "stream",
          "text": [
            "/usr/local/lib/python3.7/dist-packages/ipykernel_launcher.py:1: SettingWithCopyWarning: \n",
            "A value is trying to be set on a copy of a slice from a DataFrame.\n",
            "Try using .loc[row_indexer,col_indexer] = value instead\n",
            "\n",
            "See the caveats in the documentation: https://pandas.pydata.org/pandas-docs/stable/user_guide/indexing.html#returning-a-view-versus-a-copy\n",
            "  \"\"\"Entry point for launching an IPython kernel.\n"
          ],
          "name": "stderr"
        }
      ]
    },
    {
      "cell_type": "code",
      "metadata": {
        "colab": {
          "base_uri": "https://localhost:8080/"
        },
        "id": "Ufjn_yiZBery",
        "outputId": "a51d3de0-10e9-4590-afd5-e0d9ebe27e30"
      },
      "source": [
        "emodf['Emotions'][0]['Happy']"
      ],
      "execution_count": 82,
      "outputs": [
        {
          "output_type": "execute_result",
          "data": {
            "text/plain": [
              "0.16"
            ]
          },
          "metadata": {
            "tags": []
          },
          "execution_count": 82
        }
      ]
    },
    {
      "cell_type": "code",
      "metadata": {
        "id": "p37NvhZpQDCl"
      },
      "source": [
        "newdf = pd.DataFrame(emodf['Emotions'].tolist())"
      ],
      "execution_count": 83,
      "outputs": []
    },
    {
      "cell_type": "code",
      "metadata": {
        "colab": {
          "base_uri": "https://localhost:8080/",
          "height": 355
        },
        "id": "upLNbma_QH4S",
        "outputId": "c7350484-f2cc-445b-a469-ad3e62488d70"
      },
      "source": [
        "newdf"
      ],
      "execution_count": 84,
      "outputs": [
        {
          "output_type": "execute_result",
          "data": {
            "text/html": [
              "<div>\n",
              "<style scoped>\n",
              "    .dataframe tbody tr th:only-of-type {\n",
              "        vertical-align: middle;\n",
              "    }\n",
              "\n",
              "    .dataframe tbody tr th {\n",
              "        vertical-align: top;\n",
              "    }\n",
              "\n",
              "    .dataframe thead th {\n",
              "        text-align: right;\n",
              "    }\n",
              "</style>\n",
              "<table border=\"1\" class=\"dataframe\">\n",
              "  <thead>\n",
              "    <tr style=\"text-align: right;\">\n",
              "      <th></th>\n",
              "      <th>Happy</th>\n",
              "      <th>Angry</th>\n",
              "      <th>Surprise</th>\n",
              "      <th>Sad</th>\n",
              "      <th>Fear</th>\n",
              "    </tr>\n",
              "  </thead>\n",
              "  <tbody>\n",
              "    <tr>\n",
              "      <th>0</th>\n",
              "      <td>0.16</td>\n",
              "      <td>0.03</td>\n",
              "      <td>0.17</td>\n",
              "      <td>0.14</td>\n",
              "      <td>0.50</td>\n",
              "    </tr>\n",
              "    <tr>\n",
              "      <th>1</th>\n",
              "      <td>0.07</td>\n",
              "      <td>0.09</td>\n",
              "      <td>0.18</td>\n",
              "      <td>0.20</td>\n",
              "      <td>0.46</td>\n",
              "    </tr>\n",
              "    <tr>\n",
              "      <th>2</th>\n",
              "      <td>0.07</td>\n",
              "      <td>0.06</td>\n",
              "      <td>0.20</td>\n",
              "      <td>0.24</td>\n",
              "      <td>0.43</td>\n",
              "    </tr>\n",
              "    <tr>\n",
              "      <th>3</th>\n",
              "      <td>0.12</td>\n",
              "      <td>0.00</td>\n",
              "      <td>0.12</td>\n",
              "      <td>0.17</td>\n",
              "      <td>0.57</td>\n",
              "    </tr>\n",
              "    <tr>\n",
              "      <th>4</th>\n",
              "      <td>0.09</td>\n",
              "      <td>0.03</td>\n",
              "      <td>0.24</td>\n",
              "      <td>0.14</td>\n",
              "      <td>0.49</td>\n",
              "    </tr>\n",
              "    <tr>\n",
              "      <th>5</th>\n",
              "      <td>0.04</td>\n",
              "      <td>0.02</td>\n",
              "      <td>0.22</td>\n",
              "      <td>0.32</td>\n",
              "      <td>0.40</td>\n",
              "    </tr>\n",
              "    <tr>\n",
              "      <th>6</th>\n",
              "      <td>0.05</td>\n",
              "      <td>0.00</td>\n",
              "      <td>0.47</td>\n",
              "      <td>0.21</td>\n",
              "      <td>0.26</td>\n",
              "    </tr>\n",
              "    <tr>\n",
              "      <th>7</th>\n",
              "      <td>0.06</td>\n",
              "      <td>0.05</td>\n",
              "      <td>0.14</td>\n",
              "      <td>0.14</td>\n",
              "      <td>0.62</td>\n",
              "    </tr>\n",
              "    <tr>\n",
              "      <th>8</th>\n",
              "      <td>0.27</td>\n",
              "      <td>0.00</td>\n",
              "      <td>0.13</td>\n",
              "      <td>0.27</td>\n",
              "      <td>0.33</td>\n",
              "    </tr>\n",
              "    <tr>\n",
              "      <th>9</th>\n",
              "      <td>0.10</td>\n",
              "      <td>0.09</td>\n",
              "      <td>0.32</td>\n",
              "      <td>0.25</td>\n",
              "      <td>0.24</td>\n",
              "    </tr>\n",
              "  </tbody>\n",
              "</table>\n",
              "</div>"
            ],
            "text/plain": [
              "   Happy  Angry  Surprise   Sad  Fear\n",
              "0   0.16   0.03      0.17  0.14  0.50\n",
              "1   0.07   0.09      0.18  0.20  0.46\n",
              "2   0.07   0.06      0.20  0.24  0.43\n",
              "3   0.12   0.00      0.12  0.17  0.57\n",
              "4   0.09   0.03      0.24  0.14  0.49\n",
              "5   0.04   0.02      0.22  0.32  0.40\n",
              "6   0.05   0.00      0.47  0.21  0.26\n",
              "7   0.06   0.05      0.14  0.14  0.62\n",
              "8   0.27   0.00      0.13  0.27  0.33\n",
              "9   0.10   0.09      0.32  0.25  0.24"
            ]
          },
          "metadata": {
            "tags": []
          },
          "execution_count": 84
        }
      ]
    },
    {
      "cell_type": "code",
      "metadata": {
        "colab": {
          "base_uri": "https://localhost:8080/"
        },
        "id": "QeqtdfxKDR3Q",
        "outputId": "b290d0c5-1e81-4c01-d667-aa8c6c5e3ee8"
      },
      "source": [
        "emodf['Happy'] = emodf.Emotions.str.slice(10,13).astype(float)\r\n",
        "emodf['Angry'] = emodf.Emotions.str.slice(24,28).astype(float)\r\n",
        "emodf['Surprise'] = emodf.Emotions.str.slice(42,46).astype(float)\r\n",
        "emodf['Sad'] = emodf.Emotions.str.slice(55,59).astype(float)\r\n",
        "emodf['Fear'] = emodf.Emotions.str.slice(69,73).astype(float)\r\n"
      ],
      "execution_count": 56,
      "outputs": [
        {
          "output_type": "stream",
          "text": [
            "/usr/local/lib/python3.7/dist-packages/ipykernel_launcher.py:1: SettingWithCopyWarning: \n",
            "A value is trying to be set on a copy of a slice from a DataFrame.\n",
            "Try using .loc[row_indexer,col_indexer] = value instead\n",
            "\n",
            "See the caveats in the documentation: https://pandas.pydata.org/pandas-docs/stable/user_guide/indexing.html#returning-a-view-versus-a-copy\n",
            "  \"\"\"Entry point for launching an IPython kernel.\n",
            "/usr/local/lib/python3.7/dist-packages/ipykernel_launcher.py:2: SettingWithCopyWarning: \n",
            "A value is trying to be set on a copy of a slice from a DataFrame.\n",
            "Try using .loc[row_indexer,col_indexer] = value instead\n",
            "\n",
            "See the caveats in the documentation: https://pandas.pydata.org/pandas-docs/stable/user_guide/indexing.html#returning-a-view-versus-a-copy\n",
            "  \n",
            "/usr/local/lib/python3.7/dist-packages/ipykernel_launcher.py:3: SettingWithCopyWarning: \n",
            "A value is trying to be set on a copy of a slice from a DataFrame.\n",
            "Try using .loc[row_indexer,col_indexer] = value instead\n",
            "\n",
            "See the caveats in the documentation: https://pandas.pydata.org/pandas-docs/stable/user_guide/indexing.html#returning-a-view-versus-a-copy\n",
            "  This is separate from the ipykernel package so we can avoid doing imports until\n",
            "/usr/local/lib/python3.7/dist-packages/ipykernel_launcher.py:4: SettingWithCopyWarning: \n",
            "A value is trying to be set on a copy of a slice from a DataFrame.\n",
            "Try using .loc[row_indexer,col_indexer] = value instead\n",
            "\n",
            "See the caveats in the documentation: https://pandas.pydata.org/pandas-docs/stable/user_guide/indexing.html#returning-a-view-versus-a-copy\n",
            "  after removing the cwd from sys.path.\n",
            "/usr/local/lib/python3.7/dist-packages/ipykernel_launcher.py:5: SettingWithCopyWarning: \n",
            "A value is trying to be set on a copy of a slice from a DataFrame.\n",
            "Try using .loc[row_indexer,col_indexer] = value instead\n",
            "\n",
            "See the caveats in the documentation: https://pandas.pydata.org/pandas-docs/stable/user_guide/indexing.html#returning-a-view-versus-a-copy\n",
            "  \"\"\"\n"
          ],
          "name": "stderr"
        }
      ]
    },
    {
      "cell_type": "code",
      "metadata": {
        "colab": {
          "base_uri": "https://localhost:8080/",
          "height": 35
        },
        "id": "mP_MZdMuj3yf",
        "outputId": "590afb24-85e2-4469-a76d-57ff28c20acb"
      },
      "source": [
        "emodf['Emotions'][0]"
      ],
      "execution_count": 57,
      "outputs": [
        {
          "output_type": "execute_result",
          "data": {
            "application/vnd.google.colaboratory.intrinsic+json": {
              "type": "string"
            },
            "text/plain": [
              "\"{'Happy': 0.16, 'Angry': 0.03, 'Surprise': 0.17, 'Sad': 0.14, 'Fear': 0.5}\""
            ]
          },
          "metadata": {
            "tags": []
          },
          "execution_count": 57
        }
      ]
    },
    {
      "cell_type": "code",
      "metadata": {
        "colab": {
          "base_uri": "https://localhost:8080/",
          "height": 529
        },
        "id": "GDnDH1IZHCGq",
        "outputId": "a4a84fa2-1185-4dbe-983f-0644a8ebf7a6"
      },
      "source": [
        "emodf"
      ],
      "execution_count": 58,
      "outputs": [
        {
          "output_type": "execute_result",
          "data": {
            "text/html": [
              "<div>\n",
              "<style scoped>\n",
              "    .dataframe tbody tr th:only-of-type {\n",
              "        vertical-align: middle;\n",
              "    }\n",
              "\n",
              "    .dataframe tbody tr th {\n",
              "        vertical-align: top;\n",
              "    }\n",
              "\n",
              "    .dataframe thead th {\n",
              "        text-align: right;\n",
              "    }\n",
              "</style>\n",
              "<table border=\"1\" class=\"dataframe\">\n",
              "  <thead>\n",
              "    <tr style=\"text-align: right;\">\n",
              "      <th></th>\n",
              "      <th>content</th>\n",
              "      <th>Reliability</th>\n",
              "      <th>Emotions</th>\n",
              "      <th>Happy</th>\n",
              "      <th>Angry</th>\n",
              "      <th>Surprise</th>\n",
              "      <th>Sad</th>\n",
              "      <th>Fear</th>\n",
              "    </tr>\n",
              "  </thead>\n",
              "  <tbody>\n",
              "    <tr>\n",
              "      <th>0</th>\n",
              "      <td>Students could take SAT at home if schools rem...</td>\n",
              "      <td>0</td>\n",
              "      <td>{'Happy': 0.16, 'Angry': 0.03, 'Surprise': 0.1...</td>\n",
              "      <td>0.1</td>\n",
              "      <td>0.00</td>\n",
              "      <td>0.10</td>\n",
              "      <td>0.10</td>\n",
              "      <td>0.50</td>\n",
              "    </tr>\n",
              "    <tr>\n",
              "      <th>1</th>\n",
              "      <td>Detroit facing fresh fiscal woes with coronavi...</td>\n",
              "      <td>0</td>\n",
              "      <td>{'Happy': 0.07, 'Angry': 0.09, 'Surprise': 0.1...</td>\n",
              "      <td>0.0</td>\n",
              "      <td>0.00</td>\n",
              "      <td>0.10</td>\n",
              "      <td>0.20</td>\n",
              "      <td>0.46</td>\n",
              "    </tr>\n",
              "    <tr>\n",
              "      <th>2</th>\n",
              "      <td>Thousands protest Michigan governor's social d...</td>\n",
              "      <td>0</td>\n",
              "      <td>{'Happy': 0.07, 'Angry': 0.06, 'Surprise': 0.2...</td>\n",
              "      <td>0.0</td>\n",
              "      <td>0.00</td>\n",
              "      <td>0.20</td>\n",
              "      <td>0.24</td>\n",
              "      <td>0.43</td>\n",
              "    </tr>\n",
              "    <tr>\n",
              "      <th>3</th>\n",
              "      <td>Baltimore Police defends planned aerial survei...</td>\n",
              "      <td>0</td>\n",
              "      <td>{'Happy': 0.12, 'Angry': 0.0, 'Surprise': 0.12...</td>\n",
              "      <td>0.1</td>\n",
              "      <td>0.00</td>\n",
              "      <td>0.12</td>\n",
              "      <td>0.17</td>\n",
              "      <td>0.57</td>\n",
              "    </tr>\n",
              "    <tr>\n",
              "      <th>4</th>\n",
              "      <td>Attorney who fought for civil rights in Louisi...</td>\n",
              "      <td>0</td>\n",
              "      <td>{'Happy': 0.09, 'Angry': 0.03, 'Surprise': 0.2...</td>\n",
              "      <td>0.0</td>\n",
              "      <td>0.00</td>\n",
              "      <td>0.20</td>\n",
              "      <td>0.10</td>\n",
              "      <td>0.40</td>\n",
              "    </tr>\n",
              "    <tr>\n",
              "      <th>5</th>\n",
              "      <td>California to give cash payments to immigrants...</td>\n",
              "      <td>0</td>\n",
              "      <td>{'Happy': 0.04, 'Angry': 0.02, 'Surprise': 0.2...</td>\n",
              "      <td>0.0</td>\n",
              "      <td>0.00</td>\n",
              "      <td>0.20</td>\n",
              "      <td>0.30</td>\n",
              "      <td>0.40</td>\n",
              "    </tr>\n",
              "    <tr>\n",
              "      <th>6</th>\n",
              "      <td>Deputies: Florida doctors who took down Trump ...</td>\n",
              "      <td>0</td>\n",
              "      <td>{'Happy': 0.05, 'Angry': 0.0, 'Surprise': 0.47...</td>\n",
              "      <td>0.0</td>\n",
              "      <td>0.00</td>\n",
              "      <td>0.47</td>\n",
              "      <td>0.21</td>\n",
              "      <td>0.26</td>\n",
              "    </tr>\n",
              "    <tr>\n",
              "      <th>7</th>\n",
              "      <td>Evidence of virus' effect on US economy grows ...</td>\n",
              "      <td>0</td>\n",
              "      <td>{'Happy': 0.06, 'Angry': 0.05, 'Surprise': 0.1...</td>\n",
              "      <td>0.0</td>\n",
              "      <td>0.00</td>\n",
              "      <td>0.10</td>\n",
              "      <td>0.10</td>\n",
              "      <td>0.60</td>\n",
              "    </tr>\n",
              "    <tr>\n",
              "      <th>8</th>\n",
              "      <td>Lawyer for Hanukkah stabbing suspect seeks to ...</td>\n",
              "      <td>0</td>\n",
              "      <td>{'Happy': 0.27, 'Angry': 0.0, 'Surprise': 0.13...</td>\n",
              "      <td>0.2</td>\n",
              "      <td>0.00</td>\n",
              "      <td>0.13</td>\n",
              "      <td>0.27</td>\n",
              "      <td>0.33</td>\n",
              "    </tr>\n",
              "    <tr>\n",
              "      <th>9</th>\n",
              "      <td>Explosion caught on video damages paper mill; ...</td>\n",
              "      <td>0</td>\n",
              "      <td>{'Happy': 0.1, 'Angry': 0.09, 'Surprise': 0.32...</td>\n",
              "      <td>0.1</td>\n",
              "      <td>0.09</td>\n",
              "      <td>0.32</td>\n",
              "      <td>0.25</td>\n",
              "      <td>0.24</td>\n",
              "    </tr>\n",
              "  </tbody>\n",
              "</table>\n",
              "</div>"
            ],
            "text/plain": [
              "                                             content  Reliability  ...   Sad  Fear\n",
              "0  Students could take SAT at home if schools rem...            0  ...  0.10  0.50\n",
              "1  Detroit facing fresh fiscal woes with coronavi...            0  ...  0.20  0.46\n",
              "2  Thousands protest Michigan governor's social d...            0  ...  0.24  0.43\n",
              "3  Baltimore Police defends planned aerial survei...            0  ...  0.17  0.57\n",
              "4  Attorney who fought for civil rights in Louisi...            0  ...  0.10  0.40\n",
              "5  California to give cash payments to immigrants...            0  ...  0.30  0.40\n",
              "6  Deputies: Florida doctors who took down Trump ...            0  ...  0.21  0.26\n",
              "7  Evidence of virus' effect on US economy grows ...            0  ...  0.10  0.60\n",
              "8  Lawyer for Hanukkah stabbing suspect seeks to ...            0  ...  0.27  0.33\n",
              "9  Explosion caught on video damages paper mill; ...            0  ...  0.25  0.24\n",
              "\n",
              "[10 rows x 8 columns]"
            ]
          },
          "metadata": {
            "tags": []
          },
          "execution_count": 58
        }
      ]
    },
    {
      "cell_type": "markdown",
      "metadata": {
        "id": "6MpUHIbyBC_c"
      },
      "source": [
        "# Text-PreProcessing"
      ]
    },
    {
      "cell_type": "code",
      "metadata": {
        "id": "ObQzHh4RO8Mf"
      },
      "source": [
        "def rem_noise(text):\r\n",
        "  text = text.translate(str.maketrans('','',string.punctuation))\r\n",
        "\r\n",
        "  text =  re.sub('[0-9]+','',text)\r\n",
        "\r\n",
        "  text = re.sub('https?:\\S+','',text)\r\n",
        "\r\n",
        "  text =  re.sub('<.*?>',\" \",text)\r\n",
        "\r\n",
        "  return text"
      ],
      "execution_count": 59,
      "outputs": []
    },
    {
      "cell_type": "code",
      "metadata": {
        "id": "Bmx4ohXcO9hW"
      },
      "source": [
        "stop = set(stopwords.words('english'))\r\n",
        "\r\n",
        "def rem_stopwords(text):\r\n",
        "    \r\n",
        "    words = [ch for ch in text if ch not in stop]\r\n",
        "    words= \"\".join(words).split()\r\n",
        "    words= [words.lower() for words in text.split()]\r\n",
        "    \r\n",
        "    return words"
      ],
      "execution_count": 60,
      "outputs": []
    },
    {
      "cell_type": "code",
      "metadata": {
        "id": "5UzEf3qdPOz0"
      },
      "source": [
        "def tokenize_statements(text):\r\n",
        "    \r\n",
        "    # Tokenize the words\r\n",
        "    tokenized = word_tokenize(text)\r\n",
        "\r\n",
        "    # Remove the stop words\r\n",
        "    tokenized = [token for token in tokenized if token not in stopwords.words(\"english\")] \r\n",
        "\r\n",
        "    # Lemmatize the words, changing text to lowercase\r\n",
        "    lemmatizer = WordNetLemmatizer()\r\n",
        "    tokenized = [lemmatizer.lemmatize(token.lower(), pos='a') for token in tokenized]\r\n",
        "    \r\n",
        "    return tokenized"
      ],
      "execution_count": 61,
      "outputs": []
    },
    {
      "cell_type": "markdown",
      "metadata": {
        "id": "Dm_NGeteBJPh"
      },
      "source": [
        "#TF-IDF Vectorizer"
      ]
    },
    {
      "cell_type": "code",
      "metadata": {
        "id": "_W_VtBYVgke-"
      },
      "source": [
        "#Keep only content, Polarity and Subjectivity as columns\r\n",
        "x = smallerdf.drop(['Reliability', 'Subjectivity'],axis=1)\r\n",
        "x['content'] = x['content'].apply(rem_noise)\r\n",
        "y = smallerdf['Reliability']"
      ],
      "execution_count": null,
      "outputs": []
    },
    {
      "cell_type": "code",
      "metadata": {
        "id": "tPsxMu1FllI6"
      },
      "source": [
        "# split the dataset into training and testing datasets \n",
        "\n",
        "from sklearn.model_selection import train_test_split\n",
        "X_train, X_test, y_train, y_test = train_test_split(x, y, test_size=0.20)"
      ],
      "execution_count": null,
      "outputs": []
    },
    {
      "cell_type": "code",
      "metadata": {
        "colab": {
          "base_uri": "https://localhost:8080/"
        },
        "id": "-qCdN9QZllI6",
        "outputId": "e34f70df-d751-4206-e3d6-0f36ba4c704e"
      },
      "source": [
        "print(X_train.shape)\r\n",
        "print(y_train.shape)\r\n",
        "print(X_test.shape)\r\n",
        "print(y_test.shape)"
      ],
      "execution_count": null,
      "outputs": [
        {
          "output_type": "stream",
          "text": [
            "(1600, 3)\n",
            "(1600,)\n",
            "(400, 3)\n",
            "(400,)\n"
          ],
          "name": "stdout"
        }
      ]
    },
    {
      "cell_type": "code",
      "metadata": {
        "colab": {
          "base_uri": "https://localhost:8080/",
          "height": 419
        },
        "id": "MzpXaM4zgRoq",
        "outputId": "1d60f5a9-b3c3-4233-b53d-590968c4635e"
      },
      "source": [
        "X_train"
      ],
      "execution_count": null,
      "outputs": [
        {
          "output_type": "execute_result",
          "data": {
            "text/html": [
              "<div>\n",
              "<style scoped>\n",
              "    .dataframe tbody tr th:only-of-type {\n",
              "        vertical-align: middle;\n",
              "    }\n",
              "\n",
              "    .dataframe tbody tr th {\n",
              "        vertical-align: top;\n",
              "    }\n",
              "\n",
              "    .dataframe thead th {\n",
              "        text-align: right;\n",
              "    }\n",
              "</style>\n",
              "<table border=\"1\" class=\"dataframe\">\n",
              "  <thead>\n",
              "    <tr style=\"text-align: right;\">\n",
              "      <th></th>\n",
              "      <th>content</th>\n",
              "      <th>Polarity</th>\n",
              "    </tr>\n",
              "  </thead>\n",
              "  <tbody>\n",
              "    <tr>\n",
              "      <th>760</th>\n",
              "      <td>Prosecutor Remains found in Phoenix were those...</td>\n",
              "      <td>-0.019147</td>\n",
              "    </tr>\n",
              "    <tr>\n",
              "      <th>101852</th>\n",
              "      <td>Hit hard by closures Tennessee tourist spots e...</td>\n",
              "      <td>0.079046</td>\n",
              "    </tr>\n",
              "    <tr>\n",
              "      <th>102147</th>\n",
              "      <td>San Francisco gets alcohol tobacco for addicts...</td>\n",
              "      <td>0.137500</td>\n",
              "    </tr>\n",
              "    <tr>\n",
              "      <th>591</th>\n",
              "      <td>Officials identify remains found in burntout H...</td>\n",
              "      <td>-0.007692</td>\n",
              "    </tr>\n",
              "    <tr>\n",
              "      <th>131</th>\n",
              "      <td>Mississippi lacking guards sends inmates to pr...</td>\n",
              "      <td>0.090206</td>\n",
              "    </tr>\n",
              "    <tr>\n",
              "      <th>...</th>\n",
              "      <td>...</td>\n",
              "      <td>...</td>\n",
              "    </tr>\n",
              "    <tr>\n",
              "      <th>101857</th>\n",
              "      <td>Police Bodies in vehicles outside Brooklyn fun...</td>\n",
              "      <td>0.118344</td>\n",
              "    </tr>\n",
              "    <tr>\n",
              "      <th>43</th>\n",
              "      <td>Things to Know for Today Your daily look at l...</td>\n",
              "      <td>0.004769</td>\n",
              "    </tr>\n",
              "    <tr>\n",
              "      <th>102213</th>\n",
              "      <td>Fairmont State offers virtual commencement thi...</td>\n",
              "      <td>0.333333</td>\n",
              "    </tr>\n",
              "    <tr>\n",
              "      <th>945</th>\n",
              "      <td>Coronavirus Trump says peak is passed and US t...</td>\n",
              "      <td>0.110798</td>\n",
              "    </tr>\n",
              "    <tr>\n",
              "      <th>540</th>\n",
              "      <td>Texas high school bars student who wont cut dr...</td>\n",
              "      <td>0.028889</td>\n",
              "    </tr>\n",
              "  </tbody>\n",
              "</table>\n",
              "<p>1600 rows × 2 columns</p>\n",
              "</div>"
            ],
            "text/plain": [
              "                                                  content  Polarity\n",
              "760     Prosecutor Remains found in Phoenix were those... -0.019147\n",
              "101852  Hit hard by closures Tennessee tourist spots e...  0.079046\n",
              "102147  San Francisco gets alcohol tobacco for addicts...  0.137500\n",
              "591     Officials identify remains found in burntout H... -0.007692\n",
              "131     Mississippi lacking guards sends inmates to pr...  0.090206\n",
              "...                                                   ...       ...\n",
              "101857  Police Bodies in vehicles outside Brooklyn fun...  0.118344\n",
              "43       Things to Know for Today Your daily look at l...  0.004769\n",
              "102213  Fairmont State offers virtual commencement thi...  0.333333\n",
              "945     Coronavirus Trump says peak is passed and US t...  0.110798\n",
              "540     Texas high school bars student who wont cut dr...  0.028889\n",
              "\n",
              "[1600 rows x 2 columns]"
            ]
          },
          "metadata": {
            "tags": []
          },
          "execution_count": 164
        }
      ]
    },
    {
      "cell_type": "code",
      "metadata": {
        "id": "V2c9gy0AllI6"
      },
      "source": [
        "# Vectorize the text so the models can actually interpret it\n",
        "vectorizer = TfidfVectorizer(tokenize_statements)\n",
        "x_train_vectorized = vectorizer.fit_transform(X_train.content.values)\n",
        "x_test_vectorized = vectorizer.transform(X_test.content.values)"
      ],
      "execution_count": null,
      "outputs": []
    },
    {
      "cell_type": "code",
      "metadata": {
        "colab": {
          "base_uri": "https://localhost:8080/"
        },
        "id": "U3Ci85X6hOAn",
        "outputId": "79057d52-63d3-4908-f6bb-671d0445ddd6"
      },
      "source": [
        "x_train_vectorized"
      ],
      "execution_count": null,
      "outputs": [
        {
          "output_type": "execute_result",
          "data": {
            "text/plain": [
              "<1600x28905 sparse matrix of type '<class 'numpy.float64'>'\n",
              "\twith 335575 stored elements in Compressed Sparse Row format>"
            ]
          },
          "metadata": {
            "tags": []
          },
          "execution_count": 143
        }
      ]
    },
    {
      "cell_type": "code",
      "metadata": {
        "colab": {
          "base_uri": "https://localhost:8080/"
        },
        "id": "uitwBQUdllI6",
        "outputId": "e39cb268-a4f3-46c4-fe54-81b8b6303453"
      },
      "source": [
        "print (x_train_vectorized.shape)\n",
        "print (x_test_vectorized.shape)\n",
        "print (y_train.shape)\n",
        "print (y_test.shape)"
      ],
      "execution_count": null,
      "outputs": [
        {
          "output_type": "stream",
          "text": [
            "(1600, 28905)\n",
            "(400, 28905)\n",
            "(1600,)\n",
            "(400,)\n"
          ],
          "name": "stdout"
        }
      ]
    },
    {
      "cell_type": "code",
      "metadata": {
        "colab": {
          "base_uri": "https://localhost:8080/"
        },
        "id": "3mdZ9F_2nO-o",
        "outputId": "24bc85ac-5800-4ea6-a3dd-c84a066daddc"
      },
      "source": [
        "type (X_train[\"Polarity\"].values)"
      ],
      "execution_count": null,
      "outputs": [
        {
          "output_type": "execute_result",
          "data": {
            "text/plain": [
              "numpy.ndarray"
            ]
          },
          "metadata": {
            "tags": []
          },
          "execution_count": 62
        }
      ]
    },
    {
      "cell_type": "code",
      "metadata": {
        "id": "QHcivLFgpyOD"
      },
      "source": [
        "print (x_train_vectorized)"
      ],
      "execution_count": null,
      "outputs": []
    },
    {
      "cell_type": "code",
      "metadata": {
        "colab": {
          "base_uri": "https://localhost:8080/"
        },
        "id": "UJHD_kBei-3r",
        "outputId": "8baa4cbb-cbc1-48ca-f10a-67747d40dcf2"
      },
      "source": [
        "x_train_pol = X_train[\"Polarity\"]\r\n",
        "x_test_pol = X_test[\"Polarity\"]\r\n",
        "\r\n",
        "x_train_pol.shape"
      ],
      "execution_count": null,
      "outputs": [
        {
          "output_type": "execute_result",
          "data": {
            "text/plain": [
              "(1600,)"
            ]
          },
          "metadata": {
            "tags": []
          },
          "execution_count": 146
        }
      ]
    },
    {
      "cell_type": "code",
      "metadata": {
        "id": "Ux21uOnCn4Zq"
      },
      "source": [
        "df_x_test_tfidf =  pd.DataFrame.sparse.from_spmatrix(x_test_vectorized)\r\n",
        "df_x_test_tfidf['polarity'] = X_test['Polarity'].values\r\n",
        "\r\n",
        "df_x_train_tfidf =  pd.DataFrame.sparse.from_spmatrix(x_train_vectorized)\r\n",
        "df_x_train_tfidf['polarity'] = X_train['Polarity'].values"
      ],
      "execution_count": null,
      "outputs": []
    },
    {
      "cell_type": "code",
      "metadata": {
        "colab": {
          "base_uri": "https://localhost:8080/"
        },
        "id": "mxJEXFt4pg5u",
        "outputId": "a1ac8dc5-f7fc-4513-b0ab-09368aec137f"
      },
      "source": [
        "df_x_test_tfidf['polarity']"
      ],
      "execution_count": null,
      "outputs": [
        {
          "output_type": "execute_result",
          "data": {
            "text/plain": [
              "0     -0.013885\n",
              "1      0.005466\n",
              "2      0.081024\n",
              "3     -0.036871\n",
              "4      0.144237\n",
              "         ...   \n",
              "395    0.107834\n",
              "396    0.024249\n",
              "397    0.111645\n",
              "398    0.084069\n",
              "399    0.079267\n",
              "Name: polarity, Length: 400, dtype: float64"
            ]
          },
          "metadata": {
            "tags": []
          },
          "execution_count": 148
        }
      ]
    },
    {
      "cell_type": "code",
      "metadata": {
        "id": "giwOAOKuVWqU"
      },
      "source": [
        "df_x_train_tfidf_nopol = df_x_train_tfidf.drop(['polarity'],axis=1)\r\n",
        "df_x_test_tfidf_nopol = df_x_test_tfidf.drop(['polarity'],axis=1)"
      ],
      "execution_count": null,
      "outputs": []
    },
    {
      "cell_type": "code",
      "metadata": {
        "id": "1h17JFQJVpQh",
        "colab": {
          "base_uri": "https://localhost:8080/",
          "height": 439
        },
        "outputId": "13775f5d-dca2-4b0a-e7aa-4821a8d83456"
      },
      "source": [
        "df_x_test_tfidf_nopol"
      ],
      "execution_count": null,
      "outputs": [
        {
          "output_type": "execute_result",
          "data": {
            "text/html": [
              "<div>\n",
              "<style scoped>\n",
              "    .dataframe tbody tr th:only-of-type {\n",
              "        vertical-align: middle;\n",
              "    }\n",
              "\n",
              "    .dataframe tbody tr th {\n",
              "        vertical-align: top;\n",
              "    }\n",
              "\n",
              "    .dataframe thead th {\n",
              "        text-align: right;\n",
              "    }\n",
              "</style>\n",
              "<table border=\"1\" class=\"dataframe\">\n",
              "  <thead>\n",
              "    <tr style=\"text-align: right;\">\n",
              "      <th></th>\n",
              "      <th>0</th>\n",
              "      <th>1</th>\n",
              "      <th>2</th>\n",
              "      <th>3</th>\n",
              "      <th>4</th>\n",
              "      <th>5</th>\n",
              "      <th>6</th>\n",
              "      <th>7</th>\n",
              "      <th>8</th>\n",
              "      <th>9</th>\n",
              "      <th>10</th>\n",
              "      <th>11</th>\n",
              "      <th>12</th>\n",
              "      <th>13</th>\n",
              "      <th>14</th>\n",
              "      <th>15</th>\n",
              "      <th>16</th>\n",
              "      <th>17</th>\n",
              "      <th>18</th>\n",
              "      <th>19</th>\n",
              "      <th>20</th>\n",
              "      <th>21</th>\n",
              "      <th>22</th>\n",
              "      <th>23</th>\n",
              "      <th>24</th>\n",
              "      <th>25</th>\n",
              "      <th>26</th>\n",
              "      <th>27</th>\n",
              "      <th>28</th>\n",
              "      <th>29</th>\n",
              "      <th>30</th>\n",
              "      <th>31</th>\n",
              "      <th>32</th>\n",
              "      <th>33</th>\n",
              "      <th>34</th>\n",
              "      <th>35</th>\n",
              "      <th>36</th>\n",
              "      <th>37</th>\n",
              "      <th>38</th>\n",
              "      <th>39</th>\n",
              "      <th>...</th>\n",
              "      <th>28865</th>\n",
              "      <th>28866</th>\n",
              "      <th>28867</th>\n",
              "      <th>28868</th>\n",
              "      <th>28869</th>\n",
              "      <th>28870</th>\n",
              "      <th>28871</th>\n",
              "      <th>28872</th>\n",
              "      <th>28873</th>\n",
              "      <th>28874</th>\n",
              "      <th>28875</th>\n",
              "      <th>28876</th>\n",
              "      <th>28877</th>\n",
              "      <th>28878</th>\n",
              "      <th>28879</th>\n",
              "      <th>28880</th>\n",
              "      <th>28881</th>\n",
              "      <th>28882</th>\n",
              "      <th>28883</th>\n",
              "      <th>28884</th>\n",
              "      <th>28885</th>\n",
              "      <th>28886</th>\n",
              "      <th>28887</th>\n",
              "      <th>28888</th>\n",
              "      <th>28889</th>\n",
              "      <th>28890</th>\n",
              "      <th>28891</th>\n",
              "      <th>28892</th>\n",
              "      <th>28893</th>\n",
              "      <th>28894</th>\n",
              "      <th>28895</th>\n",
              "      <th>28896</th>\n",
              "      <th>28897</th>\n",
              "      <th>28898</th>\n",
              "      <th>28899</th>\n",
              "      <th>28900</th>\n",
              "      <th>28901</th>\n",
              "      <th>28902</th>\n",
              "      <th>28903</th>\n",
              "      <th>28904</th>\n",
              "    </tr>\n",
              "  </thead>\n",
              "  <tbody>\n",
              "    <tr>\n",
              "      <th>0</th>\n",
              "      <td>0.0</td>\n",
              "      <td>0.0</td>\n",
              "      <td>0.0</td>\n",
              "      <td>0.0</td>\n",
              "      <td>0.0</td>\n",
              "      <td>0.0</td>\n",
              "      <td>0.0</td>\n",
              "      <td>0.0</td>\n",
              "      <td>0.0</td>\n",
              "      <td>0.0</td>\n",
              "      <td>0.0</td>\n",
              "      <td>0.0</td>\n",
              "      <td>0.0</td>\n",
              "      <td>0.000000</td>\n",
              "      <td>0.0</td>\n",
              "      <td>0.0</td>\n",
              "      <td>0.0</td>\n",
              "      <td>0.0</td>\n",
              "      <td>0.0</td>\n",
              "      <td>0.0</td>\n",
              "      <td>0.0</td>\n",
              "      <td>0.0</td>\n",
              "      <td>0.0</td>\n",
              "      <td>0.0</td>\n",
              "      <td>0.0</td>\n",
              "      <td>0.0</td>\n",
              "      <td>0.0</td>\n",
              "      <td>0.0</td>\n",
              "      <td>0.0</td>\n",
              "      <td>0.0</td>\n",
              "      <td>0.0</td>\n",
              "      <td>0.0</td>\n",
              "      <td>0.0</td>\n",
              "      <td>0.0</td>\n",
              "      <td>0.0</td>\n",
              "      <td>0.0</td>\n",
              "      <td>0.0</td>\n",
              "      <td>0.0</td>\n",
              "      <td>0.0</td>\n",
              "      <td>0.0</td>\n",
              "      <td>...</td>\n",
              "      <td>0.0</td>\n",
              "      <td>0.0</td>\n",
              "      <td>0.0</td>\n",
              "      <td>0.0</td>\n",
              "      <td>0.0</td>\n",
              "      <td>0.0</td>\n",
              "      <td>0.0</td>\n",
              "      <td>0.0</td>\n",
              "      <td>0.0</td>\n",
              "      <td>0.000000</td>\n",
              "      <td>0.0</td>\n",
              "      <td>0.0</td>\n",
              "      <td>0.0</td>\n",
              "      <td>0.0</td>\n",
              "      <td>0.0</td>\n",
              "      <td>0.0</td>\n",
              "      <td>0.0</td>\n",
              "      <td>0.0</td>\n",
              "      <td>0.0</td>\n",
              "      <td>0.0</td>\n",
              "      <td>0.0</td>\n",
              "      <td>0.0</td>\n",
              "      <td>0.0</td>\n",
              "      <td>0.0</td>\n",
              "      <td>0.0</td>\n",
              "      <td>0.0</td>\n",
              "      <td>0.0</td>\n",
              "      <td>0.0</td>\n",
              "      <td>0.0</td>\n",
              "      <td>0.0</td>\n",
              "      <td>0.0</td>\n",
              "      <td>0.0</td>\n",
              "      <td>0.0</td>\n",
              "      <td>0.0</td>\n",
              "      <td>0.0</td>\n",
              "      <td>0.0</td>\n",
              "      <td>0.0</td>\n",
              "      <td>0.0</td>\n",
              "      <td>0.0</td>\n",
              "      <td>0.0</td>\n",
              "    </tr>\n",
              "    <tr>\n",
              "      <th>1</th>\n",
              "      <td>0.0</td>\n",
              "      <td>0.0</td>\n",
              "      <td>0.0</td>\n",
              "      <td>0.0</td>\n",
              "      <td>0.0</td>\n",
              "      <td>0.0</td>\n",
              "      <td>0.0</td>\n",
              "      <td>0.0</td>\n",
              "      <td>0.0</td>\n",
              "      <td>0.0</td>\n",
              "      <td>0.0</td>\n",
              "      <td>0.0</td>\n",
              "      <td>0.0</td>\n",
              "      <td>0.000000</td>\n",
              "      <td>0.0</td>\n",
              "      <td>0.0</td>\n",
              "      <td>0.0</td>\n",
              "      <td>0.0</td>\n",
              "      <td>0.0</td>\n",
              "      <td>0.0</td>\n",
              "      <td>0.0</td>\n",
              "      <td>0.0</td>\n",
              "      <td>0.0</td>\n",
              "      <td>0.0</td>\n",
              "      <td>0.0</td>\n",
              "      <td>0.0</td>\n",
              "      <td>0.0</td>\n",
              "      <td>0.0</td>\n",
              "      <td>0.0</td>\n",
              "      <td>0.0</td>\n",
              "      <td>0.0</td>\n",
              "      <td>0.0</td>\n",
              "      <td>0.0</td>\n",
              "      <td>0.0</td>\n",
              "      <td>0.0</td>\n",
              "      <td>0.0</td>\n",
              "      <td>0.0</td>\n",
              "      <td>0.0</td>\n",
              "      <td>0.0</td>\n",
              "      <td>0.0</td>\n",
              "      <td>...</td>\n",
              "      <td>0.0</td>\n",
              "      <td>0.0</td>\n",
              "      <td>0.0</td>\n",
              "      <td>0.0</td>\n",
              "      <td>0.0</td>\n",
              "      <td>0.0</td>\n",
              "      <td>0.0</td>\n",
              "      <td>0.0</td>\n",
              "      <td>0.0</td>\n",
              "      <td>0.000000</td>\n",
              "      <td>0.0</td>\n",
              "      <td>0.0</td>\n",
              "      <td>0.0</td>\n",
              "      <td>0.0</td>\n",
              "      <td>0.0</td>\n",
              "      <td>0.0</td>\n",
              "      <td>0.0</td>\n",
              "      <td>0.0</td>\n",
              "      <td>0.0</td>\n",
              "      <td>0.0</td>\n",
              "      <td>0.0</td>\n",
              "      <td>0.0</td>\n",
              "      <td>0.0</td>\n",
              "      <td>0.0</td>\n",
              "      <td>0.0</td>\n",
              "      <td>0.0</td>\n",
              "      <td>0.0</td>\n",
              "      <td>0.0</td>\n",
              "      <td>0.0</td>\n",
              "      <td>0.0</td>\n",
              "      <td>0.0</td>\n",
              "      <td>0.0</td>\n",
              "      <td>0.0</td>\n",
              "      <td>0.0</td>\n",
              "      <td>0.0</td>\n",
              "      <td>0.0</td>\n",
              "      <td>0.0</td>\n",
              "      <td>0.0</td>\n",
              "      <td>0.0</td>\n",
              "      <td>0.0</td>\n",
              "    </tr>\n",
              "    <tr>\n",
              "      <th>2</th>\n",
              "      <td>0.0</td>\n",
              "      <td>0.0</td>\n",
              "      <td>0.0</td>\n",
              "      <td>0.0</td>\n",
              "      <td>0.0</td>\n",
              "      <td>0.0</td>\n",
              "      <td>0.0</td>\n",
              "      <td>0.0</td>\n",
              "      <td>0.0</td>\n",
              "      <td>0.0</td>\n",
              "      <td>0.0</td>\n",
              "      <td>0.0</td>\n",
              "      <td>0.0</td>\n",
              "      <td>0.000000</td>\n",
              "      <td>0.0</td>\n",
              "      <td>0.0</td>\n",
              "      <td>0.0</td>\n",
              "      <td>0.0</td>\n",
              "      <td>0.0</td>\n",
              "      <td>0.0</td>\n",
              "      <td>0.0</td>\n",
              "      <td>0.0</td>\n",
              "      <td>0.0</td>\n",
              "      <td>0.0</td>\n",
              "      <td>0.0</td>\n",
              "      <td>0.0</td>\n",
              "      <td>0.0</td>\n",
              "      <td>0.0</td>\n",
              "      <td>0.0</td>\n",
              "      <td>0.0</td>\n",
              "      <td>0.0</td>\n",
              "      <td>0.0</td>\n",
              "      <td>0.0</td>\n",
              "      <td>0.0</td>\n",
              "      <td>0.0</td>\n",
              "      <td>0.0</td>\n",
              "      <td>0.0</td>\n",
              "      <td>0.0</td>\n",
              "      <td>0.0</td>\n",
              "      <td>0.0</td>\n",
              "      <td>...</td>\n",
              "      <td>0.0</td>\n",
              "      <td>0.0</td>\n",
              "      <td>0.0</td>\n",
              "      <td>0.0</td>\n",
              "      <td>0.0</td>\n",
              "      <td>0.0</td>\n",
              "      <td>0.0</td>\n",
              "      <td>0.0</td>\n",
              "      <td>0.0</td>\n",
              "      <td>0.000000</td>\n",
              "      <td>0.0</td>\n",
              "      <td>0.0</td>\n",
              "      <td>0.0</td>\n",
              "      <td>0.0</td>\n",
              "      <td>0.0</td>\n",
              "      <td>0.0</td>\n",
              "      <td>0.0</td>\n",
              "      <td>0.0</td>\n",
              "      <td>0.0</td>\n",
              "      <td>0.0</td>\n",
              "      <td>0.0</td>\n",
              "      <td>0.0</td>\n",
              "      <td>0.0</td>\n",
              "      <td>0.0</td>\n",
              "      <td>0.0</td>\n",
              "      <td>0.0</td>\n",
              "      <td>0.0</td>\n",
              "      <td>0.0</td>\n",
              "      <td>0.0</td>\n",
              "      <td>0.0</td>\n",
              "      <td>0.0</td>\n",
              "      <td>0.0</td>\n",
              "      <td>0.0</td>\n",
              "      <td>0.0</td>\n",
              "      <td>0.0</td>\n",
              "      <td>0.0</td>\n",
              "      <td>0.0</td>\n",
              "      <td>0.0</td>\n",
              "      <td>0.0</td>\n",
              "      <td>0.0</td>\n",
              "    </tr>\n",
              "    <tr>\n",
              "      <th>3</th>\n",
              "      <td>0.0</td>\n",
              "      <td>0.0</td>\n",
              "      <td>0.0</td>\n",
              "      <td>0.0</td>\n",
              "      <td>0.0</td>\n",
              "      <td>0.0</td>\n",
              "      <td>0.0</td>\n",
              "      <td>0.0</td>\n",
              "      <td>0.0</td>\n",
              "      <td>0.0</td>\n",
              "      <td>0.0</td>\n",
              "      <td>0.0</td>\n",
              "      <td>0.0</td>\n",
              "      <td>0.000000</td>\n",
              "      <td>0.0</td>\n",
              "      <td>0.0</td>\n",
              "      <td>0.0</td>\n",
              "      <td>0.0</td>\n",
              "      <td>0.0</td>\n",
              "      <td>0.0</td>\n",
              "      <td>0.0</td>\n",
              "      <td>0.0</td>\n",
              "      <td>0.0</td>\n",
              "      <td>0.0</td>\n",
              "      <td>0.0</td>\n",
              "      <td>0.0</td>\n",
              "      <td>0.0</td>\n",
              "      <td>0.0</td>\n",
              "      <td>0.0</td>\n",
              "      <td>0.0</td>\n",
              "      <td>0.0</td>\n",
              "      <td>0.0</td>\n",
              "      <td>0.0</td>\n",
              "      <td>0.0</td>\n",
              "      <td>0.0</td>\n",
              "      <td>0.0</td>\n",
              "      <td>0.0</td>\n",
              "      <td>0.0</td>\n",
              "      <td>0.0</td>\n",
              "      <td>0.0</td>\n",
              "      <td>...</td>\n",
              "      <td>0.0</td>\n",
              "      <td>0.0</td>\n",
              "      <td>0.0</td>\n",
              "      <td>0.0</td>\n",
              "      <td>0.0</td>\n",
              "      <td>0.0</td>\n",
              "      <td>0.0</td>\n",
              "      <td>0.0</td>\n",
              "      <td>0.0</td>\n",
              "      <td>0.000000</td>\n",
              "      <td>0.0</td>\n",
              "      <td>0.0</td>\n",
              "      <td>0.0</td>\n",
              "      <td>0.0</td>\n",
              "      <td>0.0</td>\n",
              "      <td>0.0</td>\n",
              "      <td>0.0</td>\n",
              "      <td>0.0</td>\n",
              "      <td>0.0</td>\n",
              "      <td>0.0</td>\n",
              "      <td>0.0</td>\n",
              "      <td>0.0</td>\n",
              "      <td>0.0</td>\n",
              "      <td>0.0</td>\n",
              "      <td>0.0</td>\n",
              "      <td>0.0</td>\n",
              "      <td>0.0</td>\n",
              "      <td>0.0</td>\n",
              "      <td>0.0</td>\n",
              "      <td>0.0</td>\n",
              "      <td>0.0</td>\n",
              "      <td>0.0</td>\n",
              "      <td>0.0</td>\n",
              "      <td>0.0</td>\n",
              "      <td>0.0</td>\n",
              "      <td>0.0</td>\n",
              "      <td>0.0</td>\n",
              "      <td>0.0</td>\n",
              "      <td>0.0</td>\n",
              "      <td>0.0</td>\n",
              "    </tr>\n",
              "    <tr>\n",
              "      <th>4</th>\n",
              "      <td>0.0</td>\n",
              "      <td>0.0</td>\n",
              "      <td>0.0</td>\n",
              "      <td>0.0</td>\n",
              "      <td>0.0</td>\n",
              "      <td>0.0</td>\n",
              "      <td>0.0</td>\n",
              "      <td>0.0</td>\n",
              "      <td>0.0</td>\n",
              "      <td>0.0</td>\n",
              "      <td>0.0</td>\n",
              "      <td>0.0</td>\n",
              "      <td>0.0</td>\n",
              "      <td>0.000000</td>\n",
              "      <td>0.0</td>\n",
              "      <td>0.0</td>\n",
              "      <td>0.0</td>\n",
              "      <td>0.0</td>\n",
              "      <td>0.0</td>\n",
              "      <td>0.0</td>\n",
              "      <td>0.0</td>\n",
              "      <td>0.0</td>\n",
              "      <td>0.0</td>\n",
              "      <td>0.0</td>\n",
              "      <td>0.0</td>\n",
              "      <td>0.0</td>\n",
              "      <td>0.0</td>\n",
              "      <td>0.0</td>\n",
              "      <td>0.0</td>\n",
              "      <td>0.0</td>\n",
              "      <td>0.0</td>\n",
              "      <td>0.0</td>\n",
              "      <td>0.0</td>\n",
              "      <td>0.0</td>\n",
              "      <td>0.0</td>\n",
              "      <td>0.0</td>\n",
              "      <td>0.0</td>\n",
              "      <td>0.0</td>\n",
              "      <td>0.0</td>\n",
              "      <td>0.0</td>\n",
              "      <td>...</td>\n",
              "      <td>0.0</td>\n",
              "      <td>0.0</td>\n",
              "      <td>0.0</td>\n",
              "      <td>0.0</td>\n",
              "      <td>0.0</td>\n",
              "      <td>0.0</td>\n",
              "      <td>0.0</td>\n",
              "      <td>0.0</td>\n",
              "      <td>0.0</td>\n",
              "      <td>0.000000</td>\n",
              "      <td>0.0</td>\n",
              "      <td>0.0</td>\n",
              "      <td>0.0</td>\n",
              "      <td>0.0</td>\n",
              "      <td>0.0</td>\n",
              "      <td>0.0</td>\n",
              "      <td>0.0</td>\n",
              "      <td>0.0</td>\n",
              "      <td>0.0</td>\n",
              "      <td>0.0</td>\n",
              "      <td>0.0</td>\n",
              "      <td>0.0</td>\n",
              "      <td>0.0</td>\n",
              "      <td>0.0</td>\n",
              "      <td>0.0</td>\n",
              "      <td>0.0</td>\n",
              "      <td>0.0</td>\n",
              "      <td>0.0</td>\n",
              "      <td>0.0</td>\n",
              "      <td>0.0</td>\n",
              "      <td>0.0</td>\n",
              "      <td>0.0</td>\n",
              "      <td>0.0</td>\n",
              "      <td>0.0</td>\n",
              "      <td>0.0</td>\n",
              "      <td>0.0</td>\n",
              "      <td>0.0</td>\n",
              "      <td>0.0</td>\n",
              "      <td>0.0</td>\n",
              "      <td>0.0</td>\n",
              "    </tr>\n",
              "    <tr>\n",
              "      <th>...</th>\n",
              "      <td>...</td>\n",
              "      <td>...</td>\n",
              "      <td>...</td>\n",
              "      <td>...</td>\n",
              "      <td>...</td>\n",
              "      <td>...</td>\n",
              "      <td>...</td>\n",
              "      <td>...</td>\n",
              "      <td>...</td>\n",
              "      <td>...</td>\n",
              "      <td>...</td>\n",
              "      <td>...</td>\n",
              "      <td>...</td>\n",
              "      <td>...</td>\n",
              "      <td>...</td>\n",
              "      <td>...</td>\n",
              "      <td>...</td>\n",
              "      <td>...</td>\n",
              "      <td>...</td>\n",
              "      <td>...</td>\n",
              "      <td>...</td>\n",
              "      <td>...</td>\n",
              "      <td>...</td>\n",
              "      <td>...</td>\n",
              "      <td>...</td>\n",
              "      <td>...</td>\n",
              "      <td>...</td>\n",
              "      <td>...</td>\n",
              "      <td>...</td>\n",
              "      <td>...</td>\n",
              "      <td>...</td>\n",
              "      <td>...</td>\n",
              "      <td>...</td>\n",
              "      <td>...</td>\n",
              "      <td>...</td>\n",
              "      <td>...</td>\n",
              "      <td>...</td>\n",
              "      <td>...</td>\n",
              "      <td>...</td>\n",
              "      <td>...</td>\n",
              "      <td>...</td>\n",
              "      <td>...</td>\n",
              "      <td>...</td>\n",
              "      <td>...</td>\n",
              "      <td>...</td>\n",
              "      <td>...</td>\n",
              "      <td>...</td>\n",
              "      <td>...</td>\n",
              "      <td>...</td>\n",
              "      <td>...</td>\n",
              "      <td>...</td>\n",
              "      <td>...</td>\n",
              "      <td>...</td>\n",
              "      <td>...</td>\n",
              "      <td>...</td>\n",
              "      <td>...</td>\n",
              "      <td>...</td>\n",
              "      <td>...</td>\n",
              "      <td>...</td>\n",
              "      <td>...</td>\n",
              "      <td>...</td>\n",
              "      <td>...</td>\n",
              "      <td>...</td>\n",
              "      <td>...</td>\n",
              "      <td>...</td>\n",
              "      <td>...</td>\n",
              "      <td>...</td>\n",
              "      <td>...</td>\n",
              "      <td>...</td>\n",
              "      <td>...</td>\n",
              "      <td>...</td>\n",
              "      <td>...</td>\n",
              "      <td>...</td>\n",
              "      <td>...</td>\n",
              "      <td>...</td>\n",
              "      <td>...</td>\n",
              "      <td>...</td>\n",
              "      <td>...</td>\n",
              "      <td>...</td>\n",
              "      <td>...</td>\n",
              "      <td>...</td>\n",
              "    </tr>\n",
              "    <tr>\n",
              "      <th>395</th>\n",
              "      <td>0.0</td>\n",
              "      <td>0.0</td>\n",
              "      <td>0.0</td>\n",
              "      <td>0.0</td>\n",
              "      <td>0.0</td>\n",
              "      <td>0.0</td>\n",
              "      <td>0.0</td>\n",
              "      <td>0.0</td>\n",
              "      <td>0.0</td>\n",
              "      <td>0.0</td>\n",
              "      <td>0.0</td>\n",
              "      <td>0.0</td>\n",
              "      <td>0.0</td>\n",
              "      <td>0.000000</td>\n",
              "      <td>0.0</td>\n",
              "      <td>0.0</td>\n",
              "      <td>0.0</td>\n",
              "      <td>0.0</td>\n",
              "      <td>0.0</td>\n",
              "      <td>0.0</td>\n",
              "      <td>0.0</td>\n",
              "      <td>0.0</td>\n",
              "      <td>0.0</td>\n",
              "      <td>0.0</td>\n",
              "      <td>0.0</td>\n",
              "      <td>0.0</td>\n",
              "      <td>0.0</td>\n",
              "      <td>0.0</td>\n",
              "      <td>0.0</td>\n",
              "      <td>0.0</td>\n",
              "      <td>0.0</td>\n",
              "      <td>0.0</td>\n",
              "      <td>0.0</td>\n",
              "      <td>0.0</td>\n",
              "      <td>0.0</td>\n",
              "      <td>0.0</td>\n",
              "      <td>0.0</td>\n",
              "      <td>0.0</td>\n",
              "      <td>0.0</td>\n",
              "      <td>0.0</td>\n",
              "      <td>...</td>\n",
              "      <td>0.0</td>\n",
              "      <td>0.0</td>\n",
              "      <td>0.0</td>\n",
              "      <td>0.0</td>\n",
              "      <td>0.0</td>\n",
              "      <td>0.0</td>\n",
              "      <td>0.0</td>\n",
              "      <td>0.0</td>\n",
              "      <td>0.0</td>\n",
              "      <td>0.000000</td>\n",
              "      <td>0.0</td>\n",
              "      <td>0.0</td>\n",
              "      <td>0.0</td>\n",
              "      <td>0.0</td>\n",
              "      <td>0.0</td>\n",
              "      <td>0.0</td>\n",
              "      <td>0.0</td>\n",
              "      <td>0.0</td>\n",
              "      <td>0.0</td>\n",
              "      <td>0.0</td>\n",
              "      <td>0.0</td>\n",
              "      <td>0.0</td>\n",
              "      <td>0.0</td>\n",
              "      <td>0.0</td>\n",
              "      <td>0.0</td>\n",
              "      <td>0.0</td>\n",
              "      <td>0.0</td>\n",
              "      <td>0.0</td>\n",
              "      <td>0.0</td>\n",
              "      <td>0.0</td>\n",
              "      <td>0.0</td>\n",
              "      <td>0.0</td>\n",
              "      <td>0.0</td>\n",
              "      <td>0.0</td>\n",
              "      <td>0.0</td>\n",
              "      <td>0.0</td>\n",
              "      <td>0.0</td>\n",
              "      <td>0.0</td>\n",
              "      <td>0.0</td>\n",
              "      <td>0.0</td>\n",
              "    </tr>\n",
              "    <tr>\n",
              "      <th>396</th>\n",
              "      <td>0.0</td>\n",
              "      <td>0.0</td>\n",
              "      <td>0.0</td>\n",
              "      <td>0.0</td>\n",
              "      <td>0.0</td>\n",
              "      <td>0.0</td>\n",
              "      <td>0.0</td>\n",
              "      <td>0.0</td>\n",
              "      <td>0.0</td>\n",
              "      <td>0.0</td>\n",
              "      <td>0.0</td>\n",
              "      <td>0.0</td>\n",
              "      <td>0.0</td>\n",
              "      <td>0.000000</td>\n",
              "      <td>0.0</td>\n",
              "      <td>0.0</td>\n",
              "      <td>0.0</td>\n",
              "      <td>0.0</td>\n",
              "      <td>0.0</td>\n",
              "      <td>0.0</td>\n",
              "      <td>0.0</td>\n",
              "      <td>0.0</td>\n",
              "      <td>0.0</td>\n",
              "      <td>0.0</td>\n",
              "      <td>0.0</td>\n",
              "      <td>0.0</td>\n",
              "      <td>0.0</td>\n",
              "      <td>0.0</td>\n",
              "      <td>0.0</td>\n",
              "      <td>0.0</td>\n",
              "      <td>0.0</td>\n",
              "      <td>0.0</td>\n",
              "      <td>0.0</td>\n",
              "      <td>0.0</td>\n",
              "      <td>0.0</td>\n",
              "      <td>0.0</td>\n",
              "      <td>0.0</td>\n",
              "      <td>0.0</td>\n",
              "      <td>0.0</td>\n",
              "      <td>0.0</td>\n",
              "      <td>...</td>\n",
              "      <td>0.0</td>\n",
              "      <td>0.0</td>\n",
              "      <td>0.0</td>\n",
              "      <td>0.0</td>\n",
              "      <td>0.0</td>\n",
              "      <td>0.0</td>\n",
              "      <td>0.0</td>\n",
              "      <td>0.0</td>\n",
              "      <td>0.0</td>\n",
              "      <td>0.000000</td>\n",
              "      <td>0.0</td>\n",
              "      <td>0.0</td>\n",
              "      <td>0.0</td>\n",
              "      <td>0.0</td>\n",
              "      <td>0.0</td>\n",
              "      <td>0.0</td>\n",
              "      <td>0.0</td>\n",
              "      <td>0.0</td>\n",
              "      <td>0.0</td>\n",
              "      <td>0.0</td>\n",
              "      <td>0.0</td>\n",
              "      <td>0.0</td>\n",
              "      <td>0.0</td>\n",
              "      <td>0.0</td>\n",
              "      <td>0.0</td>\n",
              "      <td>0.0</td>\n",
              "      <td>0.0</td>\n",
              "      <td>0.0</td>\n",
              "      <td>0.0</td>\n",
              "      <td>0.0</td>\n",
              "      <td>0.0</td>\n",
              "      <td>0.0</td>\n",
              "      <td>0.0</td>\n",
              "      <td>0.0</td>\n",
              "      <td>0.0</td>\n",
              "      <td>0.0</td>\n",
              "      <td>0.0</td>\n",
              "      <td>0.0</td>\n",
              "      <td>0.0</td>\n",
              "      <td>0.0</td>\n",
              "    </tr>\n",
              "    <tr>\n",
              "      <th>397</th>\n",
              "      <td>0.0</td>\n",
              "      <td>0.0</td>\n",
              "      <td>0.0</td>\n",
              "      <td>0.0</td>\n",
              "      <td>0.0</td>\n",
              "      <td>0.0</td>\n",
              "      <td>0.0</td>\n",
              "      <td>0.0</td>\n",
              "      <td>0.0</td>\n",
              "      <td>0.0</td>\n",
              "      <td>0.0</td>\n",
              "      <td>0.0</td>\n",
              "      <td>0.0</td>\n",
              "      <td>0.000000</td>\n",
              "      <td>0.0</td>\n",
              "      <td>0.0</td>\n",
              "      <td>0.0</td>\n",
              "      <td>0.0</td>\n",
              "      <td>0.0</td>\n",
              "      <td>0.0</td>\n",
              "      <td>0.0</td>\n",
              "      <td>0.0</td>\n",
              "      <td>0.0</td>\n",
              "      <td>0.0</td>\n",
              "      <td>0.0</td>\n",
              "      <td>0.0</td>\n",
              "      <td>0.0</td>\n",
              "      <td>0.0</td>\n",
              "      <td>0.0</td>\n",
              "      <td>0.0</td>\n",
              "      <td>0.0</td>\n",
              "      <td>0.0</td>\n",
              "      <td>0.0</td>\n",
              "      <td>0.0</td>\n",
              "      <td>0.0</td>\n",
              "      <td>0.0</td>\n",
              "      <td>0.0</td>\n",
              "      <td>0.0</td>\n",
              "      <td>0.0</td>\n",
              "      <td>0.0</td>\n",
              "      <td>...</td>\n",
              "      <td>0.0</td>\n",
              "      <td>0.0</td>\n",
              "      <td>0.0</td>\n",
              "      <td>0.0</td>\n",
              "      <td>0.0</td>\n",
              "      <td>0.0</td>\n",
              "      <td>0.0</td>\n",
              "      <td>0.0</td>\n",
              "      <td>0.0</td>\n",
              "      <td>0.045987</td>\n",
              "      <td>0.0</td>\n",
              "      <td>0.0</td>\n",
              "      <td>0.0</td>\n",
              "      <td>0.0</td>\n",
              "      <td>0.0</td>\n",
              "      <td>0.0</td>\n",
              "      <td>0.0</td>\n",
              "      <td>0.0</td>\n",
              "      <td>0.0</td>\n",
              "      <td>0.0</td>\n",
              "      <td>0.0</td>\n",
              "      <td>0.0</td>\n",
              "      <td>0.0</td>\n",
              "      <td>0.0</td>\n",
              "      <td>0.0</td>\n",
              "      <td>0.0</td>\n",
              "      <td>0.0</td>\n",
              "      <td>0.0</td>\n",
              "      <td>0.0</td>\n",
              "      <td>0.0</td>\n",
              "      <td>0.0</td>\n",
              "      <td>0.0</td>\n",
              "      <td>0.0</td>\n",
              "      <td>0.0</td>\n",
              "      <td>0.0</td>\n",
              "      <td>0.0</td>\n",
              "      <td>0.0</td>\n",
              "      <td>0.0</td>\n",
              "      <td>0.0</td>\n",
              "      <td>0.0</td>\n",
              "    </tr>\n",
              "    <tr>\n",
              "      <th>398</th>\n",
              "      <td>0.0</td>\n",
              "      <td>0.0</td>\n",
              "      <td>0.0</td>\n",
              "      <td>0.0</td>\n",
              "      <td>0.0</td>\n",
              "      <td>0.0</td>\n",
              "      <td>0.0</td>\n",
              "      <td>0.0</td>\n",
              "      <td>0.0</td>\n",
              "      <td>0.0</td>\n",
              "      <td>0.0</td>\n",
              "      <td>0.0</td>\n",
              "      <td>0.0</td>\n",
              "      <td>0.000000</td>\n",
              "      <td>0.0</td>\n",
              "      <td>0.0</td>\n",
              "      <td>0.0</td>\n",
              "      <td>0.0</td>\n",
              "      <td>0.0</td>\n",
              "      <td>0.0</td>\n",
              "      <td>0.0</td>\n",
              "      <td>0.0</td>\n",
              "      <td>0.0</td>\n",
              "      <td>0.0</td>\n",
              "      <td>0.0</td>\n",
              "      <td>0.0</td>\n",
              "      <td>0.0</td>\n",
              "      <td>0.0</td>\n",
              "      <td>0.0</td>\n",
              "      <td>0.0</td>\n",
              "      <td>0.0</td>\n",
              "      <td>0.0</td>\n",
              "      <td>0.0</td>\n",
              "      <td>0.0</td>\n",
              "      <td>0.0</td>\n",
              "      <td>0.0</td>\n",
              "      <td>0.0</td>\n",
              "      <td>0.0</td>\n",
              "      <td>0.0</td>\n",
              "      <td>0.0</td>\n",
              "      <td>...</td>\n",
              "      <td>0.0</td>\n",
              "      <td>0.0</td>\n",
              "      <td>0.0</td>\n",
              "      <td>0.0</td>\n",
              "      <td>0.0</td>\n",
              "      <td>0.0</td>\n",
              "      <td>0.0</td>\n",
              "      <td>0.0</td>\n",
              "      <td>0.0</td>\n",
              "      <td>0.000000</td>\n",
              "      <td>0.0</td>\n",
              "      <td>0.0</td>\n",
              "      <td>0.0</td>\n",
              "      <td>0.0</td>\n",
              "      <td>0.0</td>\n",
              "      <td>0.0</td>\n",
              "      <td>0.0</td>\n",
              "      <td>0.0</td>\n",
              "      <td>0.0</td>\n",
              "      <td>0.0</td>\n",
              "      <td>0.0</td>\n",
              "      <td>0.0</td>\n",
              "      <td>0.0</td>\n",
              "      <td>0.0</td>\n",
              "      <td>0.0</td>\n",
              "      <td>0.0</td>\n",
              "      <td>0.0</td>\n",
              "      <td>0.0</td>\n",
              "      <td>0.0</td>\n",
              "      <td>0.0</td>\n",
              "      <td>0.0</td>\n",
              "      <td>0.0</td>\n",
              "      <td>0.0</td>\n",
              "      <td>0.0</td>\n",
              "      <td>0.0</td>\n",
              "      <td>0.0</td>\n",
              "      <td>0.0</td>\n",
              "      <td>0.0</td>\n",
              "      <td>0.0</td>\n",
              "      <td>0.0</td>\n",
              "    </tr>\n",
              "    <tr>\n",
              "      <th>399</th>\n",
              "      <td>0.0</td>\n",
              "      <td>0.0</td>\n",
              "      <td>0.0</td>\n",
              "      <td>0.0</td>\n",
              "      <td>0.0</td>\n",
              "      <td>0.0</td>\n",
              "      <td>0.0</td>\n",
              "      <td>0.0</td>\n",
              "      <td>0.0</td>\n",
              "      <td>0.0</td>\n",
              "      <td>0.0</td>\n",
              "      <td>0.0</td>\n",
              "      <td>0.0</td>\n",
              "      <td>0.027423</td>\n",
              "      <td>0.0</td>\n",
              "      <td>0.0</td>\n",
              "      <td>0.0</td>\n",
              "      <td>0.0</td>\n",
              "      <td>0.0</td>\n",
              "      <td>0.0</td>\n",
              "      <td>0.0</td>\n",
              "      <td>0.0</td>\n",
              "      <td>0.0</td>\n",
              "      <td>0.0</td>\n",
              "      <td>0.0</td>\n",
              "      <td>0.0</td>\n",
              "      <td>0.0</td>\n",
              "      <td>0.0</td>\n",
              "      <td>0.0</td>\n",
              "      <td>0.0</td>\n",
              "      <td>0.0</td>\n",
              "      <td>0.0</td>\n",
              "      <td>0.0</td>\n",
              "      <td>0.0</td>\n",
              "      <td>0.0</td>\n",
              "      <td>0.0</td>\n",
              "      <td>0.0</td>\n",
              "      <td>0.0</td>\n",
              "      <td>0.0</td>\n",
              "      <td>0.0</td>\n",
              "      <td>...</td>\n",
              "      <td>0.0</td>\n",
              "      <td>0.0</td>\n",
              "      <td>0.0</td>\n",
              "      <td>0.0</td>\n",
              "      <td>0.0</td>\n",
              "      <td>0.0</td>\n",
              "      <td>0.0</td>\n",
              "      <td>0.0</td>\n",
              "      <td>0.0</td>\n",
              "      <td>0.000000</td>\n",
              "      <td>0.0</td>\n",
              "      <td>0.0</td>\n",
              "      <td>0.0</td>\n",
              "      <td>0.0</td>\n",
              "      <td>0.0</td>\n",
              "      <td>0.0</td>\n",
              "      <td>0.0</td>\n",
              "      <td>0.0</td>\n",
              "      <td>0.0</td>\n",
              "      <td>0.0</td>\n",
              "      <td>0.0</td>\n",
              "      <td>0.0</td>\n",
              "      <td>0.0</td>\n",
              "      <td>0.0</td>\n",
              "      <td>0.0</td>\n",
              "      <td>0.0</td>\n",
              "      <td>0.0</td>\n",
              "      <td>0.0</td>\n",
              "      <td>0.0</td>\n",
              "      <td>0.0</td>\n",
              "      <td>0.0</td>\n",
              "      <td>0.0</td>\n",
              "      <td>0.0</td>\n",
              "      <td>0.0</td>\n",
              "      <td>0.0</td>\n",
              "      <td>0.0</td>\n",
              "      <td>0.0</td>\n",
              "      <td>0.0</td>\n",
              "      <td>0.0</td>\n",
              "      <td>0.0</td>\n",
              "    </tr>\n",
              "  </tbody>\n",
              "</table>\n",
              "<p>400 rows × 28905 columns</p>\n",
              "</div>"
            ],
            "text/plain": [
              "     0      1      2      3      4      ...  28900  28901  28902  28903  28904\n",
              "0      0.0    0.0    0.0    0.0    0.0  ...    0.0    0.0    0.0    0.0    0.0\n",
              "1      0.0    0.0    0.0    0.0    0.0  ...    0.0    0.0    0.0    0.0    0.0\n",
              "2      0.0    0.0    0.0    0.0    0.0  ...    0.0    0.0    0.0    0.0    0.0\n",
              "3      0.0    0.0    0.0    0.0    0.0  ...    0.0    0.0    0.0    0.0    0.0\n",
              "4      0.0    0.0    0.0    0.0    0.0  ...    0.0    0.0    0.0    0.0    0.0\n",
              "..     ...    ...    ...    ...    ...  ...    ...    ...    ...    ...    ...\n",
              "395    0.0    0.0    0.0    0.0    0.0  ...    0.0    0.0    0.0    0.0    0.0\n",
              "396    0.0    0.0    0.0    0.0    0.0  ...    0.0    0.0    0.0    0.0    0.0\n",
              "397    0.0    0.0    0.0    0.0    0.0  ...    0.0    0.0    0.0    0.0    0.0\n",
              "398    0.0    0.0    0.0    0.0    0.0  ...    0.0    0.0    0.0    0.0    0.0\n",
              "399    0.0    0.0    0.0    0.0    0.0  ...    0.0    0.0    0.0    0.0    0.0\n",
              "\n",
              "[400 rows x 28905 columns]"
            ]
          },
          "metadata": {
            "tags": []
          },
          "execution_count": 183
        }
      ]
    },
    {
      "cell_type": "markdown",
      "metadata": {
        "id": "H9Xb9NIdllI7"
      },
      "source": [
        "# Logistic Regression"
      ]
    },
    {
      "cell_type": "code",
      "metadata": {
        "colab": {
          "base_uri": "https://localhost:8080/"
        },
        "id": "5udDbQjVllI7",
        "outputId": "03ed4b56-c3b4-4100-bbe8-08fbf8da0cdc"
      },
      "source": [
        "log_reg = LogisticRegression()\n",
        "log_reg.fit(df_x_train_tfidf, y_train)\n",
        "logR_predicted = log_reg.predict(df_x_test_tfidf)\n",
        "print(f\"{log_reg.__class__.__name__} accuracy: {log_reg.score(df_x_test_tfidf, y_test)}\")"
      ],
      "execution_count": null,
      "outputs": [
        {
          "output_type": "stream",
          "text": [
            "LogisticRegression accuracy: 0.85\n"
          ],
          "name": "stdout"
        }
      ]
    },
    {
      "cell_type": "code",
      "metadata": {
        "id": "n8Ena88YH_g8",
        "colab": {
          "base_uri": "https://localhost:8080/"
        },
        "outputId": "b1d12ed9-900f-4b0d-b0e8-244b66e1b6fe"
      },
      "source": [
        "log_reg_nopol = LogisticRegression()\r\n",
        "log_reg_nopol.fit(df_x_train_tfidf_nopol, y_train)\r\n",
        "logR_predicted = log_reg_nopol.predict(df_x_test_tfidf_nopol)\r\n",
        "print(f\"{log_reg_nopol.__class__.__name__} accuracy: {log_reg_nopol.score(df_x_test_tfidf_nopol, y_test)}\")"
      ],
      "execution_count": null,
      "outputs": [
        {
          "output_type": "stream",
          "text": [
            "LogisticRegression accuracy: 0.8375\n"
          ],
          "name": "stdout"
        }
      ]
    },
    {
      "cell_type": "code",
      "metadata": {
        "colab": {
          "base_uri": "https://localhost:8080/"
        },
        "id": "ednafYscSx-t",
        "outputId": "6499085a-4f10-44d1-d371-f8de871b01ed"
      },
      "source": [
        "print(classification_report(y_test, logR_predicted))\r\n",
        "print('\\n')\r\n",
        "print(confusion_matrix(y_test, logR_predicted))"
      ],
      "execution_count": null,
      "outputs": [
        {
          "output_type": "stream",
          "text": [
            "              precision    recall  f1-score   support\n",
            "\n",
            "           0       0.82      0.88      0.85       210\n",
            "           2       0.85      0.79      0.82       190\n",
            "\n",
            "    accuracy                           0.83       400\n",
            "   macro avg       0.84      0.83      0.83       400\n",
            "weighted avg       0.84      0.83      0.83       400\n",
            "\n",
            "\n",
            "\n",
            "[[184  26]\n",
            " [ 40 150]]\n"
          ],
          "name": "stdout"
        }
      ]
    },
    {
      "cell_type": "code",
      "metadata": {
        "colab": {
          "base_uri": "https://localhost:8080/"
        },
        "id": "FI1Whi9nTscg",
        "outputId": "5d882aa3-1fc3-4f16-fa7e-4dfe4d39b697"
      },
      "source": [
        "cv_results = cross_validate(log_reg, df_x_train_tfidf, y_train, cv=2)\r\n",
        "cv_results['test_score'].mean()"
      ],
      "execution_count": null,
      "outputs": [
        {
          "output_type": "execute_result",
          "data": {
            "text/plain": [
              "0.788125"
            ]
          },
          "metadata": {
            "tags": []
          },
          "execution_count": 155
        }
      ]
    },
    {
      "cell_type": "markdown",
      "metadata": {
        "id": "9czIQNROUWsM"
      },
      "source": [
        "#Random Forest"
      ]
    },
    {
      "cell_type": "code",
      "metadata": {
        "colab": {
          "base_uri": "https://localhost:8080/"
        },
        "id": "ACCdIadnUTfW",
        "outputId": "942e676d-eacf-4362-a967-6a1d0a2e9cf9"
      },
      "source": [
        "random_forest = RandomForestClassifier(n_estimators=10, max_depth=100)\r\n",
        "random_forest.fit(df_x_train_tfidf, y_train)\r\n",
        "\r\n",
        "print(f\"{random_forest.__class__.__name__} accuracy: {random_forest.score(df_x_test_tfidf, y_test)}\")"
      ],
      "execution_count": null,
      "outputs": [
        {
          "output_type": "stream",
          "text": [
            "RandomForestClassifier accuracy: 0.8125\n"
          ],
          "name": "stdout"
        }
      ]
    },
    {
      "cell_type": "code",
      "metadata": {
        "colab": {
          "base_uri": "https://localhost:8080/"
        },
        "id": "Cy5DLmChUdUr",
        "outputId": "4d7c7610-0750-458f-f778-e5df8fa4da25"
      },
      "source": [
        "random_forest_nopol = RandomForestClassifier(n_estimators=10, max_depth=100)\r\n",
        "random_forest_nopol.fit(df_x_train_tfidf_nopol, y_train)\r\n",
        "\r\n",
        "print(f\"{random_forest_nopol.__class__.__name__} accuracy: {random_forest_nopol.score(df_x_test_tfidf_nopol, y_test)}\")"
      ],
      "execution_count": null,
      "outputs": [
        {
          "output_type": "stream",
          "text": [
            "RandomForestClassifier accuracy: 0.7925\n"
          ],
          "name": "stdout"
        }
      ]
    },
    {
      "cell_type": "code",
      "metadata": {
        "colab": {
          "base_uri": "https://localhost:8080/"
        },
        "id": "GVmpkWMgUZPS",
        "outputId": "230dc820-13ae-458c-a201-db7b02d850a0"
      },
      "source": [
        "rForest_pred = random_forest.predict(df_x_test_tfidf)\r\n",
        "print(classification_report(y_test, rForest_pred))\r\n",
        "print('\\n')\r\n",
        "print(confusion_matrix(y_test, rForest_pred))"
      ],
      "execution_count": null,
      "outputs": [
        {
          "output_type": "stream",
          "text": [
            "              precision    recall  f1-score   support\n",
            "\n",
            "           0       0.75      0.86      0.80       210\n",
            "           2       0.82      0.69      0.75       190\n",
            "\n",
            "    accuracy                           0.78       400\n",
            "   macro avg       0.79      0.78      0.78       400\n",
            "weighted avg       0.78      0.78      0.78       400\n",
            "\n",
            "\n",
            "\n",
            "[[181  29]\n",
            " [ 59 131]]\n"
          ],
          "name": "stdout"
        }
      ]
    },
    {
      "cell_type": "code",
      "metadata": {
        "id": "PM0VHbkBUage"
      },
      "source": [
        "cv_results = cross_validate(random_forest, df_x_train_tfidf, y_train, cv=5)\r\n",
        "cv_results['test_score'].mean()"
      ],
      "execution_count": null,
      "outputs": []
    },
    {
      "cell_type": "markdown",
      "metadata": {
        "id": "37FP16IYW6Lc"
      },
      "source": [
        "#SVM"
      ]
    },
    {
      "cell_type": "code",
      "metadata": {
        "colab": {
          "base_uri": "https://localhost:8080/"
        },
        "id": "1SqT_L4rW3tW",
        "outputId": "8aa43df9-b138-4d9e-da78-626b5fa8e23f"
      },
      "source": [
        "svm = LinearSVC()\r\n",
        "svm.fit(df_x_train_tfidf, y_train)\r\n",
        "print(f\"{svm.__class__.__name__} accuracy: {svm.score(df_x_test_tfidf, y_test)}\")"
      ],
      "execution_count": null,
      "outputs": [
        {
          "output_type": "stream",
          "text": [
            "LinearSVC accuracy: 0.8625\n"
          ],
          "name": "stdout"
        }
      ]
    },
    {
      "cell_type": "code",
      "metadata": {
        "colab": {
          "base_uri": "https://localhost:8080/"
        },
        "id": "vCevMobzXewE",
        "outputId": "bc21118b-447e-4381-c30a-34a31e4a5940"
      },
      "source": [
        "svm_nopol = LinearSVC()\r\n",
        "svm_nopol.fit(df_x_train_tfidf_nopol, y_train)\r\n",
        "print(f\"{svm_nopol.__class__.__name__} accuracy: {svm_nopol.score(df_x_test_tfidf_nopol, y_test)}\")"
      ],
      "execution_count": null,
      "outputs": [
        {
          "output_type": "stream",
          "text": [
            "LinearSVC accuracy: 0.8675\n"
          ],
          "name": "stdout"
        }
      ]
    },
    {
      "cell_type": "code",
      "metadata": {
        "colab": {
          "base_uri": "https://localhost:8080/"
        },
        "id": "GrDxnb8mZPtY",
        "outputId": "24224fd0-cd74-40d9-94bb-17d8bba538b0"
      },
      "source": [
        "svm_pred = svm.predict(df_x_test_tfidf)\r\n",
        "\r\n",
        "print(classification_report(y_test, svm_pred))\r\n",
        "print('\\n')\r\n",
        "print(confusion_matrix(y_test, svm_pred))"
      ],
      "execution_count": null,
      "outputs": [
        {
          "output_type": "stream",
          "text": [
            "              precision    recall  f1-score   support\n",
            "\n",
            "           0       0.85      0.89      0.87       200\n",
            "           2       0.88      0.84      0.86       200\n",
            "\n",
            "    accuracy                           0.86       400\n",
            "   macro avg       0.87      0.86      0.86       400\n",
            "weighted avg       0.87      0.86      0.86       400\n",
            "\n",
            "\n",
            "\n",
            "[[178  22]\n",
            " [ 32 168]]\n"
          ],
          "name": "stdout"
        }
      ]
    },
    {
      "cell_type": "code",
      "metadata": {
        "id": "kYTp_GwtZRsY"
      },
      "source": [
        "cv_results = cross_validate(svm, df_x_train_tfidf, y_train, cv=5)\r\n",
        "cv_results['test_score'].mean()"
      ],
      "execution_count": null,
      "outputs": []
    },
    {
      "cell_type": "code",
      "metadata": {
        "id": "qxYaAbRnoR_4"
      },
      "source": [
        "clf = GridSearchCV(svm.SVC(), {\r\n",
        "    'C': [1,10,20],\r\n",
        "    'kernel': ['rbf','linear']\r\n",
        "}, cv=2, return_train_score=False)\r\n",
        "clf.fit(df_x_train_tfidf, y_train)\r\n",
        "clf.cv_results_  "
      ],
      "execution_count": null,
      "outputs": []
    },
    {
      "cell_type": "code",
      "metadata": {
        "colab": {
          "base_uri": "https://localhost:8080/",
          "height": 128
        },
        "id": "yCjjegpatL68",
        "outputId": "0138f358-330f-46a7-8c5d-9fed30512a5a"
      },
      "source": [
        "df = pd.DataFrame(clf.cv_results_)\r\n",
        "df"
      ],
      "execution_count": null,
      "outputs": [
        {
          "output_type": "execute_result",
          "data": {
            "text/html": [
              "<div>\n",
              "<style scoped>\n",
              "    .dataframe tbody tr th:only-of-type {\n",
              "        vertical-align: middle;\n",
              "    }\n",
              "\n",
              "    .dataframe tbody tr th {\n",
              "        vertical-align: top;\n",
              "    }\n",
              "\n",
              "    .dataframe thead th {\n",
              "        text-align: right;\n",
              "    }\n",
              "</style>\n",
              "<table border=\"1\" class=\"dataframe\">\n",
              "  <thead>\n",
              "    <tr style=\"text-align: right;\">\n",
              "      <th></th>\n",
              "      <th>mean_fit_time</th>\n",
              "      <th>std_fit_time</th>\n",
              "      <th>mean_score_time</th>\n",
              "      <th>std_score_time</th>\n",
              "      <th>param_C</th>\n",
              "      <th>param_kernel</th>\n",
              "      <th>params</th>\n",
              "      <th>split0_test_score</th>\n",
              "      <th>split1_test_score</th>\n",
              "      <th>mean_test_score</th>\n",
              "      <th>std_test_score</th>\n",
              "      <th>rank_test_score</th>\n",
              "    </tr>\n",
              "  </thead>\n",
              "  <tbody>\n",
              "    <tr>\n",
              "      <th>0</th>\n",
              "      <td>40.174047</td>\n",
              "      <td>0.130484</td>\n",
              "      <td>28.985952</td>\n",
              "      <td>0.230865</td>\n",
              "      <td>1</td>\n",
              "      <td>linear</td>\n",
              "      <td>{'C': 1, 'kernel': 'linear'}</td>\n",
              "      <td>0.82500</td>\n",
              "      <td>0.82625</td>\n",
              "      <td>0.825625</td>\n",
              "      <td>0.000625</td>\n",
              "      <td>2</td>\n",
              "    </tr>\n",
              "    <tr>\n",
              "      <th>1</th>\n",
              "      <td>40.844855</td>\n",
              "      <td>0.289318</td>\n",
              "      <td>28.854964</td>\n",
              "      <td>0.343762</td>\n",
              "      <td>10</td>\n",
              "      <td>linear</td>\n",
              "      <td>{'C': 10, 'kernel': 'linear'}</td>\n",
              "      <td>0.83875</td>\n",
              "      <td>0.84625</td>\n",
              "      <td>0.842500</td>\n",
              "      <td>0.003750</td>\n",
              "      <td>1</td>\n",
              "    </tr>\n",
              "  </tbody>\n",
              "</table>\n",
              "</div>"
            ],
            "text/plain": [
              "   mean_fit_time  std_fit_time  ...  std_test_score  rank_test_score\n",
              "0      40.174047      0.130484  ...        0.000625                2\n",
              "1      40.844855      0.289318  ...        0.003750                1\n",
              "\n",
              "[2 rows x 12 columns]"
            ]
          },
          "metadata": {
            "tags": []
          },
          "execution_count": 196
        }
      ]
    },
    {
      "cell_type": "code",
      "metadata": {
        "colab": {
          "base_uri": "https://localhost:8080/",
          "height": 111
        },
        "id": "ybsrtRmttO5r",
        "outputId": "980460e6-9723-4af6-992c-244bc09b5d53"
      },
      "source": [
        "df[['param_C','param_kernel','mean_test_score']]"
      ],
      "execution_count": null,
      "outputs": [
        {
          "output_type": "execute_result",
          "data": {
            "text/html": [
              "<div>\n",
              "<style scoped>\n",
              "    .dataframe tbody tr th:only-of-type {\n",
              "        vertical-align: middle;\n",
              "    }\n",
              "\n",
              "    .dataframe tbody tr th {\n",
              "        vertical-align: top;\n",
              "    }\n",
              "\n",
              "    .dataframe thead th {\n",
              "        text-align: right;\n",
              "    }\n",
              "</style>\n",
              "<table border=\"1\" class=\"dataframe\">\n",
              "  <thead>\n",
              "    <tr style=\"text-align: right;\">\n",
              "      <th></th>\n",
              "      <th>param_C</th>\n",
              "      <th>param_kernel</th>\n",
              "      <th>mean_test_score</th>\n",
              "    </tr>\n",
              "  </thead>\n",
              "  <tbody>\n",
              "    <tr>\n",
              "      <th>0</th>\n",
              "      <td>1</td>\n",
              "      <td>linear</td>\n",
              "      <td>0.825625</td>\n",
              "    </tr>\n",
              "    <tr>\n",
              "      <th>1</th>\n",
              "      <td>10</td>\n",
              "      <td>linear</td>\n",
              "      <td>0.842500</td>\n",
              "    </tr>\n",
              "  </tbody>\n",
              "</table>\n",
              "</div>"
            ],
            "text/plain": [
              "  param_C param_kernel  mean_test_score\n",
              "0       1       linear         0.825625\n",
              "1      10       linear         0.842500"
            ]
          },
          "metadata": {
            "tags": []
          },
          "execution_count": 198
        }
      ]
    },
    {
      "cell_type": "markdown",
      "metadata": {
        "id": "6j7rRdJZmtpx"
      },
      "source": [
        "#Glove LSTM"
      ]
    },
    {
      "cell_type": "code",
      "metadata": {
        "id": "zRoeRU1BZavL"
      },
      "source": [
        "glovedf = smallerdf.reset_index(drop=True)\r\n",
        "contentglove = glovedf.drop(['Polarity',\t'Subjectivity', 'Reliability'],axis=1)"
      ],
      "execution_count": 62,
      "outputs": []
    },
    {
      "cell_type": "code",
      "metadata": {
        "colab": {
          "base_uri": "https://localhost:8080/",
          "height": 415
        },
        "id": "R9YCaGfxfvwe",
        "outputId": "fd04e0b9-661d-4765-fa57-43393ddb1f3b"
      },
      "source": [
        "glovedf"
      ],
      "execution_count": 63,
      "outputs": [
        {
          "output_type": "execute_result",
          "data": {
            "text/html": [
              "<div>\n",
              "<style scoped>\n",
              "    .dataframe tbody tr th:only-of-type {\n",
              "        vertical-align: middle;\n",
              "    }\n",
              "\n",
              "    .dataframe tbody tr th {\n",
              "        vertical-align: top;\n",
              "    }\n",
              "\n",
              "    .dataframe thead th {\n",
              "        text-align: right;\n",
              "    }\n",
              "</style>\n",
              "<table border=\"1\" class=\"dataframe\">\n",
              "  <thead>\n",
              "    <tr style=\"text-align: right;\">\n",
              "      <th></th>\n",
              "      <th>content</th>\n",
              "      <th>Reliability</th>\n",
              "      <th>Polarity</th>\n",
              "      <th>Subjectivity</th>\n",
              "    </tr>\n",
              "  </thead>\n",
              "  <tbody>\n",
              "    <tr>\n",
              "      <th>0</th>\n",
              "      <td>Students could take SAT at home if schools rem...</td>\n",
              "      <td>0</td>\n",
              "      <td>0.079265</td>\n",
              "      <td>0.395490</td>\n",
              "    </tr>\n",
              "    <tr>\n",
              "      <th>1</th>\n",
              "      <td>Detroit facing fresh fiscal woes with coronavi...</td>\n",
              "      <td>0</td>\n",
              "      <td>0.072199</td>\n",
              "      <td>0.433984</td>\n",
              "    </tr>\n",
              "    <tr>\n",
              "      <th>2</th>\n",
              "      <td>Thousands protest Michigan governor's social d...</td>\n",
              "      <td>0</td>\n",
              "      <td>-0.072874</td>\n",
              "      <td>0.411442</td>\n",
              "    </tr>\n",
              "    <tr>\n",
              "      <th>3</th>\n",
              "      <td>Baltimore Police defends planned aerial survei...</td>\n",
              "      <td>0</td>\n",
              "      <td>0.033147</td>\n",
              "      <td>0.602930</td>\n",
              "    </tr>\n",
              "    <tr>\n",
              "      <th>4</th>\n",
              "      <td>Attorney who fought for civil rights in Louisi...</td>\n",
              "      <td>0</td>\n",
              "      <td>0.185473</td>\n",
              "      <td>0.484764</td>\n",
              "    </tr>\n",
              "    <tr>\n",
              "      <th>...</th>\n",
              "      <td>...</td>\n",
              "      <td>...</td>\n",
              "      <td>...</td>\n",
              "      <td>...</td>\n",
              "    </tr>\n",
              "    <tr>\n",
              "      <th>1995</th>\n",
              "      <td>North Korea Power Vacuum Brings US And China T...</td>\n",
              "      <td>1</td>\n",
              "      <td>0.292932</td>\n",
              "      <td>0.317857</td>\n",
              "    </tr>\n",
              "    <tr>\n",
              "      <th>1996</th>\n",
              "      <td>Twitter Suspends Account of Biotech Company Te...</td>\n",
              "      <td>1</td>\n",
              "      <td>0.094251</td>\n",
              "      <td>0.485027</td>\n",
              "    </tr>\n",
              "    <tr>\n",
              "      <th>1997</th>\n",
              "      <td>Riots Have Started In Venezuela! Will It Come ...</td>\n",
              "      <td>1</td>\n",
              "      <td>0.000000</td>\n",
              "      <td>0.000000</td>\n",
              "    </tr>\n",
              "    <tr>\n",
              "      <th>1998</th>\n",
              "      <td>True Coronavirus Death Toll Likely 60% Higher ...</td>\n",
              "      <td>1</td>\n",
              "      <td>0.065671</td>\n",
              "      <td>0.461993</td>\n",
              "    </tr>\n",
              "    <tr>\n",
              "      <th>1999</th>\n",
              "      <td>WHO Mysteriously Deletes Tweet About Reinfecti...</td>\n",
              "      <td>1</td>\n",
              "      <td>0.117919</td>\n",
              "      <td>0.447147</td>\n",
              "    </tr>\n",
              "  </tbody>\n",
              "</table>\n",
              "<p>2000 rows × 4 columns</p>\n",
              "</div>"
            ],
            "text/plain": [
              "                                                content  ...  Subjectivity\n",
              "0     Students could take SAT at home if schools rem...  ...      0.395490\n",
              "1     Detroit facing fresh fiscal woes with coronavi...  ...      0.433984\n",
              "2     Thousands protest Michigan governor's social d...  ...      0.411442\n",
              "3     Baltimore Police defends planned aerial survei...  ...      0.602930\n",
              "4     Attorney who fought for civil rights in Louisi...  ...      0.484764\n",
              "...                                                 ...  ...           ...\n",
              "1995  North Korea Power Vacuum Brings US And China T...  ...      0.317857\n",
              "1996  Twitter Suspends Account of Biotech Company Te...  ...      0.485027\n",
              "1997  Riots Have Started In Venezuela! Will It Come ...  ...      0.000000\n",
              "1998  True Coronavirus Death Toll Likely 60% Higher ...  ...      0.461993\n",
              "1999  WHO Mysteriously Deletes Tweet About Reinfecti...  ...      0.447147\n",
              "\n",
              "[2000 rows x 4 columns]"
            ]
          },
          "metadata": {
            "tags": []
          },
          "execution_count": 63
        }
      ]
    },
    {
      "cell_type": "code",
      "metadata": {
        "colab": {
          "base_uri": "https://localhost:8080/",
          "height": 415
        },
        "id": "burIkC2El8mb",
        "outputId": "d9213060-2a72-4e1a-dec2-cdbcf6f90041"
      },
      "source": [
        "contentglove"
      ],
      "execution_count": 64,
      "outputs": [
        {
          "output_type": "execute_result",
          "data": {
            "text/html": [
              "<div>\n",
              "<style scoped>\n",
              "    .dataframe tbody tr th:only-of-type {\n",
              "        vertical-align: middle;\n",
              "    }\n",
              "\n",
              "    .dataframe tbody tr th {\n",
              "        vertical-align: top;\n",
              "    }\n",
              "\n",
              "    .dataframe thead th {\n",
              "        text-align: right;\n",
              "    }\n",
              "</style>\n",
              "<table border=\"1\" class=\"dataframe\">\n",
              "  <thead>\n",
              "    <tr style=\"text-align: right;\">\n",
              "      <th></th>\n",
              "      <th>content</th>\n",
              "    </tr>\n",
              "  </thead>\n",
              "  <tbody>\n",
              "    <tr>\n",
              "      <th>0</th>\n",
              "      <td>Students could take SAT at home if schools rem...</td>\n",
              "    </tr>\n",
              "    <tr>\n",
              "      <th>1</th>\n",
              "      <td>Detroit facing fresh fiscal woes with coronavi...</td>\n",
              "    </tr>\n",
              "    <tr>\n",
              "      <th>2</th>\n",
              "      <td>Thousands protest Michigan governor's social d...</td>\n",
              "    </tr>\n",
              "    <tr>\n",
              "      <th>3</th>\n",
              "      <td>Baltimore Police defends planned aerial survei...</td>\n",
              "    </tr>\n",
              "    <tr>\n",
              "      <th>4</th>\n",
              "      <td>Attorney who fought for civil rights in Louisi...</td>\n",
              "    </tr>\n",
              "    <tr>\n",
              "      <th>...</th>\n",
              "      <td>...</td>\n",
              "    </tr>\n",
              "    <tr>\n",
              "      <th>1995</th>\n",
              "      <td>North Korea Power Vacuum Brings US And China T...</td>\n",
              "    </tr>\n",
              "    <tr>\n",
              "      <th>1996</th>\n",
              "      <td>Twitter Suspends Account of Biotech Company Te...</td>\n",
              "    </tr>\n",
              "    <tr>\n",
              "      <th>1997</th>\n",
              "      <td>Riots Have Started In Venezuela! Will It Come ...</td>\n",
              "    </tr>\n",
              "    <tr>\n",
              "      <th>1998</th>\n",
              "      <td>True Coronavirus Death Toll Likely 60% Higher ...</td>\n",
              "    </tr>\n",
              "    <tr>\n",
              "      <th>1999</th>\n",
              "      <td>WHO Mysteriously Deletes Tweet About Reinfecti...</td>\n",
              "    </tr>\n",
              "  </tbody>\n",
              "</table>\n",
              "<p>2000 rows × 1 columns</p>\n",
              "</div>"
            ],
            "text/plain": [
              "                                                content\n",
              "0     Students could take SAT at home if schools rem...\n",
              "1     Detroit facing fresh fiscal woes with coronavi...\n",
              "2     Thousands protest Michigan governor's social d...\n",
              "3     Baltimore Police defends planned aerial survei...\n",
              "4     Attorney who fought for civil rights in Louisi...\n",
              "...                                                 ...\n",
              "1995  North Korea Power Vacuum Brings US And China T...\n",
              "1996  Twitter Suspends Account of Biotech Company Te...\n",
              "1997  Riots Have Started In Venezuela! Will It Come ...\n",
              "1998  True Coronavirus Death Toll Likely 60% Higher ...\n",
              "1999  WHO Mysteriously Deletes Tweet About Reinfecti...\n",
              "\n",
              "[2000 rows x 1 columns]"
            ]
          },
          "metadata": {
            "tags": []
          },
          "execution_count": 64
        }
      ]
    },
    {
      "cell_type": "code",
      "metadata": {
        "id": "UkKpPmjJaMGJ"
      },
      "source": [
        "cleantext = contentglove['content'].apply(rem_noise)\r\n",
        "cleantext = cleantext.apply(rem_stopwords)"
      ],
      "execution_count": 65,
      "outputs": []
    },
    {
      "cell_type": "code",
      "metadata": {
        "id": "OWDnPrzJam0O"
      },
      "source": [
        "x = cleantext.values\r\n",
        "y = glovedf['Reliability']"
      ],
      "execution_count": 66,
      "outputs": []
    },
    {
      "cell_type": "code",
      "metadata": {
        "id": "NyLS_GB8a5V8"
      },
      "source": [
        "tokenizer = Tokenizer()\r\n",
        "tokenizer.fit_on_texts(x)\r\n",
        "word_to_index = tokenizer.word_index\r\n",
        "contentSequence = tokenizer.texts_to_sequences(x)"
      ],
      "execution_count": 68,
      "outputs": []
    },
    {
      "cell_type": "code",
      "metadata": {
        "id": "2Hcqditfa7xO"
      },
      "source": [
        "vocab_size =  len(word_to_index)\r\n",
        "oov_tok = \"<OOV>\"\r\n",
        "max_length = 250\r\n",
        "embedding_dim = 100"
      ],
      "execution_count": 69,
      "outputs": []
    },
    {
      "cell_type": "code",
      "metadata": {
        "id": "t8p2HTSTa98V"
      },
      "source": [
        "contentSequence = pad_sequences(contentSequence, maxlen=max_length)"
      ],
      "execution_count": 70,
      "outputs": []
    },
    {
      "cell_type": "code",
      "metadata": {
        "colab": {
          "base_uri": "https://localhost:8080/"
        },
        "id": "PuvYkX5jbGGN",
        "outputId": "33f10b18-f0d1-457e-b36d-b50aca7d56a3"
      },
      "source": [
        "contentSequence"
      ],
      "execution_count": 71,
      "outputs": [
        {
          "output_type": "execute_result",
          "data": {
            "text/plain": [
              "array([[ 6267,     7,  2872, ...,   726,    70,   617],\n",
              "       [    1,  1425,  3418, ...,   889,     2, 22553],\n",
              "       [13632,     2,   550, ...,     2,    35,   136],\n",
              "       ...,\n",
              "       [    0,     0,     0, ...,   259,    39,    10],\n",
              "       [  563,   326,     9, ...,    95,    12,   939],\n",
              "       [ 7181,   240,    65, ...,    40, 38488,   282]], dtype=int32)"
            ]
          },
          "metadata": {
            "tags": []
          },
          "execution_count": 71
        }
      ]
    },
    {
      "cell_type": "markdown",
      "metadata": {
        "id": "JdctrxVZbOAX"
      },
      "source": [
        "#Glove Embedding"
      ]
    },
    {
      "cell_type": "code",
      "metadata": {
        "id": "AziXcZ9ybJK8"
      },
      "source": [
        "# load the whole embedding into memory\r\n",
        "\r\n",
        "embeddings_index = {};\r\n",
        "with open('/content/drive/My Drive/glove.6B.100d.txt') as f:\r\n",
        "    for line in f:\r\n",
        "        values = line.split();\r\n",
        "        word = values[0];\r\n",
        "        coefs = np.asarray(values[1:], dtype='float32');\r\n",
        "        embeddings_index[word] = coefs;\r\n",
        "\r\n",
        "# create a weight matrix for words\r\n",
        "\r\n",
        "embeddings_matrix = np.zeros((vocab_size+1, embedding_dim));\r\n",
        "for word, i in word_to_index.items():\r\n",
        "    embedding_vector = embeddings_index.get(word);\r\n",
        "    if embedding_vector is not None:\r\n",
        "        embeddings_matrix[i] = embedding_vector;"
      ],
      "execution_count": 72,
      "outputs": []
    },
    {
      "cell_type": "code",
      "metadata": {
        "colab": {
          "base_uri": "https://localhost:8080/"
        },
        "id": "PGpHjufzbP53",
        "outputId": "65682a68-d73f-42a0-9bf9-91a2187c0b34"
      },
      "source": [
        "embeddings_matrix"
      ],
      "execution_count": 73,
      "outputs": [
        {
          "output_type": "execute_result",
          "data": {
            "text/plain": [
              "array([[ 0.        ,  0.        ,  0.        , ...,  0.        ,\n",
              "         0.        ,  0.        ],\n",
              "       [-0.038194  , -0.24487001,  0.72812003, ..., -0.1459    ,\n",
              "         0.82779998,  0.27061999],\n",
              "       [-0.18970001,  0.050024  ,  0.19084001, ..., -0.39804   ,\n",
              "         0.47646999, -0.15983   ],\n",
              "       ...,\n",
              "       [-0.47986999, -0.26526999,  0.59833997, ..., -0.81400001,\n",
              "         0.065616  ,  0.38069001],\n",
              "       [-0.38696   , -0.32319   ,  0.1393    , ..., -0.73497999,\n",
              "        -0.31455001, -0.44358   ],\n",
              "       [-0.10358   ,  0.75185001,  0.095333  , ..., -0.96350998,\n",
              "        -0.37919   ,  1.15339994]])"
            ]
          },
          "metadata": {
            "tags": []
          },
          "execution_count": 73
        }
      ]
    },
    {
      "cell_type": "code",
      "metadata": {
        "colab": {
          "base_uri": "https://localhost:8080/"
        },
        "id": "KKdMbmDNlNhw",
        "outputId": "1942f7e6-7ce5-40e4-80d2-0503dda84f80"
      },
      "source": [
        "type (contentSequence)"
      ],
      "execution_count": 74,
      "outputs": [
        {
          "output_type": "execute_result",
          "data": {
            "text/plain": [
              "numpy.ndarray"
            ]
          },
          "metadata": {
            "tags": []
          },
          "execution_count": 74
        }
      ]
    },
    {
      "cell_type": "code",
      "metadata": {
        "id": "2hyOPyUWkcW6"
      },
      "source": [
        "df_lstm =  pd.DataFrame(contentSequence)\r\n",
        "df_lstm['polarity'] = smallerdf['Polarity'].values"
      ],
      "execution_count": 104,
      "outputs": []
    },
    {
      "cell_type": "code",
      "metadata": {
        "colab": {
          "base_uri": "https://localhost:8080/"
        },
        "id": "3MGaM9v1kwwJ",
        "outputId": "9f597eb5-c1bd-4469-bf5b-3298eb5992ca"
      },
      "source": [
        "df_lstm.shape"
      ],
      "execution_count": 105,
      "outputs": [
        {
          "output_type": "execute_result",
          "data": {
            "text/plain": [
              "(2000, 251)"
            ]
          },
          "metadata": {
            "tags": []
          },
          "execution_count": 105
        }
      ]
    },
    {
      "cell_type": "code",
      "metadata": {
        "id": "HC6TFkKMbS0Y"
      },
      "source": [
        "from sklearn.model_selection import train_test_split\r\n",
        "X_train,X_test,y_train,y_test = train_test_split(df_lstm,y,test_size=0.20,random_state=1)"
      ],
      "execution_count": 119,
      "outputs": []
    },
    {
      "cell_type": "code",
      "metadata": {
        "colab": {
          "base_uri": "https://localhost:8080/"
        },
        "id": "Saa2dW4Rjo0M",
        "outputId": "bc16223c-d263-4d79-c94d-175a7c4a07a7"
      },
      "source": [
        "X_train.columns"
      ],
      "execution_count": 113,
      "outputs": [
        {
          "output_type": "execute_result",
          "data": {
            "text/plain": [
              "Index([         0,          1,          2,          3,          4,          5,\n",
              "                6,          7,          8,          9,\n",
              "       ...\n",
              "              241,        242,        243,        244,        245,        246,\n",
              "              247,        248,        249, 'polarity'],\n",
              "      dtype='object', length=251)"
            ]
          },
          "metadata": {
            "tags": []
          },
          "execution_count": 113
        }
      ]
    },
    {
      "cell_type": "code",
      "metadata": {
        "colab": {
          "base_uri": "https://localhost:8080/",
          "height": 339
        },
        "id": "kRyr7oFwbhAo",
        "outputId": "1ec5898b-07f7-4f07-f196-66ee6efbc64c"
      },
      "source": [
        "polarity = X_train.polarity.values\r\n",
        "X_train = X_train.drop(['polarity'], axis=1)"
      ],
      "execution_count": 159,
      "outputs": [
        {
          "output_type": "error",
          "ename": "AttributeError",
          "evalue": "ignored",
          "traceback": [
            "\u001b[0;31m---------------------------------------------------------------------------\u001b[0m",
            "\u001b[0;31mAttributeError\u001b[0m                            Traceback (most recent call last)",
            "\u001b[0;32m<ipython-input-159-6ab9c09fad8d>\u001b[0m in \u001b[0;36m<module>\u001b[0;34m()\u001b[0m\n\u001b[0;32m----> 1\u001b[0;31m \u001b[0mpolarity\u001b[0m \u001b[0;34m=\u001b[0m \u001b[0mX_train\u001b[0m\u001b[0;34m.\u001b[0m\u001b[0mpolarity\u001b[0m\u001b[0;34m.\u001b[0m\u001b[0mvalues\u001b[0m\u001b[0;34m\u001b[0m\u001b[0;34m\u001b[0m\u001b[0m\n\u001b[0m\u001b[1;32m      2\u001b[0m \u001b[0mX_train\u001b[0m \u001b[0;34m=\u001b[0m \u001b[0mX_train\u001b[0m\u001b[0;34m.\u001b[0m\u001b[0mdrop\u001b[0m\u001b[0;34m(\u001b[0m\u001b[0;34m[\u001b[0m\u001b[0;34m'polarity'\u001b[0m\u001b[0;34m]\u001b[0m\u001b[0;34m,\u001b[0m \u001b[0maxis\u001b[0m\u001b[0;34m=\u001b[0m\u001b[0;36m1\u001b[0m\u001b[0;34m)\u001b[0m\u001b[0;34m\u001b[0m\u001b[0;34m\u001b[0m\u001b[0m\n\u001b[1;32m      3\u001b[0m \u001b[0mpolarity_xtest\u001b[0m \u001b[0;34m=\u001b[0m \u001b[0mX_test\u001b[0m\u001b[0;34m.\u001b[0m\u001b[0mpolarity\u001b[0m\u001b[0;34m.\u001b[0m\u001b[0mvalues\u001b[0m\u001b[0;34m\u001b[0m\u001b[0;34m\u001b[0m\u001b[0m\n\u001b[1;32m      4\u001b[0m \u001b[0mX_test\u001b[0m \u001b[0;34m=\u001b[0m \u001b[0mX_test\u001b[0m\u001b[0;34m.\u001b[0m\u001b[0mdrop\u001b[0m\u001b[0;34m(\u001b[0m\u001b[0;34m[\u001b[0m\u001b[0;34m'polarity'\u001b[0m\u001b[0;34m]\u001b[0m\u001b[0;34m,\u001b[0m \u001b[0maxis\u001b[0m\u001b[0;34m=\u001b[0m\u001b[0;36m1\u001b[0m\u001b[0;34m)\u001b[0m\u001b[0;34m\u001b[0m\u001b[0;34m\u001b[0m\u001b[0m\n",
            "\u001b[0;32m/usr/local/lib/python3.7/dist-packages/pandas/core/generic.py\u001b[0m in \u001b[0;36m__getattr__\u001b[0;34m(self, name)\u001b[0m\n\u001b[1;32m   5139\u001b[0m             \u001b[0;32mif\u001b[0m \u001b[0mself\u001b[0m\u001b[0;34m.\u001b[0m\u001b[0m_info_axis\u001b[0m\u001b[0;34m.\u001b[0m\u001b[0m_can_hold_identifiers_and_holds_name\u001b[0m\u001b[0;34m(\u001b[0m\u001b[0mname\u001b[0m\u001b[0;34m)\u001b[0m\u001b[0;34m:\u001b[0m\u001b[0;34m\u001b[0m\u001b[0;34m\u001b[0m\u001b[0m\n\u001b[1;32m   5140\u001b[0m                 \u001b[0;32mreturn\u001b[0m \u001b[0mself\u001b[0m\u001b[0;34m[\u001b[0m\u001b[0mname\u001b[0m\u001b[0;34m]\u001b[0m\u001b[0;34m\u001b[0m\u001b[0;34m\u001b[0m\u001b[0m\n\u001b[0;32m-> 5141\u001b[0;31m             \u001b[0;32mreturn\u001b[0m \u001b[0mobject\u001b[0m\u001b[0;34m.\u001b[0m\u001b[0m__getattribute__\u001b[0m\u001b[0;34m(\u001b[0m\u001b[0mself\u001b[0m\u001b[0;34m,\u001b[0m \u001b[0mname\u001b[0m\u001b[0;34m)\u001b[0m\u001b[0;34m\u001b[0m\u001b[0;34m\u001b[0m\u001b[0m\n\u001b[0m\u001b[1;32m   5142\u001b[0m \u001b[0;34m\u001b[0m\u001b[0m\n\u001b[1;32m   5143\u001b[0m     \u001b[0;32mdef\u001b[0m \u001b[0m__setattr__\u001b[0m\u001b[0;34m(\u001b[0m\u001b[0mself\u001b[0m\u001b[0;34m,\u001b[0m \u001b[0mname\u001b[0m\u001b[0;34m:\u001b[0m \u001b[0mstr\u001b[0m\u001b[0;34m,\u001b[0m \u001b[0mvalue\u001b[0m\u001b[0;34m)\u001b[0m \u001b[0;34m->\u001b[0m \u001b[0;32mNone\u001b[0m\u001b[0;34m:\u001b[0m\u001b[0;34m\u001b[0m\u001b[0;34m\u001b[0m\u001b[0m\n",
            "\u001b[0;31mAttributeError\u001b[0m: 'DataFrame' object has no attribute 'polarity'"
          ]
        }
      ]
    },
    {
      "cell_type": "code",
      "metadata": {
        "id": "5S6AKnQoaBFy"
      },
      "source": [
        "polarity_xtest = X_test.polarity.values\r\n",
        "X_test = X_test.drop(['polarity'], axis=1)"
      ],
      "execution_count": 160,
      "outputs": []
    },
    {
      "cell_type": "code",
      "metadata": {
        "colab": {
          "base_uri": "https://localhost:8080/"
        },
        "id": "0C7LtWDcbiA8",
        "outputId": "1eec29a5-27da-49d9-ec78-343b972cd5b8"
      },
      "source": [
        "X_train.shape"
      ],
      "execution_count": 140,
      "outputs": [
        {
          "output_type": "execute_result",
          "data": {
            "text/plain": [
              "(1600, 250)"
            ]
          },
          "metadata": {
            "tags": []
          },
          "execution_count": 140
        }
      ]
    },
    {
      "cell_type": "markdown",
      "metadata": {
        "id": "Y2owNA5hbp3S"
      },
      "source": [
        "# Defining Neural Network"
      ]
    },
    {
      "cell_type": "code",
      "metadata": {
        "id": "hxAiUEZtbm2L"
      },
      "source": [
        "#model = Sequential()\r\n",
        "#Non-trainable embeddidng layer\r\n",
        "#model.add(Embedding(vocab_size+1, output_dim=embedding_dim, weights=[embeddings_matrix], input_length=max_length, trainable=False))\r\n",
        "#LSTM \r\n",
        "#model.add(LSTM(units=128, dropout=0.2))\r\n",
        "#model.add(Dense(1, activation='sigmoid'))\r\n",
        "#model.compile(optimizer='adam', loss='binary_crossentropy', metrics=['accuracy'])\r\n"
      ],
      "execution_count": null,
      "outputs": []
    },
    {
      "cell_type": "code",
      "metadata": {
        "id": "r1WPc6LyxLTx"
      },
      "source": [
        "#Defining Neural Network\r\n",
        "model = Sequential()\r\n",
        "#Non-trainable embeddidng layer\r\n",
        "model.add(Embedding(vocab_size+1, output_dim=embedding_dim, weights=[embeddings_matrix], input_length=max_length, trainable=False))\r\n",
        "model.add(LSTM(units=128 , return_sequences = True , recurrent_dropout = 0.25 , dropout = 0.25))\r\n",
        "model.add(LSTM(units=64 , recurrent_dropout = 0.1 , dropout = 0.1))\r\n",
        "model.compile(optimizer='adam', loss='binary_crossentropy', metrics=['accuracy'])"
      ],
      "execution_count": 146,
      "outputs": []
    },
    {
      "cell_type": "code",
      "metadata": {
        "colab": {
          "base_uri": "https://localhost:8080/"
        },
        "id": "kqkvZ4SRYoPz",
        "outputId": "d36261db-32d1-4019-aa3d-b52aa25cd4ee"
      },
      "source": [
        "model.summary()"
      ],
      "execution_count": 147,
      "outputs": [
        {
          "output_type": "stream",
          "text": [
            "Model: \"sequential_10\"\n",
            "_________________________________________________________________\n",
            "Layer (type)                 Output Shape              Param #   \n",
            "=================================================================\n",
            "embedding_8 (Embedding)      (None, 250, 100)          3848900   \n",
            "_________________________________________________________________\n",
            "lstm_14 (LSTM)               (None, 250, 128)          117248    \n",
            "_________________________________________________________________\n",
            "lstm_15 (LSTM)               (None, 64)                49408     \n",
            "=================================================================\n",
            "Total params: 4,015,556\n",
            "Trainable params: 166,656\n",
            "Non-trainable params: 3,848,900\n",
            "_________________________________________________________________\n"
          ],
          "name": "stdout"
        }
      ]
    },
    {
      "cell_type": "code",
      "metadata": {
        "colab": {
          "base_uri": "https://localhost:8080/"
        },
        "id": "PDHy9IZcXYX7",
        "outputId": "c8575496-9ff4-4c8c-b88e-f086005a5c84"
      },
      "source": [
        "asd = model.fit(X_train, y_train, validation_data = (X_test,y_test) , epochs=20)"
      ],
      "execution_count": 148,
      "outputs": [
        {
          "output_type": "stream",
          "text": [
            "50/50 [==============================] - ETA: 0s - loss: 2.1692 - accuracy: 0.0218WARNING:tensorflow:Model was constructed with shape (None, 250) for input KerasTensor(type_spec=TensorSpec(shape=(None, 250), dtype=tf.float32, name='embedding_8_input'), name='embedding_8_input', description=\"created by layer 'embedding_8_input'\"), but it was called on an input with incompatible shape (None, 251).\n",
            "50/50 [==============================] - 51s 959ms/step - loss: 2.1604 - accuracy: 0.0219 - val_loss: 1.4855 - val_accuracy: 0.0000e+00\n"
          ],
          "name": "stdout"
        }
      ]
    },
    {
      "cell_type": "code",
      "metadata": {
        "id": "958zA_cuRq48"
      },
      "source": [
        "history = model.predict(X_train)"
      ],
      "execution_count": 149,
      "outputs": []
    },
    {
      "cell_type": "code",
      "metadata": {
        "id": "QPl0AQ8JZqMC"
      },
      "source": [
        "history2 = model.predict(X_test)"
      ],
      "execution_count": 161,
      "outputs": []
    },
    {
      "cell_type": "code",
      "metadata": {
        "id": "HakJypNQSGmH"
      },
      "source": [
        "temp = pd.DataFrame(history)"
      ],
      "execution_count": 150,
      "outputs": []
    },
    {
      "cell_type": "code",
      "metadata": {
        "id": "on0cFdqYaH59"
      },
      "source": [
        "temp2 = pd.DataFrame(history2)"
      ],
      "execution_count": 162,
      "outputs": []
    },
    {
      "cell_type": "code",
      "metadata": {
        "colab": {
          "base_uri": "https://localhost:8080/",
          "height": 435
        },
        "id": "QPfQ5d82URJ_",
        "outputId": "fef5073d-2bc8-4f23-e0b3-e9bacb8e60ab"
      },
      "source": [
        "temp"
      ],
      "execution_count": 151,
      "outputs": [
        {
          "output_type": "execute_result",
          "data": {
            "text/html": [
              "<div>\n",
              "<style scoped>\n",
              "    .dataframe tbody tr th:only-of-type {\n",
              "        vertical-align: middle;\n",
              "    }\n",
              "\n",
              "    .dataframe tbody tr th {\n",
              "        vertical-align: top;\n",
              "    }\n",
              "\n",
              "    .dataframe thead th {\n",
              "        text-align: right;\n",
              "    }\n",
              "</style>\n",
              "<table border=\"1\" class=\"dataframe\">\n",
              "  <thead>\n",
              "    <tr style=\"text-align: right;\">\n",
              "      <th></th>\n",
              "      <th>0</th>\n",
              "      <th>1</th>\n",
              "      <th>2</th>\n",
              "      <th>3</th>\n",
              "      <th>4</th>\n",
              "      <th>5</th>\n",
              "      <th>6</th>\n",
              "      <th>7</th>\n",
              "      <th>8</th>\n",
              "      <th>9</th>\n",
              "      <th>10</th>\n",
              "      <th>11</th>\n",
              "      <th>12</th>\n",
              "      <th>13</th>\n",
              "      <th>14</th>\n",
              "      <th>15</th>\n",
              "      <th>16</th>\n",
              "      <th>17</th>\n",
              "      <th>18</th>\n",
              "      <th>19</th>\n",
              "      <th>20</th>\n",
              "      <th>21</th>\n",
              "      <th>22</th>\n",
              "      <th>23</th>\n",
              "      <th>24</th>\n",
              "      <th>25</th>\n",
              "      <th>26</th>\n",
              "      <th>27</th>\n",
              "      <th>28</th>\n",
              "      <th>29</th>\n",
              "      <th>30</th>\n",
              "      <th>31</th>\n",
              "      <th>32</th>\n",
              "      <th>33</th>\n",
              "      <th>34</th>\n",
              "      <th>35</th>\n",
              "      <th>36</th>\n",
              "      <th>37</th>\n",
              "      <th>38</th>\n",
              "      <th>39</th>\n",
              "      <th>40</th>\n",
              "      <th>41</th>\n",
              "      <th>42</th>\n",
              "      <th>43</th>\n",
              "      <th>44</th>\n",
              "      <th>45</th>\n",
              "      <th>46</th>\n",
              "      <th>47</th>\n",
              "      <th>48</th>\n",
              "      <th>49</th>\n",
              "      <th>50</th>\n",
              "      <th>51</th>\n",
              "      <th>52</th>\n",
              "      <th>53</th>\n",
              "      <th>54</th>\n",
              "      <th>55</th>\n",
              "      <th>56</th>\n",
              "      <th>57</th>\n",
              "      <th>58</th>\n",
              "      <th>59</th>\n",
              "      <th>60</th>\n",
              "      <th>61</th>\n",
              "      <th>62</th>\n",
              "      <th>63</th>\n",
              "    </tr>\n",
              "  </thead>\n",
              "  <tbody>\n",
              "    <tr>\n",
              "      <th>0</th>\n",
              "      <td>0.465374</td>\n",
              "      <td>0.425231</td>\n",
              "      <td>0.534107</td>\n",
              "      <td>0.485684</td>\n",
              "      <td>0.503477</td>\n",
              "      <td>0.507211</td>\n",
              "      <td>0.464206</td>\n",
              "      <td>0.421806</td>\n",
              "      <td>0.484690</td>\n",
              "      <td>0.442519</td>\n",
              "      <td>0.429844</td>\n",
              "      <td>0.541507</td>\n",
              "      <td>-0.732738</td>\n",
              "      <td>0.578272</td>\n",
              "      <td>0.529422</td>\n",
              "      <td>0.393195</td>\n",
              "      <td>0.458287</td>\n",
              "      <td>0.419714</td>\n",
              "      <td>0.512434</td>\n",
              "      <td>0.537412</td>\n",
              "      <td>0.499432</td>\n",
              "      <td>-0.067170</td>\n",
              "      <td>0.528073</td>\n",
              "      <td>0.517588</td>\n",
              "      <td>0.458213</td>\n",
              "      <td>0.510709</td>\n",
              "      <td>0.456946</td>\n",
              "      <td>0.481728</td>\n",
              "      <td>0.535610</td>\n",
              "      <td>0.456969</td>\n",
              "      <td>0.498937</td>\n",
              "      <td>0.473994</td>\n",
              "      <td>0.604302</td>\n",
              "      <td>0.483883</td>\n",
              "      <td>-0.517159</td>\n",
              "      <td>-0.568059</td>\n",
              "      <td>0.456076</td>\n",
              "      <td>-0.553271</td>\n",
              "      <td>0.562946</td>\n",
              "      <td>0.438584</td>\n",
              "      <td>0.523384</td>\n",
              "      <td>0.565121</td>\n",
              "      <td>0.507102</td>\n",
              "      <td>0.409788</td>\n",
              "      <td>0.456303</td>\n",
              "      <td>0.442063</td>\n",
              "      <td>0.423455</td>\n",
              "      <td>-0.626789</td>\n",
              "      <td>0.465070</td>\n",
              "      <td>0.440239</td>\n",
              "      <td>-0.075667</td>\n",
              "      <td>0.502889</td>\n",
              "      <td>0.466749</td>\n",
              "      <td>0.464745</td>\n",
              "      <td>0.501957</td>\n",
              "      <td>0.498299</td>\n",
              "      <td>0.548008</td>\n",
              "      <td>0.472718</td>\n",
              "      <td>0.468364</td>\n",
              "      <td>0.443253</td>\n",
              "      <td>0.505955</td>\n",
              "      <td>0.557881</td>\n",
              "      <td>0.475056</td>\n",
              "      <td>0.568741</td>\n",
              "    </tr>\n",
              "    <tr>\n",
              "      <th>1</th>\n",
              "      <td>0.448326</td>\n",
              "      <td>0.431871</td>\n",
              "      <td>0.529470</td>\n",
              "      <td>0.494753</td>\n",
              "      <td>0.520314</td>\n",
              "      <td>0.501129</td>\n",
              "      <td>0.430486</td>\n",
              "      <td>0.460250</td>\n",
              "      <td>0.475191</td>\n",
              "      <td>0.430131</td>\n",
              "      <td>0.413955</td>\n",
              "      <td>0.529717</td>\n",
              "      <td>-0.685744</td>\n",
              "      <td>0.537686</td>\n",
              "      <td>0.510788</td>\n",
              "      <td>0.413629</td>\n",
              "      <td>0.448786</td>\n",
              "      <td>0.440976</td>\n",
              "      <td>0.507613</td>\n",
              "      <td>0.511871</td>\n",
              "      <td>0.479566</td>\n",
              "      <td>-0.017324</td>\n",
              "      <td>0.507503</td>\n",
              "      <td>0.493305</td>\n",
              "      <td>0.464447</td>\n",
              "      <td>0.488948</td>\n",
              "      <td>0.460440</td>\n",
              "      <td>0.492404</td>\n",
              "      <td>0.533508</td>\n",
              "      <td>0.444389</td>\n",
              "      <td>0.485955</td>\n",
              "      <td>0.492307</td>\n",
              "      <td>0.626525</td>\n",
              "      <td>0.509878</td>\n",
              "      <td>-0.486588</td>\n",
              "      <td>-0.551183</td>\n",
              "      <td>0.459427</td>\n",
              "      <td>-0.513848</td>\n",
              "      <td>0.523413</td>\n",
              "      <td>0.456554</td>\n",
              "      <td>0.490347</td>\n",
              "      <td>0.543193</td>\n",
              "      <td>0.507539</td>\n",
              "      <td>0.406119</td>\n",
              "      <td>0.444729</td>\n",
              "      <td>0.414959</td>\n",
              "      <td>0.431476</td>\n",
              "      <td>-0.620864</td>\n",
              "      <td>0.467544</td>\n",
              "      <td>0.426982</td>\n",
              "      <td>-0.056605</td>\n",
              "      <td>0.477474</td>\n",
              "      <td>0.473663</td>\n",
              "      <td>0.458205</td>\n",
              "      <td>0.508480</td>\n",
              "      <td>0.500067</td>\n",
              "      <td>0.488606</td>\n",
              "      <td>0.489746</td>\n",
              "      <td>0.439617</td>\n",
              "      <td>0.440779</td>\n",
              "      <td>0.519787</td>\n",
              "      <td>0.538878</td>\n",
              "      <td>0.436533</td>\n",
              "      <td>0.581807</td>\n",
              "    </tr>\n",
              "    <tr>\n",
              "      <th>2</th>\n",
              "      <td>0.456935</td>\n",
              "      <td>0.436147</td>\n",
              "      <td>0.554481</td>\n",
              "      <td>0.478922</td>\n",
              "      <td>0.512050</td>\n",
              "      <td>0.514153</td>\n",
              "      <td>0.427425</td>\n",
              "      <td>0.458622</td>\n",
              "      <td>0.495808</td>\n",
              "      <td>0.429602</td>\n",
              "      <td>0.434261</td>\n",
              "      <td>0.524108</td>\n",
              "      <td>-0.708675</td>\n",
              "      <td>0.544192</td>\n",
              "      <td>0.507244</td>\n",
              "      <td>0.414115</td>\n",
              "      <td>0.453180</td>\n",
              "      <td>0.410506</td>\n",
              "      <td>0.486250</td>\n",
              "      <td>0.511548</td>\n",
              "      <td>0.473581</td>\n",
              "      <td>0.016855</td>\n",
              "      <td>0.512026</td>\n",
              "      <td>0.497957</td>\n",
              "      <td>0.457943</td>\n",
              "      <td>0.501028</td>\n",
              "      <td>0.464862</td>\n",
              "      <td>0.506736</td>\n",
              "      <td>0.534029</td>\n",
              "      <td>0.458000</td>\n",
              "      <td>0.481321</td>\n",
              "      <td>0.478396</td>\n",
              "      <td>0.614525</td>\n",
              "      <td>0.496329</td>\n",
              "      <td>-0.507645</td>\n",
              "      <td>-0.545142</td>\n",
              "      <td>0.436124</td>\n",
              "      <td>-0.501339</td>\n",
              "      <td>0.513021</td>\n",
              "      <td>0.452242</td>\n",
              "      <td>0.502849</td>\n",
              "      <td>0.562157</td>\n",
              "      <td>0.494063</td>\n",
              "      <td>0.411087</td>\n",
              "      <td>0.437517</td>\n",
              "      <td>0.434155</td>\n",
              "      <td>0.414082</td>\n",
              "      <td>-0.622018</td>\n",
              "      <td>0.478979</td>\n",
              "      <td>0.416241</td>\n",
              "      <td>-0.071266</td>\n",
              "      <td>0.485728</td>\n",
              "      <td>0.465279</td>\n",
              "      <td>0.465150</td>\n",
              "      <td>0.502961</td>\n",
              "      <td>0.507221</td>\n",
              "      <td>0.494240</td>\n",
              "      <td>0.472584</td>\n",
              "      <td>0.442607</td>\n",
              "      <td>0.455249</td>\n",
              "      <td>0.496697</td>\n",
              "      <td>0.536860</td>\n",
              "      <td>0.442527</td>\n",
              "      <td>0.583602</td>\n",
              "    </tr>\n",
              "    <tr>\n",
              "      <th>3</th>\n",
              "      <td>0.488494</td>\n",
              "      <td>0.425974</td>\n",
              "      <td>0.546831</td>\n",
              "      <td>0.509073</td>\n",
              "      <td>0.519652</td>\n",
              "      <td>0.513402</td>\n",
              "      <td>0.430494</td>\n",
              "      <td>0.479707</td>\n",
              "      <td>0.503564</td>\n",
              "      <td>0.429030</td>\n",
              "      <td>0.429004</td>\n",
              "      <td>0.541703</td>\n",
              "      <td>-0.690091</td>\n",
              "      <td>0.550276</td>\n",
              "      <td>0.490613</td>\n",
              "      <td>0.411253</td>\n",
              "      <td>0.466041</td>\n",
              "      <td>0.418721</td>\n",
              "      <td>0.503326</td>\n",
              "      <td>0.488622</td>\n",
              "      <td>0.456668</td>\n",
              "      <td>-0.038633</td>\n",
              "      <td>0.510386</td>\n",
              "      <td>0.493396</td>\n",
              "      <td>0.451534</td>\n",
              "      <td>0.517574</td>\n",
              "      <td>0.476805</td>\n",
              "      <td>0.489402</td>\n",
              "      <td>0.527270</td>\n",
              "      <td>0.453660</td>\n",
              "      <td>0.494939</td>\n",
              "      <td>0.481371</td>\n",
              "      <td>0.593815</td>\n",
              "      <td>0.530608</td>\n",
              "      <td>-0.483800</td>\n",
              "      <td>-0.568356</td>\n",
              "      <td>0.443747</td>\n",
              "      <td>-0.520248</td>\n",
              "      <td>0.533571</td>\n",
              "      <td>0.452879</td>\n",
              "      <td>0.517248</td>\n",
              "      <td>0.548372</td>\n",
              "      <td>0.501208</td>\n",
              "      <td>0.419741</td>\n",
              "      <td>0.449909</td>\n",
              "      <td>0.430681</td>\n",
              "      <td>0.435369</td>\n",
              "      <td>-0.629803</td>\n",
              "      <td>0.478851</td>\n",
              "      <td>0.427605</td>\n",
              "      <td>-0.067541</td>\n",
              "      <td>0.487422</td>\n",
              "      <td>0.452578</td>\n",
              "      <td>0.480769</td>\n",
              "      <td>0.510814</td>\n",
              "      <td>0.480506</td>\n",
              "      <td>0.518206</td>\n",
              "      <td>0.489197</td>\n",
              "      <td>0.437353</td>\n",
              "      <td>0.432906</td>\n",
              "      <td>0.500754</td>\n",
              "      <td>0.522880</td>\n",
              "      <td>0.435350</td>\n",
              "      <td>0.568978</td>\n",
              "    </tr>\n",
              "    <tr>\n",
              "      <th>4</th>\n",
              "      <td>0.474649</td>\n",
              "      <td>0.443712</td>\n",
              "      <td>0.525108</td>\n",
              "      <td>0.497537</td>\n",
              "      <td>0.517133</td>\n",
              "      <td>0.497546</td>\n",
              "      <td>0.442262</td>\n",
              "      <td>0.458859</td>\n",
              "      <td>0.477414</td>\n",
              "      <td>0.440856</td>\n",
              "      <td>0.422967</td>\n",
              "      <td>0.526012</td>\n",
              "      <td>-0.684623</td>\n",
              "      <td>0.543763</td>\n",
              "      <td>0.497028</td>\n",
              "      <td>0.406402</td>\n",
              "      <td>0.466779</td>\n",
              "      <td>0.429636</td>\n",
              "      <td>0.510744</td>\n",
              "      <td>0.510369</td>\n",
              "      <td>0.482866</td>\n",
              "      <td>-0.053277</td>\n",
              "      <td>0.504120</td>\n",
              "      <td>0.502651</td>\n",
              "      <td>0.465610</td>\n",
              "      <td>0.492452</td>\n",
              "      <td>0.447281</td>\n",
              "      <td>0.491733</td>\n",
              "      <td>0.538999</td>\n",
              "      <td>0.454173</td>\n",
              "      <td>0.488857</td>\n",
              "      <td>0.483327</td>\n",
              "      <td>0.608689</td>\n",
              "      <td>0.524570</td>\n",
              "      <td>-0.484217</td>\n",
              "      <td>-0.564841</td>\n",
              "      <td>0.458026</td>\n",
              "      <td>-0.521361</td>\n",
              "      <td>0.533667</td>\n",
              "      <td>0.458726</td>\n",
              "      <td>0.539156</td>\n",
              "      <td>0.547855</td>\n",
              "      <td>0.504777</td>\n",
              "      <td>0.427950</td>\n",
              "      <td>0.470376</td>\n",
              "      <td>0.420737</td>\n",
              "      <td>0.434350</td>\n",
              "      <td>-0.633862</td>\n",
              "      <td>0.469573</td>\n",
              "      <td>0.429287</td>\n",
              "      <td>-0.068865</td>\n",
              "      <td>0.500041</td>\n",
              "      <td>0.470003</td>\n",
              "      <td>0.471732</td>\n",
              "      <td>0.503148</td>\n",
              "      <td>0.492586</td>\n",
              "      <td>0.502893</td>\n",
              "      <td>0.477006</td>\n",
              "      <td>0.448986</td>\n",
              "      <td>0.445737</td>\n",
              "      <td>0.527823</td>\n",
              "      <td>0.528899</td>\n",
              "      <td>0.453645</td>\n",
              "      <td>0.568807</td>\n",
              "    </tr>\n",
              "    <tr>\n",
              "      <th>...</th>\n",
              "      <td>...</td>\n",
              "      <td>...</td>\n",
              "      <td>...</td>\n",
              "      <td>...</td>\n",
              "      <td>...</td>\n",
              "      <td>...</td>\n",
              "      <td>...</td>\n",
              "      <td>...</td>\n",
              "      <td>...</td>\n",
              "      <td>...</td>\n",
              "      <td>...</td>\n",
              "      <td>...</td>\n",
              "      <td>...</td>\n",
              "      <td>...</td>\n",
              "      <td>...</td>\n",
              "      <td>...</td>\n",
              "      <td>...</td>\n",
              "      <td>...</td>\n",
              "      <td>...</td>\n",
              "      <td>...</td>\n",
              "      <td>...</td>\n",
              "      <td>...</td>\n",
              "      <td>...</td>\n",
              "      <td>...</td>\n",
              "      <td>...</td>\n",
              "      <td>...</td>\n",
              "      <td>...</td>\n",
              "      <td>...</td>\n",
              "      <td>...</td>\n",
              "      <td>...</td>\n",
              "      <td>...</td>\n",
              "      <td>...</td>\n",
              "      <td>...</td>\n",
              "      <td>...</td>\n",
              "      <td>...</td>\n",
              "      <td>...</td>\n",
              "      <td>...</td>\n",
              "      <td>...</td>\n",
              "      <td>...</td>\n",
              "      <td>...</td>\n",
              "      <td>...</td>\n",
              "      <td>...</td>\n",
              "      <td>...</td>\n",
              "      <td>...</td>\n",
              "      <td>...</td>\n",
              "      <td>...</td>\n",
              "      <td>...</td>\n",
              "      <td>...</td>\n",
              "      <td>...</td>\n",
              "      <td>...</td>\n",
              "      <td>...</td>\n",
              "      <td>...</td>\n",
              "      <td>...</td>\n",
              "      <td>...</td>\n",
              "      <td>...</td>\n",
              "      <td>...</td>\n",
              "      <td>...</td>\n",
              "      <td>...</td>\n",
              "      <td>...</td>\n",
              "      <td>...</td>\n",
              "      <td>...</td>\n",
              "      <td>...</td>\n",
              "      <td>...</td>\n",
              "      <td>...</td>\n",
              "    </tr>\n",
              "    <tr>\n",
              "      <th>1595</th>\n",
              "      <td>0.470519</td>\n",
              "      <td>0.432628</td>\n",
              "      <td>0.553286</td>\n",
              "      <td>0.501862</td>\n",
              "      <td>0.459395</td>\n",
              "      <td>0.518220</td>\n",
              "      <td>0.434315</td>\n",
              "      <td>0.470959</td>\n",
              "      <td>0.463738</td>\n",
              "      <td>0.458154</td>\n",
              "      <td>0.404008</td>\n",
              "      <td>0.528329</td>\n",
              "      <td>-0.717506</td>\n",
              "      <td>0.546976</td>\n",
              "      <td>0.497378</td>\n",
              "      <td>0.371009</td>\n",
              "      <td>0.448148</td>\n",
              "      <td>0.449333</td>\n",
              "      <td>0.498159</td>\n",
              "      <td>0.542683</td>\n",
              "      <td>0.475404</td>\n",
              "      <td>0.004937</td>\n",
              "      <td>0.538441</td>\n",
              "      <td>0.503036</td>\n",
              "      <td>0.471516</td>\n",
              "      <td>0.513677</td>\n",
              "      <td>0.441517</td>\n",
              "      <td>0.465004</td>\n",
              "      <td>0.527312</td>\n",
              "      <td>0.446192</td>\n",
              "      <td>0.477291</td>\n",
              "      <td>0.478973</td>\n",
              "      <td>0.609362</td>\n",
              "      <td>0.492040</td>\n",
              "      <td>-0.480469</td>\n",
              "      <td>-0.564785</td>\n",
              "      <td>0.433482</td>\n",
              "      <td>-0.496956</td>\n",
              "      <td>0.548160</td>\n",
              "      <td>0.420512</td>\n",
              "      <td>0.546356</td>\n",
              "      <td>0.572467</td>\n",
              "      <td>0.518026</td>\n",
              "      <td>0.367048</td>\n",
              "      <td>0.461144</td>\n",
              "      <td>0.395082</td>\n",
              "      <td>0.415684</td>\n",
              "      <td>-0.649374</td>\n",
              "      <td>0.502385</td>\n",
              "      <td>0.432995</td>\n",
              "      <td>-0.082356</td>\n",
              "      <td>0.495044</td>\n",
              "      <td>0.501052</td>\n",
              "      <td>0.457870</td>\n",
              "      <td>0.548187</td>\n",
              "      <td>0.467268</td>\n",
              "      <td>0.528663</td>\n",
              "      <td>0.474301</td>\n",
              "      <td>0.440200</td>\n",
              "      <td>0.482958</td>\n",
              "      <td>0.454175</td>\n",
              "      <td>0.547709</td>\n",
              "      <td>0.461661</td>\n",
              "      <td>0.578485</td>\n",
              "    </tr>\n",
              "    <tr>\n",
              "      <th>1596</th>\n",
              "      <td>0.477358</td>\n",
              "      <td>0.451842</td>\n",
              "      <td>0.569152</td>\n",
              "      <td>0.503075</td>\n",
              "      <td>0.481797</td>\n",
              "      <td>0.514760</td>\n",
              "      <td>0.442253</td>\n",
              "      <td>0.475337</td>\n",
              "      <td>0.487804</td>\n",
              "      <td>0.453428</td>\n",
              "      <td>0.432310</td>\n",
              "      <td>0.549446</td>\n",
              "      <td>-0.721223</td>\n",
              "      <td>0.544322</td>\n",
              "      <td>0.487348</td>\n",
              "      <td>0.365452</td>\n",
              "      <td>0.458465</td>\n",
              "      <td>0.412487</td>\n",
              "      <td>0.485887</td>\n",
              "      <td>0.539159</td>\n",
              "      <td>0.466977</td>\n",
              "      <td>-0.042072</td>\n",
              "      <td>0.526593</td>\n",
              "      <td>0.490501</td>\n",
              "      <td>0.467712</td>\n",
              "      <td>0.507149</td>\n",
              "      <td>0.491137</td>\n",
              "      <td>0.485297</td>\n",
              "      <td>0.520212</td>\n",
              "      <td>0.445254</td>\n",
              "      <td>0.521207</td>\n",
              "      <td>0.490292</td>\n",
              "      <td>0.579503</td>\n",
              "      <td>0.501363</td>\n",
              "      <td>-0.512080</td>\n",
              "      <td>-0.561530</td>\n",
              "      <td>0.444474</td>\n",
              "      <td>-0.525026</td>\n",
              "      <td>0.550704</td>\n",
              "      <td>0.441267</td>\n",
              "      <td>0.508210</td>\n",
              "      <td>0.533632</td>\n",
              "      <td>0.533791</td>\n",
              "      <td>0.419502</td>\n",
              "      <td>0.452961</td>\n",
              "      <td>0.428717</td>\n",
              "      <td>0.451253</td>\n",
              "      <td>-0.617097</td>\n",
              "      <td>0.494215</td>\n",
              "      <td>0.453643</td>\n",
              "      <td>-0.069065</td>\n",
              "      <td>0.464609</td>\n",
              "      <td>0.458396</td>\n",
              "      <td>0.463862</td>\n",
              "      <td>0.522137</td>\n",
              "      <td>0.508424</td>\n",
              "      <td>0.513105</td>\n",
              "      <td>0.467009</td>\n",
              "      <td>0.437612</td>\n",
              "      <td>0.453281</td>\n",
              "      <td>0.475657</td>\n",
              "      <td>0.538010</td>\n",
              "      <td>0.438872</td>\n",
              "      <td>0.580561</td>\n",
              "    </tr>\n",
              "    <tr>\n",
              "      <th>1597</th>\n",
              "      <td>0.497767</td>\n",
              "      <td>0.432283</td>\n",
              "      <td>0.527209</td>\n",
              "      <td>0.476815</td>\n",
              "      <td>0.508585</td>\n",
              "      <td>0.499543</td>\n",
              "      <td>0.445453</td>\n",
              "      <td>0.476068</td>\n",
              "      <td>0.500204</td>\n",
              "      <td>0.447712</td>\n",
              "      <td>0.428474</td>\n",
              "      <td>0.539462</td>\n",
              "      <td>-0.677510</td>\n",
              "      <td>0.532547</td>\n",
              "      <td>0.517200</td>\n",
              "      <td>0.397462</td>\n",
              "      <td>0.457116</td>\n",
              "      <td>0.422597</td>\n",
              "      <td>0.507197</td>\n",
              "      <td>0.518288</td>\n",
              "      <td>0.489940</td>\n",
              "      <td>-0.060476</td>\n",
              "      <td>0.514905</td>\n",
              "      <td>0.492469</td>\n",
              "      <td>0.467565</td>\n",
              "      <td>0.517821</td>\n",
              "      <td>0.472095</td>\n",
              "      <td>0.493979</td>\n",
              "      <td>0.514749</td>\n",
              "      <td>0.455147</td>\n",
              "      <td>0.512850</td>\n",
              "      <td>0.493355</td>\n",
              "      <td>0.570473</td>\n",
              "      <td>0.519231</td>\n",
              "      <td>-0.497413</td>\n",
              "      <td>-0.559577</td>\n",
              "      <td>0.465988</td>\n",
              "      <td>-0.532894</td>\n",
              "      <td>0.536172</td>\n",
              "      <td>0.455851</td>\n",
              "      <td>0.499472</td>\n",
              "      <td>0.561079</td>\n",
              "      <td>0.522606</td>\n",
              "      <td>0.428308</td>\n",
              "      <td>0.431094</td>\n",
              "      <td>0.443184</td>\n",
              "      <td>0.433064</td>\n",
              "      <td>-0.611998</td>\n",
              "      <td>0.493676</td>\n",
              "      <td>0.449095</td>\n",
              "      <td>-0.065428</td>\n",
              "      <td>0.501598</td>\n",
              "      <td>0.437852</td>\n",
              "      <td>0.465492</td>\n",
              "      <td>0.503838</td>\n",
              "      <td>0.499069</td>\n",
              "      <td>0.463186</td>\n",
              "      <td>0.502138</td>\n",
              "      <td>0.446737</td>\n",
              "      <td>0.422003</td>\n",
              "      <td>0.518106</td>\n",
              "      <td>0.527358</td>\n",
              "      <td>0.432743</td>\n",
              "      <td>0.569672</td>\n",
              "    </tr>\n",
              "    <tr>\n",
              "      <th>1598</th>\n",
              "      <td>0.475827</td>\n",
              "      <td>0.431315</td>\n",
              "      <td>0.547711</td>\n",
              "      <td>0.507509</td>\n",
              "      <td>0.515255</td>\n",
              "      <td>0.486600</td>\n",
              "      <td>0.427229</td>\n",
              "      <td>0.454307</td>\n",
              "      <td>0.479059</td>\n",
              "      <td>0.444948</td>\n",
              "      <td>0.429672</td>\n",
              "      <td>0.519889</td>\n",
              "      <td>-0.719362</td>\n",
              "      <td>0.560349</td>\n",
              "      <td>0.495911</td>\n",
              "      <td>0.381691</td>\n",
              "      <td>0.455173</td>\n",
              "      <td>0.432328</td>\n",
              "      <td>0.477044</td>\n",
              "      <td>0.534087</td>\n",
              "      <td>0.471103</td>\n",
              "      <td>-0.037412</td>\n",
              "      <td>0.503900</td>\n",
              "      <td>0.501765</td>\n",
              "      <td>0.461201</td>\n",
              "      <td>0.500723</td>\n",
              "      <td>0.465821</td>\n",
              "      <td>0.464650</td>\n",
              "      <td>0.530080</td>\n",
              "      <td>0.462811</td>\n",
              "      <td>0.462363</td>\n",
              "      <td>0.463992</td>\n",
              "      <td>0.568233</td>\n",
              "      <td>0.507649</td>\n",
              "      <td>-0.504548</td>\n",
              "      <td>-0.559203</td>\n",
              "      <td>0.440279</td>\n",
              "      <td>-0.531652</td>\n",
              "      <td>0.531060</td>\n",
              "      <td>0.443521</td>\n",
              "      <td>0.506841</td>\n",
              "      <td>0.550609</td>\n",
              "      <td>0.510841</td>\n",
              "      <td>0.418185</td>\n",
              "      <td>0.444907</td>\n",
              "      <td>0.457937</td>\n",
              "      <td>0.451909</td>\n",
              "      <td>-0.636122</td>\n",
              "      <td>0.487069</td>\n",
              "      <td>0.436391</td>\n",
              "      <td>-0.086982</td>\n",
              "      <td>0.505943</td>\n",
              "      <td>0.468350</td>\n",
              "      <td>0.468674</td>\n",
              "      <td>0.493623</td>\n",
              "      <td>0.476303</td>\n",
              "      <td>0.512675</td>\n",
              "      <td>0.470011</td>\n",
              "      <td>0.440273</td>\n",
              "      <td>0.441491</td>\n",
              "      <td>0.477122</td>\n",
              "      <td>0.509718</td>\n",
              "      <td>0.453232</td>\n",
              "      <td>0.554993</td>\n",
              "    </tr>\n",
              "    <tr>\n",
              "      <th>1599</th>\n",
              "      <td>0.467308</td>\n",
              "      <td>0.430067</td>\n",
              "      <td>0.525511</td>\n",
              "      <td>0.481377</td>\n",
              "      <td>0.496371</td>\n",
              "      <td>0.528304</td>\n",
              "      <td>0.446216</td>\n",
              "      <td>0.469795</td>\n",
              "      <td>0.511479</td>\n",
              "      <td>0.434227</td>\n",
              "      <td>0.433991</td>\n",
              "      <td>0.559541</td>\n",
              "      <td>-0.678734</td>\n",
              "      <td>0.566285</td>\n",
              "      <td>0.517180</td>\n",
              "      <td>0.404545</td>\n",
              "      <td>0.466088</td>\n",
              "      <td>0.427809</td>\n",
              "      <td>0.503082</td>\n",
              "      <td>0.508451</td>\n",
              "      <td>0.477234</td>\n",
              "      <td>-0.053838</td>\n",
              "      <td>0.501858</td>\n",
              "      <td>0.500477</td>\n",
              "      <td>0.464738</td>\n",
              "      <td>0.510756</td>\n",
              "      <td>0.502056</td>\n",
              "      <td>0.471266</td>\n",
              "      <td>0.542963</td>\n",
              "      <td>0.465730</td>\n",
              "      <td>0.467869</td>\n",
              "      <td>0.468649</td>\n",
              "      <td>0.630864</td>\n",
              "      <td>0.515576</td>\n",
              "      <td>-0.506897</td>\n",
              "      <td>-0.543098</td>\n",
              "      <td>0.464930</td>\n",
              "      <td>-0.529181</td>\n",
              "      <td>0.563426</td>\n",
              "      <td>0.452819</td>\n",
              "      <td>0.500079</td>\n",
              "      <td>0.533912</td>\n",
              "      <td>0.511116</td>\n",
              "      <td>0.427276</td>\n",
              "      <td>0.440425</td>\n",
              "      <td>0.431169</td>\n",
              "      <td>0.432302</td>\n",
              "      <td>-0.630636</td>\n",
              "      <td>0.463438</td>\n",
              "      <td>0.453408</td>\n",
              "      <td>-0.066582</td>\n",
              "      <td>0.499557</td>\n",
              "      <td>0.466119</td>\n",
              "      <td>0.458121</td>\n",
              "      <td>0.486698</td>\n",
              "      <td>0.486146</td>\n",
              "      <td>0.521389</td>\n",
              "      <td>0.469078</td>\n",
              "      <td>0.464651</td>\n",
              "      <td>0.427095</td>\n",
              "      <td>0.508925</td>\n",
              "      <td>0.558210</td>\n",
              "      <td>0.440530</td>\n",
              "      <td>0.599485</td>\n",
              "    </tr>\n",
              "  </tbody>\n",
              "</table>\n",
              "<p>1600 rows × 64 columns</p>\n",
              "</div>"
            ],
            "text/plain": [
              "            0         1         2   ...        61        62        63\n",
              "0     0.465374  0.425231  0.534107  ...  0.557881  0.475056  0.568741\n",
              "1     0.448326  0.431871  0.529470  ...  0.538878  0.436533  0.581807\n",
              "2     0.456935  0.436147  0.554481  ...  0.536860  0.442527  0.583602\n",
              "3     0.488494  0.425974  0.546831  ...  0.522880  0.435350  0.568978\n",
              "4     0.474649  0.443712  0.525108  ...  0.528899  0.453645  0.568807\n",
              "...        ...       ...       ...  ...       ...       ...       ...\n",
              "1595  0.470519  0.432628  0.553286  ...  0.547709  0.461661  0.578485\n",
              "1596  0.477358  0.451842  0.569152  ...  0.538010  0.438872  0.580561\n",
              "1597  0.497767  0.432283  0.527209  ...  0.527358  0.432743  0.569672\n",
              "1598  0.475827  0.431315  0.547711  ...  0.509718  0.453232  0.554993\n",
              "1599  0.467308  0.430067  0.525511  ...  0.558210  0.440530  0.599485\n",
              "\n",
              "[1600 rows x 64 columns]"
            ]
          },
          "metadata": {
            "tags": []
          },
          "execution_count": 151
        }
      ]
    },
    {
      "cell_type": "code",
      "metadata": {
        "id": "QZv7a51tUUdD"
      },
      "source": [
        "temp['polarity'] = polarity"
      ],
      "execution_count": 152,
      "outputs": []
    },
    {
      "cell_type": "code",
      "metadata": {
        "id": "PKYfHJy2aSqo"
      },
      "source": [
        "temp2['polarity'] = polarity_xtest"
      ],
      "execution_count": 163,
      "outputs": []
    },
    {
      "cell_type": "code",
      "metadata": {
        "id": "akVcvOt5RU49"
      },
      "source": [
        "model1 = Sequential()\r\n",
        "model1.add(Input(shape = (65)))\r\n",
        "#LSTM\r\n",
        "model1.add(Dense(units = 32 , activation = 'relu'))\r\n",
        "model1.add(Dense(1, activation='sigmoid'))\r\n",
        "model1.compile(optimizer='Adam', loss='binary_crossentropy', metrics=['accuracy'])"
      ],
      "execution_count": 167,
      "outputs": []
    },
    {
      "cell_type": "code",
      "metadata": {
        "id": "H9MYQy1xWG30"
      },
      "source": [
        "temp"
      ],
      "execution_count": null,
      "outputs": []
    },
    {
      "cell_type": "code",
      "metadata": {
        "colab": {
          "base_uri": "https://localhost:8080/"
        },
        "id": "xLSZc5bUlw8d",
        "outputId": "d89632ad-8bf2-4aa1-df9a-e11fd571f07b"
      },
      "source": [
        "model1.summary()"
      ],
      "execution_count": 168,
      "outputs": [
        {
          "output_type": "stream",
          "text": [
            "Model: \"sequential_13\"\n",
            "_________________________________________________________________\n",
            "Layer (type)                 Output Shape              Param #   \n",
            "=================================================================\n",
            "dense_10 (Dense)             (None, 32)                2112      \n",
            "_________________________________________________________________\n",
            "dense_11 (Dense)             (None, 1)                 33        \n",
            "=================================================================\n",
            "Total params: 2,145\n",
            "Trainable params: 2,145\n",
            "Non-trainable params: 0\n",
            "_________________________________________________________________\n"
          ],
          "name": "stdout"
        }
      ]
    },
    {
      "cell_type": "code",
      "metadata": {
        "colab": {
          "base_uri": "https://localhost:8080/"
        },
        "id": "Su_jBDL5ag4z",
        "outputId": "f71538e8-f847-40fe-e162-5123499b23ca"
      },
      "source": [
        "temp.shape"
      ],
      "execution_count": 165,
      "outputs": [
        {
          "output_type": "execute_result",
          "data": {
            "text/plain": [
              "(1600, 65)"
            ]
          },
          "metadata": {
            "tags": []
          },
          "execution_count": 165
        }
      ]
    },
    {
      "cell_type": "code",
      "metadata": {
        "colab": {
          "base_uri": "https://localhost:8080/"
        },
        "id": "mMI4P-l7aiLv",
        "outputId": "1550ffa1-7780-48e9-ec51-d0e6ec60b876"
      },
      "source": [
        "temp2.shape"
      ],
      "execution_count": 166,
      "outputs": [
        {
          "output_type": "execute_result",
          "data": {
            "text/plain": [
              "(400, 65)"
            ]
          },
          "metadata": {
            "tags": []
          },
          "execution_count": 166
        }
      ]
    },
    {
      "cell_type": "code",
      "metadata": {
        "id": "loASJjkyY_1q"
      },
      "source": [
        "asd2 = model1.fit(temp, y_train, validation_data = (temp2,y_test) , epochs=25)"
      ],
      "execution_count": null,
      "outputs": []
    },
    {
      "cell_type": "code",
      "metadata": {
        "id": "IIHRPaPUbueY"
      },
      "source": [
        "y_pred_glove = (model.predict(X_test) > 0.5).astype(\"int\")"
      ],
      "execution_count": null,
      "outputs": []
    },
    {
      "cell_type": "code",
      "metadata": {
        "id": "VuTHniEbgU6a"
      },
      "source": [
        "print(classification_report(y_test, y_pred_glove, zero_division = 1))"
      ],
      "execution_count": null,
      "outputs": []
    },
    {
      "cell_type": "code",
      "metadata": {
        "id": "hiCBPLUXgWG2",
        "colab": {
          "base_uri": "https://localhost:8080/",
          "height": 541
        },
        "outputId": "e549f200-0f03-4335-df5f-46a1ae542df8"
      },
      "source": [
        "#plot accuracy and loss\r\n",
        "def plot_graphs(history, string):\r\n",
        "  plt.plot(history.history[string])\r\n",
        "  plt.plot(history.history['val_'+string])\r\n",
        "  plt.xlabel(\"Epochs\")\r\n",
        "  plt.ylabel(string)\r\n",
        "  plt.legend([string, 'val_'+string])\r\n",
        "  plt.show()\r\n",
        "  \r\n",
        "plot_graphs(history, \"accuracy\")\r\n",
        "plot_graphs(history, \"loss\")"
      ],
      "execution_count": null,
      "outputs": [
        {
          "output_type": "display_data",
          "data": {
            "image/png": "[encoded data removed]",
            "text/plain": [
              "<Figure size 432x288 with 1 Axes>"
            ]
          },
          "metadata": {
            "tags": [],
            "needs_background": "light"
          }
        },
        {
          "output_type": "display_data",
          "data": {
            "image/png": "[encoded data removed]",
            "text/plain": [
              "<Figure size 432x288 with 1 Axes>"
            ]
          },
          "metadata": {
            "tags": [],
            "needs_background": "light"
          }
        }
      ]
    },
    {
      "cell_type": "code",
      "metadata": {
        "id": "xnAcSLcVgbfg"
      },
      "source": [
        "model_noGlove = Sequential()\r\n",
        "#Non-trainable embeddidng layer\r\n",
        "model_noGlove.add(Embedding(vocab_size+1,50,input_length=max_length))\r\n",
        "#LSTM \r\n",
        "model_noGlove.add(LSTM(units=128))\r\n",
        "model_noGlove.add(Dense(1, activation='sigmoid'))\r\n",
        "model_noGlove.compile(optimizer='adam', loss='binary_crossentropy', metrics=['acc'])"
      ],
      "execution_count": null,
      "outputs": []
    },
    {
      "cell_type": "code",
      "metadata": {
        "id": "dYEKM0o4gdL5"
      },
      "source": [
        "history_noGlove = model_noGlove.fit(X_train, y_train, validation_data = (X_test,y_test) , epochs=5) "
      ],
      "execution_count": null,
      "outputs": []
    },
    {
      "cell_type": "markdown",
      "metadata": {
        "id": "-08nwqIlTWk0"
      },
      "source": [
        "#DistilBert"
      ]
    },
    {
      "cell_type": "code",
      "metadata": {
        "colab": {
          "base_uri": "https://localhost:8080/",
          "height": 1000
        },
        "id": "mG6ZTVPZThdl",
        "outputId": "154cb1f5-86d1-4458-c2c4-b6a2f89ac3d9"
      },
      "source": [
        "!pip install ktrain"
      ],
      "execution_count": null,
      "outputs": [
        {
          "output_type": "stream",
          "text": [
            "Collecting ktrain\n",
            "\u001b[?25l  Downloading https://files.pythonhosted.org/packages/6a/40/3a69b5d76029ba47aebc13d3be4c1009b51dfdf694c5aac2abe02f747c96/ktrain-0.26.0.tar.gz (25.3MB)\n",
            "\u001b[K     |████████████████████████████████| 25.3MB 174kB/s \n",
            "\u001b[?25hCollecting scikit-learn==0.23.2\n",
            "\u001b[?25l  Downloading https://files.pythonhosted.org/packages/f4/cb/64623369f348e9bfb29ff898a57ac7c91ed4921f228e9726546614d63ccb/scikit_learn-0.23.2-cp37-cp37m-manylinux1_x86_64.whl (6.8MB)\n",
            "\u001b[K     |████████████████████████████████| 6.8MB 36.8MB/s \n",
            "\u001b[?25hRequirement already satisfied: matplotlib>=3.0.0 in /usr/local/lib/python3.7/dist-packages (from ktrain) (3.2.2)\n",
            "Requirement already satisfied: pandas>=1.0.1 in /usr/local/lib/python3.7/dist-packages (from ktrain) (1.1.5)\n",
            "Requirement already satisfied: fastprogress>=0.1.21 in /usr/local/lib/python3.7/dist-packages (from ktrain) (1.0.0)\n",
            "Requirement already satisfied: requests in /usr/local/lib/python3.7/dist-packages (from ktrain) (2.23.0)\n",
            "Requirement already satisfied: joblib in /usr/local/lib/python3.7/dist-packages (from ktrain) (1.0.1)\n",
            "Requirement already satisfied: packaging in /usr/local/lib/python3.7/dist-packages (from ktrain) (20.9)\n",
            "Requirement already satisfied: ipython in /usr/local/lib/python3.7/dist-packages (from ktrain) (5.5.0)\n",
            "Collecting langdetect\n",
            "\u001b[?25l  Downloading https://files.pythonhosted.org/packages/56/a3/8407c1e62d5980188b4acc45ef3d94b933d14a2ebc9ef3505f22cf772570/langdetect-1.0.8.tar.gz (981kB)\n",
            "\u001b[K     |████████████████████████████████| 983kB 48.5MB/s \n",
            "\u001b[?25hRequirement already satisfied: jieba in /usr/local/lib/python3.7/dist-packages (from ktrain) (0.42.1)\n",
            "Collecting cchardet\n",
            "\u001b[?25l  Downloading https://files.pythonhosted.org/packages/80/72/a4fba7559978de00cf44081c548c5d294bf00ac7dcda2db405d2baa8c67a/cchardet-2.1.7-cp37-cp37m-manylinux2010_x86_64.whl (263kB)\n",
            "\u001b[K     |████████████████████████████████| 266kB 48.5MB/s \n",
            "\u001b[?25hCollecting syntok\n",
            "  Downloading https://files.pythonhosted.org/packages/8c/76/a49e73a04b3e3a14ce232e8e28a1587f8108baa665644fe8c40e307e792e/syntok-1.3.1.tar.gz\n",
            "Collecting seqeval==0.0.19\n",
            "  Downloading https://files.pythonhosted.org/packages/93/e5/b7705156a77f742cfe4fc6f22d0c71591edb2d243328dff2f8fc0f933ab6/seqeval-0.0.19.tar.gz\n",
            "Collecting transformers<=4.3.3,>=4.0.0\n",
            "\u001b[?25l  Downloading https://files.pythonhosted.org/packages/f9/54/5ca07ec9569d2f232f3166de5457b63943882f7950ddfcc887732fc7fb23/transformers-4.3.3-py3-none-any.whl (1.9MB)\n",
            "\u001b[K     |████████████████████████████████| 1.9MB 28.6MB/s \n",
            "\u001b[?25hCollecting sentencepiece\n",
            "\u001b[?25l  Downloading https://files.pythonhosted.org/packages/f5/99/e0808cb947ba10f575839c43e8fafc9cc44e4a7a2c8f79c60db48220a577/sentencepiece-0.1.95-cp37-cp37m-manylinux2014_x86_64.whl (1.2MB)\n",
            "\u001b[K     |████████████████████████████████| 1.2MB 45.4MB/s \n",
            "\u001b[?25hCollecting keras_bert>=0.86.0\n",
            "  Downloading https://files.pythonhosted.org/packages/e2/7f/95fabd29f4502924fa3f09ff6538c5a7d290dfef2c2fe076d3d1a16e08f0/keras-bert-0.86.0.tar.gz\n",
            "Requirement already satisfied: networkx>=2.3 in /usr/local/lib/python3.7/dist-packages (from ktrain) (2.5)\n",
            "Collecting whoosh\n",
            "\u001b[?25l  Downloading https://files.pythonhosted.org/packages/ba/19/24d0f1f454a2c1eb689ca28d2f178db81e5024f42d82729a4ff6771155cf/Whoosh-2.7.4-py2.py3-none-any.whl (468kB)\n",
            "\u001b[K     |████████████████████████████████| 471kB 45.6MB/s \n",
            "\u001b[?25hRequirement already satisfied: scipy>=0.19.1 in /usr/local/lib/python3.7/dist-packages (from scikit-learn==0.23.2->ktrain) (1.4.1)\n",
            "Requirement already satisfied: numpy>=1.13.3 in /usr/local/lib/python3.7/dist-packages (from scikit-learn==0.23.2->ktrain) (1.19.5)\n",
            "Collecting threadpoolctl>=2.0.0\n",
            "  Downloading https://files.pythonhosted.org/packages/f7/12/ec3f2e203afa394a149911729357aa48affc59c20e2c1c8297a60f33f133/threadpoolctl-2.1.0-py3-none-any.whl\n",
            "Requirement already satisfied: pyparsing!=2.0.4,!=2.1.2,!=2.1.6,>=2.0.1 in /usr/local/lib/python3.7/dist-packages (from matplotlib>=3.0.0->ktrain) (2.4.7)\n",
            "Requirement already satisfied: python-dateutil>=2.1 in /usr/local/lib/python3.7/dist-packages (from matplotlib>=3.0.0->ktrain) (2.8.1)\n",
            "Requirement already satisfied: kiwisolver>=1.0.1 in /usr/local/lib/python3.7/dist-packages (from matplotlib>=3.0.0->ktrain) (1.3.1)\n",
            "Requirement already satisfied: cycler>=0.10 in /usr/local/lib/python3.7/dist-packages (from matplotlib>=3.0.0->ktrain) (0.10.0)\n",
            "Requirement already satisfied: pytz>=2017.2 in /usr/local/lib/python3.7/dist-packages (from pandas>=1.0.1->ktrain) (2018.9)\n",
            "Requirement already satisfied: chardet<4,>=3.0.2 in /usr/local/lib/python3.7/dist-packages (from requests->ktrain) (3.0.4)\n",
            "Requirement already satisfied: idna<3,>=2.5 in /usr/local/lib/python3.7/dist-packages (from requests->ktrain) (2.10)\n",
            "Requirement already satisfied: certifi>=2017.4.17 in /usr/local/lib/python3.7/dist-packages (from requests->ktrain) (2020.12.5)\n",
            "Requirement already satisfied: urllib3!=1.25.0,!=1.25.1,<1.26,>=1.21.1 in /usr/local/lib/python3.7/dist-packages (from requests->ktrain) (1.24.3)\n",
            "Requirement already satisfied: decorator in /usr/local/lib/python3.7/dist-packages (from ipython->ktrain) (4.4.2)\n",
            "Requirement already satisfied: setuptools>=18.5 in /usr/local/lib/python3.7/dist-packages (from ipython->ktrain) (54.0.0)\n",
            "Requirement already satisfied: simplegeneric>0.8 in /usr/local/lib/python3.7/dist-packages (from ipython->ktrain) (0.8.1)\n",
            "Requirement already satisfied: pexpect; sys_platform != \"win32\" in /usr/local/lib/python3.7/dist-packages (from ipython->ktrain) (4.8.0)\n",
            "Requirement already satisfied: traitlets>=4.2 in /usr/local/lib/python3.7/dist-packages (from ipython->ktrain) (5.0.5)\n",
            "Requirement already satisfied: pickleshare in /usr/local/lib/python3.7/dist-packages (from ipython->ktrain) (0.7.5)\n",
            "Requirement already satisfied: pygments in /usr/local/lib/python3.7/dist-packages (from ipython->ktrain) (2.6.1)\n",
            "Requirement already satisfied: prompt-toolkit<2.0.0,>=1.0.4 in /usr/local/lib/python3.7/dist-packages (from ipython->ktrain) (1.0.18)\n",
            "Requirement already satisfied: six in /usr/local/lib/python3.7/dist-packages (from langdetect->ktrain) (1.15.0)\n",
            "Requirement already satisfied: regex in /usr/local/lib/python3.7/dist-packages (from syntok->ktrain) (2019.12.20)\n",
            "Requirement already satisfied: Keras>=2.2.4 in /usr/local/lib/python3.7/dist-packages (from seqeval==0.0.19->ktrain) (2.4.3)\n",
            "Requirement already satisfied: filelock in /usr/local/lib/python3.7/dist-packages (from transformers<=4.3.3,>=4.0.0->ktrain) (3.0.12)\n",
            "Requirement already satisfied: tqdm>=4.27 in /usr/local/lib/python3.7/dist-packages (from transformers<=4.3.3,>=4.0.0->ktrain) (4.41.1)\n",
            "Collecting sacremoses\n",
            "\u001b[?25l  Downloading https://files.pythonhosted.org/packages/7d/34/09d19aff26edcc8eb2a01bed8e98f13a1537005d31e95233fd48216eed10/sacremoses-0.0.43.tar.gz (883kB)\n",
            "\u001b[K     |████████████████████████████████| 890kB 41.1MB/s \n",
            "\u001b[?25hCollecting tokenizers<0.11,>=0.10.1\n",
            "\u001b[?25l  Downloading https://files.pythonhosted.org/packages/71/23/2ddc317b2121117bf34dd00f5b0de194158f2a44ee2bf5e47c7166878a97/tokenizers-0.10.1-cp37-cp37m-manylinux2010_x86_64.whl (3.2MB)\n",
            "\u001b[K     |████████████████████████████████| 3.2MB 31.1MB/s \n",
            "\u001b[?25hRequirement already satisfied: importlib-metadata; python_version < \"3.8\" in /usr/local/lib/python3.7/dist-packages (from transformers<=4.3.3,>=4.0.0->ktrain) (3.7.0)\n",
            "Collecting keras-transformer>=0.38.0\n",
            "  Downloading https://files.pythonhosted.org/packages/89/6c/d6f0c164f4cc16fbc0d0fea85f5526e87a7d2df7b077809e422a7e626150/keras-transformer-0.38.0.tar.gz\n",
            "Requirement already satisfied: ptyprocess>=0.5 in /usr/local/lib/python3.7/dist-packages (from pexpect; sys_platform != \"win32\"->ipython->ktrain) (0.7.0)\n",
            "Requirement already satisfied: ipython-genutils in /usr/local/lib/python3.7/dist-packages (from traitlets>=4.2->ipython->ktrain) (0.2.0)\n",
            "Requirement already satisfied: wcwidth in /usr/local/lib/python3.7/dist-packages (from prompt-toolkit<2.0.0,>=1.0.4->ipython->ktrain) (0.2.5)\n",
            "Requirement already satisfied: pyyaml in /usr/local/lib/python3.7/dist-packages (from Keras>=2.2.4->seqeval==0.0.19->ktrain) (3.13)\n",
            "Requirement already satisfied: h5py in /usr/local/lib/python3.7/dist-packages (from Keras>=2.2.4->seqeval==0.0.19->ktrain) (2.10.0)\n",
            "Requirement already satisfied: click in /usr/local/lib/python3.7/dist-packages (from sacremoses->transformers<=4.3.3,>=4.0.0->ktrain) (7.1.2)\n",
            "Requirement already satisfied: zipp>=0.5 in /usr/local/lib/python3.7/dist-packages (from importlib-metadata; python_version < \"3.8\"->transformers<=4.3.3,>=4.0.0->ktrain) (3.4.1)\n",
            "Requirement already satisfied: typing-extensions>=3.6.4; python_version < \"3.8\" in /usr/local/lib/python3.7/dist-packages (from importlib-metadata; python_version < \"3.8\"->transformers<=4.3.3,>=4.0.0->ktrain) (3.7.4.3)\n",
            "Collecting keras-pos-embd>=0.11.0\n",
            "  Downloading https://files.pythonhosted.org/packages/09/70/b63ed8fc660da2bb6ae29b9895401c628da5740c048c190b5d7107cadd02/keras-pos-embd-0.11.0.tar.gz\n",
            "Collecting keras-multi-head>=0.27.0\n",
            "  Downloading https://files.pythonhosted.org/packages/e6/32/45adf2549450aca7867deccfa04af80a0ab1ca139af44b16bc669e0e09cd/keras-multi-head-0.27.0.tar.gz\n",
            "Collecting keras-layer-normalization>=0.14.0\n",
            "  Downloading https://files.pythonhosted.org/packages/a4/0e/d1078df0494bac9ce1a67954e5380b6e7569668f0f3b50a9531c62c1fc4a/keras-layer-normalization-0.14.0.tar.gz\n",
            "Collecting keras-position-wise-feed-forward>=0.6.0\n",
            "  Downloading https://files.pythonhosted.org/packages/e3/59/f0faa1037c033059e7e9e7758e6c23b4d1c0772cd48de14c4b6fd4033ad5/keras-position-wise-feed-forward-0.6.0.tar.gz\n",
            "Collecting keras-embed-sim>=0.8.0\n",
            "  Downloading https://files.pythonhosted.org/packages/57/ef/61a1e39082c9e1834a2d09261d4a0b69f7c818b359216d4e1912b20b1c86/keras-embed-sim-0.8.0.tar.gz\n",
            "Collecting keras-self-attention==0.46.0\n",
            "  Downloading https://files.pythonhosted.org/packages/15/6b/c804924a056955fa1f3ff767945187103cfc851ba9bd0fc5a6c6bc18e2eb/keras-self-attention-0.46.0.tar.gz\n",
            "Building wheels for collected packages: ktrain, langdetect, syntok, seqeval, keras-bert, sacremoses, keras-transformer, keras-pos-embd, keras-multi-head, keras-layer-normalization, keras-position-wise-feed-forward, keras-embed-sim, keras-self-attention\n",
            "  Building wheel for ktrain (setup.py) ... \u001b[?25l\u001b[?25hdone\n",
            "  Created wheel for ktrain: filename=ktrain-0.26.0-cp37-none-any.whl size=25276917 sha256=d7e3542d940c02c30fb55453e04d9fd9a538471c3c53787a5d92039cbb9583c5\n",
            "  Stored in directory: /root/.cache/pip/wheels/fc/e5/c7/c17fc12743a31df1deacb71ce327f946528774d494d3038995\n",
            "  Building wheel for langdetect (setup.py) ... \u001b[?25l\u001b[?25hdone\n",
            "  Created wheel for langdetect: filename=langdetect-1.0.8-cp37-none-any.whl size=993193 sha256=83965be6ea9ddbe770fc96b694894e2baad4830932a6d3e3e0943a0b8b1ef3ce\n",
            "  Stored in directory: /root/.cache/pip/wheels/8d/b3/aa/6d99de9f3841d7d3d40a60ea06e6d669e8e5012e6c8b947a57\n",
            "  Building wheel for syntok (setup.py) ... \u001b[?25l\u001b[?25hdone\n",
            "  Created wheel for syntok: filename=syntok-1.3.1-cp37-none-any.whl size=20919 sha256=3e53fea08ee2857ef0d1061c0aaba5e063351ad31b99bde2fa1e739952bd439c\n",
            "  Stored in directory: /root/.cache/pip/wheels/51/c6/a4/be1920586c49469846bcd2888200bdecfe109ec421dab9be2d\n",
            "  Building wheel for seqeval (setup.py) ... \u001b[?25l\u001b[?25hdone\n",
            "  Created wheel for seqeval: filename=seqeval-0.0.19-cp37-none-any.whl size=9919 sha256=f1e03ef00b8264d4b553ee6e57f9c22495f0301ce3740882269ae6d9e69e2782\n",
            "  Stored in directory: /root/.cache/pip/wheels/8d/1f/bf/1198beceed805a2099060975f6281d1b01046dd279e19c97be\n",
            "  Building wheel for keras-bert (setup.py) ... \u001b[?25l\u001b[?25hdone\n",
            "  Created wheel for keras-bert: filename=keras_bert-0.86.0-cp37-none-any.whl size=34144 sha256=360305644f5a62a5572ba6adaf082e2802d03be3fe6cf857035794a0067004e4\n",
            "  Stored in directory: /root/.cache/pip/wheels/66/f0/b1/748128b58562fc9e31b907bb5e2ab6a35eb37695e83911236b\n",
            "  Building wheel for sacremoses (setup.py) ... \u001b[?25l\u001b[?25hdone\n",
            "  Created wheel for sacremoses: filename=sacremoses-0.0.43-cp37-none-any.whl size=893262 sha256=c6c267d625a0d92a073a9bc34f0813704f66f80861362575f0d587641f5b9c38\n",
            "  Stored in directory: /root/.cache/pip/wheels/29/3c/fd/7ce5c3f0666dab31a50123635e6fb5e19ceb42ce38d4e58f45\n",
            "  Building wheel for keras-transformer (setup.py) ... \u001b[?25l\u001b[?25hdone\n",
            "  Created wheel for keras-transformer: filename=keras_transformer-0.38.0-cp37-none-any.whl size=12942 sha256=d8cd8ac3b7d6612aaec048cbc9f9e25af2d18124b9ac7ac7e42a4f592d53ea65\n",
            "  Stored in directory: /root/.cache/pip/wheels/e5/fb/3a/37b2b9326c799aa010ae46a04ddb04f320d8c77c0b7e837f4e\n",
            "  Building wheel for keras-pos-embd (setup.py) ... \u001b[?25l\u001b[?25hdone\n",
            "  Created wheel for keras-pos-embd: filename=keras_pos_embd-0.11.0-cp37-none-any.whl size=7554 sha256=021b21764a051129bc5389d4a17dea2caac03b3da07b6ba639c3dc11ebc428f8\n",
            "  Stored in directory: /root/.cache/pip/wheels/5b/a1/a0/ce6b1d49ba1a9a76f592e70cf297b05c96bc9f418146761032\n",
            "  Building wheel for keras-multi-head (setup.py) ... \u001b[?25l\u001b[?25hdone\n",
            "  Created wheel for keras-multi-head: filename=keras_multi_head-0.27.0-cp37-none-any.whl size=15611 sha256=6e953dcb2318a0bade83219af872aef25457a1117e3f665c3ab4a0041056c762\n",
            "  Stored in directory: /root/.cache/pip/wheels/b5/b4/49/0a0c27dcb93c13af02fea254ff51d1a43a924dd4e5b7a7164d\n",
            "  Building wheel for keras-layer-normalization (setup.py) ... \u001b[?25l\u001b[?25hdone\n",
            "  Created wheel for keras-layer-normalization: filename=keras_layer_normalization-0.14.0-cp37-none-any.whl size=5269 sha256=9400cf75439ec032caecd7b7108cd63b55f20c57a68b7358c293f3b38ebb61b9\n",
            "  Stored in directory: /root/.cache/pip/wheels/54/80/22/a638a7d406fd155e507aa33d703e3fa2612b9eb7bb4f4fe667\n",
            "  Building wheel for keras-position-wise-feed-forward (setup.py) ... \u001b[?25l\u001b[?25hdone\n",
            "  Created wheel for keras-position-wise-feed-forward: filename=keras_position_wise_feed_forward-0.6.0-cp37-none-any.whl size=5623 sha256=b995a99766789d3d6879d1747c8d4938ff78728b1ab12cae92cde99fc1c13780\n",
            "  Stored in directory: /root/.cache/pip/wheels/39/e2/e2/3514fef126a00574b13bc0b9e23891800158df3a3c19c96e3b\n",
            "  Building wheel for keras-embed-sim (setup.py) ... \u001b[?25l\u001b[?25hdone\n",
            "  Created wheel for keras-embed-sim: filename=keras_embed_sim-0.8.0-cp37-none-any.whl size=4558 sha256=156915d9901152eb1392db2aacff9512d16ed20affe2479454421ab66cdc3451\n",
            "  Stored in directory: /root/.cache/pip/wheels/49/45/8b/c111f6cc8bec253e984677de73a6f4f5d2f1649f42aac191c8\n",
            "  Building wheel for keras-self-attention (setup.py) ... \u001b[?25l\u001b[?25hdone\n",
            "  Created wheel for keras-self-attention: filename=keras_self_attention-0.46.0-cp37-none-any.whl size=17278 sha256=5099794c96586c0c320ca1547c2bcda73f93f94bc868b99c248f39f8adb45ed3\n",
            "  Stored in directory: /root/.cache/pip/wheels/d2/2e/80/fec4c05eb23c8e13b790e26d207d6e0ffe8013fad8c6bdd4d2\n",
            "Successfully built ktrain langdetect syntok seqeval keras-bert sacremoses keras-transformer keras-pos-embd keras-multi-head keras-layer-normalization keras-position-wise-feed-forward keras-embed-sim keras-self-attention\n",
            "Installing collected packages: threadpoolctl, scikit-learn, langdetect, cchardet, syntok, seqeval, sacremoses, tokenizers, transformers, sentencepiece, keras-pos-embd, keras-self-attention, keras-multi-head, keras-layer-normalization, keras-position-wise-feed-forward, keras-embed-sim, keras-transformer, keras-bert, whoosh, ktrain\n",
            "  Found existing installation: scikit-learn 0.22.2.post1\n",
            "    Uninstalling scikit-learn-0.22.2.post1:\n",
            "      Successfully uninstalled scikit-learn-0.22.2.post1\n",
            "Successfully installed cchardet-2.1.7 keras-bert-0.86.0 keras-embed-sim-0.8.0 keras-layer-normalization-0.14.0 keras-multi-head-0.27.0 keras-pos-embd-0.11.0 keras-position-wise-feed-forward-0.6.0 keras-self-attention-0.46.0 keras-transformer-0.38.0 ktrain-0.26.0 langdetect-1.0.8 sacremoses-0.0.43 scikit-learn-0.23.2 sentencepiece-0.1.95 seqeval-0.0.19 syntok-1.3.1 threadpoolctl-2.1.0 tokenizers-0.10.1 transformers-4.3.3 whoosh-2.7.4\n"
          ],
          "name": "stdout"
        },
        {
          "output_type": "display_data",
          "data": {
            "application/vnd.colab-display-data+json": {
              "pip_warning": {
                "packages": [
                  "sklearn"
                ]
              }
            }
          },
          "metadata": {
            "tags": []
          }
        }
      ]
    },
    {
      "cell_type": "code",
      "metadata": {
        "id": "bUwBZZXbUE_C"
      },
      "source": [
        "bertdf = smallerdf.reset_index(drop=True)\r\n",
        "contentbert = bertdf.drop(['Polarity',\t'Subjectivity', 'Reliability'],axis=1)"
      ],
      "execution_count": null,
      "outputs": []
    },
    {
      "cell_type": "code",
      "metadata": {
        "id": "Bm5fDYM_UQ0w"
      },
      "source": [
        "cleantext = bertdf['content'].apply(rem_noise)"
      ],
      "execution_count": null,
      "outputs": []
    },
    {
      "cell_type": "code",
      "metadata": {
        "id": "ScveJOkrUS9t"
      },
      "source": [
        "x_bert = np.asarray(cleantext)\r\n",
        "y_bert = np.asarray(bertdf[\"Reliability\"])"
      ],
      "execution_count": null,
      "outputs": []
    },
    {
      "cell_type": "code",
      "metadata": {
        "colab": {
          "base_uri": "https://localhost:8080/"
        },
        "id": "hDnysssbgJOM",
        "outputId": "9fe1844d-97d4-476c-c0b5-ff33ab663d3e"
      },
      "source": [
        "y_bert"
      ],
      "execution_count": null,
      "outputs": [
        {
          "output_type": "execute_result",
          "data": {
            "text/plain": [
              "array([0, 0, 0, ..., 1, 1, 1])"
            ]
          },
          "metadata": {
            "tags": []
          },
          "execution_count": 127
        }
      ]
    },
    {
      "cell_type": "code",
      "metadata": {
        "id": "UoU0e6RUT0Dj"
      },
      "source": [
        "from sklearn.model_selection import train_test_split\r\n",
        "X_train,X_test,y_train,y_test = train_test_split(x_bert,y_bert,test_size=0.20,random_state=1)"
      ],
      "execution_count": null,
      "outputs": []
    },
    {
      "cell_type": "code",
      "metadata": {
        "colab": {
          "base_uri": "https://localhost:8080/"
        },
        "id": "NSnb8htOT6ie",
        "outputId": "79f2a311-e594-44c6-8568-96185dd7d0db"
      },
      "source": [
        "y_train"
      ],
      "execution_count": null,
      "outputs": [
        {
          "output_type": "execute_result",
          "data": {
            "text/plain": [
              "array([0, 0, 0, ..., 1, 0, 1])"
            ]
          },
          "metadata": {
            "tags": []
          },
          "execution_count": 25
        }
      ]
    },
    {
      "cell_type": "code",
      "metadata": {
        "colab": {
          "base_uri": "https://localhost:8080/",
          "height": 434,
          "referenced_widgets": [
            "5aa57b84fe8247598928ac43b56521fd",
            "b71fd43d493e4dc8843b6ef62ab73d1a",
            "f53cd1d7e08442f9a6417aa587cae2d2",
            "9c3c6bd9686d4ca1ba994448b42d63ec",
            "7ce1cd89a6294d4bad142fb46346ceee",
            "4c323985662e435f8fbccf32460f8f5c",
            "941a12071d9543f8a0ad607268862018",
            "463ba26fa33f4ec88736eb35eed64001",
            "79ed1a731d0347518db29b6533421f87",
            "2ff50c84086c455bae8fd670bbefbc39",
            "864480beb2ac4a348ad44adfa7ec7198",
            "e8b73e7fa1d749ecb108d713a6b2c0f5",
            "d7c44ca83ed74fe09bebd91f8595ee06",
            "5b638c61f452432fabf9a0bfcff7623d",
            "372951d477c74c22aa250dd74d146b96",
            "ff9dab7b93f245c9adc6988ceaeef049",
            "e9618bf90e5843e5910d56f5377df477",
            "152730016a564ed2b2fce26cd84cfa29",
            "ef1918edeefd4ef6aae25fcbf4b390c0",
            "2640acc2ca52432ba497f6ca9dbcf8a3",
            "89745361ff734e2dad6123af6cbf02c3",
            "50e59e22fc4d449ca25d006d3c5f70fc",
            "ba4860a65f014b7fb6022974959f4eeb",
            "192323844aa646d9b6ce3a9cc45f1031",
            "75380c91753e466eb074ed0fbb2ed54f",
            "1b2850d9c112442983b468f9cbf8ea15",
            "4fe9c3b226204152ad58e825205aa773",
            "f3fbdc4e087047bcae03d9dfc4b7828f",
            "82cd269e12de492b85b1627beaf3bf6e",
            "6193fefb1db54d2c8d238923fe75a380",
            "a5faec8314f24555a1ff8066374952c7",
            "6bcf48e4ae024be4a07e671343bda173"
          ]
        },
        "id": "_YsLCMHBTXek",
        "outputId": "3997e3b7-12a1-493b-f851-2b8468a259cd"
      },
      "source": [
        "import ktrain\r\n",
        "from ktrain import text\r\n",
        "MODEL_NAME = 'distilbert-base-uncased'\r\n",
        "t = text.Transformer(MODEL_NAME, maxlen=500, class_names=[0, 1])\r\n",
        "trn = t.preprocess_train(X_train, y_train)\r\n",
        "val = t.preprocess_test(X_test, y_test)\r\n",
        "model = t.get_classifier()\r\n",
        "learner = ktrain.get_learner(model, train_data=trn, val_data=val, batch_size=6)"
      ],
      "execution_count": null,
      "outputs": [
        {
          "output_type": "display_data",
          "data": {
            "application/vnd.jupyter.widget-view+json": {
              "model_id": "5aa57b84fe8247598928ac43b56521fd",
              "version_minor": 0,
              "version_major": 2
            },
            "text/plain": [
              "HBox(children=(FloatProgress(value=0.0, description='Downloading', max=442.0, style=ProgressStyle(description_…"
            ]
          },
          "metadata": {
            "tags": []
          }
        },
        {
          "output_type": "stream",
          "text": [
            "\n",
            "preprocessing train...\n",
            "language: en\n",
            "train sequence lengths:\n",
            "\tmean : 408\n",
            "\t95percentile : 976\n",
            "\t99percentile : 1475\n"
          ],
          "name": "stdout"
        },
        {
          "output_type": "display_data",
          "data": {
            "application/vnd.jupyter.widget-view+json": {
              "model_id": "79ed1a731d0347518db29b6533421f87",
              "version_minor": 0,
              "version_major": 2
            },
            "text/plain": [
              "HBox(children=(FloatProgress(value=0.0, description='Downloading', max=231508.0, style=ProgressStyle(descripti…"
            ]
          },
          "metadata": {
            "tags": []
          }
        },
        {
          "output_type": "stream",
          "text": [
            "\n"
          ],
          "name": "stdout"
        },
        {
          "output_type": "display_data",
          "data": {
            "application/vnd.jupyter.widget-view+json": {
              "model_id": "e9618bf90e5843e5910d56f5377df477",
              "version_minor": 0,
              "version_major": 2
            },
            "text/plain": [
              "HBox(children=(FloatProgress(value=0.0, description='Downloading', max=466062.0, style=ProgressStyle(descripti…"
            ]
          },
          "metadata": {
            "tags": []
          }
        },
        {
          "output_type": "stream",
          "text": [
            "\n"
          ],
          "name": "stdout"
        },
        {
          "output_type": "display_data",
          "data": {
            "text/html": [
              ""
            ],
            "text/plain": [
              "<IPython.core.display.HTML object>"
            ]
          },
          "metadata": {
            "tags": []
          }
        },
        {
          "output_type": "stream",
          "text": [
            "Is Multi-Label? False\n",
            "preprocessing test...\n",
            "language: en\n",
            "test sequence lengths:\n",
            "\tmean : 430\n",
            "\t95percentile : 1033\n",
            "\t99percentile : 1691\n"
          ],
          "name": "stdout"
        },
        {
          "output_type": "display_data",
          "data": {
            "text/html": [
              ""
            ],
            "text/plain": [
              "<IPython.core.display.HTML object>"
            ]
          },
          "metadata": {
            "tags": []
          }
        },
        {
          "output_type": "display_data",
          "data": {
            "application/vnd.jupyter.widget-view+json": {
              "model_id": "75380c91753e466eb074ed0fbb2ed54f",
              "version_minor": 0,
              "version_major": 2
            },
            "text/plain": [
              "HBox(children=(FloatProgress(value=0.0, description='Downloading', max=363423424.0, style=ProgressStyle(descri…"
            ]
          },
          "metadata": {
            "tags": []
          }
        },
        {
          "output_type": "stream",
          "text": [
            "\n"
          ],
          "name": "stdout"
        }
      ]
    },
    {
      "cell_type": "code",
      "metadata": {
        "colab": {
          "base_uri": "https://localhost:8080/",
          "height": 391
        },
        "id": "RM1WU_k1TeUI",
        "outputId": "46fa0ebe-cf16-4c68-ea54-be6c11f04e6c"
      },
      "source": [
        "learner.fit_onecycle(5e-3, 3)"
      ],
      "execution_count": null,
      "outputs": [
        {
          "output_type": "stream",
          "text": [
            "\n",
            "\n",
            "begin training using onecycle policy with max lr of 0.005...\n",
            "Epoch 1/3\n",
            " 60/267 [=====>........................] - ETA: 1:03:01 - loss: 0.7175 - accuracy: 0.5556"
          ],
          "name": "stdout"
        },
        {
          "output_type": "error",
          "ename": "KeyboardInterrupt",
          "evalue": "ignored",
          "traceback": [
            "\u001b[0;31m---------------------------------------------------------------------------\u001b[0m",
            "\u001b[0;31mKeyboardInterrupt\u001b[0m                         Traceback (most recent call last)",
            "\u001b[0;32m<ipython-input-30-f02ae2ca9247>\u001b[0m in \u001b[0;36m<module>\u001b[0;34m()\u001b[0m\n\u001b[0;32m----> 1\u001b[0;31m \u001b[0mlearner\u001b[0m\u001b[0;34m.\u001b[0m\u001b[0mfit_onecycle\u001b[0m\u001b[0;34m(\u001b[0m\u001b[0;36m5e-3\u001b[0m\u001b[0;34m,\u001b[0m \u001b[0;36m3\u001b[0m\u001b[0;34m)\u001b[0m\u001b[0;34m\u001b[0m\u001b[0;34m\u001b[0m\u001b[0m\n\u001b[0m",
            "\u001b[0;32m/usr/local/lib/python3.7/dist-packages/ktrain/core.py\u001b[0m in \u001b[0;36mfit_onecycle\u001b[0;34m(self, lr, epochs, checkpoint_folder, cycle_momentum, max_momentum, min_momentum, class_weight, callbacks, steps_per_epoch, verbose)\u001b[0m\n\u001b[1;32m    858\u001b[0m                         \u001b[0mcheckpoint_folder\u001b[0m\u001b[0;34m=\u001b[0m\u001b[0mcheckpoint_folder\u001b[0m\u001b[0;34m,\u001b[0m\u001b[0;34m\u001b[0m\u001b[0;34m\u001b[0m\u001b[0m\n\u001b[1;32m    859\u001b[0m                         \u001b[0mverbose\u001b[0m\u001b[0;34m=\u001b[0m\u001b[0mverbose\u001b[0m\u001b[0;34m,\u001b[0m \u001b[0mclass_weight\u001b[0m\u001b[0;34m=\u001b[0m\u001b[0mclass_weight\u001b[0m\u001b[0;34m,\u001b[0m \u001b[0mcallbacks\u001b[0m\u001b[0;34m=\u001b[0m\u001b[0mkcallbacks\u001b[0m\u001b[0;34m,\u001b[0m\u001b[0;34m\u001b[0m\u001b[0;34m\u001b[0m\u001b[0m\n\u001b[0;32m--> 860\u001b[0;31m                         steps_per_epoch=steps_per_epoch)\n\u001b[0m\u001b[1;32m    861\u001b[0m         \u001b[0mhist\u001b[0m\u001b[0;34m.\u001b[0m\u001b[0mhistory\u001b[0m\u001b[0;34m[\u001b[0m\u001b[0;34m'lr'\u001b[0m\u001b[0;34m]\u001b[0m \u001b[0;34m=\u001b[0m \u001b[0mclr\u001b[0m\u001b[0;34m.\u001b[0m\u001b[0mhistory\u001b[0m\u001b[0;34m[\u001b[0m\u001b[0;34m'lr'\u001b[0m\u001b[0;34m]\u001b[0m\u001b[0;34m\u001b[0m\u001b[0;34m\u001b[0m\u001b[0m\n\u001b[1;32m    862\u001b[0m         \u001b[0mhist\u001b[0m\u001b[0;34m.\u001b[0m\u001b[0mhistory\u001b[0m\u001b[0;34m[\u001b[0m\u001b[0;34m'iterations'\u001b[0m\u001b[0;34m]\u001b[0m \u001b[0;34m=\u001b[0m \u001b[0mclr\u001b[0m\u001b[0;34m.\u001b[0m\u001b[0mhistory\u001b[0m\u001b[0;34m[\u001b[0m\u001b[0;34m'iterations'\u001b[0m\u001b[0;34m]\u001b[0m\u001b[0;34m\u001b[0m\u001b[0;34m\u001b[0m\u001b[0m\n",
            "\u001b[0;32m/usr/local/lib/python3.7/dist-packages/ktrain/core.py\u001b[0m in \u001b[0;36mfit\u001b[0;34m(self, lr, n_cycles, cycle_len, cycle_mult, lr_decay, checkpoint_folder, early_stopping, class_weight, callbacks, steps_per_epoch, verbose)\u001b[0m\n\u001b[1;32m   1325\u001b[0m                                         \u001b[0mshuffle\u001b[0m\u001b[0;34m=\u001b[0m\u001b[0;32mTrue\u001b[0m\u001b[0;34m,\u001b[0m\u001b[0;34m\u001b[0m\u001b[0;34m\u001b[0m\u001b[0m\n\u001b[1;32m   1326\u001b[0m                                         \u001b[0mclass_weight\u001b[0m\u001b[0;34m=\u001b[0m\u001b[0mclass_weight\u001b[0m\u001b[0;34m,\u001b[0m\u001b[0;34m\u001b[0m\u001b[0;34m\u001b[0m\u001b[0m\n\u001b[0;32m-> 1327\u001b[0;31m                                         callbacks=kcallbacks)\n\u001b[0m\u001b[1;32m   1328\u001b[0m         \u001b[0;32mif\u001b[0m \u001b[0msgdr\u001b[0m \u001b[0;32mis\u001b[0m \u001b[0;32mnot\u001b[0m \u001b[0;32mNone\u001b[0m\u001b[0;34m:\u001b[0m \u001b[0mhist\u001b[0m\u001b[0;34m.\u001b[0m\u001b[0mhistory\u001b[0m\u001b[0;34m[\u001b[0m\u001b[0;34m'lr'\u001b[0m\u001b[0;34m]\u001b[0m \u001b[0;34m=\u001b[0m \u001b[0msgdr\u001b[0m\u001b[0;34m.\u001b[0m\u001b[0mhistory\u001b[0m\u001b[0;34m[\u001b[0m\u001b[0;34m'lr'\u001b[0m\u001b[0;34m]\u001b[0m\u001b[0;34m\u001b[0m\u001b[0;34m\u001b[0m\u001b[0m\n\u001b[1;32m   1329\u001b[0m         \u001b[0mself\u001b[0m\u001b[0;34m.\u001b[0m\u001b[0mhistory\u001b[0m \u001b[0;34m=\u001b[0m \u001b[0mhist\u001b[0m\u001b[0;34m\u001b[0m\u001b[0;34m\u001b[0m\u001b[0m\n",
            "\u001b[0;32m/usr/local/lib/python3.7/dist-packages/tensorflow/python/keras/engine/training.py\u001b[0m in \u001b[0;36mfit\u001b[0;34m(self, x, y, batch_size, epochs, verbose, callbacks, validation_split, validation_data, shuffle, class_weight, sample_weight, initial_epoch, steps_per_epoch, validation_steps, validation_batch_size, validation_freq, max_queue_size, workers, use_multiprocessing)\u001b[0m\n\u001b[1;32m   1098\u001b[0m                 _r=1):\n\u001b[1;32m   1099\u001b[0m               \u001b[0mcallbacks\u001b[0m\u001b[0;34m.\u001b[0m\u001b[0mon_train_batch_begin\u001b[0m\u001b[0;34m(\u001b[0m\u001b[0mstep\u001b[0m\u001b[0;34m)\u001b[0m\u001b[0;34m\u001b[0m\u001b[0;34m\u001b[0m\u001b[0m\n\u001b[0;32m-> 1100\u001b[0;31m               \u001b[0mtmp_logs\u001b[0m \u001b[0;34m=\u001b[0m \u001b[0mself\u001b[0m\u001b[0;34m.\u001b[0m\u001b[0mtrain_function\u001b[0m\u001b[0;34m(\u001b[0m\u001b[0miterator\u001b[0m\u001b[0;34m)\u001b[0m\u001b[0;34m\u001b[0m\u001b[0;34m\u001b[0m\u001b[0m\n\u001b[0m\u001b[1;32m   1101\u001b[0m               \u001b[0;32mif\u001b[0m \u001b[0mdata_handler\u001b[0m\u001b[0;34m.\u001b[0m\u001b[0mshould_sync\u001b[0m\u001b[0;34m:\u001b[0m\u001b[0;34m\u001b[0m\u001b[0;34m\u001b[0m\u001b[0m\n\u001b[1;32m   1102\u001b[0m                 \u001b[0mcontext\u001b[0m\u001b[0;34m.\u001b[0m\u001b[0masync_wait\u001b[0m\u001b[0;34m(\u001b[0m\u001b[0;34m)\u001b[0m\u001b[0;34m\u001b[0m\u001b[0;34m\u001b[0m\u001b[0m\n",
            "\u001b[0;32m/usr/local/lib/python3.7/dist-packages/tensorflow/python/eager/def_function.py\u001b[0m in \u001b[0;36m__call__\u001b[0;34m(self, *args, **kwds)\u001b[0m\n\u001b[1;32m    826\u001b[0m     \u001b[0mtracing_count\u001b[0m \u001b[0;34m=\u001b[0m \u001b[0mself\u001b[0m\u001b[0;34m.\u001b[0m\u001b[0mexperimental_get_tracing_count\u001b[0m\u001b[0;34m(\u001b[0m\u001b[0;34m)\u001b[0m\u001b[0;34m\u001b[0m\u001b[0;34m\u001b[0m\u001b[0m\n\u001b[1;32m    827\u001b[0m     \u001b[0;32mwith\u001b[0m \u001b[0mtrace\u001b[0m\u001b[0;34m.\u001b[0m\u001b[0mTrace\u001b[0m\u001b[0;34m(\u001b[0m\u001b[0mself\u001b[0m\u001b[0;34m.\u001b[0m\u001b[0m_name\u001b[0m\u001b[0;34m)\u001b[0m \u001b[0;32mas\u001b[0m \u001b[0mtm\u001b[0m\u001b[0;34m:\u001b[0m\u001b[0;34m\u001b[0m\u001b[0;34m\u001b[0m\u001b[0m\n\u001b[0;32m--> 828\u001b[0;31m       \u001b[0mresult\u001b[0m \u001b[0;34m=\u001b[0m \u001b[0mself\u001b[0m\u001b[0;34m.\u001b[0m\u001b[0m_call\u001b[0m\u001b[0;34m(\u001b[0m\u001b[0;34m*\u001b[0m\u001b[0margs\u001b[0m\u001b[0;34m,\u001b[0m \u001b[0;34m**\u001b[0m\u001b[0mkwds\u001b[0m\u001b[0;34m)\u001b[0m\u001b[0;34m\u001b[0m\u001b[0;34m\u001b[0m\u001b[0m\n\u001b[0m\u001b[1;32m    829\u001b[0m       \u001b[0mcompiler\u001b[0m \u001b[0;34m=\u001b[0m \u001b[0;34m\"xla\"\u001b[0m \u001b[0;32mif\u001b[0m \u001b[0mself\u001b[0m\u001b[0;34m.\u001b[0m\u001b[0m_experimental_compile\u001b[0m \u001b[0;32melse\u001b[0m \u001b[0;34m\"nonXla\"\u001b[0m\u001b[0;34m\u001b[0m\u001b[0;34m\u001b[0m\u001b[0m\n\u001b[1;32m    830\u001b[0m       \u001b[0mnew_tracing_count\u001b[0m \u001b[0;34m=\u001b[0m \u001b[0mself\u001b[0m\u001b[0;34m.\u001b[0m\u001b[0mexperimental_get_tracing_count\u001b[0m\u001b[0;34m(\u001b[0m\u001b[0;34m)\u001b[0m\u001b[0;34m\u001b[0m\u001b[0;34m\u001b[0m\u001b[0m\n",
            "\u001b[0;32m/usr/local/lib/python3.7/dist-packages/tensorflow/python/eager/def_function.py\u001b[0m in \u001b[0;36m_call\u001b[0;34m(self, *args, **kwds)\u001b[0m\n\u001b[1;32m    853\u001b[0m       \u001b[0;31m# In this case we have created variables on the first call, so we run the\u001b[0m\u001b[0;34m\u001b[0m\u001b[0;34m\u001b[0m\u001b[0;34m\u001b[0m\u001b[0m\n\u001b[1;32m    854\u001b[0m       \u001b[0;31m# defunned version which is guaranteed to never create variables.\u001b[0m\u001b[0;34m\u001b[0m\u001b[0;34m\u001b[0m\u001b[0;34m\u001b[0m\u001b[0m\n\u001b[0;32m--> 855\u001b[0;31m       \u001b[0;32mreturn\u001b[0m \u001b[0mself\u001b[0m\u001b[0;34m.\u001b[0m\u001b[0m_stateless_fn\u001b[0m\u001b[0;34m(\u001b[0m\u001b[0;34m*\u001b[0m\u001b[0margs\u001b[0m\u001b[0;34m,\u001b[0m \u001b[0;34m**\u001b[0m\u001b[0mkwds\u001b[0m\u001b[0;34m)\u001b[0m  \u001b[0;31m# pylint: disable=not-callable\u001b[0m\u001b[0;34m\u001b[0m\u001b[0;34m\u001b[0m\u001b[0m\n\u001b[0m\u001b[1;32m    856\u001b[0m     \u001b[0;32melif\u001b[0m \u001b[0mself\u001b[0m\u001b[0;34m.\u001b[0m\u001b[0m_stateful_fn\u001b[0m \u001b[0;32mis\u001b[0m \u001b[0;32mnot\u001b[0m \u001b[0;32mNone\u001b[0m\u001b[0;34m:\u001b[0m\u001b[0;34m\u001b[0m\u001b[0;34m\u001b[0m\u001b[0m\n\u001b[1;32m    857\u001b[0m       \u001b[0;31m# Release the lock early so that multiple threads can perform the call\u001b[0m\u001b[0;34m\u001b[0m\u001b[0;34m\u001b[0m\u001b[0;34m\u001b[0m\u001b[0m\n",
            "\u001b[0;32m/usr/local/lib/python3.7/dist-packages/tensorflow/python/eager/function.py\u001b[0m in \u001b[0;36m__call__\u001b[0;34m(self, *args, **kwargs)\u001b[0m\n\u001b[1;32m   2941\u001b[0m        filtered_flat_args) = self._maybe_define_function(args, kwargs)\n\u001b[1;32m   2942\u001b[0m     return graph_function._call_flat(\n\u001b[0;32m-> 2943\u001b[0;31m         filtered_flat_args, captured_inputs=graph_function.captured_inputs)  # pylint: disable=protected-access\n\u001b[0m\u001b[1;32m   2944\u001b[0m \u001b[0;34m\u001b[0m\u001b[0m\n\u001b[1;32m   2945\u001b[0m   \u001b[0;34m@\u001b[0m\u001b[0mproperty\u001b[0m\u001b[0;34m\u001b[0m\u001b[0;34m\u001b[0m\u001b[0m\n",
            "\u001b[0;32m/usr/local/lib/python3.7/dist-packages/tensorflow/python/eager/function.py\u001b[0m in \u001b[0;36m_call_flat\u001b[0;34m(self, args, captured_inputs, cancellation_manager)\u001b[0m\n\u001b[1;32m   1917\u001b[0m       \u001b[0;31m# No tape is watching; skip to running the function.\u001b[0m\u001b[0;34m\u001b[0m\u001b[0;34m\u001b[0m\u001b[0;34m\u001b[0m\u001b[0m\n\u001b[1;32m   1918\u001b[0m       return self._build_call_outputs(self._inference_function.call(\n\u001b[0;32m-> 1919\u001b[0;31m           ctx, args, cancellation_manager=cancellation_manager))\n\u001b[0m\u001b[1;32m   1920\u001b[0m     forward_backward = self._select_forward_and_backward_functions(\n\u001b[1;32m   1921\u001b[0m         \u001b[0margs\u001b[0m\u001b[0;34m,\u001b[0m\u001b[0;34m\u001b[0m\u001b[0;34m\u001b[0m\u001b[0m\n",
            "\u001b[0;32m/usr/local/lib/python3.7/dist-packages/tensorflow/python/eager/function.py\u001b[0m in \u001b[0;36mcall\u001b[0;34m(self, ctx, args, cancellation_manager)\u001b[0m\n\u001b[1;32m    558\u001b[0m               \u001b[0minputs\u001b[0m\u001b[0;34m=\u001b[0m\u001b[0margs\u001b[0m\u001b[0;34m,\u001b[0m\u001b[0;34m\u001b[0m\u001b[0;34m\u001b[0m\u001b[0m\n\u001b[1;32m    559\u001b[0m               \u001b[0mattrs\u001b[0m\u001b[0;34m=\u001b[0m\u001b[0mattrs\u001b[0m\u001b[0;34m,\u001b[0m\u001b[0;34m\u001b[0m\u001b[0;34m\u001b[0m\u001b[0m\n\u001b[0;32m--> 560\u001b[0;31m               ctx=ctx)\n\u001b[0m\u001b[1;32m    561\u001b[0m         \u001b[0;32melse\u001b[0m\u001b[0;34m:\u001b[0m\u001b[0;34m\u001b[0m\u001b[0;34m\u001b[0m\u001b[0m\n\u001b[1;32m    562\u001b[0m           outputs = execute.execute_with_cancellation(\n",
            "\u001b[0;32m/usr/local/lib/python3.7/dist-packages/tensorflow/python/eager/execute.py\u001b[0m in \u001b[0;36mquick_execute\u001b[0;34m(op_name, num_outputs, inputs, attrs, ctx, name)\u001b[0m\n\u001b[1;32m     58\u001b[0m     \u001b[0mctx\u001b[0m\u001b[0;34m.\u001b[0m\u001b[0mensure_initialized\u001b[0m\u001b[0;34m(\u001b[0m\u001b[0;34m)\u001b[0m\u001b[0;34m\u001b[0m\u001b[0;34m\u001b[0m\u001b[0m\n\u001b[1;32m     59\u001b[0m     tensors = pywrap_tfe.TFE_Py_Execute(ctx._handle, device_name, op_name,\n\u001b[0;32m---> 60\u001b[0;31m                                         inputs, attrs, num_outputs)\n\u001b[0m\u001b[1;32m     61\u001b[0m   \u001b[0;32mexcept\u001b[0m \u001b[0mcore\u001b[0m\u001b[0;34m.\u001b[0m\u001b[0m_NotOkStatusException\u001b[0m \u001b[0;32mas\u001b[0m \u001b[0me\u001b[0m\u001b[0;34m:\u001b[0m\u001b[0;34m\u001b[0m\u001b[0;34m\u001b[0m\u001b[0m\n\u001b[1;32m     62\u001b[0m     \u001b[0;32mif\u001b[0m \u001b[0mname\u001b[0m \u001b[0;32mis\u001b[0m \u001b[0;32mnot\u001b[0m \u001b[0;32mNone\u001b[0m\u001b[0;34m:\u001b[0m\u001b[0;34m\u001b[0m\u001b[0;34m\u001b[0m\u001b[0m\n",
            "\u001b[0;31mKeyboardInterrupt\u001b[0m: "
          ]
        }
      ]
    },
    {
      "cell_type": "code",
      "metadata": {
        "id": "uOmPfSFXV2Iw"
      },
      "source": [
        "learner.validate(class_names=[0, 1])"
      ],
      "execution_count": null,
      "outputs": []
    },
    {
      "cell_type": "code",
      "metadata": {
        "id": "ogqM5BP1V_AK"
      },
      "source": [
        "predictor = ktrain.get_predictor(learner.model, preproc=t)\r\n",
        "predictor.predict(X_test[20])"
      ],
      "execution_count": null,
      "outputs": []
    },
    {
      "cell_type": "code",
      "metadata": {
        "id": "JgIGohU0WClP"
      },
      "source": [
        "predictor = ktrain.get_predictor(learner.model, preproc=t)\r\n",
        "predictor.predict(X_test[20])"
      ],
      "execution_count": null,
      "outputs": []
    }
  ]
}