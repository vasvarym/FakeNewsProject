{
  "nbformat": 4,
  "nbformat_minor": 0,
  "metadata": {
    "kernelspec": {
      "display_name": "Python 3",
      "language": "python",
      "name": "python3"
    },
    "language_info": {
      "codemirror_mode": {
        "name": "ipython",
        "version": 3
      },
      "file_extension": ".py",
      "mimetype": "text/x-python",
      "name": "python",
      "nbconvert_exporter": "python",
      "pygments_lexer": "ipython3",
      "version": "3.8.3"
    },
    "colab": {
      "name": "nelasentiment.ipynb",
      "provenance": [],
      "collapsed_sections": [],
      "toc_visible": true
    }
  },
  "cells": [
    {
      "cell_type": "markdown",
      "metadata": {
        "id": "Ne_QT4ael6tW"
      },
      "source": [
        "#Import Libraries"
      ]
    },
    {
      "cell_type": "code",
      "metadata": {
        "id": "m5saGi6TllIz"
      },
      "source": [
        "import pandas as pd\n",
        "import numpy as np\n",
        "import seaborn as sb\n",
        "import nltk\n",
        "import re\n",
        "import matplotlib.pyplot as plt\n",
        "# Import word_tokenize and stopwords from nltk\n",
        "from nltk.corpus import stopwords\n",
        "from nltk.tokenize import word_tokenize\n",
        "from nltk.stem import WordNetLemmatizer\n",
        "\n",
        "from sklearn.feature_extraction.text import CountVectorizer\n",
        "from sklearn.feature_extraction.text import TfidfTransformer, TfidfVectorizer\n",
        "\n",
        "import nltk\n",
        "import nltk.corpus\n",
        "import string\n",
        "from gensim.models.word2vec import Word2Vec\n",
        "from sklearn.pipeline import Pipeline\n",
        "\n",
        "\n",
        "from sklearn.linear_model import LogisticRegression\n",
        "from sklearn.tree import DecisionTreeClassifier\n",
        "from sklearn.ensemble import RandomForestClassifier\n",
        "from sklearn.naive_bayes import MultinomialNB\n",
        "from sklearn import svm\n",
        "from sklearn.svm import LinearSVC\n",
        "from sklearn.model_selection import cross_validate\n",
        "\n",
        "from sklearn.metrics import confusion_matrix, f1_score, classification_report, accuracy_score"
      ],
      "execution_count": 1,
      "outputs": []
    },
    {
      "cell_type": "code",
      "metadata": {
        "id": "i52kNr0pO0hk"
      },
      "source": [
        "from keras.models import Model\r\n",
        "from keras.layers import LSTM, Activation, Dense, Dropout, Input, Embedding\r\n",
        "from keras.optimizers import RMSprop\r\n",
        "from keras.preprocessing.text import Tokenizer\r\n",
        "from keras.preprocessing import sequence\r\n",
        "from keras.utils import to_categorical\r\n",
        "from keras.callbacks import EarlyStopping\r\n",
        "from tensorflow.keras.models import Sequential"
      ],
      "execution_count": 2,
      "outputs": []
    },
    {
      "cell_type": "code",
      "metadata": {
        "colab": {
          "base_uri": "https://localhost:8080/"
        },
        "id": "31G5OI-olynX",
        "outputId": "3c3c43f3-af66-49c3-e14d-64cb34f30d3f"
      },
      "source": [
        "import nltk\r\n",
        "\r\n",
        "nltk.download('stopwords')\r\n",
        "nltk.download('wordnet')\r\n",
        "nltk.download('punkt')\r\n",
        "nltk.download('averaged_perceptron_tagger')\r\n",
        "nltk.download('maxent_ne_chunker')\r\n",
        "nltk.download('words')"
      ],
      "execution_count": 3,
      "outputs": [
        {
          "output_type": "stream",
          "text": [
            "[nltk_data] Downloading package stopwords to /root/nltk_data...\n",
            "[nltk_data]   Package stopwords is already up-to-date!\n",
            "[nltk_data] Downloading package wordnet to /root/nltk_data...\n",
            "[nltk_data]   Package wordnet is already up-to-date!\n",
            "[nltk_data] Downloading package punkt to /root/nltk_data...\n",
            "[nltk_data]   Package punkt is already up-to-date!\n",
            "[nltk_data] Downloading package averaged_perceptron_tagger to\n",
            "[nltk_data]     /root/nltk_data...\n",
            "[nltk_data]   Package averaged_perceptron_tagger is already up-to-\n",
            "[nltk_data]       date!\n",
            "[nltk_data] Downloading package maxent_ne_chunker to\n",
            "[nltk_data]     /root/nltk_data...\n",
            "[nltk_data]   Package maxent_ne_chunker is already up-to-date!\n",
            "[nltk_data] Downloading package words to /root/nltk_data...\n",
            "[nltk_data]   Package words is already up-to-date!\n"
          ],
          "name": "stdout"
        },
        {
          "output_type": "execute_result",
          "data": {
            "text/plain": [
              "True"
            ]
          },
          "metadata": {
            "tags": []
          },
          "execution_count": 3
        }
      ]
    },
    {
      "cell_type": "markdown",
      "metadata": {
        "id": "83TgHaOql-jf"
      },
      "source": [
        "#Import Dataset"
      ]
    },
    {
      "cell_type": "code",
      "metadata": {
        "colab": {
          "base_uri": "https://localhost:8080/"
        },
        "id": "h68GBCvdmBT4",
        "outputId": "bde9937f-c975-4fd9-a374-05aa299d3a3c"
      },
      "source": [
        "from google.colab import drive\r\n",
        "drive.mount('/content/drive')"
      ],
      "execution_count": 4,
      "outputs": [
        {
          "output_type": "stream",
          "text": [
            "Drive already mounted at /content/drive; to attempt to forcibly remount, call drive.mount(\"/content/drive\", force_remount=True).\n"
          ],
          "name": "stdout"
        }
      ]
    },
    {
      "cell_type": "code",
      "metadata": {
        "id": "qfqd2FUt8XmI"
      },
      "source": [
        "data = pd.read_csv(\"/content/drive/My Drive/nela10sample.csv\")\r\n",
        "data.content=data.content.astype(str)\r\n",
        "data.title=data.title.astype(str)"
      ],
      "execution_count": 5,
      "outputs": []
    },
    {
      "cell_type": "code",
      "metadata": {
        "id": "QXfyk0NhllI0",
        "colab": {
          "base_uri": "https://localhost:8080/",
          "height": 1000
        },
        "outputId": "e7fee525-9fae-4566-e9e4-fa0103df9c7e"
      },
      "source": [
        "data"
      ],
      "execution_count": null,
      "outputs": [
        {
          "output_type": "execute_result",
          "data": {
            "text/html": [
              "<div>\n",
              "<style scoped>\n",
              "    .dataframe tbody tr th:only-of-type {\n",
              "        vertical-align: middle;\n",
              "    }\n",
              "\n",
              "    .dataframe tbody tr th {\n",
              "        vertical-align: top;\n",
              "    }\n",
              "\n",
              "    .dataframe thead th {\n",
              "        text-align: right;\n",
              "    }\n",
              "</style>\n",
              "<table border=\"1\" class=\"dataframe\">\n",
              "  <thead>\n",
              "    <tr style=\"text-align: right;\">\n",
              "      <th></th>\n",
              "      <th>id</th>\n",
              "      <th>date</th>\n",
              "      <th>source</th>\n",
              "      <th>title</th>\n",
              "      <th>content</th>\n",
              "      <th>author</th>\n",
              "      <th>url</th>\n",
              "      <th>published</th>\n",
              "      <th>published_utc</th>\n",
              "      <th>collection_utc</th>\n",
              "      <th>Reliability</th>\n",
              "    </tr>\n",
              "  </thead>\n",
              "  <tbody>\n",
              "    <tr>\n",
              "      <th>0</th>\n",
              "      <td>abcnews--2020-04-15--Students could take SAT a...</td>\n",
              "      <td>2020-04-15</td>\n",
              "      <td>abcnews</td>\n",
              "      <td>Students could take SAT at home if schools rem...</td>\n",
              "      <td>A home version of the SAT college entrance exa...</td>\n",
              "      <td>NaN</td>\n",
              "      <td>https://abcnews.go.com/US/wireStory/students-s...</td>\n",
              "      <td>Wed, 15 Apr 2020 19:33:47 -0400</td>\n",
              "      <td>1586993627</td>\n",
              "      <td>1586993864</td>\n",
              "      <td>0</td>\n",
              "    </tr>\n",
              "    <tr>\n",
              "      <th>1</th>\n",
              "      <td>abcnews--2020-04-15--Detroit facing fresh fisc...</td>\n",
              "      <td>2020-04-15</td>\n",
              "      <td>abcnews</td>\n",
              "      <td>Detroit facing fresh fiscal woes with coronavi...</td>\n",
              "      <td>DETROIT -- Barely surviving the 2008 economic ...</td>\n",
              "      <td>NaN</td>\n",
              "      <td>https://abcnews.go.com/US/wireStory/detroit-fa...</td>\n",
              "      <td>Wed, 15 Apr 2020 19:30:18 -0400</td>\n",
              "      <td>1586993418</td>\n",
              "      <td>1586993865</td>\n",
              "      <td>0</td>\n",
              "    </tr>\n",
              "    <tr>\n",
              "      <th>2</th>\n",
              "      <td>abcnews--2020-04-15--Thousands protest Michiga...</td>\n",
              "      <td>2020-04-15</td>\n",
              "      <td>abcnews</td>\n",
              "      <td>Thousands protest Michigan governor's social d...</td>\n",
              "      <td>LANSING, Mich. -- Thousands of flag-waving, ho...</td>\n",
              "      <td>NaN</td>\n",
              "      <td>https://abcnews.go.com/US/wireStory/hundreds-p...</td>\n",
              "      <td>Wed, 15 Apr 2020 18:48:35 -0400</td>\n",
              "      <td>1586990915</td>\n",
              "      <td>1586993866</td>\n",
              "      <td>0</td>\n",
              "    </tr>\n",
              "    <tr>\n",
              "      <th>3</th>\n",
              "      <td>abcnews--2020-04-15--Baltimore Police defends ...</td>\n",
              "      <td>2020-04-15</td>\n",
              "      <td>abcnews</td>\n",
              "      <td>Baltimore Police defends planned aerial survei...</td>\n",
              "      <td>The Baltimore Police Department on Wednesday d...</td>\n",
              "      <td>NaN</td>\n",
              "      <td>https://abcnews.go.com/US/wireStory/baltimore-...</td>\n",
              "      <td>Wed, 15 Apr 2020 18:32:47 -0400</td>\n",
              "      <td>1586989967</td>\n",
              "      <td>1586993867</td>\n",
              "      <td>0</td>\n",
              "    </tr>\n",
              "    <tr>\n",
              "      <th>4</th>\n",
              "      <td>abcnews--2020-04-15--Attorney who fought for c...</td>\n",
              "      <td>2020-04-15</td>\n",
              "      <td>abcnews</td>\n",
              "      <td>Attorney who fought for civil rights in Louisi...</td>\n",
              "      <td>NEW ORLEANS -- A white lawyer who defended bla...</td>\n",
              "      <td>NaN</td>\n",
              "      <td>https://abcnews.go.com/US/wireStory/attorney-f...</td>\n",
              "      <td>Wed, 15 Apr 2020 18:12:18 -0400</td>\n",
              "      <td>1586988738</td>\n",
              "      <td>1586993864</td>\n",
              "      <td>0</td>\n",
              "    </tr>\n",
              "    <tr>\n",
              "      <th>...</th>\n",
              "      <td>...</td>\n",
              "      <td>...</td>\n",
              "      <td>...</td>\n",
              "      <td>...</td>\n",
              "      <td>...</td>\n",
              "      <td>...</td>\n",
              "      <td>...</td>\n",
              "      <td>...</td>\n",
              "      <td>...</td>\n",
              "      <td>...</td>\n",
              "      <td>...</td>\n",
              "    </tr>\n",
              "    <tr>\n",
              "      <th>102549</th>\n",
              "      <td>wearechange--2020-04-26--North Korea Power Vac...</td>\n",
              "      <td>2020-04-26</td>\n",
              "      <td>wearechange</td>\n",
              "      <td>North Korea Power Vacuum Brings US And China T...</td>\n",
              "      <td>The fall of North Korea could lead to a US war...</td>\n",
              "      <td>AJ Nelson</td>\n",
              "      <td>https://wearechange.org/north-korea-power-vacu...</td>\n",
              "      <td>Sun, 26 Apr 2020 20:12:36 +0000</td>\n",
              "      <td>1587946356</td>\n",
              "      <td>1587951770</td>\n",
              "      <td>2</td>\n",
              "    </tr>\n",
              "    <tr>\n",
              "      <th>102550</th>\n",
              "      <td>wearechange--2020-04-26--Twitter Suspends Acco...</td>\n",
              "      <td>2020-04-26</td>\n",
              "      <td>wearechange</td>\n",
              "      <td>Twitter Suspends Account of Biotech Company Te...</td>\n",
              "      <td>Twitter has suspended the account of a Colorad...</td>\n",
              "      <td>AJ Nelson</td>\n",
              "      <td>https://wearechange.org/twitter-suspends-accou...</td>\n",
              "      <td>Sun, 26 Apr 2020 19:14:56 +0000</td>\n",
              "      <td>1587942896</td>\n",
              "      <td>1587951772</td>\n",
              "      <td>2</td>\n",
              "    </tr>\n",
              "    <tr>\n",
              "      <th>102551</th>\n",
              "      <td>wearechange--2020-04-26--Riots Have Started In...</td>\n",
              "      <td>2020-04-26</td>\n",
              "      <td>wearechange</td>\n",
              "      <td>Riots Have Started In Venezuela! Will It Come ...</td>\n",
              "      <td>OH YEAH, since we are not corporate or governm...</td>\n",
              "      <td>AJ Nelson</td>\n",
              "      <td>https://wearechange.org/riots-have-started-in-...</td>\n",
              "      <td>Sun, 26 Apr 2020 17:48:15 +0000</td>\n",
              "      <td>1587937695</td>\n",
              "      <td>1587951770</td>\n",
              "      <td>2</td>\n",
              "    </tr>\n",
              "    <tr>\n",
              "      <th>102552</th>\n",
              "      <td>wearechange--2020-04-27--True Coronavirus Deat...</td>\n",
              "      <td>2020-04-27</td>\n",
              "      <td>wearechange</td>\n",
              "      <td>True Coronavirus Death Toll Likely 60% Higher ...</td>\n",
              "      <td>As experts try to model the true number of cor...</td>\n",
              "      <td>AJ Nelson</td>\n",
              "      <td>https://wearechange.org/true-coronavirus-death...</td>\n",
              "      <td>Mon, 27 Apr 2020 02:10:52 +0000</td>\n",
              "      <td>1587967852</td>\n",
              "      <td>1587991692</td>\n",
              "      <td>2</td>\n",
              "    </tr>\n",
              "    <tr>\n",
              "      <th>102553</th>\n",
              "      <td>wearechange--2020-04-28--WHO Mysteriously Dele...</td>\n",
              "      <td>2020-04-28</td>\n",
              "      <td>wearechange</td>\n",
              "      <td>WHO Mysteriously Deletes Tweet About Reinfecti...</td>\n",
              "      <td>The World Health Organization (WHO) on Sunday ...</td>\n",
              "      <td>AJ Nelson</td>\n",
              "      <td>https://wearechange.org/who-mysteriously-delet...</td>\n",
              "      <td>Tue, 28 Apr 2020 01:41:07 +0000</td>\n",
              "      <td>1588052467</td>\n",
              "      <td>1588039177</td>\n",
              "      <td>2</td>\n",
              "    </tr>\n",
              "  </tbody>\n",
              "</table>\n",
              "<p>102554 rows × 11 columns</p>\n",
              "</div>"
            ],
            "text/plain": [
              "                                                       id  ... Reliability\n",
              "0       abcnews--2020-04-15--Students could take SAT a...  ...           0\n",
              "1       abcnews--2020-04-15--Detroit facing fresh fisc...  ...           0\n",
              "2       abcnews--2020-04-15--Thousands protest Michiga...  ...           0\n",
              "3       abcnews--2020-04-15--Baltimore Police defends ...  ...           0\n",
              "4       abcnews--2020-04-15--Attorney who fought for c...  ...           0\n",
              "...                                                   ...  ...         ...\n",
              "102549  wearechange--2020-04-26--North Korea Power Vac...  ...           2\n",
              "102550  wearechange--2020-04-26--Twitter Suspends Acco...  ...           2\n",
              "102551  wearechange--2020-04-26--Riots Have Started In...  ...           2\n",
              "102552  wearechange--2020-04-27--True Coronavirus Deat...  ...           2\n",
              "102553  wearechange--2020-04-28--WHO Mysteriously Dele...  ...           2\n",
              "\n",
              "[102554 rows x 11 columns]"
            ]
          },
          "metadata": {
            "tags": []
          },
          "execution_count": 5
        }
      ]
    },
    {
      "cell_type": "code",
      "metadata": {
        "colab": {
          "base_uri": "https://localhost:8080/"
        },
        "id": "crZiIRDtllI1",
        "outputId": "ef866dcf-327b-4f8d-8202-4a05b4784ffa"
      },
      "source": [
        "# Shape of each set\n",
        "\n",
        "print(\"Shape of DATA: \", data.shape)"
      ],
      "execution_count": 5,
      "outputs": [
        {
          "output_type": "stream",
          "text": [
            "Shape of DATA:  (102554, 11)\n"
          ],
          "name": "stdout"
        }
      ]
    },
    {
      "cell_type": "code",
      "metadata": {
        "id": "6T__whUu-q5R"
      },
      "source": [
        "# Concetanate title and content\r\n",
        "data[\"content\"] = data[\"title\"] + \" \" + data[\"content\"]\r\n",
        "\r\n",
        "#Keep only content, Reliability as columns\r\n",
        "data = data.drop(['id','date','source','title','author','url','published','published_utc','collection_utc'],axis=1)"
      ],
      "execution_count": 6,
      "outputs": []
    },
    {
      "cell_type": "code",
      "metadata": {
        "colab": {
          "base_uri": "https://localhost:8080/",
          "height": 419
        },
        "id": "kQLjI7rn-6CI",
        "outputId": "6b36b0fb-ea3a-42e1-8ecf-6c81f8c57b23"
      },
      "source": [
        "data"
      ],
      "execution_count": 7,
      "outputs": [
        {
          "output_type": "execute_result",
          "data": {
            "text/html": [
              "<div>\n",
              "<style scoped>\n",
              "    .dataframe tbody tr th:only-of-type {\n",
              "        vertical-align: middle;\n",
              "    }\n",
              "\n",
              "    .dataframe tbody tr th {\n",
              "        vertical-align: top;\n",
              "    }\n",
              "\n",
              "    .dataframe thead th {\n",
              "        text-align: right;\n",
              "    }\n",
              "</style>\n",
              "<table border=\"1\" class=\"dataframe\">\n",
              "  <thead>\n",
              "    <tr style=\"text-align: right;\">\n",
              "      <th></th>\n",
              "      <th>content</th>\n",
              "      <th>Reliability</th>\n",
              "    </tr>\n",
              "  </thead>\n",
              "  <tbody>\n",
              "    <tr>\n",
              "      <th>0</th>\n",
              "      <td>Students could take SAT at home if schools rem...</td>\n",
              "      <td>0</td>\n",
              "    </tr>\n",
              "    <tr>\n",
              "      <th>1</th>\n",
              "      <td>Detroit facing fresh fiscal woes with coronavi...</td>\n",
              "      <td>0</td>\n",
              "    </tr>\n",
              "    <tr>\n",
              "      <th>2</th>\n",
              "      <td>Thousands protest Michigan governor's social d...</td>\n",
              "      <td>0</td>\n",
              "    </tr>\n",
              "    <tr>\n",
              "      <th>3</th>\n",
              "      <td>Baltimore Police defends planned aerial survei...</td>\n",
              "      <td>0</td>\n",
              "    </tr>\n",
              "    <tr>\n",
              "      <th>4</th>\n",
              "      <td>Attorney who fought for civil rights in Louisi...</td>\n",
              "      <td>0</td>\n",
              "    </tr>\n",
              "    <tr>\n",
              "      <th>...</th>\n",
              "      <td>...</td>\n",
              "      <td>...</td>\n",
              "    </tr>\n",
              "    <tr>\n",
              "      <th>102549</th>\n",
              "      <td>North Korea Power Vacuum Brings US And China T...</td>\n",
              "      <td>2</td>\n",
              "    </tr>\n",
              "    <tr>\n",
              "      <th>102550</th>\n",
              "      <td>Twitter Suspends Account of Biotech Company Te...</td>\n",
              "      <td>2</td>\n",
              "    </tr>\n",
              "    <tr>\n",
              "      <th>102551</th>\n",
              "      <td>Riots Have Started In Venezuela! Will It Come ...</td>\n",
              "      <td>2</td>\n",
              "    </tr>\n",
              "    <tr>\n",
              "      <th>102552</th>\n",
              "      <td>True Coronavirus Death Toll Likely 60% Higher ...</td>\n",
              "      <td>2</td>\n",
              "    </tr>\n",
              "    <tr>\n",
              "      <th>102553</th>\n",
              "      <td>WHO Mysteriously Deletes Tweet About Reinfecti...</td>\n",
              "      <td>2</td>\n",
              "    </tr>\n",
              "  </tbody>\n",
              "</table>\n",
              "<p>102554 rows × 2 columns</p>\n",
              "</div>"
            ],
            "text/plain": [
              "                                                  content  Reliability\n",
              "0       Students could take SAT at home if schools rem...            0\n",
              "1       Detroit facing fresh fiscal woes with coronavi...            0\n",
              "2       Thousands protest Michigan governor's social d...            0\n",
              "3       Baltimore Police defends planned aerial survei...            0\n",
              "4       Attorney who fought for civil rights in Louisi...            0\n",
              "...                                                   ...          ...\n",
              "102549  North Korea Power Vacuum Brings US And China T...            2\n",
              "102550  Twitter Suspends Account of Biotech Company Te...            2\n",
              "102551  Riots Have Started In Venezuela! Will It Come ...            2\n",
              "102552  True Coronavirus Death Toll Likely 60% Higher ...            2\n",
              "102553  WHO Mysteriously Deletes Tweet About Reinfecti...            2\n",
              "\n",
              "[102554 rows x 2 columns]"
            ]
          },
          "metadata": {
            "tags": []
          },
          "execution_count": 7
        }
      ]
    },
    {
      "cell_type": "markdown",
      "metadata": {
        "id": "l9F13qL5llI2"
      },
      "source": [
        "# Sentiment Analysis\n",
        "\n",
        "Get polarity and subjectivity scores of the news with TextBlob"
      ]
    },
    {
      "cell_type": "code",
      "metadata": {
        "id": "Vn19yi-vllI2"
      },
      "source": [
        "# Import the TextBlob\n",
        "from textblob import TextBlob"
      ],
      "execution_count": 7,
      "outputs": []
    },
    {
      "cell_type": "code",
      "metadata": {
        "id": "N6nLd2d7Aakq"
      },
      "source": [
        "df1 = data[:1000]\r\n",
        "df2 = data[-1000:]\r\n",
        "df3 = [df1,df2]\r\n",
        "smallerdf = pd.concat(df3)"
      ],
      "execution_count": 8,
      "outputs": []
    },
    {
      "cell_type": "code",
      "metadata": {
        "colab": {
          "base_uri": "https://localhost:8080/",
          "height": 359
        },
        "id": "Bh8SKjV1llI3",
        "outputId": "8326f963-fec7-469c-c15f-095c56f60c21"
      },
      "source": [
        "# Add polarities and subkectivities into the DataFrame by using TextBlob\n",
        "smallerdf[\"Polarity\"] = smallerdf[\"content\"].apply(lambda word: TextBlob(word).sentiment.polarity)\n",
        "smallerdf[\"Subjectivity\"] = smallerdf[\"content\"].apply(lambda word: TextBlob(word).sentiment.subjectivity)\n",
        "\n",
        "# Display the Polarity and Subjectivity columns of train dataset\n",
        "display(smallerdf[[\"content\",\"Polarity\",\"Subjectivity\"]].head(10))"
      ],
      "execution_count": 14,
      "outputs": [
        {
          "output_type": "display_data",
          "data": {
            "text/html": [
              "<div>\n",
              "<style scoped>\n",
              "    .dataframe tbody tr th:only-of-type {\n",
              "        vertical-align: middle;\n",
              "    }\n",
              "\n",
              "    .dataframe tbody tr th {\n",
              "        vertical-align: top;\n",
              "    }\n",
              "\n",
              "    .dataframe thead th {\n",
              "        text-align: right;\n",
              "    }\n",
              "</style>\n",
              "<table border=\"1\" class=\"dataframe\">\n",
              "  <thead>\n",
              "    <tr style=\"text-align: right;\">\n",
              "      <th></th>\n",
              "      <th>content</th>\n",
              "      <th>Polarity</th>\n",
              "      <th>Subjectivity</th>\n",
              "    </tr>\n",
              "  </thead>\n",
              "  <tbody>\n",
              "    <tr>\n",
              "      <th>0</th>\n",
              "      <td>Students could take SAT at home if schools rem...</td>\n",
              "      <td>0.079265</td>\n",
              "      <td>0.395490</td>\n",
              "    </tr>\n",
              "    <tr>\n",
              "      <th>1</th>\n",
              "      <td>Detroit facing fresh fiscal woes with coronavi...</td>\n",
              "      <td>0.072199</td>\n",
              "      <td>0.433984</td>\n",
              "    </tr>\n",
              "    <tr>\n",
              "      <th>2</th>\n",
              "      <td>Thousands protest Michigan governor's social d...</td>\n",
              "      <td>-0.072874</td>\n",
              "      <td>0.411442</td>\n",
              "    </tr>\n",
              "    <tr>\n",
              "      <th>3</th>\n",
              "      <td>Baltimore Police defends planned aerial survei...</td>\n",
              "      <td>0.033147</td>\n",
              "      <td>0.602930</td>\n",
              "    </tr>\n",
              "    <tr>\n",
              "      <th>4</th>\n",
              "      <td>Attorney who fought for civil rights in Louisi...</td>\n",
              "      <td>0.185473</td>\n",
              "      <td>0.484764</td>\n",
              "    </tr>\n",
              "    <tr>\n",
              "      <th>5</th>\n",
              "      <td>California to give cash payments to immigrants...</td>\n",
              "      <td>0.096134</td>\n",
              "      <td>0.421376</td>\n",
              "    </tr>\n",
              "    <tr>\n",
              "      <th>6</th>\n",
              "      <td>Deputies: Florida doctors who took down Trump ...</td>\n",
              "      <td>-0.031313</td>\n",
              "      <td>0.246465</td>\n",
              "    </tr>\n",
              "    <tr>\n",
              "      <th>7</th>\n",
              "      <td>Evidence of virus' effect on US economy grows ...</td>\n",
              "      <td>0.110147</td>\n",
              "      <td>0.393699</td>\n",
              "    </tr>\n",
              "    <tr>\n",
              "      <th>8</th>\n",
              "      <td>Lawyer for Hanukkah stabbing suspect seeks to ...</td>\n",
              "      <td>-0.114876</td>\n",
              "      <td>0.404959</td>\n",
              "    </tr>\n",
              "    <tr>\n",
              "      <th>9</th>\n",
              "      <td>Explosion caught on video damages paper mill; ...</td>\n",
              "      <td>-0.034538</td>\n",
              "      <td>0.497237</td>\n",
              "    </tr>\n",
              "  </tbody>\n",
              "</table>\n",
              "</div>"
            ],
            "text/plain": [
              "                                             content  Polarity  Subjectivity\n",
              "0  Students could take SAT at home if schools rem...  0.079265      0.395490\n",
              "1  Detroit facing fresh fiscal woes with coronavi...  0.072199      0.433984\n",
              "2  Thousands protest Michigan governor's social d... -0.072874      0.411442\n",
              "3  Baltimore Police defends planned aerial survei...  0.033147      0.602930\n",
              "4  Attorney who fought for civil rights in Louisi...  0.185473      0.484764\n",
              "5  California to give cash payments to immigrants...  0.096134      0.421376\n",
              "6  Deputies: Florida doctors who took down Trump ... -0.031313      0.246465\n",
              "7  Evidence of virus' effect on US economy grows ...  0.110147      0.393699\n",
              "8  Lawyer for Hanukkah stabbing suspect seeks to ... -0.114876      0.404959\n",
              "9  Explosion caught on video damages paper mill; ... -0.034538      0.497237"
            ]
          },
          "metadata": {
            "tags": []
          }
        }
      ]
    },
    {
      "cell_type": "code",
      "metadata": {
        "colab": {
          "base_uri": "https://localhost:8080/",
          "height": 359
        },
        "id": "ib1oXXwbllI3",
        "outputId": "a85ce084-9ae3-4b8e-8385-a1fdb7bb8c30"
      },
      "source": [
        "# Define a function to classify polarities\n",
        "def analyse_polarity(polarity):\n",
        "    if polarity > 0:\n",
        "        return \"Positive\"\n",
        "    if polarity == 0:\n",
        "        return \"Neutral\"\n",
        "    if polarity < 0:\n",
        "        return \"Negative\"\n",
        "\n",
        "# Apply the funtion on Polarity column and add the results into a new column\n",
        "smallerdf[\"SentLabel\"] = smallerdf[\"Polarity\"].apply(analyse_polarity)\n",
        "\n",
        "# Display the Polarity and Subjectivity Analysis\n",
        "display(smallerdf[[\"SentLabel\"]].head(10))"
      ],
      "execution_count": 15,
      "outputs": [
        {
          "output_type": "display_data",
          "data": {
            "text/html": [
              "<div>\n",
              "<style scoped>\n",
              "    .dataframe tbody tr th:only-of-type {\n",
              "        vertical-align: middle;\n",
              "    }\n",
              "\n",
              "    .dataframe tbody tr th {\n",
              "        vertical-align: top;\n",
              "    }\n",
              "\n",
              "    .dataframe thead th {\n",
              "        text-align: right;\n",
              "    }\n",
              "</style>\n",
              "<table border=\"1\" class=\"dataframe\">\n",
              "  <thead>\n",
              "    <tr style=\"text-align: right;\">\n",
              "      <th></th>\n",
              "      <th>SentLabel</th>\n",
              "    </tr>\n",
              "  </thead>\n",
              "  <tbody>\n",
              "    <tr>\n",
              "      <th>0</th>\n",
              "      <td>Positive</td>\n",
              "    </tr>\n",
              "    <tr>\n",
              "      <th>1</th>\n",
              "      <td>Positive</td>\n",
              "    </tr>\n",
              "    <tr>\n",
              "      <th>2</th>\n",
              "      <td>Negative</td>\n",
              "    </tr>\n",
              "    <tr>\n",
              "      <th>3</th>\n",
              "      <td>Positive</td>\n",
              "    </tr>\n",
              "    <tr>\n",
              "      <th>4</th>\n",
              "      <td>Positive</td>\n",
              "    </tr>\n",
              "    <tr>\n",
              "      <th>5</th>\n",
              "      <td>Positive</td>\n",
              "    </tr>\n",
              "    <tr>\n",
              "      <th>6</th>\n",
              "      <td>Negative</td>\n",
              "    </tr>\n",
              "    <tr>\n",
              "      <th>7</th>\n",
              "      <td>Positive</td>\n",
              "    </tr>\n",
              "    <tr>\n",
              "      <th>8</th>\n",
              "      <td>Negative</td>\n",
              "    </tr>\n",
              "    <tr>\n",
              "      <th>9</th>\n",
              "      <td>Negative</td>\n",
              "    </tr>\n",
              "  </tbody>\n",
              "</table>\n",
              "</div>"
            ],
            "text/plain": [
              "  SentLabel\n",
              "0  Positive\n",
              "1  Positive\n",
              "2  Negative\n",
              "3  Positive\n",
              "4  Positive\n",
              "5  Positive\n",
              "6  Negative\n",
              "7  Positive\n",
              "8  Negative\n",
              "9  Negative"
            ]
          },
          "metadata": {
            "tags": []
          }
        }
      ]
    },
    {
      "cell_type": "code",
      "metadata": {
        "colab": {
          "base_uri": "https://localhost:8080/"
        },
        "id": "sa-9llswllI4",
        "outputId": "2689752b-11c2-46f8-845b-e888ea01a918"
      },
      "source": [
        "# Print the value counts of the SentLabel column\n",
        "print(smallerdf[\"SentLabel\"].value_counts())"
      ],
      "execution_count": 15,
      "outputs": [
        {
          "output_type": "stream",
          "text": [
            "Positive    1379\n",
            "Negative     584\n",
            "Neutral       37\n",
            "Name: SentLabel, dtype: int64\n"
          ],
          "name": "stdout"
        }
      ]
    },
    {
      "cell_type": "code",
      "metadata": {
        "id": "UHW4_4WNllI4",
        "colab": {
          "base_uri": "https://localhost:8080/",
          "height": 953
        },
        "outputId": "5f274628-34cd-4ab5-ac19-3e2d546d634f"
      },
      "source": [
        "import matplotlib.pyplot as plt\n",
        "import seaborn as sns\n",
        "# Change the datatype as \"category\"\n",
        "smallerdf[\"SentLabel\"] = smallerdf[\"SentLabel\"].astype(\"category\")\n",
        "\n",
        "# Visualize the Label counts\n",
        "sns.countplot(smallerdf[\"SentLabel\"])\n",
        "plt.title(\"Label Counts\")\n",
        "plt.show()\n",
        "\n",
        "# Visualize the Polarity scores\n",
        "plt.figure(figsize = (10, 10)) \n",
        "sns.scatterplot(x=\"Polarity\", y=\"Subjectivity\", hue=\"Reliability\", data=smallerdf)\n",
        "plt.title(\"Subjectivity vs Polarity\")\n",
        "plt.show()"
      ],
      "execution_count": 16,
      "outputs": [
        {
          "output_type": "stream",
          "text": [
            "/usr/local/lib/python3.7/dist-packages/seaborn/_decorators.py:43: FutureWarning: Pass the following variable as a keyword arg: x. From version 0.12, the only valid positional argument will be `data`, and passing other arguments without an explicit keyword will result in an error or misinterpretation.\n",
            "  FutureWarning\n"
          ],
          "name": "stderr"
        },
        {
          "output_type": "display_data",
          "data": {
            "image/png": "[encoded data removed]",
            "text/plain": [
              "<Figure size 432x288 with 1 Axes>"
            ]
          },
          "metadata": {
            "tags": [],
            "needs_background": "light"
          }
        },
        {
          "output_type": "display_data",
          "data": {
            "image/png": "[encoded data removed]",
            "text/plain": [
              "<Figure size 720x720 with 1 Axes>"
            ]
          },
          "metadata": {
            "tags": [],
            "needs_background": "light"
          }
        }
      ]
    },
    {
      "cell_type": "code",
      "metadata": {
        "id": "ObQzHh4RO8Mf"
      },
      "source": [
        "def rem_noise(text):\r\n",
        "  text = text.translate(str.maketrans('','',string.punctuation))\r\n",
        "\r\n",
        "  text =  re.sub('[0-9]+','',text)\r\n",
        "\r\n",
        "  text = re.sub('https?:\\S+','',text)\r\n",
        "\r\n",
        "  text =  re.sub('<.*?>',\" \",text)\r\n",
        "\r\n",
        "  return text"
      ],
      "execution_count": 10,
      "outputs": []
    },
    {
      "cell_type": "code",
      "metadata": {
        "id": "Bmx4ohXcO9hW"
      },
      "source": [
        "stop = set(stopwords.words('english'))\r\n",
        "\r\n",
        "def rem_stopwords(text):\r\n",
        "    \r\n",
        "    words = [ch for ch in text if ch not in stop]\r\n",
        "    words= \"\".join(words).split()\r\n",
        "    words= [words.lower() for words in text.split()]\r\n",
        "    \r\n",
        "    return words"
      ],
      "execution_count": 11,
      "outputs": []
    },
    {
      "cell_type": "code",
      "metadata": {
        "id": "5UzEf3qdPOz0"
      },
      "source": [
        "def tokenize_statements(text):\r\n",
        "    \r\n",
        "    # Tokenize the words\r\n",
        "    tokenized = word_tokenize(text)\r\n",
        "\r\n",
        "    # Remove the stop words\r\n",
        "    tokenized = [token for token in tokenized if token not in stopwords.words(\"english\")] \r\n",
        "\r\n",
        "    # Lemmatize the words, changing text to lowercase\r\n",
        "    lemmatizer = WordNetLemmatizer()\r\n",
        "    tokenized = [lemmatizer.lemmatize(token.lower(), pos='a') for token in tokenized]\r\n",
        "    \r\n",
        "    return tokenized"
      ],
      "execution_count": 12,
      "outputs": []
    },
    {
      "cell_type": "code",
      "metadata": {
        "id": "XK0hEZIzfgOY"
      },
      "source": [
        "#Keep only content, Polarity and Subjectivity as columns\r\n",
        "x = smallerdf.drop(['Reliability','SentLabel'],axis=1)\r\n",
        "x['content'] = x['content'].apply(rem_noise)\r\n",
        "y = smallerdf['Reliability']"
      ],
      "execution_count": 16,
      "outputs": []
    },
    {
      "cell_type": "code",
      "metadata": {
        "colab": {
          "base_uri": "https://localhost:8080/",
          "height": 419
        },
        "id": "2-z9VpJskreZ",
        "outputId": "be5b8fe4-4fe0-4401-b5c7-90ea31b14625"
      },
      "source": [
        "smallerdf"
      ],
      "execution_count": 175,
      "outputs": [
        {
          "output_type": "execute_result",
          "data": {
            "text/html": [
              "<div>\n",
              "<style scoped>\n",
              "    .dataframe tbody tr th:only-of-type {\n",
              "        vertical-align: middle;\n",
              "    }\n",
              "\n",
              "    .dataframe tbody tr th {\n",
              "        vertical-align: top;\n",
              "    }\n",
              "\n",
              "    .dataframe thead th {\n",
              "        text-align: right;\n",
              "    }\n",
              "</style>\n",
              "<table border=\"1\" class=\"dataframe\">\n",
              "  <thead>\n",
              "    <tr style=\"text-align: right;\">\n",
              "      <th></th>\n",
              "      <th>content</th>\n",
              "      <th>Reliability</th>\n",
              "      <th>Polarity</th>\n",
              "      <th>Subjectivity</th>\n",
              "      <th>SentLabel</th>\n",
              "    </tr>\n",
              "  </thead>\n",
              "  <tbody>\n",
              "    <tr>\n",
              "      <th>0</th>\n",
              "      <td>Students could take SAT at home if schools rem...</td>\n",
              "      <td>0</td>\n",
              "      <td>0.079265</td>\n",
              "      <td>0.395490</td>\n",
              "      <td>Positive</td>\n",
              "    </tr>\n",
              "    <tr>\n",
              "      <th>1</th>\n",
              "      <td>Detroit facing fresh fiscal woes with coronavi...</td>\n",
              "      <td>0</td>\n",
              "      <td>0.072199</td>\n",
              "      <td>0.433984</td>\n",
              "      <td>Positive</td>\n",
              "    </tr>\n",
              "    <tr>\n",
              "      <th>2</th>\n",
              "      <td>Thousands protest Michigan governor's social d...</td>\n",
              "      <td>0</td>\n",
              "      <td>-0.072874</td>\n",
              "      <td>0.411442</td>\n",
              "      <td>Negative</td>\n",
              "    </tr>\n",
              "    <tr>\n",
              "      <th>3</th>\n",
              "      <td>Baltimore Police defends planned aerial survei...</td>\n",
              "      <td>0</td>\n",
              "      <td>0.033147</td>\n",
              "      <td>0.602930</td>\n",
              "      <td>Positive</td>\n",
              "    </tr>\n",
              "    <tr>\n",
              "      <th>4</th>\n",
              "      <td>Attorney who fought for civil rights in Louisi...</td>\n",
              "      <td>0</td>\n",
              "      <td>0.185473</td>\n",
              "      <td>0.484764</td>\n",
              "      <td>Positive</td>\n",
              "    </tr>\n",
              "    <tr>\n",
              "      <th>...</th>\n",
              "      <td>...</td>\n",
              "      <td>...</td>\n",
              "      <td>...</td>\n",
              "      <td>...</td>\n",
              "      <td>...</td>\n",
              "    </tr>\n",
              "    <tr>\n",
              "      <th>102549</th>\n",
              "      <td>North Korea Power Vacuum Brings US And China T...</td>\n",
              "      <td>2</td>\n",
              "      <td>0.292932</td>\n",
              "      <td>0.317857</td>\n",
              "      <td>Positive</td>\n",
              "    </tr>\n",
              "    <tr>\n",
              "      <th>102550</th>\n",
              "      <td>Twitter Suspends Account of Biotech Company Te...</td>\n",
              "      <td>2</td>\n",
              "      <td>0.094251</td>\n",
              "      <td>0.485027</td>\n",
              "      <td>Positive</td>\n",
              "    </tr>\n",
              "    <tr>\n",
              "      <th>102551</th>\n",
              "      <td>Riots Have Started In Venezuela! Will It Come ...</td>\n",
              "      <td>2</td>\n",
              "      <td>0.000000</td>\n",
              "      <td>0.000000</td>\n",
              "      <td>Neutral</td>\n",
              "    </tr>\n",
              "    <tr>\n",
              "      <th>102552</th>\n",
              "      <td>True Coronavirus Death Toll Likely 60% Higher ...</td>\n",
              "      <td>2</td>\n",
              "      <td>0.065671</td>\n",
              "      <td>0.461993</td>\n",
              "      <td>Positive</td>\n",
              "    </tr>\n",
              "    <tr>\n",
              "      <th>102553</th>\n",
              "      <td>WHO Mysteriously Deletes Tweet About Reinfecti...</td>\n",
              "      <td>2</td>\n",
              "      <td>0.117919</td>\n",
              "      <td>0.447147</td>\n",
              "      <td>Positive</td>\n",
              "    </tr>\n",
              "  </tbody>\n",
              "</table>\n",
              "<p>2000 rows × 5 columns</p>\n",
              "</div>"
            ],
            "text/plain": [
              "                                                  content  ...  SentLabel\n",
              "0       Students could take SAT at home if schools rem...  ...   Positive\n",
              "1       Detroit facing fresh fiscal woes with coronavi...  ...   Positive\n",
              "2       Thousands protest Michigan governor's social d...  ...   Negative\n",
              "3       Baltimore Police defends planned aerial survei...  ...   Positive\n",
              "4       Attorney who fought for civil rights in Louisi...  ...   Positive\n",
              "...                                                   ...  ...        ...\n",
              "102549  North Korea Power Vacuum Brings US And China T...  ...   Positive\n",
              "102550  Twitter Suspends Account of Biotech Company Te...  ...   Positive\n",
              "102551  Riots Have Started In Venezuela! Will It Come ...  ...    Neutral\n",
              "102552  True Coronavirus Death Toll Likely 60% Higher ...  ...   Positive\n",
              "102553  WHO Mysteriously Deletes Tweet About Reinfecti...  ...   Positive\n",
              "\n",
              "[2000 rows x 5 columns]"
            ]
          },
          "metadata": {
            "tags": []
          },
          "execution_count": 175
        }
      ]
    },
    {
      "cell_type": "code",
      "metadata": {
        "id": "tPsxMu1FllI6"
      },
      "source": [
        "# split the dataset into training and testing datasets \n",
        "\n",
        "from sklearn.model_selection import train_test_split\n",
        "X_train, X_test, y_train, y_test = train_test_split(x, y, test_size=0.20)"
      ],
      "execution_count": 125,
      "outputs": []
    },
    {
      "cell_type": "code",
      "metadata": {
        "colab": {
          "base_uri": "https://localhost:8080/"
        },
        "id": "-qCdN9QZllI6",
        "outputId": "d88991a7-8499-4de8-cf7f-35552151e65b"
      },
      "source": [
        "print(X_train.shape)\r\n",
        "print(y_train.shape)\r\n",
        "print(X_test.shape)\r\n",
        "print(y_test.shape)"
      ],
      "execution_count": 56,
      "outputs": [
        {
          "output_type": "stream",
          "text": [
            "(1600, 3)\n",
            "(1600,)\n",
            "(400, 3)\n",
            "(400,)\n"
          ],
          "name": "stdout"
        }
      ]
    },
    {
      "cell_type": "code",
      "metadata": {
        "colab": {
          "base_uri": "https://localhost:8080/",
          "height": 419
        },
        "id": "MzpXaM4zgRoq",
        "outputId": "e8ed7ce8-c78c-4aab-c244-bd02472e5c43"
      },
      "source": [
        "X_train"
      ],
      "execution_count": 57,
      "outputs": [
        {
          "output_type": "execute_result",
          "data": {
            "text/html": [
              "<div>\n",
              "<style scoped>\n",
              "    .dataframe tbody tr th:only-of-type {\n",
              "        vertical-align: middle;\n",
              "    }\n",
              "\n",
              "    .dataframe tbody tr th {\n",
              "        vertical-align: top;\n",
              "    }\n",
              "\n",
              "    .dataframe thead th {\n",
              "        text-align: right;\n",
              "    }\n",
              "</style>\n",
              "<table border=\"1\" class=\"dataframe\">\n",
              "  <thead>\n",
              "    <tr style=\"text-align: right;\">\n",
              "      <th></th>\n",
              "      <th>content</th>\n",
              "      <th>Polarity</th>\n",
              "      <th>Subjectivity</th>\n",
              "    </tr>\n",
              "  </thead>\n",
              "  <tbody>\n",
              "    <tr>\n",
              "      <th>102389</th>\n",
              "      <td>Judge US not unreasonably delaying virus relie...</td>\n",
              "      <td>0.136264</td>\n",
              "      <td>0.440888</td>\n",
              "    </tr>\n",
              "    <tr>\n",
              "      <th>321</th>\n",
              "      <td>Lockdown ends at air base resulted from misund...</td>\n",
              "      <td>-0.158974</td>\n",
              "      <td>0.553846</td>\n",
              "    </tr>\n",
              "    <tr>\n",
              "      <th>101893</th>\n",
              "      <td>Think tank urges more deliberate approach to c...</td>\n",
              "      <td>0.089909</td>\n",
              "      <td>0.383584</td>\n",
              "    </tr>\n",
              "    <tr>\n",
              "      <th>701</th>\n",
              "      <td>Things to Know for Today Your daily look at l...</td>\n",
              "      <td>0.159055</td>\n",
              "      <td>0.407828</td>\n",
              "    </tr>\n",
              "    <tr>\n",
              "      <th>896</th>\n",
              "      <td>Pregnant UK nurse dies from virus but baby wel...</td>\n",
              "      <td>0.108867</td>\n",
              "      <td>0.480838</td>\n",
              "    </tr>\n",
              "    <tr>\n",
              "      <th>...</th>\n",
              "      <td>...</td>\n",
              "      <td>...</td>\n",
              "      <td>...</td>\n",
              "    </tr>\n",
              "    <tr>\n",
              "      <th>145</th>\n",
              "      <td>US plutonium production plan likely to spur le...</td>\n",
              "      <td>0.079720</td>\n",
              "      <td>0.429547</td>\n",
              "    </tr>\n",
              "    <tr>\n",
              "      <th>221</th>\n",
              "      <td>Recovery begins after storms that kill  in Mid...</td>\n",
              "      <td>0.018548</td>\n",
              "      <td>0.347473</td>\n",
              "    </tr>\n",
              "    <tr>\n",
              "      <th>101901</th>\n",
              "      <td>Latest survey of California snow pack measures...</td>\n",
              "      <td>0.073952</td>\n",
              "      <td>0.416929</td>\n",
              "    </tr>\n",
              "    <tr>\n",
              "      <th>921</th>\n",
              "      <td>World Health Organization What is the WHO and ...</td>\n",
              "      <td>0.066443</td>\n",
              "      <td>0.366277</td>\n",
              "    </tr>\n",
              "    <tr>\n",
              "      <th>102027</th>\n",
              "      <td>LAPD officer wounds fellow officer in offduty ...</td>\n",
              "      <td>-0.004167</td>\n",
              "      <td>0.295833</td>\n",
              "    </tr>\n",
              "  </tbody>\n",
              "</table>\n",
              "<p>1600 rows × 3 columns</p>\n",
              "</div>"
            ],
            "text/plain": [
              "                                                  content  ...  Subjectivity\n",
              "102389  Judge US not unreasonably delaying virus relie...  ...      0.440888\n",
              "321     Lockdown ends at air base resulted from misund...  ...      0.553846\n",
              "101893  Think tank urges more deliberate approach to c...  ...      0.383584\n",
              "701      Things to Know for Today Your daily look at l...  ...      0.407828\n",
              "896     Pregnant UK nurse dies from virus but baby wel...  ...      0.480838\n",
              "...                                                   ...  ...           ...\n",
              "145     US plutonium production plan likely to spur le...  ...      0.429547\n",
              "221     Recovery begins after storms that kill  in Mid...  ...      0.347473\n",
              "101901  Latest survey of California snow pack measures...  ...      0.416929\n",
              "921     World Health Organization What is the WHO and ...  ...      0.366277\n",
              "102027  LAPD officer wounds fellow officer in offduty ...  ...      0.295833\n",
              "\n",
              "[1600 rows x 3 columns]"
            ]
          },
          "metadata": {
            "tags": []
          },
          "execution_count": 57
        }
      ]
    },
    {
      "cell_type": "code",
      "metadata": {
        "id": "V2c9gy0AllI6"
      },
      "source": [
        "# Vectorize the text so the models can actually interpret it\n",
        "vectorizer = TfidfVectorizer(tokenize_statements)\n",
        "x_train_vectorized = vectorizer.fit_transform(X_train.content.values)\n",
        "x_test_vectorized = vectorizer.transform(X_test.content.values)"
      ],
      "execution_count": 126,
      "outputs": []
    },
    {
      "cell_type": "code",
      "metadata": {
        "colab": {
          "base_uri": "https://localhost:8080/"
        },
        "id": "U3Ci85X6hOAn",
        "outputId": "1bd7ea9d-414a-40e8-b4b7-8fcb69bab03f"
      },
      "source": [
        "x_train_vectorized"
      ],
      "execution_count": 60,
      "outputs": [
        {
          "output_type": "execute_result",
          "data": {
            "text/plain": [
              "<1600x28852 sparse matrix of type '<class 'numpy.float64'>'\n",
              "\twith 334530 stored elements in Compressed Sparse Row format>"
            ]
          },
          "metadata": {
            "tags": []
          },
          "execution_count": 60
        }
      ]
    },
    {
      "cell_type": "code",
      "metadata": {
        "colab": {
          "base_uri": "https://localhost:8080/"
        },
        "id": "uitwBQUdllI6",
        "outputId": "a69f34e8-957f-45f3-f9ea-b97f7af419c0"
      },
      "source": [
        "print (x_train_vectorized.shape)\n",
        "print (x_test_vectorized.shape)\n",
        "print (y_train.shape)\n",
        "print (y_test.shape)\n",
        "\n"
      ],
      "execution_count": 61,
      "outputs": [
        {
          "output_type": "stream",
          "text": [
            "(1600, 28852)\n",
            "(400, 28852)\n",
            "(1600,)\n",
            "(400,)\n"
          ],
          "name": "stdout"
        }
      ]
    },
    {
      "cell_type": "code",
      "metadata": {
        "colab": {
          "base_uri": "https://localhost:8080/"
        },
        "id": "3mdZ9F_2nO-o",
        "outputId": "24bc85ac-5800-4ea6-a3dd-c84a066daddc"
      },
      "source": [
        "type (X_train[\"Polarity\"].values)"
      ],
      "execution_count": 62,
      "outputs": [
        {
          "output_type": "execute_result",
          "data": {
            "text/plain": [
              "numpy.ndarray"
            ]
          },
          "metadata": {
            "tags": []
          },
          "execution_count": 62
        }
      ]
    },
    {
      "cell_type": "code",
      "metadata": {
        "colab": {
          "base_uri": "https://localhost:8080/"
        },
        "id": "QHcivLFgpyOD",
        "outputId": "8ecf1b89-a3ab-4c9b-db95-c9c9b395026c"
      },
      "source": [
        "print (x_train_vectorized)"
      ],
      "execution_count": 63,
      "outputs": [
        {
          "output_type": "stream",
          "text": [
            "  (0, 17921)\t0.015756144826033405\n",
            "  (0, 3777)\t0.0336846574813397\n",
            "  (0, 395)\t0.03473514075422518\n",
            "  (0, 21288)\t0.04201384484268249\n",
            "  (0, 21164)\t0.03473514075422518\n",
            "  (0, 14494)\t0.0307072976579354\n",
            "  (0, 722)\t0.014170303798357962\n",
            "  (0, 5055)\t0.04755287824014807\n",
            "  (0, 21595)\t0.04755287824014807\n",
            "  (0, 8628)\t0.04755287824014807\n",
            "  (0, 27186)\t0.044251030949231294\n",
            "  (0, 2588)\t0.051141506278338716\n",
            "  (0, 1465)\t0.00998194360106924\n",
            "  (0, 23162)\t0.051141506278338716\n",
            "  (0, 21294)\t0.025525552410419237\n",
            "  (0, 2470)\t0.05398996059967387\n",
            "  (0, 25356)\t0.024043983317239878\n",
            "  (0, 21138)\t0.032601725408246074\n",
            "  (0, 18033)\t0.012513469121292135\n",
            "  (0, 6368)\t0.02911418044860988\n",
            "  (0, 26677)\t0.01319742858847344\n",
            "  (0, 17166)\t0.020779339040478885\n",
            "  (0, 28461)\t0.026507401404958403\n",
            "  (0, 21541)\t0.03983495909359163\n",
            "  (0, 11688)\t0.03448124697518721\n",
            "  :\t:\n",
            "  (1599, 12354)\t0.018167081190932063\n",
            "  (1599, 25758)\t0.014974002221207993\n",
            "  (1599, 22349)\t0.10733218811904344\n",
            "  (1599, 18015)\t0.03880884037558327\n",
            "  (1599, 70)\t0.014086281913777697\n",
            "  (1599, 11446)\t0.024116545519199374\n",
            "  (1599, 13324)\t0.023748615504898207\n",
            "  (1599, 2249)\t0.018699642424648426\n",
            "  (1599, 11870)\t0.0437509405005647\n",
            "  (1599, 944)\t0.023173023180355377\n",
            "  (1599, 982)\t0.07104405475869967\n",
            "  (1599, 12553)\t0.07853777599672325\n",
            "  (1599, 27901)\t0.07471786370660276\n",
            "  (1599, 28377)\t0.02117039826688292\n",
            "  (1599, 25853)\t0.041589464232129884\n",
            "  (1599, 9319)\t0.0219971360310619\n",
            "  (1599, 26045)\t0.0711329699636268\n",
            "  (1599, 5567)\t0.018183747319775904\n",
            "  (1599, 17889)\t0.123861514072787\n",
            "  (1599, 13275)\t0.054027188252216585\n",
            "  (1599, 6700)\t0.08413194426176322\n",
            "  (1599, 25751)\t0.19983164489131658\n",
            "  (1599, 1195)\t0.016930128317935663\n",
            "  (1599, 9857)\t0.010045700019404797\n",
            "  (1599, 17634)\t0.024894244736989538\n"
          ],
          "name": "stdout"
        }
      ]
    },
    {
      "cell_type": "code",
      "metadata": {
        "colab": {
          "base_uri": "https://localhost:8080/"
        },
        "id": "UJHD_kBei-3r",
        "outputId": "2fddaf02-2351-42fe-caf3-ece1a9de906e"
      },
      "source": [
        "x_train_pol = X_train[\"Polarity\"]\r\n",
        "x_test_pol = X_test[\"Polarity\"]\r\n",
        "\r\n",
        "x_train_pol.shape"
      ],
      "execution_count": 127,
      "outputs": [
        {
          "output_type": "execute_result",
          "data": {
            "text/plain": [
              "(1600,)"
            ]
          },
          "metadata": {
            "tags": []
          },
          "execution_count": 127
        }
      ]
    },
    {
      "cell_type": "code",
      "metadata": {
        "id": "Ux21uOnCn4Zq"
      },
      "source": [
        "df_x_test_tfidf =  pd.DataFrame.sparse.from_spmatrix(x_test_vectorized)\r\n",
        "df_x_test_tfidf['polarity'] = X_test['Polarity'].values\r\n",
        "\r\n",
        "df_x_train_tfidf =  pd.DataFrame.sparse.from_spmatrix(x_train_vectorized)\r\n",
        "df_x_train_tfidf['polarity'] = X_train['Polarity'].values"
      ],
      "execution_count": 128,
      "outputs": []
    },
    {
      "cell_type": "code",
      "metadata": {
        "colab": {
          "base_uri": "https://localhost:8080/"
        },
        "id": "mxJEXFt4pg5u",
        "outputId": "a633d805-1afe-432a-ccdd-8e9c0a069e15"
      },
      "source": [
        "df_x_test_tfidf['polarity']"
      ],
      "execution_count": 69,
      "outputs": [
        {
          "output_type": "execute_result",
          "data": {
            "text/plain": [
              "0      0.084439\n",
              "1      0.202771\n",
              "2      0.053333\n",
              "3      0.025000\n",
              "4      0.216931\n",
              "         ...   \n",
              "395    0.132323\n",
              "396    0.061492\n",
              "397    0.008541\n",
              "398   -0.021607\n",
              "399    0.043617\n",
              "Name: polarity, Length: 400, dtype: float64"
            ]
          },
          "metadata": {
            "tags": []
          },
          "execution_count": 69
        }
      ]
    },
    {
      "cell_type": "code",
      "metadata": {
        "id": "giwOAOKuVWqU"
      },
      "source": [
        "df_x_train_tfidf_nopol = df_x_train_tfidf.drop(['polarity'],axis=1)\r\n",
        "df_x_test_tfidf_nopol = df_x_test_tfidf.drop(['polarity'],axis=1)"
      ],
      "execution_count": 129,
      "outputs": []
    },
    {
      "cell_type": "code",
      "metadata": {
        "id": "1h17JFQJVpQh"
      },
      "source": [
        "df_x_test_tfidf_nopol"
      ],
      "execution_count": null,
      "outputs": []
    },
    {
      "cell_type": "markdown",
      "metadata": {
        "id": "H9Xb9NIdllI7"
      },
      "source": [
        "# Logistic Regression"
      ]
    },
    {
      "cell_type": "code",
      "metadata": {
        "colab": {
          "base_uri": "https://localhost:8080/"
        },
        "id": "5udDbQjVllI7",
        "outputId": "e2860b90-74e4-4baa-8742-63373152ea42"
      },
      "source": [
        "log_reg = LogisticRegression()\n",
        "log_reg.fit(df_x_train_tfidf, y_train)\n",
        "logR_predicted = log_reg.predict(df_x_test_tfidf)\n",
        "print(f\"{log_reg.__class__.__name__} accuracy: {log_reg.score(df_x_test_tfidf, y_test)}\")"
      ],
      "execution_count": 84,
      "outputs": [
        {
          "output_type": "stream",
          "text": [
            "LogisticRegression accuracy: 0.8375\n"
          ],
          "name": "stdout"
        }
      ]
    },
    {
      "cell_type": "code",
      "metadata": {
        "id": "n8Ena88YH_g8",
        "colab": {
          "base_uri": "https://localhost:8080/"
        },
        "outputId": "ecf2f6a2-3d20-415d-c880-a911645956c1"
      },
      "source": [
        "log_reg_nopol = LogisticRegression()\r\n",
        "log_reg_nopol.fit(df_x_train_tfidf_nopol, y_train)\r\n",
        "logR_predicted = log_reg_nopol.predict(df_x_test_tfidf_nopol)\r\n",
        "print(f\"{log_reg_nopol.__class__.__name__} accuracy: {log_reg_nopol.score(df_x_test_tfidf_nopol, y_test)}\")"
      ],
      "execution_count": 100,
      "outputs": [
        {
          "output_type": "stream",
          "text": [
            "LogisticRegression accuracy: 0.835\n"
          ],
          "name": "stdout"
        }
      ]
    },
    {
      "cell_type": "code",
      "metadata": {
        "colab": {
          "base_uri": "https://localhost:8080/"
        },
        "id": "ednafYscSx-t",
        "outputId": "6499085a-4f10-44d1-d371-f8de871b01ed"
      },
      "source": [
        "print(classification_report(y_test, logR_predicted))\r\n",
        "print('\\n')\r\n",
        "print(confusion_matrix(y_test, logR_predicted))"
      ],
      "execution_count": 76,
      "outputs": [
        {
          "output_type": "stream",
          "text": [
            "              precision    recall  f1-score   support\n",
            "\n",
            "           0       0.82      0.88      0.85       210\n",
            "           2       0.85      0.79      0.82       190\n",
            "\n",
            "    accuracy                           0.83       400\n",
            "   macro avg       0.84      0.83      0.83       400\n",
            "weighted avg       0.84      0.83      0.83       400\n",
            "\n",
            "\n",
            "\n",
            "[[184  26]\n",
            " [ 40 150]]\n"
          ],
          "name": "stdout"
        }
      ]
    },
    {
      "cell_type": "code",
      "metadata": {
        "colab": {
          "base_uri": "https://localhost:8080/"
        },
        "id": "FI1Whi9nTscg",
        "outputId": "0554adf3-b967-450d-f339-25cfd0a126b8"
      },
      "source": [
        "cv_results = cross_validate(log_reg, df_x_train_tfidf, y_train, cv=2)\r\n",
        "cv_results['test_score'].mean()"
      ],
      "execution_count": 85,
      "outputs": [
        {
          "output_type": "execute_result",
          "data": {
            "text/plain": [
              "0.789375"
            ]
          },
          "metadata": {
            "tags": []
          },
          "execution_count": 85
        }
      ]
    },
    {
      "cell_type": "markdown",
      "metadata": {
        "id": "9czIQNROUWsM"
      },
      "source": [
        "#Random Forest"
      ]
    },
    {
      "cell_type": "code",
      "metadata": {
        "colab": {
          "base_uri": "https://localhost:8080/"
        },
        "id": "ACCdIadnUTfW",
        "outputId": "aff6f6b2-ebbf-4b5d-a49d-879dec11588c"
      },
      "source": [
        "random_forest = RandomForestClassifier(n_estimators=10, max_depth=100)\r\n",
        "random_forest.fit(df_x_train_tfidf, y_train)\r\n",
        "\r\n",
        "print(f\"{random_forest.__class__.__name__} accuracy: {random_forest.score(df_x_test_tfidf, y_test)}\")"
      ],
      "execution_count": 89,
      "outputs": [
        {
          "output_type": "stream",
          "text": [
            "RandomForestClassifier accuracy: 0.78\n"
          ],
          "name": "stdout"
        }
      ]
    },
    {
      "cell_type": "code",
      "metadata": {
        "colab": {
          "base_uri": "https://localhost:8080/"
        },
        "id": "Cy5DLmChUdUr",
        "outputId": "7efa73e2-d9c3-4bd5-c602-ffe146f1a337"
      },
      "source": [
        "random_forest_nopol = RandomForestClassifier(n_estimators=10, max_depth=100)\r\n",
        "random_forest_nopol.fit(df_x_train_tfidf_nopol, y_train)\r\n",
        "\r\n",
        "print(f\"{random_forest_nopol.__class__.__name__} accuracy: {random_forest_nopol.score(df_x_test_tfidf_nopol, y_test)}\")"
      ],
      "execution_count": 133,
      "outputs": [
        {
          "output_type": "stream",
          "text": [
            "RandomForestClassifier accuracy: 0.8225\n"
          ],
          "name": "stdout"
        }
      ]
    },
    {
      "cell_type": "code",
      "metadata": {
        "colab": {
          "base_uri": "https://localhost:8080/"
        },
        "id": "GVmpkWMgUZPS",
        "outputId": "230dc820-13ae-458c-a201-db7b02d850a0"
      },
      "source": [
        "rForest_pred = random_forest.predict(df_x_test_tfidf)\r\n",
        "print(classification_report(y_test, rForest_pred))\r\n",
        "print('\\n')\r\n",
        "print(confusion_matrix(y_test, rForest_pred))"
      ],
      "execution_count": 104,
      "outputs": [
        {
          "output_type": "stream",
          "text": [
            "              precision    recall  f1-score   support\n",
            "\n",
            "           0       0.75      0.86      0.80       210\n",
            "           2       0.82      0.69      0.75       190\n",
            "\n",
            "    accuracy                           0.78       400\n",
            "   macro avg       0.79      0.78      0.78       400\n",
            "weighted avg       0.78      0.78      0.78       400\n",
            "\n",
            "\n",
            "\n",
            "[[181  29]\n",
            " [ 59 131]]\n"
          ],
          "name": "stdout"
        }
      ]
    },
    {
      "cell_type": "code",
      "metadata": {
        "id": "PM0VHbkBUage"
      },
      "source": [
        "cv_results = cross_validate(random_forest, df_x_train_tfidf, y_train, cv=5)\r\n",
        "cv_results['test_score'].mean()"
      ],
      "execution_count": null,
      "outputs": []
    },
    {
      "cell_type": "markdown",
      "metadata": {
        "id": "37FP16IYW6Lc"
      },
      "source": [
        "#SVM"
      ]
    },
    {
      "cell_type": "code",
      "metadata": {
        "colab": {
          "base_uri": "https://localhost:8080/"
        },
        "id": "1SqT_L4rW3tW",
        "outputId": "6a422e9d-b757-4487-d011-d689b9110c1c"
      },
      "source": [
        "svm = LinearSVC()\r\n",
        "svm.fit(df_x_train_tfidf, y_train)\r\n",
        "print(f\"{svm.__class__.__name__} accuracy: {svm.score(df_x_test_tfidf, y_test)}\")"
      ],
      "execution_count": 145,
      "outputs": [
        {
          "output_type": "stream",
          "text": [
            "LinearSVC accuracy: 0.865\n"
          ],
          "name": "stdout"
        }
      ]
    },
    {
      "cell_type": "code",
      "metadata": {
        "colab": {
          "base_uri": "https://localhost:8080/"
        },
        "id": "vCevMobzXewE",
        "outputId": "265a01df-109e-40af-cec8-42c6684d77f3"
      },
      "source": [
        "svm_nopol = LinearSVC()\r\n",
        "svm_nopol.fit(df_x_train_tfidf_nopol, y_train)\r\n",
        "print(f\"{svm_nopol.__class__.__name__} accuracy: {svm_nopol.score(df_x_test_tfidf_nopol, y_test)}\")"
      ],
      "execution_count": 146,
      "outputs": [
        {
          "output_type": "stream",
          "text": [
            "LinearSVC accuracy: 0.865\n"
          ],
          "name": "stdout"
        }
      ]
    },
    {
      "cell_type": "code",
      "metadata": {
        "colab": {
          "base_uri": "https://localhost:8080/"
        },
        "id": "GrDxnb8mZPtY",
        "outputId": "24224fd0-cd74-40d9-94bb-17d8bba538b0"
      },
      "source": [
        "svm_pred = svm.predict(df_x_test_tfidf)\r\n",
        "\r\n",
        "print(classification_report(y_test, svm_pred))\r\n",
        "print('\\n')\r\n",
        "print(confusion_matrix(y_test, svm_pred))"
      ],
      "execution_count": 149,
      "outputs": [
        {
          "output_type": "stream",
          "text": [
            "              precision    recall  f1-score   support\n",
            "\n",
            "           0       0.85      0.89      0.87       200\n",
            "           2       0.88      0.84      0.86       200\n",
            "\n",
            "    accuracy                           0.86       400\n",
            "   macro avg       0.87      0.86      0.86       400\n",
            "weighted avg       0.87      0.86      0.86       400\n",
            "\n",
            "\n",
            "\n",
            "[[178  22]\n",
            " [ 32 168]]\n"
          ],
          "name": "stdout"
        }
      ]
    },
    {
      "cell_type": "code",
      "metadata": {
        "id": "kYTp_GwtZRsY"
      },
      "source": [
        "cv_results = cross_validate(svm, df_x_train_tfidf, y_train, cv=5)\r\n",
        "cv_results['test_score'].mean()"
      ],
      "execution_count": null,
      "outputs": []
    },
    {
      "cell_type": "markdown",
      "metadata": {
        "id": "6j7rRdJZmtpx"
      },
      "source": [
        "#Glove LSTM"
      ]
    },
    {
      "cell_type": "code",
      "metadata": {
        "id": "zRoeRU1BZavL"
      },
      "source": [
        "glovedf = smallerdf.reset_index(drop=True)\r\n",
        "contentglove = glovedf.drop(['Polarity',\t'Subjectivity', 'Reliability','SentLabel'],axis=1)"
      ],
      "execution_count": 17,
      "outputs": []
    },
    {
      "cell_type": "code",
      "metadata": {
        "colab": {
          "base_uri": "https://localhost:8080/",
          "height": 419
        },
        "id": "burIkC2El8mb",
        "outputId": "7e6c7d97-0fbe-4f23-a0cf-b88dc53fb025"
      },
      "source": [
        "contentglove"
      ],
      "execution_count": 42,
      "outputs": [
        {
          "output_type": "execute_result",
          "data": {
            "text/html": [
              "<div>\n",
              "<style scoped>\n",
              "    .dataframe tbody tr th:only-of-type {\n",
              "        vertical-align: middle;\n",
              "    }\n",
              "\n",
              "    .dataframe tbody tr th {\n",
              "        vertical-align: top;\n",
              "    }\n",
              "\n",
              "    .dataframe thead th {\n",
              "        text-align: right;\n",
              "    }\n",
              "</style>\n",
              "<table border=\"1\" class=\"dataframe\">\n",
              "  <thead>\n",
              "    <tr style=\"text-align: right;\">\n",
              "      <th></th>\n",
              "      <th>content</th>\n",
              "    </tr>\n",
              "  </thead>\n",
              "  <tbody>\n",
              "    <tr>\n",
              "      <th>0</th>\n",
              "      <td>Students could take SAT at home if schools rem...</td>\n",
              "    </tr>\n",
              "    <tr>\n",
              "      <th>1</th>\n",
              "      <td>Detroit facing fresh fiscal woes with coronavi...</td>\n",
              "    </tr>\n",
              "    <tr>\n",
              "      <th>2</th>\n",
              "      <td>Thousands protest Michigan governor's social d...</td>\n",
              "    </tr>\n",
              "    <tr>\n",
              "      <th>3</th>\n",
              "      <td>Baltimore Police defends planned aerial survei...</td>\n",
              "    </tr>\n",
              "    <tr>\n",
              "      <th>4</th>\n",
              "      <td>Attorney who fought for civil rights in Louisi...</td>\n",
              "    </tr>\n",
              "    <tr>\n",
              "      <th>...</th>\n",
              "      <td>...</td>\n",
              "    </tr>\n",
              "    <tr>\n",
              "      <th>1995</th>\n",
              "      <td>North Korea Power Vacuum Brings US And China T...</td>\n",
              "    </tr>\n",
              "    <tr>\n",
              "      <th>1996</th>\n",
              "      <td>Twitter Suspends Account of Biotech Company Te...</td>\n",
              "    </tr>\n",
              "    <tr>\n",
              "      <th>1997</th>\n",
              "      <td>Riots Have Started In Venezuela! Will It Come ...</td>\n",
              "    </tr>\n",
              "    <tr>\n",
              "      <th>1998</th>\n",
              "      <td>True Coronavirus Death Toll Likely 60% Higher ...</td>\n",
              "    </tr>\n",
              "    <tr>\n",
              "      <th>1999</th>\n",
              "      <td>WHO Mysteriously Deletes Tweet About Reinfecti...</td>\n",
              "    </tr>\n",
              "  </tbody>\n",
              "</table>\n",
              "<p>2000 rows × 1 columns</p>\n",
              "</div>"
            ],
            "text/plain": [
              "                                                content\n",
              "0     Students could take SAT at home if schools rem...\n",
              "1     Detroit facing fresh fiscal woes with coronavi...\n",
              "2     Thousands protest Michigan governor's social d...\n",
              "3     Baltimore Police defends planned aerial survei...\n",
              "4     Attorney who fought for civil rights in Louisi...\n",
              "...                                                 ...\n",
              "1995  North Korea Power Vacuum Brings US And China T...\n",
              "1996  Twitter Suspends Account of Biotech Company Te...\n",
              "1997  Riots Have Started In Venezuela! Will It Come ...\n",
              "1998  True Coronavirus Death Toll Likely 60% Higher ...\n",
              "1999  WHO Mysteriously Deletes Tweet About Reinfecti...\n",
              "\n",
              "[2000 rows x 1 columns]"
            ]
          },
          "metadata": {
            "tags": []
          },
          "execution_count": 42
        }
      ]
    },
    {
      "cell_type": "code",
      "metadata": {
        "id": "UkKpPmjJaMGJ"
      },
      "source": [
        "cleantext = contentglove['content'].apply(rem_noise)\r\n",
        "cleantext = cleantext.apply(rem_stopwords)"
      ],
      "execution_count": 19,
      "outputs": []
    },
    {
      "cell_type": "code",
      "metadata": {
        "id": "OWDnPrzJam0O"
      },
      "source": [
        "x = cleantext.values\r\n",
        "y = smallerdf['Reliability']"
      ],
      "execution_count": 20,
      "outputs": []
    },
    {
      "cell_type": "code",
      "metadata": {
        "id": "Y9gTqcYia1PV"
      },
      "source": [
        "from keras.preprocessing import text, sequence"
      ],
      "execution_count": 21,
      "outputs": []
    },
    {
      "cell_type": "code",
      "metadata": {
        "id": "NyLS_GB8a5V8"
      },
      "source": [
        "tokenizer = Tokenizer()\r\n",
        "tokenizer.fit_on_texts(x)\r\n",
        "word_to_index = tokenizer.word_index\r\n",
        "contentSequence = tokenizer.texts_to_sequences(x)"
      ],
      "execution_count": 22,
      "outputs": []
    },
    {
      "cell_type": "code",
      "metadata": {
        "id": "2Hcqditfa7xO"
      },
      "source": [
        "vocab_size =  len(word_to_index)\r\n",
        "oov_tok = \"<OOV>\"\r\n",
        "max_length = 250\r\n",
        "embedding_dim = 100"
      ],
      "execution_count": 25,
      "outputs": []
    },
    {
      "cell_type": "code",
      "metadata": {
        "id": "t8p2HTSTa98V"
      },
      "source": [
        "from keras.preprocessing.sequence import pad_sequences\r\n",
        "\r\n",
        "contentSequence = pad_sequences(contentSequence, maxlen=max_length)"
      ],
      "execution_count": 27,
      "outputs": []
    },
    {
      "cell_type": "code",
      "metadata": {
        "colab": {
          "base_uri": "https://localhost:8080/"
        },
        "id": "PuvYkX5jbGGN",
        "outputId": "46a36e71-6492-496b-ac45-8f4a3d5b1537"
      },
      "source": [
        "contentSequence"
      ],
      "execution_count": 28,
      "outputs": [
        {
          "output_type": "execute_result",
          "data": {
            "text/plain": [
              "array([[ 6267,     7,  2872, ...,   726,    70,   617],\n",
              "       [    1,  1425,  3418, ...,   889,     2, 22553],\n",
              "       [13632,     2,   550, ...,     2,    35,   136],\n",
              "       ...,\n",
              "       [    0,     0,     0, ...,   259,    39,    10],\n",
              "       [  563,   326,     9, ...,    95,    12,   939],\n",
              "       [ 7181,   240,    65, ...,    40, 38488,   282]], dtype=int32)"
            ]
          },
          "metadata": {
            "tags": []
          },
          "execution_count": 28
        }
      ]
    },
    {
      "cell_type": "markdown",
      "metadata": {
        "id": "JdctrxVZbOAX"
      },
      "source": [
        "#Glove Embedding"
      ]
    },
    {
      "cell_type": "code",
      "metadata": {
        "id": "AziXcZ9ybJK8"
      },
      "source": [
        "# load the whole embedding into memory\r\n",
        "\r\n",
        "embeddings_index = {};\r\n",
        "with open('/content/drive/My Drive/glove.6B.100d.txt') as f:\r\n",
        "    for line in f:\r\n",
        "        values = line.split();\r\n",
        "        word = values[0];\r\n",
        "        coefs = np.asarray(values[1:], dtype='float32');\r\n",
        "        embeddings_index[word] = coefs;\r\n",
        "\r\n",
        "# create a weight matrix for words\r\n",
        "\r\n",
        "embeddings_matrix = np.zeros((vocab_size+1, embedding_dim));\r\n",
        "for word, i in word_to_index.items():\r\n",
        "    embedding_vector = embeddings_index.get(word);\r\n",
        "    if embedding_vector is not None:\r\n",
        "        embeddings_matrix[i] = embedding_vector;"
      ],
      "execution_count": 29,
      "outputs": []
    },
    {
      "cell_type": "code",
      "metadata": {
        "colab": {
          "base_uri": "https://localhost:8080/"
        },
        "id": "PGpHjufzbP53",
        "outputId": "ef2776d7-2cc5-4f09-d0bb-db479b53fcbf"
      },
      "source": [
        "embeddings_matrix"
      ],
      "execution_count": 30,
      "outputs": [
        {
          "output_type": "execute_result",
          "data": {
            "text/plain": [
              "array([[ 0.        ,  0.        ,  0.        , ...,  0.        ,\n",
              "         0.        ,  0.        ],\n",
              "       [-0.038194  , -0.24487001,  0.72812003, ..., -0.1459    ,\n",
              "         0.82779998,  0.27061999],\n",
              "       [-0.18970001,  0.050024  ,  0.19084001, ..., -0.39804   ,\n",
              "         0.47646999, -0.15983   ],\n",
              "       ...,\n",
              "       [-0.47986999, -0.26526999,  0.59833997, ..., -0.81400001,\n",
              "         0.065616  ,  0.38069001],\n",
              "       [-0.38696   , -0.32319   ,  0.1393    , ..., -0.73497999,\n",
              "        -0.31455001, -0.44358   ],\n",
              "       [-0.10358   ,  0.75185001,  0.095333  , ..., -0.96350998,\n",
              "        -0.37919   ,  1.15339994]])"
            ]
          },
          "metadata": {
            "tags": []
          },
          "execution_count": 30
        }
      ]
    },
    {
      "cell_type": "code",
      "metadata": {
        "colab": {
          "base_uri": "https://localhost:8080/"
        },
        "id": "AXol1OIbbRDP",
        "outputId": "8b06bdbe-2b36-4fc1-e052-d9aa3423d729"
      },
      "source": [
        "# Change labels\r\n",
        "def change_labels(y):\r\n",
        "    if y == 0:\r\n",
        "        return 0\r\n",
        "    if y == 2:\r\n",
        "        return 1\r\n",
        "\r\n",
        "y[\"Label\"] = glovedf.Reliability.apply(change_labels)\r\n",
        "\r\n",
        "print(y[\"Label\"])"
      ],
      "execution_count": 31,
      "outputs": [
        {
          "output_type": "stream",
          "text": [
            "0       0\n",
            "1       0\n",
            "2       0\n",
            "3       0\n",
            "4       0\n",
            "       ..\n",
            "1995    1\n",
            "1996    1\n",
            "1997    1\n",
            "1998    1\n",
            "1999    1\n",
            "Name: Reliability, Length: 2000, dtype: int64\n"
          ],
          "name": "stdout"
        },
        {
          "output_type": "stream",
          "text": [
            "/usr/local/lib/python3.7/dist-packages/ipykernel_launcher.py:8: SettingWithCopyWarning: \n",
            "A value is trying to be set on a copy of a slice from a DataFrame\n",
            "\n",
            "See the caveats in the documentation: https://pandas.pydata.org/pandas-docs/stable/user_guide/indexing.html#returning-a-view-versus-a-copy\n",
            "  \n"
          ],
          "name": "stderr"
        }
      ]
    },
    {
      "cell_type": "code",
      "metadata": {
        "colab": {
          "base_uri": "https://localhost:8080/"
        },
        "id": "KKdMbmDNlNhw",
        "outputId": "82602a40-ddef-45d0-9d80-3bce99816dd8"
      },
      "source": [
        "type (contentSequence)"
      ],
      "execution_count": 32,
      "outputs": [
        {
          "output_type": "execute_result",
          "data": {
            "text/plain": [
              "numpy.ndarray"
            ]
          },
          "metadata": {
            "tags": []
          },
          "execution_count": 32
        }
      ]
    },
    {
      "cell_type": "code",
      "metadata": {
        "id": "2hyOPyUWkcW6"
      },
      "source": [
        "df_lstm =  pd.DataFrame(contentSequence)\r\n",
        "#df_lstm['polarity'] = smallerdf['Polarity'].values"
      ],
      "execution_count": 65,
      "outputs": []
    },
    {
      "cell_type": "code",
      "metadata": {
        "colab": {
          "base_uri": "https://localhost:8080/"
        },
        "id": "3MGaM9v1kwwJ",
        "outputId": "2158432f-8cc3-4d74-8855-af62b191a8e3"
      },
      "source": [
        "df_lstm.shape"
      ],
      "execution_count": 58,
      "outputs": [
        {
          "output_type": "execute_result",
          "data": {
            "text/plain": [
              "(2000, 251)"
            ]
          },
          "metadata": {
            "tags": []
          },
          "execution_count": 58
        }
      ]
    },
    {
      "cell_type": "code",
      "metadata": {
        "id": "HC6TFkKMbS0Y"
      },
      "source": [
        "from sklearn.model_selection import train_test_split\r\n",
        "X_train,X_test,y_train,y_test = train_test_split(df_lstm,y[\"Label\"],test_size=0.20,random_state=1)"
      ],
      "execution_count": 59,
      "outputs": []
    },
    {
      "cell_type": "code",
      "metadata": {
        "colab": {
          "base_uri": "https://localhost:8080/",
          "height": 439
        },
        "id": "Saa2dW4Rjo0M",
        "outputId": "0526428e-f960-4225-82a2-6599aaab37a6"
      },
      "source": [
        "X_train"
      ],
      "execution_count": 46,
      "outputs": [
        {
          "output_type": "execute_result",
          "data": {
            "text/html": [
              "<div>\n",
              "<style scoped>\n",
              "    .dataframe tbody tr th:only-of-type {\n",
              "        vertical-align: middle;\n",
              "    }\n",
              "\n",
              "    .dataframe tbody tr th {\n",
              "        vertical-align: top;\n",
              "    }\n",
              "\n",
              "    .dataframe thead th {\n",
              "        text-align: right;\n",
              "    }\n",
              "</style>\n",
              "<table border=\"1\" class=\"dataframe\">\n",
              "  <thead>\n",
              "    <tr style=\"text-align: right;\">\n",
              "      <th></th>\n",
              "      <th>0</th>\n",
              "      <th>1</th>\n",
              "      <th>2</th>\n",
              "      <th>3</th>\n",
              "      <th>4</th>\n",
              "      <th>5</th>\n",
              "      <th>6</th>\n",
              "      <th>7</th>\n",
              "      <th>8</th>\n",
              "      <th>9</th>\n",
              "      <th>10</th>\n",
              "      <th>11</th>\n",
              "      <th>12</th>\n",
              "      <th>13</th>\n",
              "      <th>14</th>\n",
              "      <th>15</th>\n",
              "      <th>16</th>\n",
              "      <th>17</th>\n",
              "      <th>18</th>\n",
              "      <th>19</th>\n",
              "      <th>20</th>\n",
              "      <th>21</th>\n",
              "      <th>22</th>\n",
              "      <th>23</th>\n",
              "      <th>24</th>\n",
              "      <th>25</th>\n",
              "      <th>26</th>\n",
              "      <th>27</th>\n",
              "      <th>28</th>\n",
              "      <th>29</th>\n",
              "      <th>30</th>\n",
              "      <th>31</th>\n",
              "      <th>32</th>\n",
              "      <th>33</th>\n",
              "      <th>34</th>\n",
              "      <th>35</th>\n",
              "      <th>36</th>\n",
              "      <th>37</th>\n",
              "      <th>38</th>\n",
              "      <th>39</th>\n",
              "      <th>...</th>\n",
              "      <th>210</th>\n",
              "      <th>211</th>\n",
              "      <th>212</th>\n",
              "      <th>213</th>\n",
              "      <th>214</th>\n",
              "      <th>215</th>\n",
              "      <th>216</th>\n",
              "      <th>217</th>\n",
              "      <th>218</th>\n",
              "      <th>219</th>\n",
              "      <th>220</th>\n",
              "      <th>221</th>\n",
              "      <th>222</th>\n",
              "      <th>223</th>\n",
              "      <th>224</th>\n",
              "      <th>225</th>\n",
              "      <th>226</th>\n",
              "      <th>227</th>\n",
              "      <th>228</th>\n",
              "      <th>229</th>\n",
              "      <th>230</th>\n",
              "      <th>231</th>\n",
              "      <th>232</th>\n",
              "      <th>233</th>\n",
              "      <th>234</th>\n",
              "      <th>235</th>\n",
              "      <th>236</th>\n",
              "      <th>237</th>\n",
              "      <th>238</th>\n",
              "      <th>239</th>\n",
              "      <th>240</th>\n",
              "      <th>241</th>\n",
              "      <th>242</th>\n",
              "      <th>243</th>\n",
              "      <th>244</th>\n",
              "      <th>245</th>\n",
              "      <th>246</th>\n",
              "      <th>247</th>\n",
              "      <th>248</th>\n",
              "      <th>249</th>\n",
              "    </tr>\n",
              "  </thead>\n",
              "  <tbody>\n",
              "    <tr>\n",
              "      <th>0</th>\n",
              "      <td>6267</td>\n",
              "      <td>7</td>\n",
              "      <td>2872</td>\n",
              "      <td>160</td>\n",
              "      <td>2500</td>\n",
              "      <td>881</td>\n",
              "      <td>1</td>\n",
              "      <td>5108</td>\n",
              "      <td>4</td>\n",
              "      <td>1570</td>\n",
              "      <td>288</td>\n",
              "      <td>9</td>\n",
              "      <td>38</td>\n",
              "      <td>85</td>\n",
              "      <td>13621</td>\n",
              "      <td>2871</td>\n",
              "      <td>22538</td>\n",
              "      <td>1</td>\n",
              "      <td>775</td>\n",
              "      <td>4</td>\n",
              "      <td>87</td>\n",
              "      <td>286</td>\n",
              "      <td>160</td>\n",
              "      <td>16645</td>\n",
              "      <td>1256</td>\n",
              "      <td>2</td>\n",
              "      <td>2030</td>\n",
              "      <td>782</td>\n",
              "      <td>6</td>\n",
              "      <td>782</td>\n",
              "      <td>467</td>\n",
              "      <td>72</td>\n",
              "      <td>7</td>\n",
              "      <td>1</td>\n",
              "      <td>158</td>\n",
              "      <td>494</td>\n",
              "      <td>1919</td>\n",
              "      <td>12</td>\n",
              "      <td>1</td>\n",
              "      <td>824</td>\n",
              "      <td>...</td>\n",
              "      <td>335</td>\n",
              "      <td>2</td>\n",
              "      <td>1505</td>\n",
              "      <td>2599</td>\n",
              "      <td>10228</td>\n",
              "      <td>1010</td>\n",
              "      <td>7665</td>\n",
              "      <td>15</td>\n",
              "      <td>84</td>\n",
              "      <td>9</td>\n",
              "      <td>286</td>\n",
              "      <td>160</td>\n",
              "      <td>276</td>\n",
              "      <td>541</td>\n",
              "      <td>521</td>\n",
              "      <td>33</td>\n",
              "      <td>515</td>\n",
              "      <td>332</td>\n",
              "      <td>135</td>\n",
              "      <td>1</td>\n",
              "      <td>111</td>\n",
              "      <td>288</td>\n",
              "      <td>4514</td>\n",
              "      <td>1</td>\n",
              "      <td>782</td>\n",
              "      <td>467</td>\n",
              "      <td>20</td>\n",
              "      <td>1407</td>\n",
              "      <td>2</td>\n",
              "      <td>152</td>\n",
              "      <td>276</td>\n",
              "      <td>3</td>\n",
              "      <td>521</td>\n",
              "      <td>2073</td>\n",
              "      <td>2874</td>\n",
              "      <td>3</td>\n",
              "      <td>1887</td>\n",
              "      <td>726</td>\n",
              "      <td>70</td>\n",
              "      <td>617</td>\n",
              "    </tr>\n",
              "    <tr>\n",
              "      <th>816</th>\n",
              "      <td>0</td>\n",
              "      <td>0</td>\n",
              "      <td>0</td>\n",
              "      <td>0</td>\n",
              "      <td>0</td>\n",
              "      <td>0</td>\n",
              "      <td>0</td>\n",
              "      <td>0</td>\n",
              "      <td>0</td>\n",
              "      <td>0</td>\n",
              "      <td>0</td>\n",
              "      <td>0</td>\n",
              "      <td>0</td>\n",
              "      <td>0</td>\n",
              "      <td>0</td>\n",
              "      <td>0</td>\n",
              "      <td>0</td>\n",
              "      <td>0</td>\n",
              "      <td>0</td>\n",
              "      <td>0</td>\n",
              "      <td>0</td>\n",
              "      <td>0</td>\n",
              "      <td>0</td>\n",
              "      <td>0</td>\n",
              "      <td>0</td>\n",
              "      <td>0</td>\n",
              "      <td>0</td>\n",
              "      <td>0</td>\n",
              "      <td>0</td>\n",
              "      <td>0</td>\n",
              "      <td>0</td>\n",
              "      <td>0</td>\n",
              "      <td>0</td>\n",
              "      <td>0</td>\n",
              "      <td>0</td>\n",
              "      <td>0</td>\n",
              "      <td>0</td>\n",
              "      <td>0</td>\n",
              "      <td>0</td>\n",
              "      <td>0</td>\n",
              "      <td>...</td>\n",
              "      <td>166</td>\n",
              "      <td>676</td>\n",
              "      <td>5</td>\n",
              "      <td>3208</td>\n",
              "      <td>6</td>\n",
              "      <td>27960</td>\n",
              "      <td>11231</td>\n",
              "      <td>6593</td>\n",
              "      <td>1366</td>\n",
              "      <td>3</td>\n",
              "      <td>2135</td>\n",
              "      <td>213</td>\n",
              "      <td>2454</td>\n",
              "      <td>3</td>\n",
              "      <td>3537</td>\n",
              "      <td>2542</td>\n",
              "      <td>6</td>\n",
              "      <td>6098</td>\n",
              "      <td>88</td>\n",
              "      <td>35</td>\n",
              "      <td>632</td>\n",
              "      <td>20</td>\n",
              "      <td>32</td>\n",
              "      <td>3364</td>\n",
              "      <td>2</td>\n",
              "      <td>3568</td>\n",
              "      <td>1</td>\n",
              "      <td>10381</td>\n",
              "      <td>4</td>\n",
              "      <td>1</td>\n",
              "      <td>4964</td>\n",
              "      <td>453</td>\n",
              "      <td>6</td>\n",
              "      <td>48</td>\n",
              "      <td>3340</td>\n",
              "      <td>19</td>\n",
              "      <td>12</td>\n",
              "      <td>11231</td>\n",
              "      <td>27</td>\n",
              "      <td>27961</td>\n",
              "    </tr>\n",
              "    <tr>\n",
              "      <th>790</th>\n",
              "      <td>0</td>\n",
              "      <td>0</td>\n",
              "      <td>0</td>\n",
              "      <td>0</td>\n",
              "      <td>0</td>\n",
              "      <td>0</td>\n",
              "      <td>0</td>\n",
              "      <td>0</td>\n",
              "      <td>0</td>\n",
              "      <td>0</td>\n",
              "      <td>0</td>\n",
              "      <td>0</td>\n",
              "      <td>0</td>\n",
              "      <td>0</td>\n",
              "      <td>0</td>\n",
              "      <td>0</td>\n",
              "      <td>0</td>\n",
              "      <td>0</td>\n",
              "      <td>0</td>\n",
              "      <td>0</td>\n",
              "      <td>0</td>\n",
              "      <td>0</td>\n",
              "      <td>0</td>\n",
              "      <td>0</td>\n",
              "      <td>0</td>\n",
              "      <td>0</td>\n",
              "      <td>263</td>\n",
              "      <td>1028</td>\n",
              "      <td>19625</td>\n",
              "      <td>2312</td>\n",
              "      <td>2719</td>\n",
              "      <td>927</td>\n",
              "      <td>230</td>\n",
              "      <td>2</td>\n",
              "      <td>804</td>\n",
              "      <td>263</td>\n",
              "      <td>1028</td>\n",
              "      <td>7</td>\n",
              "      <td>137</td>\n",
              "      <td>19</td>\n",
              "      <td>...</td>\n",
              "      <td>1817</td>\n",
              "      <td>19</td>\n",
              "      <td>1130</td>\n",
              "      <td>1</td>\n",
              "      <td>819</td>\n",
              "      <td>1262</td>\n",
              "      <td>6</td>\n",
              "      <td>997</td>\n",
              "      <td>6</td>\n",
              "      <td>165</td>\n",
              "      <td>1146</td>\n",
              "      <td>4</td>\n",
              "      <td>14507</td>\n",
              "      <td>987</td>\n",
              "      <td>6</td>\n",
              "      <td>2787</td>\n",
              "      <td>2</td>\n",
              "      <td>2312</td>\n",
              "      <td>2719</td>\n",
              "      <td>3010</td>\n",
              "      <td>7</td>\n",
              "      <td>137</td>\n",
              "      <td>8</td>\n",
              "      <td>5588</td>\n",
              "      <td>3</td>\n",
              "      <td>1199</td>\n",
              "      <td>6648</td>\n",
              "      <td>6</td>\n",
              "      <td>2312</td>\n",
              "      <td>2719</td>\n",
              "      <td>28</td>\n",
              "      <td>145</td>\n",
              "      <td>76</td>\n",
              "      <td>4</td>\n",
              "      <td>27726</td>\n",
              "      <td>873</td>\n",
              "      <td>1</td>\n",
              "      <td>198</td>\n",
              "      <td>570</td>\n",
              "      <td>5160</td>\n",
              "    </tr>\n",
              "    <tr>\n",
              "      <th>361</th>\n",
              "      <td>0</td>\n",
              "      <td>0</td>\n",
              "      <td>0</td>\n",
              "      <td>0</td>\n",
              "      <td>0</td>\n",
              "      <td>0</td>\n",
              "      <td>0</td>\n",
              "      <td>0</td>\n",
              "      <td>0</td>\n",
              "      <td>0</td>\n",
              "      <td>0</td>\n",
              "      <td>0</td>\n",
              "      <td>0</td>\n",
              "      <td>0</td>\n",
              "      <td>0</td>\n",
              "      <td>0</td>\n",
              "      <td>0</td>\n",
              "      <td>0</td>\n",
              "      <td>0</td>\n",
              "      <td>0</td>\n",
              "      <td>0</td>\n",
              "      <td>0</td>\n",
              "      <td>0</td>\n",
              "      <td>0</td>\n",
              "      <td>0</td>\n",
              "      <td>0</td>\n",
              "      <td>0</td>\n",
              "      <td>0</td>\n",
              "      <td>0</td>\n",
              "      <td>0</td>\n",
              "      <td>0</td>\n",
              "      <td>0</td>\n",
              "      <td>0</td>\n",
              "      <td>0</td>\n",
              "      <td>0</td>\n",
              "      <td>0</td>\n",
              "      <td>0</td>\n",
              "      <td>0</td>\n",
              "      <td>0</td>\n",
              "      <td>0</td>\n",
              "      <td>...</td>\n",
              "      <td>457</td>\n",
              "      <td>1092</td>\n",
              "      <td>114</td>\n",
              "      <td>1</td>\n",
              "      <td>1118</td>\n",
              "      <td>7</td>\n",
              "      <td>43</td>\n",
              "      <td>11</td>\n",
              "      <td>218</td>\n",
              "      <td>46</td>\n",
              "      <td>1224</td>\n",
              "      <td>114</td>\n",
              "      <td>161</td>\n",
              "      <td>616</td>\n",
              "      <td>218</td>\n",
              "      <td>1</td>\n",
              "      <td>528</td>\n",
              "      <td>14</td>\n",
              "      <td>11</td>\n",
              "      <td>45</td>\n",
              "      <td>297</td>\n",
              "      <td>2</td>\n",
              "      <td>24889</td>\n",
              "      <td>6</td>\n",
              "      <td>985</td>\n",
              "      <td>9</td>\n",
              "      <td>915</td>\n",
              "      <td>1</td>\n",
              "      <td>457</td>\n",
              "      <td>1158</td>\n",
              "      <td>4</td>\n",
              "      <td>226</td>\n",
              "      <td>7</td>\n",
              "      <td>19</td>\n",
              "      <td>11</td>\n",
              "      <td>665</td>\n",
              "      <td>66</td>\n",
              "      <td>1</td>\n",
              "      <td>9723</td>\n",
              "      <td>168</td>\n",
              "    </tr>\n",
              "    <tr>\n",
              "      <th>592</th>\n",
              "      <td>82</td>\n",
              "      <td>33</td>\n",
              "      <td>1300</td>\n",
              "      <td>13</td>\n",
              "      <td>35</td>\n",
              "      <td>2881</td>\n",
              "      <td>3</td>\n",
              "      <td>13</td>\n",
              "      <td>62</td>\n",
              "      <td>4</td>\n",
              "      <td>39</td>\n",
              "      <td>48</td>\n",
              "      <td>143</td>\n",
              "      <td>70</td>\n",
              "      <td>208</td>\n",
              "      <td>85</td>\n",
              "      <td>196</td>\n",
              "      <td>322</td>\n",
              "      <td>726</td>\n",
              "      <td>5</td>\n",
              "      <td>3339</td>\n",
              "      <td>7769</td>\n",
              "      <td>2516</td>\n",
              "      <td>3</td>\n",
              "      <td>819</td>\n",
              "      <td>10580</td>\n",
              "      <td>43</td>\n",
              "      <td>7</td>\n",
              "      <td>1</td>\n",
              "      <td>1125</td>\n",
              "      <td>20</td>\n",
              "      <td>451</td>\n",
              "      <td>7834</td>\n",
              "      <td>4</td>\n",
              "      <td>813</td>\n",
              "      <td>85</td>\n",
              "      <td>125</td>\n",
              "      <td>19</td>\n",
              "      <td>323</td>\n",
              "      <td>116</td>\n",
              "      <td>...</td>\n",
              "      <td>636</td>\n",
              "      <td>16</td>\n",
              "      <td>240</td>\n",
              "      <td>16</td>\n",
              "      <td>4615</td>\n",
              "      <td>3</td>\n",
              "      <td>7666</td>\n",
              "      <td>19002</td>\n",
              "      <td>3</td>\n",
              "      <td>3246</td>\n",
              "      <td>10580</td>\n",
              "      <td>932</td>\n",
              "      <td>3030</td>\n",
              "      <td>4611</td>\n",
              "      <td>7</td>\n",
              "      <td>543</td>\n",
              "      <td>329</td>\n",
              "      <td>143</td>\n",
              "      <td>303</td>\n",
              "      <td>23</td>\n",
              "      <td>5</td>\n",
              "      <td>358</td>\n",
              "      <td>2</td>\n",
              "      <td>745</td>\n",
              "      <td>99</td>\n",
              "      <td>8</td>\n",
              "      <td>2516</td>\n",
              "      <td>636</td>\n",
              "      <td>9</td>\n",
              "      <td>62</td>\n",
              "      <td>12</td>\n",
              "      <td>67</td>\n",
              "      <td>946</td>\n",
              "      <td>5</td>\n",
              "      <td>1439</td>\n",
              "      <td>9</td>\n",
              "      <td>12443</td>\n",
              "      <td>29</td>\n",
              "      <td>5</td>\n",
              "      <td>26385</td>\n",
              "    </tr>\n",
              "    <tr>\n",
              "      <th>...</th>\n",
              "      <td>...</td>\n",
              "      <td>...</td>\n",
              "      <td>...</td>\n",
              "      <td>...</td>\n",
              "      <td>...</td>\n",
              "      <td>...</td>\n",
              "      <td>...</td>\n",
              "      <td>...</td>\n",
              "      <td>...</td>\n",
              "      <td>...</td>\n",
              "      <td>...</td>\n",
              "      <td>...</td>\n",
              "      <td>...</td>\n",
              "      <td>...</td>\n",
              "      <td>...</td>\n",
              "      <td>...</td>\n",
              "      <td>...</td>\n",
              "      <td>...</td>\n",
              "      <td>...</td>\n",
              "      <td>...</td>\n",
              "      <td>...</td>\n",
              "      <td>...</td>\n",
              "      <td>...</td>\n",
              "      <td>...</td>\n",
              "      <td>...</td>\n",
              "      <td>...</td>\n",
              "      <td>...</td>\n",
              "      <td>...</td>\n",
              "      <td>...</td>\n",
              "      <td>...</td>\n",
              "      <td>...</td>\n",
              "      <td>...</td>\n",
              "      <td>...</td>\n",
              "      <td>...</td>\n",
              "      <td>...</td>\n",
              "      <td>...</td>\n",
              "      <td>...</td>\n",
              "      <td>...</td>\n",
              "      <td>...</td>\n",
              "      <td>...</td>\n",
              "      <td>...</td>\n",
              "      <td>...</td>\n",
              "      <td>...</td>\n",
              "      <td>...</td>\n",
              "      <td>...</td>\n",
              "      <td>...</td>\n",
              "      <td>...</td>\n",
              "      <td>...</td>\n",
              "      <td>...</td>\n",
              "      <td>...</td>\n",
              "      <td>...</td>\n",
              "      <td>...</td>\n",
              "      <td>...</td>\n",
              "      <td>...</td>\n",
              "      <td>...</td>\n",
              "      <td>...</td>\n",
              "      <td>...</td>\n",
              "      <td>...</td>\n",
              "      <td>...</td>\n",
              "      <td>...</td>\n",
              "      <td>...</td>\n",
              "      <td>...</td>\n",
              "      <td>...</td>\n",
              "      <td>...</td>\n",
              "      <td>...</td>\n",
              "      <td>...</td>\n",
              "      <td>...</td>\n",
              "      <td>...</td>\n",
              "      <td>...</td>\n",
              "      <td>...</td>\n",
              "      <td>...</td>\n",
              "      <td>...</td>\n",
              "      <td>...</td>\n",
              "      <td>...</td>\n",
              "      <td>...</td>\n",
              "      <td>...</td>\n",
              "      <td>...</td>\n",
              "      <td>...</td>\n",
              "      <td>...</td>\n",
              "      <td>...</td>\n",
              "      <td>...</td>\n",
              "    </tr>\n",
              "    <tr>\n",
              "      <th>1791</th>\n",
              "      <td>6</td>\n",
              "      <td>5</td>\n",
              "      <td>7255</td>\n",
              "      <td>6471</td>\n",
              "      <td>525</td>\n",
              "      <td>5</td>\n",
              "      <td>338</td>\n",
              "      <td>210</td>\n",
              "      <td>72</td>\n",
              "      <td>7</td>\n",
              "      <td>1</td>\n",
              "      <td>36716</td>\n",
              "      <td>4434</td>\n",
              "      <td>33</td>\n",
              "      <td>293</td>\n",
              "      <td>687</td>\n",
              "      <td>10</td>\n",
              "      <td>1</td>\n",
              "      <td>649</td>\n",
              "      <td>491</td>\n",
              "      <td>143</td>\n",
              "      <td>3118</td>\n",
              "      <td>85</td>\n",
              "      <td>40</td>\n",
              "      <td>687</td>\n",
              "      <td>33</td>\n",
              "      <td>23</td>\n",
              "      <td>6</td>\n",
              "      <td>11647</td>\n",
              "      <td>560</td>\n",
              "      <td>170</td>\n",
              "      <td>2064</td>\n",
              "      <td>24</td>\n",
              "      <td>1</td>\n",
              "      <td>573</td>\n",
              "      <td>4663</td>\n",
              "      <td>3</td>\n",
              "      <td>1</td>\n",
              "      <td>573</td>\n",
              "      <td>884</td>\n",
              "      <td>...</td>\n",
              "      <td>796</td>\n",
              "      <td>1</td>\n",
              "      <td>472</td>\n",
              "      <td>1839</td>\n",
              "      <td>4</td>\n",
              "      <td>1</td>\n",
              "      <td>549</td>\n",
              "      <td>4</td>\n",
              "      <td>1</td>\n",
              "      <td>1283</td>\n",
              "      <td>347</td>\n",
              "      <td>3</td>\n",
              "      <td>1</td>\n",
              "      <td>21778</td>\n",
              "      <td>8619</td>\n",
              "      <td>3604</td>\n",
              "      <td>1549</td>\n",
              "      <td>3604</td>\n",
              "      <td>3</td>\n",
              "      <td>9692</td>\n",
              "      <td>24</td>\n",
              "      <td>16</td>\n",
              "      <td>3603</td>\n",
              "      <td>3</td>\n",
              "      <td>36719</td>\n",
              "      <td>835</td>\n",
              "      <td>16</td>\n",
              "      <td>19</td>\n",
              "      <td>11</td>\n",
              "      <td>92</td>\n",
              "      <td>7922</td>\n",
              "      <td>1514</td>\n",
              "      <td>7283</td>\n",
              "      <td>1065</td>\n",
              "      <td>1</td>\n",
              "      <td>39</td>\n",
              "      <td>1539</td>\n",
              "      <td>2</td>\n",
              "      <td>199</td>\n",
              "      <td>789</td>\n",
              "    </tr>\n",
              "    <tr>\n",
              "      <th>1096</th>\n",
              "      <td>0</td>\n",
              "      <td>0</td>\n",
              "      <td>0</td>\n",
              "      <td>0</td>\n",
              "      <td>0</td>\n",
              "      <td>0</td>\n",
              "      <td>0</td>\n",
              "      <td>0</td>\n",
              "      <td>0</td>\n",
              "      <td>0</td>\n",
              "      <td>0</td>\n",
              "      <td>0</td>\n",
              "      <td>0</td>\n",
              "      <td>0</td>\n",
              "      <td>0</td>\n",
              "      <td>0</td>\n",
              "      <td>0</td>\n",
              "      <td>0</td>\n",
              "      <td>0</td>\n",
              "      <td>0</td>\n",
              "      <td>0</td>\n",
              "      <td>0</td>\n",
              "      <td>0</td>\n",
              "      <td>0</td>\n",
              "      <td>0</td>\n",
              "      <td>0</td>\n",
              "      <td>0</td>\n",
              "      <td>0</td>\n",
              "      <td>0</td>\n",
              "      <td>0</td>\n",
              "      <td>0</td>\n",
              "      <td>0</td>\n",
              "      <td>0</td>\n",
              "      <td>0</td>\n",
              "      <td>0</td>\n",
              "      <td>0</td>\n",
              "      <td>0</td>\n",
              "      <td>0</td>\n",
              "      <td>0</td>\n",
              "      <td>0</td>\n",
              "      <td>...</td>\n",
              "      <td>345</td>\n",
              "      <td>188</td>\n",
              "      <td>5</td>\n",
              "      <td>12803</td>\n",
              "      <td>1</td>\n",
              "      <td>510</td>\n",
              "      <td>12</td>\n",
              "      <td>625</td>\n",
              "      <td>25</td>\n",
              "      <td>1716</td>\n",
              "      <td>898</td>\n",
              "      <td>2</td>\n",
              "      <td>566</td>\n",
              "      <td>61</td>\n",
              "      <td>118</td>\n",
              "      <td>19</td>\n",
              "      <td>438</td>\n",
              "      <td>6</td>\n",
              "      <td>20798</td>\n",
              "      <td>1609</td>\n",
              "      <td>14</td>\n",
              "      <td>7</td>\n",
              "      <td>12388</td>\n",
              "      <td>3</td>\n",
              "      <td>1</td>\n",
              "      <td>54</td>\n",
              "      <td>55</td>\n",
              "      <td>392</td>\n",
              "      <td>241</td>\n",
              "      <td>6</td>\n",
              "      <td>35</td>\n",
              "      <td>128</td>\n",
              "      <td>28</td>\n",
              "      <td>743</td>\n",
              "      <td>979</td>\n",
              "      <td>35</td>\n",
              "      <td>170</td>\n",
              "      <td>512</td>\n",
              "      <td>53</td>\n",
              "      <td>600</td>\n",
              "    </tr>\n",
              "    <tr>\n",
              "      <th>1932</th>\n",
              "      <td>0</td>\n",
              "      <td>0</td>\n",
              "      <td>0</td>\n",
              "      <td>0</td>\n",
              "      <td>0</td>\n",
              "      <td>0</td>\n",
              "      <td>0</td>\n",
              "      <td>0</td>\n",
              "      <td>0</td>\n",
              "      <td>0</td>\n",
              "      <td>0</td>\n",
              "      <td>0</td>\n",
              "      <td>0</td>\n",
              "      <td>0</td>\n",
              "      <td>0</td>\n",
              "      <td>0</td>\n",
              "      <td>0</td>\n",
              "      <td>0</td>\n",
              "      <td>0</td>\n",
              "      <td>0</td>\n",
              "      <td>0</td>\n",
              "      <td>0</td>\n",
              "      <td>0</td>\n",
              "      <td>0</td>\n",
              "      <td>0</td>\n",
              "      <td>0</td>\n",
              "      <td>0</td>\n",
              "      <td>0</td>\n",
              "      <td>0</td>\n",
              "      <td>0</td>\n",
              "      <td>0</td>\n",
              "      <td>0</td>\n",
              "      <td>0</td>\n",
              "      <td>0</td>\n",
              "      <td>0</td>\n",
              "      <td>0</td>\n",
              "      <td>0</td>\n",
              "      <td>0</td>\n",
              "      <td>0</td>\n",
              "      <td>0</td>\n",
              "      <td>...</td>\n",
              "      <td>9195</td>\n",
              "      <td>4002</td>\n",
              "      <td>3</td>\n",
              "      <td>1876</td>\n",
              "      <td>7733</td>\n",
              "      <td>39</td>\n",
              "      <td>8</td>\n",
              "      <td>6952</td>\n",
              "      <td>264</td>\n",
              "      <td>237</td>\n",
              "      <td>45</td>\n",
              "      <td>1527</td>\n",
              "      <td>6952</td>\n",
              "      <td>227</td>\n",
              "      <td>3</td>\n",
              "      <td>422</td>\n",
              "      <td>237</td>\n",
              "      <td>118</td>\n",
              "      <td>986</td>\n",
              "      <td>12</td>\n",
              "      <td>19</td>\n",
              "      <td>428</td>\n",
              "      <td>22451</td>\n",
              "      <td>41</td>\n",
              "      <td>15746</td>\n",
              "      <td>4002</td>\n",
              "      <td>3</td>\n",
              "      <td>1876</td>\n",
              "      <td>140</td>\n",
              "      <td>66</td>\n",
              "      <td>58</td>\n",
              "      <td>4</td>\n",
              "      <td>1</td>\n",
              "      <td>20877</td>\n",
              "      <td>3</td>\n",
              "      <td>5823</td>\n",
              "      <td>6183</td>\n",
              "      <td>38</td>\n",
              "      <td>1</td>\n",
              "      <td>9585</td>\n",
              "    </tr>\n",
              "    <tr>\n",
              "      <th>235</th>\n",
              "      <td>1</td>\n",
              "      <td>13839</td>\n",
              "      <td>10475</td>\n",
              "      <td>1147</td>\n",
              "      <td>4</td>\n",
              "      <td>4289</td>\n",
              "      <td>5</td>\n",
              "      <td>44</td>\n",
              "      <td>174</td>\n",
              "      <td>49</td>\n",
              "      <td>97</td>\n",
              "      <td>475</td>\n",
              "      <td>7</td>\n",
              "      <td>1</td>\n",
              "      <td>1693</td>\n",
              "      <td>541</td>\n",
              "      <td>453</td>\n",
              "      <td>11</td>\n",
              "      <td>27</td>\n",
              "      <td>206</td>\n",
              "      <td>921</td>\n",
              "      <td>5</td>\n",
              "      <td>5519</td>\n",
              "      <td>3</td>\n",
              "      <td>11</td>\n",
              "      <td>241</td>\n",
              "      <td>21</td>\n",
              "      <td>1</td>\n",
              "      <td>1470</td>\n",
              "      <td>14</td>\n",
              "      <td>7</td>\n",
              "      <td>1</td>\n",
              "      <td>1693</td>\n",
              "      <td>807</td>\n",
              "      <td>48</td>\n",
              "      <td>218</td>\n",
              "      <td>495</td>\n",
              "      <td>1</td>\n",
              "      <td>1470</td>\n",
              "      <td>1</td>\n",
              "      <td>...</td>\n",
              "      <td>24093</td>\n",
              "      <td>1</td>\n",
              "      <td>2281</td>\n",
              "      <td>5171</td>\n",
              "      <td>15</td>\n",
              "      <td>1</td>\n",
              "      <td>12167</td>\n",
              "      <td>24094</td>\n",
              "      <td>52</td>\n",
              "      <td>12</td>\n",
              "      <td>251</td>\n",
              "      <td>1</td>\n",
              "      <td>718</td>\n",
              "      <td>17</td>\n",
              "      <td>1</td>\n",
              "      <td>168</td>\n",
              "      <td>598</td>\n",
              "      <td>73</td>\n",
              "      <td>1</td>\n",
              "      <td>664</td>\n",
              "      <td>134</td>\n",
              "      <td>14</td>\n",
              "      <td>724</td>\n",
              "      <td>1</td>\n",
              "      <td>1470</td>\n",
              "      <td>1054</td>\n",
              "      <td>17641</td>\n",
              "      <td>15</td>\n",
              "      <td>1</td>\n",
              "      <td>2024</td>\n",
              "      <td>14035</td>\n",
              "      <td>1023</td>\n",
              "      <td>24095</td>\n",
              "      <td>572</td>\n",
              "      <td>106</td>\n",
              "      <td>877</td>\n",
              "      <td>1</td>\n",
              "      <td>324</td>\n",
              "      <td>233</td>\n",
              "      <td>188</td>\n",
              "    </tr>\n",
              "    <tr>\n",
              "      <th>1061</th>\n",
              "      <td>0</td>\n",
              "      <td>0</td>\n",
              "      <td>0</td>\n",
              "      <td>0</td>\n",
              "      <td>0</td>\n",
              "      <td>0</td>\n",
              "      <td>0</td>\n",
              "      <td>0</td>\n",
              "      <td>0</td>\n",
              "      <td>0</td>\n",
              "      <td>0</td>\n",
              "      <td>0</td>\n",
              "      <td>0</td>\n",
              "      <td>0</td>\n",
              "      <td>0</td>\n",
              "      <td>0</td>\n",
              "      <td>0</td>\n",
              "      <td>0</td>\n",
              "      <td>0</td>\n",
              "      <td>0</td>\n",
              "      <td>0</td>\n",
              "      <td>0</td>\n",
              "      <td>0</td>\n",
              "      <td>0</td>\n",
              "      <td>0</td>\n",
              "      <td>0</td>\n",
              "      <td>0</td>\n",
              "      <td>0</td>\n",
              "      <td>0</td>\n",
              "      <td>0</td>\n",
              "      <td>0</td>\n",
              "      <td>0</td>\n",
              "      <td>0</td>\n",
              "      <td>0</td>\n",
              "      <td>0</td>\n",
              "      <td>0</td>\n",
              "      <td>0</td>\n",
              "      <td>0</td>\n",
              "      <td>0</td>\n",
              "      <td>0</td>\n",
              "      <td>...</td>\n",
              "      <td>3638</td>\n",
              "      <td>758</td>\n",
              "      <td>303</td>\n",
              "      <td>1271</td>\n",
              "      <td>275</td>\n",
              "      <td>555</td>\n",
              "      <td>3638</td>\n",
              "      <td>758</td>\n",
              "      <td>90</td>\n",
              "      <td>3347</td>\n",
              "      <td>15958</td>\n",
              "      <td>3</td>\n",
              "      <td>880</td>\n",
              "      <td>90</td>\n",
              "      <td>30693</td>\n",
              "      <td>506</td>\n",
              "      <td>5</td>\n",
              "      <td>3353</td>\n",
              "      <td>147</td>\n",
              "      <td>4</td>\n",
              "      <td>306</td>\n",
              "      <td>4030</td>\n",
              "      <td>630</td>\n",
              "      <td>1496</td>\n",
              "      <td>3</td>\n",
              "      <td>201</td>\n",
              "      <td>2951</td>\n",
              "      <td>2</td>\n",
              "      <td>58</td>\n",
              "      <td>2167</td>\n",
              "      <td>221</td>\n",
              "      <td>26</td>\n",
              "      <td>524</td>\n",
              "      <td>6</td>\n",
              "      <td>1</td>\n",
              "      <td>2493</td>\n",
              "      <td>250</td>\n",
              "      <td>4</td>\n",
              "      <td>30694</td>\n",
              "      <td>1019</td>\n",
              "    </tr>\n",
              "  </tbody>\n",
              "</table>\n",
              "<p>1600 rows × 250 columns</p>\n",
              "</div>"
            ],
            "text/plain": [
              "       0      1      2     3     4    ...   245    246    247    248    249\n",
              "0     6267      7   2872   160  2500  ...     3   1887    726     70    617\n",
              "816      0      0      0     0     0  ...    19     12  11231     27  27961\n",
              "790      0      0      0     0     0  ...   873      1    198    570   5160\n",
              "361      0      0      0     0     0  ...   665     66      1   9723    168\n",
              "592     82     33   1300    13    35  ...     9  12443     29      5  26385\n",
              "...    ...    ...    ...   ...   ...  ...   ...    ...    ...    ...    ...\n",
              "1791     6      5   7255  6471   525  ...    39   1539      2    199    789\n",
              "1096     0      0      0     0     0  ...    35    170    512     53    600\n",
              "1932     0      0      0     0     0  ...  5823   6183     38      1   9585\n",
              "235      1  13839  10475  1147     4  ...   877      1    324    233    188\n",
              "1061     0      0      0     0     0  ...  2493    250      4  30694   1019\n",
              "\n",
              "[1600 rows x 250 columns]"
            ]
          },
          "metadata": {
            "tags": []
          },
          "execution_count": 46
        }
      ]
    },
    {
      "cell_type": "code",
      "metadata": {
        "colab": {
          "base_uri": "https://localhost:8080/"
        },
        "id": "kRyr7oFwbhAo",
        "outputId": "5d7bff7e-af0c-48dd-932a-387c1b6bbe9c"
      },
      "source": [
        "X_train.shape"
      ],
      "execution_count": 47,
      "outputs": [
        {
          "output_type": "execute_result",
          "data": {
            "text/plain": [
              "(1600, 250)"
            ]
          },
          "metadata": {
            "tags": []
          },
          "execution_count": 47
        }
      ]
    },
    {
      "cell_type": "code",
      "metadata": {
        "colab": {
          "base_uri": "https://localhost:8080/"
        },
        "id": "0C7LtWDcbiA8",
        "outputId": "caac0e39-0654-404c-fc62-7c769aab5107"
      },
      "source": [
        "y_train.shape"
      ],
      "execution_count": 48,
      "outputs": [
        {
          "output_type": "execute_result",
          "data": {
            "text/plain": [
              "(1600,)"
            ]
          },
          "metadata": {
            "tags": []
          },
          "execution_count": 48
        }
      ]
    },
    {
      "cell_type": "markdown",
      "metadata": {
        "id": "Y2owNA5hbp3S"
      },
      "source": [
        "# Defining Neural Network"
      ]
    },
    {
      "cell_type": "code",
      "metadata": {
        "id": "hxAiUEZtbm2L"
      },
      "source": [
        "model = Sequential()\r\n",
        "#Non-trainable embeddidng layer\r\n",
        "model.add(Embedding(vocab_size+1, output_dim=embedding_dim, weights=[embeddings_matrix], input_length=max_length, trainable=False))\r\n",
        "#LSTM \r\n",
        "model.add(LSTM(units=128, dropout=0.2))\r\n",
        "model.add(Dense(1, activation='sigmoid'))\r\n",
        "model.compile(optimizer='adam', loss='binary_crossentropy', metrics=['accuracy'])\r\n"
      ],
      "execution_count": 60,
      "outputs": []
    },
    {
      "cell_type": "code",
      "metadata": {
        "colab": {
          "base_uri": "https://localhost:8080/"
        },
        "id": "xLSZc5bUlw8d",
        "outputId": "000ee939-07c1-44d6-d4d4-542e4674e230"
      },
      "source": [
        "model.summary()"
      ],
      "execution_count": 61,
      "outputs": [
        {
          "output_type": "stream",
          "text": [
            "Model: \"sequential_2\"\n",
            "_________________________________________________________________\n",
            "Layer (type)                 Output Shape              Param #   \n",
            "=================================================================\n",
            "embedding_2 (Embedding)      (None, 250, 100)          3848900   \n",
            "_________________________________________________________________\n",
            "lstm_2 (LSTM)                (None, 128)               117248    \n",
            "_________________________________________________________________\n",
            "dense_2 (Dense)              (None, 1)                 129       \n",
            "=================================================================\n",
            "Total params: 3,966,277\n",
            "Trainable params: 117,377\n",
            "Non-trainable params: 3,848,900\n",
            "_________________________________________________________________\n"
          ],
          "name": "stdout"
        }
      ]
    },
    {
      "cell_type": "code",
      "metadata": {
        "id": "H6h4A-NIbtiL"
      },
      "source": [
        "history = model.fit(X_train, y_train, validation_data = (X_test,y_test) , epochs=5)"
      ],
      "execution_count": null,
      "outputs": []
    },
    {
      "cell_type": "code",
      "metadata": {
        "id": "IIHRPaPUbueY"
      },
      "source": [
        "y_pred_glove = (model.predict(X_test) > 0.5).astype(\"int\")"
      ],
      "execution_count": null,
      "outputs": []
    },
    {
      "cell_type": "code",
      "metadata": {
        "id": "VuTHniEbgU6a"
      },
      "source": [
        "print(classification_report(y_test, y_pred_glove, zero_division = 1))"
      ],
      "execution_count": null,
      "outputs": []
    },
    {
      "cell_type": "code",
      "metadata": {
        "id": "hiCBPLUXgWG2"
      },
      "source": [
        "#plot accuracy and loss\r\n",
        "def plot_graphs(history, string):\r\n",
        "  plt.plot(history.history[string])\r\n",
        "  plt.plot(history.history['val_'+string])\r\n",
        "  plt.xlabel(\"Epochs\")\r\n",
        "  plt.ylabel(string)\r\n",
        "  plt.legend([string, 'val_'+string])\r\n",
        "  plt.show()\r\n",
        "  \r\n",
        "plot_graphs(history, \"accuracy\")\r\n",
        "plot_graphs(history, \"loss\")"
      ],
      "execution_count": null,
      "outputs": []
    },
    {
      "cell_type": "code",
      "metadata": {
        "id": "xnAcSLcVgbfg"
      },
      "source": [
        "model_noGlove = Sequential()\r\n",
        "#Non-trainable embeddidng layer\r\n",
        "model_noGlove.add(Embedding(vocab_size+1,50,input_length=max_length))\r\n",
        "#LSTM \r\n",
        "model_noGlove.add(LSTM(units=128))\r\n",
        "model_noGlove.add(Dense(1, activation='sigmoid'))\r\n",
        "model_noGlove.compile(optimizer='adam', loss='binary_crossentropy', metrics=['acc'])"
      ],
      "execution_count": null,
      "outputs": []
    },
    {
      "cell_type": "code",
      "metadata": {
        "id": "dYEKM0o4gdL5"
      },
      "source": [
        "history_noGlove = model_noGlove.fit(X_train, y_train, validation_data = (X_test,y_test) , epochs=5) "
      ],
      "execution_count": null,
      "outputs": []
    }
  ]
}