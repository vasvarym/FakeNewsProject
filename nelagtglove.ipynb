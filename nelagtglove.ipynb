{
  "nbformat": 4,
  "nbformat_minor": 0,
  "metadata": {
    "colab": {
      "name": "nelagt.ipynb",
      "provenance": [],
      "collapsed_sections": []
    },
    "kernelspec": {
      "name": "python3",
      "display_name": "Python 3"
    }
  },
  "cells": [
    {
      "cell_type": "markdown",
      "metadata": {
        "id": "lMh5vSnCBX9g"
      },
      "source": [
        "# Import Libraries"
      ]
    },
    {
      "cell_type": "code",
      "metadata": {
        "id": "Xl8kA2Vvh-1v"
      },
      "source": [
        "import pandas as pd\r\n",
        "import numpy as np\r\n",
        "import seaborn as sb\r\n",
        "import nltk\r\n",
        "import re\r\n",
        "# Import word_tokenize and stopwords from nltk\r\n",
        "from nltk.corpus import stopwords\r\n",
        "from nltk.tokenize import word_tokenize\r\n",
        "from nltk.stem import WordNetLemmatizer\r\n",
        "\r\n",
        "from sklearn.feature_extraction.text import CountVectorizer\r\n",
        "from sklearn.feature_extraction.text import TfidfTransformer, TfidfVectorizer\r\n",
        "\r\n",
        "import nltk\r\n",
        "import nltk.corpus\r\n",
        "from gensim.models.word2vec import Word2Vec\r\n",
        "from sklearn.pipeline import Pipeline\r\n",
        "\r\n",
        "\r\n",
        "from sklearn.linear_model import LogisticRegression\r\n",
        "from sklearn.tree import DecisionTreeClassifier\r\n",
        "from sklearn.ensemble import RandomForestClassifier\r\n",
        "from sklearn.naive_bayes import MultinomialNB\r\n",
        "from sklearn import svm\r\n",
        "from sklearn.svm import LinearSVC\r\n",
        "from sklearn.model_selection import cross_validate\r\n",
        "\r\n",
        "from sklearn.metrics import confusion_matrix, f1_score, classification_report"
      ],
      "execution_count": 1,
      "outputs": []
    },
    {
      "cell_type": "code",
      "metadata": {
        "id": "F4XKMprejSpt"
      },
      "source": [
        "from keras.models import Model\r\n",
        "from keras.layers import LSTM, Activation, Dense, Dropout, Input, Embedding\r\n",
        "from keras.optimizers import RMSprop\r\n",
        "from keras.preprocessing.text import Tokenizer\r\n",
        "from keras.preprocessing import sequence\r\n",
        "from keras.utils import to_categorical\r\n",
        "from keras.callbacks import EarlyStopping\r\n",
        "from tensorflow.keras.models import Sequential"
      ],
      "execution_count": 2,
      "outputs": []
    },
    {
      "cell_type": "code",
      "metadata": {
        "colab": {
          "base_uri": "https://localhost:8080/"
        },
        "id": "UWmwN3UYGXNf",
        "outputId": "d99a6954-69e7-4890-d532-a9926db0a65a"
      },
      "source": [
        "import nltk\r\n",
        "\r\n",
        "nltk.download('stopwords')\r\n",
        "nltk.download('wordnet')\r\n",
        "nltk.download('punkt')\r\n",
        "nltk.download('averaged_perceptron_tagger')\r\n",
        "nltk.download('maxent_ne_chunker')\r\n",
        "nltk.download('words')"
      ],
      "execution_count": 3,
      "outputs": [
        {
          "output_type": "stream",
          "text": [
            "[nltk_data] Downloading package stopwords to /root/nltk_data...\n",
            "[nltk_data]   Unzipping corpora/stopwords.zip.\n",
            "[nltk_data] Downloading package wordnet to /root/nltk_data...\n",
            "[nltk_data]   Unzipping corpora/wordnet.zip.\n",
            "[nltk_data] Downloading package punkt to /root/nltk_data...\n",
            "[nltk_data]   Unzipping tokenizers/punkt.zip.\n",
            "[nltk_data] Downloading package averaged_perceptron_tagger to\n",
            "[nltk_data]     /root/nltk_data...\n",
            "[nltk_data]   Unzipping taggers/averaged_perceptron_tagger.zip.\n",
            "[nltk_data] Downloading package maxent_ne_chunker to\n",
            "[nltk_data]     /root/nltk_data...\n",
            "[nltk_data]   Unzipping chunkers/maxent_ne_chunker.zip.\n",
            "[nltk_data] Downloading package words to /root/nltk_data...\n",
            "[nltk_data]   Unzipping corpora/words.zip.\n"
          ],
          "name": "stdout"
        },
        {
          "output_type": "execute_result",
          "data": {
            "text/plain": [
              "True"
            ]
          },
          "metadata": {
            "tags": []
          },
          "execution_count": 3
        }
      ]
    },
    {
      "cell_type": "markdown",
      "metadata": {
        "id": "khnSZuGcBSS6"
      },
      "source": [
        "# Import dataset"
      ]
    },
    {
      "cell_type": "code",
      "metadata": {
        "id": "EW7reDymjmrD",
        "colab": {
          "base_uri": "https://localhost:8080/"
        },
        "outputId": "6948890a-2080-4c82-9cb2-37dcffaf5c38"
      },
      "source": [
        "from google.colab import drive\r\n",
        "drive.mount('/content/drive')"
      ],
      "execution_count": 4,
      "outputs": [
        {
          "output_type": "stream",
          "text": [
            "Mounted at /content/drive\n"
          ],
          "name": "stdout"
        }
      ]
    },
    {
      "cell_type": "code",
      "metadata": {
        "id": "c65RmZE5jvzs"
      },
      "source": [
        "data = pd.read_csv(\"/content/drive/My Drive/nela10sample.csv\")\r\n",
        "data.content=data.content.astype(str)\r\n",
        "data.title=data.title.astype(str)"
      ],
      "execution_count": 5,
      "outputs": []
    },
    {
      "cell_type": "code",
      "metadata": {
        "id": "_-F6Azogj4s0",
        "colab": {
          "base_uri": "https://localhost:8080/",
          "height": 589
        },
        "outputId": "74c9e3d5-49be-48b3-b9d5-e7f553ada082"
      },
      "source": [
        "data"
      ],
      "execution_count": 6,
      "outputs": [
        {
          "output_type": "execute_result",
          "data": {
            "text/html": [
              "<div>\n",
              "<style scoped>\n",
              "    .dataframe tbody tr th:only-of-type {\n",
              "        vertical-align: middle;\n",
              "    }\n",
              "\n",
              "    .dataframe tbody tr th {\n",
              "        vertical-align: top;\n",
              "    }\n",
              "\n",
              "    .dataframe thead th {\n",
              "        text-align: right;\n",
              "    }\n",
              "</style>\n",
              "<table border=\"1\" class=\"dataframe\">\n",
              "  <thead>\n",
              "    <tr style=\"text-align: right;\">\n",
              "      <th></th>\n",
              "      <th>id</th>\n",
              "      <th>date</th>\n",
              "      <th>source</th>\n",
              "      <th>title</th>\n",
              "      <th>content</th>\n",
              "      <th>author</th>\n",
              "      <th>url</th>\n",
              "      <th>published</th>\n",
              "      <th>published_utc</th>\n",
              "      <th>collection_utc</th>\n",
              "      <th>Reliability</th>\n",
              "    </tr>\n",
              "  </thead>\n",
              "  <tbody>\n",
              "    <tr>\n",
              "      <th>0</th>\n",
              "      <td>abcnews--2020-04-15--Students could take SAT a...</td>\n",
              "      <td>2020-04-15</td>\n",
              "      <td>abcnews</td>\n",
              "      <td>Students could take SAT at home if schools rem...</td>\n",
              "      <td>A home version of the SAT college entrance exa...</td>\n",
              "      <td>NaN</td>\n",
              "      <td>https://abcnews.go.com/US/wireStory/students-s...</td>\n",
              "      <td>Wed, 15 Apr 2020 19:33:47 -0400</td>\n",
              "      <td>1586993627</td>\n",
              "      <td>1586993864</td>\n",
              "      <td>0</td>\n",
              "    </tr>\n",
              "    <tr>\n",
              "      <th>1</th>\n",
              "      <td>abcnews--2020-04-15--Detroit facing fresh fisc...</td>\n",
              "      <td>2020-04-15</td>\n",
              "      <td>abcnews</td>\n",
              "      <td>Detroit facing fresh fiscal woes with coronavi...</td>\n",
              "      <td>DETROIT -- Barely surviving the 2008 economic ...</td>\n",
              "      <td>NaN</td>\n",
              "      <td>https://abcnews.go.com/US/wireStory/detroit-fa...</td>\n",
              "      <td>Wed, 15 Apr 2020 19:30:18 -0400</td>\n",
              "      <td>1586993418</td>\n",
              "      <td>1586993865</td>\n",
              "      <td>0</td>\n",
              "    </tr>\n",
              "    <tr>\n",
              "      <th>2</th>\n",
              "      <td>abcnews--2020-04-15--Thousands protest Michiga...</td>\n",
              "      <td>2020-04-15</td>\n",
              "      <td>abcnews</td>\n",
              "      <td>Thousands protest Michigan governor's social d...</td>\n",
              "      <td>LANSING, Mich. -- Thousands of flag-waving, ho...</td>\n",
              "      <td>NaN</td>\n",
              "      <td>https://abcnews.go.com/US/wireStory/hundreds-p...</td>\n",
              "      <td>Wed, 15 Apr 2020 18:48:35 -0400</td>\n",
              "      <td>1586990915</td>\n",
              "      <td>1586993866</td>\n",
              "      <td>0</td>\n",
              "    </tr>\n",
              "    <tr>\n",
              "      <th>3</th>\n",
              "      <td>abcnews--2020-04-15--Baltimore Police defends ...</td>\n",
              "      <td>2020-04-15</td>\n",
              "      <td>abcnews</td>\n",
              "      <td>Baltimore Police defends planned aerial survei...</td>\n",
              "      <td>The Baltimore Police Department on Wednesday d...</td>\n",
              "      <td>NaN</td>\n",
              "      <td>https://abcnews.go.com/US/wireStory/baltimore-...</td>\n",
              "      <td>Wed, 15 Apr 2020 18:32:47 -0400</td>\n",
              "      <td>1586989967</td>\n",
              "      <td>1586993867</td>\n",
              "      <td>0</td>\n",
              "    </tr>\n",
              "    <tr>\n",
              "      <th>4</th>\n",
              "      <td>abcnews--2020-04-15--Attorney who fought for c...</td>\n",
              "      <td>2020-04-15</td>\n",
              "      <td>abcnews</td>\n",
              "      <td>Attorney who fought for civil rights in Louisi...</td>\n",
              "      <td>NEW ORLEANS -- A white lawyer who defended bla...</td>\n",
              "      <td>NaN</td>\n",
              "      <td>https://abcnews.go.com/US/wireStory/attorney-f...</td>\n",
              "      <td>Wed, 15 Apr 2020 18:12:18 -0400</td>\n",
              "      <td>1586988738</td>\n",
              "      <td>1586993864</td>\n",
              "      <td>0</td>\n",
              "    </tr>\n",
              "    <tr>\n",
              "      <th>...</th>\n",
              "      <td>...</td>\n",
              "      <td>...</td>\n",
              "      <td>...</td>\n",
              "      <td>...</td>\n",
              "      <td>...</td>\n",
              "      <td>...</td>\n",
              "      <td>...</td>\n",
              "      <td>...</td>\n",
              "      <td>...</td>\n",
              "      <td>...</td>\n",
              "      <td>...</td>\n",
              "    </tr>\n",
              "    <tr>\n",
              "      <th>102549</th>\n",
              "      <td>wearechange--2020-04-26--North Korea Power Vac...</td>\n",
              "      <td>2020-04-26</td>\n",
              "      <td>wearechange</td>\n",
              "      <td>North Korea Power Vacuum Brings US And China T...</td>\n",
              "      <td>The fall of North Korea could lead to a US war...</td>\n",
              "      <td>AJ Nelson</td>\n",
              "      <td>https://wearechange.org/north-korea-power-vacu...</td>\n",
              "      <td>Sun, 26 Apr 2020 20:12:36 +0000</td>\n",
              "      <td>1587946356</td>\n",
              "      <td>1587951770</td>\n",
              "      <td>2</td>\n",
              "    </tr>\n",
              "    <tr>\n",
              "      <th>102550</th>\n",
              "      <td>wearechange--2020-04-26--Twitter Suspends Acco...</td>\n",
              "      <td>2020-04-26</td>\n",
              "      <td>wearechange</td>\n",
              "      <td>Twitter Suspends Account of Biotech Company Te...</td>\n",
              "      <td>Twitter has suspended the account of a Colorad...</td>\n",
              "      <td>AJ Nelson</td>\n",
              "      <td>https://wearechange.org/twitter-suspends-accou...</td>\n",
              "      <td>Sun, 26 Apr 2020 19:14:56 +0000</td>\n",
              "      <td>1587942896</td>\n",
              "      <td>1587951772</td>\n",
              "      <td>2</td>\n",
              "    </tr>\n",
              "    <tr>\n",
              "      <th>102551</th>\n",
              "      <td>wearechange--2020-04-26--Riots Have Started In...</td>\n",
              "      <td>2020-04-26</td>\n",
              "      <td>wearechange</td>\n",
              "      <td>Riots Have Started In Venezuela! Will It Come ...</td>\n",
              "      <td>OH YEAH, since we are not corporate or governm...</td>\n",
              "      <td>AJ Nelson</td>\n",
              "      <td>https://wearechange.org/riots-have-started-in-...</td>\n",
              "      <td>Sun, 26 Apr 2020 17:48:15 +0000</td>\n",
              "      <td>1587937695</td>\n",
              "      <td>1587951770</td>\n",
              "      <td>2</td>\n",
              "    </tr>\n",
              "    <tr>\n",
              "      <th>102552</th>\n",
              "      <td>wearechange--2020-04-27--True Coronavirus Deat...</td>\n",
              "      <td>2020-04-27</td>\n",
              "      <td>wearechange</td>\n",
              "      <td>True Coronavirus Death Toll Likely 60% Higher ...</td>\n",
              "      <td>As experts try to model the true number of cor...</td>\n",
              "      <td>AJ Nelson</td>\n",
              "      <td>https://wearechange.org/true-coronavirus-death...</td>\n",
              "      <td>Mon, 27 Apr 2020 02:10:52 +0000</td>\n",
              "      <td>1587967852</td>\n",
              "      <td>1587991692</td>\n",
              "      <td>2</td>\n",
              "    </tr>\n",
              "    <tr>\n",
              "      <th>102553</th>\n",
              "      <td>wearechange--2020-04-28--WHO Mysteriously Dele...</td>\n",
              "      <td>2020-04-28</td>\n",
              "      <td>wearechange</td>\n",
              "      <td>WHO Mysteriously Deletes Tweet About Reinfecti...</td>\n",
              "      <td>The World Health Organization (WHO) on Sunday ...</td>\n",
              "      <td>AJ Nelson</td>\n",
              "      <td>https://wearechange.org/who-mysteriously-delet...</td>\n",
              "      <td>Tue, 28 Apr 2020 01:41:07 +0000</td>\n",
              "      <td>1588052467</td>\n",
              "      <td>1588039177</td>\n",
              "      <td>2</td>\n",
              "    </tr>\n",
              "  </tbody>\n",
              "</table>\n",
              "<p>102554 rows × 11 columns</p>\n",
              "</div>"
            ],
            "text/plain": [
              "                                                       id  ... Reliability\n",
              "0       abcnews--2020-04-15--Students could take SAT a...  ...           0\n",
              "1       abcnews--2020-04-15--Detroit facing fresh fisc...  ...           0\n",
              "2       abcnews--2020-04-15--Thousands protest Michiga...  ...           0\n",
              "3       abcnews--2020-04-15--Baltimore Police defends ...  ...           0\n",
              "4       abcnews--2020-04-15--Attorney who fought for c...  ...           0\n",
              "...                                                   ...  ...         ...\n",
              "102549  wearechange--2020-04-26--North Korea Power Vac...  ...           2\n",
              "102550  wearechange--2020-04-26--Twitter Suspends Acco...  ...           2\n",
              "102551  wearechange--2020-04-26--Riots Have Started In...  ...           2\n",
              "102552  wearechange--2020-04-27--True Coronavirus Deat...  ...           2\n",
              "102553  wearechange--2020-04-28--WHO Mysteriously Dele...  ...           2\n",
              "\n",
              "[102554 rows x 11 columns]"
            ]
          },
          "metadata": {
            "tags": []
          },
          "execution_count": 6
        }
      ]
    },
    {
      "cell_type": "code",
      "metadata": {
        "id": "Trn0XIq1Ckf1"
      },
      "source": [
        "# Concetanate title and content\r\n",
        "data[\"content\"] = data[\"title\"] + \" \" + data[\"content\"]\r\n",
        "\r\n",
        "#Keep only content, Reliability as columns\r\n",
        "data = data.drop(['id','date','source','title','author','url','published','published_utc','collection_utc'],axis=1)"
      ],
      "execution_count": 7,
      "outputs": []
    },
    {
      "cell_type": "code",
      "metadata": {
        "colab": {
          "base_uri": "https://localhost:8080/",
          "height": 419
        },
        "id": "P62lqJkMEG-r",
        "outputId": "e1823536-ce04-4f87-9276-604c0ad824b1"
      },
      "source": [
        "data"
      ],
      "execution_count": 8,
      "outputs": [
        {
          "output_type": "execute_result",
          "data": {
            "text/html": [
              "<div>\n",
              "<style scoped>\n",
              "    .dataframe tbody tr th:only-of-type {\n",
              "        vertical-align: middle;\n",
              "    }\n",
              "\n",
              "    .dataframe tbody tr th {\n",
              "        vertical-align: top;\n",
              "    }\n",
              "\n",
              "    .dataframe thead th {\n",
              "        text-align: right;\n",
              "    }\n",
              "</style>\n",
              "<table border=\"1\" class=\"dataframe\">\n",
              "  <thead>\n",
              "    <tr style=\"text-align: right;\">\n",
              "      <th></th>\n",
              "      <th>content</th>\n",
              "      <th>Reliability</th>\n",
              "    </tr>\n",
              "  </thead>\n",
              "  <tbody>\n",
              "    <tr>\n",
              "      <th>0</th>\n",
              "      <td>Students could take SAT at home if schools rem...</td>\n",
              "      <td>0</td>\n",
              "    </tr>\n",
              "    <tr>\n",
              "      <th>1</th>\n",
              "      <td>Detroit facing fresh fiscal woes with coronavi...</td>\n",
              "      <td>0</td>\n",
              "    </tr>\n",
              "    <tr>\n",
              "      <th>2</th>\n",
              "      <td>Thousands protest Michigan governor's social d...</td>\n",
              "      <td>0</td>\n",
              "    </tr>\n",
              "    <tr>\n",
              "      <th>3</th>\n",
              "      <td>Baltimore Police defends planned aerial survei...</td>\n",
              "      <td>0</td>\n",
              "    </tr>\n",
              "    <tr>\n",
              "      <th>4</th>\n",
              "      <td>Attorney who fought for civil rights in Louisi...</td>\n",
              "      <td>0</td>\n",
              "    </tr>\n",
              "    <tr>\n",
              "      <th>...</th>\n",
              "      <td>...</td>\n",
              "      <td>...</td>\n",
              "    </tr>\n",
              "    <tr>\n",
              "      <th>102549</th>\n",
              "      <td>North Korea Power Vacuum Brings US And China T...</td>\n",
              "      <td>2</td>\n",
              "    </tr>\n",
              "    <tr>\n",
              "      <th>102550</th>\n",
              "      <td>Twitter Suspends Account of Biotech Company Te...</td>\n",
              "      <td>2</td>\n",
              "    </tr>\n",
              "    <tr>\n",
              "      <th>102551</th>\n",
              "      <td>Riots Have Started In Venezuela! Will It Come ...</td>\n",
              "      <td>2</td>\n",
              "    </tr>\n",
              "    <tr>\n",
              "      <th>102552</th>\n",
              "      <td>True Coronavirus Death Toll Likely 60% Higher ...</td>\n",
              "      <td>2</td>\n",
              "    </tr>\n",
              "    <tr>\n",
              "      <th>102553</th>\n",
              "      <td>WHO Mysteriously Deletes Tweet About Reinfecti...</td>\n",
              "      <td>2</td>\n",
              "    </tr>\n",
              "  </tbody>\n",
              "</table>\n",
              "<p>102554 rows × 2 columns</p>\n",
              "</div>"
            ],
            "text/plain": [
              "                                                  content  Reliability\n",
              "0       Students could take SAT at home if schools rem...            0\n",
              "1       Detroit facing fresh fiscal woes with coronavi...            0\n",
              "2       Thousands protest Michigan governor's social d...            0\n",
              "3       Baltimore Police defends planned aerial survei...            0\n",
              "4       Attorney who fought for civil rights in Louisi...            0\n",
              "...                                                   ...          ...\n",
              "102549  North Korea Power Vacuum Brings US And China T...            2\n",
              "102550  Twitter Suspends Account of Biotech Company Te...            2\n",
              "102551  Riots Have Started In Venezuela! Will It Come ...            2\n",
              "102552  True Coronavirus Death Toll Likely 60% Higher ...            2\n",
              "102553  WHO Mysteriously Deletes Tweet About Reinfecti...            2\n",
              "\n",
              "[102554 rows x 2 columns]"
            ]
          },
          "metadata": {
            "tags": []
          },
          "execution_count": 8
        }
      ]
    },
    {
      "cell_type": "code",
      "metadata": {
        "colab": {
          "base_uri": "https://localhost:8080/"
        },
        "id": "yWOeu0HIELp5",
        "outputId": "8681c048-ecb4-41e9-b3c5-95ba9b6cf6a5"
      },
      "source": [
        "print (data.content[0])"
      ],
      "execution_count": null,
      "outputs": [
        {
          "output_type": "stream",
          "text": [
            "Students could take SAT at home if schools remain closed A home version of the SAT college entrance exam is being prepared in case schools remain closed into the fall, College Board officials said Wednesday as they announced the cancellation of June testing.\n",
            "\n",
            "Instead of a paper-and-pencil test given under proctors' supervision, the home version would be digital and rely on “remote proctoring.” That could include using the computer’s camera and microphone to monitor movement or talking, College Board President Jeremy Singer said on a conference call with reporters.\n",
            "\n",
            "The rival ACT also will launch an at-home option in late fall or early winter, the exam's administrators said Wednesday.\n",
            "\n",
            "“We would much prefer that schools reopen but we are ready to innovate and deliver in the unlikely case we need to,” College Board Chief Executive David Coleman said.\n",
            "\n",
            "Coronavirus-related school closures forced the cancellation of spring testing for about 1 million first-time SAT test-takers, the majority of them high school juniors planning to enter college in 2021, College Board officials said. The national June 6 session is the latest to be canceled.\n",
            "\n",
            "“We would much prefer that schools reopen but we are ready to innovate and deliver in the unlikely case we need to,” College Board Chief Executive David Coleman said.\n",
            "\n",
            "The three-hour, multiple choice test measures math and English language arts proficiency. The ACT also has a science component.\n",
            "\n",
            "Most colleges require SAT or ACT exam scores as part of the application process, though an increasing number of institutions have made them optional in recent years, often to be more inclusive of students without access to private test-preparation available to wealthier peers.\n",
            "\n",
            "In response to the coronavirus, California's public universities and several other institutions around the country have made the tests optional only for 2021 applicants.\n",
            "\n",
            "If it’s safe, the College Board will resume and expand in-person SAT testing in August, with Saturday sessions offered once a month through December, officials said. Students who had planned to take the SAT for free in school this spring can instead take it in the fall.\n",
            "\n",
            "The not-for-profit College Board earlier announced plans to offer Advanced Placement final exams at home for high school students whose schools will remain closed through the May testing dates. The College Board has offered to help students and schools secure devices and internet access if needed.\n"
          ],
          "name": "stdout"
        }
      ]
    },
    {
      "cell_type": "code",
      "metadata": {
        "id": "qC8-KMLeFZ4T"
      },
      "source": [
        "def process_statements(text):\r\n",
        "    \r\n",
        "    # Tokenize the words\r\n",
        "    tokenized = word_tokenize(text)\r\n",
        "\r\n",
        "    # Remove the stop words\r\n",
        "    tokenized = [token for token in tokenized if token not in stopwords.words(\"english\")] \r\n",
        "\r\n",
        "    # Lemmatize the words, changing text to lowercase\r\n",
        "    lemmatizer = WordNetLemmatizer()\r\n",
        "    tokenized = [lemmatizer.lemmatize(token.lower(), pos='a') for token in tokenized]\r\n",
        "\r\n",
        "    # Remove non-alphabetic characters and keep the words contains three or more letters\r\n",
        "    tokenized = [token for token in tokenized if token.isalpha() and len(token)>2]\r\n",
        "    \r\n",
        "    return tokenized\r\n",
        "    \r\n",
        "# Call the function and store the result into a new column\r\n",
        "#train[\"Processed\"] = train['Statement'].str.lower().apply(process_statements)\r\n",
        "\r\n",
        "# Print the first fifteen rows of Processed\r\n",
        "#display(train[[\"Processed\"]].head(15))"
      ],
      "execution_count": 9,
      "outputs": []
    },
    {
      "cell_type": "code",
      "metadata": {
        "colab": {
          "base_uri": "https://localhost:8080/"
        },
        "id": "G7WtV2hJgQbC",
        "outputId": "026d01c5-1f80-4840-82c6-047c56609a3c"
      },
      "source": [
        "data.head"
      ],
      "execution_count": 10,
      "outputs": [
        {
          "output_type": "execute_result",
          "data": {
            "text/plain": [
              "<bound method NDFrame.head of                                                   content  Reliability\n",
              "0       Students could take SAT at home if schools rem...            0\n",
              "1       Detroit facing fresh fiscal woes with coronavi...            0\n",
              "2       Thousands protest Michigan governor's social d...            0\n",
              "3       Baltimore Police defends planned aerial survei...            0\n",
              "4       Attorney who fought for civil rights in Louisi...            0\n",
              "...                                                   ...          ...\n",
              "102549  North Korea Power Vacuum Brings US And China T...            2\n",
              "102550  Twitter Suspends Account of Biotech Company Te...            2\n",
              "102551  Riots Have Started In Venezuela! Will It Come ...            2\n",
              "102552  True Coronavirus Death Toll Likely 60% Higher ...            2\n",
              "102553  WHO Mysteriously Deletes Tweet About Reinfecti...            2\n",
              "\n",
              "[102554 rows x 2 columns]>"
            ]
          },
          "metadata": {
            "tags": []
          },
          "execution_count": 10
        }
      ]
    },
    {
      "cell_type": "code",
      "metadata": {
        "id": "vysJWpB5fuPT"
      },
      "source": [
        "df1 = data[:5000]\r\n",
        "df2 = data[-5000:]\r\n",
        "df3 = [df1,df2]\r\n",
        "smallerdf = pd.concat(df3)"
      ],
      "execution_count": 14,
      "outputs": []
    },
    {
      "cell_type": "code",
      "metadata": {
        "colab": {
          "base_uri": "https://localhost:8080/"
        },
        "id": "0UNFzauziCoS",
        "outputId": "7ec55644-2ce6-403d-dfe4-b91addf94ed0"
      },
      "source": [
        "smallerdf.shape"
      ],
      "execution_count": 15,
      "outputs": [
        {
          "output_type": "execute_result",
          "data": {
            "text/plain": [
              "(10000, 2)"
            ]
          },
          "metadata": {
            "tags": []
          },
          "execution_count": 15
        }
      ]
    },
    {
      "cell_type": "code",
      "metadata": {
        "colab": {
          "base_uri": "https://localhost:8080/"
        },
        "id": "3dnvzoxvgLgN",
        "outputId": "291d11c9-ee2b-40ed-95d0-b75d3ad559b7"
      },
      "source": [
        "smallerdf.head"
      ],
      "execution_count": 16,
      "outputs": [
        {
          "output_type": "execute_result",
          "data": {
            "text/plain": [
              "<bound method NDFrame.head of                                                   content  Reliability\n",
              "0       Students could take SAT at home if schools rem...            0\n",
              "1       Detroit facing fresh fiscal woes with coronavi...            0\n",
              "2       Thousands protest Michigan governor's social d...            0\n",
              "3       Baltimore Police defends planned aerial survei...            0\n",
              "4       Attorney who fought for civil rights in Louisi...            0\n",
              "...                                                   ...          ...\n",
              "102549  North Korea Power Vacuum Brings US And China T...            2\n",
              "102550  Twitter Suspends Account of Biotech Company Te...            2\n",
              "102551  Riots Have Started In Venezuela! Will It Come ...            2\n",
              "102552  True Coronavirus Death Toll Likely 60% Higher ...            2\n",
              "102553  WHO Mysteriously Deletes Tweet About Reinfecti...            2\n",
              "\n",
              "[10000 rows x 2 columns]>"
            ]
          },
          "metadata": {
            "tags": []
          },
          "execution_count": 16
        }
      ]
    },
    {
      "cell_type": "code",
      "metadata": {
        "id": "jntCYgsQFfBG"
      },
      "source": [
        "# split the dataset into training and testing datasets \r\n",
        "\r\n",
        "from sklearn.model_selection import train_test_split\r\n",
        "X_train, X_test, y_train, y_test = train_test_split(smallerdf['content'], smallerdf['Reliability'], test_size=0.20)"
      ],
      "execution_count": 17,
      "outputs": []
    },
    {
      "cell_type": "code",
      "metadata": {
        "colab": {
          "base_uri": "https://localhost:8080/"
        },
        "id": "opktREAoQzwU",
        "outputId": "ead81659-da5c-438e-b303-a00a40323f1a"
      },
      "source": [
        "print (X_train)"
      ],
      "execution_count": 18,
      "outputs": [
        {
          "output_type": "stream",
          "text": [
            "98494     Tragic Wycombe fan dies of heart attack after ...\n",
            "97752     Man Utd fans plan mass Old Trafford walk-out d...\n",
            "100664    Nashville Authorities Arrest Convicted Felon f...\n",
            "102456    Authorities charge 10 in alleged MS-13 deaths,...\n",
            "2553      'Threat' - Aston Villa youngster delights as m...\n",
            "                                ...                        \n",
            "4083      Meet the billionaires bankrolling Trump's 2020...\n",
            "100663    Report: FBI Director Wray Behind Suppression o...\n",
            "1490      Grieving Kenyan grandmother calls for better r...\n",
            "2473      Former Birmingham City star trolls Newcastle U...\n",
            "4555      A US doctor predicts a 'massive surge' in coro...\n",
            "Name: content, Length: 8000, dtype: object\n"
          ],
          "name": "stdout"
        }
      ]
    },
    {
      "cell_type": "code",
      "metadata": {
        "id": "-XqtmntmFvAn"
      },
      "source": [
        "# Apply text pre-processing, then vectorize the text so the models can actually interpret it\r\n",
        "vectorizer = TfidfVectorizer(analyzer=process_statements)\r\n",
        "x_train_vectorized = vectorizer.fit_transform(X_train)\r\n",
        "x_test_vectorized = vectorizer.transform(X_test)"
      ],
      "execution_count": 19,
      "outputs": []
    },
    {
      "cell_type": "code",
      "metadata": {
        "colab": {
          "base_uri": "https://localhost:8080/"
        },
        "id": "Yize1dh2GGHJ",
        "outputId": "cf08e624-3011-47ca-a57d-da753b0f3167"
      },
      "source": [
        "print (x_train_vectorized.shape)\r\n",
        "print (x_test_vectorized.shape)\r\n",
        "print (y_train.shape)\r\n",
        "print (y_test.shape)"
      ],
      "execution_count": 20,
      "outputs": [
        {
          "output_type": "stream",
          "text": [
            "(8000, 60311)\n",
            "(2000, 60311)\n",
            "(8000,)\n",
            "(2000,)\n"
          ],
          "name": "stdout"
        }
      ]
    },
    {
      "cell_type": "markdown",
      "metadata": {
        "id": "GK_BDA0mcAbU"
      },
      "source": [
        "#Logistic Regression"
      ]
    },
    {
      "cell_type": "code",
      "metadata": {
        "colab": {
          "base_uri": "https://localhost:8080/"
        },
        "id": "GO89CU5rJAeh",
        "outputId": "2fe23e55-8bc7-47ff-f584-3320cbb62046"
      },
      "source": [
        "log_reg = LogisticRegression()\r\n",
        "log_reg.fit(x_train_vectorized, y_train)\r\n",
        "logR_predicted = log_reg.predict(x_test_vectorized)\r\n",
        "print(f\"{log_reg.__class__.__name__} accuracy: {log_reg.score(x_test_vectorized, y_test)}\")"
      ],
      "execution_count": 21,
      "outputs": [
        {
          "output_type": "stream",
          "text": [
            "LogisticRegression accuracy: 0.8365\n"
          ],
          "name": "stdout"
        }
      ]
    },
    {
      "cell_type": "code",
      "metadata": {
        "id": "PA3iL3bKJEyO",
        "colab": {
          "base_uri": "https://localhost:8080/"
        },
        "outputId": "8f49d3ff-8f01-46ee-c4cf-3829ab937df5"
      },
      "source": [
        "print(classification_report(y_test, logR_predicted))\r\n",
        "print('\\n')\r\n",
        "print(confusion_matrix(y_test, logR_predicted))"
      ],
      "execution_count": 22,
      "outputs": [
        {
          "output_type": "stream",
          "text": [
            "              precision    recall  f1-score   support\n",
            "\n",
            "           0       0.83      0.86      0.85      1037\n",
            "           2       0.85      0.81      0.83       963\n",
            "\n",
            "    accuracy                           0.84      2000\n",
            "   macro avg       0.84      0.84      0.84      2000\n",
            "weighted avg       0.84      0.84      0.84      2000\n",
            "\n",
            "\n",
            "\n",
            "[[896 141]\n",
            " [186 777]]\n"
          ],
          "name": "stdout"
        }
      ]
    },
    {
      "cell_type": "code",
      "metadata": {
        "colab": {
          "base_uri": "https://localhost:8080/"
        },
        "id": "QbBfagobcLDz",
        "outputId": "60a9f2e9-e2ee-47d7-9a96-8e55c2e5258f"
      },
      "source": [
        "cv_results = cross_validate(log_reg, x_train_vectorized, y_train, cv=5)\r\n",
        "cv_results['test_score'].mean()"
      ],
      "execution_count": 26,
      "outputs": [
        {
          "output_type": "execute_result",
          "data": {
            "text/plain": [
              "0.8355"
            ]
          },
          "metadata": {
            "tags": []
          },
          "execution_count": 26
        }
      ]
    },
    {
      "cell_type": "markdown",
      "metadata": {
        "id": "Jq7hZqcgb7M4"
      },
      "source": [
        "#Random Forest"
      ]
    },
    {
      "cell_type": "code",
      "metadata": {
        "id": "MMUvTjFah8aZ",
        "colab": {
          "base_uri": "https://localhost:8080/"
        },
        "outputId": "3500a198-e45d-4a90-d3c7-c1358d474e14"
      },
      "source": [
        "random_forest = RandomForestClassifier(n_estimators=10, max_depth=100)\r\n",
        "random_forest.fit(x_train_vectorized, y_train)\r\n",
        "\r\n",
        "print(f\"{random_forest.__class__.__name__} accuracy: {random_forest.score(x_test_vectorized, y_test)}\")"
      ],
      "execution_count": 23,
      "outputs": [
        {
          "output_type": "stream",
          "text": [
            "RandomForestClassifier accuracy: 0.75\n"
          ],
          "name": "stdout"
        }
      ]
    },
    {
      "cell_type": "code",
      "metadata": {
        "colab": {
          "base_uri": "https://localhost:8080/"
        },
        "id": "r9mKtOSBYSVo",
        "outputId": "589e7bb9-0b43-487b-fa9d-754a3b714777"
      },
      "source": [
        "rForest_pred = random_forest.predict(x_test_vectorized)\r\n",
        "print(classification_report(y_test, rForest_pred))\r\n",
        "print('\\n')\r\n",
        "print(confusion_matrix(y_test, rForest_pred))"
      ],
      "execution_count": 24,
      "outputs": [
        {
          "output_type": "stream",
          "text": [
            "              precision    recall  f1-score   support\n",
            "\n",
            "           0       0.75      0.78      0.76      1037\n",
            "           2       0.75      0.72      0.74       963\n",
            "\n",
            "    accuracy                           0.75      2000\n",
            "   macro avg       0.75      0.75      0.75      2000\n",
            "weighted avg       0.75      0.75      0.75      2000\n",
            "\n",
            "\n",
            "\n",
            "[[804 233]\n",
            " [267 696]]\n"
          ],
          "name": "stdout"
        }
      ]
    },
    {
      "cell_type": "code",
      "metadata": {
        "colab": {
          "base_uri": "https://localhost:8080/"
        },
        "id": "A6KDgXXrYUKq",
        "outputId": "dae5ef47-1ad3-4682-fa8d-eac74e066d8d"
      },
      "source": [
        "cv_results = cross_validate(random_forest, x_train_vectorized, y_train, cv=5)\r\n",
        "cv_results['test_score'].mean()"
      ],
      "execution_count": 25,
      "outputs": [
        {
          "output_type": "execute_result",
          "data": {
            "text/plain": [
              "0.74325"
            ]
          },
          "metadata": {
            "tags": []
          },
          "execution_count": 25
        }
      ]
    },
    {
      "cell_type": "markdown",
      "metadata": {
        "id": "mU-6z2_xbxuo"
      },
      "source": [
        "# Multinomial Naive Bayes"
      ]
    },
    {
      "cell_type": "code",
      "metadata": {
        "colab": {
          "base_uri": "https://localhost:8080/"
        },
        "id": "riZRRCbAYWh3",
        "outputId": "66aa9eb6-bb7f-4c7b-9e5f-68c124cfb759"
      },
      "source": [
        "multi_nb = MultinomialNB()\r\n",
        "multi_nb.fit(x_train_vectorized, y_train)\r\n",
        "print(f\"{multi_nb.__class__.__name__} accuracy: {multi_nb.score(x_test_vectorized, y_test)}\")"
      ],
      "execution_count": 29,
      "outputs": [
        {
          "output_type": "stream",
          "text": [
            "MultinomialNB accuracy: 0.7805\n"
          ],
          "name": "stdout"
        }
      ]
    },
    {
      "cell_type": "code",
      "metadata": {
        "colab": {
          "base_uri": "https://localhost:8080/"
        },
        "id": "Bql6-8DcYa0M",
        "outputId": "6d0e5823-a3ca-442a-b133-fd6959e96305"
      },
      "source": [
        "NaiveB_pred = multi_nb.predict(x_test_vectorized)\r\n",
        "print(classification_report(y_test, NaiveB_pred))\r\n",
        "print('\\n')\r\n",
        "print(confusion_matrix(y_test, NaiveB_pred))"
      ],
      "execution_count": 30,
      "outputs": [
        {
          "output_type": "stream",
          "text": [
            "              precision    recall  f1-score   support\n",
            "\n",
            "           0       0.78      0.81      0.79      1037\n",
            "           2       0.78      0.75      0.77       963\n",
            "\n",
            "    accuracy                           0.78      2000\n",
            "   macro avg       0.78      0.78      0.78      2000\n",
            "weighted avg       0.78      0.78      0.78      2000\n",
            "\n",
            "\n",
            "\n",
            "[[838 199]\n",
            " [240 723]]\n"
          ],
          "name": "stdout"
        }
      ]
    },
    {
      "cell_type": "code",
      "metadata": {
        "colab": {
          "base_uri": "https://localhost:8080/"
        },
        "id": "VUKZkS9rYcfV",
        "outputId": "6ff07c33-7fd9-4064-9ef8-58a594ea0e8d"
      },
      "source": [
        "cv_results = cross_validate(multi_nb, x_train_vectorized, y_train, cv=5)\r\n",
        "cv_results['test_score'].mean()"
      ],
      "execution_count": 31,
      "outputs": [
        {
          "output_type": "execute_result",
          "data": {
            "text/plain": [
              "0.7823749999999999"
            ]
          },
          "metadata": {
            "tags": []
          },
          "execution_count": 31
        }
      ]
    },
    {
      "cell_type": "markdown",
      "metadata": {
        "id": "m4bTKGMAbwNI"
      },
      "source": [
        "#SVM"
      ]
    },
    {
      "cell_type": "code",
      "metadata": {
        "colab": {
          "base_uri": "https://localhost:8080/"
        },
        "id": "npoBG8mwYd4M",
        "outputId": "46fbcdf0-eb5d-4f6d-a7f7-3ca9b6004112"
      },
      "source": [
        "svm = svm.LinearSVC()\r\n",
        "svm.fit(x_train_vectorized, y_train)\r\n",
        "print(f\"{svm.__class__.__name__} accuracy: {svm.score(x_test_vectorized, y_test)}\")"
      ],
      "execution_count": 32,
      "outputs": [
        {
          "output_type": "stream",
          "text": [
            "LinearSVC accuracy: 0.8585\n"
          ],
          "name": "stdout"
        }
      ]
    },
    {
      "cell_type": "code",
      "metadata": {
        "colab": {
          "base_uri": "https://localhost:8080/"
        },
        "id": "qpaPORcYYgCW",
        "outputId": "808dadf6-eda5-4ac9-8197-d36feb6e2c8f"
      },
      "source": [
        "svm_pred = svm.predict(x_test_vectorized)\r\n",
        "\r\n",
        "print(classification_report(y_test, svm_pred))\r\n",
        "print('\\n')\r\n",
        "print(confusion_matrix(y_test, svm_pred))"
      ],
      "execution_count": 33,
      "outputs": [
        {
          "output_type": "stream",
          "text": [
            "              precision    recall  f1-score   support\n",
            "\n",
            "           0       0.85      0.88      0.87      1037\n",
            "           2       0.87      0.83      0.85       963\n",
            "\n",
            "    accuracy                           0.86      2000\n",
            "   macro avg       0.86      0.86      0.86      2000\n",
            "weighted avg       0.86      0.86      0.86      2000\n",
            "\n",
            "\n",
            "\n",
            "[[916 121]\n",
            " [162 801]]\n"
          ],
          "name": "stdout"
        }
      ]
    },
    {
      "cell_type": "code",
      "metadata": {
        "colab": {
          "base_uri": "https://localhost:8080/"
        },
        "id": "kaPe5GBDYhkb",
        "outputId": "09fb1519-afa5-4bf8-e9bd-d4a67d552f98"
      },
      "source": [
        "cv_results = cross_validate(svm, x_train_vectorized, y_train, cv=5)\r\n",
        "cv_results['test_score'].mean()"
      ],
      "execution_count": 34,
      "outputs": [
        {
          "output_type": "execute_result",
          "data": {
            "text/plain": [
              "0.8480000000000001"
            ]
          },
          "metadata": {
            "tags": []
          },
          "execution_count": 34
        }
      ]
    },
    {
      "cell_type": "markdown",
      "metadata": {
        "id": "WeYRbd7gasXZ"
      },
      "source": [
        "# LSTM with GloVe embedding"
      ]
    },
    {
      "cell_type": "code",
      "metadata": {
        "id": "alUyHAKVauUV"
      },
      "source": [
        "!pip install glove_python"
      ],
      "execution_count": null,
      "outputs": []
    },
    {
      "cell_type": "code",
      "metadata": {
        "id": "ny4Bqaaxax7M"
      },
      "source": [
        "lemmatizer = WordNetLemmatizer()\r\n",
        "stops = set(stopwords.words('english'))\r\n",
        "# Removing the stopwords from text\r\n",
        "def remove_stopwords(text):\r\n",
        "    final_text = []\r\n",
        "    for i in text.split():\r\n",
        "        if i.strip().lower() not in stops:\r\n",
        "            final_text.append(i.strip())\r\n",
        "    return \" \".join(final_text)\r\n",
        "\r\n",
        "# Removing the square brackets\r\n",
        "def remove_between_square_brackets(text):\r\n",
        "    return re.sub('\\[[^]]*\\]', '', text)\r\n",
        "    \r\n",
        "# Removing the noisy text\r\n",
        "def denoise_text(text):\r\n",
        "    text = remove_between_square_brackets(text)\r\n",
        "    text = remove_stopwords(text)\r\n",
        "    return text\r\n",
        "\r\n",
        "\r\n",
        "# Apply function on statement column\r\n",
        "statement_train = [denoise_text(s) for s in train['statement'].values]\r\n",
        "statement_test = [denoise_text(s) for s in test['statement'].values]\r\n",
        "statement_valid = [denoise_text(s) for s in valid['statement'].values]\r\n",
        "\r\n",
        "# Get lables (Consider combine the levels)\r\n",
        "label_train = train['label'].values\r\n",
        "label_test = test['label'].values\r\n",
        "label_valid = valid['label'].values"
      ],
      "execution_count": null,
      "outputs": []
    },
    {
      "cell_type": "code",
      "metadata": {
        "id": "jG10SlR6a2SP"
      },
      "source": [
        "table = str.maketrans('', '', string.punctuation)\r\n",
        "\r\n",
        "def makeWords(sentences):\r\n",
        "  wordList = []\r\n",
        "  for headline in sentences:\r\n",
        "    words = headline.split(' ')\r\n",
        "    stripped = [w.strip().translate(table) for w in words]\r\n",
        "    wordList.append(stripped)\r\n",
        "  return wordList\r\n",
        "\r\n",
        "words_train = makeWords(statement_train)\r\n",
        "words_test = makeWords(statement_test)\r\n",
        "words_valid = makeWords(statement_valid)"
      ],
      "execution_count": null,
      "outputs": []
    },
    {
      "cell_type": "code",
      "metadata": {
        "id": "TebYzbr-a5UF"
      },
      "source": [
        "MAX_WORDS = 100000 # max number of words for tokenizer\r\n",
        "MAX_SEQUENCE_LENGTH = 1000 # max length of each sentences, including padding\r\n",
        "EMBEDDING_DIM = 100 # embedding dimensions for word vectors"
      ],
      "execution_count": null,
      "outputs": []
    },
    {
      "cell_type": "code",
      "metadata": {
        "id": "dZNtUpLSa8Fi"
      },
      "source": [
        "#X_rain to sequences\r\n",
        "\r\n",
        "# prepare tokenizer\r\n",
        "tokenizer = Tokenizer(num_words=MAX_WORDS)\r\n",
        "\r\n",
        "#preparing vocabulary\r\n",
        "tokenizer.fit_on_texts(words_train)\r\n",
        "\r\n",
        "#converting text into integer sequences\r\n",
        "sequences = tokenizer.texts_to_sequences(words_train) \r\n",
        "\r\n",
        "#padding to prepare sequences of same length\r\n",
        "X_train = pad_sequences(sequences, maxlen=MAX_SEQUENCE_LENGTH, padding = 'post')\r\n",
        "\r\n",
        "# record the size of the vocab\r\n",
        "vocab_size=len(tokenizer.word_index) + 1 #+1 for padding\r\n",
        "print(vocab_size)"
      ],
      "execution_count": null,
      "outputs": []
    },
    {
      "cell_type": "code",
      "metadata": {
        "id": "Ih9RcRp4a-ET"
      },
      "source": [
        "# X_test to sequences\r\n",
        "\r\n",
        "tokenizer = Tokenizer(num_words=MAX_WORDS)\r\n",
        "\r\n",
        "#preparing vocabulary\r\n",
        "tokenizer.fit_on_texts(words_test)\r\n",
        "\r\n",
        "#converting text into integer sequences\r\n",
        "sequences = tokenizer.texts_to_sequences(words_test) \r\n",
        "\r\n",
        "#padding to prepare sequences of same length\r\n",
        "X_test = pad_sequences(sequences, maxlen=MAX_SEQUENCE_LENGTH, padding = 'post')"
      ],
      "execution_count": null,
      "outputs": []
    },
    {
      "cell_type": "markdown",
      "metadata": {
        "id": "z2BVYXHVbqck"
      },
      "source": [
        "#Glove_Embedding Using Gensim"
      ]
    },
    {
      "cell_type": "code",
      "metadata": {
        "id": "C2NZAz48a_9U"
      },
      "source": [
        "from __future__ import print_function\r\n",
        "import argparse\r\n",
        "import pprint\r\n",
        "import gensim\r\n",
        "\r\n",
        "from glove import Glove\r\n",
        "from glove import Corpus"
      ],
      "execution_count": null,
      "outputs": []
    },
    {
      "cell_type": "code",
      "metadata": {
        "id": "1Vx1MwDKbC6z"
      },
      "source": [
        "# Build the corpus dictionary and the cooccurrence matrix.\r\n",
        "print('Pre-processing corpus')\r\n",
        "\r\n",
        "corpus_model = Corpus()\r\n",
        "corpus_model.fit(words_train, window=10)\r\n",
        "#Corpus.save('corpus.model')\r\n",
        "        \r\n",
        "print('Dict size: %s' % len(corpus_model.dictionary))\r\n",
        "print('Collocations: %s' % corpus_model.matrix.nnz)"
      ],
      "execution_count": null,
      "outputs": []
    },
    {
      "cell_type": "code",
      "metadata": {
        "id": "MxarXNiCbFny"
      },
      "source": [
        "# Fit glove vectorizer with concurrence matrix from Corpus class\r\n",
        "glove = Glove(no_components=100, learning_rate=0.05)\r\n",
        "glove.fit(corpus_model.matrix)\r\n",
        "glove.add_dictionary(corpus_model.dictionary)"
      ],
      "execution_count": null,
      "outputs": []
    },
    {
      "cell_type": "code",
      "metadata": {
        "id": "oemJ8lXFbJQw"
      },
      "source": [
        "# Pre-trained embedding\r\n",
        "\r\n",
        "EMBEDDING_FILE = (\"/content/drive/My Drive/glove.6B.100d.txt\")"
      ],
      "execution_count": null,
      "outputs": []
    },
    {
      "cell_type": "code",
      "metadata": {
        "id": "LEWnWSvubNce"
      },
      "source": [
        "# load the whole embedding into memory\r\n",
        "embeddings_index = dict()\r\n",
        "f = open(EMBEDDING_FILE)\r\n",
        "\r\n",
        "for line in f:\r\n",
        "    values = line.split()\r\n",
        "    word = values[0]\r\n",
        "    coefs = np.asarray(values[1:], dtype='float32')\r\n",
        "    embeddings_index[word] = coefs\r\n",
        "\r\n",
        "f.close()\r\n",
        "print('Loaded %s word vectors.' % len(embeddings_index))"
      ],
      "execution_count": null,
      "outputs": []
    },
    {
      "cell_type": "code",
      "metadata": {
        "id": "imx66lTUbPwj"
      },
      "source": [
        "# create a weight matrix for words\r\n",
        "embedding_matrix = np.zeros((vocab_size, EMBEDDING_DIM))\r\n",
        "for word, i in word_index.items():\r\n",
        "    try:\r\n",
        "        embedding_vector = embeddings_index[word]\r\n",
        "        embedding_matrix[i] = embedding_vector\r\n",
        "    except KeyError:\r\n",
        "        embedding_matrix[i]=np.random.normal(0,np.sqrt(0.25),EMBEDDING_DIM)"
      ],
      "execution_count": null,
      "outputs": []
    },
    {
      "cell_type": "markdown",
      "metadata": {
        "id": "sgYVEAYsbUhF"
      },
      "source": [
        "# Defining Neural Network"
      ]
    },
    {
      "cell_type": "code",
      "metadata": {
        "id": "95usUgrZbWce"
      },
      "source": [
        "model = Sequential()\r\n",
        "#Non-trainable embeddidng layer\r\n",
        "model.add(Embedding(vocab_size, output_dim=EMBEDDING_DIM, weights=[embedding_matrix], input_length=MAX_SEQUENCE_LENGTH, trainable=False))\r\n",
        "#LSTM \r\n",
        "model.add(LSTM(units=128))\r\n",
        "model.add(Dense(1, activation='sigmoid'))\r\n",
        "model.compile(optimizer='adam', loss='binary_crossentropy', metrics=['accuracy'])\r\n",
        "\r\n",
        "del embedding_matrix"
      ],
      "execution_count": null,
      "outputs": []
    },
    {
      "cell_type": "code",
      "metadata": {
        "id": "6YekUaaJbZFU"
      },
      "source": [
        "history = model.fit(X_train, y_train, epochs=3, validation_data=(X_valid, y_valid))"
      ],
      "execution_count": null,
      "outputs": []
    },
    {
      "cell_type": "code",
      "metadata": {
        "id": "JLrpC2W_bapv"
      },
      "source": [
        "y_pred_glove = (model.predict(X_test) > 0.5).astype(\"int\")"
      ],
      "execution_count": null,
      "outputs": []
    },
    {
      "cell_type": "code",
      "metadata": {
        "id": "XPtRjrWtbcQH"
      },
      "source": [
        "print(\"Accuracy is {} for LSTM with GloVe embedding.\".format(accuracy_score(y_test, y_pred_glove)))"
      ],
      "execution_count": null,
      "outputs": []
    },
    {
      "cell_type": "code",
      "metadata": {
        "id": "XyxkHLz2bd0v"
      },
      "source": [
        "print(classification_report(y_test, y_pred, zero_division = 1))"
      ],
      "execution_count": null,
      "outputs": []
    },
    {
      "cell_type": "code",
      "metadata": {
        "id": "g7bz6GrQbfYD"
      },
      "source": [
        "#plot accuracy and loss\r\n",
        "def plot_graphs(history, string):\r\n",
        "  plt.plot(history.history[string])\r\n",
        "  plt.plot(history.history['val_'+string])\r\n",
        "  plt.xlabel(\"Epochs\")\r\n",
        "  plt.ylabel(string)\r\n",
        "  plt.legend([string, 'val_'+string])\r\n",
        "  plt.show()\r\n",
        "  \r\n",
        "plot_graphs(history, \"accuracy\")\r\n",
        "plot_graphs(history, \"loss\")"
      ],
      "execution_count": null,
      "outputs": []
    }
  ]
}