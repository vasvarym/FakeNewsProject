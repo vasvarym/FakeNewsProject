{
  "nbformat": 4,
  "nbformat_minor": 0,
  "metadata": {
    "colab": {
      "name": "liardatasetsentiment.ipynb",
      "provenance": [],
      "collapsed_sections": [
        "l9F13qL5llI2",
        "pbmQ8PRn80uw"
      ],
      "machine_shape": "hm",
      "include_colab_link": true
    },
    "kernelspec": {
      "display_name": "Python 3",
      "language": "python",
      "name": "python3"
    },
    "language_info": {
      "codemirror_mode": {
        "name": "ipython",
        "version": 3
      },
      "file_extension": ".py",
      "mimetype": "text/x-python",
      "name": "python",
      "nbconvert_exporter": "python",
      "pygments_lexer": "ipython3",
      "version": "3.8.3"
    },
    "accelerator": "TPU"
  },
  "cells": [
    {
      "cell_type": "markdown",
      "metadata": {
        "id": "view-in-github",
        "colab_type": "text"
      },
      "source": [
        "<a href=\"https://colab.research.google.com/github/vasvarym/FakeNewsProject/blob/main/liardatasetsentiment.ipynb\" target=\"_parent\"><img src=\"https://colab.research.google.com/assets/colab-badge.svg\" alt=\"Open In Colab\"/></a>"
      ]
    },
    {
      "cell_type": "markdown",
      "metadata": {
        "id": "Ne_QT4ael6tW"
      },
      "source": [
        "#Import Libraries"
      ]
    },
    {
      "cell_type": "code",
      "metadata": {
        "id": "m5saGi6TllIz"
      },
      "source": [
        "import pandas as pd\n",
        "import numpy as np\n",
        "import seaborn as sb\n",
        "import nltk\n",
        "import re\n",
        "import matplotlib.pyplot as plt\n",
        "from nltk.corpus import stopwords\n",
        "from nltk.tokenize import word_tokenize\n",
        "from nltk.stem import WordNetLemmatizer\n",
        "\n",
        "from sklearn.feature_extraction.text import CountVectorizer\n",
        "from sklearn.feature_extraction.text import TfidfTransformer, TfidfVectorizer\n",
        "\n",
        "import nltk\n",
        "import nltk.corpus\n",
        "import string\n",
        "from gensim.models.word2vec import Word2Vec\n",
        "from sklearn.pipeline import Pipeline\n",
        "\n",
        "\n",
        "from sklearn.linear_model import LogisticRegression\n",
        "from sklearn.tree import DecisionTreeClassifier\n",
        "from sklearn.ensemble import RandomForestClassifier\n",
        "from sklearn.neural_network import MLPClassifier\n",
        "from sklearn import svm\n",
        "from sklearn.svm import LinearSVC\n",
        "from sklearn.model_selection import cross_validate\n",
        "from sklearn.model_selection import GridSearchCV\n",
        "\n",
        "from sklearn.metrics import confusion_matrix, f1_score, classification_report, accuracy_score"
      ],
      "execution_count": 1,
      "outputs": []
    },
    {
      "cell_type": "code",
      "metadata": {
        "id": "Rkmukql9NPAf"
      },
      "source": [
        "from keras.models import Model\n",
        "from keras.layers import LSTM, Activation, Dense, Dropout, Input, Embedding,Bidirectional\n",
        "from keras.optimizers import RMSprop\n",
        "from keras.preprocessing.text import Tokenizer\n",
        "from keras.preprocessing import sequence\n",
        "from keras.utils import to_categorical\n",
        "from keras.callbacks import EarlyStopping\n",
        "from tensorflow.keras.models import Sequential"
      ],
      "execution_count": 2,
      "outputs": []
    },
    {
      "cell_type": "code",
      "metadata": {
        "colab": {
          "base_uri": "https://localhost:8080/"
        },
        "id": "31G5OI-olynX",
        "outputId": "e783a293-b90e-407d-f1cd-12a21278b607"
      },
      "source": [
        "import nltk\n",
        "\n",
        "nltk.download('stopwords')\n",
        "nltk.download('wordnet')\n",
        "nltk.download('punkt')\n",
        "nltk.download('averaged_perceptron_tagger')\n",
        "nltk.download('maxent_ne_chunker')\n",
        "nltk.download('words')"
      ],
      "execution_count": 3,
      "outputs": [
        {
          "output_type": "stream",
          "text": [
            "[nltk_data] Downloading package stopwords to /root/nltk_data...\n",
            "[nltk_data]   Unzipping corpora/stopwords.zip.\n",
            "[nltk_data] Downloading package wordnet to /root/nltk_data...\n",
            "[nltk_data]   Unzipping corpora/wordnet.zip.\n",
            "[nltk_data] Downloading package punkt to /root/nltk_data...\n",
            "[nltk_data]   Unzipping tokenizers/punkt.zip.\n",
            "[nltk_data] Downloading package averaged_perceptron_tagger to\n",
            "[nltk_data]     /root/nltk_data...\n",
            "[nltk_data]   Unzipping taggers/averaged_perceptron_tagger.zip.\n",
            "[nltk_data] Downloading package maxent_ne_chunker to\n",
            "[nltk_data]     /root/nltk_data...\n",
            "[nltk_data]   Unzipping chunkers/maxent_ne_chunker.zip.\n",
            "[nltk_data] Downloading package words to /root/nltk_data...\n",
            "[nltk_data]   Unzipping corpora/words.zip.\n"
          ],
          "name": "stdout"
        },
        {
          "output_type": "execute_result",
          "data": {
            "text/plain": [
              "True"
            ]
          },
          "metadata": {
            "tags": []
          },
          "execution_count": 3
        }
      ]
    },
    {
      "cell_type": "markdown",
      "metadata": {
        "id": "83TgHaOql-jf"
      },
      "source": [
        "#Import Dataset"
      ]
    },
    {
      "cell_type": "code",
      "metadata": {
        "colab": {
          "resources": {
            "http://localhost:8080/nbextensions/google.colab/files.js": {
              "data": "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",
              "ok": true,
              "headers": [
                [
                  "content-type",
                  "application/javascript"
                ]
              ],
              "status": 200,
              "status_text": ""
            }
          },
          "base_uri": "https://localhost:8080/",
          "height": 39
        },
        "id": "h68GBCvdmBT4",
        "outputId": "b59730f1-c458-46e2-dd8a-45a9026aef9f"
      },
      "source": [
        "from google.colab import files\n",
        "uploaded = files.upload()"
      ],
      "execution_count": null,
      "outputs": [
        {
          "output_type": "display_data",
          "data": {
            "text/html": [
              "\n",
              "     <input type=\"file\" id=\"files-d95fd056-dd16-41f1-ac5f-c0363bf994fe\" name=\"files[]\" multiple disabled\n",
              "        style=\"border:none\" />\n",
              "     <output id=\"result-d95fd056-dd16-41f1-ac5f-c0363bf994fe\">\n",
              "      Upload widget is only available when the cell has been executed in the\n",
              "      current browser session. Please rerun this cell to enable.\n",
              "      </output>\n",
              "      <script src=\"/nbextensions/google.colab/files.js\"></script> "
            ],
            "text/plain": [
              "<IPython.core.display.HTML object>"
            ]
          },
          "metadata": {
            "tags": []
          }
        }
      ]
    },
    {
      "cell_type": "code",
      "metadata": {
        "id": "QXfyk0NhllI0"
      },
      "source": [
        "#test = pd.read_csv('test.csv')\n",
        "#train = pd.read_csv('train.csv')\n",
        "#valid = pd.read_csv('valid.csv')"
      ],
      "execution_count": null,
      "outputs": []
    },
    {
      "cell_type": "code",
      "metadata": {
        "id": "6T5P97-_xA5A",
        "colab": {
          "base_uri": "https://localhost:8080/"
        },
        "outputId": "4c61eef3-9ffd-4eaf-f5d5-fb15c76c6a03"
      },
      "source": [
        "from google.colab import drive\n",
        "drive.mount('/content/drive')"
      ],
      "execution_count": 4,
      "outputs": [
        {
          "output_type": "stream",
          "text": [
            "Mounted at /content/drive\n"
          ],
          "name": "stdout"
        }
      ]
    },
    {
      "cell_type": "code",
      "metadata": {
        "id": "XqgvOZ81wqTb"
      },
      "source": [
        "# Datasets with sentiment and emotion analysis\n",
        "train = pd.read_csv(\"/content/drive/My Drive/liartrainsent2.csv\")\n",
        "test = pd.read_csv(\"/content/drive/My Drive/liartestsent2.csv\")\n",
        "valid = pd.read_csv(\"/content/drive/My Drive/liarvalidsent2.csv\")"
      ],
      "execution_count": 5,
      "outputs": []
    },
    {
      "cell_type": "code",
      "metadata": {
        "colab": {
          "base_uri": "https://localhost:8080/"
        },
        "id": "SIkb5Hg-wymq",
        "outputId": "20074537-1217-4ca0-82f5-92fa510a6812"
      },
      "source": [
        "# Shape of each set\n",
        "\n",
        "print(\"Shape of TRAIN DATA: \", train.shape)\n",
        "print(\"Shape of TEST DATA: \", test.shape)\n",
        "print(\"Shape of VALID DATA: \", valid.shape)"
      ],
      "execution_count": null,
      "outputs": [
        {
          "output_type": "stream",
          "text": [
            "Shape of TRAIN DATA:  (10240, 9)\n",
            "Shape of TEST DATA:  (2551, 9)\n",
            "Shape of VALID DATA:  (2571, 9)\n"
          ],
          "name": "stdout"
        }
      ]
    },
    {
      "cell_type": "code",
      "metadata": {
        "colab": {
          "base_uri": "https://localhost:8080/",
          "height": 554
        },
        "id": "hBktH7C3cZ8Z",
        "outputId": "3c458bb4-3a47-4ceb-c574-b9217cab3596"
      },
      "source": [
        "train"
      ],
      "execution_count": 8,
      "outputs": [
        {
          "output_type": "execute_result",
          "data": {
            "text/html": [
              "<div>\n",
              "<style scoped>\n",
              "    .dataframe tbody tr th:only-of-type {\n",
              "        vertical-align: middle;\n",
              "    }\n",
              "\n",
              "    .dataframe tbody tr th {\n",
              "        vertical-align: top;\n",
              "    }\n",
              "\n",
              "    .dataframe thead th {\n",
              "        text-align: right;\n",
              "    }\n",
              "</style>\n",
              "<table border=\"1\" class=\"dataframe\">\n",
              "  <thead>\n",
              "    <tr style=\"text-align: right;\">\n",
              "      <th></th>\n",
              "      <th>Statement</th>\n",
              "      <th>Label</th>\n",
              "      <th>Polarity</th>\n",
              "      <th>Subjectivity</th>\n",
              "      <th>Happy</th>\n",
              "      <th>Angry</th>\n",
              "      <th>Surprise</th>\n",
              "      <th>Sad</th>\n",
              "      <th>Fear</th>\n",
              "    </tr>\n",
              "  </thead>\n",
              "  <tbody>\n",
              "    <tr>\n",
              "      <th>0</th>\n",
              "      <td>Says the Annies List political group supports ...</td>\n",
              "      <td>False</td>\n",
              "      <td>0.000000</td>\n",
              "      <td>0.100000</td>\n",
              "      <td>0.0</td>\n",
              "      <td>0.00</td>\n",
              "      <td>1.00</td>\n",
              "      <td>0.00</td>\n",
              "      <td>0.00</td>\n",
              "    </tr>\n",
              "    <tr>\n",
              "      <th>1</th>\n",
              "      <td>When did the decline of coal start? It started...</td>\n",
              "      <td>True</td>\n",
              "      <td>0.100000</td>\n",
              "      <td>0.400000</td>\n",
              "      <td>0.0</td>\n",
              "      <td>0.00</td>\n",
              "      <td>1.00</td>\n",
              "      <td>0.00</td>\n",
              "      <td>0.00</td>\n",
              "    </tr>\n",
              "    <tr>\n",
              "      <th>2</th>\n",
              "      <td>Hillary Clinton agrees with John McCain \"by vo...</td>\n",
              "      <td>True</td>\n",
              "      <td>0.000000</td>\n",
              "      <td>0.000000</td>\n",
              "      <td>0.0</td>\n",
              "      <td>0.00</td>\n",
              "      <td>0.00</td>\n",
              "      <td>0.00</td>\n",
              "      <td>1.00</td>\n",
              "    </tr>\n",
              "    <tr>\n",
              "      <th>3</th>\n",
              "      <td>Health care reform legislation is likely to ma...</td>\n",
              "      <td>False</td>\n",
              "      <td>0.200000</td>\n",
              "      <td>0.900000</td>\n",
              "      <td>0.5</td>\n",
              "      <td>0.00</td>\n",
              "      <td>0.00</td>\n",
              "      <td>0.00</td>\n",
              "      <td>0.50</td>\n",
              "    </tr>\n",
              "    <tr>\n",
              "      <th>4</th>\n",
              "      <td>The economic turnaround started at the end of ...</td>\n",
              "      <td>True</td>\n",
              "      <td>0.200000</td>\n",
              "      <td>0.200000</td>\n",
              "      <td>0.0</td>\n",
              "      <td>0.00</td>\n",
              "      <td>0.00</td>\n",
              "      <td>0.00</td>\n",
              "      <td>0.00</td>\n",
              "    </tr>\n",
              "    <tr>\n",
              "      <th>...</th>\n",
              "      <td>...</td>\n",
              "      <td>...</td>\n",
              "      <td>...</td>\n",
              "      <td>...</td>\n",
              "      <td>...</td>\n",
              "      <td>...</td>\n",
              "      <td>...</td>\n",
              "      <td>...</td>\n",
              "      <td>...</td>\n",
              "    </tr>\n",
              "    <tr>\n",
              "      <th>10235</th>\n",
              "      <td>There are a larger number of shark attacks in ...</td>\n",
              "      <td>True</td>\n",
              "      <td>0.000000</td>\n",
              "      <td>0.500000</td>\n",
              "      <td>0.0</td>\n",
              "      <td>0.00</td>\n",
              "      <td>0.00</td>\n",
              "      <td>0.00</td>\n",
              "      <td>1.00</td>\n",
              "    </tr>\n",
              "    <tr>\n",
              "      <th>10236</th>\n",
              "      <td>Democrats have now become the party of the [At...</td>\n",
              "      <td>True</td>\n",
              "      <td>0.000000</td>\n",
              "      <td>0.000000</td>\n",
              "      <td>0.0</td>\n",
              "      <td>0.00</td>\n",
              "      <td>0.00</td>\n",
              "      <td>0.00</td>\n",
              "      <td>0.00</td>\n",
              "    </tr>\n",
              "    <tr>\n",
              "      <th>10237</th>\n",
              "      <td>Says an alternative to Social Security that op...</td>\n",
              "      <td>True</td>\n",
              "      <td>0.191667</td>\n",
              "      <td>0.258333</td>\n",
              "      <td>0.0</td>\n",
              "      <td>0.00</td>\n",
              "      <td>0.14</td>\n",
              "      <td>0.14</td>\n",
              "      <td>0.71</td>\n",
              "    </tr>\n",
              "    <tr>\n",
              "      <th>10238</th>\n",
              "      <td>On lifting the U.S. Cuban embargo and allowing...</td>\n",
              "      <td>False</td>\n",
              "      <td>0.000000</td>\n",
              "      <td>0.000000</td>\n",
              "      <td>0.0</td>\n",
              "      <td>0.00</td>\n",
              "      <td>0.00</td>\n",
              "      <td>0.00</td>\n",
              "      <td>0.00</td>\n",
              "    </tr>\n",
              "    <tr>\n",
              "      <th>10239</th>\n",
              "      <td>The Department of Veterans Affairs has a manua...</td>\n",
              "      <td>False</td>\n",
              "      <td>0.200000</td>\n",
              "      <td>0.200000</td>\n",
              "      <td>0.0</td>\n",
              "      <td>0.17</td>\n",
              "      <td>0.33</td>\n",
              "      <td>0.17</td>\n",
              "      <td>0.33</td>\n",
              "    </tr>\n",
              "  </tbody>\n",
              "</table>\n",
              "<p>10240 rows × 9 columns</p>\n",
              "</div>"
            ],
            "text/plain": [
              "                                               Statement  Label  ...   Sad  Fear\n",
              "0      Says the Annies List political group supports ...  False  ...  0.00  0.00\n",
              "1      When did the decline of coal start? It started...   True  ...  0.00  0.00\n",
              "2      Hillary Clinton agrees with John McCain \"by vo...   True  ...  0.00  1.00\n",
              "3      Health care reform legislation is likely to ma...  False  ...  0.00  0.50\n",
              "4      The economic turnaround started at the end of ...   True  ...  0.00  0.00\n",
              "...                                                  ...    ...  ...   ...   ...\n",
              "10235  There are a larger number of shark attacks in ...   True  ...  0.00  1.00\n",
              "10236  Democrats have now become the party of the [At...   True  ...  0.00  0.00\n",
              "10237  Says an alternative to Social Security that op...   True  ...  0.14  0.71\n",
              "10238  On lifting the U.S. Cuban embargo and allowing...  False  ...  0.00  0.00\n",
              "10239  The Department of Veterans Affairs has a manua...  False  ...  0.17  0.33\n",
              "\n",
              "[10240 rows x 9 columns]"
            ]
          },
          "metadata": {
            "tags": []
          },
          "execution_count": 8
        }
      ]
    },
    {
      "cell_type": "code",
      "metadata": {
        "colab": {
          "base_uri": "https://localhost:8080/"
        },
        "id": "6w3jfe7_-TxX",
        "outputId": "c29dafd1-2089-4643-df25-10c5b962ec5f"
      },
      "source": [
        "print (train.loc[0,'Statement'])"
      ],
      "execution_count": 7,
      "outputs": [
        {
          "output_type": "stream",
          "text": [
            "Says the Annies List political group supports third-trimester abortions on demand.\n"
          ],
          "name": "stdout"
        }
      ]
    },
    {
      "cell_type": "markdown",
      "metadata": {
        "id": "l9F13qL5llI2"
      },
      "source": [
        "# Sentiment Analysis (ignore if final dataset is loaded)\n",
        "\n",
        "Get polarity and subjectivity scores of the news with TextBlob"
      ]
    },
    {
      "cell_type": "code",
      "metadata": {
        "id": "Vn19yi-vllI2"
      },
      "source": [
        "# Import the TextBlob\n",
        "from textblob import TextBlob"
      ],
      "execution_count": null,
      "outputs": []
    },
    {
      "cell_type": "code",
      "metadata": {
        "colab": {
          "base_uri": "https://localhost:8080/",
          "height": 589
        },
        "id": "D_w7FzTKfNQW",
        "outputId": "3e49cce3-b604-47ea-8ed0-367890d51acd"
      },
      "source": [
        "train"
      ],
      "execution_count": null,
      "outputs": [
        {
          "output_type": "execute_result",
          "data": {
            "text/html": [
              "<div>\n",
              "<style scoped>\n",
              "    .dataframe tbody tr th:only-of-type {\n",
              "        vertical-align: middle;\n",
              "    }\n",
              "\n",
              "    .dataframe tbody tr th {\n",
              "        vertical-align: top;\n",
              "    }\n",
              "\n",
              "    .dataframe thead th {\n",
              "        text-align: right;\n",
              "    }\n",
              "</style>\n",
              "<table border=\"1\" class=\"dataframe\">\n",
              "  <thead>\n",
              "    <tr style=\"text-align: right;\">\n",
              "      <th></th>\n",
              "      <th>Statement</th>\n",
              "      <th>Label</th>\n",
              "      <th>Polarity</th>\n",
              "      <th>Subjectivity</th>\n",
              "      <th>Emotions</th>\n",
              "    </tr>\n",
              "  </thead>\n",
              "  <tbody>\n",
              "    <tr>\n",
              "      <th>0</th>\n",
              "      <td>Says the Annies List political group supports ...</td>\n",
              "      <td>False</td>\n",
              "      <td>0.000000</td>\n",
              "      <td>0.100000</td>\n",
              "      <td>{'Happy': 0.0, 'Angry': 0.0, 'Surprise': 1.0, ...</td>\n",
              "    </tr>\n",
              "    <tr>\n",
              "      <th>1</th>\n",
              "      <td>When did the decline of coal start? It started...</td>\n",
              "      <td>True</td>\n",
              "      <td>0.100000</td>\n",
              "      <td>0.400000</td>\n",
              "      <td>{'Happy': 0.0, 'Angry': 0.0, 'Surprise': 1.0, ...</td>\n",
              "    </tr>\n",
              "    <tr>\n",
              "      <th>2</th>\n",
              "      <td>Hillary Clinton agrees with John McCain \"by vo...</td>\n",
              "      <td>True</td>\n",
              "      <td>0.000000</td>\n",
              "      <td>0.000000</td>\n",
              "      <td>{'Happy': 0.0, 'Angry': 0.0, 'Surprise': 0.0, ...</td>\n",
              "    </tr>\n",
              "    <tr>\n",
              "      <th>3</th>\n",
              "      <td>Health care reform legislation is likely to ma...</td>\n",
              "      <td>False</td>\n",
              "      <td>0.200000</td>\n",
              "      <td>0.900000</td>\n",
              "      <td>{'Happy': 0.5, 'Angry': 0.0, 'Surprise': 0.0, ...</td>\n",
              "    </tr>\n",
              "    <tr>\n",
              "      <th>4</th>\n",
              "      <td>The economic turnaround started at the end of ...</td>\n",
              "      <td>True</td>\n",
              "      <td>0.200000</td>\n",
              "      <td>0.200000</td>\n",
              "      <td>{'Happy': 0, 'Angry': 0, 'Surprise': 0, 'Sad':...</td>\n",
              "    </tr>\n",
              "    <tr>\n",
              "      <th>...</th>\n",
              "      <td>...</td>\n",
              "      <td>...</td>\n",
              "      <td>...</td>\n",
              "      <td>...</td>\n",
              "      <td>...</td>\n",
              "    </tr>\n",
              "    <tr>\n",
              "      <th>10235</th>\n",
              "      <td>There are a larger number of shark attacks in ...</td>\n",
              "      <td>True</td>\n",
              "      <td>0.000000</td>\n",
              "      <td>0.500000</td>\n",
              "      <td>{'Happy': 0.0, 'Angry': 0.0, 'Surprise': 0.0, ...</td>\n",
              "    </tr>\n",
              "    <tr>\n",
              "      <th>10236</th>\n",
              "      <td>Democrats have now become the party of the [At...</td>\n",
              "      <td>True</td>\n",
              "      <td>0.000000</td>\n",
              "      <td>0.000000</td>\n",
              "      <td>{'Happy': 0, 'Angry': 0, 'Surprise': 0, 'Sad':...</td>\n",
              "    </tr>\n",
              "    <tr>\n",
              "      <th>10237</th>\n",
              "      <td>Says an alternative to Social Security that op...</td>\n",
              "      <td>True</td>\n",
              "      <td>0.191667</td>\n",
              "      <td>0.258333</td>\n",
              "      <td>{'Happy': 0.0, 'Angry': 0.0, 'Surprise': 0.14,...</td>\n",
              "    </tr>\n",
              "    <tr>\n",
              "      <th>10238</th>\n",
              "      <td>On lifting the U.S. Cuban embargo and allowing...</td>\n",
              "      <td>False</td>\n",
              "      <td>0.000000</td>\n",
              "      <td>0.000000</td>\n",
              "      <td>{'Happy': 0, 'Angry': 0, 'Surprise': 0, 'Sad':...</td>\n",
              "    </tr>\n",
              "    <tr>\n",
              "      <th>10239</th>\n",
              "      <td>The Department of Veterans Affairs has a manua...</td>\n",
              "      <td>False</td>\n",
              "      <td>0.200000</td>\n",
              "      <td>0.200000</td>\n",
              "      <td>{'Happy': 0.0, 'Angry': 0.17, 'Surprise': 0.33...</td>\n",
              "    </tr>\n",
              "  </tbody>\n",
              "</table>\n",
              "<p>10240 rows × 5 columns</p>\n",
              "</div>"
            ],
            "text/plain": [
              "                                               Statement  ...                                           Emotions\n",
              "0      Says the Annies List political group supports ...  ...  {'Happy': 0.0, 'Angry': 0.0, 'Surprise': 1.0, ...\n",
              "1      When did the decline of coal start? It started...  ...  {'Happy': 0.0, 'Angry': 0.0, 'Surprise': 1.0, ...\n",
              "2      Hillary Clinton agrees with John McCain \"by vo...  ...  {'Happy': 0.0, 'Angry': 0.0, 'Surprise': 0.0, ...\n",
              "3      Health care reform legislation is likely to ma...  ...  {'Happy': 0.5, 'Angry': 0.0, 'Surprise': 0.0, ...\n",
              "4      The economic turnaround started at the end of ...  ...  {'Happy': 0, 'Angry': 0, 'Surprise': 0, 'Sad':...\n",
              "...                                                  ...  ...                                                ...\n",
              "10235  There are a larger number of shark attacks in ...  ...  {'Happy': 0.0, 'Angry': 0.0, 'Surprise': 0.0, ...\n",
              "10236  Democrats have now become the party of the [At...  ...  {'Happy': 0, 'Angry': 0, 'Surprise': 0, 'Sad':...\n",
              "10237  Says an alternative to Social Security that op...  ...  {'Happy': 0.0, 'Angry': 0.0, 'Surprise': 0.14,...\n",
              "10238  On lifting the U.S. Cuban embargo and allowing...  ...  {'Happy': 0, 'Angry': 0, 'Surprise': 0, 'Sad':...\n",
              "10239  The Department of Veterans Affairs has a manua...  ...  {'Happy': 0.0, 'Angry': 0.17, 'Surprise': 0.33...\n",
              "\n",
              "[10240 rows x 5 columns]"
            ]
          },
          "metadata": {
            "tags": []
          },
          "execution_count": 7
        }
      ]
    },
    {
      "cell_type": "code",
      "metadata": {
        "colab": {
          "base_uri": "https://localhost:8080/",
          "height": 355
        },
        "id": "Bh8SKjV1llI3",
        "outputId": "18dc348c-b814-4182-a514-cdce5273eb36"
      },
      "source": [
        "# Add polarities and subjectivities into the DataFrame by using TextBlob\n",
        "train[\"Polarity\"] = train[\"Statement\"].apply(lambda word: TextBlob(word).sentiment.polarity)\n",
        "train[\"Subjectivity\"] = train[\"Statement\"].apply(lambda word: TextBlob(word).sentiment.subjectivity)\n",
        "\n",
        "test[\"Polarity\"] = test[\"Statement\"].apply(lambda word: TextBlob(word).sentiment.polarity)\n",
        "test[\"Subjectivity\"] = test[\"Statement\"].apply(lambda word: TextBlob(word).sentiment.subjectivity)\n",
        "\n",
        "valid[\"Polarity\"] = valid[\"Statement\"].apply(lambda word: TextBlob(word).sentiment.polarity)\n",
        "valid[\"Subjectivity\"] = valid[\"Statement\"].apply(lambda word: TextBlob(word).sentiment.subjectivity)\n",
        "\n",
        "\n",
        "# Display the Polarity and Subjectivity columns of train dataset\n",
        "display(train[[\"Statement\",\"Polarity\",\"Subjectivity\"]].head(10))"
      ],
      "execution_count": null,
      "outputs": [
        {
          "output_type": "display_data",
          "data": {
            "text/html": [
              "<div>\n",
              "<style scoped>\n",
              "    .dataframe tbody tr th:only-of-type {\n",
              "        vertical-align: middle;\n",
              "    }\n",
              "\n",
              "    .dataframe tbody tr th {\n",
              "        vertical-align: top;\n",
              "    }\n",
              "\n",
              "    .dataframe thead th {\n",
              "        text-align: right;\n",
              "    }\n",
              "</style>\n",
              "<table border=\"1\" class=\"dataframe\">\n",
              "  <thead>\n",
              "    <tr style=\"text-align: right;\">\n",
              "      <th></th>\n",
              "      <th>Statement</th>\n",
              "      <th>Polarity</th>\n",
              "      <th>Subjectivity</th>\n",
              "    </tr>\n",
              "  </thead>\n",
              "  <tbody>\n",
              "    <tr>\n",
              "      <th>0</th>\n",
              "      <td>Says the Annies List political group supports ...</td>\n",
              "      <td>0.000000</td>\n",
              "      <td>0.100000</td>\n",
              "    </tr>\n",
              "    <tr>\n",
              "      <th>1</th>\n",
              "      <td>When did the decline of coal start? It started...</td>\n",
              "      <td>0.100000</td>\n",
              "      <td>0.400000</td>\n",
              "    </tr>\n",
              "    <tr>\n",
              "      <th>2</th>\n",
              "      <td>Hillary Clinton agrees with John McCain \"by vo...</td>\n",
              "      <td>0.000000</td>\n",
              "      <td>0.000000</td>\n",
              "    </tr>\n",
              "    <tr>\n",
              "      <th>3</th>\n",
              "      <td>Health care reform legislation is likely to ma...</td>\n",
              "      <td>0.200000</td>\n",
              "      <td>0.900000</td>\n",
              "    </tr>\n",
              "    <tr>\n",
              "      <th>4</th>\n",
              "      <td>The economic turnaround started at the end of ...</td>\n",
              "      <td>0.200000</td>\n",
              "      <td>0.200000</td>\n",
              "    </tr>\n",
              "    <tr>\n",
              "      <th>5</th>\n",
              "      <td>The Chicago Bears have had more starting quart...</td>\n",
              "      <td>0.100000</td>\n",
              "      <td>0.296667</td>\n",
              "    </tr>\n",
              "    <tr>\n",
              "      <th>6</th>\n",
              "      <td>Jim Dunnam has not lived in the district he re...</td>\n",
              "      <td>0.000000</td>\n",
              "      <td>0.000000</td>\n",
              "    </tr>\n",
              "    <tr>\n",
              "      <th>7</th>\n",
              "      <td>I'm the only person on this stage who has work...</td>\n",
              "      <td>-0.044444</td>\n",
              "      <td>0.555556</td>\n",
              "    </tr>\n",
              "    <tr>\n",
              "      <th>8</th>\n",
              "      <td>However, it took $19.5 million in Oregon Lotte...</td>\n",
              "      <td>0.136364</td>\n",
              "      <td>0.454545</td>\n",
              "    </tr>\n",
              "    <tr>\n",
              "      <th>9</th>\n",
              "      <td>Says GOP primary opponents Glenn Grothman and ...</td>\n",
              "      <td>0.325000</td>\n",
              "      <td>0.500000</td>\n",
              "    </tr>\n",
              "  </tbody>\n",
              "</table>\n",
              "</div>"
            ],
            "text/plain": [
              "                                           Statement  Polarity  Subjectivity\n",
              "0  Says the Annies List political group supports ...  0.000000      0.100000\n",
              "1  When did the decline of coal start? It started...  0.100000      0.400000\n",
              "2  Hillary Clinton agrees with John McCain \"by vo...  0.000000      0.000000\n",
              "3  Health care reform legislation is likely to ma...  0.200000      0.900000\n",
              "4  The economic turnaround started at the end of ...  0.200000      0.200000\n",
              "5  The Chicago Bears have had more starting quart...  0.100000      0.296667\n",
              "6  Jim Dunnam has not lived in the district he re...  0.000000      0.000000\n",
              "7  I'm the only person on this stage who has work... -0.044444      0.555556\n",
              "8  However, it took $19.5 million in Oregon Lotte...  0.136364      0.454545\n",
              "9  Says GOP primary opponents Glenn Grothman and ...  0.325000      0.500000"
            ]
          },
          "metadata": {
            "tags": []
          }
        }
      ]
    },
    {
      "cell_type": "code",
      "metadata": {
        "colab": {
          "base_uri": "https://localhost:8080/",
          "height": 359
        },
        "id": "ib1oXXwbllI3",
        "outputId": "2add6d34-4bd2-4d05-913f-0c7de53c4176"
      },
      "source": [
        "# Define a function to classify polarities\n",
        "def analyse_polarity(polarity):\n",
        "    if polarity > 0:\n",
        "        return \"Positive\"\n",
        "    if polarity == 0:\n",
        "        return \"Neutral\"\n",
        "    if polarity < 0:\n",
        "        return \"Negative\"\n",
        "\n",
        "# Apply the funtion on Polarity column and add the results into a new column\n",
        "train[\"SentLabel\"] = train[\"Polarity\"].apply(analyse_polarity)\n",
        "\n",
        "# Display the Polarity and Subjectivity Analysis\n",
        "display(train[[\"SentLabel\"]].head(10))"
      ],
      "execution_count": null,
      "outputs": [
        {
          "output_type": "display_data",
          "data": {
            "text/html": [
              "<div>\n",
              "<style scoped>\n",
              "    .dataframe tbody tr th:only-of-type {\n",
              "        vertical-align: middle;\n",
              "    }\n",
              "\n",
              "    .dataframe tbody tr th {\n",
              "        vertical-align: top;\n",
              "    }\n",
              "\n",
              "    .dataframe thead th {\n",
              "        text-align: right;\n",
              "    }\n",
              "</style>\n",
              "<table border=\"1\" class=\"dataframe\">\n",
              "  <thead>\n",
              "    <tr style=\"text-align: right;\">\n",
              "      <th></th>\n",
              "      <th>SentLabel</th>\n",
              "    </tr>\n",
              "  </thead>\n",
              "  <tbody>\n",
              "    <tr>\n",
              "      <th>0</th>\n",
              "      <td>Neutral</td>\n",
              "    </tr>\n",
              "    <tr>\n",
              "      <th>1</th>\n",
              "      <td>Positive</td>\n",
              "    </tr>\n",
              "    <tr>\n",
              "      <th>2</th>\n",
              "      <td>Neutral</td>\n",
              "    </tr>\n",
              "    <tr>\n",
              "      <th>3</th>\n",
              "      <td>Positive</td>\n",
              "    </tr>\n",
              "    <tr>\n",
              "      <th>4</th>\n",
              "      <td>Positive</td>\n",
              "    </tr>\n",
              "    <tr>\n",
              "      <th>5</th>\n",
              "      <td>Positive</td>\n",
              "    </tr>\n",
              "    <tr>\n",
              "      <th>6</th>\n",
              "      <td>Neutral</td>\n",
              "    </tr>\n",
              "    <tr>\n",
              "      <th>7</th>\n",
              "      <td>Negative</td>\n",
              "    </tr>\n",
              "    <tr>\n",
              "      <th>8</th>\n",
              "      <td>Positive</td>\n",
              "    </tr>\n",
              "    <tr>\n",
              "      <th>9</th>\n",
              "      <td>Positive</td>\n",
              "    </tr>\n",
              "  </tbody>\n",
              "</table>\n",
              "</div>"
            ],
            "text/plain": [
              "  SentLabel\n",
              "0   Neutral\n",
              "1  Positive\n",
              "2   Neutral\n",
              "3  Positive\n",
              "4  Positive\n",
              "5  Positive\n",
              "6   Neutral\n",
              "7  Negative\n",
              "8  Positive\n",
              "9  Positive"
            ]
          },
          "metadata": {
            "tags": []
          }
        }
      ]
    },
    {
      "cell_type": "code",
      "metadata": {
        "colab": {
          "base_uri": "https://localhost:8080/"
        },
        "id": "sa-9llswllI4",
        "outputId": "82aae9a0-1ec0-4e51-ba1f-9d6cb4007460"
      },
      "source": [
        "# Print the value counts of the SentLabel column\n",
        "print(train[\"SentLabel\"].value_counts())"
      ],
      "execution_count": null,
      "outputs": [
        {
          "output_type": "stream",
          "text": [
            "Neutral     4635\n",
            "Positive    3677\n",
            "Negative    1928\n",
            "Name: SentLabel, dtype: int64\n"
          ],
          "name": "stdout"
        }
      ]
    },
    {
      "cell_type": "code",
      "metadata": {
        "colab": {
          "base_uri": "https://localhost:8080/",
          "height": 953
        },
        "id": "UHW4_4WNllI4",
        "outputId": "9bbb5578-8b14-479a-8d83-1deea1066b32"
      },
      "source": [
        "import matplotlib.pyplot as plt\n",
        "import seaborn as sns\n",
        "# Change the datatype as \"category\"\n",
        "train[\"SentLabel\"] = train[\"SentLabel\"].astype(\"category\")\n",
        "\n",
        "# Visualize the Label counts\n",
        "sns.countplot(train[\"SentLabel\"])\n",
        "plt.title(\"Label Counts\")\n",
        "plt.show()\n",
        "\n",
        "# Visualize the Polarity scores\n",
        "plt.figure(figsize = (10, 10)) \n",
        "sns.scatterplot(x=\"Polarity\", y=\"Subjectivity\", hue=\"Label\", data=train)\n",
        "plt.title(\"Subjectivity vs Polarity\")\n",
        "plt.show()"
      ],
      "execution_count": null,
      "outputs": [
        {
          "output_type": "stream",
          "text": [
            "/usr/local/lib/python3.7/dist-packages/seaborn/_decorators.py:43: FutureWarning: Pass the following variable as a keyword arg: x. From version 0.12, the only valid positional argument will be `data`, and passing other arguments without an explicit keyword will result in an error or misinterpretation.\n",
            "  FutureWarning\n"
          ],
          "name": "stderr"
        },
        {
          "output_type": "display_data",
          "data": {
            "image/png": "[encoded data removed]",
            "text/plain": [
              "<Figure size 432x288 with 1 Axes>"
            ]
          },
          "metadata": {
            "tags": []
          }
        },
        {
          "output_type": "display_data",
          "data": {
            "image/png": "[encoded data removed]",
            "text/plain": [
              "<Figure size 720x720 with 1 Axes>"
            ]
          },
          "metadata": {
            "tags": []
          }
        }
      ]
    },
    {
      "cell_type": "markdown",
      "metadata": {
        "id": "pbmQ8PRn80uw"
      },
      "source": [
        "# Emotion Analysis (ignore if final dataset is leaded)"
      ]
    },
    {
      "cell_type": "code",
      "metadata": {
        "colab": {
          "base_uri": "https://localhost:8080/"
        },
        "id": "ZXvI1Pru82bR",
        "outputId": "e56474ba-0fb1-4d58-9abb-88f1d3218bce"
      },
      "source": [
        "#Install package using pip\n",
        "!pip install text2emotion"
      ],
      "execution_count": null,
      "outputs": [
        {
          "output_type": "stream",
          "text": [
            "Collecting text2emotion\n",
            "\u001b[?25l  Downloading https://files.pythonhosted.org/packages/fe/31/b190e37c1396ca68ab1b5c8ea1a23f2f7848df532ad69133e94853120aed/text2emotion-0.0.5-py3-none-any.whl (57kB)\n",
            "\u001b[K     |████████████████████████████████| 61kB 3.9MB/s \n",
            "\u001b[?25hCollecting emoji>=0.6.0\n",
            "\u001b[?25l  Downloading https://files.pythonhosted.org/packages/24/fa/b3368f41b95a286f8d300e323449ab4e86b85334c2e0b477e94422b8ed0f/emoji-1.2.0-py3-none-any.whl (131kB)\n",
            "\u001b[K     |████████████████████████████████| 133kB 13.0MB/s \n",
            "\u001b[?25hRequirement already satisfied: nltk in /usr/local/lib/python3.7/dist-packages (from text2emotion) (3.2.5)\n",
            "Requirement already satisfied: six in /usr/local/lib/python3.7/dist-packages (from nltk->text2emotion) (1.15.0)\n",
            "Installing collected packages: emoji, text2emotion\n",
            "Successfully installed emoji-1.2.0 text2emotion-0.0.5\n"
          ],
          "name": "stdout"
        }
      ]
    },
    {
      "cell_type": "code",
      "metadata": {
        "id": "wWDxaXtODVJy",
        "colab": {
          "base_uri": "https://localhost:8080/"
        },
        "outputId": "9e11b952-8a69-42b5-80ec-478690f924fe"
      },
      "source": [
        "#Import the modules\n",
        "import text2emotion as te"
      ],
      "execution_count": null,
      "outputs": [
        {
          "output_type": "stream",
          "text": [
            "[nltk_data] Downloading package stopwords to /root/nltk_data...\n",
            "[nltk_data]   Package stopwords is already up-to-date!\n",
            "[nltk_data] Downloading package punkt to /root/nltk_data...\n",
            "[nltk_data]   Package punkt is already up-to-date!\n",
            "[nltk_data] Downloading package wordnet to /root/nltk_data...\n",
            "[nltk_data]   Package wordnet is already up-to-date!\n"
          ],
          "name": "stdout"
        }
      ]
    },
    {
      "cell_type": "code",
      "metadata": {
        "id": "0kbfHMf3DWj_"
      },
      "source": [
        "#Extracting emotions for each article in the dataset\n",
        "train['Emotions'] = train[\"Statement\"].apply(te.get_emotion)\n",
        "test['Emotions'] = test[\"Statement\"].apply(te.get_emotion)\n",
        "valid['Emotions'] = valid[\"Statement\"].apply(te.get_emotion)\n"
      ],
      "execution_count": null,
      "outputs": []
    },
    {
      "cell_type": "code",
      "metadata": {
        "colab": {
          "base_uri": "https://localhost:8080/",
          "height": 35
        },
        "id": "ycnRTOh0DcJO",
        "outputId": "336fcb4e-daea-4b10-984e-8c4216236ec9"
      },
      "source": [
        "train['Emotions'][0]"
      ],
      "execution_count": null,
      "outputs": [
        {
          "output_type": "execute_result",
          "data": {
            "application/vnd.google.colaboratory.intrinsic+json": {
              "type": "string"
            },
            "text/plain": [
              "\"{'Happy': 0.0, 'Angry': 0.0, 'Surprise': 1.0, 'Sad': 0.0, 'Fear': 0.0}\""
            ]
          },
          "metadata": {
            "tags": []
          },
          "execution_count": 11
        }
      ]
    },
    {
      "cell_type": "code",
      "metadata": {
        "id": "wMZVLNSaDdYP"
      },
      "source": [
        "#extracting emotions froma  dictionary into new rows\n",
        "trainemo = pd.DataFrame(train['Emotions'].tolist())\n",
        "testemo = pd.DataFrame(test['Emotions'].tolist())\n",
        "validemo = pd.DataFrame(valid['Emotions'].tolist())"
      ],
      "execution_count": null,
      "outputs": []
    },
    {
      "cell_type": "code",
      "metadata": {
        "colab": {
          "base_uri": "https://localhost:8080/",
          "height": 415
        },
        "id": "ccpDs4UuuccE",
        "outputId": "fd6bdfb5-6429-490e-c1a2-e4d25598a96f"
      },
      "source": [
        "validemo"
      ],
      "execution_count": null,
      "outputs": [
        {
          "output_type": "execute_result",
          "data": {
            "text/html": [
              "<div>\n",
              "<style scoped>\n",
              "    .dataframe tbody tr th:only-of-type {\n",
              "        vertical-align: middle;\n",
              "    }\n",
              "\n",
              "    .dataframe tbody tr th {\n",
              "        vertical-align: top;\n",
              "    }\n",
              "\n",
              "    .dataframe thead th {\n",
              "        text-align: right;\n",
              "    }\n",
              "</style>\n",
              "<table border=\"1\" class=\"dataframe\">\n",
              "  <thead>\n",
              "    <tr style=\"text-align: right;\">\n",
              "      <th></th>\n",
              "      <th>Happy</th>\n",
              "      <th>Angry</th>\n",
              "      <th>Surprise</th>\n",
              "      <th>Sad</th>\n",
              "      <th>Fear</th>\n",
              "    </tr>\n",
              "  </thead>\n",
              "  <tbody>\n",
              "    <tr>\n",
              "      <th>0</th>\n",
              "      <td>0.0</td>\n",
              "      <td>0.00</td>\n",
              "      <td>0.0</td>\n",
              "      <td>0.00</td>\n",
              "      <td>1.00</td>\n",
              "    </tr>\n",
              "    <tr>\n",
              "      <th>1</th>\n",
              "      <td>0.0</td>\n",
              "      <td>0.50</td>\n",
              "      <td>0.0</td>\n",
              "      <td>0.00</td>\n",
              "      <td>0.50</td>\n",
              "    </tr>\n",
              "    <tr>\n",
              "      <th>2</th>\n",
              "      <td>0.0</td>\n",
              "      <td>0.00</td>\n",
              "      <td>0.4</td>\n",
              "      <td>0.20</td>\n",
              "      <td>0.40</td>\n",
              "    </tr>\n",
              "    <tr>\n",
              "      <th>3</th>\n",
              "      <td>0.0</td>\n",
              "      <td>0.00</td>\n",
              "      <td>1.0</td>\n",
              "      <td>0.00</td>\n",
              "      <td>0.00</td>\n",
              "    </tr>\n",
              "    <tr>\n",
              "      <th>4</th>\n",
              "      <td>0.0</td>\n",
              "      <td>0.33</td>\n",
              "      <td>0.0</td>\n",
              "      <td>0.33</td>\n",
              "      <td>0.33</td>\n",
              "    </tr>\n",
              "    <tr>\n",
              "      <th>...</th>\n",
              "      <td>...</td>\n",
              "      <td>...</td>\n",
              "      <td>...</td>\n",
              "      <td>...</td>\n",
              "      <td>...</td>\n",
              "    </tr>\n",
              "    <tr>\n",
              "      <th>2566</th>\n",
              "      <td>0.0</td>\n",
              "      <td>0.00</td>\n",
              "      <td>1.0</td>\n",
              "      <td>0.00</td>\n",
              "      <td>0.00</td>\n",
              "    </tr>\n",
              "    <tr>\n",
              "      <th>2567</th>\n",
              "      <td>0.0</td>\n",
              "      <td>0.00</td>\n",
              "      <td>0.0</td>\n",
              "      <td>0.00</td>\n",
              "      <td>1.00</td>\n",
              "    </tr>\n",
              "    <tr>\n",
              "      <th>2568</th>\n",
              "      <td>0.0</td>\n",
              "      <td>0.00</td>\n",
              "      <td>0.0</td>\n",
              "      <td>0.33</td>\n",
              "      <td>0.67</td>\n",
              "    </tr>\n",
              "    <tr>\n",
              "      <th>2569</th>\n",
              "      <td>0.0</td>\n",
              "      <td>0.00</td>\n",
              "      <td>0.4</td>\n",
              "      <td>0.00</td>\n",
              "      <td>0.60</td>\n",
              "    </tr>\n",
              "    <tr>\n",
              "      <th>2570</th>\n",
              "      <td>0.0</td>\n",
              "      <td>0.00</td>\n",
              "      <td>0.0</td>\n",
              "      <td>0.00</td>\n",
              "      <td>0.00</td>\n",
              "    </tr>\n",
              "  </tbody>\n",
              "</table>\n",
              "<p>2571 rows × 5 columns</p>\n",
              "</div>"
            ],
            "text/plain": [
              "      Happy  Angry  Surprise   Sad  Fear\n",
              "0       0.0   0.00       0.0  0.00  1.00\n",
              "1       0.0   0.50       0.0  0.00  0.50\n",
              "2       0.0   0.00       0.4  0.20  0.40\n",
              "3       0.0   0.00       1.0  0.00  0.00\n",
              "4       0.0   0.33       0.0  0.33  0.33\n",
              "...     ...    ...       ...   ...   ...\n",
              "2566    0.0   0.00       1.0  0.00  0.00\n",
              "2567    0.0   0.00       0.0  0.00  1.00\n",
              "2568    0.0   0.00       0.0  0.33  0.67\n",
              "2569    0.0   0.00       0.4  0.00  0.60\n",
              "2570    0.0   0.00       0.0  0.00  0.00\n",
              "\n",
              "[2571 rows x 5 columns]"
            ]
          },
          "metadata": {
            "tags": []
          },
          "execution_count": 34
        }
      ]
    },
    {
      "cell_type": "code",
      "metadata": {
        "id": "KPWbYkPWvS3W"
      },
      "source": [
        "#extracting emotions froma  dictionary into new rows\n",
        "train = pd.concat([train, trainemo], axis=1)\n",
        "test = pd.concat([test, testemo], axis=1)\n",
        "valid = pd.concat([valid, validemo], axis=1)"
      ],
      "execution_count": null,
      "outputs": []
    },
    {
      "cell_type": "code",
      "metadata": {
        "colab": {
          "base_uri": "https://localhost:8080/",
          "height": 591
        },
        "id": "EUATt9q2l1Tt",
        "outputId": "272972c6-3e49-449d-f611-715ff0a6095d"
      },
      "source": [
        "valid"
      ],
      "execution_count": null,
      "outputs": [
        {
          "output_type": "execute_result",
          "data": {
            "text/html": [
              "<div>\n",
              "<style scoped>\n",
              "    .dataframe tbody tr th:only-of-type {\n",
              "        vertical-align: middle;\n",
              "    }\n",
              "\n",
              "    .dataframe tbody tr th {\n",
              "        vertical-align: top;\n",
              "    }\n",
              "\n",
              "    .dataframe thead th {\n",
              "        text-align: right;\n",
              "    }\n",
              "</style>\n",
              "<table border=\"1\" class=\"dataframe\">\n",
              "  <thead>\n",
              "    <tr style=\"text-align: right;\">\n",
              "      <th></th>\n",
              "      <th>Statement</th>\n",
              "      <th>Label</th>\n",
              "      <th>Polarity</th>\n",
              "      <th>Subjectivity</th>\n",
              "      <th>Happy</th>\n",
              "      <th>Angry</th>\n",
              "      <th>Surprise</th>\n",
              "      <th>Sad</th>\n",
              "      <th>Fear</th>\n",
              "    </tr>\n",
              "  </thead>\n",
              "  <tbody>\n",
              "    <tr>\n",
              "      <th>0</th>\n",
              "      <td>We have less Americans working now than in the...</td>\n",
              "      <td>FALSE</td>\n",
              "      <td>-0.166667</td>\n",
              "      <td>0.066667</td>\n",
              "      <td>0.0</td>\n",
              "      <td>0.00</td>\n",
              "      <td>0.0</td>\n",
              "      <td>0.00</td>\n",
              "      <td>1.00</td>\n",
              "    </tr>\n",
              "    <tr>\n",
              "      <th>1</th>\n",
              "      <td>When Obama was sworn into office, he DID NOT u...</td>\n",
              "      <td>FALSE</td>\n",
              "      <td>0.000000</td>\n",
              "      <td>0.780000</td>\n",
              "      <td>0.0</td>\n",
              "      <td>0.50</td>\n",
              "      <td>0.0</td>\n",
              "      <td>0.00</td>\n",
              "      <td>0.50</td>\n",
              "    </tr>\n",
              "    <tr>\n",
              "      <th>2</th>\n",
              "      <td>Says Having organizations parading as being so...</td>\n",
              "      <td>FALSE</td>\n",
              "      <td>0.011111</td>\n",
              "      <td>0.055556</td>\n",
              "      <td>0.0</td>\n",
              "      <td>0.00</td>\n",
              "      <td>0.4</td>\n",
              "      <td>0.20</td>\n",
              "      <td>0.40</td>\n",
              "    </tr>\n",
              "    <tr>\n",
              "      <th>3</th>\n",
              "      <td>Says nearly half of Oregons children are poor.</td>\n",
              "      <td>TRUE</td>\n",
              "      <td>-0.283333</td>\n",
              "      <td>0.383333</td>\n",
              "      <td>0.0</td>\n",
              "      <td>0.00</td>\n",
              "      <td>1.0</td>\n",
              "      <td>0.00</td>\n",
              "      <td>0.00</td>\n",
              "    </tr>\n",
              "    <tr>\n",
              "      <th>4</th>\n",
              "      <td>On attacks by Republicans that various program...</td>\n",
              "      <td>TRUE</td>\n",
              "      <td>0.008333</td>\n",
              "      <td>0.191667</td>\n",
              "      <td>0.0</td>\n",
              "      <td>0.33</td>\n",
              "      <td>0.0</td>\n",
              "      <td>0.33</td>\n",
              "      <td>0.33</td>\n",
              "    </tr>\n",
              "    <tr>\n",
              "      <th>...</th>\n",
              "      <td>...</td>\n",
              "      <td>...</td>\n",
              "      <td>...</td>\n",
              "      <td>...</td>\n",
              "      <td>...</td>\n",
              "      <td>...</td>\n",
              "      <td>...</td>\n",
              "      <td>...</td>\n",
              "      <td>...</td>\n",
              "    </tr>\n",
              "    <tr>\n",
              "      <th>2566</th>\n",
              "      <td>Says Donald Trump has bankrupted his companies...</td>\n",
              "      <td>TRUE</td>\n",
              "      <td>0.000000</td>\n",
              "      <td>0.000000</td>\n",
              "      <td>0.0</td>\n",
              "      <td>0.00</td>\n",
              "      <td>1.0</td>\n",
              "      <td>0.00</td>\n",
              "      <td>0.00</td>\n",
              "    </tr>\n",
              "    <tr>\n",
              "      <th>2567</th>\n",
              "      <td>John McCain and George Bush have \"absolutely n...</td>\n",
              "      <td>TRUE</td>\n",
              "      <td>-0.050000</td>\n",
              "      <td>0.450000</td>\n",
              "      <td>0.0</td>\n",
              "      <td>0.00</td>\n",
              "      <td>0.0</td>\n",
              "      <td>0.00</td>\n",
              "      <td>1.00</td>\n",
              "    </tr>\n",
              "    <tr>\n",
              "      <th>2568</th>\n",
              "      <td>A new poll shows 62 percent support the presid...</td>\n",
              "      <td>FALSE</td>\n",
              "      <td>0.045455</td>\n",
              "      <td>0.298737</td>\n",
              "      <td>0.0</td>\n",
              "      <td>0.00</td>\n",
              "      <td>0.0</td>\n",
              "      <td>0.33</td>\n",
              "      <td>0.67</td>\n",
              "    </tr>\n",
              "    <tr>\n",
              "      <th>2569</th>\n",
              "      <td>No one claims the report vindicating New Jerse...</td>\n",
              "      <td>FALSE</td>\n",
              "      <td>0.136364</td>\n",
              "      <td>0.454545</td>\n",
              "      <td>0.0</td>\n",
              "      <td>0.00</td>\n",
              "      <td>0.4</td>\n",
              "      <td>0.00</td>\n",
              "      <td>0.60</td>\n",
              "    </tr>\n",
              "    <tr>\n",
              "      <th>2570</th>\n",
              "      <td>&gt;&gt;&gt;&gt;&gt;&gt;&gt; f88339ab0722caf66aff4094544f81ce23820d3b</td>\n",
              "      <td>NaN</td>\n",
              "      <td>0.000000</td>\n",
              "      <td>0.000000</td>\n",
              "      <td>0.0</td>\n",
              "      <td>0.00</td>\n",
              "      <td>0.0</td>\n",
              "      <td>0.00</td>\n",
              "      <td>0.00</td>\n",
              "    </tr>\n",
              "  </tbody>\n",
              "</table>\n",
              "<p>2571 rows × 9 columns</p>\n",
              "</div>"
            ],
            "text/plain": [
              "                                              Statement  Label  ...   Sad  Fear\n",
              "0     We have less Americans working now than in the...  FALSE  ...  0.00  1.00\n",
              "1     When Obama was sworn into office, he DID NOT u...  FALSE  ...  0.00  0.50\n",
              "2     Says Having organizations parading as being so...  FALSE  ...  0.20  0.40\n",
              "3        Says nearly half of Oregons children are poor.   TRUE  ...  0.00  0.00\n",
              "4     On attacks by Republicans that various program...   TRUE  ...  0.33  0.33\n",
              "...                                                 ...    ...  ...   ...   ...\n",
              "2566  Says Donald Trump has bankrupted his companies...   TRUE  ...  0.00  0.00\n",
              "2567  John McCain and George Bush have \"absolutely n...   TRUE  ...  0.00  1.00\n",
              "2568  A new poll shows 62 percent support the presid...  FALSE  ...  0.33  0.67\n",
              "2569  No one claims the report vindicating New Jerse...  FALSE  ...  0.00  0.60\n",
              "2570   >>>>>>> f88339ab0722caf66aff4094544f81ce23820d3b    NaN  ...  0.00  0.00\n",
              "\n",
              "[2571 rows x 9 columns]"
            ]
          },
          "metadata": {
            "tags": []
          },
          "execution_count": 41
        }
      ]
    },
    {
      "cell_type": "code",
      "metadata": {
        "id": "iwVAg6JgvfV_"
      },
      "source": [
        "#saving it onto google drive as a csv file\n",
        "train.to_csv(\"/content/drive/My Drive/liartrainsent2.csv\", index=False)\n",
        "test.to_csv(\"/content/drive/My Drive/liartestsent2.csv\", index=False)\n",
        "valid.to_csv(\"/content/drive/My Drive/liarvalidsent2.csv\", index=False)"
      ],
      "execution_count": null,
      "outputs": []
    },
    {
      "cell_type": "markdown",
      "metadata": {
        "id": "jqXJH2A8Sodb"
      },
      "source": [
        "#Pre-processing"
      ]
    },
    {
      "cell_type": "code",
      "metadata": {
        "id": "6u1vDy4nT5a_"
      },
      "source": [
        "# transform labels\n",
        "\n",
        "def transformLabel(newLabels):\n",
        "  labels = newLabels.copy()\n",
        "  for i in range(len(labels)):\n",
        "    if labels[i] == 'false':\n",
        "      labels[i] = 0.0\n",
        "    elif labels[i] == 'true':\n",
        "      labels[i] = 1.0\n",
        "  labels = np.asarray(labels).astype('float32')\n",
        "  return labels"
      ],
      "execution_count": 9,
      "outputs": []
    },
    {
      "cell_type": "code",
      "metadata": {
        "id": "6YOc9wEpllI5"
      },
      "source": [
        "#Removing noise from the text, such as special characters, numbers and hyperlinksperlinks\n",
        "def rem_noise(text):\n",
        "  text = text.translate(str.maketrans('','',string.punctuation))\n",
        "\n",
        "  text =  re.sub('[0-9]+','',text)\n",
        "\n",
        "  text = re.sub('https?:\\S+','',text)\n",
        "\n",
        "  text =  re.sub('<.*?>',\" \",text)\n",
        "\n",
        "  return text"
      ],
      "execution_count": 10,
      "outputs": []
    },
    {
      "cell_type": "code",
      "metadata": {
        "id": "P-jzQqAeN1KO"
      },
      "source": [
        "#Removing stopwords(commonly used words such as \"are\" and \"us\" from text)\n",
        "stop = set(stopwords.words('english'))\n",
        "\n",
        "def rem_stopwords(text):\n",
        "    \n",
        "    words = [ch for ch in text if ch not in stop]\n",
        "    words= \"\".join(words).split()\n",
        "    words= [words.lower() for words in text.split()]\n",
        "    \n",
        "    return words"
      ],
      "execution_count": 11,
      "outputs": []
    },
    {
      "cell_type": "code",
      "metadata": {
        "id": "68-4PzpMN2st"
      },
      "source": [
        "#Assigning each word a number\n",
        "def tokenize_statements(text):\n",
        "    \n",
        "    # Tokenize the words\n",
        "    tokenized = word_tokenize(text)\n",
        "\n",
        "    # Remove the stop words\n",
        "    tokenized = [token for token in tokenized if token not in stopwords.words(\"english\")] \n",
        "\n",
        "    # Lemmatize the words, changing text to lowercase\n",
        "    lemmatizer = WordNetLemmatizer()\n",
        "    tokenized = [lemmatizer.lemmatize(token.lower(), pos='a') for token in tokenized]\n",
        "    \n",
        "    return tokenized"
      ],
      "execution_count": 12,
      "outputs": []
    },
    {
      "cell_type": "code",
      "metadata": {
        "id": "SwRm8io-W8wJ"
      },
      "source": [
        "#Removing noise from the articles\n",
        "train[\"Statement\"] = train[\"Statement\"].apply(rem_noise)\n",
        "\n",
        "test[\"Statement\"] = test[\"Statement\"].apply(rem_noise)\n",
        "\n",
        "valid[\"Statement\"] = valid[\"Statement\"].apply(rem_noise)"
      ],
      "execution_count": 13,
      "outputs": []
    },
    {
      "cell_type": "code",
      "metadata": {
        "colab": {
          "base_uri": "https://localhost:8080/",
          "height": 352
        },
        "id": "gQC6E_7Jo8HT",
        "outputId": "b95d84df-e5c5-41f3-d053-236dd129ca3f"
      },
      "source": [
        "train['word_count'] = [len(s.split()) for s in train['Statement']]\n",
        "#real \n",
        "sb.distplot(train['word_count'], kde=False, rug=False)"
      ],
      "execution_count": null,
      "outputs": [
        {
          "output_type": "stream",
          "text": [
            "/usr/local/lib/python3.7/dist-packages/seaborn/distributions.py:2557: FutureWarning: `distplot` is a deprecated function and will be removed in a future version. Please adapt your code to use either `displot` (a figure-level function with similar flexibility) or `histplot` (an axes-level function for histograms).\n",
            "  warnings.warn(msg, FutureWarning)\n"
          ],
          "name": "stderr"
        },
        {
          "output_type": "execute_result",
          "data": {
            "text/plain": [
              "<matplotlib.axes._subplots.AxesSubplot at 0x7f2f8e10ee50>"
            ]
          },
          "metadata": {
            "tags": []
          },
          "execution_count": 35
        },
        {
          "output_type": "display_data",
          "data": {
            "image/png": "[encoded data removed]",
            "text/plain": [
              "<Figure size 432x288 with 1 Axes>"
            ]
          },
          "metadata": {
            "tags": [],
            "needs_background": "light"
          }
        }
      ]
    },
    {
      "cell_type": "code",
      "metadata": {
        "colab": {
          "base_uri": "https://localhost:8080/",
          "height": 554
        },
        "id": "1aviqkYSXmRS",
        "outputId": "82c81308-8804-445d-b4a5-0abf31a1b6a7"
      },
      "source": [
        "train"
      ],
      "execution_count": null,
      "outputs": [
        {
          "output_type": "execute_result",
          "data": {
            "text/html": [
              "<div>\n",
              "<style scoped>\n",
              "    .dataframe tbody tr th:only-of-type {\n",
              "        vertical-align: middle;\n",
              "    }\n",
              "\n",
              "    .dataframe tbody tr th {\n",
              "        vertical-align: top;\n",
              "    }\n",
              "\n",
              "    .dataframe thead th {\n",
              "        text-align: right;\n",
              "    }\n",
              "</style>\n",
              "<table border=\"1\" class=\"dataframe\">\n",
              "  <thead>\n",
              "    <tr style=\"text-align: right;\">\n",
              "      <th></th>\n",
              "      <th>Statement</th>\n",
              "      <th>Label</th>\n",
              "      <th>Polarity</th>\n",
              "      <th>Subjectivity</th>\n",
              "      <th>Happy</th>\n",
              "      <th>Angry</th>\n",
              "      <th>Surprise</th>\n",
              "      <th>Sad</th>\n",
              "      <th>Fear</th>\n",
              "    </tr>\n",
              "  </thead>\n",
              "  <tbody>\n",
              "    <tr>\n",
              "      <th>0</th>\n",
              "      <td>Says the Annies List political group supports ...</td>\n",
              "      <td>False</td>\n",
              "      <td>0.000000</td>\n",
              "      <td>0.100000</td>\n",
              "      <td>0.0</td>\n",
              "      <td>0.00</td>\n",
              "      <td>1.00</td>\n",
              "      <td>0.00</td>\n",
              "      <td>0.00</td>\n",
              "    </tr>\n",
              "    <tr>\n",
              "      <th>1</th>\n",
              "      <td>When did the decline of coal start It started ...</td>\n",
              "      <td>True</td>\n",
              "      <td>0.100000</td>\n",
              "      <td>0.400000</td>\n",
              "      <td>0.0</td>\n",
              "      <td>0.00</td>\n",
              "      <td>1.00</td>\n",
              "      <td>0.00</td>\n",
              "      <td>0.00</td>\n",
              "    </tr>\n",
              "    <tr>\n",
              "      <th>2</th>\n",
              "      <td>Hillary Clinton agrees with John McCain by vot...</td>\n",
              "      <td>True</td>\n",
              "      <td>0.000000</td>\n",
              "      <td>0.000000</td>\n",
              "      <td>0.0</td>\n",
              "      <td>0.00</td>\n",
              "      <td>0.00</td>\n",
              "      <td>0.00</td>\n",
              "      <td>1.00</td>\n",
              "    </tr>\n",
              "    <tr>\n",
              "      <th>3</th>\n",
              "      <td>Health care reform legislation is likely to ma...</td>\n",
              "      <td>False</td>\n",
              "      <td>0.200000</td>\n",
              "      <td>0.900000</td>\n",
              "      <td>0.5</td>\n",
              "      <td>0.00</td>\n",
              "      <td>0.00</td>\n",
              "      <td>0.00</td>\n",
              "      <td>0.50</td>\n",
              "    </tr>\n",
              "    <tr>\n",
              "      <th>4</th>\n",
              "      <td>The economic turnaround started at the end of ...</td>\n",
              "      <td>True</td>\n",
              "      <td>0.200000</td>\n",
              "      <td>0.200000</td>\n",
              "      <td>0.0</td>\n",
              "      <td>0.00</td>\n",
              "      <td>0.00</td>\n",
              "      <td>0.00</td>\n",
              "      <td>0.00</td>\n",
              "    </tr>\n",
              "    <tr>\n",
              "      <th>...</th>\n",
              "      <td>...</td>\n",
              "      <td>...</td>\n",
              "      <td>...</td>\n",
              "      <td>...</td>\n",
              "      <td>...</td>\n",
              "      <td>...</td>\n",
              "      <td>...</td>\n",
              "      <td>...</td>\n",
              "      <td>...</td>\n",
              "    </tr>\n",
              "    <tr>\n",
              "      <th>10235</th>\n",
              "      <td>There are a larger number of shark attacks in ...</td>\n",
              "      <td>True</td>\n",
              "      <td>0.000000</td>\n",
              "      <td>0.500000</td>\n",
              "      <td>0.0</td>\n",
              "      <td>0.00</td>\n",
              "      <td>0.00</td>\n",
              "      <td>0.00</td>\n",
              "      <td>1.00</td>\n",
              "    </tr>\n",
              "    <tr>\n",
              "      <th>10236</th>\n",
              "      <td>Democrats have now become the party of the Atl...</td>\n",
              "      <td>True</td>\n",
              "      <td>0.000000</td>\n",
              "      <td>0.000000</td>\n",
              "      <td>0.0</td>\n",
              "      <td>0.00</td>\n",
              "      <td>0.00</td>\n",
              "      <td>0.00</td>\n",
              "      <td>0.00</td>\n",
              "    </tr>\n",
              "    <tr>\n",
              "      <th>10237</th>\n",
              "      <td>Says an alternative to Social Security that op...</td>\n",
              "      <td>True</td>\n",
              "      <td>0.191667</td>\n",
              "      <td>0.258333</td>\n",
              "      <td>0.0</td>\n",
              "      <td>0.00</td>\n",
              "      <td>0.14</td>\n",
              "      <td>0.14</td>\n",
              "      <td>0.71</td>\n",
              "    </tr>\n",
              "    <tr>\n",
              "      <th>10238</th>\n",
              "      <td>On lifting the US Cuban embargo and allowing t...</td>\n",
              "      <td>False</td>\n",
              "      <td>0.000000</td>\n",
              "      <td>0.000000</td>\n",
              "      <td>0.0</td>\n",
              "      <td>0.00</td>\n",
              "      <td>0.00</td>\n",
              "      <td>0.00</td>\n",
              "      <td>0.00</td>\n",
              "    </tr>\n",
              "    <tr>\n",
              "      <th>10239</th>\n",
              "      <td>The Department of Veterans Affairs has a manua...</td>\n",
              "      <td>False</td>\n",
              "      <td>0.200000</td>\n",
              "      <td>0.200000</td>\n",
              "      <td>0.0</td>\n",
              "      <td>0.17</td>\n",
              "      <td>0.33</td>\n",
              "      <td>0.17</td>\n",
              "      <td>0.33</td>\n",
              "    </tr>\n",
              "  </tbody>\n",
              "</table>\n",
              "<p>10240 rows × 9 columns</p>\n",
              "</div>"
            ],
            "text/plain": [
              "                                               Statement  Label  ...   Sad  Fear\n",
              "0      Says the Annies List political group supports ...  False  ...  0.00  0.00\n",
              "1      When did the decline of coal start It started ...   True  ...  0.00  0.00\n",
              "2      Hillary Clinton agrees with John McCain by vot...   True  ...  0.00  1.00\n",
              "3      Health care reform legislation is likely to ma...  False  ...  0.00  0.50\n",
              "4      The economic turnaround started at the end of ...   True  ...  0.00  0.00\n",
              "...                                                  ...    ...  ...   ...   ...\n",
              "10235  There are a larger number of shark attacks in ...   True  ...  0.00  1.00\n",
              "10236  Democrats have now become the party of the Atl...   True  ...  0.00  0.00\n",
              "10237  Says an alternative to Social Security that op...   True  ...  0.14  0.71\n",
              "10238  On lifting the US Cuban embargo and allowing t...  False  ...  0.00  0.00\n",
              "10239  The Department of Veterans Affairs has a manua...  False  ...  0.17  0.33\n",
              "\n",
              "[10240 rows x 9 columns]"
            ]
          },
          "metadata": {
            "tags": []
          },
          "execution_count": 19
        }
      ]
    },
    {
      "cell_type": "markdown",
      "metadata": {
        "id": "YL_2cNmlYGG4"
      },
      "source": [
        "# TF-IDF"
      ]
    },
    {
      "cell_type": "code",
      "metadata": {
        "id": "tPsxMu1FllI6"
      },
      "source": [
        "X_train = train[\"Statement\"]\n",
        "X_test = test[\"Statement\"]\n",
        "y_train = train[\"Label\"]\n",
        "y_test = test[\"Label\"]\n",
        "\n",
        "x_train_sentiment_emo = train[[\"Polarity\", \"Subjectivity\",\"Happy\", \"Angry\", \"Surprise\", \"Sad\", \"Fear\"]].copy()"
      ],
      "execution_count": 118,
      "outputs": []
    },
    {
      "cell_type": "code",
      "metadata": {
        "colab": {
          "base_uri": "https://localhost:8080/"
        },
        "id": "-qCdN9QZllI6",
        "outputId": "c36879f3-16c9-43ca-de89-34f39d7ff023"
      },
      "source": [
        "print(X_train.shape)\n",
        "print(y_train.shape)\n",
        "print(X_test.shape)\n",
        "print(y_test.shape)"
      ],
      "execution_count": 119,
      "outputs": [
        {
          "output_type": "stream",
          "text": [
            "(10240,)\n",
            "(10240,)\n",
            "(2551,)\n",
            "(2551,)\n"
          ],
          "name": "stdout"
        }
      ]
    },
    {
      "cell_type": "code",
      "metadata": {
        "id": "V2c9gy0AllI6"
      },
      "source": [
        "# Vectorize the text so the models can interpret it. max_features = 2000, so the vectors are not too large\n",
        "vectorizer = TfidfVectorizer(tokenize_statements, max_features = 2000)\n",
        "x_train_vectorized = vectorizer.fit_transform(X_train)\n",
        "x_test_vectorized = vectorizer.transform(X_test)"
      ],
      "execution_count": 120,
      "outputs": []
    },
    {
      "cell_type": "code",
      "metadata": {
        "colab": {
          "base_uri": "https://localhost:8080/"
        },
        "id": "uitwBQUdllI6",
        "outputId": "d9f19cf1-df51-4f76-805a-b54d44cf81fc"
      },
      "source": [
        "print (x_train_vectorized.shape)\n",
        "print (x_test_vectorized.shape)\n",
        "print (y_train.shape)\n",
        "print (y_test.shape)\n",
        "\n"
      ],
      "execution_count": 121,
      "outputs": [
        {
          "output_type": "stream",
          "text": [
            "(10240, 2000)\n",
            "(2551, 2000)\n",
            "(10240,)\n",
            "(2551,)\n"
          ],
          "name": "stdout"
        }
      ]
    },
    {
      "cell_type": "code",
      "metadata": {
        "id": "Ux21uOnCn4Zq"
      },
      "source": [
        "df_x_train_tfidf =  pd.DataFrame.sparse.from_spmatrix(x_train_vectorized)\n",
        "df_x_train_tfidf['polarity'] = train['Polarity'].values\n",
        "df_x_train_tfidf['subjectivity'] = train['Subjectivity'].values\n",
        "df_x_train_tfidf['happy'] = train['Happy'].values\n",
        "df_x_train_tfidf['angry'] = train['Angry'].values\n",
        "df_x_train_tfidf['surprise'] = train['Surprise'].values\n",
        "df_x_train_tfidf['sad'] = train['Sad'].values\n",
        "df_x_train_tfidf['fear'] = train['Fear'].values\n",
        "\n",
        "df_x_test_tfidf =  pd.DataFrame.sparse.from_spmatrix(x_test_vectorized)\n",
        "df_x_test_tfidf['polarity'] = test['Polarity'].values\n",
        "df_x_test_tfidf['subjectivitiy'] = test['Subjectivity'].values\n",
        "df_x_test_tfidf['happy'] = test['Happy'].values\n",
        "df_x_test_tfidf['angry'] = test['Angry'].values\n",
        "df_x_test_tfidf['surprise'] = test['Surprise'].values\n",
        "df_x_test_tfidf['sad'] = test['Sad'].values\n",
        "df_x_test_tfidf['fear'] = test['Fear'].values\n",
        "\n",
        "df_x_train_tfidf_nopol = x_train_vectorized\n",
        "df_x_test_tfidf_nopol = x_test_vectorized"
      ],
      "execution_count": 122,
      "outputs": []
    },
    {
      "cell_type": "markdown",
      "metadata": {
        "id": "H9Xb9NIdllI7"
      },
      "source": [
        "# Logistic Regression"
      ]
    },
    {
      "cell_type": "code",
      "metadata": {
        "id": "5udDbQjVllI7"
      },
      "source": [
        "log_reg = LogisticRegression(solver='lbfgs')\n",
        "log_reg.fit(df_x_train_tfidf, y_train)\n",
        "logR_predicted = log_reg.predict(df_x_test_tfidf)\n",
        "print(f\"{log_reg.__class__.__name__} accuracy: {log_reg.score(df_x_test_tfidf, y_test)}\")"
      ],
      "execution_count": null,
      "outputs": []
    },
    {
      "cell_type": "code",
      "metadata": {
        "id": "ViDKambXs4gY",
        "colab": {
          "base_uri": "https://localhost:8080/"
        },
        "outputId": "ff1d0705-bc15-46c2-96f5-96fa7ee1980e"
      },
      "source": [
        "log_reg_nopol = LogisticRegression(solver='lbfgs')\n",
        "log_reg_nopol.fit(df_x_train_tfidf_nopol, y_train)\n",
        "logR_predicted = log_reg_nopol.predict(df_x_test_tfidf_nopol)\n",
        "print(f\"{log_reg_nopol.__class__.__name__} accuracy: {log_reg_nopol.score(df_x_test_tfidf_nopol, y_test)}\")"
      ],
      "execution_count": 26,
      "outputs": [
        {
          "output_type": "stream",
          "text": [
            "LogisticRegression accuracy: 0.6087808702469619\n"
          ],
          "name": "stdout"
        }
      ]
    },
    {
      "cell_type": "code",
      "metadata": {
        "id": "7L1VzNPPP8gJ",
        "colab": {
          "base_uri": "https://localhost:8080/"
        },
        "outputId": "80f439d1-125a-4f4d-889e-7ddd28809355"
      },
      "source": [
        "print(classification_report(y_test, logR_predicted))\n",
        "print('\\n')\n",
        "print(confusion_matrix(y_test, logR_predicted))"
      ],
      "execution_count": 25,
      "outputs": [
        {
          "output_type": "stream",
          "text": [
            "              precision    recall  f1-score   support\n",
            "\n",
            "       False       0.60      0.48      0.53      1169\n",
            "        True       0.62      0.73      0.67      1382\n",
            "\n",
            "    accuracy                           0.62      2551\n",
            "   macro avg       0.61      0.60      0.60      2551\n",
            "weighted avg       0.61      0.62      0.61      2551\n",
            "\n",
            "\n",
            "\n",
            "[[ 559  610]\n",
            " [ 372 1010]]\n"
          ],
          "name": "stdout"
        }
      ]
    },
    {
      "cell_type": "code",
      "metadata": {
        "id": "KbwJ7RkVP-Hm",
        "colab": {
          "base_uri": "https://localhost:8080/"
        },
        "outputId": "8c86eaf4-e9a5-4220-af36-d2222a292e1d"
      },
      "source": [
        "cv_results = cross_validate(log_reg, df_x_train_tfidf, y_train, cv=2)\n",
        "cv_results['test_score'].mean()"
      ],
      "execution_count": null,
      "outputs": [
        {
          "output_type": "execute_result",
          "data": {
            "text/plain": [
              "0.607421875"
            ]
          },
          "metadata": {
            "tags": []
          },
          "execution_count": 28
        }
      ]
    },
    {
      "cell_type": "markdown",
      "metadata": {
        "id": "XhTLukwVQGbg"
      },
      "source": [
        "#Random Forest"
      ]
    },
    {
      "cell_type": "code",
      "metadata": {
        "colab": {
          "base_uri": "https://localhost:8080/"
        },
        "id": "XZbc7AkLP__d",
        "outputId": "91fec6dd-bff6-459e-d2ba-04d6df44f697"
      },
      "source": [
        "random_forest = RandomForestClassifier(n_estimators=10, max_depth=100)\n",
        "random_forest.fit(df_x_train_tfidf, y_train)\n",
        "\n",
        "print(f\"{random_forest.__class__.__name__} accuracy: {random_forest.score(df_x_test_tfidf, y_test)}\")"
      ],
      "execution_count": null,
      "outputs": [
        {
          "output_type": "stream",
          "text": [
            "RandomForestClassifier accuracy: 0.5793806350450803\n"
          ],
          "name": "stdout"
        }
      ]
    },
    {
      "cell_type": "code",
      "metadata": {
        "id": "isJbXEgoQLKK"
      },
      "source": [
        "random_forest_nopol = RandomForestClassifier(n_estimators=10, max_depth=100)\n",
        "random_forest_nopol.fit(df_x_train_tfidf_nopol, y_train)\n",
        "\n",
        "print(f\"{random_forest_nopol.__class__.__name__} accuracy: {random_forest_nopol.score(df_x_test_tfidf_nopol, y_test)}\")"
      ],
      "execution_count": null,
      "outputs": []
    },
    {
      "cell_type": "code",
      "metadata": {
        "id": "2sPRSaa6QNPp"
      },
      "source": [
        "rForest_pred = random_forest.predict(df_x_test_tfidf)\n",
        "print(classification_report(y_test, rForest_pred))\n",
        "print('\\n')\n",
        "print(confusion_matrix(y_test, rForest_pred))"
      ],
      "execution_count": null,
      "outputs": []
    },
    {
      "cell_type": "code",
      "metadata": {
        "id": "0pJuOFMzQOlK"
      },
      "source": [
        "cv_results = cross_validate(random_forest, df_x_train_tfidf, y_train, cv=5)\n",
        "cv_results['test_score'].mean()"
      ],
      "execution_count": null,
      "outputs": []
    },
    {
      "cell_type": "markdown",
      "metadata": {
        "id": "yUe4KnidQPZl"
      },
      "source": [
        "#SVM"
      ]
    },
    {
      "cell_type": "code",
      "metadata": {
        "id": "vLPzMl-AQP0H",
        "colab": {
          "base_uri": "https://localhost:8080/"
        },
        "outputId": "b92b0367-cca9-4be5-fad3-bde95c1771e3"
      },
      "source": [
        "svm = LinearSVC()\n",
        "svm.fit(df_x_train_tfidf, y_train)\n",
        "print(f\"{svm.__class__.__name__} accuracy: {svm.score(df_x_test_tfidf, y_test)}\")"
      ],
      "execution_count": 41,
      "outputs": [
        {
          "output_type": "stream",
          "text": [
            "LinearSVC accuracy: 0.6005488043904351\n"
          ],
          "name": "stdout"
        }
      ]
    },
    {
      "cell_type": "code",
      "metadata": {
        "id": "31pTdfEzfB8e"
      },
      "source": [
        "# defining parameter range\n",
        "param_grid = {'C': [0.1, 1, 10, 100, 1000]}\n",
        "  \n",
        "grid = GridSearchCV(LinearSVC(), param_grid, refit = True, verbose = 3)\n",
        "  \n",
        "# fitting the model for grid search\n",
        "grid.fit(df_x_train_tfidf, y_train)"
      ],
      "execution_count": null,
      "outputs": []
    },
    {
      "cell_type": "code",
      "metadata": {
        "id": "VQP0w5gnf0Ru",
        "colab": {
          "base_uri": "https://localhost:8080/"
        },
        "outputId": "2146bbad-c310-4c8b-ddc1-30feddba02c8"
      },
      "source": [
        "# print best parameter after tuning\n",
        "print(grid.best_params_)"
      ],
      "execution_count": null,
      "outputs": [
        {
          "output_type": "stream",
          "text": [
            "{'C': 0.1}\n"
          ],
          "name": "stdout"
        }
      ]
    },
    {
      "cell_type": "code",
      "metadata": {
        "id": "Cyzdr0LVf0_W"
      },
      "source": [
        "# print how our model looks after hyper-parameter tuning\n",
        "print(grid.best_estimator_)"
      ],
      "execution_count": null,
      "outputs": []
    },
    {
      "cell_type": "code",
      "metadata": {
        "id": "IoPh4sUgf5uj"
      },
      "source": [
        "grid_predictions = grid.predict(df_x_test_tfidf)\n",
        "  \n",
        "# print classification report\n",
        "print(classification_report(y_test, grid_predictions))"
      ],
      "execution_count": null,
      "outputs": []
    },
    {
      "cell_type": "code",
      "metadata": {
        "id": "eLxolcK3QRXG",
        "colab": {
          "base_uri": "https://localhost:8080/"
        },
        "outputId": "93d27b9e-8fa6-47ce-b5f2-33a45cae7c2d"
      },
      "source": [
        "svm_nopol = LinearSVC()\n",
        "svm_nopol.fit(df_x_train_tfidf_nopol, y_train)\n",
        "print(f\"{svm_nopol.__class__.__name__} accuracy: {svm_nopol.score(df_x_test_tfidf_nopol, y_test)}\")"
      ],
      "execution_count": 42,
      "outputs": [
        {
          "output_type": "stream",
          "text": [
            "LinearSVC accuracy: 0.6013328106624853\n"
          ],
          "name": "stdout"
        }
      ]
    },
    {
      "cell_type": "code",
      "metadata": {
        "id": "48d42EUKQTie",
        "colab": {
          "base_uri": "https://localhost:8080/"
        },
        "outputId": "29427dc5-5f46-4529-9ea2-a24ce0f370f1"
      },
      "source": [
        "svm_pred = svm.predict(df_x_test_tfidf)\n",
        "\n",
        "print(classification_report(y_test, svm_pred))\n",
        "print('\\n')\n",
        "print(confusion_matrix(y_test, svm_pred))"
      ],
      "execution_count": 44,
      "outputs": [
        {
          "output_type": "stream",
          "text": [
            "              precision    recall  f1-score   support\n",
            "\n",
            "       False       0.57      0.52      0.54      1169\n",
            "        True       0.62      0.67      0.64      1382\n",
            "\n",
            "    accuracy                           0.60      2551\n",
            "   macro avg       0.60      0.59      0.59      2551\n",
            "weighted avg       0.60      0.60      0.60      2551\n",
            "\n",
            "\n",
            "\n",
            "[[610 559]\n",
            " [460 922]]\n"
          ],
          "name": "stdout"
        }
      ]
    },
    {
      "cell_type": "code",
      "metadata": {
        "id": "KmdnbaOrQU3o"
      },
      "source": [
        "cv_results = cross_validate(svm, df_x_train_tfidf, y_train, cv=5)\n",
        "cv_results['test_score'].mean()"
      ],
      "execution_count": null,
      "outputs": []
    },
    {
      "cell_type": "markdown",
      "metadata": {
        "id": "A0VNMvplCeVO"
      },
      "source": [
        "# MLP"
      ]
    },
    {
      "cell_type": "code",
      "metadata": {
        "id": "XIDXH_q5Cd7b"
      },
      "source": [
        "clf = MLPClassifier(hidden_layer_sizes=(64,64,64), random_state=1, max_iter=800).fit(df_x_train_tfidf, y_train)"
      ],
      "execution_count": 143,
      "outputs": []
    },
    {
      "cell_type": "code",
      "metadata": {
        "colab": {
          "base_uri": "https://localhost:8080/"
        },
        "id": "oQSFSYnfC1ui",
        "outputId": "5b168b24-d208-4f9b-f444-c226ec78655a"
      },
      "source": [
        "clf.score(df_x_test_tfidf, y_test)"
      ],
      "execution_count": 144,
      "outputs": [
        {
          "output_type": "execute_result",
          "data": {
            "text/plain": [
              "0.5883967071736574"
            ]
          },
          "metadata": {
            "tags": []
          },
          "execution_count": 144
        }
      ]
    },
    {
      "cell_type": "code",
      "metadata": {
        "id": "1w2bun6UVZSx"
      },
      "source": [
        "mlp_pred = clf.predict(df_x_test_tfidf)"
      ],
      "execution_count": 145,
      "outputs": []
    },
    {
      "cell_type": "code",
      "metadata": {
        "colab": {
          "base_uri": "https://localhost:8080/"
        },
        "id": "dIiV331RWMx8",
        "outputId": "d9a2b13d-65f0-42eb-8986-f9aaf144d453"
      },
      "source": [
        "print(classification_report(y_test, mlp_pred, zero_division = 1))\n",
        "print(confusion_matrix(y_test, mlp_pred))"
      ],
      "execution_count": 146,
      "outputs": [
        {
          "output_type": "stream",
          "text": [
            "              precision    recall  f1-score   support\n",
            "\n",
            "       False       0.56      0.46      0.51      1169\n",
            "        True       0.60      0.69      0.65      1382\n",
            "\n",
            "    accuracy                           0.59      2551\n",
            "   macro avg       0.58      0.58      0.58      2551\n",
            "weighted avg       0.58      0.59      0.58      2551\n",
            "\n",
            "[[541 628]\n",
            " [422 960]]\n"
          ],
          "name": "stdout"
        }
      ]
    },
    {
      "cell_type": "markdown",
      "metadata": {
        "id": "hNi1N-lsQV5c"
      },
      "source": [
        "#GoVe LSTM"
      ]
    },
    {
      "cell_type": "code",
      "metadata": {
        "id": "6lRLfXUgRkkJ"
      },
      "source": [
        "df_lstm_all = pd.concat([train,test])"
      ],
      "execution_count": 50,
      "outputs": []
    },
    {
      "cell_type": "code",
      "metadata": {
        "colab": {
          "base_uri": "https://localhost:8080/",
          "height": 537
        },
        "id": "9W_DzVUYRl1j",
        "outputId": "22aa4ae4-195c-46a4-f2c6-57c91541719d"
      },
      "source": [
        "df_lstm_all"
      ],
      "execution_count": 51,
      "outputs": [
        {
          "output_type": "execute_result",
          "data": {
            "text/html": [
              "<div>\n",
              "<style scoped>\n",
              "    .dataframe tbody tr th:only-of-type {\n",
              "        vertical-align: middle;\n",
              "    }\n",
              "\n",
              "    .dataframe tbody tr th {\n",
              "        vertical-align: top;\n",
              "    }\n",
              "\n",
              "    .dataframe thead th {\n",
              "        text-align: right;\n",
              "    }\n",
              "</style>\n",
              "<table border=\"1\" class=\"dataframe\">\n",
              "  <thead>\n",
              "    <tr style=\"text-align: right;\">\n",
              "      <th></th>\n",
              "      <th>Statement</th>\n",
              "      <th>Label</th>\n",
              "      <th>Polarity</th>\n",
              "      <th>Subjectivity</th>\n",
              "      <th>Happy</th>\n",
              "      <th>Angry</th>\n",
              "      <th>Surprise</th>\n",
              "      <th>Sad</th>\n",
              "      <th>Fear</th>\n",
              "    </tr>\n",
              "  </thead>\n",
              "  <tbody>\n",
              "    <tr>\n",
              "      <th>0</th>\n",
              "      <td>Says the Annies List political group supports ...</td>\n",
              "      <td>False</td>\n",
              "      <td>0.000000</td>\n",
              "      <td>0.100000</td>\n",
              "      <td>0.0</td>\n",
              "      <td>0.0</td>\n",
              "      <td>1.0</td>\n",
              "      <td>0.00</td>\n",
              "      <td>0.00</td>\n",
              "    </tr>\n",
              "    <tr>\n",
              "      <th>1</th>\n",
              "      <td>When did the decline of coal start It started ...</td>\n",
              "      <td>True</td>\n",
              "      <td>0.100000</td>\n",
              "      <td>0.400000</td>\n",
              "      <td>0.0</td>\n",
              "      <td>0.0</td>\n",
              "      <td>1.0</td>\n",
              "      <td>0.00</td>\n",
              "      <td>0.00</td>\n",
              "    </tr>\n",
              "    <tr>\n",
              "      <th>2</th>\n",
              "      <td>Hillary Clinton agrees with John McCain by vot...</td>\n",
              "      <td>True</td>\n",
              "      <td>0.000000</td>\n",
              "      <td>0.000000</td>\n",
              "      <td>0.0</td>\n",
              "      <td>0.0</td>\n",
              "      <td>0.0</td>\n",
              "      <td>0.00</td>\n",
              "      <td>1.00</td>\n",
              "    </tr>\n",
              "    <tr>\n",
              "      <th>3</th>\n",
              "      <td>Health care reform legislation is likely to ma...</td>\n",
              "      <td>False</td>\n",
              "      <td>0.200000</td>\n",
              "      <td>0.900000</td>\n",
              "      <td>0.5</td>\n",
              "      <td>0.0</td>\n",
              "      <td>0.0</td>\n",
              "      <td>0.00</td>\n",
              "      <td>0.50</td>\n",
              "    </tr>\n",
              "    <tr>\n",
              "      <th>4</th>\n",
              "      <td>The economic turnaround started at the end of ...</td>\n",
              "      <td>True</td>\n",
              "      <td>0.200000</td>\n",
              "      <td>0.200000</td>\n",
              "      <td>0.0</td>\n",
              "      <td>0.0</td>\n",
              "      <td>0.0</td>\n",
              "      <td>0.00</td>\n",
              "      <td>0.00</td>\n",
              "    </tr>\n",
              "    <tr>\n",
              "      <th>...</th>\n",
              "      <td>...</td>\n",
              "      <td>...</td>\n",
              "      <td>...</td>\n",
              "      <td>...</td>\n",
              "      <td>...</td>\n",
              "      <td>...</td>\n",
              "      <td>...</td>\n",
              "      <td>...</td>\n",
              "      <td>...</td>\n",
              "    </tr>\n",
              "    <tr>\n",
              "      <th>2546</th>\n",
              "      <td>For the first time in more than a decade impor...</td>\n",
              "      <td>True</td>\n",
              "      <td>0.104167</td>\n",
              "      <td>0.266667</td>\n",
              "      <td>0.0</td>\n",
              "      <td>0.0</td>\n",
              "      <td>0.5</td>\n",
              "      <td>0.00</td>\n",
              "      <td>0.50</td>\n",
              "    </tr>\n",
              "    <tr>\n",
              "      <th>2547</th>\n",
              "      <td>Says Donald Trump has bankrupted his companies...</td>\n",
              "      <td>True</td>\n",
              "      <td>0.000000</td>\n",
              "      <td>0.000000</td>\n",
              "      <td>0.0</td>\n",
              "      <td>0.0</td>\n",
              "      <td>1.0</td>\n",
              "      <td>0.00</td>\n",
              "      <td>0.00</td>\n",
              "    </tr>\n",
              "    <tr>\n",
              "      <th>2548</th>\n",
              "      <td>John McCain and George Bush have absolutely no...</td>\n",
              "      <td>True</td>\n",
              "      <td>-0.050000</td>\n",
              "      <td>0.450000</td>\n",
              "      <td>0.0</td>\n",
              "      <td>0.0</td>\n",
              "      <td>0.0</td>\n",
              "      <td>0.00</td>\n",
              "      <td>1.00</td>\n",
              "    </tr>\n",
              "    <tr>\n",
              "      <th>2549</th>\n",
              "      <td>A new poll shows  percent support the presiden...</td>\n",
              "      <td>False</td>\n",
              "      <td>0.045455</td>\n",
              "      <td>0.298737</td>\n",
              "      <td>0.0</td>\n",
              "      <td>0.0</td>\n",
              "      <td>0.0</td>\n",
              "      <td>0.33</td>\n",
              "      <td>0.67</td>\n",
              "    </tr>\n",
              "    <tr>\n",
              "      <th>2550</th>\n",
              "      <td>No one claims the report vindicating New Jerse...</td>\n",
              "      <td>False</td>\n",
              "      <td>0.136364</td>\n",
              "      <td>0.454545</td>\n",
              "      <td>0.0</td>\n",
              "      <td>0.0</td>\n",
              "      <td>0.4</td>\n",
              "      <td>0.00</td>\n",
              "      <td>0.60</td>\n",
              "    </tr>\n",
              "  </tbody>\n",
              "</table>\n",
              "<p>12791 rows × 9 columns</p>\n",
              "</div>"
            ],
            "text/plain": [
              "                                              Statement  Label  ...   Sad  Fear\n",
              "0     Says the Annies List political group supports ...  False  ...  0.00  0.00\n",
              "1     When did the decline of coal start It started ...   True  ...  0.00  0.00\n",
              "2     Hillary Clinton agrees with John McCain by vot...   True  ...  0.00  1.00\n",
              "3     Health care reform legislation is likely to ma...  False  ...  0.00  0.50\n",
              "4     The economic turnaround started at the end of ...   True  ...  0.00  0.00\n",
              "...                                                 ...    ...  ...   ...   ...\n",
              "2546  For the first time in more than a decade impor...   True  ...  0.00  0.50\n",
              "2547  Says Donald Trump has bankrupted his companies...   True  ...  0.00  0.00\n",
              "2548  John McCain and George Bush have absolutely no...   True  ...  0.00  1.00\n",
              "2549  A new poll shows  percent support the presiden...  False  ...  0.33  0.67\n",
              "2550  No one claims the report vindicating New Jerse...  False  ...  0.00  0.60\n",
              "\n",
              "[12791 rows x 9 columns]"
            ]
          },
          "metadata": {
            "tags": []
          },
          "execution_count": 51
        }
      ]
    },
    {
      "cell_type": "code",
      "metadata": {
        "id": "9rRslhAGRo1B"
      },
      "source": [
        "glovedf = df_lstm_all.reset_index(drop=True)"
      ],
      "execution_count": 52,
      "outputs": []
    },
    {
      "cell_type": "code",
      "metadata": {
        "id": "G6tZenixQXr7"
      },
      "source": [
        "cleantext = glovedf['Statement'].apply(rem_noise)\n",
        "cleantext = cleantext.apply(rem_stopwords)\n",
        "y_transformed = transformLabel(glovedf['Label'])"
      ],
      "execution_count": 53,
      "outputs": []
    },
    {
      "cell_type": "code",
      "metadata": {
        "colab": {
          "base_uri": "https://localhost:8080/"
        },
        "id": "BBaCp69PUQES",
        "outputId": "fb9ca3f4-a212-476d-fbe6-90fa41c81aee"
      },
      "source": [
        "y_transformed"
      ],
      "execution_count": 54,
      "outputs": [
        {
          "output_type": "execute_result",
          "data": {
            "text/plain": [
              "array([0., 1., 1., ..., 1., 0., 0.], dtype=float32)"
            ]
          },
          "metadata": {
            "tags": []
          },
          "execution_count": 54
        }
      ]
    },
    {
      "cell_type": "code",
      "metadata": {
        "id": "4Ix7J2niQsdu"
      },
      "source": [
        "x = cleantext.values\n",
        "y = y_transformed"
      ],
      "execution_count": 55,
      "outputs": []
    },
    {
      "cell_type": "code",
      "metadata": {
        "id": "CjIgqckkQuD4"
      },
      "source": [
        "from keras.preprocessing import text, sequence"
      ],
      "execution_count": 56,
      "outputs": []
    },
    {
      "cell_type": "code",
      "metadata": {
        "id": "rMcH-e_3QwnK"
      },
      "source": [
        "tokenizer = Tokenizer()\n",
        "tokenizer.fit_on_texts(x)\n",
        "word_to_index = tokenizer.word_index\n",
        "contentSequence = tokenizer.texts_to_sequences(x)"
      ],
      "execution_count": 57,
      "outputs": []
    },
    {
      "cell_type": "code",
      "metadata": {
        "id": "25YuHna0QyBB"
      },
      "source": [
        "vocab_size =  len(word_to_index)\n",
        "oov_tok = \"<OOV>\"\n",
        "max_length = 500\n",
        "embedding_dim = 100"
      ],
      "execution_count": 58,
      "outputs": []
    },
    {
      "cell_type": "code",
      "metadata": {
        "id": "RyW9ayCuQzii"
      },
      "source": [
        "from keras.preprocessing.sequence import pad_sequences\n",
        "\n",
        "contentSequence = pad_sequences(contentSequence, maxlen=max_length)"
      ],
      "execution_count": 59,
      "outputs": []
    },
    {
      "cell_type": "code",
      "metadata": {
        "colab": {
          "base_uri": "https://localhost:8080/"
        },
        "id": "s1B6K-BwQ1E5",
        "outputId": "04ec709d-7e0b-49c2-ccae-7c7bea311de4"
      },
      "source": [
        "contentSequence"
      ],
      "execution_count": 60,
      "outputs": [
        {
          "output_type": "execute_result",
          "data": {
            "text/plain": [
              "array([[   0,    0,    0, ...,  532,   11, 1668],\n",
              "       [   0,    0,    0, ...,  621, 1051,  168],\n",
              "       [   0,    0,    0, ..., 3820,   11,  369],\n",
              "       ...,\n",
              "       [   0,    0,    0, ..., 1399,   30,   40],\n",
              "       [   0,    0,    0, ...,   30,  115,   90],\n",
              "       [   0,    0,    0, ..., 2164,   10, 7440]], dtype=int32)"
            ]
          },
          "metadata": {
            "tags": []
          },
          "execution_count": 60
        }
      ]
    },
    {
      "cell_type": "markdown",
      "metadata": {
        "id": "ZTb7-2ypQ16S"
      },
      "source": [
        "#Glove Embedding"
      ]
    },
    {
      "cell_type": "code",
      "metadata": {
        "colab": {
          "base_uri": "https://localhost:8080/"
        },
        "id": "UpN09QqBTJf5",
        "outputId": "1004c51b-bc0d-49e0-82f3-6411d4044f6f"
      },
      "source": [
        "from google.colab import drive\n",
        "drive.mount('/content/drive')"
      ],
      "execution_count": 61,
      "outputs": [
        {
          "output_type": "stream",
          "text": [
            "Drive already mounted at /content/drive; to attempt to forcibly remount, call drive.mount(\"/content/drive\", force_remount=True).\n"
          ],
          "name": "stdout"
        }
      ]
    },
    {
      "cell_type": "code",
      "metadata": {
        "id": "Zm4WI8eFQ3MT"
      },
      "source": [
        "# load the whole embedding into memory\n",
        "\n",
        "embeddings_index = {};\n",
        "with open('/content/drive/My Drive/glove.6B.100d.txt') as f:\n",
        "    for line in f:\n",
        "        values = line.split();\n",
        "        word = values[0];\n",
        "        coefs = np.asarray(values[1:], dtype='float32');\n",
        "        embeddings_index[word] = coefs;\n",
        "\n",
        "# create a weight matrix for words\n",
        "\n",
        "embeddings_matrix = np.zeros((vocab_size+1, embedding_dim));\n",
        "for word, i in word_to_index.items():\n",
        "    embedding_vector = embeddings_index.get(word);\n",
        "    if embedding_vector is not None:\n",
        "        embeddings_matrix[i] = embedding_vector;"
      ],
      "execution_count": 62,
      "outputs": []
    },
    {
      "cell_type": "code",
      "metadata": {
        "id": "eB7rE8x7Q72Z"
      },
      "source": [
        "df_lstm =  pd.DataFrame(contentSequence)\n",
        "df_lstm['polarity'] = glovedf['Polarity'].values\n",
        "df_lstm['happy'] = glovedf['Happy'].values\n",
        "df_lstm['angry'] = glovedf['Angry'].values\n",
        "df_lstm['surprise'] = glovedf['Surprise'].values\n",
        "df_lstm['sad'] = glovedf['Sad'].values\n",
        "df_lstm['fear'] = glovedf['Fear'].values"
      ],
      "execution_count": 63,
      "outputs": []
    },
    {
      "cell_type": "code",
      "metadata": {
        "colab": {
          "base_uri": "https://localhost:8080/"
        },
        "id": "_wWR2OTcQ9M3",
        "outputId": "56285abf-3c1a-4df7-e84e-b12bc4fcc74e"
      },
      "source": [
        "df_lstm.shape"
      ],
      "execution_count": 64,
      "outputs": [
        {
          "output_type": "execute_result",
          "data": {
            "text/plain": [
              "(12791, 501)"
            ]
          },
          "metadata": {
            "tags": []
          },
          "execution_count": 64
        }
      ]
    },
    {
      "cell_type": "code",
      "metadata": {
        "id": "VShgaEP5Q-zq"
      },
      "source": [
        "from sklearn.model_selection import train_test_split\n",
        "X_train,X_test,y_train,y_test = train_test_split(df_lstm,y,test_size=0.20,random_state=1)"
      ],
      "execution_count": 65,
      "outputs": []
    },
    {
      "cell_type": "code",
      "metadata": {
        "id": "7rZ9DQrVMCTB"
      },
      "source": [
        "X_train"
      ],
      "execution_count": null,
      "outputs": []
    },
    {
      "cell_type": "code",
      "metadata": {
        "id": "UhRhP6BjGKGe"
      },
      "source": [
        "polarity_xtrain = X_train.polarity.values\n",
        "X_train = X_train.drop([['polarity','happy','angry','surprise','sad','fear' ]], axis=1)"
      ],
      "execution_count": 67,
      "outputs": []
    },
    {
      "cell_type": "code",
      "metadata": {
        "id": "fPnzG-LqGMki"
      },
      "source": [
        "polarity_xtest = X_test.polarity.values\n",
        "X_test = X_test.drop([['polarity','happy','angry','surprise','sad','fear' ]], axis=1)"
      ],
      "execution_count": 68,
      "outputs": []
    },
    {
      "cell_type": "code",
      "metadata": {
        "id": "vaw-TFLlGOr1"
      },
      "source": [
        "xtrain_glove = np.array(X_train)\n",
        "xtest_glove = np.array(X_test)"
      ],
      "execution_count": 69,
      "outputs": []
    },
    {
      "cell_type": "markdown",
      "metadata": {
        "id": "R0uIfgSxRBnk"
      },
      "source": [
        "#Defining Neural Network"
      ]
    },
    {
      "cell_type": "markdown",
      "metadata": {
        "id": "7x-HKptqTTPJ"
      },
      "source": [
        "#LSTM"
      ]
    },
    {
      "cell_type": "markdown",
      "metadata": {
        "id": "Qf_vY0doTTJ3"
      },
      "source": [
        ""
      ]
    },
    {
      "cell_type": "code",
      "metadata": {
        "id": "pn0nXUNoRDgO"
      },
      "source": [
        "#model = Sequential()\n",
        "#Non-trainable embeddidng layer\n",
        "#model.add(Embedding(vocab_size+1, output_dim=embedding_dim, weights=[embeddings_matrix], input_length=max_length, trainable=False))\n",
        "#LSTM \n",
        "#model.add(LSTM(units=64, dropout=0.2))\n",
        "#model.add(Dense(1, activation='sigmoid'))\n",
        "#model.compile(optimizer='adam', loss='binary_crossentropy', metrics=['accuracy'])\n"
      ],
      "execution_count": 70,
      "outputs": []
    },
    {
      "cell_type": "code",
      "metadata": {
        "id": "lS3mP9fhGXo3"
      },
      "source": [
        "#Defining Neural Network\n",
        "model_glove = Sequential()\n",
        "#Non-trainable embeddidng layer\n",
        "model_glove.add(Embedding(vocab_size+1, output_dim=embedding_dim, weights=[embeddings_matrix], input_length=max_length, trainable=False))\n",
        "model_glove.add(Bidirectional(LSTM(units=64)))\n",
        "model_glove.add(Dropout(0.5))\n",
        "model_glove.add(Dense(units=32, name = 'last', activation='sigmoid'))\n",
        "model_glove.add(Dropout(0.2))\n",
        "model_glove.add(Dense(units=1, activation='sigmoid'))\n",
        "model_glove.compile(optimizer='adam', loss='binary_crossentropy', metrics=['accuracy'])"
      ],
      "execution_count": 71,
      "outputs": []
    },
    {
      "cell_type": "code",
      "metadata": {
        "id": "zzW2msUQRFP_",
        "colab": {
          "base_uri": "https://localhost:8080/"
        },
        "outputId": "8ca46d10-531a-4d84-979d-542964f6a46e"
      },
      "source": [
        "model_glove.summary()"
      ],
      "execution_count": 72,
      "outputs": [
        {
          "output_type": "stream",
          "text": [
            "Model: \"sequential\"\n",
            "_________________________________________________________________\n",
            "Layer (type)                 Output Shape              Param #   \n",
            "=================================================================\n",
            "embedding (Embedding)        (None, 500, 100)          1382400   \n",
            "_________________________________________________________________\n",
            "bidirectional (Bidirectional (None, 128)               84480     \n",
            "_________________________________________________________________\n",
            "dropout (Dropout)            (None, 128)               0         \n",
            "_________________________________________________________________\n",
            "last (Dense)                 (None, 32)                4128      \n",
            "_________________________________________________________________\n",
            "dropout_1 (Dropout)          (None, 32)                0         \n",
            "_________________________________________________________________\n",
            "dense (Dense)                (None, 1)                 33        \n",
            "=================================================================\n",
            "Total params: 1,471,041\n",
            "Trainable params: 88,641\n",
            "Non-trainable params: 1,382,400\n",
            "_________________________________________________________________\n"
          ],
          "name": "stdout"
        }
      ]
    },
    {
      "cell_type": "code",
      "metadata": {
        "id": "M9lk9Tx_RG7e",
        "colab": {
          "base_uri": "https://localhost:8080/"
        },
        "outputId": "d020341c-ce38-40ab-e392-5ee55a8a1a94"
      },
      "source": [
        "history = model_glove.fit(X_train, y_train, validation_data = (X_test,y_test) , epochs=10)"
      ],
      "execution_count": 73,
      "outputs": [
        {
          "output_type": "stream",
          "text": [
            "Epoch 1/10\n",
            "320/320 [==============================] - 78s 233ms/step - loss: 0.6990 - accuracy: 0.5359 - val_loss: 0.6700 - val_accuracy: 0.5815\n",
            "Epoch 2/10\n",
            "320/320 [==============================] - 74s 232ms/step - loss: 0.6643 - accuracy: 0.5965 - val_loss: 0.6801 - val_accuracy: 0.5713\n",
            "Epoch 3/10\n",
            "320/320 [==============================] - 76s 237ms/step - loss: 0.6615 - accuracy: 0.6000 - val_loss: 0.6612 - val_accuracy: 0.6131\n",
            "Epoch 4/10\n",
            "320/320 [==============================] - 76s 237ms/step - loss: 0.6486 - accuracy: 0.6246 - val_loss: 0.6641 - val_accuracy: 0.5932\n",
            "Epoch 5/10\n",
            "320/320 [==============================] - 76s 237ms/step - loss: 0.6461 - accuracy: 0.6324 - val_loss: 0.6589 - val_accuracy: 0.6135\n",
            "Epoch 6/10\n",
            "320/320 [==============================] - 76s 238ms/step - loss: 0.6400 - accuracy: 0.6321 - val_loss: 0.6563 - val_accuracy: 0.6213\n",
            "Epoch 7/10\n",
            "320/320 [==============================] - 80s 250ms/step - loss: 0.6308 - accuracy: 0.6415 - val_loss: 0.6578 - val_accuracy: 0.6166\n",
            "Epoch 8/10\n",
            "320/320 [==============================] - 78s 245ms/step - loss: 0.6120 - accuracy: 0.6664 - val_loss: 0.6695 - val_accuracy: 0.6116\n",
            "Epoch 9/10\n",
            "320/320 [==============================] - 77s 242ms/step - loss: 0.6080 - accuracy: 0.6691 - val_loss: 0.6725 - val_accuracy: 0.6131\n",
            "Epoch 10/10\n",
            "320/320 [==============================] - 78s 243ms/step - loss: 0.6093 - accuracy: 0.6742 - val_loss: 0.6872 - val_accuracy: 0.6002\n"
          ],
          "name": "stdout"
        }
      ]
    },
    {
      "cell_type": "code",
      "metadata": {
        "id": "MByRG1GsRJJ5"
      },
      "source": [
        "y_pred_glove = (model_glove.predict(X_test) > 0.5).astype(\"int\")"
      ],
      "execution_count": 74,
      "outputs": []
    },
    {
      "cell_type": "code",
      "metadata": {
        "id": "KY8GfmyMRKgN",
        "colab": {
          "base_uri": "https://localhost:8080/"
        },
        "outputId": "02ed15be-3df7-4806-8439-e8994787724f"
      },
      "source": [
        "print(classification_report(y_test, y_pred_glove, zero_division = 1))"
      ],
      "execution_count": 75,
      "outputs": [
        {
          "output_type": "stream",
          "text": [
            "              precision    recall  f1-score   support\n",
            "\n",
            "         0.0       0.55      0.58      0.57      1155\n",
            "         1.0       0.64      0.62      0.63      1404\n",
            "\n",
            "    accuracy                           0.60      2559\n",
            "   macro avg       0.60      0.60      0.60      2559\n",
            "weighted avg       0.60      0.60      0.60      2559\n",
            "\n"
          ],
          "name": "stdout"
        }
      ]
    },
    {
      "cell_type": "code",
      "metadata": {
        "id": "UgB0c5_WIKs8"
      },
      "source": [
        "temp_model =  Model(model_glove.inputs, model_glove.get_layer('last').output)"
      ],
      "execution_count": 76,
      "outputs": []
    },
    {
      "cell_type": "code",
      "metadata": {
        "id": "FpKco2r0IOHt"
      },
      "source": [
        "historytrain = temp_model.predict(X_train)"
      ],
      "execution_count": 77,
      "outputs": []
    },
    {
      "cell_type": "code",
      "metadata": {
        "id": "JJNwzqdWIPPH"
      },
      "source": [
        "historytest = temp_model.predict(X_test)"
      ],
      "execution_count": 78,
      "outputs": []
    },
    {
      "cell_type": "code",
      "metadata": {
        "id": "i27ryC0NIQL3"
      },
      "source": [
        "temp_xtrain = pd.DataFrame(historytrain)"
      ],
      "execution_count": 79,
      "outputs": []
    },
    {
      "cell_type": "code",
      "metadata": {
        "id": "FmFjx1YeIRCe"
      },
      "source": [
        "temp_xtest = pd.DataFrame(historytest)"
      ],
      "execution_count": 80,
      "outputs": []
    },
    {
      "cell_type": "code",
      "metadata": {
        "id": "4hpfP3-OISJP"
      },
      "source": [
        "temp_xtrain['polarity'] = polarity_xtrain"
      ],
      "execution_count": 81,
      "outputs": []
    },
    {
      "cell_type": "code",
      "metadata": {
        "id": "6pXJB9j_ITLg"
      },
      "source": [
        "temp_xtest['polarity'] = polarity_xtest"
      ],
      "execution_count": 82,
      "outputs": []
    },
    {
      "cell_type": "code",
      "metadata": {
        "id": "vnrTneLsIUgc"
      },
      "source": [
        "model_glove2 = Sequential()\n",
        "model_glove2.add(Input(shape = (33)))\n",
        "#LSTM\n",
        "model_glove2.add(Dense(units = 32 , activation = 'relu'))\n",
        "model_glove2.add(Dense(1, activation='sigmoid'))\n",
        "model_glove2.compile(optimizer='Adam', loss='binary_crossentropy', metrics=['accuracy'])"
      ],
      "execution_count": 83,
      "outputs": []
    },
    {
      "cell_type": "code",
      "metadata": {
        "id": "dfXrLTinPwYF",
        "colab": {
          "base_uri": "https://localhost:8080/"
        },
        "outputId": "c0251f4f-7c12-4989-9235-604e30588ae3"
      },
      "source": [
        "model_glove2.summary()"
      ],
      "execution_count": 84,
      "outputs": [
        {
          "output_type": "stream",
          "text": [
            "Model: \"sequential_1\"\n",
            "_________________________________________________________________\n",
            "Layer (type)                 Output Shape              Param #   \n",
            "=================================================================\n",
            "dense_1 (Dense)              (None, 32)                1088      \n",
            "_________________________________________________________________\n",
            "dense_2 (Dense)              (None, 1)                 33        \n",
            "=================================================================\n",
            "Total params: 1,121\n",
            "Trainable params: 1,121\n",
            "Non-trainable params: 0\n",
            "_________________________________________________________________\n"
          ],
          "name": "stdout"
        }
      ]
    },
    {
      "cell_type": "code",
      "metadata": {
        "colab": {
          "base_uri": "https://localhost:8080/"
        },
        "id": "FhFpliKEPtw_",
        "outputId": "d12cef80-4c69-46c6-bb02-5cca6f9bd13b"
      },
      "source": [
        "model2train = model_glove2.fit(temp_xtrain, y_train, validation_data = (temp_xtest,y_test) , epochs=20)"
      ],
      "execution_count": 85,
      "outputs": [
        {
          "output_type": "stream",
          "text": [
            "Epoch 1/20\n",
            "320/320 [==============================] - 1s 2ms/step - loss: 0.5984 - accuracy: 0.6948 - val_loss: 0.7045 - val_accuracy: 0.6092\n",
            "Epoch 2/20\n",
            "320/320 [==============================] - 1s 2ms/step - loss: 0.5612 - accuracy: 0.7127 - val_loss: 0.6990 - val_accuracy: 0.6100\n",
            "Epoch 3/20\n",
            "320/320 [==============================] - 1s 2ms/step - loss: 0.5651 - accuracy: 0.7132 - val_loss: 0.7056 - val_accuracy: 0.6116\n",
            "Epoch 4/20\n",
            "320/320 [==============================] - 1s 2ms/step - loss: 0.5612 - accuracy: 0.7192 - val_loss: 0.7086 - val_accuracy: 0.6049\n",
            "Epoch 5/20\n",
            "320/320 [==============================] - 1s 2ms/step - loss: 0.5676 - accuracy: 0.7081 - val_loss: 0.7145 - val_accuracy: 0.6081\n",
            "Epoch 6/20\n",
            "320/320 [==============================] - 0s 2ms/step - loss: 0.5552 - accuracy: 0.7229 - val_loss: 0.7035 - val_accuracy: 0.6081\n",
            "Epoch 7/20\n",
            "320/320 [==============================] - 0s 2ms/step - loss: 0.5715 - accuracy: 0.7077 - val_loss: 0.7120 - val_accuracy: 0.6069\n",
            "Epoch 8/20\n",
            "320/320 [==============================] - 0s 2ms/step - loss: 0.5642 - accuracy: 0.7065 - val_loss: 0.7076 - val_accuracy: 0.6081\n",
            "Epoch 9/20\n",
            "320/320 [==============================] - 0s 1ms/step - loss: 0.5551 - accuracy: 0.7178 - val_loss: 0.6967 - val_accuracy: 0.6073\n",
            "Epoch 10/20\n",
            "320/320 [==============================] - 0s 1ms/step - loss: 0.5675 - accuracy: 0.7054 - val_loss: 0.7169 - val_accuracy: 0.6081\n",
            "Epoch 11/20\n",
            "320/320 [==============================] - 0s 1ms/step - loss: 0.5594 - accuracy: 0.7157 - val_loss: 0.6943 - val_accuracy: 0.6081\n",
            "Epoch 12/20\n",
            "320/320 [==============================] - 0s 1ms/step - loss: 0.5681 - accuracy: 0.7085 - val_loss: 0.7098 - val_accuracy: 0.6081\n",
            "Epoch 13/20\n",
            "320/320 [==============================] - 0s 1ms/step - loss: 0.5706 - accuracy: 0.7045 - val_loss: 0.7126 - val_accuracy: 0.6081\n",
            "Epoch 14/20\n",
            "320/320 [==============================] - 0s 1ms/step - loss: 0.5623 - accuracy: 0.7162 - val_loss: 0.7104 - val_accuracy: 0.6073\n",
            "Epoch 15/20\n",
            "320/320 [==============================] - 0s 1ms/step - loss: 0.5591 - accuracy: 0.7145 - val_loss: 0.7182 - val_accuracy: 0.6084\n",
            "Epoch 16/20\n",
            "320/320 [==============================] - 0s 1ms/step - loss: 0.5609 - accuracy: 0.7151 - val_loss: 0.7047 - val_accuracy: 0.6069\n",
            "Epoch 17/20\n",
            "320/320 [==============================] - 0s 1ms/step - loss: 0.5611 - accuracy: 0.7145 - val_loss: 0.7097 - val_accuracy: 0.6084\n",
            "Epoch 18/20\n",
            "320/320 [==============================] - 0s 1ms/step - loss: 0.5479 - accuracy: 0.7260 - val_loss: 0.6991 - val_accuracy: 0.6053\n",
            "Epoch 19/20\n",
            "320/320 [==============================] - 0s 1ms/step - loss: 0.5538 - accuracy: 0.7206 - val_loss: 0.7105 - val_accuracy: 0.6069\n",
            "Epoch 20/20\n",
            "320/320 [==============================] - 0s 1ms/step - loss: 0.5599 - accuracy: 0.7136 - val_loss: 0.7189 - val_accuracy: 0.6077\n"
          ],
          "name": "stdout"
        }
      ]
    },
    {
      "cell_type": "code",
      "metadata": {
        "id": "usk2J_UqIY_w"
      },
      "source": [
        "y_pred_glove = (model_glove2.predict(temp_xtest) > 0.5).astype(\"int\")"
      ],
      "execution_count": 86,
      "outputs": []
    },
    {
      "cell_type": "code",
      "metadata": {
        "colab": {
          "base_uri": "https://localhost:8080/"
        },
        "id": "zOaAP5_6IaCj",
        "outputId": "0953770a-ced6-4bd9-82c5-eeb0b9f1a480"
      },
      "source": [
        "print(classification_report(y_test, y_pred_glove, zero_division = 1))\n",
        "print(confusion_matrix(y_test, y_pred_glove))"
      ],
      "execution_count": 89,
      "outputs": [
        {
          "output_type": "stream",
          "text": [
            "              precision    recall  f1-score   support\n",
            "\n",
            "         0.0       0.57      0.55      0.56      1155\n",
            "         1.0       0.64      0.65      0.65      1404\n",
            "\n",
            "    accuracy                           0.61      2559\n",
            "   macro avg       0.60      0.60      0.60      2559\n",
            "weighted avg       0.61      0.61      0.61      2559\n",
            "\n",
            "[[638 517]\n",
            " [487 917]]\n"
          ],
          "name": "stdout"
        }
      ]
    },
    {
      "cell_type": "code",
      "metadata": {
        "id": "9KvzLmNhRLvu",
        "colab": {
          "base_uri": "https://localhost:8080/",
          "height": 541
        },
        "outputId": "93234601-a6e3-4089-d78d-b78c0814fd70"
      },
      "source": [
        "#plot accuracy and loss\n",
        "def plot_graphs(history2, string):\n",
        "  plt.plot(history.history[string])\n",
        "  plt.plot(history.history['val_'+string])\n",
        "  plt.xlabel(\"Epochs\")\n",
        "  plt.ylabel(string)\n",
        "  plt.legend([string, 'val_'+string])\n",
        "  plt.show()\n",
        "  \n",
        "plot_graphs(history, \"accuracy\")\n",
        "plot_graphs(history, \"loss\")"
      ],
      "execution_count": 91,
      "outputs": [
        {
          "output_type": "display_data",
          "data": {
            "image/png": "[encoded data removed]",
            "text/plain": [
              "<Figure size 432x288 with 1 Axes>"
            ]
          },
          "metadata": {
            "tags": [],
            "needs_background": "light"
          }
        },
        {
          "output_type": "display_data",
          "data": {
            "image/png": "[encoded data removed]",
            "text/plain": [
              "<Figure size 432x288 with 1 Axes>"
            ]
          },
          "metadata": {
            "tags": [],
            "needs_background": "light"
          }
        }
      ]
    },
    {
      "cell_type": "code",
      "metadata": {
        "id": "iRnEAmqrn_Ud"
      },
      "source": [
        "from tensorflow.keras.layers import Bidirectional\n",
        "# Creating bidirectional lstm model\n",
        "model_bilstm=Sequential()\n",
        "model_bilstm.add(Embedding(vocab_size+1, output_dim=embedding_dim, weights=[embeddings_matrix], input_length=max_length, trainable=False))\n",
        "model_bilstm.add(Bidirectional(LSTM(units=64))) # Bidirectional LSTM layer\n",
        "model_bilstm.add(Dropout(0.5))\n",
        "model_bilstm.add(Dense(32,activation='relu'))\n",
        "model_bilstm.add(Dense(1,activation='sigmoid'))\n",
        "model_bilstm.compile(loss='binary_crossentropy',optimizer='adam',metrics=['accuracy'])"
      ],
      "execution_count": 93,
      "outputs": []
    },
    {
      "cell_type": "code",
      "metadata": {
        "colab": {
          "base_uri": "https://localhost:8080/"
        },
        "id": "3hEH4yS5kyl0",
        "outputId": "b159159a-1818-40f3-8744-b4225cc6e31e"
      },
      "source": [
        "# Fitting the model\n",
        "history_bilstm = model_bilstm.fit(xtrain_glove, y_train, validation_data = (xtest_glove,y_test) , epochs=10)"
      ],
      "execution_count": 94,
      "outputs": [
        {
          "output_type": "stream",
          "text": [
            "Epoch 1/10\n",
            "320/320 [==============================] - 82s 246ms/step - loss: 0.6839 - accuracy: 0.5576 - val_loss: 0.6742 - val_accuracy: 0.5807\n",
            "Epoch 2/10\n",
            "320/320 [==============================] - 78s 245ms/step - loss: 0.6626 - accuracy: 0.6077 - val_loss: 0.6659 - val_accuracy: 0.5932\n",
            "Epoch 3/10\n",
            "320/320 [==============================] - 80s 251ms/step - loss: 0.6495 - accuracy: 0.6140 - val_loss: 0.6597 - val_accuracy: 0.6081\n",
            "Epoch 4/10\n",
            "320/320 [==============================] - 80s 251ms/step - loss: 0.6482 - accuracy: 0.6197 - val_loss: 0.6615 - val_accuracy: 0.6104\n",
            "Epoch 5/10\n",
            "320/320 [==============================] - 77s 241ms/step - loss: 0.6424 - accuracy: 0.6301 - val_loss: 0.6570 - val_accuracy: 0.6112\n",
            "Epoch 6/10\n",
            "320/320 [==============================] - 78s 244ms/step - loss: 0.6388 - accuracy: 0.6436 - val_loss: 0.6571 - val_accuracy: 0.6155\n",
            "Epoch 7/10\n",
            "320/320 [==============================] - 79s 246ms/step - loss: 0.6308 - accuracy: 0.6422 - val_loss: 0.6589 - val_accuracy: 0.6084\n",
            "Epoch 8/10\n",
            "320/320 [==============================] - 79s 245ms/step - loss: 0.6226 - accuracy: 0.6538 - val_loss: 0.6572 - val_accuracy: 0.6123\n",
            "Epoch 9/10\n",
            "320/320 [==============================] - 78s 244ms/step - loss: 0.6062 - accuracy: 0.6734 - val_loss: 0.6659 - val_accuracy: 0.6084\n",
            "Epoch 10/10\n",
            "320/320 [==============================] - 80s 251ms/step - loss: 0.5955 - accuracy: 0.6869 - val_loss: 0.6703 - val_accuracy: 0.6123\n"
          ],
          "name": "stdout"
        }
      ]
    },
    {
      "cell_type": "code",
      "metadata": {
        "id": "H9y4MEmmoEx2",
        "colab": {
          "base_uri": "https://localhost:8080/"
        },
        "outputId": "ce839f9f-b354-46ad-a598-8678e28ff27b"
      },
      "source": [
        "from sklearn.metrics import plot_confusion_matrix\n",
        "# Predicting from test dataset\n",
        "y_pred_bilstm=(model_bilstm.predict(X_test)> 0.5).astype(\"int\")\n",
        "\n",
        "print(classification_report(y_test, y_pred_bilstm, zero_division = 1))\n",
        "print(confusion_matrix(y_test, y_pred_glove))"
      ],
      "execution_count": 96,
      "outputs": [
        {
          "output_type": "stream",
          "text": [
            "              precision    recall  f1-score   support\n",
            "\n",
            "         0.0       0.58      0.49      0.53      1155\n",
            "         1.0       0.63      0.72      0.67      1404\n",
            "\n",
            "    accuracy                           0.61      2559\n",
            "   macro avg       0.61      0.60      0.60      2559\n",
            "weighted avg       0.61      0.61      0.61      2559\n",
            "\n",
            "[[638 517]\n",
            " [487 917]]\n"
          ],
          "name": "stdout"
        }
      ]
    },
    {
      "cell_type": "code",
      "metadata": {
        "colab": {
          "base_uri": "https://localhost:8080/",
          "height": 541
        },
        "id": "21sfxHLhKIRd",
        "outputId": "9f5c86fa-a414-4922-9830-e0c1f6da7593"
      },
      "source": [
        "#plot accuracy and loss\n",
        "def plot_graphs(history2, string):\n",
        "  plt.plot(history_bilstm.history[string])\n",
        "  plt.plot(history_bilstm.history['val_'+string])\n",
        "  plt.xlabel(\"Epochs\")\n",
        "  plt.ylabel(string)\n",
        "  plt.legend([string, 'val_'+string])\n",
        "  plt.show()\n",
        "  \n",
        "plot_graphs(history_bilstm, \"accuracy\")\n",
        "plot_graphs(history_bilstm, \"loss\")"
      ],
      "execution_count": 97,
      "outputs": [
        {
          "output_type": "display_data",
          "data": {
            "image/png": "[encoded data removed]",
            "text/plain": [
              "<Figure size 432x288 with 1 Axes>"
            ]
          },
          "metadata": {
            "tags": [],
            "needs_background": "light"
          }
        },
        {
          "output_type": "display_data",
          "data": {
            "image/png": "[encoded data removed]",
            "text/plain": [
              "<Figure size 432x288 with 1 Axes>"
            ]
          },
          "metadata": {
            "tags": [],
            "needs_background": "light"
          }
        }
      ]
    },
    {
      "cell_type": "code",
      "metadata": {
        "id": "j7PGpheuPHGX"
      },
      "source": [
        ""
      ],
      "execution_count": null,
      "outputs": []
    }
  ]
}