{
  "nbformat": 4,
  "nbformat_minor": 0,
  "metadata": {
    "kernelspec": {
      "display_name": "Python 3",
      "language": "python",
      "name": "python3"
    },
    "language_info": {
      "codemirror_mode": {
        "name": "ipython",
        "version": 3
      },
      "file_extension": ".py",
      "mimetype": "text/x-python",
      "name": "python",
      "nbconvert_exporter": "python",
      "pygments_lexer": "ipython3",
      "version": "3.8.3"
    },
    "colab": {
      "name": "liardatasetwithword2vec.ipynb",
      "provenance": [],
      "collapsed_sections": [
        "nvk6GRdDl327",
        "72ddskS2l32-",
        "aql4-Xzel33B",
        "Uiv1ndt_l33E"
      ],
      "toc_visible": true
    },
    "accelerator": "GPU"
  },
  "cells": [
    {
      "cell_type": "markdown",
      "metadata": {
        "id": "m3vknPfol32Z"
      },
      "source": [
        "# Import Libraries"
      ]
    },
    {
      "cell_type": "code",
      "metadata": {
        "id": "JKKnvWeHl32o"
      },
      "source": [
        "import pandas as pd\n",
        "import numpy as np\n",
        "import seaborn as sb\n",
        "import nltk\n",
        "import re\n",
        "import matplotlib.pyplot as plt\n",
        "# Import word_tokenize and stopwords from nltk\n",
        "from nltk.corpus import stopwords\n",
        "from nltk.tokenize import word_tokenize\n",
        "from nltk.stem import WordNetLemmatizer\n",
        "\n",
        "from sklearn.feature_extraction.text import CountVectorizer\n",
        "from sklearn.feature_extraction.text import TfidfTransformer, TfidfVectorizer\n",
        "\n",
        "import nltk\n",
        "import nltk.corpus\n",
        "from gensim.models.word2vec import Word2Vec\n",
        "from sklearn.pipeline import Pipeline\n",
        "\n",
        "from sklearn.linear_model import LogisticRegression\n",
        "from sklearn.tree import DecisionTreeClassifier\n",
        "from sklearn.ensemble import RandomForestClassifier\n",
        "from sklearn.naive_bayes import MultinomialNB\n",
        "from sklearn import svm\n",
        "from sklearn.svm import LinearSVC\n",
        "\n",
        "from sklearn.metrics import confusion_matrix, f1_score, classification_report"
      ],
      "execution_count": null,
      "outputs": []
    },
    {
      "cell_type": "code",
      "metadata": {
        "id": "I2ZbflIVl32r"
      },
      "source": [
        "from keras.models import Model\n",
        "from keras.layers import LSTM, Activation, Dense, Dropout, Input, Embedding\n",
        "from keras.optimizers import RMSprop\n",
        "from keras.preprocessing.text import Tokenizer\n",
        "from keras.preprocessing import sequence\n",
        "from keras.utils import to_categorical\n",
        "from keras.callbacks import EarlyStopping\n",
        "from tensorflow.keras.models import Sequential"
      ],
      "execution_count": null,
      "outputs": []
    },
    {
      "cell_type": "code",
      "metadata": {
        "colab": {
          "resources": {
            "http://localhost:8080/nbextensions/google.colab/files.js": {
              "data": "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",
              "ok": true,
              "headers": [
                [
                  "content-type",
                  "application/javascript"
                ]
              ],
              "status": 200,
              "status_text": ""
            }
          },
          "base_uri": "https://localhost:8080/",
          "height": 108
        },
        "id": "y0_OjFjUqLQF",
        "outputId": "8eb850e0-72b5-46a2-bd56-530d6fe771bb"
      },
      "source": [
        "from google.colab import files\r\n",
        "uploaded = files.upload()"
      ],
      "execution_count": null,
      "outputs": [
        {
          "output_type": "display_data",
          "data": {
            "text/html": [
              "\n",
              "     <input type=\"file\" id=\"files-0449474e-e175-4d65-adbe-d6b43804efdd\" name=\"files[]\" multiple disabled\n",
              "        style=\"border:none\" />\n",
              "     <output id=\"result-0449474e-e175-4d65-adbe-d6b43804efdd\">\n",
              "      Upload widget is only available when the cell has been executed in the\n",
              "      current browser session. Please rerun this cell to enable.\n",
              "      </output>\n",
              "      <script src=\"/nbextensions/google.colab/files.js\"></script> "
            ],
            "text/plain": [
              "<IPython.core.display.HTML object>"
            ]
          },
          "metadata": {
            "tags": []
          }
        },
        {
          "output_type": "stream",
          "text": [
            "Saving test.csv to test.csv\n",
            "Saving train.csv to train.csv\n"
          ],
          "name": "stdout"
        }
      ]
    },
    {
      "cell_type": "markdown",
      "metadata": {
        "id": "IMGFtK4Ll32s"
      },
      "source": [
        "# Import dataset"
      ]
    },
    {
      "cell_type": "code",
      "metadata": {
        "id": "AnGNDsL5l32t"
      },
      "source": [
        "test = pd.read_csv('test.csv')\n",
        "train = pd.read_csv('train.csv')\n"
      ],
      "execution_count": null,
      "outputs": []
    },
    {
      "cell_type": "code",
      "metadata": {
        "colab": {
          "base_uri": "https://localhost:8080/"
        },
        "id": "v1iGSaqhl32u",
        "outputId": "4e2ab60d-bb91-49c7-8ae8-6db4e5079e43"
      },
      "source": [
        "# Shape of each set\n",
        "\n",
        "print(\"Shape of TRAIN DATA: \", train.shape)\n",
        "print(\"Shape of TEST DATA: \", test.shape)"
      ],
      "execution_count": null,
      "outputs": [
        {
          "output_type": "stream",
          "text": [
            "Shape of TRAIN DATA:  (10240, 2)\n",
            "Shape of TEST DATA:  (2551, 2)\n"
          ],
          "name": "stdout"
        }
      ]
    },
    {
      "cell_type": "code",
      "metadata": {
        "colab": {
          "base_uri": "https://localhost:8080/",
          "height": 202
        },
        "id": "usJfJyC2l32x",
        "outputId": "98d58714-7a25-4492-f5ef-a2692b113160"
      },
      "source": [
        "test.head()"
      ],
      "execution_count": null,
      "outputs": [
        {
          "output_type": "execute_result",
          "data": {
            "text/html": [
              "<div>\n",
              "<style scoped>\n",
              "    .dataframe tbody tr th:only-of-type {\n",
              "        vertical-align: middle;\n",
              "    }\n",
              "\n",
              "    .dataframe tbody tr th {\n",
              "        vertical-align: top;\n",
              "    }\n",
              "\n",
              "    .dataframe thead th {\n",
              "        text-align: right;\n",
              "    }\n",
              "</style>\n",
              "<table border=\"1\" class=\"dataframe\">\n",
              "  <thead>\n",
              "    <tr style=\"text-align: right;\">\n",
              "      <th></th>\n",
              "      <th>Statement</th>\n",
              "      <th>Label</th>\n",
              "    </tr>\n",
              "  </thead>\n",
              "  <tbody>\n",
              "    <tr>\n",
              "      <th>0</th>\n",
              "      <td>Building a wall on the U.S.-Mexico border will...</td>\n",
              "      <td>True</td>\n",
              "    </tr>\n",
              "    <tr>\n",
              "      <th>1</th>\n",
              "      <td>Wisconsin is on pace to double the number of l...</td>\n",
              "      <td>False</td>\n",
              "    </tr>\n",
              "    <tr>\n",
              "      <th>2</th>\n",
              "      <td>Says John McCain has done nothing to help the ...</td>\n",
              "      <td>False</td>\n",
              "    </tr>\n",
              "    <tr>\n",
              "      <th>3</th>\n",
              "      <td>Suzanne Bonamici supports a plan that will cut...</td>\n",
              "      <td>True</td>\n",
              "    </tr>\n",
              "    <tr>\n",
              "      <th>4</th>\n",
              "      <td>When asked by a reporter whether hes at the ce...</td>\n",
              "      <td>False</td>\n",
              "    </tr>\n",
              "  </tbody>\n",
              "</table>\n",
              "</div>"
            ],
            "text/plain": [
              "                                           Statement  Label\n",
              "0  Building a wall on the U.S.-Mexico border will...   True\n",
              "1  Wisconsin is on pace to double the number of l...  False\n",
              "2  Says John McCain has done nothing to help the ...  False\n",
              "3  Suzanne Bonamici supports a plan that will cut...   True\n",
              "4  When asked by a reporter whether hes at the ce...  False"
            ]
          },
          "metadata": {
            "tags": []
          },
          "execution_count": 31
        }
      ]
    },
    {
      "cell_type": "code",
      "metadata": {
        "colab": {
          "base_uri": "https://localhost:8080/",
          "height": 202
        },
        "id": "hHRPFvj-l32z",
        "outputId": "72e06d86-acbc-478a-9c30-fd5ca8b047fc"
      },
      "source": [
        "train.head()"
      ],
      "execution_count": null,
      "outputs": [
        {
          "output_type": "execute_result",
          "data": {
            "text/html": [
              "<div>\n",
              "<style scoped>\n",
              "    .dataframe tbody tr th:only-of-type {\n",
              "        vertical-align: middle;\n",
              "    }\n",
              "\n",
              "    .dataframe tbody tr th {\n",
              "        vertical-align: top;\n",
              "    }\n",
              "\n",
              "    .dataframe thead th {\n",
              "        text-align: right;\n",
              "    }\n",
              "</style>\n",
              "<table border=\"1\" class=\"dataframe\">\n",
              "  <thead>\n",
              "    <tr style=\"text-align: right;\">\n",
              "      <th></th>\n",
              "      <th>Statement</th>\n",
              "      <th>Label</th>\n",
              "    </tr>\n",
              "  </thead>\n",
              "  <tbody>\n",
              "    <tr>\n",
              "      <th>0</th>\n",
              "      <td>Says the Annies List political group supports ...</td>\n",
              "      <td>False</td>\n",
              "    </tr>\n",
              "    <tr>\n",
              "      <th>1</th>\n",
              "      <td>When did the decline of coal start? It started...</td>\n",
              "      <td>True</td>\n",
              "    </tr>\n",
              "    <tr>\n",
              "      <th>2</th>\n",
              "      <td>Hillary Clinton agrees with John McCain \"by vo...</td>\n",
              "      <td>True</td>\n",
              "    </tr>\n",
              "    <tr>\n",
              "      <th>3</th>\n",
              "      <td>Health care reform legislation is likely to ma...</td>\n",
              "      <td>False</td>\n",
              "    </tr>\n",
              "    <tr>\n",
              "      <th>4</th>\n",
              "      <td>The economic turnaround started at the end of ...</td>\n",
              "      <td>True</td>\n",
              "    </tr>\n",
              "  </tbody>\n",
              "</table>\n",
              "</div>"
            ],
            "text/plain": [
              "                                           Statement  Label\n",
              "0  Says the Annies List political group supports ...  False\n",
              "1  When did the decline of coal start? It started...   True\n",
              "2  Hillary Clinton agrees with John McCain \"by vo...   True\n",
              "3  Health care reform legislation is likely to ma...  False\n",
              "4  The economic turnaround started at the end of ...   True"
            ]
          },
          "metadata": {
            "tags": []
          },
          "execution_count": 33
        }
      ]
    },
    {
      "cell_type": "code",
      "metadata": {
        "id": "I584Axm1l320"
      },
      "source": [
        "# Saving the original Data for future\n",
        "\n",
        "train_orig = train.copy()\n",
        "test_orig = test.copy()"
      ],
      "execution_count": null,
      "outputs": []
    },
    {
      "cell_type": "markdown",
      "metadata": {
        "id": "cQeAp4P2l321"
      },
      "source": [
        "# Text Pre-Processing"
      ]
    },
    {
      "cell_type": "code",
      "metadata": {
        "id": "2sxHjWGEl322"
      },
      "source": [
        "def process_statements(text):\n",
        "    \n",
        "    # Tokenize the words\n",
        "    tokenized = word_tokenize(text)\n",
        "\n",
        "    # Remove the stop words\n",
        "    tokenized = [token for token in tokenized if token not in stopwords.words(\"english\")] \n",
        "\n",
        "    # Lemmatize the words, changing text to lowercase\n",
        "    lemmatizer = WordNetLemmatizer()\n",
        "    tokenized = [lemmatizer.lemmatize(token.lower(), pos='a') for token in tokenized]\n",
        "\n",
        "    # Remove non-alphabetic characters and keep the words contains three or more letters\n",
        "    tokenized = [token for token in tokenized if token.isalpha() and len(token)>2]\n",
        "    \n",
        "    return tokenized\n",
        "    \n",
        "# Call the function and store the result into a new column\n",
        "#train[\"Processed\"] = train['Statement'].str.lower().apply(process_statements)\n",
        "\n",
        "# Print the first fifteen rows of Processed\n",
        "#display(train[[\"Processed\"]].head(15))"
      ],
      "execution_count": null,
      "outputs": []
    },
    {
      "cell_type": "code",
      "metadata": {
        "id": "qoUF6Xjil323"
      },
      "source": [
        "#def tokenize(self, tokenizer=nltk.word_tokenize):\n",
        "     #   def tokenize_row(row):\n",
        "      #      row[\"text\"] = tokenizer(row[\"text\"])\n",
        "      #      row[\"tokenized_text\"] = [] + row[\"text\"]\n",
        "        #    return row"
      ],
      "execution_count": null,
      "outputs": []
    },
    {
      "cell_type": "code",
      "metadata": {
        "id": "XPAJgIytl323",
        "outputId": "ae4d23ff-5e13-4f7b-81b3-77fc03383d7e"
      },
      "source": [
        "train.head()"
      ],
      "execution_count": null,
      "outputs": [
        {
          "output_type": "execute_result",
          "data": {
            "text/html": [
              "<div>\n",
              "<style scoped>\n",
              "    .dataframe tbody tr th:only-of-type {\n",
              "        vertical-align: middle;\n",
              "    }\n",
              "\n",
              "    .dataframe tbody tr th {\n",
              "        vertical-align: top;\n",
              "    }\n",
              "\n",
              "    .dataframe thead th {\n",
              "        text-align: right;\n",
              "    }\n",
              "</style>\n",
              "<table border=\"1\" class=\"dataframe\">\n",
              "  <thead>\n",
              "    <tr style=\"text-align: right;\">\n",
              "      <th></th>\n",
              "      <th>Statement</th>\n",
              "      <th>Label</th>\n",
              "      <th>Processed</th>\n",
              "    </tr>\n",
              "  </thead>\n",
              "  <tbody>\n",
              "    <tr>\n",
              "      <th>0</th>\n",
              "      <td>Says the Annies List political group supports ...</td>\n",
              "      <td>False</td>\n",
              "      <td>[says, annies, list, political, group, support...</td>\n",
              "    </tr>\n",
              "    <tr>\n",
              "      <th>1</th>\n",
              "      <td>When did the decline of coal start? It started...</td>\n",
              "      <td>True</td>\n",
              "      <td>[decline, coal, start, started, natural, gas, ...</td>\n",
              "    </tr>\n",
              "    <tr>\n",
              "      <th>2</th>\n",
              "      <td>Hillary Clinton agrees with John McCain \"by vo...</td>\n",
              "      <td>True</td>\n",
              "      <td>[hillary, clinton, agrees, john, mccain, votin...</td>\n",
              "    </tr>\n",
              "    <tr>\n",
              "      <th>3</th>\n",
              "      <td>Health care reform legislation is likely to ma...</td>\n",
              "      <td>False</td>\n",
              "      <td>[health, care, reform, legislation, likely, ma...</td>\n",
              "    </tr>\n",
              "    <tr>\n",
              "      <th>4</th>\n",
              "      <td>The economic turnaround started at the end of ...</td>\n",
              "      <td>True</td>\n",
              "      <td>[economic, turnaround, started, end, term]</td>\n",
              "    </tr>\n",
              "  </tbody>\n",
              "</table>\n",
              "</div>"
            ],
            "text/plain": [
              "                                           Statement  Label  \\\n",
              "0  Says the Annies List political group supports ...  False   \n",
              "1  When did the decline of coal start? It started...   True   \n",
              "2  Hillary Clinton agrees with John McCain \"by vo...   True   \n",
              "3  Health care reform legislation is likely to ma...  False   \n",
              "4  The economic turnaround started at the end of ...   True   \n",
              "\n",
              "                                           Processed  \n",
              "0  [says, annies, list, political, group, support...  \n",
              "1  [decline, coal, start, started, natural, gas, ...  \n",
              "2  [hillary, clinton, agrees, john, mccain, votin...  \n",
              "3  [health, care, reform, legislation, likely, ma...  \n",
              "4         [economic, turnaround, started, end, term]  "
            ]
          },
          "metadata": {
            "tags": []
          },
          "execution_count": 16
        }
      ]
    },
    {
      "cell_type": "code",
      "metadata": {
        "id": "wnIO-Sysl324"
      },
      "source": [
        "#from sklearn.model_selection import train_test_split\n",
        "#Train test split\n",
        "#X_train, X_test, y_train, y_test = train_test_split(train[\"Statement\"], train[\"Label\"], test_size=0.25)"
      ],
      "execution_count": null,
      "outputs": []
    },
    {
      "cell_type": "code",
      "metadata": {
        "id": "A8S3kcaKl325"
      },
      "source": [
        "X_train = train[\"Statement\"]\n",
        "X_test = test[\"Statement\"]\n",
        "y_train = train[\"Label\"]\n",
        "y_test = test[\"Label\"]"
      ],
      "execution_count": null,
      "outputs": []
    },
    {
      "cell_type": "code",
      "metadata": {
        "colab": {
          "base_uri": "https://localhost:8080/"
        },
        "id": "WLZvTkf0l326",
        "outputId": "d9768421-7902-44e6-8ac6-8c3ea9e6b7ce"
      },
      "source": [
        ">>> import nltk\n",
        ">>> nltk.download('punkt')\n",
        ">>> nltk.download('stopwords')\n",
        ">>> nltk.download('wordnet')\n",
        "\n",
        "# Vectorize the text so the models can actually interpret it\n",
        "vectorizer = TfidfVectorizer(analyzer=process_statements)\n",
        "x_train_vectorized = vectorizer.fit_transform(X_train)\n",
        "x_test_vectorized = vectorizer.transform(X_test)"
      ],
      "execution_count": null,
      "outputs": [
        {
          "output_type": "stream",
          "text": [
            "[nltk_data] Downloading package punkt to /root/nltk_data...\n",
            "[nltk_data]   Unzipping tokenizers/punkt.zip.\n",
            "[nltk_data] Downloading package stopwords to /root/nltk_data...\n",
            "[nltk_data]   Unzipping corpora/stopwords.zip.\n",
            "[nltk_data] Downloading package wordnet to /root/nltk_data...\n",
            "[nltk_data]   Unzipping corpora/wordnet.zip.\n"
          ],
          "name": "stdout"
        }
      ]
    },
    {
      "cell_type": "code",
      "metadata": {
        "colab": {
          "base_uri": "https://localhost:8080/"
        },
        "id": "uCjbP7nRl326",
        "outputId": "3f2907ce-acf1-4949-e059-35a2d19ffa8e"
      },
      "source": [
        "print (x_train_vectorized.shape)\n",
        "print (x_test_vectorized.shape)\n",
        "print (y_train.shape)\n",
        "print (y_test.shape)"
      ],
      "execution_count": null,
      "outputs": [
        {
          "output_type": "stream",
          "text": [
            "(10240, 11179)\n",
            "(2551, 11179)\n",
            "(10240,)\n",
            "(2551,)\n"
          ],
          "name": "stdout"
        }
      ]
    },
    {
      "cell_type": "markdown",
      "metadata": {
        "id": "nvk6GRdDl327"
      },
      "source": [
        "# Logistic Regression"
      ]
    },
    {
      "cell_type": "code",
      "metadata": {
        "colab": {
          "base_uri": "https://localhost:8080/"
        },
        "id": "ZL6ULasAl328",
        "outputId": "5286e62f-2f1c-4c33-f068-de5e0274d507"
      },
      "source": [
        "log_reg = LogisticRegression()\n",
        "log_reg.fit(x_train_vectorized, y_train)\n",
        "logR_predicted = log_reg.predict(x_test_vectorized)\n",
        "print(f\"{log_reg.__class__.__name__} accuracy: {log_reg.score(x_test_vectorized, y_test)}\")"
      ],
      "execution_count": null,
      "outputs": [
        {
          "output_type": "stream",
          "text": [
            "LogisticRegression accuracy: 0.6095648765190121\n"
          ],
          "name": "stdout"
        }
      ]
    },
    {
      "cell_type": "code",
      "metadata": {
        "colab": {
          "base_uri": "https://localhost:8080/"
        },
        "id": "NfatmAHnl328",
        "outputId": "7d56d50c-37ce-4c61-d5f1-aa9f75497224"
      },
      "source": [
        "print(classification_report(y_test, logR_predicted))\n",
        "print('\\n')\n",
        "print(confusion_matrix(y_test, logR_predicted))"
      ],
      "execution_count": null,
      "outputs": [
        {
          "output_type": "stream",
          "text": [
            "              precision    recall  f1-score   support\n",
            "\n",
            "       False       0.60      0.46      0.52      1169\n",
            "        True       0.62      0.74      0.67      1382\n",
            "\n",
            "    accuracy                           0.61      2551\n",
            "   macro avg       0.61      0.60      0.60      2551\n",
            "weighted avg       0.61      0.61      0.60      2551\n",
            "\n",
            "\n",
            "\n",
            "[[ 536  633]\n",
            " [ 363 1019]]\n"
          ],
          "name": "stdout"
        }
      ]
    },
    {
      "cell_type": "code",
      "metadata": {
        "colab": {
          "base_uri": "https://localhost:8080/"
        },
        "id": "EibORPTbl329",
        "outputId": "da60ad9d-a136-4932-bf1f-f633416f217b"
      },
      "source": [
        "from sklearn.model_selection import cross_validate\n",
        "cv_results = cross_validate(log_reg, x_train_vectorized, y_train, cv=5)\n",
        "cv_results['test_score'].mean()"
      ],
      "execution_count": null,
      "outputs": [
        {
          "output_type": "execute_result",
          "data": {
            "text/plain": [
              "0.60498046875"
            ]
          },
          "metadata": {
            "tags": []
          },
          "execution_count": 43
        }
      ]
    },
    {
      "cell_type": "markdown",
      "metadata": {
        "id": "72ddskS2l32-"
      },
      "source": [
        "# Random Forest"
      ]
    },
    {
      "cell_type": "code",
      "metadata": {
        "id": "rG5Xtupll32_",
        "outputId": "b9c43a1a-6b43-4e60-b5c4-4a0f268ecd6e"
      },
      "source": [
        "random_forest = RandomForestClassifier(n_estimators=10, max_depth=100)\n",
        "random_forest.fit(x_train_vectorized, y_train)\n",
        "\n",
        "print(f\"{random_forest.__class__.__name__} accuracy: {random_forest.score(x_test_vectorized, y_test)}\")"
      ],
      "execution_count": null,
      "outputs": [
        {
          "output_type": "stream",
          "text": [
            "RandomForestClassifier accuracy: 0.5895727165817326\n"
          ],
          "name": "stdout"
        }
      ]
    },
    {
      "cell_type": "code",
      "metadata": {
        "id": "p_QpD308l32_",
        "outputId": "aad8b985-7706-4f4b-97ad-f540fc68f561"
      },
      "source": [
        "rForest_pred = random_forest.predict(x_test_vectorized)\n",
        "print(classification_report(y_test, rForest_pred))\n",
        "print('\\n')\n",
        "print(confusion_matrix(y_test, rForest_pred))"
      ],
      "execution_count": null,
      "outputs": [
        {
          "output_type": "stream",
          "text": [
            "              precision    recall  f1-score   support\n",
            "\n",
            "       False       0.58      0.38      0.46      1169\n",
            "        True       0.59      0.77      0.67      1382\n",
            "\n",
            "    accuracy                           0.59      2551\n",
            "   macro avg       0.59      0.57      0.56      2551\n",
            "weighted avg       0.59      0.59      0.57      2551\n",
            "\n",
            "\n",
            "\n",
            "[[ 442  727]\n",
            " [ 320 1062]]\n"
          ],
          "name": "stdout"
        }
      ]
    },
    {
      "cell_type": "code",
      "metadata": {
        "id": "g6E0AnBgl33A",
        "outputId": "f354ad9d-02f7-417a-b04f-d72a9eeb4ce4"
      },
      "source": [
        "from sklearn.model_selection import cross_validate\n",
        "cv_results = cross_validate(random_forest, x_train_vectorized, y_train, cv=5)\n",
        "cv_results['test_score'].mean()"
      ],
      "execution_count": null,
      "outputs": [
        {
          "output_type": "execute_result",
          "data": {
            "text/plain": [
              "array([0.59912109, 0.57519531, 0.56298828, 0.59033203, 0.58642578])"
            ]
          },
          "metadata": {
            "tags": []
          },
          "execution_count": 47
        }
      ]
    },
    {
      "cell_type": "markdown",
      "metadata": {
        "id": "aql4-Xzel33B"
      },
      "source": [
        "# Multinomial Naive Bayes"
      ]
    },
    {
      "cell_type": "code",
      "metadata": {
        "id": "ezDcosyHl33C",
        "outputId": "7876ed4f-a18f-47c7-d316-164a0313e53e"
      },
      "source": [
        "multi_nb = MultinomialNB()\n",
        "multi_nb.fit(x_train_vectorized, y_train)\n",
        "print(f\"{multi_nb.__class__.__name__} accuracy: {multi_nb.score(x_test_vectorized, y_test)}\")"
      ],
      "execution_count": null,
      "outputs": [
        {
          "output_type": "stream",
          "text": [
            "MultinomialNB accuracy: 0.6203125\n"
          ],
          "name": "stdout"
        }
      ]
    },
    {
      "cell_type": "code",
      "metadata": {
        "id": "0djTN6Z1l33C",
        "outputId": "da002661-8909-4df4-a9d8-ce19b8399bd4"
      },
      "source": [
        "NaiveB_pred = multi_nb.predict(x_test_vectorized)\n",
        "print(classification_report(y_test, NaiveB_pred))\n",
        "print('\\n')\n",
        "print(confusion_matrix(y_test, NaiveB_pred))"
      ],
      "execution_count": null,
      "outputs": [
        {
          "output_type": "stream",
          "text": [
            "              precision    recall  f1-score   support\n",
            "\n",
            "       False       0.59      0.29      0.39      1065\n",
            "        True       0.63      0.85      0.72      1495\n",
            "\n",
            "    accuracy                           0.62      2560\n",
            "   macro avg       0.61      0.57      0.56      2560\n",
            "weighted avg       0.61      0.62      0.59      2560\n",
            "\n",
            "\n",
            "\n",
            "[[ 312  753]\n",
            " [ 219 1276]]\n"
          ],
          "name": "stdout"
        }
      ]
    },
    {
      "cell_type": "code",
      "metadata": {
        "id": "QrDIpEYdl33D"
      },
      "source": [
        "from sklearn.model_selection import cross_validate\n",
        "cv_results = cross_validate(multi_nb, x_train_vectorized, y_train, cv=5)\n",
        "cv_results['test_score'].mean()"
      ],
      "execution_count": null,
      "outputs": []
    },
    {
      "cell_type": "markdown",
      "metadata": {
        "id": "Uiv1ndt_l33E"
      },
      "source": [
        "# SVM"
      ]
    },
    {
      "cell_type": "markdown",
      "metadata": {
        "id": "V3lE2GDql33E"
      },
      "source": [
        "svm = svm.LinearSVC()\n",
        "svm.fit(x_train_vectorized, y_train)\n",
        "print(f\"{svm.__class__.__name__} accuracy: {svm.score(x_test_vectorized, y_test)}\")"
      ]
    },
    {
      "cell_type": "code",
      "metadata": {
        "id": "aGWXQU9El33F",
        "outputId": "b50ac2c9-1475-4477-9df6-c4153a50ea9c"
      },
      "source": [
        "svm_pred = svm.predict(x_test_vectorized)\n",
        "\n",
        "print(classification_report(y_test, svm_pred))\n",
        "print('\\n')\n",
        "print(confusion_matrix(y_test, svm_pred))"
      ],
      "execution_count": null,
      "outputs": [
        {
          "output_type": "stream",
          "text": [
            "              precision    recall  f1-score   support\n",
            "\n",
            "       False       0.50      0.48      0.49      1065\n",
            "        True       0.64      0.66      0.65      1495\n",
            "\n",
            "    accuracy                           0.59      2560\n",
            "   macro avg       0.57      0.57      0.57      2560\n",
            "weighted avg       0.58      0.59      0.58      2560\n",
            "\n",
            "\n",
            "\n",
            "[[509 556]\n",
            " [506 989]]\n"
          ],
          "name": "stdout"
        }
      ]
    },
    {
      "cell_type": "code",
      "metadata": {
        "id": "MRYciIK7l33F"
      },
      "source": [
        "from sklearn.model_selection import cross_validate\n",
        "cv_results = cross_validate(svm, x_train_vectorized, y_train, cv=5)\n",
        "cv_results['test_score'].mean()"
      ],
      "execution_count": null,
      "outputs": []
    },
    {
      "cell_type": "markdown",
      "metadata": {
        "id": "n4GArNNEl33G"
      },
      "source": [
        "# LSTM "
      ]
    },
    {
      "cell_type": "code",
      "metadata": {
        "id": "szfavydawzg5"
      },
      "source": [
        "import gensim\r\n"
      ],
      "execution_count": null,
      "outputs": []
    },
    {
      "cell_type": "code",
      "metadata": {
        "id": "5NHVT3Uzl33G"
      },
      "source": [
        "MAX_WORDS = 100000 # max number of words for tokenizer\n",
        "MAX_SEQUENCE_LENGTH = 1000 # max length of each sentences, including padding\n",
        "EMBEDDING_DIM = 100 # embedding dimensions for word vectors"
      ],
      "execution_count": null,
      "outputs": []
    },
    {
      "cell_type": "code",
      "metadata": {
        "id": "RE67OzfuxbRr"
      },
      "source": [
        "X_train = train['Statement'].str.lower().apply(process_statements)"
      ],
      "execution_count": null,
      "outputs": []
    },
    {
      "cell_type": "code",
      "metadata": {
        "id": "f9Li87_lIPVI"
      },
      "source": [
        "y_train = train['Label'].values"
      ],
      "execution_count": null,
      "outputs": []
    },
    {
      "cell_type": "code",
      "metadata": {
        "id": "OfNYMoxyw5Ip"
      },
      "source": [
        "#Creating Word Vectors by Word2Vec Method\r\n",
        "w2v_model = gensim.models.Word2Vec(sentences=X_train, size=EMBEDDING_DIM, window=5, min_count=1)"
      ],
      "execution_count": null,
      "outputs": []
    },
    {
      "cell_type": "code",
      "metadata": {
        "colab": {
          "base_uri": "https://localhost:8080/"
        },
        "id": "wLTrPU777r1q",
        "outputId": "2f004d8d-8ded-43b9-cc8a-200de5eb9809"
      },
      "source": [
        "#vocab size\r\n",
        "len(w2v_model.wv.vocab)"
      ],
      "execution_count": null,
      "outputs": [
        {
          "output_type": "execute_result",
          "data": {
            "text/plain": [
              "11105"
            ]
          },
          "metadata": {
            "tags": []
          },
          "execution_count": 17
        }
      ]
    },
    {
      "cell_type": "code",
      "metadata": {
        "colab": {
          "base_uri": "https://localhost:8080/"
        },
        "id": "-I-FOO6J71Z9",
        "outputId": "06ca9ef6-0293-43de-a39f-afe464926cbd"
      },
      "source": [
        "#see a sample vector for random word \r\n",
        "w2v_model[\"trump\"]"
      ],
      "execution_count": null,
      "outputs": [
        {
          "output_type": "stream",
          "text": [
            "/usr/local/lib/python3.6/dist-packages/ipykernel_launcher.py:2: DeprecationWarning: Call to deprecated `__getitem__` (Method will be removed in 4.0.0, use self.wv.__getitem__() instead).\n",
            "  \n"
          ],
          "name": "stderr"
        },
        {
          "output_type": "execute_result",
          "data": {
            "text/plain": [
              "array([-0.597849  , -0.46278918, -0.02134235,  1.2685605 ,  0.08117362,\n",
              "       -0.69617283,  0.35290307,  0.2836578 , -0.13723062,  0.05921615,\n",
              "       -0.3287268 , -0.4358067 , -0.35092267, -0.36725906, -0.4602495 ,\n",
              "        1.3094177 , -0.3507463 , -0.11689556, -0.6082933 , -0.637542  ,\n",
              "        0.18692851, -0.28161675,  0.559245  , -0.9020134 ,  0.84896153,\n",
              "        0.592834  , -0.31903082, -0.07025231,  0.08559042, -0.13101088,\n",
              "       -0.24670815, -0.5378606 , -0.91880757, -0.57534295, -1.1831119 ,\n",
              "        0.16727918, -0.48654637,  0.27812335,  0.16510561,  0.21428435,\n",
              "        0.8642278 ,  0.1970363 ,  0.2864258 , -0.34030235, -0.22911598,\n",
              "        0.3520643 , -0.26068014, -0.3819278 , -0.53183085, -0.6750011 ,\n",
              "       -0.17523846,  0.7558638 ,  0.02904058, -0.28940105,  0.06133182,\n",
              "        0.16688414, -0.36799258,  0.40473673, -0.18812414, -0.84920573,\n",
              "        0.07208017, -0.9706584 , -0.30093727,  0.21313599, -0.17334029,\n",
              "       -0.45736948, -0.16763312,  0.35069257, -0.57488376, -1.2096217 ,\n",
              "       -0.04043051, -0.42022356,  0.02059554, -0.84091675, -0.52776355,\n",
              "       -0.52917075, -0.19634295,  1.2472274 , -0.7239231 , -0.5433176 ,\n",
              "        0.71126044, -0.09996272, -0.79683214,  0.10463312, -0.34437755,\n",
              "        0.44143954,  0.10860462, -0.23066601,  0.30191815,  0.57061464,\n",
              "        0.49486414,  0.53366065, -0.4808762 , -0.48040676, -0.53905946,\n",
              "        0.32510173, -0.29953098, -0.41560066,  0.11185355,  0.63127923],\n",
              "      dtype=float32)"
            ]
          },
          "metadata": {
            "tags": []
          },
          "execution_count": 53
        }
      ]
    },
    {
      "cell_type": "code",
      "metadata": {
        "colab": {
          "base_uri": "https://localhost:8080/"
        },
        "id": "7BIcLS4y8KQU",
        "outputId": "e8240b85-9de7-4121-f0ee-98a2e5eb11fe"
      },
      "source": [
        "#Feeding US Presidents\r\n",
        "w2v_model.wv.most_similar(positive=[\"trump\",\"obama\", \"clinton\"])"
      ],
      "execution_count": null,
      "outputs": [
        {
          "output_type": "execute_result",
          "data": {
            "text/plain": [
              "[('says', 0.9981278777122498),\n",
              " ('said', 0.9978582859039307),\n",
              " ('promised', 0.9978460073471069),\n",
              " ('obamas', 0.9977317452430725),\n",
              " ('clintons', 0.9974961280822754),\n",
              " ('bush', 0.9969936609268188),\n",
              " ('george', 0.9969079494476318),\n",
              " ('administration', 0.9968618154525757),\n",
              " ('senator', 0.996834397315979),\n",
              " ('wants', 0.9968098402023315)]"
            ]
          },
          "metadata": {
            "tags": []
          },
          "execution_count": 26
        }
      ]
    },
    {
      "cell_type": "code",
      "metadata": {
        "id": "RXbrNoiql33H",
        "colab": {
          "base_uri": "https://localhost:8080/"
        },
        "outputId": "33637509-dd02-400e-fc51-0e175107ef5f"
      },
      "source": [
        "y_train = train[\"Label\"].values\n",
        "\n",
        "tokenizer = Tokenizer()\n",
        "tokenizer.fit_on_texts(X_train)\n",
        "sequences = tokenizer.texts_to_sequences(X_train)\n",
        "sequences_matrix = sequence.pad_sequences(sequences,MAX_SEQUENCE_LENGTH)\n",
        "word_index = tokenizer.word_index\n",
        "print(\"Vocabulary size:\", len(word_index))"
      ],
      "execution_count": null,
      "outputs": [
        {
          "output_type": "stream",
          "text": [
            "Vocabulary size: 11105\n"
          ],
          "name": "stdout"
        }
      ]
    },
    {
      "cell_type": "markdown",
      "metadata": {
        "id": "uiSpeb9jDc9p"
      },
      "source": [
        "word -> word_index property of instance"
      ]
    },
    {
      "cell_type": "code",
      "metadata": {
        "colab": {
          "base_uri": "https://localhost:8080/"
        },
        "id": "jrxGkmpgDXWb",
        "outputId": "83e13343-44ee-4ce8-f20d-c15690006ddd"
      },
      "source": [
        "word_index = tokenizer.word_index\r\n",
        "for word, num in word_index.items():\r\n",
        "    print(f\"{word} -> {num}\")\r\n",
        "    if num == 10:\r\n",
        "        break       "
      ],
      "execution_count": null,
      "outputs": [
        {
          "output_type": "stream",
          "text": [
            "says -> 1\n",
            "percent -> 2\n",
            "state -> 3\n",
            "obama -> 4\n",
            "tax -> 5\n",
            "years -> 6\n",
            "president -> 7\n",
            "health -> 8\n",
            "people -> 9\n",
            "states -> 10\n"
          ],
          "name": "stdout"
        }
      ]
    },
    {
      "cell_type": "code",
      "metadata": {
        "id": "2F697EqP9vL0"
      },
      "source": [
        "# Function to create weight matrix from word2vec gensim model\r\n",
        "def get_weight_matrix(model, word_index):\r\n",
        "    # total vocabulary size plus 0 for unknown words\r\n",
        "    vocab_size = len(word_index) + 1\r\n",
        "    # define weight matrix dimensions with all 0\r\n",
        "    weight_matrix = np.zeros((vocab_size, EMBEDDING_DIM))\r\n",
        "    # step vocab, store vectors using the Tokenizer's integer mapping\r\n",
        "    for word, i in word_index.items():\r\n",
        "        weight_matrix[i] = model[word]\r\n",
        "    return weight_matrix"
      ],
      "execution_count": null,
      "outputs": []
    },
    {
      "cell_type": "code",
      "metadata": {
        "colab": {
          "base_uri": "https://localhost:8080/"
        },
        "id": "mB3-5Khk95gf",
        "outputId": "d7fb6eec-0cbd-4959-ad30-228b4214c151"
      },
      "source": [
        "#Getting embedding vectors from word2vec and usings it as weights of non-trainable keras embedding layer\r\n",
        "embedding_vectors = get_weight_matrix(w2v_model, word_index)"
      ],
      "execution_count": null,
      "outputs": [
        {
          "output_type": "stream",
          "text": [
            "/usr/local/lib/python3.6/dist-packages/ipykernel_launcher.py:9: DeprecationWarning: Call to deprecated `__getitem__` (Method will be removed in 4.0.0, use self.wv.__getitem__() instead).\n",
            "  if __name__ == '__main__':\n"
          ],
          "name": "stderr"
        }
      ]
    },
    {
      "cell_type": "code",
      "metadata": {
        "id": "cmkIF5OhH0OE"
      },
      "source": [
        "vocab_size = len(tokenizer.word_index) + 1"
      ],
      "execution_count": null,
      "outputs": []
    },
    {
      "cell_type": "code",
      "metadata": {
        "id": "hMyGRemXFsV8"
      },
      "source": [
        "#Defining Neural Network\r\n",
        "model = Sequential()\r\n",
        "#Non-trainable embeddidng layer\r\n",
        "model.add(Embedding(vocab_size, output_dim=EMBEDDING_DIM, weights=[embedding_vectors], input_length=MAX_SEQUENCE_LENGTH, trainable=False))\r\n",
        "#LSTM \r\n",
        "model.add(LSTM(units=128))\r\n",
        "model.add(Dense(1, activation='sigmoid'))\r\n",
        "model.compile(optimizer='adam', loss='binary_crossentropy', metrics=['acc'])\r\n",
        "\r\n",
        "del embedding_vectors"
      ],
      "execution_count": null,
      "outputs": []
    },
    {
      "cell_type": "code",
      "metadata": {
        "colab": {
          "base_uri": "https://localhost:8080/"
        },
        "id": "UVaYx9TSH8G1",
        "outputId": "ba32822e-80de-4ae2-bc2a-79e136ea70a3"
      },
      "source": [
        "model.summary()"
      ],
      "execution_count": null,
      "outputs": [
        {
          "output_type": "stream",
          "text": [
            "Model: \"sequential_7\"\n",
            "_________________________________________________________________\n",
            "Layer (type)                 Output Shape              Param #   \n",
            "=================================================================\n",
            "embedding_3 (Embedding)      (None, 1000, 100)         1110600   \n",
            "_________________________________________________________________\n",
            "lstm (LSTM)                  (None, 128)               117248    \n",
            "_________________________________________________________________\n",
            "dense (Dense)                (None, 1)                 129       \n",
            "=================================================================\n",
            "Total params: 1,227,977\n",
            "Trainable params: 117,377\n",
            "Non-trainable params: 1,110,600\n",
            "_________________________________________________________________\n"
          ],
          "name": "stdout"
        }
      ]
    },
    {
      "cell_type": "code",
      "metadata": {
        "colab": {
          "base_uri": "https://localhost:8080/"
        },
        "id": "HJhfpj6aJt1d",
        "outputId": "0256573a-ae79-4989-8dc1-2b7c4b8c8ca9"
      },
      "source": [
        "print(y_train)"
      ],
      "execution_count": null,
      "outputs": [
        {
          "output_type": "stream",
          "text": [
            "[False  True  True ...  True False False]\n"
          ],
          "name": "stdout"
        }
      ]
    },
    {
      "cell_type": "code",
      "metadata": {
        "colab": {
          "base_uri": "https://localhost:8080/"
        },
        "id": "6iuJFeodtQ8A",
        "outputId": "1a78a0a2-7a0f-4798-d849-ae4243b370a8"
      },
      "source": [
        "data_model = model.fit(sequences_matrix, y_train, validation_split=0.3, epochs=5)"
      ],
      "execution_count": null,
      "outputs": [
        {
          "output_type": "stream",
          "text": [
            "Epoch 1/5\n",
            "224/224 [==============================] - 11s 47ms/step - loss: 0.6698 - acc: 0.5852 - val_loss: 0.6743 - val_acc: 0.5915\n",
            "Epoch 2/5\n",
            "224/224 [==============================] - 10s 46ms/step - loss: 0.6709 - acc: 0.5843 - val_loss: 0.6714 - val_acc: 0.5863\n",
            "Epoch 3/5\n",
            "224/224 [==============================] - 10s 46ms/step - loss: 0.6711 - acc: 0.5865 - val_loss: 0.6753 - val_acc: 0.5846\n",
            "Epoch 4/5\n",
            "224/224 [==============================] - 10s 46ms/step - loss: 0.6696 - acc: 0.5872 - val_loss: 0.6725 - val_acc: 0.5785\n",
            "Epoch 5/5\n",
            "224/224 [==============================] - 10s 47ms/step - loss: 0.6695 - acc: 0.5871 - val_loss: 0.6798 - val_acc: 0.5745\n"
          ],
          "name": "stdout"
        }
      ]
    },
    {
      "cell_type": "code",
      "metadata": {
        "id": "qVCT2fclNVn2"
      },
      "source": [
        "test_sequences = tokenizer.texts_to_sequences(test['Statement'])\r\n",
        "test_sequences_matrix = sequence.pad_sequences(test_sequences,maxlen=MAX_SEQUENCE_LENGTH)"
      ],
      "execution_count": null,
      "outputs": []
    },
    {
      "cell_type": "code",
      "metadata": {
        "colab": {
          "base_uri": "https://localhost:8080/"
        },
        "id": "upgz-2VftU1g",
        "outputId": "dfec4eb7-2fce-4136-e490-e9e69e03257a"
      },
      "source": [
        "accr = model.evaluate(test_sequences_matrix,y_test)"
      ],
      "execution_count": null,
      "outputs": [
        {
          "output_type": "stream",
          "text": [
            "80/80 [==============================] - 2s 20ms/step - loss: 0.6836 - acc: 0.5559\n"
          ],
          "name": "stdout"
        }
      ]
    },
    {
      "cell_type": "code",
      "metadata": {
        "colab": {
          "base_uri": "https://localhost:8080/"
        },
        "id": "TfPjv8S7tWqp",
        "outputId": "b86aa25b-c681-454b-f714-1a3773265049"
      },
      "source": [
        "print('Test set\\n  Loss: {:0.3f}\\n  Accuracy: {:0.3f}'.format(accr[0],accr[1]))"
      ],
      "execution_count": null,
      "outputs": [
        {
          "output_type": "stream",
          "text": [
            "Test set\n",
            "  Loss: 0.684\n",
            "  Accuracy: 0.556\n"
          ],
          "name": "stdout"
        }
      ]
    },
    {
      "cell_type": "code",
      "metadata": {
        "colab": {
          "base_uri": "https://localhost:8080/",
          "height": 313
        },
        "id": "9UwhPU5wtYKc",
        "outputId": "1aaa8d90-c2ee-45cc-c5cf-736b1659cd8d"
      },
      "source": [
        "plt.plot(data_model.history['loss'])\r\n",
        "plt.title('Loss')\r\n",
        "plt.xlabel('Epochs')\r\n",
        "plt.ylabel('Loss')"
      ],
      "execution_count": null,
      "outputs": [
        {
          "output_type": "execute_result",
          "data": {
            "text/plain": [
              "Text(0, 0.5, 'Loss')"
            ]
          },
          "metadata": {
            "tags": []
          },
          "execution_count": 34
        },
        {
          "output_type": "display_data",
          "data": {
            "image/png": "[encoded data removed]",
            "text/plain": [
              "<Figure size 432x288 with 1 Axes>"
            ]
          },
          "metadata": {
            "tags": [],
            "needs_background": "light"
          }
        }
      ]
    },
    {
      "cell_type": "code",
      "metadata": {
        "colab": {
          "base_uri": "https://localhost:8080/",
          "height": 313
        },
        "id": "55UgOX3TtdE0",
        "outputId": "b6c083d7-1a35-44b2-9db1-8c18b86997e7"
      },
      "source": [
        "plt.plot(data_model.history['val_loss'])\r\n",
        "plt.title('Val Loss')\r\n",
        "plt.xlabel('Epochs')\r\n",
        "plt.ylabel('Val Loss')"
      ],
      "execution_count": null,
      "outputs": [
        {
          "output_type": "execute_result",
          "data": {
            "text/plain": [
              "Text(0, 0.5, 'Val Loss')"
            ]
          },
          "metadata": {
            "tags": []
          },
          "execution_count": 35
        },
        {
          "output_type": "display_data",
          "data": {
            "image/png": "[encoded data removed]",
            "text/plain": [
              "<Figure size 432x288 with 1 Axes>"
            ]
          },
          "metadata": {
            "tags": [],
            "needs_background": "light"
          }
        }
      ]
    }
  ]
}